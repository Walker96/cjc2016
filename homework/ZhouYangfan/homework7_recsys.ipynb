{
 "cells": [
  {
   "cell_type": "code",
   "execution_count": 31,
   "metadata": {
    "collapsed": true
   },
   "outputs": [],
   "source": [
    "# A dictionary of movie critics and their ratings of a small\n",
    "# set of movies\n",
    "critics={'Lisa Rose': {'Lady in the Water': 2.5, 'Snakes on a Plane': 3.5,\n",
    "      'Just My Luck': 3.0, 'Superman Returns': 3.5, 'You, Me and Dupree': 2.5,\n",
    "      'The Night Listener': 3.0},\n",
    "     'Gene Seymour': {'Lady in the Water': 3.0, 'Snakes on a Plane': 3.5,\n",
    "      'Just My Luck': 1.5, 'Superman Returns': 5.0, 'The Night Listener': 3.0,\n",
    "      'You, Me and Dupree': 3.5},\n",
    "     'Michael Phillips': {'Lady in the Water': 2.5, 'Snakes on a Plane': 3.0,\n",
    "      'Superman Returns': 3.5, 'The Night Listener': 4.0},\n",
    "     'Claudia Puig': {'Snakes on a Plane': 3.5, 'Just My Luck': 3.0,\n",
    "      'The Night Listener': 4.5, 'Superman Returns': 4.0,\n",
    "      'You, Me and Dupree': 2.5},\n",
    "     'Mick LaSalle': {'Lady in the Water': 3.0, 'Snakes on a Plane': 4.0,\n",
    "      'Just My Luck': 2.0, 'Superman Returns': 3.0, 'The Night Listener': 3.0,\n",
    "      'You, Me and Dupree': 2.0},\n",
    "     'Jack Matthews': {'Lady in the Water': 3.0, 'Snakes on a Plane': 4.0,\n",
    "      'The Night Listener': 3.0, 'Superman Returns': 5.0, 'You, Me and Dupree': 3.5},\n",
    "     'Toby': {'Snakes on a Plane':4.5,'You, Me and Dupree':1.0,'Superman Returns':4.0}}"
   ]
  },
  {
   "cell_type": "code",
   "execution_count": 32,
   "metadata": {
    "collapsed": false
   },
   "outputs": [
    {
     "data": {
      "text/plain": [
       "2.5"
      ]
     },
     "execution_count": 32,
     "metadata": {},
     "output_type": "execute_result"
    }
   ],
   "source": [
    "critics['Lisa Rose']['Lady in the Water']"
   ]
  },
  {
   "cell_type": "code",
   "execution_count": 33,
   "metadata": {
    "collapsed": false
   },
   "outputs": [
    {
     "data": {
      "text/plain": [
       "{'Snakes on a Plane': 4.5, 'Superman Returns': 4.0, 'You, Me and Dupree': 1.0}"
      ]
     },
     "execution_count": 33,
     "metadata": {},
     "output_type": "execute_result"
    }
   ],
   "source": [
    "critics['Toby']"
   ]
  },
  {
   "cell_type": "markdown",
   "metadata": {},
   "source": [
    "# find similar users"
   ]
  },
  {
   "cell_type": "code",
   "execution_count": 34,
   "metadata": {
    "collapsed": false
   },
   "outputs": [
    {
     "data": {
      "text/plain": [
       "3.1622776601683795"
      ]
     },
     "execution_count": 34,
     "metadata": {},
     "output_type": "execute_result"
    }
   ],
   "source": [
    "# 欧几里得距离\n",
    "import numpy as np\n",
    "np.sqrt(np.power(5-4, 2) + np.power(4-1, 2))"
   ]
  },
  {
   "cell_type": "code",
   "execution_count": 35,
   "metadata": {
    "collapsed": true
   },
   "outputs": [],
   "source": [
    "def sim_distance(prefs,person1,person2):\n",
    "    # Get the list of shared_items\n",
    "    si={}\n",
    "    for item in prefs[person1]:\n",
    "        if item in prefs[person2]:\n",
    "            si[item]=1\n",
    "    # if they have no ratings in common, return 0\n",
    "    if len(si)==0: return 0\n",
    "    # Add up the squares of all the differences\n",
    "    sum_of_squares=np.sum([np.power(prefs[person1][item]-prefs[person2][item],2)\n",
    "                      for item in prefs[person1] if item in prefs[person2]])\n",
    "    return 1/(1+sum_of_squares)"
   ]
  },
  {
   "cell_type": "code",
   "execution_count": 36,
   "metadata": {
    "collapsed": false
   },
   "outputs": [
    {
     "data": {
      "text/plain": [
       "0.14814814814814814"
      ]
     },
     "execution_count": 36,
     "metadata": {},
     "output_type": "execute_result"
    }
   ],
   "source": [
    "sim_distance(critics, 'Lisa Rose','Gene Seymour')"
   ]
  },
  {
   "cell_type": "code",
   "execution_count": 37,
   "metadata": {
    "collapsed": true
   },
   "outputs": [],
   "source": [
    "def sim_pearson(prefs,p1,p2):\n",
    "    # Get the list of mutually rated items\n",
    "    si={}\n",
    "    for item in prefs[p1]:\n",
    "        if item in prefs[p2]: si[item]=1\n",
    "    # Find the number of elements\n",
    "    n=len(si)\n",
    "    # if they are no ratings in common, return 0\n",
    "    if n==0: return 0\n",
    "    # Add up all the preferences\n",
    "    sum1=np.sum([prefs[p1][it] for it in si])\n",
    "    sum2=np.sum([prefs[p2][it] for it in si])\n",
    "    # Sum up the squares\n",
    "    sum1Sq=np.sum([np.power(prefs[p1][it],2) for it in si])\n",
    "    sum2Sq=np.sum([np.power(prefs[p2][it],2) for it in si])\n",
    "    # Sum up the products\n",
    "    pSum=np.sum([prefs[p1][it]*prefs[p2][it] for it in si])\n",
    "    # Calculate Pearson score\n",
    "    num=pSum-(sum1*sum2/n)\n",
    "    den=np.sqrt((sum1Sq-np.power(sum1,2)/n)*(sum2Sq-np.power(sum2,2)/n))\n",
    "    if den==0: return 0\n",
    "    return num/den"
   ]
  },
  {
   "cell_type": "code",
   "execution_count": 38,
   "metadata": {
    "collapsed": false
   },
   "outputs": [
    {
     "data": {
      "text/plain": [
       "0.39605901719066977"
      ]
     },
     "execution_count": 38,
     "metadata": {},
     "output_type": "execute_result"
    }
   ],
   "source": [
    "sim_pearson(critics, 'Lisa Rose','Gene Seymour')"
   ]
  },
  {
   "cell_type": "code",
   "execution_count": 39,
   "metadata": {
    "collapsed": true
   },
   "outputs": [],
   "source": [
    "# Returns the best matches for person from the prefs dictionary.\n",
    "# Number of results and similarity function are optional params.\n",
    "def topMatches(prefs,person,n=5,similarity=sim_pearson):\n",
    "    scores=[(similarity(prefs,person,other),other)\n",
    "        for other in prefs if other!=person]\n",
    "    # Sort the list so the highest scores appear at the top \n",
    "    scores.sort( )\n",
    "    scores.reverse( )\n",
    "    return scores[0:n]"
   ]
  },
  {
   "cell_type": "code",
   "execution_count": 40,
   "metadata": {
    "collapsed": false
   },
   "outputs": [
    {
     "data": {
      "text/plain": [
       "[(0.99124070716192991, 'Lisa Rose'),\n",
       " (0.92447345164190486, 'Mick LaSalle'),\n",
       " (0.89340514744156474, 'Claudia Puig')]"
      ]
     },
     "execution_count": 40,
     "metadata": {},
     "output_type": "execute_result"
    }
   ],
   "source": [
    "topMatches(critics,'Toby',n=3) # topN"
   ]
  },
  {
   "cell_type": "markdown",
   "metadata": {},
   "source": [
    "# recommending items"
   ]
  },
  {
   "cell_type": "code",
   "execution_count": 41,
   "metadata": {
    "collapsed": true
   },
   "outputs": [],
   "source": [
    "\n",
    "# Gets recommendations for a person by using a weighted average\n",
    "# of every other user's rankings\n",
    "def getRecommendations(prefs,person,similarity=sim_pearson):\n",
    "    totals={}\n",
    "    simSums={}\n",
    "    for other in prefs:\n",
    "        # don't compare me to myself\n",
    "        if other==person: continue\n",
    "        sim=similarity(prefs,person,other)\n",
    "        # ignore scores of zero or lower\n",
    "        if sim<=0: continue\n",
    "        for item in prefs[other]:   \n",
    "            # only score movies I haven't seen yet\n",
    "            if item not in prefs[person] or prefs[person][item]==0:\n",
    "                # Similarity * Score\n",
    "                totals.setdefault(item,0)\n",
    "                totals[item]+=prefs[other][item]*sim\n",
    "                # Sum of similarities\n",
    "                simSums.setdefault(item,0)\n",
    "                simSums[item]+=sim\n",
    "    # Create the normalized list\n",
    "    rankings=[(total/simSums[item],item) for item,total in totals.items()]\n",
    "    # Return the sorted list\n",
    "    rankings.sort()\n",
    "    rankings.reverse()\n",
    "    return rankings"
   ]
  },
  {
   "cell_type": "code",
   "execution_count": 42,
   "metadata": {
    "collapsed": false
   },
   "outputs": [
    {
     "data": {
      "text/plain": [
       "[(3.3477895267131013, 'The Night Listener'),\n",
       " (2.8325499182641614, 'Lady in the Water'),\n",
       " (2.5309807037655645, 'Just My Luck')]"
      ]
     },
     "execution_count": 42,
     "metadata": {},
     "output_type": "execute_result"
    }
   ],
   "source": [
    "# Now you can find out what movies I should watch next:\n",
    "getRecommendations(critics,'Toby')"
   ]
  },
  {
   "cell_type": "code",
   "execution_count": 43,
   "metadata": {
    "collapsed": false
   },
   "outputs": [
    {
     "data": {
      "text/plain": [
       "[(3.5002478401415877, 'The Night Listener'),\n",
       " (2.7561242939959363, 'Lady in the Water'),\n",
       " (2.4619884860743739, 'Just My Luck')]"
      ]
     },
     "execution_count": 43,
     "metadata": {},
     "output_type": "execute_result"
    }
   ],
   "source": [
    "# You’ll find that the results are only affected very slightly by the choice of similarity metric.\n",
    "getRecommendations(critics,'Toby',similarity=sim_distance)"
   ]
  },
  {
   "cell_type": "markdown",
   "metadata": {},
   "source": [
    "# item-based filtering"
   ]
  },
  {
   "cell_type": "code",
   "execution_count": 44,
   "metadata": {
    "collapsed": true
   },
   "outputs": [],
   "source": [
    "# you just need to swap the people and the items. \n",
    "def transformPrefs(prefs):\n",
    "    result={}\n",
    "    for person in prefs:\n",
    "        for item in prefs[person]:\n",
    "            result.setdefault(item,{})\n",
    "            # Flip item and person\n",
    "            result[item][person]=prefs[person][item]\n",
    "    return result\n",
    "\n",
    "movies = transformPrefs(critics)"
   ]
  },
  {
   "cell_type": "code",
   "execution_count": 45,
   "metadata": {
    "collapsed": false
   },
   "outputs": [
    {
     "data": {
      "text/plain": [
       "[(0.65795169495976946, 'You, Me and Dupree'),\n",
       " (0.48795003647426888, 'Lady in the Water'),\n",
       " (0.11180339887498941, 'Snakes on a Plane'),\n",
       " (-0.17984719479905439, 'The Night Listener'),\n",
       " (-0.42289003161103106, 'Just My Luck')]"
      ]
     },
     "execution_count": 45,
     "metadata": {},
     "output_type": "execute_result"
    }
   ],
   "source": [
    "\n",
    "topMatches(movies,'Superman Returns')"
   ]
  },
  {
   "cell_type": "code",
   "execution_count": 46,
   "metadata": {
    "collapsed": false
   },
   "outputs": [
    {
     "data": {
      "text/plain": [
       "{'Just My Luck': [(0.22222222222222221, 'Lady in the Water'),\n",
       "  (0.18181818181818182, 'You, Me and Dupree'),\n",
       "  (0.15384615384615385, 'The Night Listener'),\n",
       "  (0.10526315789473684, 'Snakes on a Plane'),\n",
       "  (0.064516129032258063, 'Superman Returns')],\n",
       " 'Lady in the Water': [(0.40000000000000002, 'You, Me and Dupree'),\n",
       "  (0.2857142857142857, 'The Night Listener'),\n",
       "  (0.22222222222222221, 'Snakes on a Plane'),\n",
       "  (0.22222222222222221, 'Just My Luck'),\n",
       "  (0.090909090909090912, 'Superman Returns')],\n",
       " 'Snakes on a Plane': [(0.22222222222222221, 'Lady in the Water'),\n",
       "  (0.18181818181818182, 'The Night Listener'),\n",
       "  (0.16666666666666666, 'Superman Returns'),\n",
       "  (0.10526315789473684, 'Just My Luck'),\n",
       "  (0.05128205128205128, 'You, Me and Dupree')],\n",
       " 'Superman Returns': [(0.16666666666666666, 'Snakes on a Plane'),\n",
       "  (0.10256410256410256, 'The Night Listener'),\n",
       "  (0.090909090909090912, 'Lady in the Water'),\n",
       "  (0.064516129032258063, 'Just My Luck'),\n",
       "  (0.053333333333333337, 'You, Me and Dupree')],\n",
       " 'The Night Listener': [(0.2857142857142857, 'Lady in the Water'),\n",
       "  (0.18181818181818182, 'Snakes on a Plane'),\n",
       "  (0.15384615384615385, 'Just My Luck'),\n",
       "  (0.14814814814814814, 'You, Me and Dupree'),\n",
       "  (0.10256410256410256, 'Superman Returns')],\n",
       " 'You, Me and Dupree': [(0.40000000000000002, 'Lady in the Water'),\n",
       "  (0.18181818181818182, 'Just My Luck'),\n",
       "  (0.14814814814814814, 'The Night Listener'),\n",
       "  (0.053333333333333337, 'Superman Returns'),\n",
       "  (0.05128205128205128, 'Snakes on a Plane')]}"
      ]
     },
     "execution_count": 46,
     "metadata": {},
     "output_type": "execute_result"
    }
   ],
   "source": [
    "def calculateSimilarItems(prefs,n=10):\n",
    "    # Create a dictionary of items showing which other items they\n",
    "    # are most similar to.\n",
    "    result={}\n",
    "    # Invert the preference matrix to be item-centric\n",
    "    itemPrefs=transformPrefs(prefs)\n",
    "    c=0\n",
    "    for item in itemPrefs:\n",
    "        # Status updates for large datasets\n",
    "        c+=1\n",
    "        if c%100==0: print \"%d / %d\" % (c,len(itemPrefs))\n",
    "        # Find the most similar items to this one\n",
    "        scores=topMatches(itemPrefs,item,n=n,similarity=sim_distance)\n",
    "        result[item]=scores\n",
    "    return result\n",
    "\n",
    "itemsim=calculateSimilarItems(critics) \n",
    "itemsim"
   ]
  },
  {
   "cell_type": "code",
   "execution_count": 47,
   "metadata": {
    "collapsed": false
   },
   "outputs": [
    {
     "data": {
      "text/plain": [
       "[(3.182634730538922, 'The Night Listener'),\n",
       " (2.5983318700614575, 'Just My Luck'),\n",
       " (2.4730878186968837, 'Lady in the Water')]"
      ]
     },
     "execution_count": 47,
     "metadata": {},
     "output_type": "execute_result"
    }
   ],
   "source": [
    "def getRecommendedItems(prefs,itemMatch,user):\n",
    "    userRatings=prefs[user]\n",
    "    scores={}\n",
    "    totalSim={}\n",
    "    # Loop over items rated by this user\n",
    "    for (item,rating) in userRatings.items( ):\n",
    "        # Loop over items similar to this one\n",
    "        for (similarity,item2) in itemMatch[item]:\n",
    "            # Ignore if this user has already rated this item\n",
    "            if item2 in userRatings: continue\n",
    "            # Weighted sum of rating times similarity\n",
    "            scores.setdefault(item2,0)\n",
    "            scores[item2]+=similarity*rating\n",
    "            # Sum of all the similarities\n",
    "            totalSim.setdefault(item2,0)\n",
    "            totalSim[item2]+=similarity\n",
    "    # Divide each total score by total weighting to get an average\n",
    "    rankings=[(score/totalSim[item],item) for item,score in scores.items( )]\n",
    "    # Return the rankings from highest to lowest\n",
    "    rankings.sort( )\n",
    "    rankings.reverse( )\n",
    "    return rankings\n",
    "\n",
    "getRecommendedItems(critics,itemsim,'Toby')"
   ]
  },
  {
   "cell_type": "markdown",
   "metadata": {},
   "source": [
    "# 使用graphlab进行电影推荐"
   ]
  },
  {
   "cell_type": "code",
   "execution_count": 57,
   "metadata": {
    "collapsed": false
   },
   "outputs": [
    {
     "name": "stderr",
     "output_type": "stream",
     "text": [
      "A newer version of GraphLab Create (v1.9) is available! Your current version is v1.8.5.\n",
      "\n",
      "You can use pip to upgrade the graphlab-create package. For more information see https://dato.com/products/create/upgrade.\n"
     ]
    }
   ],
   "source": [
    "%matplotlib inline\n",
    "import graphlab\n",
    "graphlab.canvas.set_target(\"ipynb\")\n",
    "# set canvas to show sframes and sgraphs in ipython notebook\n",
    "import matplotlib.pyplot as plt\n"
   ]
  },
  {
   "cell_type": "code",
   "execution_count": 59,
   "metadata": {
    "collapsed": false
   },
   "outputs": [
    {
     "data": {
      "text/html": [
       "<pre>Finished parsing file /Users/apricot/documents/github/bigdata/ml-1m/ratings.dat</pre>"
      ],
      "text/plain": [
       "Finished parsing file /Users/apricot/documents/github/bigdata/ml-1m/ratings.dat"
      ]
     },
     "metadata": {},
     "output_type": "display_data"
    },
    {
     "data": {
      "text/html": [
       "<pre>Parsing completed. Parsed 100 lines in 0.948516 secs.</pre>"
      ],
      "text/plain": [
       "Parsing completed. Parsed 100 lines in 0.948516 secs."
      ]
     },
     "metadata": {},
     "output_type": "display_data"
    },
    {
     "name": "stdout",
     "output_type": "stream",
     "text": [
      "------------------------------------------------------\n",
      "Inferred types from first line of file as \n",
      "column_type_hints=[str]\n",
      "If parsing fails due to incorrect types, you can correct\n",
      "the inferred type list above and pass it to read_csv in\n",
      "the column_type_hints argument\n",
      "------------------------------------------------------\n"
     ]
    },
    {
     "data": {
      "text/html": [
       "<pre>Finished parsing file /Users/apricot/documents/github/bigdata/ml-1m/ratings.dat</pre>"
      ],
      "text/plain": [
       "Finished parsing file /Users/apricot/documents/github/bigdata/ml-1m/ratings.dat"
      ]
     },
     "metadata": {},
     "output_type": "display_data"
    },
    {
     "data": {
      "text/html": [
       "<pre>Parsing completed. Parsed 1000209 lines in 0.771145 secs.</pre>"
      ],
      "text/plain": [
       "Parsing completed. Parsed 1000209 lines in 0.771145 secs."
      ]
     },
     "metadata": {},
     "output_type": "display_data"
    },
    {
     "data": {
      "text/html": [
       "<pre>Finished parsing file /Users/apricot/documents/github/bigdata/ml-1m/users.dat</pre>"
      ],
      "text/plain": [
       "Finished parsing file /Users/apricot/documents/github/bigdata/ml-1m/users.dat"
      ]
     },
     "metadata": {},
     "output_type": "display_data"
    },
    {
     "data": {
      "text/html": [
       "<pre>Parsing completed. Parsed 100 lines in 0.030016 secs.</pre>"
      ],
      "text/plain": [
       "Parsing completed. Parsed 100 lines in 0.030016 secs."
      ]
     },
     "metadata": {},
     "output_type": "display_data"
    },
    {
     "name": "stdout",
     "output_type": "stream",
     "text": [
      "------------------------------------------------------\n",
      "Inferred types from first line of file as \n",
      "column_type_hints=[str]\n",
      "If parsing fails due to incorrect types, you can correct\n",
      "the inferred type list above and pass it to read_csv in\n",
      "the column_type_hints argument\n",
      "------------------------------------------------------\n"
     ]
    },
    {
     "data": {
      "text/html": [
       "<pre>Finished parsing file /Users/apricot/documents/github/bigdata/ml-1m/users.dat</pre>"
      ],
      "text/plain": [
       "Finished parsing file /Users/apricot/documents/github/bigdata/ml-1m/users.dat"
      ]
     },
     "metadata": {},
     "output_type": "display_data"
    },
    {
     "data": {
      "text/html": [
       "<pre>Parsing completed. Parsed 6040 lines in 0.013057 secs.</pre>"
      ],
      "text/plain": [
       "Parsing completed. Parsed 6040 lines in 0.013057 secs."
      ]
     },
     "metadata": {},
     "output_type": "display_data"
    },
    {
     "data": {
      "text/html": [
       "<pre>Finished parsing file /Users/apricot/documents/github/bigdata/ml-1m/movies.dat</pre>"
      ],
      "text/plain": [
       "Finished parsing file /Users/apricot/documents/github/bigdata/ml-1m/movies.dat"
      ]
     },
     "metadata": {},
     "output_type": "display_data"
    },
    {
     "data": {
      "text/html": [
       "<pre>Parsing completed. Parsed 100 lines in 0.037257 secs.</pre>"
      ],
      "text/plain": [
       "Parsing completed. Parsed 100 lines in 0.037257 secs."
      ]
     },
     "metadata": {},
     "output_type": "display_data"
    },
    {
     "name": "stdout",
     "output_type": "stream",
     "text": [
      "------------------------------------------------------\n",
      "Inferred types from first line of file as \n",
      "column_type_hints=[str]\n",
      "If parsing fails due to incorrect types, you can correct\n",
      "the inferred type list above and pass it to read_csv in\n",
      "the column_type_hints argument\n",
      "------------------------------------------------------\n"
     ]
    },
    {
     "data": {
      "text/html": [
       "<pre>Finished parsing file /Users/apricot/documents/github/bigdata/ml-1m/movies.dat</pre>"
      ],
      "text/plain": [
       "Finished parsing file /Users/apricot/documents/github/bigdata/ml-1m/movies.dat"
      ]
     },
     "metadata": {},
     "output_type": "display_data"
    },
    {
     "data": {
      "text/html": [
       "<pre>Parsing completed. Parsed 3883 lines in 0.013865 secs.</pre>"
      ],
      "text/plain": [
       "Parsing completed. Parsed 3883 lines in 0.013865 secs."
      ]
     },
     "metadata": {},
     "output_type": "display_data"
    }
   ],
   "source": [
    "data = graphlab.SFrame.read_csv('/Users/apricot/documents/github/bigdata/ml-1m/ratings.dat', delimiter='\\n', \n",
    "                                header=False)['X1'].apply(lambda x: x.split('::')).unpack()\n",
    "for col in data.column_names():\n",
    "    data[col] = data[col].astype(int)\n",
    "data.rename({'X.0': 'user_id', 'X.1': 'movie_id', 'X.2': 'rating', 'X.3': 'timestamp'})\n",
    "data.save('ratings')\n",
    "\n",
    "users = graphlab.SFrame.read_csv('/Users/apricot/documents/github/bigdata/ml-1m/users.dat', delimiter='\\n', \n",
    "                                 header=False)['X1'].apply(lambda x: x.split('::')).unpack()\n",
    "users.rename({'X.0': 'user_id', 'X.1': 'gender', 'X.2': 'age', 'X.3': 'occupation', 'X.4': 'zip-code'})\n",
    "users['user_id'] = users['user_id'].astype(int)\n",
    "users.save('users')\n",
    "\n",
    "items = graphlab.SFrame.read_csv('/Users/apricot/documents/github/bigdata/ml-1m/movies.dat', delimiter='\\n', \n",
    "                                 header=False)['X1'].apply(lambda x: x.split('::')).unpack()\n",
    "items.rename({'X.0': 'movie_id', 'X.1': 'title', 'X.2': 'genre'})\n",
    "items['movie_id'] = items['movie_id'].astype(int)\n",
    "items.save('items')"
   ]
  },
  {
   "cell_type": "code",
   "execution_count": 60,
   "metadata": {
    "collapsed": false
   },
   "outputs": [
    {
     "data": {
      "application/javascript": [
       "$(\"head\").append($(\"<link/>\").attr({\n",
       "  rel:  \"stylesheet\",\n",
       "  type: \"text/css\",\n",
       "  href: \"//cdnjs.cloudflare.com/ajax/libs/font-awesome/4.1.0/css/font-awesome.min.css\"\n",
       "}));\n",
       "$(\"head\").append($(\"<link/>\").attr({\n",
       "  rel:  \"stylesheet\",\n",
       "  type: \"text/css\",\n",
       "  href: \"//dato.com/files/canvas/1.8.5/css/canvas.css\"\n",
       "}));\n",
       "\n",
       "            (function(){\n",
       "\n",
       "                var e = null;\n",
       "                if (typeof element == 'undefined') {\n",
       "                    var scripts = document.getElementsByTagName('script');\n",
       "                    var thisScriptTag = scripts[scripts.length-1];\n",
       "                    var parentDiv = thisScriptTag.parentNode;\n",
       "                    e = document.createElement('div');\n",
       "                    parentDiv.appendChild(e);\n",
       "                } else {\n",
       "                    e = element[0];\n",
       "                }\n",
       "\n",
       "                if (typeof requirejs !== 'undefined') {\n",
       "                    // disable load timeout; ipython_app.js is large and can take a while to load.\n",
       "                    requirejs.config({waitSeconds: 0});\n",
       "                }\n",
       "\n",
       "                require(['//dato.com/files/canvas/1.8.5/js/ipython_app.js'], function(IPythonApp){\n",
       "                    var app = new IPythonApp();\n",
       "                    app.attachView('sframe','Summary', {\"ipython\": true, \"sketch\": {\"rating\": {\"std\": 1.1171012869389116, \"complete\": true, \"min\": 1.0, \"max\": 5.0, \"quantile\": [1.0, 1.0, 1.0, 1.0, 1.0, 1.0, 2.0, 2.0, 2.0, 2.0, 2.0, 2.0, 2.0, 2.0, 2.0, 2.0, 2.0, 3.0, 3.0, 3.0, 3.0, 3.0, 3.0, 3.0, 3.0, 3.0, 3.0, 3.0, 3.0, 3.0, 3.0, 3.0, 3.0, 3.0, 3.0, 3.0, 3.0, 3.0, 3.0, 3.0, 3.0, 3.0, 3.0, 4.0, 4.0, 4.0, 4.0, 4.0, 4.0, 4.0, 4.0, 4.0, 4.0, 4.0, 4.0, 4.0, 4.0, 4.0, 4.0, 4.0, 4.0, 4.0, 4.0, 4.0, 4.0, 4.0, 4.0, 4.0, 4.0, 4.0, 4.0, 4.0, 4.0, 4.0, 4.0, 4.0, 4.0, 4.0, 5.0, 5.0, 5.0, 5.0, 5.0, 5.0, 5.0, 5.0, 5.0, 5.0, 5.0, 5.0, 5.0, 5.0, 5.0, 5.0, 5.0, 5.0, 5.0, 5.0, 5.0, 5.0, 5.0], \"median\": 4.0, \"numeric\": true, \"num_unique\": 5, \"num_undefined\": 0, \"var\": 1.2479152852805724, \"progress\": 1.0, \"size\": 1000209, \"frequent_items\": {\"1\": {\"frequency\": 56174, \"value\": 1}, \"2\": {\"frequency\": 107557, \"value\": 2}, \"3\": {\"frequency\": 261197, \"value\": 3}, \"4\": {\"frequency\": 348971, \"value\": 4}, \"5\": {\"frequency\": 226310, \"value\": 5}}, \"mean\": 3.581564453029318}, \"user_id\": {\"std\": 1728.4118308740278, \"complete\": true, \"min\": 1.0, \"max\": 6040.0, \"quantile\": [1.0, 72.0, 149.0, 202.0, 269.0, 331.0, 411.0, 475.0, 533.0, 592.0, 666.0, 720.0, 780.0, 854.0, 887.0, 955.0, 1016.0, 1078.0, 1128.0, 1179.0, 1224.0, 1284.0, 1333.0, 1390.0, 1448.0, 1506.0, 1591.0, 1635.0, 1680.0, 1733.0, 1780.0, 1846.0, 1899.0, 1947.0, 2002.0, 2051.0, 2102.0, 2164.0, 2225.0, 2303.0, 2402.0, 2449.0, 2529.0, 2621.0, 2685.0, 2777.0, 2837.0, 2895.0, 2942.0, 3018.0, 3071.0, 3142.0, 3208.0, 3274.0, 3320.0, 3391.0, 3441.0, 3493.0, 3539.0, 3602.0, 3650.0, 3688.0, 3749.0, 3808.0, 3847.0, 3927.0, 3992.0, 4041.0, 4077.0, 4133.0, 4187.0, 4258.0, 4310.0, 4371.0, 4425.0, 4477.0, 4517.0, 4590.0, 4658.0, 4726.0, 4793.0, 4852.0, 4922.0, 4995.0, 5048.0, 5106.0, 5185.0, 5270.0, 5306.0, 5367.0, 5440.0, 5506.0, 5566.0, 5616.0, 5676.0, 5738.0, 5795.0, 5848.0, 5915.0, 5978.0, 6040.0], \"median\": 3071.0, \"numeric\": true, \"num_unique\": 6018, \"num_undefined\": 0, \"var\": 2987407.4571053092, \"progress\": 1.0, \"size\": 1000209, \"frequent_items\": {\"1\": {\"frequency\": 53, \"value\": 1}, \"2\": {\"frequency\": 129, \"value\": 2}, \"3\": {\"frequency\": 51, \"value\": 3}, \"4\": {\"frequency\": 21, \"value\": 4}, \"5\": {\"frequency\": 198, \"value\": 5}, \"6\": {\"frequency\": 71, \"value\": 6}, \"7\": {\"frequency\": 31, \"value\": 7}, \"8\": {\"frequency\": 139, \"value\": 8}, \"9\": {\"frequency\": 106, \"value\": 9}, \"10\": {\"frequency\": 401, \"value\": 10}, \"11\": {\"frequency\": 137, \"value\": 11}, \"12\": {\"frequency\": 23, \"value\": 12}, \"13\": {\"frequency\": 108, \"value\": 13}, \"14\": {\"frequency\": 25, \"value\": 14}, \"15\": {\"frequency\": 201, \"value\": 15}, \"16\": {\"frequency\": 35, \"value\": 16}, \"17\": {\"frequency\": 211, \"value\": 17}, \"18\": {\"frequency\": 305, \"value\": 18}, \"19\": {\"frequency\": 255, \"value\": 19}, \"20\": {\"frequency\": 24, \"value\": 20}, \"21\": {\"frequency\": 22, \"value\": 21}, \"22\": {\"frequency\": 297, \"value\": 22}, \"23\": {\"frequency\": 304, \"value\": 23}, \"24\": {\"frequency\": 136, \"value\": 24}, \"25\": {\"frequency\": 85, \"value\": 25}, \"26\": {\"frequency\": 400, \"value\": 26}, \"27\": {\"frequency\": 70, \"value\": 27}, \"28\": {\"frequency\": 107, \"value\": 28}, \"29\": {\"frequency\": 108, \"value\": 29}, \"30\": {\"frequency\": 43, \"value\": 30}, \"31\": {\"frequency\": 119, \"value\": 31}, \"32\": {\"frequency\": 48, \"value\": 32}, \"33\": {\"frequency\": 391, \"value\": 33}, \"34\": {\"frequency\": 164, \"value\": 34}, \"35\": {\"frequency\": 198, \"value\": 35}, \"36\": {\"frequency\": 351, \"value\": 36}, \"37\": {\"frequency\": 53, \"value\": 37}, \"38\": {\"frequency\": 100, \"value\": 38}, \"39\": {\"frequency\": 62, \"value\": 39}, \"40\": {\"frequency\": 96, \"value\": 40}, \"41\": {\"frequency\": 25, \"value\": 41}, \"42\": {\"frequency\": 231, \"value\": 42}, \"43\": {\"frequency\": 24, \"value\": 43}, \"44\": {\"frequency\": 193, \"value\": 44}, \"45\": {\"frequency\": 297, \"value\": 45}, \"46\": {\"frequency\": 41, \"value\": 46}, \"47\": {\"frequency\": 22, \"value\": 47}, \"48\": {\"frequency\": 598, \"value\": 48}, \"49\": {\"frequency\": 108, \"value\": 49}, \"50\": {\"frequency\": 43, \"value\": 50}, \"51\": {\"frequency\": 40, \"value\": 51}, \"52\": {\"frequency\": 79, \"value\": 52}, \"53\": {\"frequency\": 684, \"value\": 53}, \"54\": {\"frequency\": 40, \"value\": 54}, \"55\": {\"frequency\": 25, \"value\": 55}, \"56\": {\"frequency\": 67, \"value\": 56}, \"57\": {\"frequency\": 64, \"value\": 57}, \"58\": {\"frequency\": 437, \"value\": 58}, \"59\": {\"frequency\": 213, \"value\": 59}, \"60\": {\"frequency\": 70, \"value\": 60}, \"61\": {\"frequency\": 36, \"value\": 61}, \"62\": {\"frequency\": 498, \"value\": 62}, \"63\": {\"frequency\": 98, \"value\": 63}, \"64\": {\"frequency\": 27, \"value\": 64}, \"65\": {\"frequency\": 121, \"value\": 65}, \"66\": {\"frequency\": 26, \"value\": 66}, \"67\": {\"frequency\": 64, \"value\": 67}, \"68\": {\"frequency\": 72, \"value\": 68}, \"69\": {\"frequency\": 65, \"value\": 69}, \"70\": {\"frequency\": 54, \"value\": 70}, \"71\": {\"frequency\": 29, \"value\": 71}, \"72\": {\"frequency\": 43, \"value\": 72}, \"73\": {\"frequency\": 255, \"value\": 73}, \"74\": {\"frequency\": 43, \"value\": 74}, \"75\": {\"frequency\": 175, \"value\": 75}, \"76\": {\"frequency\": 87, \"value\": 76}, \"77\": {\"frequency\": 39, \"value\": 77}, \"78\": {\"frequency\": 140, \"value\": 78}, \"79\": {\"frequency\": 31, \"value\": 79}, \"80\": {\"frequency\": 48, \"value\": 80}, \"81\": {\"frequency\": 86, \"value\": 81}, \"82\": {\"frequency\": 118, \"value\": 82}, \"83\": {\"frequency\": 99, \"value\": 83}, \"84\": {\"frequency\": 31, \"value\": 84}, \"85\": {\"frequency\": 39, \"value\": 85}, \"86\": {\"frequency\": 48, \"value\": 86}, \"87\": {\"frequency\": 59, \"value\": 87}, \"88\": {\"frequency\": 68, \"value\": 88}, \"89\": {\"frequency\": 21, \"value\": 89}, \"90\": {\"frequency\": 225, \"value\": 90}, \"91\": {\"frequency\": 44, \"value\": 91}, \"92\": {\"frequency\": 430, \"value\": 92}, \"93\": {\"frequency\": 220, \"value\": 93}, \"94\": {\"frequency\": 21, \"value\": 94}, \"95\": {\"frequency\": 99, \"value\": 95}, \"96\": {\"frequency\": 81, \"value\": 96}, \"97\": {\"frequency\": 154, \"value\": 97}, \"98\": {\"frequency\": 20, \"value\": 98}, \"99\": {\"frequency\": 107, \"value\": 99}, \"100\": {\"frequency\": 76, \"value\": 100}, \"101\": {\"frequency\": 106, \"value\": 101}, \"102\": {\"frequency\": 132, \"value\": 102}, \"103\": {\"frequency\": 115, \"value\": 103}, \"104\": {\"frequency\": 46, \"value\": 104}, \"105\": {\"frequency\": 61, \"value\": 105}, \"106\": {\"frequency\": 47, \"value\": 106}, \"107\": {\"frequency\": 121, \"value\": 107}, \"108\": {\"frequency\": 37, \"value\": 108}, \"109\": {\"frequency\": 81, \"value\": 109}, \"110\": {\"frequency\": 80, \"value\": 110}, \"111\": {\"frequency\": 92, \"value\": 111}, \"112\": {\"frequency\": 60, \"value\": 112}, \"113\": {\"frequency\": 68, \"value\": 113}, \"114\": {\"frequency\": 98, \"value\": 114}, \"115\": {\"frequency\": 38, \"value\": 115}, \"116\": {\"frequency\": 86, \"value\": 116}, \"117\": {\"frequency\": 505, \"value\": 117}, \"118\": {\"frequency\": 224, \"value\": 118}, \"119\": {\"frequency\": 105, \"value\": 119}, \"120\": {\"frequency\": 63, \"value\": 120}, \"121\": {\"frequency\": 72, \"value\": 121}, \"122\": {\"frequency\": 57, \"value\": 122}, \"123\": {\"frequency\": 608, \"value\": 123}, \"124\": {\"frequency\": 23, \"value\": 124}, \"125\": {\"frequency\": 71, \"value\": 125}, \"126\": {\"frequency\": 51, \"value\": 126}, \"127\": {\"frequency\": 174, \"value\": 127}, \"128\": {\"frequency\": 22, \"value\": 128}, \"129\": {\"frequency\": 158, \"value\": 129}, \"130\": {\"frequency\": 135, \"value\": 130}, \"131\": {\"frequency\": 295, \"value\": 131}, \"132\": {\"frequency\": 89, \"value\": 132}, \"133\": {\"frequency\": 170, \"value\": 133}, \"134\": {\"frequency\": 183, \"value\": 134}, \"135\": {\"frequency\": 70, \"value\": 135}, \"136\": {\"frequency\": 378, \"value\": 136}, \"137\": {\"frequency\": 201, \"value\": 137}, \"138\": {\"frequency\": 65, \"value\": 138}, \"139\": {\"frequency\": 245, \"value\": 139}, \"140\": {\"frequency\": 55, \"value\": 140}, \"141\": {\"frequency\": 23, \"value\": 141}, \"142\": {\"frequency\": 47, \"value\": 142}, \"143\": {\"frequency\": 68, \"value\": 143}, \"144\": {\"frequency\": 32, \"value\": 144}, \"145\": {\"frequency\": 39, \"value\": 145}, \"146\": {\"frequency\": 426, \"value\": 146}, \"147\": {\"frequency\": 187, \"value\": 147}, \"148\": {\"frequency\": 624, \"value\": 148}, \"149\": {\"frequency\": 592, \"value\": 149}, \"150\": {\"frequency\": 232, \"value\": 150}, \"151\": {\"frequency\": 471, \"value\": 151}, \"152\": {\"frequency\": 24, \"value\": 152}, \"153\": {\"frequency\": 26, \"value\": 153}, \"154\": {\"frequency\": 44, \"value\": 154}, \"155\": {\"frequency\": 96, \"value\": 155}, \"156\": {\"frequency\": 148, \"value\": 156}, \"157\": {\"frequency\": 427, \"value\": 157}, \"158\": {\"frequency\": 22, \"value\": 158}, \"159\": {\"frequency\": 36, \"value\": 159}, \"160\": {\"frequency\": 20, \"value\": 160}, \"161\": {\"frequency\": 297, \"value\": 161}, \"162\": {\"frequency\": 107, \"value\": 162}, \"163\": {\"frequency\": 514, \"value\": 163}, \"164\": {\"frequency\": 26, \"value\": 164}, \"165\": {\"frequency\": 110, \"value\": 165}, \"166\": {\"frequency\": 410, \"value\": 166}, \"167\": {\"frequency\": 58, \"value\": 167}, \"168\": {\"frequency\": 26, \"value\": 168}, \"169\": {\"frequency\": 552, \"value\": 169}, \"170\": {\"frequency\": 87, \"value\": 170}, \"171\": {\"frequency\": 24, \"value\": 171}, \"172\": {\"frequency\": 23, \"value\": 172}, \"173\": {\"frequency\": 561, \"value\": 173}, \"174\": {\"frequency\": 97, \"value\": 174}, \"175\": {\"frequency\": 317, \"value\": 175}, \"176\": {\"frequency\": 78, \"value\": 176}, \"177\": {\"frequency\": 44, \"value\": 177}, \"178\": {\"frequency\": 115, \"value\": 178}, \"179\": {\"frequency\": 110, \"value\": 179}, \"180\": {\"frequency\": 59, \"value\": 180}, \"181\": {\"frequency\": 301, \"value\": 181}, \"182\": {\"frequency\": 83, \"value\": 182}, \"183\": {\"frequency\": 101, \"value\": 183}, \"184\": {\"frequency\": 84, \"value\": 184}, \"185\": {\"frequency\": 51, \"value\": 185}, \"186\": {\"frequency\": 122, \"value\": 186}, \"187\": {\"frequency\": 417, \"value\": 187}, \"188\": {\"frequency\": 71, \"value\": 188}, \"189\": {\"frequency\": 31, \"value\": 189}, \"190\": {\"frequency\": 153, \"value\": 190}, \"191\": {\"frequency\": 30, \"value\": 191}, \"192\": {\"frequency\": 525, \"value\": 192}, \"193\": {\"frequency\": 242, \"value\": 193}, \"194\": {\"frequency\": 59, \"value\": 194}, \"195\": {\"frequency\": 822, \"value\": 195}, \"196\": {\"frequency\": 32, \"value\": 196}, \"197\": {\"frequency\": 22, \"value\": 197}, \"198\": {\"frequency\": 379, \"value\": 198}, \"199\": {\"frequency\": 402, \"value\": 199}, \"200\": {\"frequency\": 26, \"value\": 200}, \"201\": {\"frequency\": 87, \"value\": 201}, \"202\": {\"frequency\": 670, \"value\": 202}, \"203\": {\"frequency\": 127, \"value\": 203}, \"204\": {\"frequency\": 446, \"value\": 204}, \"205\": {\"frequency\": 153, \"value\": 205}, \"206\": {\"frequency\": 30, \"value\": 206}, \"207\": {\"frequency\": 23, \"value\": 207}, \"208\": {\"frequency\": 184, \"value\": 208}, \"209\": {\"frequency\": 25, \"value\": 209}, \"210\": {\"frequency\": 110, \"value\": 210}, \"211\": {\"frequency\": 35, \"value\": 211}, \"212\": {\"frequency\": 110, \"value\": 212}, \"213\": {\"frequency\": 22, \"value\": 213}, \"214\": {\"frequency\": 166, \"value\": 214}, \"215\": {\"frequency\": 34, \"value\": 215}, \"216\": {\"frequency\": 794, \"value\": 216}, \"217\": {\"frequency\": 20, \"value\": 217}, \"218\": {\"frequency\": 86, \"value\": 218}, \"219\": {\"frequency\": 36, \"value\": 219}, \"220\": {\"frequency\": 102, \"value\": 220}, \"221\": {\"frequency\": 29, \"value\": 221}, \"222\": {\"frequency\": 80, \"value\": 222}, \"223\": {\"frequency\": 256, \"value\": 223}, \"224\": {\"frequency\": 204, \"value\": 224}, \"225\": {\"frequency\": 508, \"value\": 225}, \"226\": {\"frequency\": 21, \"value\": 226}, \"227\": {\"frequency\": 28, \"value\": 227}, \"228\": {\"frequency\": 31, \"value\": 228}, \"229\": {\"frequency\": 212, \"value\": 229}, \"230\": {\"frequency\": 179, \"value\": 230}, \"231\": {\"frequency\": 97, \"value\": 231}, \"232\": {\"frequency\": 90, \"value\": 232}, \"233\": {\"frequency\": 53, \"value\": 233}, \"234\": {\"frequency\": 29, \"value\": 234}, \"235\": {\"frequency\": 440, \"value\": 235}, \"236\": {\"frequency\": 62, \"value\": 236}, \"237\": {\"frequency\": 166, \"value\": 237}, \"238\": {\"frequency\": 258, \"value\": 238}, \"239\": {\"frequency\": 71, \"value\": 239}, \"240\": {\"frequency\": 143, \"value\": 240}, \"241\": {\"frequency\": 57, \"value\": 241}, \"242\": {\"frequency\": 273, \"value\": 242}, \"243\": {\"frequency\": 33, \"value\": 243}, \"244\": {\"frequency\": 85, \"value\": 244}, \"245\": {\"frequency\": 764, \"value\": 245}, \"246\": {\"frequency\": 29, \"value\": 246}, \"247\": {\"frequency\": 31, \"value\": 247}, \"248\": {\"frequency\": 34, \"value\": 248}, \"249\": {\"frequency\": 110, \"value\": 249}, \"250\": {\"frequency\": 20, \"value\": 250}, \"251\": {\"frequency\": 73, \"value\": 251}, \"252\": {\"frequency\": 60, \"value\": 252}, \"253\": {\"frequency\": 53, \"value\": 253}, \"254\": {\"frequency\": 23, \"value\": 254}, \"255\": {\"frequency\": 244, \"value\": 255}, \"256\": {\"frequency\": 95, \"value\": 256}, \"257\": {\"frequency\": 53, \"value\": 257}, \"258\": {\"frequency\": 145, \"value\": 258}, \"259\": {\"frequency\": 139, \"value\": 259}, \"260\": {\"frequency\": 154, \"value\": 260}, \"261\": {\"frequency\": 354, \"value\": 261}, \"262\": {\"frequency\": 106, \"value\": 262}, \"263\": {\"frequency\": 92, \"value\": 263}, \"264\": {\"frequency\": 480, \"value\": 264}, \"265\": {\"frequency\": 98, \"value\": 265}, \"266\": {\"frequency\": 50, \"value\": 266}, \"267\": {\"frequency\": 131, \"value\": 267}, \"268\": {\"frequency\": 261, \"value\": 268}, \"269\": {\"frequency\": 30, \"value\": 269}, \"270\": {\"frequency\": 126, \"value\": 270}, \"271\": {\"frequency\": 312, \"value\": 271}, \"272\": {\"frequency\": 482, \"value\": 272}, \"273\": {\"frequency\": 187, \"value\": 273}, \"274\": {\"frequency\": 148, \"value\": 274}, \"275\": {\"frequency\": 89, \"value\": 275}, \"276\": {\"frequency\": 23, \"value\": 276}, \"277\": {\"frequency\": 22, \"value\": 277}, \"278\": {\"frequency\": 198, \"value\": 278}, \"279\": {\"frequency\": 47, \"value\": 279}, \"280\": {\"frequency\": 50, \"value\": 280}, \"281\": {\"frequency\": 111, \"value\": 281}, \"282\": {\"frequency\": 29, \"value\": 282}, \"283\": {\"frequency\": 27, \"value\": 283}, \"284\": {\"frequency\": 471, \"value\": 284}, \"285\": {\"frequency\": 139, \"value\": 285}, \"286\": {\"frequency\": 43, \"value\": 286}, \"287\": {\"frequency\": 103, \"value\": 287}, \"288\": {\"frequency\": 56, \"value\": 288}, \"289\": {\"frequency\": 74, \"value\": 289}, \"290\": {\"frequency\": 33, \"value\": 290}, \"291\": {\"frequency\": 102, \"value\": 291}, \"292\": {\"frequency\": 41, \"value\": 292}, \"293\": {\"frequency\": 317, \"value\": 293}, \"294\": {\"frequency\": 49, \"value\": 294}, \"295\": {\"frequency\": 191, \"value\": 295}, \"296\": {\"frequency\": 97, \"value\": 296}, \"297\": {\"frequency\": 89, \"value\": 297}, \"298\": {\"frequency\": 27, \"value\": 298}, \"299\": {\"frequency\": 104, \"value\": 299}, \"300\": {\"frequency\": 249, \"value\": 300}, \"301\": {\"frequency\": 357, \"value\": 301}, \"302\": {\"frequency\": 788, \"value\": 302}, \"303\": {\"frequency\": 209, \"value\": 303}, \"304\": {\"frequency\": 27, \"value\": 304}, \"305\": {\"frequency\": 157, \"value\": 305}, \"306\": {\"frequency\": 193, \"value\": 306}, \"307\": {\"frequency\": 182, \"value\": 307}, \"308\": {\"frequency\": 557, \"value\": 308}, \"309\": {\"frequency\": 123, \"value\": 309}, \"310\": {\"frequency\": 223, \"value\": 310}, \"311\": {\"frequency\": 20, \"value\": 311}, \"312\": {\"frequency\": 57, \"value\": 312}, \"313\": {\"frequency\": 26, \"value\": 313}, \"314\": {\"frequency\": 293, \"value\": 314}, \"315\": {\"frequency\": 22, \"value\": 315}, \"316\": {\"frequency\": 77, \"value\": 316}, \"317\": {\"frequency\": 21, \"value\": 317}, \"318\": {\"frequency\": 21, \"value\": 318}, \"319\": {\"frequency\": 721, \"value\": 319}, \"320\": {\"frequency\": 21, \"value\": 320}, \"321\": {\"frequency\": 222, \"value\": 321}, \"322\": {\"frequency\": 40, \"value\": 322}, \"323\": {\"frequency\": 118, \"value\": 323}, \"324\": {\"frequency\": 76, \"value\": 324}, \"325\": {\"frequency\": 43, \"value\": 325}, \"326\": {\"frequency\": 379, \"value\": 326}, \"327\": {\"frequency\": 236, \"value\": 327}, \"328\": {\"frequency\": 62, \"value\": 328}, \"329\": {\"frequency\": 764, \"value\": 329}, \"330\": {\"frequency\": 76, \"value\": 330}, \"331\": {\"frequency\": 584, \"value\": 331}, \"332\": {\"frequency\": 67, \"value\": 332}, \"333\": {\"frequency\": 227, \"value\": 333}, \"334\": {\"frequency\": 61, \"value\": 334}, \"335\": {\"frequency\": 148, \"value\": 335}, \"336\": {\"frequency\": 107, \"value\": 336}, \"337\": {\"frequency\": 198, \"value\": 337}, \"338\": {\"frequency\": 362, \"value\": 338}, \"339\": {\"frequency\": 124, \"value\": 339}, \"340\": {\"frequency\": 108, \"value\": 340}, \"341\": {\"frequency\": 20, \"value\": 341}, \"342\": {\"frequency\": 123, \"value\": 342}, \"343\": {\"frequency\": 297, \"value\": 343}, \"344\": {\"frequency\": 90, \"value\": 344}, \"345\": {\"frequency\": 25, \"value\": 345}, \"346\": {\"frequency\": 283, \"value\": 346}, \"347\": {\"frequency\": 99, \"value\": 347}, \"348\": {\"frequency\": 64, \"value\": 348}, \"349\": {\"frequency\": 268, \"value\": 349}, \"350\": {\"frequency\": 64, \"value\": 350}, \"351\": {\"frequency\": 103, \"value\": 351}, \"352\": {\"frequency\": 870, \"value\": 352}, \"353\": {\"frequency\": 24, \"value\": 353}, \"354\": {\"frequency\": 58, \"value\": 354}, \"355\": {\"frequency\": 419, \"value\": 355}, \"356\": {\"frequency\": 21, \"value\": 356}, \"357\": {\"frequency\": 58, \"value\": 357}, \"358\": {\"frequency\": 72, \"value\": 358}, \"359\": {\"frequency\": 49, \"value\": 359}, \"360\": {\"frequency\": 67, \"value\": 360}, \"361\": {\"frequency\": 26, \"value\": 361}, \"362\": {\"frequency\": 55, \"value\": 362}, \"363\": {\"frequency\": 43, \"value\": 363}, \"364\": {\"frequency\": 28, \"value\": 364}, \"365\": {\"frequency\": 47, \"value\": 365}, \"366\": {\"frequency\": 259, \"value\": 366}, \"367\": {\"frequency\": 28, \"value\": 367}, \"368\": {\"frequency\": 320, \"value\": 368}, \"369\": {\"frequency\": 87, \"value\": 369}, \"370\": {\"frequency\": 60, \"value\": 370}, \"371\": {\"frequency\": 78, \"value\": 371}, \"372\": {\"frequency\": 168, \"value\": 372}, \"373\": {\"frequency\": 27, \"value\": 373}, \"374\": {\"frequency\": 52, \"value\": 374}, \"375\": {\"frequency\": 51, \"value\": 375}, \"376\": {\"frequency\": 117, \"value\": 376}, \"377\": {\"frequency\": 136, \"value\": 377}, \"378\": {\"frequency\": 39, \"value\": 378}, \"379\": {\"frequency\": 64, \"value\": 379}, \"380\": {\"frequency\": 138, \"value\": 380}, \"381\": {\"frequency\": 35, \"value\": 381}, \"382\": {\"frequency\": 56, \"value\": 382}, \"383\": {\"frequency\": 21, \"value\": 383}, \"384\": {\"frequency\": 22, \"value\": 384}, \"385\": {\"frequency\": 137, \"value\": 385}, \"386\": {\"frequency\": 260, \"value\": 386}, \"387\": {\"frequency\": 68, \"value\": 387}, \"388\": {\"frequency\": 59, \"value\": 388}, \"389\": {\"frequency\": 73, \"value\": 389}, \"390\": {\"frequency\": 214, \"value\": 390}, \"391\": {\"frequency\": 81, \"value\": 391}, \"392\": {\"frequency\": 487, \"value\": 392}, \"393\": {\"frequency\": 74, \"value\": 393}, \"394\": {\"frequency\": 38, \"value\": 394}, \"395\": {\"frequency\": 23, \"value\": 395}, \"396\": {\"frequency\": 173, \"value\": 396}, \"397\": {\"frequency\": 34, \"value\": 397}, \"398\": {\"frequency\": 225, \"value\": 398}, \"399\": {\"frequency\": 32, \"value\": 399}, \"400\": {\"frequency\": 40, \"value\": 400}, \"401\": {\"frequency\": 78, \"value\": 401}, \"402\": {\"frequency\": 284, \"value\": 402}, \"403\": {\"frequency\": 280, \"value\": 403}, \"404\": {\"frequency\": 50, \"value\": 404}, \"405\": {\"frequency\": 49, \"value\": 405}, \"406\": {\"frequency\": 147, \"value\": 406}, \"407\": {\"frequency\": 32, \"value\": 407}, \"408\": {\"frequency\": 156, \"value\": 408}, \"409\": {\"frequency\": 297, \"value\": 409}, \"410\": {\"frequency\": 96, \"value\": 410}, \"411\": {\"frequency\": 635, \"value\": 411}, \"412\": {\"frequency\": 476, \"value\": 412}, \"413\": {\"frequency\": 99, \"value\": 413}, \"414\": {\"frequency\": 57, \"value\": 414}, \"415\": {\"frequency\": 271, \"value\": 415}, \"416\": {\"frequency\": 62, \"value\": 416}, \"417\": {\"frequency\": 22, \"value\": 417}, \"418\": {\"frequency\": 51, \"value\": 418}, \"419\": {\"frequency\": 108, \"value\": 419}, \"420\": {\"frequency\": 64, \"value\": 420}, \"421\": {\"frequency\": 20, \"value\": 421}, \"422\": {\"frequency\": 47, \"value\": 422}, \"423\": {\"frequency\": 64, \"value\": 423}, \"424\": {\"frequency\": 1226, \"value\": 424}, \"425\": {\"frequency\": 189, \"value\": 425}, \"426\": {\"frequency\": 239, \"value\": 426}, \"427\": {\"frequency\": 27, \"value\": 427}, \"428\": {\"frequency\": 50, \"value\": 428}, \"429\": {\"frequency\": 346, \"value\": 429}, \"430\": {\"frequency\": 63, \"value\": 430}, \"431\": {\"frequency\": 84, \"value\": 431}, \"432\": {\"frequency\": 73, \"value\": 432}, \"433\": {\"frequency\": 46, \"value\": 433}, \"434\": {\"frequency\": 43, \"value\": 434}, \"435\": {\"frequency\": 132, \"value\": 435}, \"436\": {\"frequency\": 133, \"value\": 436}, \"437\": {\"frequency\": 52, \"value\": 437}, \"438\": {\"frequency\": 602, \"value\": 438}, \"439\": {\"frequency\": 92, \"value\": 439}, \"440\": {\"frequency\": 29, \"value\": 440}, \"441\": {\"frequency\": 47, \"value\": 441}, \"442\": {\"frequency\": 423, \"value\": 442}, \"443\": {\"frequency\": 34, \"value\": 443}, \"444\": {\"frequency\": 120, \"value\": 444}, \"445\": {\"frequency\": 286, \"value\": 445}, \"446\": {\"frequency\": 51, \"value\": 446}, \"447\": {\"frequency\": 37, \"value\": 447}, \"448\": {\"frequency\": 23, \"value\": 448}, \"449\": {\"frequency\": 54, \"value\": 449}, \"450\": {\"frequency\": 51, \"value\": 450}, \"451\": {\"frequency\": 209, \"value\": 451}, \"452\": {\"frequency\": 132, \"value\": 452}, \"453\": {\"frequency\": 394, \"value\": 453}, \"454\": {\"frequency\": 266, \"value\": 454}, \"455\": {\"frequency\": 25, \"value\": 455}, \"456\": {\"frequency\": 157, \"value\": 456}, \"457\": {\"frequency\": 237, \"value\": 457}, \"458\": {\"frequency\": 43, \"value\": 458}, \"459\": {\"frequency\": 32, \"value\": 459}, \"460\": {\"frequency\": 47, \"value\": 460}, \"461\": {\"frequency\": 512, \"value\": 461}, \"462\": {\"frequency\": 177, \"value\": 462}, \"463\": {\"frequency\": 123, \"value\": 463}, \"464\": {\"frequency\": 82, \"value\": 464}, \"465\": {\"frequency\": 37, \"value\": 465}, \"466\": {\"frequency\": 199, \"value\": 466}, \"467\": {\"frequency\": 69, \"value\": 467}, \"468\": {\"frequency\": 26, \"value\": 468}, \"469\": {\"frequency\": 49, \"value\": 469}, \"470\": {\"frequency\": 68, \"value\": 470}, \"471\": {\"frequency\": 105, \"value\": 471}, \"472\": {\"frequency\": 45, \"value\": 472}, \"473\": {\"frequency\": 49, \"value\": 473}, \"474\": {\"frequency\": 318, \"value\": 474}, \"475\": {\"frequency\": 247, \"value\": 475}, \"476\": {\"frequency\": 431, \"value\": 476}, \"477\": {\"frequency\": 211, \"value\": 477}, \"478\": {\"frequency\": 46, \"value\": 478}, \"479\": {\"frequency\": 93, \"value\": 479}, \"480\": {\"frequency\": 107, \"value\": 480}, \"481\": {\"frequency\": 198, \"value\": 481}, \"482\": {\"frequency\": 825, \"value\": 482}, \"483\": {\"frequency\": 29, \"value\": 483}, \"484\": {\"frequency\": 34, \"value\": 484}, \"485\": {\"frequency\": 45, \"value\": 485}, \"486\": {\"frequency\": 39, \"value\": 486}, \"487\": {\"frequency\": 50, \"value\": 487}, \"488\": {\"frequency\": 25, \"value\": 488}, \"489\": {\"frequency\": 24, \"value\": 489}, \"490\": {\"frequency\": 77, \"value\": 490}, \"491\": {\"frequency\": 25, \"value\": 491}, \"492\": {\"frequency\": 32, \"value\": 492}, \"493\": {\"frequency\": 158, \"value\": 493}, \"494\": {\"frequency\": 191, \"value\": 494}, \"495\": {\"frequency\": 44, \"value\": 495}, \"496\": {\"frequency\": 119, \"value\": 496}, \"497\": {\"frequency\": 24, \"value\": 497}, \"498\": {\"frequency\": 172, \"value\": 498}, \"499\": {\"frequency\": 199, \"value\": 499}, \"500\": {\"frequency\": 101, \"value\": 500}, \"501\": {\"frequency\": 67, \"value\": 501}, \"502\": {\"frequency\": 24, \"value\": 502}, \"503\": {\"frequency\": 29, \"value\": 503}, \"504\": {\"frequency\": 108, \"value\": 504}, \"505\": {\"frequency\": 115, \"value\": 505}, \"506\": {\"frequency\": 90, \"value\": 506}, \"507\": {\"frequency\": 42, \"value\": 507}, \"508\": {\"frequency\": 149, \"value\": 508}, \"509\": {\"frequency\": 723, \"value\": 509}, \"510\": {\"frequency\": 99, \"value\": 510}, \"511\": {\"frequency\": 27, \"value\": 511}, \"512\": {\"frequency\": 37, \"value\": 512}, \"513\": {\"frequency\": 156, \"value\": 513}, \"514\": {\"frequency\": 79, \"value\": 514}, \"515\": {\"frequency\": 162, \"value\": 515}, \"516\": {\"frequency\": 294, \"value\": 516}, \"517\": {\"frequency\": 166, \"value\": 517}, \"518\": {\"frequency\": 253, \"value\": 518}, \"519\": {\"frequency\": 45, \"value\": 519}, \"520\": {\"frequency\": 314, \"value\": 520}, \"521\": {\"frequency\": 41, \"value\": 521}, \"522\": {\"frequency\": 58, \"value\": 522}, \"523\": {\"frequency\": 100, \"value\": 523}, \"524\": {\"frequency\": 1016, \"value\": 524}, \"525\": {\"frequency\": 40, \"value\": 525}, \"526\": {\"frequency\": 58, \"value\": 526}, \"527\": {\"frequency\": 25, \"value\": 527}, \"528\": {\"frequency\": 580, \"value\": 528}, \"529\": {\"frequency\": 122, \"value\": 529}, \"530\": {\"frequency\": 105, \"value\": 530}, \"531\": {\"frequency\": 867, \"value\": 531}, \"532\": {\"frequency\": 43, \"value\": 532}, \"533\": {\"frequency\": 591, \"value\": 533}, \"534\": {\"frequency\": 103, \"value\": 534}, \"535\": {\"frequency\": 21, \"value\": 535}, \"536\": {\"frequency\": 210, \"value\": 536}, \"537\": {\"frequency\": 98, \"value\": 537}, \"538\": {\"frequency\": 48, \"value\": 538}, \"539\": {\"frequency\": 132, \"value\": 539}, \"540\": {\"frequency\": 39, \"value\": 540}, \"541\": {\"frequency\": 190, \"value\": 541}, \"542\": {\"frequency\": 34, \"value\": 542}, \"543\": {\"frequency\": 671, \"value\": 543}, \"544\": {\"frequency\": 81, \"value\": 544}, \"545\": {\"frequency\": 29, \"value\": 545}, \"546\": {\"frequency\": 220, \"value\": 546}, \"547\": {\"frequency\": 78, \"value\": 547}, \"548\": {\"frequency\": 118, \"value\": 548}, \"549\": {\"frequency\": 1152, \"value\": 549}, \"550\": {\"frequency\": 967, \"value\": 550}, \"551\": {\"frequency\": 228, \"value\": 551}, \"552\": {\"frequency\": 97, \"value\": 552}, \"553\": {\"frequency\": 64, \"value\": 553}, \"554\": {\"frequency\": 43, \"value\": 554}, \"555\": {\"frequency\": 38, \"value\": 555}, \"556\": {\"frequency\": 232, \"value\": 556}, \"557\": {\"frequency\": 58, \"value\": 557}, \"558\": {\"frequency\": 291, \"value\": 558}, \"559\": {\"frequency\": 21, \"value\": 559}, \"560\": {\"frequency\": 137, \"value\": 560}, \"561\": {\"frequency\": 36, \"value\": 561}, \"562\": {\"frequency\": 37, \"value\": 562}, \"563\": {\"frequency\": 346, \"value\": 563}, \"564\": {\"frequency\": 50, \"value\": 564}, \"565\": {\"frequency\": 25, \"value\": 565}, \"566\": {\"frequency\": 534, \"value\": 566}, \"567\": {\"frequency\": 72, \"value\": 567}, \"568\": {\"frequency\": 25, \"value\": 568}, \"569\": {\"frequency\": 125, \"value\": 569}, \"570\": {\"frequency\": 237, \"value\": 570}, \"571\": {\"frequency\": 146, \"value\": 571}, \"572\": {\"frequency\": 20, \"value\": 572}, \"573\": {\"frequency\": 36, \"value\": 573}, \"574\": {\"frequency\": 21, \"value\": 574}, \"575\": {\"frequency\": 163, \"value\": 575}, \"576\": {\"frequency\": 57, \"value\": 576}, \"577\": {\"frequency\": 158, \"value\": 577}, \"578\": {\"frequency\": 28, \"value\": 578}, \"579\": {\"frequency\": 69, \"value\": 579}, \"580\": {\"frequency\": 46, \"value\": 580}, \"581\": {\"frequency\": 48, \"value\": 581}, \"582\": {\"frequency\": 78, \"value\": 582}, \"583\": {\"frequency\": 174, \"value\": 583}, \"584\": {\"frequency\": 38, \"value\": 584}, \"585\": {\"frequency\": 148, \"value\": 585}, \"586\": {\"frequency\": 35, \"value\": 586}, \"587\": {\"frequency\": 385, \"value\": 587}, \"588\": {\"frequency\": 453, \"value\": 588}, \"589\": {\"frequency\": 27, \"value\": 589}, \"590\": {\"frequency\": 166, \"value\": 590}, \"591\": {\"frequency\": 242, \"value\": 591}, \"592\": {\"frequency\": 23, \"value\": 592}, \"593\": {\"frequency\": 106, \"value\": 593}, \"594\": {\"frequency\": 159, \"value\": 594}, \"595\": {\"frequency\": 100, \"value\": 595}, \"596\": {\"frequency\": 42, \"value\": 596}, \"597\": {\"frequency\": 57, \"value\": 597}, \"598\": {\"frequency\": 38, \"value\": 598}, \"599\": {\"frequency\": 27, \"value\": 599}, \"600\": {\"frequency\": 23, \"value\": 600}, \"601\": {\"frequency\": 373, \"value\": 601}, \"602\": {\"frequency\": 154, \"value\": 602}, \"603\": {\"frequency\": 63, \"value\": 603}, \"604\": {\"frequency\": 287, \"value\": 604}, \"605\": {\"frequency\": 122, \"value\": 605}, \"606\": {\"frequency\": 33, \"value\": 606}, \"607\": {\"frequency\": 25, \"value\": 607}, \"608\": {\"frequency\": 170, \"value\": 608}, \"609\": {\"frequency\": 52, \"value\": 609}, \"610\": {\"frequency\": 126, \"value\": 610}, \"611\": {\"frequency\": 132, \"value\": 611}, \"612\": {\"frequency\": 50, \"value\": 612}, \"613\": {\"frequency\": 106, \"value\": 613}, \"614\": {\"frequency\": 54, \"value\": 614}, \"615\": {\"frequency\": 94, \"value\": 615}, \"616\": {\"frequency\": 44, \"value\": 616}, \"617\": {\"frequency\": 23, \"value\": 617}, \"618\": {\"frequency\": 45, \"value\": 618}, \"619\": {\"frequency\": 22, \"value\": 619}, \"620\": {\"frequency\": 179, \"value\": 620}, \"621\": {\"frequency\": 240, \"value\": 621}, \"622\": {\"frequency\": 57, \"value\": 622}, \"623\": {\"frequency\": 172, \"value\": 623}, \"624\": {\"frequency\": 372, \"value\": 624}, \"625\": {\"frequency\": 45, \"value\": 625}, \"626\": {\"frequency\": 72, \"value\": 626}, \"627\": {\"frequency\": 32, \"value\": 627}, \"628\": {\"frequency\": 52, \"value\": 628}, \"629\": {\"frequency\": 237, \"value\": 629}, \"630\": {\"frequency\": 118, \"value\": 630}, \"631\": {\"frequency\": 312, \"value\": 631}, \"632\": {\"frequency\": 34, \"value\": 632}, \"633\": {\"frequency\": 43, \"value\": 633}, \"634\": {\"frequency\": 67, \"value\": 634}, \"635\": {\"frequency\": 177, \"value\": 635}, \"636\": {\"frequency\": 86, \"value\": 636}, \"637\": {\"frequency\": 377, \"value\": 637}, \"638\": {\"frequency\": 114, \"value\": 638}, \"639\": {\"frequency\": 400, \"value\": 639}, \"640\": {\"frequency\": 21, \"value\": 640}, \"641\": {\"frequency\": 121, \"value\": 641}, \"642\": {\"frequency\": 27, \"value\": 642}, \"643\": {\"frequency\": 70, \"value\": 643}, \"644\": {\"frequency\": 108, \"value\": 644}, \"645\": {\"frequency\": 44, \"value\": 645}, \"646\": {\"frequency\": 254, \"value\": 646}, \"647\": {\"frequency\": 231, \"value\": 647}, \"648\": {\"frequency\": 177, \"value\": 648}, \"649\": {\"frequency\": 71, \"value\": 649}, \"650\": {\"frequency\": 38, \"value\": 650}, \"651\": {\"frequency\": 478, \"value\": 651}, \"652\": {\"frequency\": 132, \"value\": 652}, \"653\": {\"frequency\": 21, \"value\": 653}, \"654\": {\"frequency\": 185, \"value\": 654}, \"655\": {\"frequency\": 412, \"value\": 655}, \"656\": {\"frequency\": 177, \"value\": 656}, \"657\": {\"frequency\": 59, \"value\": 657}, \"658\": {\"frequency\": 93, \"value\": 658}, \"659\": {\"frequency\": 110, \"value\": 659}, \"660\": {\"frequency\": 703, \"value\": 660}, \"661\": {\"frequency\": 71, \"value\": 661}, \"662\": {\"frequency\": 127, \"value\": 662}, \"663\": {\"frequency\": 112, \"value\": 663}, \"664\": {\"frequency\": 158, \"value\": 664}, \"665\": {\"frequency\": 20, \"value\": 665}, \"666\": {\"frequency\": 103, \"value\": 666}, \"667\": {\"frequency\": 171, \"value\": 667}, \"668\": {\"frequency\": 36, \"value\": 668}, \"669\": {\"frequency\": 419, \"value\": 669}, \"670\": {\"frequency\": 90, \"value\": 670}, \"671\": {\"frequency\": 135, \"value\": 671}, \"672\": {\"frequency\": 47, \"value\": 672}, \"673\": {\"frequency\": 403, \"value\": 673}, \"674\": {\"frequency\": 79, \"value\": 674}, \"675\": {\"frequency\": 42, \"value\": 675}, \"676\": {\"frequency\": 390, \"value\": 676}, \"677\": {\"frequency\": 205, \"value\": 677}, \"678\": {\"frequency\": 999, \"value\": 678}, \"679\": {\"frequency\": 82, \"value\": 679}, \"680\": {\"frequency\": 35, \"value\": 680}, \"681\": {\"frequency\": 38, \"value\": 681}, \"682\": {\"frequency\": 75, \"value\": 682}, \"683\": {\"frequency\": 29, \"value\": 683}, \"684\": {\"frequency\": 38, \"value\": 684}, \"685\": {\"frequency\": 140, \"value\": 685}, \"686\": {\"frequency\": 27, \"value\": 686}, \"687\": {\"frequency\": 316, \"value\": 687}, \"688\": {\"frequency\": 36, \"value\": 688}, \"689\": {\"frequency\": 135, \"value\": 689}, \"690\": {\"frequency\": 180, \"value\": 690}, \"691\": {\"frequency\": 103, \"value\": 691}, \"692\": {\"frequency\": 631, \"value\": 692}, \"693\": {\"frequency\": 70, \"value\": 693}, \"694\": {\"frequency\": 40, \"value\": 694}, \"695\": {\"frequency\": 191, \"value\": 695}, \"696\": {\"frequency\": 401, \"value\": 696}, \"697\": {\"frequency\": 125, \"value\": 697}, \"698\": {\"frequency\": 270, \"value\": 698}, \"699\": {\"frequency\": 674, \"value\": 699}, \"700\": {\"frequency\": 32, \"value\": 700}, \"701\": {\"frequency\": 82, \"value\": 701}, \"702\": {\"frequency\": 479, \"value\": 702}, \"703\": {\"frequency\": 20, \"value\": 703}, \"704\": {\"frequency\": 74, \"value\": 704}, \"705\": {\"frequency\": 132, \"value\": 705}, \"706\": {\"frequency\": 151, \"value\": 706}, \"707\": {\"frequency\": 52, \"value\": 707}, \"708\": {\"frequency\": 20, \"value\": 708}, \"709\": {\"frequency\": 82, \"value\": 709}, \"710\": {\"frequency\": 885, \"value\": 710}, \"711\": {\"frequency\": 143, \"value\": 711}, \"712\": {\"frequency\": 282, \"value\": 712}, \"713\": {\"frequency\": 242, \"value\": 713}, \"714\": {\"frequency\": 422, \"value\": 714}, \"715\": {\"frequency\": 98, \"value\": 715}, \"716\": {\"frequency\": 392, \"value\": 716}, \"717\": {\"frequency\": 39, \"value\": 717}, \"718\": {\"frequency\": 169, \"value\": 718}, \"719\": {\"frequency\": 28, \"value\": 719}, \"720\": {\"frequency\": 233, \"value\": 720}, \"721\": {\"frequency\": 666, \"value\": 721}, \"722\": {\"frequency\": 55, \"value\": 722}, \"723\": {\"frequency\": 24, \"value\": 723}, \"724\": {\"frequency\": 157, \"value\": 724}, \"725\": {\"frequency\": 81, \"value\": 725}, \"726\": {\"frequency\": 73, \"value\": 726}, \"727\": {\"frequency\": 249, \"value\": 727}, \"728\": {\"frequency\": 167, \"value\": 728}, \"729\": {\"frequency\": 146, \"value\": 729}, \"730\": {\"frequency\": 53, \"value\": 730}, \"731\": {\"frequency\": 642, \"value\": 731}, \"732\": {\"frequency\": 175, \"value\": 732}, \"733\": {\"frequency\": 117, \"value\": 733}, \"734\": {\"frequency\": 44, \"value\": 734}, \"735\": {\"frequency\": 393, \"value\": 735}, \"736\": {\"frequency\": 114, \"value\": 736}, \"737\": {\"frequency\": 217, \"value\": 737}, \"738\": {\"frequency\": 33, \"value\": 738}, \"739\": {\"frequency\": 127, \"value\": 739}, \"740\": {\"frequency\": 37, \"value\": 740}, \"741\": {\"frequency\": 77, \"value\": 741}, \"742\": {\"frequency\": 42, \"value\": 742}, \"743\": {\"frequency\": 149, \"value\": 743}, \"744\": {\"frequency\": 297, \"value\": 744}, \"745\": {\"frequency\": 25, \"value\": 745}, \"746\": {\"frequency\": 424, \"value\": 746}, \"747\": {\"frequency\": 32, \"value\": 747}, \"748\": {\"frequency\": 81, \"value\": 748}, \"749\": {\"frequency\": 459, \"value\": 749}, \"750\": {\"frequency\": 56, \"value\": 750}, \"751\": {\"frequency\": 25, \"value\": 751}, \"752\": {\"frequency\": 1024, \"value\": 752}, \"753\": {\"frequency\": 218, \"value\": 753}, \"754\": {\"frequency\": 157, \"value\": 754}, \"755\": {\"frequency\": 126, \"value\": 755}, \"756\": {\"frequency\": 35, \"value\": 756}, \"757\": {\"frequency\": 465, \"value\": 757}, \"758\": {\"frequency\": 29, \"value\": 758}, \"759\": {\"frequency\": 97, \"value\": 759}, \"760\": {\"frequency\": 64, \"value\": 760}, \"761\": {\"frequency\": 20, \"value\": 761}, \"762\": {\"frequency\": 46, \"value\": 762}, \"763\": {\"frequency\": 26, \"value\": 763}, \"764\": {\"frequency\": 139, \"value\": 764}, \"765\": {\"frequency\": 402, \"value\": 765}, \"766\": {\"frequency\": 47, \"value\": 766}, \"767\": {\"frequency\": 170, \"value\": 767}, \"768\": {\"frequency\": 48, \"value\": 768}, \"769\": {\"frequency\": 67, \"value\": 769}, \"770\": {\"frequency\": 759, \"value\": 770}, \"771\": {\"frequency\": 26, \"value\": 771}, \"772\": {\"frequency\": 98, \"value\": 772}, \"773\": {\"frequency\": 49, \"value\": 773}, \"774\": {\"frequency\": 224, \"value\": 774}, \"775\": {\"frequency\": 23, \"value\": 775}, \"776\": {\"frequency\": 103, \"value\": 776}, \"777\": {\"frequency\": 502, \"value\": 777}, \"778\": {\"frequency\": 163, \"value\": 778}, \"779\": {\"frequency\": 48, \"value\": 779}, \"780\": {\"frequency\": 512, \"value\": 780}, \"781\": {\"frequency\": 234, \"value\": 781}, \"782\": {\"frequency\": 23, \"value\": 782}, \"783\": {\"frequency\": 119, \"value\": 783}, \"784\": {\"frequency\": 30, \"value\": 784}, \"785\": {\"frequency\": 106, \"value\": 785}, \"786\": {\"frequency\": 63, \"value\": 786}, \"787\": {\"frequency\": 117, \"value\": 787}, \"788\": {\"frequency\": 196, \"value\": 788}, \"789\": {\"frequency\": 115, \"value\": 789}, \"790\": {\"frequency\": 23, \"value\": 790}, \"791\": {\"frequency\": 328, \"value\": 791}, \"792\": {\"frequency\": 87, \"value\": 792}, \"793\": {\"frequency\": 150, \"value\": 793}, \"794\": {\"frequency\": 43, \"value\": 794}, \"795\": {\"frequency\": 149, \"value\": 795}, \"796\": {\"frequency\": 460, \"value\": 796}, \"797\": {\"frequency\": 83, \"value\": 797}, \"798\": {\"frequency\": 327, \"value\": 798}, \"799\": {\"frequency\": 40, \"value\": 799}, \"800\": {\"frequency\": 266, \"value\": 800}, \"801\": {\"frequency\": 285, \"value\": 801}, \"802\": {\"frequency\": 506, \"value\": 802}, \"803\": {\"frequency\": 52, \"value\": 803}, \"804\": {\"frequency\": 44, \"value\": 804}, \"805\": {\"frequency\": 73, \"value\": 805}, \"806\": {\"frequency\": 66, \"value\": 806}, \"807\": {\"frequency\": 33, \"value\": 807}, \"808\": {\"frequency\": 275, \"value\": 808}, \"809\": {\"frequency\": 94, \"value\": 809}, \"810\": {\"frequency\": 126, \"value\": 810}, \"811\": {\"frequency\": 65, \"value\": 811}, \"812\": {\"frequency\": 92, \"value\": 812}, \"813\": {\"frequency\": 67, \"value\": 813}, \"814\": {\"frequency\": 36, \"value\": 814}, \"815\": {\"frequency\": 29, \"value\": 815}, \"816\": {\"frequency\": 195, \"value\": 816}, \"817\": {\"frequency\": 398, \"value\": 817}, \"818\": {\"frequency\": 171, \"value\": 818}, \"819\": {\"frequency\": 62, \"value\": 819}, \"820\": {\"frequency\": 104, \"value\": 820}, \"821\": {\"frequency\": 21, \"value\": 821}, \"822\": {\"frequency\": 292, \"value\": 822}, \"823\": {\"frequency\": 121, \"value\": 823}, \"824\": {\"frequency\": 308, \"value\": 824}, \"825\": {\"frequency\": 42, \"value\": 825}, \"826\": {\"frequency\": 35, \"value\": 826}, \"827\": {\"frequency\": 22, \"value\": 827}, \"828\": {\"frequency\": 115, \"value\": 828}, \"829\": {\"frequency\": 138, \"value\": 829}, \"830\": {\"frequency\": 174, \"value\": 830}, \"831\": {\"frequency\": 57, \"value\": 831}, \"832\": {\"frequency\": 172, \"value\": 832}, \"833\": {\"frequency\": 21, \"value\": 833}, \"834\": {\"frequency\": 50, \"value\": 834}, \"835\": {\"frequency\": 28, \"value\": 835}, \"836\": {\"frequency\": 70, \"value\": 836}, \"837\": {\"frequency\": 69, \"value\": 837}, \"838\": {\"frequency\": 176, \"value\": 838}, \"839\": {\"frequency\": 774, \"value\": 839}, \"840\": {\"frequency\": 251, \"value\": 840}, \"841\": {\"frequency\": 26, \"value\": 841}, \"842\": {\"frequency\": 37, \"value\": 842}, \"843\": {\"frequency\": 126, \"value\": 843}, \"844\": {\"frequency\": 84, \"value\": 844}, \"845\": {\"frequency\": 52, \"value\": 845}, \"846\": {\"frequency\": 253, \"value\": 846}, \"847\": {\"frequency\": 62, \"value\": 847}, \"848\": {\"frequency\": 56, \"value\": 848}, \"849\": {\"frequency\": 117, \"value\": 849}, \"850\": {\"frequency\": 554, \"value\": 850}, \"851\": {\"frequency\": 76, \"value\": 851}, \"852\": {\"frequency\": 34, \"value\": 852}, \"853\": {\"frequency\": 110, \"value\": 853}, \"854\": {\"frequency\": 506, \"value\": 854}, \"855\": {\"frequency\": 630, \"value\": 855}, \"856\": {\"frequency\": 53, \"value\": 856}, \"857\": {\"frequency\": 70, \"value\": 857}, \"858\": {\"frequency\": 190, \"value\": 858}, \"859\": {\"frequency\": 153, \"value\": 859}, \"860\": {\"frequency\": 42, \"value\": 860}, \"861\": {\"frequency\": 80, \"value\": 861}, \"862\": {\"frequency\": 116, \"value\": 862}, \"863\": {\"frequency\": 62, \"value\": 863}, \"864\": {\"frequency\": 138, \"value\": 864}, \"865\": {\"frequency\": 42, \"value\": 865}, \"866\": {\"frequency\": 36, \"value\": 866}, \"867\": {\"frequency\": 44, \"value\": 867}, \"868\": {\"frequency\": 75, \"value\": 868}, \"869\": {\"frequency\": 842, \"value\": 869}, \"870\": {\"frequency\": 36, \"value\": 870}, \"871\": {\"frequency\": 43, \"value\": 871}, \"872\": {\"frequency\": 107, \"value\": 872}, \"873\": {\"frequency\": 172, \"value\": 873}, \"874\": {\"frequency\": 28, \"value\": 874}, \"875\": {\"frequency\": 84, \"value\": 875}, \"876\": {\"frequency\": 111, \"value\": 876}, \"877\": {\"frequency\": 633, \"value\": 877}, \"878\": {\"frequency\": 49, \"value\": 878}, \"879\": {\"frequency\": 40, \"value\": 879}, \"880\": {\"frequency\": 115, \"value\": 880}, \"881\": {\"frequency\": 914, \"value\": 881}, \"882\": {\"frequency\": 79, \"value\": 882}, \"883\": {\"frequency\": 36, \"value\": 883}, \"884\": {\"frequency\": 99, \"value\": 884}, \"885\": {\"frequency\": 64, \"value\": 885}, \"886\": {\"frequency\": 35, \"value\": 886}, \"887\": {\"frequency\": 96, \"value\": 887}, \"888\": {\"frequency\": 72, \"value\": 888}, \"889\": {\"frequency\": 1518, \"value\": 889}, \"890\": {\"frequency\": 228, \"value\": 890}, \"891\": {\"frequency\": 223, \"value\": 891}, \"892\": {\"frequency\": 34, \"value\": 892}, \"893\": {\"frequency\": 110, \"value\": 893}, \"894\": {\"frequency\": 70, \"value\": 894}, \"895\": {\"frequency\": 64, \"value\": 895}, \"896\": {\"frequency\": 64, \"value\": 896}, \"897\": {\"frequency\": 203, \"value\": 897}, \"898\": {\"frequency\": 24, \"value\": 898}, \"899\": {\"frequency\": 323, \"value\": 899}, \"900\": {\"frequency\": 26, \"value\": 900}, \"901\": {\"frequency\": 33, \"value\": 901}, \"902\": {\"frequency\": 25, \"value\": 902}, \"903\": {\"frequency\": 74, \"value\": 903}, \"904\": {\"frequency\": 246, \"value\": 904}, \"905\": {\"frequency\": 123, \"value\": 905}, \"906\": {\"frequency\": 21, \"value\": 906}, \"907\": {\"frequency\": 21, \"value\": 907}, \"908\": {\"frequency\": 39, \"value\": 908}, \"909\": {\"frequency\": 71, \"value\": 909}, \"910\": {\"frequency\": 163, \"value\": 910}, \"911\": {\"frequency\": 525, \"value\": 911}, \"912\": {\"frequency\": 43, \"value\": 912}, \"913\": {\"frequency\": 45, \"value\": 913}, \"914\": {\"frequency\": 61, \"value\": 914}, \"915\": {\"frequency\": 95, \"value\": 915}, \"916\": {\"frequency\": 55, \"value\": 916}, \"917\": {\"frequency\": 29, \"value\": 917}, \"918\": {\"frequency\": 144, \"value\": 918}, \"919\": {\"frequency\": 326, \"value\": 919}, \"920\": {\"frequency\": 78, \"value\": 920}, \"921\": {\"frequency\": 158, \"value\": 921}, \"922\": {\"frequency\": 343, \"value\": 922}, \"923\": {\"frequency\": 46, \"value\": 923}, \"924\": {\"frequency\": 199, \"value\": 924}, \"925\": {\"frequency\": 68, \"value\": 925}, \"926\": {\"frequency\": 105, \"value\": 926}, \"927\": {\"frequency\": 191, \"value\": 927}, \"928\": {\"frequency\": 212, \"value\": 928}, \"929\": {\"frequency\": 355, \"value\": 929}, \"930\": {\"frequency\": 98, \"value\": 930}, \"931\": {\"frequency\": 157, \"value\": 931}, \"932\": {\"frequency\": 20, \"value\": 932}, \"933\": {\"frequency\": 62, \"value\": 933}, \"934\": {\"frequency\": 498, \"value\": 934}, \"935\": {\"frequency\": 388, \"value\": 935}, \"936\": {\"frequency\": 88, \"value\": 936}, \"937\": {\"frequency\": 348, \"value\": 937}, \"938\": {\"frequency\": 31, \"value\": 938}, \"939\": {\"frequency\": 165, \"value\": 939}, \"940\": {\"frequency\": 130, \"value\": 940}, \"941\": {\"frequency\": 28, \"value\": 941}, \"942\": {\"frequency\": 25, \"value\": 942}, \"943\": {\"frequency\": 81, \"value\": 943}, \"944\": {\"frequency\": 45, \"value\": 944}, \"945\": {\"frequency\": 163, \"value\": 945}, \"946\": {\"frequency\": 33, \"value\": 946}, \"947\": {\"frequency\": 20, \"value\": 947}, \"948\": {\"frequency\": 517, \"value\": 948}, \"949\": {\"frequency\": 369, \"value\": 949}, \"950\": {\"frequency\": 55, \"value\": 950}, \"951\": {\"frequency\": 21, \"value\": 951}, \"952\": {\"frequency\": 157, \"value\": 952}, \"953\": {\"frequency\": 189, \"value\": 953}, \"954\": {\"frequency\": 126, \"value\": 954}, \"955\": {\"frequency\": 338, \"value\": 955}, \"956\": {\"frequency\": 108, \"value\": 956}, \"957\": {\"frequency\": 328, \"value\": 957}, \"958\": {\"frequency\": 158, \"value\": 958}, \"959\": {\"frequency\": 96, \"value\": 959}, \"960\": {\"frequency\": 128, \"value\": 960}, \"961\": {\"frequency\": 50, \"value\": 961}, \"962\": {\"frequency\": 51, \"value\": 962}, \"963\": {\"frequency\": 424, \"value\": 963}, \"964\": {\"frequency\": 78, \"value\": 964}, \"965\": {\"frequency\": 77, \"value\": 965}, \"966\": {\"frequency\": 165, \"value\": 966}, \"967\": {\"frequency\": 91, \"value\": 967}, \"968\": {\"frequency\": 16, \"value\": 968}, \"969\": {\"frequency\": 26, \"value\": 969}, \"970\": {\"frequency\": 549, \"value\": 970}, \"971\": {\"frequency\": 223, \"value\": 971}, \"972\": {\"frequency\": 35, \"value\": 972}, \"973\": {\"frequency\": 217, \"value\": 973}, \"974\": {\"frequency\": 60, \"value\": 974}, \"975\": {\"frequency\": 404, \"value\": 975}, \"976\": {\"frequency\": 55, \"value\": 976}, \"977\": {\"frequency\": 240, \"value\": 977}, \"978\": {\"frequency\": 44, \"value\": 978}, \"979\": {\"frequency\": 74, \"value\": 979}, \"980\": {\"frequency\": 135, \"value\": 980}, \"981\": {\"frequency\": 227, \"value\": 981}, \"982\": {\"frequency\": 51, \"value\": 982}, \"983\": {\"frequency\": 78, \"value\": 983}, \"984\": {\"frequency\": 694, \"value\": 984}, \"985\": {\"frequency\": 146, \"value\": 985}, \"986\": {\"frequency\": 22, \"value\": 986}, \"987\": {\"frequency\": 176, \"value\": 987}, \"988\": {\"frequency\": 73, \"value\": 988}, \"989\": {\"frequency\": 44, \"value\": 989}, \"990\": {\"frequency\": 102, \"value\": 990}, \"991\": {\"frequency\": 60, \"value\": 991}, \"992\": {\"frequency\": 31, \"value\": 992}, \"993\": {\"frequency\": 58, \"value\": 993}, \"994\": {\"frequency\": 39, \"value\": 994}, \"995\": {\"frequency\": 49, \"value\": 995}, \"996\": {\"frequency\": 296, \"value\": 996}, \"997\": {\"frequency\": 30, \"value\": 997}, \"998\": {\"frequency\": 135, \"value\": 998}, \"999\": {\"frequency\": 412, \"value\": 999}, \"1000\": {\"frequency\": 84, \"value\": 1000}, \"1001\": {\"frequency\": 377, \"value\": 1001}, \"1002\": {\"frequency\": 66, \"value\": 1002}, \"1003\": {\"frequency\": 29, \"value\": 1003}, \"1004\": {\"frequency\": 481, \"value\": 1004}, \"1005\": {\"frequency\": 92, \"value\": 1005}, \"1006\": {\"frequency\": 44, \"value\": 1006}, \"1007\": {\"frequency\": 32, \"value\": 1007}, \"1008\": {\"frequency\": 50, \"value\": 1008}, \"1009\": {\"frequency\": 52, \"value\": 1009}, \"1010\": {\"frequency\": 1004, \"value\": 1010}, \"1011\": {\"frequency\": 37, \"value\": 1011}, \"1012\": {\"frequency\": 55, \"value\": 1012}, \"1013\": {\"frequency\": 46, \"value\": 1013}, \"1014\": {\"frequency\": 39, \"value\": 1014}, \"1015\": {\"frequency\": 1286, \"value\": 1015}, \"1016\": {\"frequency\": 151, \"value\": 1016}, \"1017\": {\"frequency\": 521, \"value\": 1017}, \"1018\": {\"frequency\": 122, \"value\": 1018}, \"1019\": {\"frequency\": 928, \"value\": 1019}, \"1020\": {\"frequency\": 88, \"value\": 1020}, \"1021\": {\"frequency\": 131, \"value\": 1021}, \"1022\": {\"frequency\": 146, \"value\": 1022}, \"1023\": {\"frequency\": 41, \"value\": 1023}, \"1024\": {\"frequency\": 43, \"value\": 1024}, \"1025\": {\"frequency\": 33, \"value\": 1025}, \"1026\": {\"frequency\": 44, \"value\": 1026}, \"1027\": {\"frequency\": 46, \"value\": 1027}, \"1028\": {\"frequency\": 61, \"value\": 1028}, \"1029\": {\"frequency\": 256, \"value\": 1029}, \"1030\": {\"frequency\": 171, \"value\": 1030}, \"1031\": {\"frequency\": 155, \"value\": 1031}, \"1032\": {\"frequency\": 103, \"value\": 1032}, \"1033\": {\"frequency\": 194, \"value\": 1033}, \"1034\": {\"frequency\": 337, \"value\": 1034}, \"1035\": {\"frequency\": 91, \"value\": 1035}, \"1036\": {\"frequency\": 50, \"value\": 1036}, \"1037\": {\"frequency\": 38, \"value\": 1037}, \"1038\": {\"frequency\": 148, \"value\": 1038}, \"1039\": {\"frequency\": 28, \"value\": 1039}, \"1040\": {\"frequency\": 259, \"value\": 1040}, \"1041\": {\"frequency\": 85, \"value\": 1041}, \"1042\": {\"frequency\": 45, \"value\": 1042}, \"1043\": {\"frequency\": 36, \"value\": 1043}, \"1044\": {\"frequency\": 144, \"value\": 1044}, \"1045\": {\"frequency\": 37, \"value\": 1045}, \"1046\": {\"frequency\": 26, \"value\": 1046}, \"1047\": {\"frequency\": 76, \"value\": 1047}, \"1048\": {\"frequency\": 41, \"value\": 1048}, \"1049\": {\"frequency\": 36, \"value\": 1049}, \"1050\": {\"frequency\": 564, \"value\": 1050}, \"1051\": {\"frequency\": 862, \"value\": 1051}, \"1052\": {\"frequency\": 67, \"value\": 1052}, \"1053\": {\"frequency\": 335, \"value\": 1053}, \"1054\": {\"frequency\": 127, \"value\": 1054}, \"1055\": {\"frequency\": 78, \"value\": 1055}, \"1056\": {\"frequency\": 76, \"value\": 1056}, \"1057\": {\"frequency\": 179, \"value\": 1057}, \"1058\": {\"frequency\": 357, \"value\": 1058}, \"1059\": {\"frequency\": 513, \"value\": 1059}, \"1060\": {\"frequency\": 80, \"value\": 1060}, \"1061\": {\"frequency\": 51, \"value\": 1061}, \"1062\": {\"frequency\": 194, \"value\": 1062}, \"1063\": {\"frequency\": 100, \"value\": 1063}, \"1064\": {\"frequency\": 103, \"value\": 1064}, \"1065\": {\"frequency\": 88, \"value\": 1065}, \"1066\": {\"frequency\": 122, \"value\": 1066}, \"1067\": {\"frequency\": 96, \"value\": 1067}, \"1068\": {\"frequency\": 597, \"value\": 1068}, \"1069\": {\"frequency\": 609, \"value\": 1069}, \"1070\": {\"frequency\": 21, \"value\": 1070}, \"1071\": {\"frequency\": 143, \"value\": 1071}, \"1072\": {\"frequency\": 105, \"value\": 1072}, \"1073\": {\"frequency\": 116, \"value\": 1073}, \"1074\": {\"frequency\": 192, \"value\": 1074}, \"1075\": {\"frequency\": 41, \"value\": 1075}, \"1076\": {\"frequency\": 41, \"value\": 1076}, \"1077\": {\"frequency\": 309, \"value\": 1077}, \"1078\": {\"frequency\": 127, \"value\": 1078}, \"1079\": {\"frequency\": 121, \"value\": 1079}, \"1080\": {\"frequency\": 54, \"value\": 1080}, \"1081\": {\"frequency\": 34, \"value\": 1081}, \"1082\": {\"frequency\": 57, \"value\": 1082}, \"1083\": {\"frequency\": 26, \"value\": 1083}, \"1084\": {\"frequency\": 180, \"value\": 1084}, \"1085\": {\"frequency\": 35, \"value\": 1085}, \"1086\": {\"frequency\": 312, \"value\": 1086}, \"1087\": {\"frequency\": 392, \"value\": 1087}, \"1088\": {\"frequency\": 1176, \"value\": 1088}, \"1089\": {\"frequency\": 72, \"value\": 1089}, \"1090\": {\"frequency\": 73, \"value\": 1090}, \"1091\": {\"frequency\": 33, \"value\": 1091}, \"1092\": {\"frequency\": 51, \"value\": 1092}, \"1093\": {\"frequency\": 70, \"value\": 1093}, \"1094\": {\"frequency\": 164, \"value\": 1094}, \"1095\": {\"frequency\": 36, \"value\": 1095}, \"1096\": {\"frequency\": 268, \"value\": 1096}, \"1097\": {\"frequency\": 168, \"value\": 1097}, \"1098\": {\"frequency\": 32, \"value\": 1098}, \"1099\": {\"frequency\": 188, \"value\": 1099}, \"1100\": {\"frequency\": 508, \"value\": 1100}, \"1101\": {\"frequency\": 518, \"value\": 1101}, \"1102\": {\"frequency\": 27, \"value\": 1102}, \"1103\": {\"frequency\": 60, \"value\": 1103}, \"1104\": {\"frequency\": 54, \"value\": 1104}, \"1105\": {\"frequency\": 161, \"value\": 1105}, \"1106\": {\"frequency\": 64, \"value\": 1106}, \"1107\": {\"frequency\": 78, \"value\": 1107}, \"1108\": {\"frequency\": 44, \"value\": 1108}, \"1109\": {\"frequency\": 205, \"value\": 1109}, \"1110\": {\"frequency\": 49, \"value\": 1110}, \"1111\": {\"frequency\": 33, \"value\": 1111}, \"1112\": {\"frequency\": 679, \"value\": 1112}, \"1113\": {\"frequency\": 319, \"value\": 1113}, \"1114\": {\"frequency\": 134, \"value\": 1114}, \"1115\": {\"frequency\": 109, \"value\": 1115}, \"1116\": {\"frequency\": 142, \"value\": 1116}, \"1117\": {\"frequency\": 754, \"value\": 1117}, \"1118\": {\"frequency\": 30, \"value\": 1118}, \"1119\": {\"frequency\": 395, \"value\": 1119}, \"1120\": {\"frequency\": 735, \"value\": 1120}, \"1121\": {\"frequency\": 289, \"value\": 1121}, \"1122\": {\"frequency\": 114, \"value\": 1122}, \"1123\": {\"frequency\": 30, \"value\": 1123}, \"1124\": {\"frequency\": 389, \"value\": 1124}, \"1125\": {\"frequency\": 580, \"value\": 1125}, \"1126\": {\"frequency\": 21, \"value\": 1126}, \"1127\": {\"frequency\": 131, \"value\": 1127}, \"1128\": {\"frequency\": 498, \"value\": 1128}, \"1129\": {\"frequency\": 103, \"value\": 1129}, \"1130\": {\"frequency\": 279, \"value\": 1130}, \"1131\": {\"frequency\": 103, \"value\": 1131}, \"1132\": {\"frequency\": 163, \"value\": 1132}, \"1133\": {\"frequency\": 168, \"value\": 1133}, \"1134\": {\"frequency\": 150, \"value\": 1134}, \"1135\": {\"frequency\": 172, \"value\": 1135}, \"1136\": {\"frequency\": 56, \"value\": 1136}, \"1137\": {\"frequency\": 564, \"value\": 1137}, \"1138\": {\"frequency\": 89, \"value\": 1138}, \"1139\": {\"frequency\": 182, \"value\": 1139}, \"1140\": {\"frequency\": 374, \"value\": 1140}, \"1141\": {\"frequency\": 466, \"value\": 1141}, \"1142\": {\"frequency\": 263, \"value\": 1142}, \"1143\": {\"frequency\": 53, \"value\": 1143}, \"1144\": {\"frequency\": 22, \"value\": 1144}, \"1145\": {\"frequency\": 57, \"value\": 1145}, \"1146\": {\"frequency\": 378, \"value\": 1146}, \"1147\": {\"frequency\": 333, \"value\": 1147}, \"1148\": {\"frequency\": 59, \"value\": 1148}, \"1149\": {\"frequency\": 89, \"value\": 1149}, \"1150\": {\"frequency\": 1302, \"value\": 1150}, \"1151\": {\"frequency\": 308, \"value\": 1151}, \"1152\": {\"frequency\": 149, \"value\": 1152}, \"1153\": {\"frequency\": 76, \"value\": 1153}, \"1154\": {\"frequency\": 24, \"value\": 1154}, \"1155\": {\"frequency\": 182, \"value\": 1155}, \"1156\": {\"frequency\": 72, \"value\": 1156}, \"1157\": {\"frequency\": 22, \"value\": 1157}, \"1158\": {\"frequency\": 64, \"value\": 1158}, \"1159\": {\"frequency\": 121, \"value\": 1159}, \"1160\": {\"frequency\": 107, \"value\": 1160}, \"1161\": {\"frequency\": 95, \"value\": 1161}, \"1162\": {\"frequency\": 156, \"value\": 1162}, \"1163\": {\"frequency\": 64, \"value\": 1163}, \"1164\": {\"frequency\": 458, \"value\": 1164}, \"1165\": {\"frequency\": 141, \"value\": 1165}, \"1166\": {\"frequency\": 26, \"value\": 1166}, \"1167\": {\"frequency\": 70, \"value\": 1167}, \"1168\": {\"frequency\": 233, \"value\": 1168}, \"1169\": {\"frequency\": 118, \"value\": 1169}, \"1170\": {\"frequency\": 258, \"value\": 1170}, \"1171\": {\"frequency\": 28, \"value\": 1171}, \"1172\": {\"frequency\": 443, \"value\": 1172}, \"1173\": {\"frequency\": 361, \"value\": 1173}, \"1174\": {\"frequency\": 24, \"value\": 1174}, \"1175\": {\"frequency\": 72, \"value\": 1175}, \"1176\": {\"frequency\": 126, \"value\": 1176}, \"1177\": {\"frequency\": 79, \"value\": 1177}, \"1178\": {\"frequency\": 36, \"value\": 1178}, \"1179\": {\"frequency\": 234, \"value\": 1179}, \"1180\": {\"frequency\": 37, \"value\": 1180}, \"1181\": {\"frequency\": 1521, \"value\": 1181}, \"1182\": {\"frequency\": 364, \"value\": 1182}, \"1183\": {\"frequency\": 186, \"value\": 1183}, \"1184\": {\"frequency\": 278, \"value\": 1184}, \"1185\": {\"frequency\": 90, \"value\": 1185}, \"1186\": {\"frequency\": 206, \"value\": 1186}, \"1187\": {\"frequency\": 31, \"value\": 1187}, \"1188\": {\"frequency\": 31, \"value\": 1188}, \"1189\": {\"frequency\": 25, \"value\": 1189}, \"1190\": {\"frequency\": 27, \"value\": 1190}, \"1191\": {\"frequency\": 105, \"value\": 1191}, \"1192\": {\"frequency\": 29, \"value\": 1192}, \"1193\": {\"frequency\": 276, \"value\": 1193}, \"1194\": {\"frequency\": 649, \"value\": 1194}, \"1195\": {\"frequency\": 96, \"value\": 1195}, \"1196\": {\"frequency\": 112, \"value\": 1196}, \"1197\": {\"frequency\": 24, \"value\": 1197}, \"1198\": {\"frequency\": 102, \"value\": 1198}, \"1199\": {\"frequency\": 179, \"value\": 1199}, \"1200\": {\"frequency\": 39, \"value\": 1200}, \"1201\": {\"frequency\": 66, \"value\": 1201}, \"1202\": {\"frequency\": 520, \"value\": 1202}, \"1203\": {\"frequency\": 741, \"value\": 1203}, \"1204\": {\"frequency\": 136, \"value\": 1204}, \"1205\": {\"frequency\": 85, \"value\": 1205}, \"1206\": {\"frequency\": 141, \"value\": 1206}, \"1207\": {\"frequency\": 618, \"value\": 1207}, \"1208\": {\"frequency\": 48, \"value\": 1208}, \"1209\": {\"frequency\": 221, \"value\": 1209}, \"1210\": {\"frequency\": 39, \"value\": 1210}, \"1211\": {\"frequency\": 397, \"value\": 1211}, \"1212\": {\"frequency\": 69, \"value\": 1212}, \"1213\": {\"frequency\": 24, \"value\": 1213}, \"1214\": {\"frequency\": 46, \"value\": 1214}, \"1215\": {\"frequency\": 115, \"value\": 1215}, \"1216\": {\"frequency\": 213, \"value\": 1216}, \"1217\": {\"frequency\": 51, \"value\": 1217}, \"1218\": {\"frequency\": 235, \"value\": 1218}, \"1219\": {\"frequency\": 224, \"value\": 1219}, \"1220\": {\"frequency\": 195, \"value\": 1220}, \"1221\": {\"frequency\": 221, \"value\": 1221}, \"1222\": {\"frequency\": 68, \"value\": 1222}, \"1223\": {\"frequency\": 146, \"value\": 1223}, \"1224\": {\"frequency\": 578, \"value\": 1224}, \"1225\": {\"frequency\": 28, \"value\": 1225}, \"1226\": {\"frequency\": 21, \"value\": 1226}, \"1227\": {\"frequency\": 154, \"value\": 1227}, \"1228\": {\"frequency\": 251, \"value\": 1228}, \"1229\": {\"frequency\": 30, \"value\": 1229}, \"1230\": {\"frequency\": 253, \"value\": 1230}, \"1231\": {\"frequency\": 110, \"value\": 1231}, \"1232\": {\"frequency\": 135, \"value\": 1232}, \"1233\": {\"frequency\": 61, \"value\": 1233}, \"1234\": {\"frequency\": 24, \"value\": 1234}, \"1235\": {\"frequency\": 50, \"value\": 1235}, \"1236\": {\"frequency\": 24, \"value\": 1236}, \"1237\": {\"frequency\": 30, \"value\": 1237}, \"1238\": {\"frequency\": 45, \"value\": 1238}, \"1239\": {\"frequency\": 88, \"value\": 1239}, \"1240\": {\"frequency\": 30, \"value\": 1240}, \"1241\": {\"frequency\": 194, \"value\": 1241}, \"1242\": {\"frequency\": 616, \"value\": 1242}, \"1243\": {\"frequency\": 368, \"value\": 1243}, \"1244\": {\"frequency\": 543, \"value\": 1244}, \"1245\": {\"frequency\": 36, \"value\": 1245}, \"1246\": {\"frequency\": 572, \"value\": 1246}, \"1247\": {\"frequency\": 36, \"value\": 1247}, \"1248\": {\"frequency\": 94, \"value\": 1248}, \"1249\": {\"frequency\": 25, \"value\": 1249}, \"1250\": {\"frequency\": 21, \"value\": 1250}, \"1251\": {\"frequency\": 45, \"value\": 1251}, \"1252\": {\"frequency\": 118, \"value\": 1252}, \"1253\": {\"frequency\": 74, \"value\": 1253}, \"1254\": {\"frequency\": 110, \"value\": 1254}, \"1255\": {\"frequency\": 235, \"value\": 1255}, \"1256\": {\"frequency\": 32, \"value\": 1256}, \"1257\": {\"frequency\": 49, \"value\": 1257}, \"1259\": {\"frequency\": 60, \"value\": 1259}, \"1260\": {\"frequency\": 509, \"value\": 1260}, \"1261\": {\"frequency\": 195, \"value\": 1261}, \"1262\": {\"frequency\": 158, \"value\": 1262}, \"1263\": {\"frequency\": 279, \"value\": 1263}, \"1264\": {\"frequency\": 711, \"value\": 1264}, \"1265\": {\"frequency\": 343, \"value\": 1265}, \"1266\": {\"frequency\": 726, \"value\": 1266}, \"1267\": {\"frequency\": 170, \"value\": 1267}, \"1268\": {\"frequency\": 202, \"value\": 1268}, \"1269\": {\"frequency\": 32, \"value\": 1269}, \"1270\": {\"frequency\": 29, \"value\": 1270}, \"1271\": {\"frequency\": 170, \"value\": 1271}, \"1272\": {\"frequency\": 284, \"value\": 1272}, \"1273\": {\"frequency\": 334, \"value\": 1273}, \"1274\": {\"frequency\": 591, \"value\": 1274}, \"1275\": {\"frequency\": 30, \"value\": 1275}, \"1276\": {\"frequency\": 77, \"value\": 1276}, \"1277\": {\"frequency\": 37, \"value\": 1277}, \"1278\": {\"frequency\": 67, \"value\": 1278}, \"1279\": {\"frequency\": 361, \"value\": 1279}, \"1280\": {\"frequency\": 50, \"value\": 1280}, \"1281\": {\"frequency\": 144, \"value\": 1281}, \"1282\": {\"frequency\": 21, \"value\": 1282}, \"1283\": {\"frequency\": 46, \"value\": 1283}, \"1284\": {\"frequency\": 507, \"value\": 1284}, \"1285\": {\"frequency\": 1144, \"value\": 1285}, \"1286\": {\"frequency\": 68, \"value\": 1286}, \"1287\": {\"frequency\": 94, \"value\": 1287}, \"1288\": {\"frequency\": 129, \"value\": 1288}, \"1289\": {\"frequency\": 39, \"value\": 1289}, \"1290\": {\"frequency\": 55, \"value\": 1290}, \"1291\": {\"frequency\": 283, \"value\": 1291}, \"1292\": {\"frequency\": 48, \"value\": 1292}, \"1293\": {\"frequency\": 68, \"value\": 1293}, \"1294\": {\"frequency\": 261, \"value\": 1294}, \"1295\": {\"frequency\": 40, \"value\": 1295}, \"1296\": {\"frequency\": 48, \"value\": 1296}, \"1297\": {\"frequency\": 487, \"value\": 1297}, \"1298\": {\"frequency\": 614, \"value\": 1298}, \"1299\": {\"frequency\": 234, \"value\": 1299}, \"1300\": {\"frequency\": 166, \"value\": 1300}, \"1301\": {\"frequency\": 297, \"value\": 1301}, \"1302\": {\"frequency\": 60, \"value\": 1302}, \"1303\": {\"frequency\": 677, \"value\": 1303}, \"1304\": {\"frequency\": 84, \"value\": 1304}, \"1305\": {\"frequency\": 21, \"value\": 1305}, \"1306\": {\"frequency\": 461, \"value\": 1306}, \"1307\": {\"frequency\": 21, \"value\": 1307}, \"1308\": {\"frequency\": 89, \"value\": 1308}, \"1309\": {\"frequency\": 24, \"value\": 1309}, \"1310\": {\"frequency\": 24, \"value\": 1310}, \"1311\": {\"frequency\": 188, \"value\": 1311}, \"1312\": {\"frequency\": 155, \"value\": 1312}, \"1313\": {\"frequency\": 29, \"value\": 1313}, \"1314\": {\"frequency\": 228, \"value\": 1314}, \"1315\": {\"frequency\": 93, \"value\": 1315}, \"1316\": {\"frequency\": 38, \"value\": 1316}, \"1317\": {\"frequency\": 799, \"value\": 1317}, \"1318\": {\"frequency\": 21, \"value\": 1318}, \"1319\": {\"frequency\": 28, \"value\": 1319}, \"1320\": {\"frequency\": 117, \"value\": 1320}, \"1321\": {\"frequency\": 171, \"value\": 1321}, \"1322\": {\"frequency\": 384, \"value\": 1322}, \"1323\": {\"frequency\": 148, \"value\": 1323}, \"1324\": {\"frequency\": 108, \"value\": 1324}, \"1325\": {\"frequency\": 282, \"value\": 1325}, \"1326\": {\"frequency\": 37, \"value\": 1326}, \"1327\": {\"frequency\": 71, \"value\": 1327}, \"1328\": {\"frequency\": 125, \"value\": 1328}, \"1329\": {\"frequency\": 410, \"value\": 1329}, \"1330\": {\"frequency\": 46, \"value\": 1330}, \"1331\": {\"frequency\": 150, \"value\": 1331}, \"1332\": {\"frequency\": 32, \"value\": 1332}, \"1333\": {\"frequency\": 557, \"value\": 1333}, \"1334\": {\"frequency\": 59, \"value\": 1334}, \"1335\": {\"frequency\": 307, \"value\": 1335}, \"1336\": {\"frequency\": 23, \"value\": 1336}, \"1337\": {\"frequency\": 65, \"value\": 1337}, \"1338\": {\"frequency\": 132, \"value\": 1338}, \"1339\": {\"frequency\": 213, \"value\": 1339}, \"1340\": {\"frequency\": 805, \"value\": 1340}, \"1341\": {\"frequency\": 87, \"value\": 1341}, \"1342\": {\"frequency\": 92, \"value\": 1342}, \"1343\": {\"frequency\": 279, \"value\": 1343}, \"1344\": {\"frequency\": 75, \"value\": 1344}, \"1345\": {\"frequency\": 189, \"value\": 1345}, \"1346\": {\"frequency\": 28, \"value\": 1346}, \"1347\": {\"frequency\": 158, \"value\": 1347}, \"1348\": {\"frequency\": 139, \"value\": 1348}, \"1349\": {\"frequency\": 43, \"value\": 1349}, \"1350\": {\"frequency\": 112, \"value\": 1350}, \"1351\": {\"frequency\": 20, \"value\": 1351}, \"1352\": {\"frequency\": 158, \"value\": 1352}, \"1353\": {\"frequency\": 63, \"value\": 1353}, \"1354\": {\"frequency\": 684, \"value\": 1354}, \"1355\": {\"frequency\": 53, \"value\": 1355}, \"1356\": {\"frequency\": 461, \"value\": 1356}, \"1357\": {\"frequency\": 177, \"value\": 1357}, \"1358\": {\"frequency\": 231, \"value\": 1358}, \"1359\": {\"frequency\": 96, \"value\": 1359}, \"1360\": {\"frequency\": 103, \"value\": 1360}, \"1361\": {\"frequency\": 133, \"value\": 1361}, \"1362\": {\"frequency\": 219, \"value\": 1362}, \"1363\": {\"frequency\": 21, \"value\": 1363}, \"1364\": {\"frequency\": 55, \"value\": 1364}, \"1365\": {\"frequency\": 67, \"value\": 1365}, \"1366\": {\"frequency\": 143, \"value\": 1366}, \"1367\": {\"frequency\": 211, \"value\": 1367}, \"1368\": {\"frequency\": 44, \"value\": 1368}, \"1369\": {\"frequency\": 404, \"value\": 1369}, \"1370\": {\"frequency\": 148, \"value\": 1370}, \"1371\": {\"frequency\": 44, \"value\": 1371}, \"1372\": {\"frequency\": 53, \"value\": 1372}, \"1373\": {\"frequency\": 74, \"value\": 1373}, \"1374\": {\"frequency\": 103, \"value\": 1374}, \"1375\": {\"frequency\": 60, \"value\": 1375}, \"1376\": {\"frequency\": 94, \"value\": 1376}, \"1377\": {\"frequency\": 521, \"value\": 1377}, \"1378\": {\"frequency\": 58, \"value\": 1378}, \"1379\": {\"frequency\": 32, \"value\": 1379}, \"1380\": {\"frequency\": 253, \"value\": 1380}, \"1381\": {\"frequency\": 69, \"value\": 1381}, \"1382\": {\"frequency\": 36, \"value\": 1382}, \"1383\": {\"frequency\": 822, \"value\": 1383}, \"1384\": {\"frequency\": 22, \"value\": 1384}, \"1385\": {\"frequency\": 22, \"value\": 1385}, \"1386\": {\"frequency\": 82, \"value\": 1386}, \"1387\": {\"frequency\": 223, \"value\": 1387}, \"1388\": {\"frequency\": 53, \"value\": 1388}, \"1389\": {\"frequency\": 411, \"value\": 1389}, \"1390\": {\"frequency\": 309, \"value\": 1390}, \"1391\": {\"frequency\": 209, \"value\": 1391}, \"1392\": {\"frequency\": 243, \"value\": 1392}, \"1393\": {\"frequency\": 109, \"value\": 1393}, \"1394\": {\"frequency\": 27, \"value\": 1394}, \"1395\": {\"frequency\": 312, \"value\": 1395}, \"1396\": {\"frequency\": 186, \"value\": 1396}, \"1397\": {\"frequency\": 53, \"value\": 1397}, \"1398\": {\"frequency\": 38, \"value\": 1398}, \"1399\": {\"frequency\": 288, \"value\": 1399}, \"1400\": {\"frequency\": 58, \"value\": 1400}, \"1401\": {\"frequency\": 56, \"value\": 1401}, \"1402\": {\"frequency\": 49, \"value\": 1402}, \"1403\": {\"frequency\": 65, \"value\": 1403}, \"1404\": {\"frequency\": 332, \"value\": 1404}, \"1405\": {\"frequency\": 45, \"value\": 1405}, \"1406\": {\"frequency\": 20, \"value\": 1406}, \"1407\": {\"frequency\": 182, \"value\": 1407}, \"1408\": {\"frequency\": 136, \"value\": 1408}, \"1409\": {\"frequency\": 84, \"value\": 1409}, \"1410\": {\"frequency\": 78, \"value\": 1410}, \"1411\": {\"frequency\": 60, \"value\": 1411}, \"1412\": {\"frequency\": 24, \"value\": 1412}, \"1413\": {\"frequency\": 185, \"value\": 1413}, \"1414\": {\"frequency\": 74, \"value\": 1414}, \"1415\": {\"frequency\": 179, \"value\": 1415}, \"1416\": {\"frequency\": 22, \"value\": 1416}, \"1417\": {\"frequency\": 29, \"value\": 1417}, \"1418\": {\"frequency\": 286, \"value\": 1418}, \"1419\": {\"frequency\": 51, \"value\": 1419}, \"1420\": {\"frequency\": 279, \"value\": 1420}, \"1421\": {\"frequency\": 195, \"value\": 1421}, \"1422\": {\"frequency\": 728, \"value\": 1422}, \"1423\": {\"frequency\": 80, \"value\": 1423}, \"1424\": {\"frequency\": 44, \"value\": 1424}, \"1425\": {\"frequency\": 778, \"value\": 1425}, \"1426\": {\"frequency\": 382, \"value\": 1426}, \"1427\": {\"frequency\": 153, \"value\": 1427}, \"1428\": {\"frequency\": 52, \"value\": 1428}, \"1429\": {\"frequency\": 24, \"value\": 1429}, \"1430\": {\"frequency\": 116, \"value\": 1430}, \"1431\": {\"frequency\": 21, \"value\": 1431}, \"1432\": {\"frequency\": 35, \"value\": 1432}, \"1433\": {\"frequency\": 89, \"value\": 1433}, \"1434\": {\"frequency\": 279, \"value\": 1434}, \"1435\": {\"frequency\": 35, \"value\": 1435}, \"1436\": {\"frequency\": 66, \"value\": 1436}, \"1437\": {\"frequency\": 155, \"value\": 1437}, \"1438\": {\"frequency\": 44, \"value\": 1438}, \"1439\": {\"frequency\": 30, \"value\": 1439}, \"1440\": {\"frequency\": 136, \"value\": 1440}, \"1441\": {\"frequency\": 102, \"value\": 1441}, \"1442\": {\"frequency\": 160, \"value\": 1442}, \"1443\": {\"frequency\": 40, \"value\": 1443}, \"1444\": {\"frequency\": 29, \"value\": 1444}, \"1445\": {\"frequency\": 31, \"value\": 1445}, \"1446\": {\"frequency\": 97, \"value\": 1446}, \"1447\": {\"frequency\": 990, \"value\": 1447}, \"1448\": {\"frequency\": 1038, \"value\": 1448}, \"1449\": {\"frequency\": 1243, \"value\": 1449}, \"1450\": {\"frequency\": 109, \"value\": 1450}, \"1451\": {\"frequency\": 751, \"value\": 1451}, \"1452\": {\"frequency\": 20, \"value\": 1452}, \"1453\": {\"frequency\": 28, \"value\": 1453}, \"1454\": {\"frequency\": 22, \"value\": 1454}, \"1455\": {\"frequency\": 61, \"value\": 1455}, \"1456\": {\"frequency\": 22, \"value\": 1456}, \"1457\": {\"frequency\": 307, \"value\": 1457}, \"1458\": {\"frequency\": 97, \"value\": 1458}, \"1459\": {\"frequency\": 21, \"value\": 1459}, \"1460\": {\"frequency\": 28, \"value\": 1460}, \"1461\": {\"frequency\": 50, \"value\": 1461}, \"1462\": {\"frequency\": 38, \"value\": 1462}, \"1463\": {\"frequency\": 116, \"value\": 1463}, \"1464\": {\"frequency\": 108, \"value\": 1464}, \"1465\": {\"frequency\": 611, \"value\": 1465}, \"1466\": {\"frequency\": 252, \"value\": 1466}, \"1467\": {\"frequency\": 88, \"value\": 1467}, \"1468\": {\"frequency\": 102, \"value\": 1468}, \"1469\": {\"frequency\": 32, \"value\": 1469}, \"1470\": {\"frequency\": 710, \"value\": 1470}, \"1471\": {\"frequency\": 27, \"value\": 1471}, \"1472\": {\"frequency\": 233, \"value\": 1472}, \"1473\": {\"frequency\": 240, \"value\": 1473}, \"1474\": {\"frequency\": 130, \"value\": 1474}, \"1475\": {\"frequency\": 79, \"value\": 1475}, \"1476\": {\"frequency\": 70, \"value\": 1476}, \"1477\": {\"frequency\": 33, \"value\": 1477}, \"1478\": {\"frequency\": 32, \"value\": 1478}, \"1479\": {\"frequency\": 29, \"value\": 1479}, \"1480\": {\"frequency\": 43, \"value\": 1480}, \"1481\": {\"frequency\": 100, \"value\": 1481}, \"1482\": {\"frequency\": 61, \"value\": 1482}, \"1483\": {\"frequency\": 258, \"value\": 1483}, \"1484\": {\"frequency\": 314, \"value\": 1484}, \"1485\": {\"frequency\": 23, \"value\": 1485}, \"1486\": {\"frequency\": 48, \"value\": 1486}, \"1487\": {\"frequency\": 41, \"value\": 1487}, \"1488\": {\"frequency\": 21, \"value\": 1488}, \"1489\": {\"frequency\": 489, \"value\": 1489}, \"1490\": {\"frequency\": 180, \"value\": 1490}, \"1491\": {\"frequency\": 253, \"value\": 1491}, \"1492\": {\"frequency\": 107, \"value\": 1492}, \"1493\": {\"frequency\": 20, \"value\": 1493}, \"1494\": {\"frequency\": 98, \"value\": 1494}, \"1495\": {\"frequency\": 182, \"value\": 1495}, \"1496\": {\"frequency\": 597, \"value\": 1496}, \"1497\": {\"frequency\": 199, \"value\": 1497}, \"1498\": {\"frequency\": 116, \"value\": 1498}, \"1499\": {\"frequency\": 130, \"value\": 1499}, \"1500\": {\"frequency\": 115, \"value\": 1500}, \"1501\": {\"frequency\": 542, \"value\": 1501}, \"1502\": {\"frequency\": 273, \"value\": 1502}, \"1503\": {\"frequency\": 272, \"value\": 1503}, \"1504\": {\"frequency\": 42, \"value\": 1504}, \"1505\": {\"frequency\": 318, \"value\": 1505}, \"1506\": {\"frequency\": 105, \"value\": 1506}, \"1507\": {\"frequency\": 108, \"value\": 1507}, \"1508\": {\"frequency\": 29, \"value\": 1508}, \"1509\": {\"frequency\": 297, \"value\": 1509}, \"1510\": {\"frequency\": 33, \"value\": 1510}, \"1511\": {\"frequency\": 91, \"value\": 1511}, \"1512\": {\"frequency\": 34, \"value\": 1512}, \"1513\": {\"frequency\": 143, \"value\": 1513}, \"1514\": {\"frequency\": 127, \"value\": 1514}, \"1515\": {\"frequency\": 24, \"value\": 1515}, \"1516\": {\"frequency\": 292, \"value\": 1516}, \"1517\": {\"frequency\": 64, \"value\": 1517}, \"1518\": {\"frequency\": 25, \"value\": 1518}, \"1519\": {\"frequency\": 87, \"value\": 1519}, \"1520\": {\"frequency\": 23, \"value\": 1520}, \"1521\": {\"frequency\": 72, \"value\": 1521}, \"1522\": {\"frequency\": 78, \"value\": 1522}, \"1523\": {\"frequency\": 92, \"value\": 1523}, \"1524\": {\"frequency\": 253, \"value\": 1524}, \"1525\": {\"frequency\": 101, \"value\": 1525}, \"1526\": {\"frequency\": 32, \"value\": 1526}, \"1527\": {\"frequency\": 104, \"value\": 1527}, \"1528\": {\"frequency\": 69, \"value\": 1528}, \"1529\": {\"frequency\": 30, \"value\": 1529}, \"1530\": {\"frequency\": 404, \"value\": 1530}, \"1531\": {\"frequency\": 39, \"value\": 1531}, \"1532\": {\"frequency\": 126, \"value\": 1532}, \"1533\": {\"frequency\": 75, \"value\": 1533}, \"1534\": {\"frequency\": 21, \"value\": 1534}, \"1535\": {\"frequency\": 29, \"value\": 1535}, \"1536\": {\"frequency\": 36, \"value\": 1536}, \"1537\": {\"frequency\": 38, \"value\": 1537}, \"1538\": {\"frequency\": 93, \"value\": 1538}, \"1539\": {\"frequency\": 27, \"value\": 1539}, \"1540\": {\"frequency\": 118, \"value\": 1540}, \"1541\": {\"frequency\": 26, \"value\": 1541}, \"1542\": {\"frequency\": 293, \"value\": 1542}, \"1543\": {\"frequency\": 173, \"value\": 1543}, \"1544\": {\"frequency\": 165, \"value\": 1544}, \"1545\": {\"frequency\": 217, \"value\": 1545}, \"1546\": {\"frequency\": 342, \"value\": 1546}, \"1547\": {\"frequency\": 134, \"value\": 1547}, \"1548\": {\"frequency\": 48, \"value\": 1548}, \"1549\": {\"frequency\": 21, \"value\": 1549}, \"1550\": {\"frequency\": 29, \"value\": 1550}, \"1551\": {\"frequency\": 166, \"value\": 1551}, \"1552\": {\"frequency\": 255, \"value\": 1552}, \"1553\": {\"frequency\": 43, \"value\": 1553}, \"1554\": {\"frequency\": 31, \"value\": 1554}, \"1555\": {\"frequency\": 79, \"value\": 1555}, \"1556\": {\"frequency\": 345, \"value\": 1556}, \"1557\": {\"frequency\": 57, \"value\": 1557}, \"1558\": {\"frequency\": 26, \"value\": 1558}, \"1559\": {\"frequency\": 51, \"value\": 1559}, \"1560\": {\"frequency\": 164, \"value\": 1560}, \"1561\": {\"frequency\": 161, \"value\": 1561}, \"1562\": {\"frequency\": 38, \"value\": 1562}, \"1563\": {\"frequency\": 84, \"value\": 1563}, \"1564\": {\"frequency\": 124, \"value\": 1564}, \"1565\": {\"frequency\": 47, \"value\": 1565}, \"1566\": {\"frequency\": 24, \"value\": 1566}, \"1567\": {\"frequency\": 100, \"value\": 1567}, \"1568\": {\"frequency\": 28, \"value\": 1568}, \"1569\": {\"frequency\": 90, \"value\": 1569}, \"1570\": {\"frequency\": 66, \"value\": 1570}, \"1571\": {\"frequency\": 153, \"value\": 1571}, \"1572\": {\"frequency\": 45, \"value\": 1572}, \"1573\": {\"frequency\": 29, \"value\": 1573}, \"1574\": {\"frequency\": 52, \"value\": 1574}, \"1575\": {\"frequency\": 54, \"value\": 1575}, \"1576\": {\"frequency\": 48, \"value\": 1576}, \"1577\": {\"frequency\": 125, \"value\": 1577}, \"1578\": {\"frequency\": 31, \"value\": 1578}, \"1579\": {\"frequency\": 765, \"value\": 1579}, \"1580\": {\"frequency\": 37, \"value\": 1580}, \"1581\": {\"frequency\": 41, \"value\": 1581}, \"1582\": {\"frequency\": 22, \"value\": 1582}, \"1583\": {\"frequency\": 52, \"value\": 1583}, \"1584\": {\"frequency\": 461, \"value\": 1584}, \"1585\": {\"frequency\": 112, \"value\": 1585}, \"1586\": {\"frequency\": 415, \"value\": 1586}, \"1587\": {\"frequency\": 554, \"value\": 1587}, \"1588\": {\"frequency\": 47, \"value\": 1588}, \"1589\": {\"frequency\": 99, \"value\": 1589}, \"1590\": {\"frequency\": 40, \"value\": 1590}, \"1591\": {\"frequency\": 314, \"value\": 1591}, \"1592\": {\"frequency\": 306, \"value\": 1592}, \"1593\": {\"frequency\": 206, \"value\": 1593}, \"1594\": {\"frequency\": 147, \"value\": 1594}, \"1595\": {\"frequency\": 133, \"value\": 1595}, \"1596\": {\"frequency\": 23, \"value\": 1596}, \"1597\": {\"frequency\": 230, \"value\": 1597}, \"1598\": {\"frequency\": 184, \"value\": 1598}, \"1599\": {\"frequency\": 550, \"value\": 1599}, \"1600\": {\"frequency\": 394, \"value\": 1600}, \"1601\": {\"frequency\": 205, \"value\": 1601}, \"1602\": {\"frequency\": 120, \"value\": 1602}, \"1603\": {\"frequency\": 70, \"value\": 1603}, \"1604\": {\"frequency\": 24, \"value\": 1604}, \"1605\": {\"frequency\": 964, \"value\": 1605}, \"1606\": {\"frequency\": 206, \"value\": 1606}, \"1607\": {\"frequency\": 276, \"value\": 1607}, \"1608\": {\"frequency\": 144, \"value\": 1608}, \"1609\": {\"frequency\": 359, \"value\": 1609}, \"1610\": {\"frequency\": 28, \"value\": 1610}, \"1611\": {\"frequency\": 556, \"value\": 1611}, \"1612\": {\"frequency\": 23, \"value\": 1612}, \"1613\": {\"frequency\": 795, \"value\": 1613}, \"1614\": {\"frequency\": 61, \"value\": 1614}, \"1615\": {\"frequency\": 21, \"value\": 1615}, \"1616\": {\"frequency\": 254, \"value\": 1616}, \"1617\": {\"frequency\": 228, \"value\": 1617}, \"1618\": {\"frequency\": 91, \"value\": 1618}, \"1619\": {\"frequency\": 33, \"value\": 1619}, \"1620\": {\"frequency\": 36, \"value\": 1620}, \"1621\": {\"frequency\": 22, \"value\": 1621}, \"1622\": {\"frequency\": 26, \"value\": 1622}, \"1623\": {\"frequency\": 70, \"value\": 1623}, \"1624\": {\"frequency\": 350, \"value\": 1624}, \"1625\": {\"frequency\": 45, \"value\": 1625}, \"1626\": {\"frequency\": 271, \"value\": 1626}, \"1627\": {\"frequency\": 48, \"value\": 1627}, \"1628\": {\"frequency\": 451, \"value\": 1628}, \"1629\": {\"frequency\": 65, \"value\": 1629}, \"1630\": {\"frequency\": 117, \"value\": 1630}, \"1631\": {\"frequency\": 260, \"value\": 1631}, \"1632\": {\"frequency\": 768, \"value\": 1632}, \"1633\": {\"frequency\": 34, \"value\": 1633}, \"1634\": {\"frequency\": 106, \"value\": 1634}, \"1635\": {\"frequency\": 793, \"value\": 1635}, \"1636\": {\"frequency\": 170, \"value\": 1636}, \"1637\": {\"frequency\": 85, \"value\": 1637}, \"1638\": {\"frequency\": 39, \"value\": 1638}, \"1639\": {\"frequency\": 551, \"value\": 1639}, \"1640\": {\"frequency\": 161, \"value\": 1640}, \"1641\": {\"frequency\": 232, \"value\": 1641}, \"1642\": {\"frequency\": 74, \"value\": 1642}, \"1643\": {\"frequency\": 233, \"value\": 1643}, \"1644\": {\"frequency\": 48, \"value\": 1644}, \"1645\": {\"frequency\": 522, \"value\": 1645}, \"1646\": {\"frequency\": 62, \"value\": 1646}, \"1647\": {\"frequency\": 882, \"value\": 1647}, \"1648\": {\"frequency\": 149, \"value\": 1648}, \"1649\": {\"frequency\": 57, \"value\": 1649}, \"1650\": {\"frequency\": 213, \"value\": 1650}, \"1651\": {\"frequency\": 35, \"value\": 1651}, \"1652\": {\"frequency\": 27, \"value\": 1652}, \"1653\": {\"frequency\": 25, \"value\": 1653}, \"1654\": {\"frequency\": 47, \"value\": 1654}, \"1655\": {\"frequency\": 175, \"value\": 1655}, \"1656\": {\"frequency\": 25, \"value\": 1656}, \"1657\": {\"frequency\": 45, \"value\": 1657}, \"1658\": {\"frequency\": 398, \"value\": 1658}, \"1659\": {\"frequency\": 57, \"value\": 1659}, \"1660\": {\"frequency\": 62, \"value\": 1660}, \"1661\": {\"frequency\": 37, \"value\": 1661}, \"1662\": {\"frequency\": 25, \"value\": 1662}, \"1663\": {\"frequency\": 46, \"value\": 1663}, \"1664\": {\"frequency\": 20, \"value\": 1664}, \"1665\": {\"frequency\": 63, \"value\": 1665}, \"1666\": {\"frequency\": 397, \"value\": 1666}, \"1667\": {\"frequency\": 499, \"value\": 1667}, \"1668\": {\"frequency\": 29, \"value\": 1668}, \"1669\": {\"frequency\": 30, \"value\": 1669}, \"1670\": {\"frequency\": 56, \"value\": 1670}, \"1671\": {\"frequency\": 638, \"value\": 1671}, \"1672\": {\"frequency\": 39, \"value\": 1672}, \"1673\": {\"frequency\": 81, \"value\": 1673}, \"1674\": {\"frequency\": 22, \"value\": 1674}, \"1675\": {\"frequency\": 565, \"value\": 1675}, \"1676\": {\"frequency\": 865, \"value\": 1676}, \"1677\": {\"frequency\": 43, \"value\": 1677}, \"1678\": {\"frequency\": 122, \"value\": 1678}, \"1679\": {\"frequency\": 82, \"value\": 1679}, \"1680\": {\"frequency\": 1850, \"value\": 1680}, \"1681\": {\"frequency\": 121, \"value\": 1681}, \"1682\": {\"frequency\": 27, \"value\": 1682}, \"1683\": {\"frequency\": 175, \"value\": 1683}, \"1684\": {\"frequency\": 62, \"value\": 1684}, \"1685\": {\"frequency\": 430, \"value\": 1685}, \"1686\": {\"frequency\": 28, \"value\": 1686}, \"1687\": {\"frequency\": 393, \"value\": 1687}, \"1688\": {\"frequency\": 132, \"value\": 1688}, \"1689\": {\"frequency\": 128, \"value\": 1689}, \"1690\": {\"frequency\": 149, \"value\": 1690}, \"1691\": {\"frequency\": 50, \"value\": 1691}, \"1692\": {\"frequency\": 207, \"value\": 1692}, \"1693\": {\"frequency\": 310, \"value\": 1693}, \"1694\": {\"frequency\": 398, \"value\": 1694}, \"1695\": {\"frequency\": 196, \"value\": 1695}, \"1696\": {\"frequency\": 314, \"value\": 1696}, \"1697\": {\"frequency\": 354, \"value\": 1697}, \"1698\": {\"frequency\": 957, \"value\": 1698}, \"1699\": {\"frequency\": 348, \"value\": 1699}, \"1700\": {\"frequency\": 45, \"value\": 1700}, \"1701\": {\"frequency\": 552, \"value\": 1701}, \"1702\": {\"frequency\": 80, \"value\": 1702}, \"1703\": {\"frequency\": 26, \"value\": 1703}, \"1704\": {\"frequency\": 36, \"value\": 1704}, \"1705\": {\"frequency\": 85, \"value\": 1705}, \"1706\": {\"frequency\": 210, \"value\": 1706}, \"1707\": {\"frequency\": 88, \"value\": 1707}, \"1708\": {\"frequency\": 22, \"value\": 1708}, \"1709\": {\"frequency\": 210, \"value\": 1709}, \"1710\": {\"frequency\": 79, \"value\": 1710}, \"1711\": {\"frequency\": 29, \"value\": 1711}, \"1712\": {\"frequency\": 511, \"value\": 1712}, \"1713\": {\"frequency\": 21, \"value\": 1713}, \"1714\": {\"frequency\": 274, \"value\": 1714}, \"1715\": {\"frequency\": 46, \"value\": 1715}, \"1716\": {\"frequency\": 195, \"value\": 1716}, \"1717\": {\"frequency\": 424, \"value\": 1717}, \"1718\": {\"frequency\": 32, \"value\": 1718}, \"1719\": {\"frequency\": 26, \"value\": 1719}, \"1720\": {\"frequency\": 46, \"value\": 1720}, \"1721\": {\"frequency\": 115, \"value\": 1721}, \"1722\": {\"frequency\": 206, \"value\": 1722}, \"1723\": {\"frequency\": 146, \"value\": 1723}, \"1724\": {\"frequency\": 159, \"value\": 1724}, \"1725\": {\"frequency\": 36, \"value\": 1725}, \"1726\": {\"frequency\": 382, \"value\": 1726}, \"1727\": {\"frequency\": 514, \"value\": 1727}, \"1728\": {\"frequency\": 47, \"value\": 1728}, \"1729\": {\"frequency\": 58, \"value\": 1729}, \"1730\": {\"frequency\": 24, \"value\": 1730}, \"1731\": {\"frequency\": 68, \"value\": 1731}, \"1732\": {\"frequency\": 34, \"value\": 1732}, \"1733\": {\"frequency\": 839, \"value\": 1733}, \"1734\": {\"frequency\": 74, \"value\": 1734}, \"1735\": {\"frequency\": 77, \"value\": 1735}, \"1736\": {\"frequency\": 195, \"value\": 1736}, \"1737\": {\"frequency\": 775, \"value\": 1737}, \"1738\": {\"frequency\": 67, \"value\": 1738}, \"1739\": {\"frequency\": 78, \"value\": 1739}, \"1740\": {\"frequency\": 66, \"value\": 1740}, \"1741\": {\"frequency\": 660, \"value\": 1741}, \"1742\": {\"frequency\": 47, \"value\": 1742}, \"1743\": {\"frequency\": 95, \"value\": 1743}, \"1744\": {\"frequency\": 140, \"value\": 1744}, \"1745\": {\"frequency\": 70, \"value\": 1745}, \"1746\": {\"frequency\": 326, \"value\": 1746}, \"1747\": {\"frequency\": 108, \"value\": 1747}, \"1748\": {\"frequency\": 589, \"value\": 1748}, \"1749\": {\"frequency\": 562, \"value\": 1749}, \"1750\": {\"frequency\": 73, \"value\": 1750}, \"1751\": {\"frequency\": 21, \"value\": 1751}, \"1752\": {\"frequency\": 434, \"value\": 1752}, \"1753\": {\"frequency\": 284, \"value\": 1753}, \"1754\": {\"frequency\": 29, \"value\": 1754}, \"1755\": {\"frequency\": 368, \"value\": 1755}, \"1756\": {\"frequency\": 49, \"value\": 1756}, \"1757\": {\"frequency\": 385, \"value\": 1757}, \"1758\": {\"frequency\": 430, \"value\": 1758}, \"1759\": {\"frequency\": 254, \"value\": 1759}, \"1760\": {\"frequency\": 66, \"value\": 1760}, \"1761\": {\"frequency\": 113, \"value\": 1761}, \"1762\": {\"frequency\": 74, \"value\": 1762}, \"1763\": {\"frequency\": 26, \"value\": 1763}, \"1764\": {\"frequency\": 613, \"value\": 1764}, \"1765\": {\"frequency\": 106, \"value\": 1765}, \"1766\": {\"frequency\": 26, \"value\": 1766}, \"1767\": {\"frequency\": 306, \"value\": 1767}, \"1768\": {\"frequency\": 142, \"value\": 1768}, \"1769\": {\"frequency\": 73, \"value\": 1769}, \"1770\": {\"frequency\": 89, \"value\": 1770}, \"1771\": {\"frequency\": 24, \"value\": 1771}, \"1772\": {\"frequency\": 34, \"value\": 1772}, \"1773\": {\"frequency\": 61, \"value\": 1773}, \"1774\": {\"frequency\": 40, \"value\": 1774}, \"1775\": {\"frequency\": 155, \"value\": 1775}, \"1776\": {\"frequency\": 422, \"value\": 1776}, \"1777\": {\"frequency\": 55, \"value\": 1777}, \"1778\": {\"frequency\": 546, \"value\": 1778}, \"1779\": {\"frequency\": 149, \"value\": 1779}, \"1780\": {\"frequency\": 616, \"value\": 1780}, \"1781\": {\"frequency\": 106, \"value\": 1781}, \"1782\": {\"frequency\": 38, \"value\": 1782}, \"1783\": {\"frequency\": 21, \"value\": 1783}, \"1784\": {\"frequency\": 52, \"value\": 1784}, \"1785\": {\"frequency\": 54, \"value\": 1785}, \"1786\": {\"frequency\": 53, \"value\": 1786}, \"1787\": {\"frequency\": 28, \"value\": 1787}, \"1788\": {\"frequency\": 32, \"value\": 1788}, \"1789\": {\"frequency\": 58, \"value\": 1789}, \"1790\": {\"frequency\": 339, \"value\": 1790}, \"1791\": {\"frequency\": 145, \"value\": 1791}, \"1792\": {\"frequency\": 39, \"value\": 1792}, \"1793\": {\"frequency\": 287, \"value\": 1793}, \"1794\": {\"frequency\": 453, \"value\": 1794}, \"1795\": {\"frequency\": 25, \"value\": 1795}, \"1796\": {\"frequency\": 176, \"value\": 1796}, \"1797\": {\"frequency\": 175, \"value\": 1797}, \"1798\": {\"frequency\": 67, \"value\": 1798}, \"1799\": {\"frequency\": 91, \"value\": 1799}, \"1800\": {\"frequency\": 252, \"value\": 1800}, \"1801\": {\"frequency\": 21, \"value\": 1801}, \"1802\": {\"frequency\": 211, \"value\": 1802}, \"1803\": {\"frequency\": 284, \"value\": 1803}, \"1804\": {\"frequency\": 116, \"value\": 1804}, \"1805\": {\"frequency\": 174, \"value\": 1805}, \"1806\": {\"frequency\": 214, \"value\": 1806}, \"1807\": {\"frequency\": 202, \"value\": 1807}, \"1808\": {\"frequency\": 31, \"value\": 1808}, \"1809\": {\"frequency\": 56, \"value\": 1809}, \"1810\": {\"frequency\": 40, \"value\": 1810}, \"1811\": {\"frequency\": 30, \"value\": 1811}, \"1812\": {\"frequency\": 698, \"value\": 1812}, \"1813\": {\"frequency\": 22, \"value\": 1813}, \"1814\": {\"frequency\": 49, \"value\": 1814}, \"1815\": {\"frequency\": 39, \"value\": 1815}, \"1816\": {\"frequency\": 62, \"value\": 1816}, \"1817\": {\"frequency\": 123, \"value\": 1817}, \"1818\": {\"frequency\": 43, \"value\": 1818}, \"1819\": {\"frequency\": 116, \"value\": 1819}, \"1820\": {\"frequency\": 317, \"value\": 1820}, \"1821\": {\"frequency\": 27, \"value\": 1821}, \"1822\": {\"frequency\": 67, \"value\": 1822}, \"1823\": {\"frequency\": 28, \"value\": 1823}, \"1824\": {\"frequency\": 159, \"value\": 1824}, \"1825\": {\"frequency\": 151, \"value\": 1825}, \"1826\": {\"frequency\": 57, \"value\": 1826}, \"1827\": {\"frequency\": 49, \"value\": 1827}, \"1828\": {\"frequency\": 143, \"value\": 1828}, \"1829\": {\"frequency\": 30, \"value\": 1829}, \"1830\": {\"frequency\": 30, \"value\": 1830}, \"1831\": {\"frequency\": 111, \"value\": 1831}, \"1832\": {\"frequency\": 44, \"value\": 1832}, \"1833\": {\"frequency\": 100, \"value\": 1833}, \"1834\": {\"frequency\": 65, \"value\": 1834}, \"1835\": {\"frequency\": 770, \"value\": 1835}, \"1836\": {\"frequency\": 416, \"value\": 1836}, \"1837\": {\"frequency\": 782, \"value\": 1837}, \"1838\": {\"frequency\": 27, \"value\": 1838}, \"1839\": {\"frequency\": 87, \"value\": 1839}, \"1840\": {\"frequency\": 24, \"value\": 1840}, \"1841\": {\"frequency\": 227, \"value\": 1841}, \"1842\": {\"frequency\": 465, \"value\": 1842}, \"1843\": {\"frequency\": 119, \"value\": 1843}, \"1844\": {\"frequency\": 20, \"value\": 1844}, \"1845\": {\"frequency\": 220, \"value\": 1845}, \"1846\": {\"frequency\": 61, \"value\": 1846}, \"1847\": {\"frequency\": 41, \"value\": 1847}, \"1848\": {\"frequency\": 22, \"value\": 1848}, \"1849\": {\"frequency\": 24, \"value\": 1849}, \"1850\": {\"frequency\": 77, \"value\": 1850}, \"1851\": {\"frequency\": 504, \"value\": 1851}, \"1852\": {\"frequency\": 54, \"value\": 1852}, \"1853\": {\"frequency\": 157, \"value\": 1853}, \"1854\": {\"frequency\": 246, \"value\": 1854}, \"1855\": {\"frequency\": 83, \"value\": 1855}, \"1856\": {\"frequency\": 134, \"value\": 1856}, \"1857\": {\"frequency\": 41, \"value\": 1857}, \"1858\": {\"frequency\": 98, \"value\": 1858}, \"1859\": {\"frequency\": 46, \"value\": 1859}, \"1860\": {\"frequency\": 293, \"value\": 1860}, \"1861\": {\"frequency\": 460, \"value\": 1861}, \"1862\": {\"frequency\": 35, \"value\": 1862}, \"1863\": {\"frequency\": 104, \"value\": 1863}, \"1864\": {\"frequency\": 23, \"value\": 1864}, \"1865\": {\"frequency\": 334, \"value\": 1865}, \"1866\": {\"frequency\": 139, \"value\": 1866}, \"1867\": {\"frequency\": 54, \"value\": 1867}, \"1868\": {\"frequency\": 54, \"value\": 1868}, \"1869\": {\"frequency\": 48, \"value\": 1869}, \"1870\": {\"frequency\": 158, \"value\": 1870}, \"1871\": {\"frequency\": 117, \"value\": 1871}, \"1872\": {\"frequency\": 33, \"value\": 1872}, \"1873\": {\"frequency\": 198, \"value\": 1873}, \"1874\": {\"frequency\": 64, \"value\": 1874}, \"1875\": {\"frequency\": 338, \"value\": 1875}, \"1876\": {\"frequency\": 33, \"value\": 1876}, \"1877\": {\"frequency\": 147, \"value\": 1877}, \"1878\": {\"frequency\": 83, \"value\": 1878}, \"1879\": {\"frequency\": 263, \"value\": 1879}, \"1880\": {\"frequency\": 955, \"value\": 1880}, \"1881\": {\"frequency\": 57, \"value\": 1881}, \"1882\": {\"frequency\": 223, \"value\": 1882}, \"1883\": {\"frequency\": 435, \"value\": 1883}, \"1884\": {\"frequency\": 707, \"value\": 1884}, \"1885\": {\"frequency\": 57, \"value\": 1885}, \"1886\": {\"frequency\": 26, \"value\": 1886}, \"1887\": {\"frequency\": 125, \"value\": 1887}, \"1888\": {\"frequency\": 34, \"value\": 1888}, \"1889\": {\"frequency\": 624, \"value\": 1889}, \"1890\": {\"frequency\": 202, \"value\": 1890}, \"1891\": {\"frequency\": 279, \"value\": 1891}, \"1892\": {\"frequency\": 22, \"value\": 1892}, \"1893\": {\"frequency\": 28, \"value\": 1893}, \"1894\": {\"frequency\": 172, \"value\": 1894}, \"1895\": {\"frequency\": 86, \"value\": 1895}, \"1896\": {\"frequency\": 207, \"value\": 1896}, \"1897\": {\"frequency\": 657, \"value\": 1897}, \"1898\": {\"frequency\": 26, \"value\": 1898}, \"1899\": {\"frequency\": 756, \"value\": 1899}, \"1900\": {\"frequency\": 40, \"value\": 1900}, \"1901\": {\"frequency\": 150, \"value\": 1901}, \"1902\": {\"frequency\": 258, \"value\": 1902}, \"1903\": {\"frequency\": 197, \"value\": 1903}, \"1904\": {\"frequency\": 352, \"value\": 1904}, \"1905\": {\"frequency\": 47, \"value\": 1905}, \"1906\": {\"frequency\": 26, \"value\": 1906}, \"1907\": {\"frequency\": 24, \"value\": 1907}, \"1908\": {\"frequency\": 208, \"value\": 1908}, \"1909\": {\"frequency\": 57, \"value\": 1909}, \"1910\": {\"frequency\": 53, \"value\": 1910}, \"1911\": {\"frequency\": 31, \"value\": 1911}, \"1912\": {\"frequency\": 947, \"value\": 1912}, \"1913\": {\"frequency\": 44, \"value\": 1913}, \"1914\": {\"frequency\": 23, \"value\": 1914}, \"1915\": {\"frequency\": 38, \"value\": 1915}, \"1916\": {\"frequency\": 391, \"value\": 1916}, \"1917\": {\"frequency\": 97, \"value\": 1917}, \"1918\": {\"frequency\": 23, \"value\": 1918}, \"1919\": {\"frequency\": 55, \"value\": 1919}, \"1920\": {\"frequency\": 601, \"value\": 1920}, \"1921\": {\"frequency\": 85, \"value\": 1921}, \"1922\": {\"frequency\": 429, \"value\": 1922}, \"1923\": {\"frequency\": 58, \"value\": 1923}, \"1924\": {\"frequency\": 86, \"value\": 1924}, \"1925\": {\"frequency\": 305, \"value\": 1925}, \"1926\": {\"frequency\": 585, \"value\": 1926}, \"1927\": {\"frequency\": 22, \"value\": 1927}, \"1928\": {\"frequency\": 212, \"value\": 1928}, \"1929\": {\"frequency\": 27, \"value\": 1929}, \"1930\": {\"frequency\": 324, \"value\": 1930}, \"1931\": {\"frequency\": 86, \"value\": 1931}, \"1932\": {\"frequency\": 78, \"value\": 1932}, \"1933\": {\"frequency\": 30, \"value\": 1933}, \"1934\": {\"frequency\": 59, \"value\": 1934}, \"1935\": {\"frequency\": 58, \"value\": 1935}, \"1936\": {\"frequency\": 28, \"value\": 1936}, \"1937\": {\"frequency\": 295, \"value\": 1937}, \"1938\": {\"frequency\": 175, \"value\": 1938}, \"1939\": {\"frequency\": 221, \"value\": 1939}, \"1940\": {\"frequency\": 64, \"value\": 1940}, \"1941\": {\"frequency\": 1595, \"value\": 1941}, \"1942\": {\"frequency\": 59, \"value\": 1942}, \"1943\": {\"frequency\": 680, \"value\": 1943}, \"1944\": {\"frequency\": 68, \"value\": 1944}, \"1945\": {\"frequency\": 73, \"value\": 1945}, \"1946\": {\"frequency\": 78, \"value\": 1946}, \"1947\": {\"frequency\": 147, \"value\": 1947}, \"1948\": {\"frequency\": 174, \"value\": 1948}, \"1949\": {\"frequency\": 102, \"value\": 1949}, \"1950\": {\"frequency\": 137, \"value\": 1950}, \"1951\": {\"frequency\": 128, \"value\": 1951}, \"1952\": {\"frequency\": 251, \"value\": 1952}, \"1953\": {\"frequency\": 34, \"value\": 1953}, \"1954\": {\"frequency\": 151, \"value\": 1954}, \"1955\": {\"frequency\": 40, \"value\": 1955}, \"1956\": {\"frequency\": 65, \"value\": 1956}, \"1957\": {\"frequency\": 50, \"value\": 1957}, \"1958\": {\"frequency\": 852, \"value\": 1958}, \"1959\": {\"frequency\": 61, \"value\": 1959}, \"1960\": {\"frequency\": 215, \"value\": 1960}, \"1961\": {\"frequency\": 89, \"value\": 1961}, \"1962\": {\"frequency\": 533, \"value\": 1962}, \"1963\": {\"frequency\": 83, \"value\": 1963}, \"1964\": {\"frequency\": 22, \"value\": 1964}, \"1965\": {\"frequency\": 64, \"value\": 1965}, \"1966\": {\"frequency\": 44, \"value\": 1966}, \"1967\": {\"frequency\": 24, \"value\": 1967}, \"1968\": {\"frequency\": 444, \"value\": 1968}, \"1969\": {\"frequency\": 517, \"value\": 1969}, \"1970\": {\"frequency\": 52, \"value\": 1970}, \"1971\": {\"frequency\": 33, \"value\": 1971}, \"1972\": {\"frequency\": 83, \"value\": 1972}, \"1973\": {\"frequency\": 38, \"value\": 1973}, \"1974\": {\"frequency\": 518, \"value\": 1974}, \"1975\": {\"frequency\": 49, \"value\": 1975}, \"1976\": {\"frequency\": 123, \"value\": 1976}, \"1977\": {\"frequency\": 67, \"value\": 1977}, \"1978\": {\"frequency\": 154, \"value\": 1978}, \"1979\": {\"frequency\": 35, \"value\": 1979}, \"1980\": {\"frequency\": 1260, \"value\": 1980}, \"1981\": {\"frequency\": 67, \"value\": 1981}, \"1982\": {\"frequency\": 155, \"value\": 1982}, \"1983\": {\"frequency\": 546, \"value\": 1983}, \"1984\": {\"frequency\": 283, \"value\": 1984}, \"1985\": {\"frequency\": 160, \"value\": 1985}, \"1986\": {\"frequency\": 22, \"value\": 1986}, \"1987\": {\"frequency\": 47, \"value\": 1987}, \"1988\": {\"frequency\": 629, \"value\": 1988}, \"1989\": {\"frequency\": 27, \"value\": 1989}, \"1990\": {\"frequency\": 35, \"value\": 1990}, \"1991\": {\"frequency\": 24, \"value\": 1991}, \"1992\": {\"frequency\": 92, \"value\": 1992}, \"1993\": {\"frequency\": 20, \"value\": 1993}, \"1994\": {\"frequency\": 29, \"value\": 1994}, \"1995\": {\"frequency\": 86, \"value\": 1995}, \"1996\": {\"frequency\": 177, \"value\": 1996}, \"1997\": {\"frequency\": 40, \"value\": 1997}, \"1998\": {\"frequency\": 356, \"value\": 1998}, \"1999\": {\"frequency\": 87, \"value\": 1999}, \"2000\": {\"frequency\": 98, \"value\": 2000}, \"2001\": {\"frequency\": 49, \"value\": 2001}, \"2002\": {\"frequency\": 167, \"value\": 2002}, \"2003\": {\"frequency\": 61, \"value\": 2003}, \"2004\": {\"frequency\": 109, \"value\": 2004}, \"2005\": {\"frequency\": 90, \"value\": 2005}, \"2006\": {\"frequency\": 41, \"value\": 2006}, \"2007\": {\"frequency\": 40, \"value\": 2007}, \"2008\": {\"frequency\": 177, \"value\": 2008}, \"2009\": {\"frequency\": 54, \"value\": 2009}, \"2010\": {\"frequency\": 733, \"value\": 2010}, \"2011\": {\"frequency\": 247, \"value\": 2011}, \"2012\": {\"frequency\": 611, \"value\": 2012}, \"2013\": {\"frequency\": 80, \"value\": 2013}, \"2014\": {\"frequency\": 54, \"value\": 2014}, \"2015\": {\"frequency\": 903, \"value\": 2015}, \"2016\": {\"frequency\": 333, \"value\": 2016}, \"2017\": {\"frequency\": 119, \"value\": 2017}, \"2018\": {\"frequency\": 447, \"value\": 2018}, \"2019\": {\"frequency\": 34, \"value\": 2019}, \"2020\": {\"frequency\": 471, \"value\": 2020}, \"2021\": {\"frequency\": 149, \"value\": 2021}, \"2022\": {\"frequency\": 194, \"value\": 2022}, \"2023\": {\"frequency\": 286, \"value\": 2023}, \"2024\": {\"frequency\": 256, \"value\": 2024}, \"2025\": {\"frequency\": 119, \"value\": 2025}, \"2026\": {\"frequency\": 218, \"value\": 2026}, \"2027\": {\"frequency\": 105, \"value\": 2027}, \"2028\": {\"frequency\": 27, \"value\": 2028}, \"2029\": {\"frequency\": 227, \"value\": 2029}, \"2030\": {\"frequency\": 582, \"value\": 2030}, \"2031\": {\"frequency\": 225, \"value\": 2031}, \"2032\": {\"frequency\": 63, \"value\": 2032}, \"2033\": {\"frequency\": 56, \"value\": 2033}, \"2034\": {\"frequency\": 37, \"value\": 2034}, \"2035\": {\"frequency\": 171, \"value\": 2035}, \"2036\": {\"frequency\": 65, \"value\": 2036}, \"2037\": {\"frequency\": 20, \"value\": 2037}, \"2038\": {\"frequency\": 440, \"value\": 2038}, \"2039\": {\"frequency\": 121, \"value\": 2039}, \"2040\": {\"frequency\": 46, \"value\": 2040}, \"2041\": {\"frequency\": 556, \"value\": 2041}, \"2042\": {\"frequency\": 265, \"value\": 2042}, \"2043\": {\"frequency\": 91, \"value\": 2043}, \"2044\": {\"frequency\": 25, \"value\": 2044}, \"2045\": {\"frequency\": 25, \"value\": 2045}, \"2046\": {\"frequency\": 83, \"value\": 2046}, \"2047\": {\"frequency\": 289, \"value\": 2047}, \"2048\": {\"frequency\": 35, \"value\": 2048}, \"2049\": {\"frequency\": 35, \"value\": 2049}, \"2050\": {\"frequency\": 260, \"value\": 2050}, \"2051\": {\"frequency\": 229, \"value\": 2051}, \"2052\": {\"frequency\": 30, \"value\": 2052}, \"2053\": {\"frequency\": 25, \"value\": 2053}, \"2054\": {\"frequency\": 335, \"value\": 2054}, \"2055\": {\"frequency\": 138, \"value\": 2055}, \"2056\": {\"frequency\": 256, \"value\": 2056}, \"2057\": {\"frequency\": 65, \"value\": 2057}, \"2058\": {\"frequency\": 94, \"value\": 2058}, \"2059\": {\"frequency\": 253, \"value\": 2059}, \"2060\": {\"frequency\": 261, \"value\": 2060}, \"2061\": {\"frequency\": 20, \"value\": 2061}, \"2062\": {\"frequency\": 88, \"value\": 2062}, \"2063\": {\"frequency\": 1323, \"value\": 2063}, \"2064\": {\"frequency\": 247, \"value\": 2064}, \"2065\": {\"frequency\": 31, \"value\": 2065}, \"2066\": {\"frequency\": 29, \"value\": 2066}, \"2067\": {\"frequency\": 199, \"value\": 2067}, \"2068\": {\"frequency\": 125, \"value\": 2068}, \"2069\": {\"frequency\": 75, \"value\": 2069}, \"2070\": {\"frequency\": 104, \"value\": 2070}, \"2071\": {\"frequency\": 238, \"value\": 2071}, \"2072\": {\"frequency\": 205, \"value\": 2072}, \"2073\": {\"frequency\": 645, \"value\": 2073}, \"2074\": {\"frequency\": 36, \"value\": 2074}, \"2075\": {\"frequency\": 43, \"value\": 2075}, \"2076\": {\"frequency\": 83, \"value\": 2076}, \"2077\": {\"frequency\": 684, \"value\": 2077}, \"2078\": {\"frequency\": 102, \"value\": 2078}, \"2079\": {\"frequency\": 96, \"value\": 2079}, \"2080\": {\"frequency\": 32, \"value\": 2080}, \"2081\": {\"frequency\": 49, \"value\": 2081}, \"2082\": {\"frequency\": 71, \"value\": 2082}, \"2083\": {\"frequency\": 40, \"value\": 2083}, \"2084\": {\"frequency\": 155, \"value\": 2084}, \"2085\": {\"frequency\": 272, \"value\": 2085}, \"2086\": {\"frequency\": 30, \"value\": 2086}, \"2087\": {\"frequency\": 53, \"value\": 2087}, \"2088\": {\"frequency\": 441, \"value\": 2088}, \"2089\": {\"frequency\": 95, \"value\": 2089}, \"2090\": {\"frequency\": 229, \"value\": 2090}, \"2091\": {\"frequency\": 147, \"value\": 2091}, \"2092\": {\"frequency\": 729, \"value\": 2092}, \"2093\": {\"frequency\": 56, \"value\": 2093}, \"2094\": {\"frequency\": 71, \"value\": 2094}, \"2095\": {\"frequency\": 75, \"value\": 2095}, \"2096\": {\"frequency\": 121, \"value\": 2096}, \"2097\": {\"frequency\": 174, \"value\": 2097}, \"2098\": {\"frequency\": 373, \"value\": 2098}, \"2099\": {\"frequency\": 36, \"value\": 2099}, \"2100\": {\"frequency\": 308, \"value\": 2100}, \"2101\": {\"frequency\": 105, \"value\": 2101}, \"2102\": {\"frequency\": 530, \"value\": 2102}, \"2103\": {\"frequency\": 89, \"value\": 2103}, \"2104\": {\"frequency\": 53, \"value\": 2104}, \"2105\": {\"frequency\": 517, \"value\": 2105}, \"2106\": {\"frequency\": 900, \"value\": 2106}, \"2107\": {\"frequency\": 29, \"value\": 2107}, \"2108\": {\"frequency\": 22, \"value\": 2108}, \"2109\": {\"frequency\": 749, \"value\": 2109}, \"2110\": {\"frequency\": 221, \"value\": 2110}, \"2111\": {\"frequency\": 20, \"value\": 2111}, \"2112\": {\"frequency\": 50, \"value\": 2112}, \"2113\": {\"frequency\": 46, \"value\": 2113}, \"2114\": {\"frequency\": 150, \"value\": 2114}, \"2115\": {\"frequency\": 58, \"value\": 2115}, \"2116\": {\"frequency\": 971, \"value\": 2116}, \"2117\": {\"frequency\": 46, \"value\": 2117}, \"2118\": {\"frequency\": 87, \"value\": 2118}, \"2119\": {\"frequency\": 178, \"value\": 2119}, \"2120\": {\"frequency\": 164, \"value\": 2120}, \"2121\": {\"frequency\": 191, \"value\": 2121}, \"2122\": {\"frequency\": 208, \"value\": 2122}, \"2123\": {\"frequency\": 35, \"value\": 2123}, \"2124\": {\"frequency\": 628, \"value\": 2124}, \"2125\": {\"frequency\": 229, \"value\": 2125}, \"2126\": {\"frequency\": 90, \"value\": 2126}, \"2127\": {\"frequency\": 168, \"value\": 2127}, \"2128\": {\"frequency\": 20, \"value\": 2128}, \"2129\": {\"frequency\": 357, \"value\": 2129}, \"2130\": {\"frequency\": 67, \"value\": 2130}, \"2131\": {\"frequency\": 321, \"value\": 2131}, \"2132\": {\"frequency\": 69, \"value\": 2132}, \"2133\": {\"frequency\": 20, \"value\": 2133}, \"2134\": {\"frequency\": 59, \"value\": 2134}, \"2135\": {\"frequency\": 26, \"value\": 2135}, \"2136\": {\"frequency\": 160, \"value\": 2136}, \"2137\": {\"frequency\": 69, \"value\": 2137}, \"2138\": {\"frequency\": 60, \"value\": 2138}, \"2139\": {\"frequency\": 53, \"value\": 2139}, \"2140\": {\"frequency\": 206, \"value\": 2140}, \"2141\": {\"frequency\": 25, \"value\": 2141}, \"2142\": {\"frequency\": 77, \"value\": 2142}, \"2143\": {\"frequency\": 112, \"value\": 2143}, \"2144\": {\"frequency\": 101, \"value\": 2144}, \"2145\": {\"frequency\": 219, \"value\": 2145}, \"2146\": {\"frequency\": 102, \"value\": 2146}, \"2147\": {\"frequency\": 96, \"value\": 2147}, \"2148\": {\"frequency\": 255, \"value\": 2148}, \"2149\": {\"frequency\": 53, \"value\": 2149}, \"2150\": {\"frequency\": 34, \"value\": 2150}, \"2151\": {\"frequency\": 38, \"value\": 2151}, \"2152\": {\"frequency\": 23, \"value\": 2152}, \"2153\": {\"frequency\": 353, \"value\": 2153}, \"2154\": {\"frequency\": 45, \"value\": 2154}, \"2155\": {\"frequency\": 71, \"value\": 2155}, \"2156\": {\"frequency\": 315, \"value\": 2156}, \"2157\": {\"frequency\": 148, \"value\": 2157}, \"2158\": {\"frequency\": 113, \"value\": 2158}, \"2159\": {\"frequency\": 34, \"value\": 2159}, \"2160\": {\"frequency\": 20, \"value\": 2160}, \"2161\": {\"frequency\": 120, \"value\": 2161}, \"2162\": {\"frequency\": 182, \"value\": 2162}, \"2163\": {\"frequency\": 96, \"value\": 2163}, \"2164\": {\"frequency\": 471, \"value\": 2164}, \"2165\": {\"frequency\": 225, \"value\": 2165}, \"2166\": {\"frequency\": 213, \"value\": 2166}, \"2167\": {\"frequency\": 222, \"value\": 2167}, \"2168\": {\"frequency\": 365, \"value\": 2168}, \"2169\": {\"frequency\": 37, \"value\": 2169}, \"2170\": {\"frequency\": 126, \"value\": 2170}, \"2171\": {\"frequency\": 101, \"value\": 2171}, \"2172\": {\"frequency\": 451, \"value\": 2172}, \"2173\": {\"frequency\": 297, \"value\": 2173}, \"2174\": {\"frequency\": 178, \"value\": 2174}, \"2175\": {\"frequency\": 169, \"value\": 2175}, \"2176\": {\"frequency\": 179, \"value\": 2176}, \"2177\": {\"frequency\": 141, \"value\": 2177}, \"2178\": {\"frequency\": 174, \"value\": 2178}, \"2179\": {\"frequency\": 146, \"value\": 2179}, \"2180\": {\"frequency\": 409, \"value\": 2180}, \"2181\": {\"frequency\": 915, \"value\": 2181}, \"2182\": {\"frequency\": 24, \"value\": 2182}, \"2183\": {\"frequency\": 35, \"value\": 2183}, \"2184\": {\"frequency\": 30, \"value\": 2184}, \"2185\": {\"frequency\": 293, \"value\": 2185}, \"2186\": {\"frequency\": 292, \"value\": 2186}, \"2187\": {\"frequency\": 137, \"value\": 2187}, \"2188\": {\"frequency\": 405, \"value\": 2188}, \"2189\": {\"frequency\": 35, \"value\": 2189}, \"2190\": {\"frequency\": 130, \"value\": 2190}, \"2191\": {\"frequency\": 38, \"value\": 2191}, \"2192\": {\"frequency\": 121, \"value\": 2192}, \"2193\": {\"frequency\": 27, \"value\": 2193}, \"2194\": {\"frequency\": 107, \"value\": 2194}, \"2195\": {\"frequency\": 258, \"value\": 2195}, \"2196\": {\"frequency\": 36, \"value\": 2196}, \"2197\": {\"frequency\": 56, \"value\": 2197}, \"2198\": {\"frequency\": 67, \"value\": 2198}, \"2199\": {\"frequency\": 129, \"value\": 2199}, \"2200\": {\"frequency\": 76, \"value\": 2200}, \"2201\": {\"frequency\": 65, \"value\": 2201}, \"2202\": {\"frequency\": 71, \"value\": 2202}, \"2203\": {\"frequency\": 539, \"value\": 2203}, \"2204\": {\"frequency\": 33, \"value\": 2204}, \"2205\": {\"frequency\": 509, \"value\": 2205}, \"2206\": {\"frequency\": 156, \"value\": 2206}, \"2207\": {\"frequency\": 21, \"value\": 2207}, \"2208\": {\"frequency\": 265, \"value\": 2208}, \"2209\": {\"frequency\": 23, \"value\": 2209}, \"2210\": {\"frequency\": 29, \"value\": 2210}, \"2211\": {\"frequency\": 298, \"value\": 2211}, \"2212\": {\"frequency\": 100, \"value\": 2212}, \"2213\": {\"frequency\": 39, \"value\": 2213}, \"2214\": {\"frequency\": 81, \"value\": 2214}, \"2215\": {\"frequency\": 187, \"value\": 2215}, \"2216\": {\"frequency\": 52, \"value\": 2216}, \"2217\": {\"frequency\": 40, \"value\": 2217}, \"2218\": {\"frequency\": 34, \"value\": 2218}, \"2219\": {\"frequency\": 210, \"value\": 2219}, \"2220\": {\"frequency\": 29, \"value\": 2220}, \"2221\": {\"frequency\": 162, \"value\": 2221}, \"2222\": {\"frequency\": 219, \"value\": 2222}, \"2223\": {\"frequency\": 528, \"value\": 2223}, \"2224\": {\"frequency\": 38, \"value\": 2224}, \"2225\": {\"frequency\": 399, \"value\": 2225}, \"2226\": {\"frequency\": 52, \"value\": 2226}, \"2227\": {\"frequency\": 48, \"value\": 2227}, \"2228\": {\"frequency\": 61, \"value\": 2228}, \"2229\": {\"frequency\": 39, \"value\": 2229}, \"2230\": {\"frequency\": 233, \"value\": 2230}, \"2231\": {\"frequency\": 436, \"value\": 2231}, \"2232\": {\"frequency\": 318, \"value\": 2232}, \"2233\": {\"frequency\": 207, \"value\": 2233}, \"2234\": {\"frequency\": 21, \"value\": 2234}, \"2235\": {\"frequency\": 142, \"value\": 2235}, \"2236\": {\"frequency\": 95, \"value\": 2236}, \"2237\": {\"frequency\": 442, \"value\": 2237}, \"2238\": {\"frequency\": 88, \"value\": 2238}, \"2239\": {\"frequency\": 119, \"value\": 2239}, \"2240\": {\"frequency\": 99, \"value\": 2240}, \"2241\": {\"frequency\": 128, \"value\": 2241}, \"2242\": {\"frequency\": 332, \"value\": 2242}, \"2243\": {\"frequency\": 60, \"value\": 2243}, \"2244\": {\"frequency\": 429, \"value\": 2244}, \"2245\": {\"frequency\": 51, \"value\": 2245}, \"2246\": {\"frequency\": 172, \"value\": 2246}, \"2247\": {\"frequency\": 257, \"value\": 2247}, \"2248\": {\"frequency\": 107, \"value\": 2248}, \"2249\": {\"frequency\": 70, \"value\": 2249}, \"2250\": {\"frequency\": 67, \"value\": 2250}, \"2251\": {\"frequency\": 413, \"value\": 2251}, \"2252\": {\"frequency\": 23, \"value\": 2252}, \"2253\": {\"frequency\": 31, \"value\": 2253}, \"2254\": {\"frequency\": 84, \"value\": 2254}, \"2255\": {\"frequency\": 175, \"value\": 2255}, \"2256\": {\"frequency\": 68, \"value\": 2256}, \"2257\": {\"frequency\": 35, \"value\": 2257}, \"2258\": {\"frequency\": 358, \"value\": 2258}, \"2259\": {\"frequency\": 229, \"value\": 2259}, \"2260\": {\"frequency\": 25, \"value\": 2260}, \"2261\": {\"frequency\": 242, \"value\": 2261}, \"2262\": {\"frequency\": 133, \"value\": 2262}, \"2263\": {\"frequency\": 236, \"value\": 2263}, \"2264\": {\"frequency\": 300, \"value\": 2264}, \"2265\": {\"frequency\": 232, \"value\": 2265}, \"2266\": {\"frequency\": 101, \"value\": 2266}, \"2267\": {\"frequency\": 53, \"value\": 2267}, \"2268\": {\"frequency\": 23, \"value\": 2268}, \"2269\": {\"frequency\": 25, \"value\": 2269}, \"2270\": {\"frequency\": 103, \"value\": 2270}, \"2271\": {\"frequency\": 329, \"value\": 2271}, \"2272\": {\"frequency\": 127, \"value\": 2272}, \"2273\": {\"frequency\": 71, \"value\": 2273}, \"2274\": {\"frequency\": 40, \"value\": 2274}, \"2275\": {\"frequency\": 37, \"value\": 2275}, \"2276\": {\"frequency\": 108, \"value\": 2276}, \"2277\": {\"frequency\": 28, \"value\": 2277}, \"2278\": {\"frequency\": 67, \"value\": 2278}, \"2279\": {\"frequency\": 420, \"value\": 2279}, \"2280\": {\"frequency\": 76, \"value\": 2280}, \"2281\": {\"frequency\": 77, \"value\": 2281}, \"2282\": {\"frequency\": 188, \"value\": 2282}, \"2283\": {\"frequency\": 43, \"value\": 2283}, \"2284\": {\"frequency\": 52, \"value\": 2284}, \"2285\": {\"frequency\": 52, \"value\": 2285}, \"2286\": {\"frequency\": 45, \"value\": 2286}, \"2287\": {\"frequency\": 27, \"value\": 2287}, \"2288\": {\"frequency\": 535, \"value\": 2288}, \"2289\": {\"frequency\": 37, \"value\": 2289}, \"2290\": {\"frequency\": 165, \"value\": 2290}, \"2291\": {\"frequency\": 41, \"value\": 2291}, \"2292\": {\"frequency\": 20, \"value\": 2292}, \"2293\": {\"frequency\": 283, \"value\": 2293}, \"2294\": {\"frequency\": 62, \"value\": 2294}, \"2295\": {\"frequency\": 22, \"value\": 2295}, \"2296\": {\"frequency\": 28, \"value\": 2296}, \"2297\": {\"frequency\": 42, \"value\": 2297}, \"2298\": {\"frequency\": 120, \"value\": 2298}, \"2299\": {\"frequency\": 75, \"value\": 2299}, \"2300\": {\"frequency\": 52, \"value\": 2300}, \"2301\": {\"frequency\": 52, \"value\": 2301}, \"2302\": {\"frequency\": 199, \"value\": 2302}, \"2303\": {\"frequency\": 308, \"value\": 2303}, \"2304\": {\"frequency\": 873, \"value\": 2304}, \"2305\": {\"frequency\": 77, \"value\": 2305}, \"2306\": {\"frequency\": 71, \"value\": 2306}, \"2307\": {\"frequency\": 145, \"value\": 2307}, \"2308\": {\"frequency\": 63, \"value\": 2308}, \"2309\": {\"frequency\": 173, \"value\": 2309}, \"2310\": {\"frequency\": 101, \"value\": 2310}, \"2311\": {\"frequency\": 23, \"value\": 2311}, \"2312\": {\"frequency\": 35, \"value\": 2312}, \"2313\": {\"frequency\": 43, \"value\": 2313}, \"2314\": {\"frequency\": 35, \"value\": 2314}, \"2315\": {\"frequency\": 44, \"value\": 2315}, \"2316\": {\"frequency\": 153, \"value\": 2316}, \"2317\": {\"frequency\": 61, \"value\": 2317}, \"2318\": {\"frequency\": 69, \"value\": 2318}, \"2319\": {\"frequency\": 62, \"value\": 2319}, \"2320\": {\"frequency\": 100, \"value\": 2320}, \"2321\": {\"frequency\": 111, \"value\": 2321}, \"2322\": {\"frequency\": 66, \"value\": 2322}, \"2323\": {\"frequency\": 269, \"value\": 2323}, \"2324\": {\"frequency\": 89, \"value\": 2324}, \"2325\": {\"frequency\": 28, \"value\": 2325}, \"2326\": {\"frequency\": 56, \"value\": 2326}, \"2327\": {\"frequency\": 59, \"value\": 2327}, \"2328\": {\"frequency\": 41, \"value\": 2328}, \"2329\": {\"frequency\": 40, \"value\": 2329}, \"2330\": {\"frequency\": 120, \"value\": 2330}, \"2331\": {\"frequency\": 70, \"value\": 2331}, \"2332\": {\"frequency\": 46, \"value\": 2332}, \"2333\": {\"frequency\": 62, \"value\": 2333}, \"2334\": {\"frequency\": 333, \"value\": 2334}, \"2335\": {\"frequency\": 96, \"value\": 2335}, \"2336\": {\"frequency\": 21, \"value\": 2336}, \"2337\": {\"frequency\": 55, \"value\": 2337}, \"2338\": {\"frequency\": 187, \"value\": 2338}, \"2339\": {\"frequency\": 23, \"value\": 2339}, \"2340\": {\"frequency\": 399, \"value\": 2340}, \"2341\": {\"frequency\": 57, \"value\": 2341}, \"2342\": {\"frequency\": 77, \"value\": 2342}, \"2343\": {\"frequency\": 36, \"value\": 2343}, \"2344\": {\"frequency\": 188, \"value\": 2344}, \"2345\": {\"frequency\": 23, \"value\": 2345}, \"2346\": {\"frequency\": 69, \"value\": 2346}, \"2347\": {\"frequency\": 23, \"value\": 2347}, \"2348\": {\"frequency\": 206, \"value\": 2348}, \"2349\": {\"frequency\": 117, \"value\": 2349}, \"2350\": {\"frequency\": 116, \"value\": 2350}, \"2351\": {\"frequency\": 143, \"value\": 2351}, \"2352\": {\"frequency\": 119, \"value\": 2352}, \"2353\": {\"frequency\": 197, \"value\": 2353}, \"2354\": {\"frequency\": 65, \"value\": 2354}, \"2355\": {\"frequency\": 141, \"value\": 2355}, \"2356\": {\"frequency\": 24, \"value\": 2356}, \"2357\": {\"frequency\": 29, \"value\": 2357}, \"2358\": {\"frequency\": 35, \"value\": 2358}, \"2359\": {\"frequency\": 59, \"value\": 2359}, \"2360\": {\"frequency\": 37, \"value\": 2360}, \"2361\": {\"frequency\": 49, \"value\": 2361}, \"2362\": {\"frequency\": 49, \"value\": 2362}, \"2363\": {\"frequency\": 31, \"value\": 2363}, \"2364\": {\"frequency\": 29, \"value\": 2364}, \"2365\": {\"frequency\": 47, \"value\": 2365}, \"2366\": {\"frequency\": 41, \"value\": 2366}, \"2367\": {\"frequency\": 53, \"value\": 2367}, \"2368\": {\"frequency\": 232, \"value\": 2368}, \"2369\": {\"frequency\": 29, \"value\": 2369}, \"2370\": {\"frequency\": 76, \"value\": 2370}, \"2371\": {\"frequency\": 81, \"value\": 2371}, \"2372\": {\"frequency\": 71, \"value\": 2372}, \"2373\": {\"frequency\": 21, \"value\": 2373}, \"2374\": {\"frequency\": 159, \"value\": 2374}, \"2375\": {\"frequency\": 27, \"value\": 2375}, \"2376\": {\"frequency\": 494, \"value\": 2376}, \"2377\": {\"frequency\": 36, \"value\": 2377}, \"2378\": {\"frequency\": 261, \"value\": 2378}, \"2379\": {\"frequency\": 26, \"value\": 2379}, \"2380\": {\"frequency\": 406, \"value\": 2380}, \"2381\": {\"frequency\": 20, \"value\": 2381}, \"2382\": {\"frequency\": 61, \"value\": 2382}, \"2383\": {\"frequency\": 456, \"value\": 2383}, \"2384\": {\"frequency\": 31, \"value\": 2384}, \"2385\": {\"frequency\": 23, \"value\": 2385}, \"2386\": {\"frequency\": 71, \"value\": 2386}, \"2387\": {\"frequency\": 62, \"value\": 2387}, \"2388\": {\"frequency\": 22, \"value\": 2388}, \"2389\": {\"frequency\": 299, \"value\": 2389}, \"2390\": {\"frequency\": 76, \"value\": 2390}, \"2391\": {\"frequency\": 71, \"value\": 2391}, \"2392\": {\"frequency\": 43, \"value\": 2392}, \"2393\": {\"frequency\": 145, \"value\": 2393}, \"2394\": {\"frequency\": 71, \"value\": 2394}, \"2395\": {\"frequency\": 224, \"value\": 2395}, \"2396\": {\"frequency\": 36, \"value\": 2396}, \"2397\": {\"frequency\": 60, \"value\": 2397}, \"2398\": {\"frequency\": 116, \"value\": 2398}, \"2399\": {\"frequency\": 22, \"value\": 2399}, \"2400\": {\"frequency\": 53, \"value\": 2400}, \"2401\": {\"frequency\": 50, \"value\": 2401}, \"2402\": {\"frequency\": 529, \"value\": 2402}, \"2403\": {\"frequency\": 180, \"value\": 2403}, \"2404\": {\"frequency\": 95, \"value\": 2404}, \"2405\": {\"frequency\": 59, \"value\": 2405}, \"2406\": {\"frequency\": 100, \"value\": 2406}, \"2407\": {\"frequency\": 152, \"value\": 2407}, \"2408\": {\"frequency\": 69, \"value\": 2408}, \"2409\": {\"frequency\": 134, \"value\": 2409}, \"2410\": {\"frequency\": 114, \"value\": 2410}, \"2411\": {\"frequency\": 326, \"value\": 2411}, \"2412\": {\"frequency\": 30, \"value\": 2412}, \"2413\": {\"frequency\": 27, \"value\": 2413}, \"2414\": {\"frequency\": 232, \"value\": 2414}, \"2415\": {\"frequency\": 36, \"value\": 2415}, \"2416\": {\"frequency\": 47, \"value\": 2416}, \"2417\": {\"frequency\": 29, \"value\": 2417}, \"2418\": {\"frequency\": 57, \"value\": 2418}, \"2419\": {\"frequency\": 528, \"value\": 2419}, \"2420\": {\"frequency\": 47, \"value\": 2420}, \"2421\": {\"frequency\": 61, \"value\": 2421}, \"2422\": {\"frequency\": 21, \"value\": 2422}, \"2423\": {\"frequency\": 75, \"value\": 2423}, \"2424\": {\"frequency\": 147, \"value\": 2424}, \"2425\": {\"frequency\": 58, \"value\": 2425}, \"2426\": {\"frequency\": 36, \"value\": 2426}, \"2427\": {\"frequency\": 121, \"value\": 2427}, \"2428\": {\"frequency\": 83, \"value\": 2428}, \"2429\": {\"frequency\": 125, \"value\": 2429}, \"2430\": {\"frequency\": 42, \"value\": 2430}, \"2431\": {\"frequency\": 26, \"value\": 2431}, \"2432\": {\"frequency\": 35, \"value\": 2432}, \"2433\": {\"frequency\": 34, \"value\": 2433}, \"2434\": {\"frequency\": 24, \"value\": 2434}, \"2435\": {\"frequency\": 117, \"value\": 2435}, \"2436\": {\"frequency\": 427, \"value\": 2436}, \"2437\": {\"frequency\": 42, \"value\": 2437}, \"2438\": {\"frequency\": 200, \"value\": 2438}, \"2439\": {\"frequency\": 90, \"value\": 2439}, \"2440\": {\"frequency\": 23, \"value\": 2440}, \"2441\": {\"frequency\": 27, \"value\": 2441}, \"2442\": {\"frequency\": 29, \"value\": 2442}, \"2443\": {\"frequency\": 26, \"value\": 2443}, \"2444\": {\"frequency\": 105, \"value\": 2444}, \"2445\": {\"frequency\": 244, \"value\": 2445}, \"2446\": {\"frequency\": 421, \"value\": 2446}, \"2447\": {\"frequency\": 57, \"value\": 2447}, \"2448\": {\"frequency\": 73, \"value\": 2448}, \"2449\": {\"frequency\": 26, \"value\": 2449}, \"2450\": {\"frequency\": 27, \"value\": 2450}, \"2451\": {\"frequency\": 159, \"value\": 2451}, \"2452\": {\"frequency\": 52, \"value\": 2452}, \"2453\": {\"frequency\": 629, \"value\": 2453}, \"2454\": {\"frequency\": 301, \"value\": 2454}, \"2455\": {\"frequency\": 192, \"value\": 2455}, \"2456\": {\"frequency\": 366, \"value\": 2456}, \"2457\": {\"frequency\": 499, \"value\": 2457}, \"2458\": {\"frequency\": 165, \"value\": 2458}, \"2459\": {\"frequency\": 123, \"value\": 2459}, \"2460\": {\"frequency\": 51, \"value\": 2460}, \"2461\": {\"frequency\": 104, \"value\": 2461}, \"2462\": {\"frequency\": 254, \"value\": 2462}, \"2463\": {\"frequency\": 105, \"value\": 2463}, \"2464\": {\"frequency\": 35, \"value\": 2464}, \"2465\": {\"frequency\": 235, \"value\": 2465}, \"2466\": {\"frequency\": 203, \"value\": 2466}, \"2467\": {\"frequency\": 22, \"value\": 2467}, \"2468\": {\"frequency\": 125, \"value\": 2468}, \"2469\": {\"frequency\": 58, \"value\": 2469}, \"2470\": {\"frequency\": 23, \"value\": 2470}, \"2471\": {\"frequency\": 37, \"value\": 2471}, \"2472\": {\"frequency\": 290, \"value\": 2472}, \"2473\": {\"frequency\": 38, \"value\": 2473}, \"2474\": {\"frequency\": 32, \"value\": 2474}, \"2475\": {\"frequency\": 37, \"value\": 2475}, \"2476\": {\"frequency\": 61, \"value\": 2476}, \"2477\": {\"frequency\": 61, \"value\": 2477}, \"2478\": {\"frequency\": 287, \"value\": 2478}, \"2479\": {\"frequency\": 33, \"value\": 2479}, \"2480\": {\"frequency\": 45, \"value\": 2480}, \"2481\": {\"frequency\": 132, \"value\": 2481}, \"2482\": {\"frequency\": 38, \"value\": 2482}, \"2483\": {\"frequency\": 70, \"value\": 2483}, \"2484\": {\"frequency\": 547, \"value\": 2484}, \"2485\": {\"frequency\": 246, \"value\": 2485}, \"2486\": {\"frequency\": 154, \"value\": 2486}, \"2487\": {\"frequency\": 37, \"value\": 2487}, \"2488\": {\"frequency\": 20, \"value\": 2488}, \"2489\": {\"frequency\": 397, \"value\": 2489}, \"2490\": {\"frequency\": 22, \"value\": 2490}, \"2491\": {\"frequency\": 114, \"value\": 2491}, \"2492\": {\"frequency\": 89, \"value\": 2492}, \"2493\": {\"frequency\": 86, \"value\": 2493}, \"2494\": {\"frequency\": 38, \"value\": 2494}, \"2495\": {\"frequency\": 39, \"value\": 2495}, \"2496\": {\"frequency\": 511, \"value\": 2496}, \"2497\": {\"frequency\": 121, \"value\": 2497}, \"2498\": {\"frequency\": 154, \"value\": 2498}, \"2499\": {\"frequency\": 47, \"value\": 2499}, \"2500\": {\"frequency\": 140, \"value\": 2500}, \"2501\": {\"frequency\": 85, \"value\": 2501}, \"2502\": {\"frequency\": 21, \"value\": 2502}, \"2503\": {\"frequency\": 200, \"value\": 2503}, \"2504\": {\"frequency\": 301, \"value\": 2504}, \"2505\": {\"frequency\": 32, \"value\": 2505}, \"2506\": {\"frequency\": 251, \"value\": 2506}, \"2507\": {\"frequency\": 859, \"value\": 2507}, \"2508\": {\"frequency\": 60, \"value\": 2508}, \"2509\": {\"frequency\": 41, \"value\": 2509}, \"2510\": {\"frequency\": 43, \"value\": 2510}, \"2511\": {\"frequency\": 29, \"value\": 2511}, \"2512\": {\"frequency\": 31, \"value\": 2512}, \"2513\": {\"frequency\": 66, \"value\": 2513}, \"2514\": {\"frequency\": 31, \"value\": 2514}, \"2515\": {\"frequency\": 51, \"value\": 2515}, \"2516\": {\"frequency\": 22, \"value\": 2516}, \"2517\": {\"frequency\": 50, \"value\": 2517}, \"2518\": {\"frequency\": 42, \"value\": 2518}, \"2519\": {\"frequency\": 47, \"value\": 2519}, \"2520\": {\"frequency\": 48, \"value\": 2520}, \"2521\": {\"frequency\": 54, \"value\": 2521}, \"2522\": {\"frequency\": 74, \"value\": 2522}, \"2523\": {\"frequency\": 130, \"value\": 2523}, \"2524\": {\"frequency\": 26, \"value\": 2524}, \"2525\": {\"frequency\": 59, \"value\": 2525}, \"2526\": {\"frequency\": 263, \"value\": 2526}, \"2527\": {\"frequency\": 21, \"value\": 2527}, \"2528\": {\"frequency\": 62, \"value\": 2528}, \"2529\": {\"frequency\": 812, \"value\": 2529}, \"2530\": {\"frequency\": 20, \"value\": 2530}, \"2531\": {\"frequency\": 31, \"value\": 2531}, \"2532\": {\"frequency\": 31, \"value\": 2532}, \"2533\": {\"frequency\": 131, \"value\": 2533}, \"2534\": {\"frequency\": 38, \"value\": 2534}, \"2535\": {\"frequency\": 66, \"value\": 2535}, \"2536\": {\"frequency\": 57, \"value\": 2536}, \"2537\": {\"frequency\": 554, \"value\": 2537}, \"2538\": {\"frequency\": 25, \"value\": 2538}, \"2539\": {\"frequency\": 41, \"value\": 2539}, \"2540\": {\"frequency\": 223, \"value\": 2540}, \"2541\": {\"frequency\": 256, \"value\": 2541}, \"2542\": {\"frequency\": 25, \"value\": 2542}, \"2543\": {\"frequency\": 24, \"value\": 2543}, \"2544\": {\"frequency\": 729, \"value\": 2544}, \"2545\": {\"frequency\": 51, \"value\": 2545}, \"2546\": {\"frequency\": 118, \"value\": 2546}, \"2547\": {\"frequency\": 139, \"value\": 2547}, \"2548\": {\"frequency\": 43, \"value\": 2548}, \"2549\": {\"frequency\": 23, \"value\": 2549}, \"2550\": {\"frequency\": 94, \"value\": 2550}, \"2551\": {\"frequency\": 76, \"value\": 2551}, \"2552\": {\"frequency\": 80, \"value\": 2552}, \"2553\": {\"frequency\": 23, \"value\": 2553}, \"2554\": {\"frequency\": 42, \"value\": 2554}, \"2555\": {\"frequency\": 158, \"value\": 2555}, \"2556\": {\"frequency\": 47, \"value\": 2556}, \"2557\": {\"frequency\": 74, \"value\": 2557}, \"2558\": {\"frequency\": 48, \"value\": 2558}, \"2559\": {\"frequency\": 195, \"value\": 2559}, \"2560\": {\"frequency\": 40, \"value\": 2560}, \"2561\": {\"frequency\": 77, \"value\": 2561}, \"2562\": {\"frequency\": 171, \"value\": 2562}, \"2563\": {\"frequency\": 27, \"value\": 2563}, \"2564\": {\"frequency\": 120, \"value\": 2564}, \"2565\": {\"frequency\": 300, \"value\": 2565}, \"2566\": {\"frequency\": 264, \"value\": 2566}, \"2567\": {\"frequency\": 336, \"value\": 2567}, \"2568\": {\"frequency\": 33, \"value\": 2568}, \"2569\": {\"frequency\": 46, \"value\": 2569}, \"2570\": {\"frequency\": 80, \"value\": 2570}, \"2571\": {\"frequency\": 68, \"value\": 2571}, \"2572\": {\"frequency\": 151, \"value\": 2572}, \"2573\": {\"frequency\": 97, \"value\": 2573}, \"2574\": {\"frequency\": 33, \"value\": 2574}, \"2575\": {\"frequency\": 169, \"value\": 2575}, \"2576\": {\"frequency\": 276, \"value\": 2576}, \"2577\": {\"frequency\": 52, \"value\": 2577}, \"2578\": {\"frequency\": 35, \"value\": 2578}, \"2579\": {\"frequency\": 68, \"value\": 2579}, \"2580\": {\"frequency\": 74, \"value\": 2580}, \"2581\": {\"frequency\": 403, \"value\": 2581}, \"2582\": {\"frequency\": 22, \"value\": 2582}, \"2583\": {\"frequency\": 331, \"value\": 2583}, \"2584\": {\"frequency\": 20, \"value\": 2584}, \"2585\": {\"frequency\": 109, \"value\": 2585}, \"2586\": {\"frequency\": 49, \"value\": 2586}, \"2587\": {\"frequency\": 31, \"value\": 2587}, \"2588\": {\"frequency\": 41, \"value\": 2588}, \"2589\": {\"frequency\": 212, \"value\": 2589}, \"2590\": {\"frequency\": 357, \"value\": 2590}, \"2591\": {\"frequency\": 41, \"value\": 2591}, \"2592\": {\"frequency\": 442, \"value\": 2592}, \"2593\": {\"frequency\": 136, \"value\": 2593}, \"2594\": {\"frequency\": 94, \"value\": 2594}, \"2595\": {\"frequency\": 159, \"value\": 2595}, \"2596\": {\"frequency\": 41, \"value\": 2596}, \"2597\": {\"frequency\": 65, \"value\": 2597}, \"2598\": {\"frequency\": 27, \"value\": 2598}, \"2599\": {\"frequency\": 229, \"value\": 2599}, \"2600\": {\"frequency\": 91, \"value\": 2600}, \"2601\": {\"frequency\": 29, \"value\": 2601}, \"2602\": {\"frequency\": 29, \"value\": 2602}, \"2603\": {\"frequency\": 43, \"value\": 2603}, \"2604\": {\"frequency\": 68, \"value\": 2604}, \"2605\": {\"frequency\": 188, \"value\": 2605}, \"2606\": {\"frequency\": 50, \"value\": 2606}, \"2607\": {\"frequency\": 62, \"value\": 2607}, \"2608\": {\"frequency\": 228, \"value\": 2608}, \"2609\": {\"frequency\": 202, \"value\": 2609}, \"2610\": {\"frequency\": 46, \"value\": 2610}, \"2611\": {\"frequency\": 429, \"value\": 2611}, \"2612\": {\"frequency\": 43, \"value\": 2612}, \"2613\": {\"frequency\": 22, \"value\": 2613}, \"2614\": {\"frequency\": 30, \"value\": 2614}, \"2615\": {\"frequency\": 61, \"value\": 2615}, \"2616\": {\"frequency\": 50, \"value\": 2616}, \"2617\": {\"frequency\": 82, \"value\": 2617}, \"2618\": {\"frequency\": 25, \"value\": 2618}, \"2619\": {\"frequency\": 93, \"value\": 2619}, \"2620\": {\"frequency\": 156, \"value\": 2620}, \"2621\": {\"frequency\": 315, \"value\": 2621}, \"2622\": {\"frequency\": 37, \"value\": 2622}, \"2623\": {\"frequency\": 54, \"value\": 2623}, \"2624\": {\"frequency\": 306, \"value\": 2624}, \"2625\": {\"frequency\": 142, \"value\": 2625}, \"2626\": {\"frequency\": 22, \"value\": 2626}, \"2627\": {\"frequency\": 485, \"value\": 2627}, \"2628\": {\"frequency\": 203, \"value\": 2628}, \"2629\": {\"frequency\": 272, \"value\": 2629}, \"2630\": {\"frequency\": 54, \"value\": 2630}, \"2631\": {\"frequency\": 89, \"value\": 2631}, \"2632\": {\"frequency\": 41, \"value\": 2632}, \"2633\": {\"frequency\": 37, \"value\": 2633}, \"2634\": {\"frequency\": 278, \"value\": 2634}, \"2635\": {\"frequency\": 59, \"value\": 2635}, \"2636\": {\"frequency\": 63, \"value\": 2636}, \"2637\": {\"frequency\": 56, \"value\": 2637}, \"2638\": {\"frequency\": 521, \"value\": 2638}, \"2639\": {\"frequency\": 33, \"value\": 2639}, \"2640\": {\"frequency\": 21, \"value\": 2640}, \"2641\": {\"frequency\": 318, \"value\": 2641}, \"2642\": {\"frequency\": 71, \"value\": 2642}, \"2643\": {\"frequency\": 454, \"value\": 2643}, \"2644\": {\"frequency\": 21, \"value\": 2644}, \"2645\": {\"frequency\": 282, \"value\": 2645}, \"2646\": {\"frequency\": 23, \"value\": 2646}, \"2647\": {\"frequency\": 24, \"value\": 2647}, \"2648\": {\"frequency\": 107, \"value\": 2648}, \"2649\": {\"frequency\": 215, \"value\": 2649}, \"2650\": {\"frequency\": 49, \"value\": 2650}, \"2651\": {\"frequency\": 116, \"value\": 2651}, \"2652\": {\"frequency\": 41, \"value\": 2652}, \"2653\": {\"frequency\": 29, \"value\": 2653}, \"2654\": {\"frequency\": 100, \"value\": 2654}, \"2655\": {\"frequency\": 76, \"value\": 2655}, \"2656\": {\"frequency\": 132, \"value\": 2656}, \"2657\": {\"frequency\": 22, \"value\": 2657}, \"2658\": {\"frequency\": 31, \"value\": 2658}, \"2659\": {\"frequency\": 161, \"value\": 2659}, \"2660\": {\"frequency\": 47, \"value\": 2660}, \"2661\": {\"frequency\": 98, \"value\": 2661}, \"2662\": {\"frequency\": 42, \"value\": 2662}, \"2663\": {\"frequency\": 156, \"value\": 2663}, \"2664\": {\"frequency\": 367, \"value\": 2664}, \"2665\": {\"frequency\": 828, \"value\": 2665}, \"2666\": {\"frequency\": 94, \"value\": 2666}, \"2667\": {\"frequency\": 32, \"value\": 2667}, \"2668\": {\"frequency\": 218, \"value\": 2668}, \"2669\": {\"frequency\": 115, \"value\": 2669}, \"2670\": {\"frequency\": 282, \"value\": 2670}, \"2671\": {\"frequency\": 23, \"value\": 2671}, \"2672\": {\"frequency\": 54, \"value\": 2672}, \"2673\": {\"frequency\": 20, \"value\": 2673}, \"2674\": {\"frequency\": 119, \"value\": 2674}, \"2675\": {\"frequency\": 44, \"value\": 2675}, \"2676\": {\"frequency\": 229, \"value\": 2676}, \"2677\": {\"frequency\": 38, \"value\": 2677}, \"2678\": {\"frequency\": 42, \"value\": 2678}, \"2679\": {\"frequency\": 342, \"value\": 2679}, \"2680\": {\"frequency\": 214, \"value\": 2680}, \"2681\": {\"frequency\": 223, \"value\": 2681}, \"2682\": {\"frequency\": 110, \"value\": 2682}, \"2683\": {\"frequency\": 257, \"value\": 2683}, \"2684\": {\"frequency\": 219, \"value\": 2684}, \"2685\": {\"frequency\": 196, \"value\": 2685}, \"2686\": {\"frequency\": 21, \"value\": 2686}, \"2687\": {\"frequency\": 23, \"value\": 2687}, \"2688\": {\"frequency\": 135, \"value\": 2688}, \"2689\": {\"frequency\": 101, \"value\": 2689}, \"2690\": {\"frequency\": 23, \"value\": 2690}, \"2691\": {\"frequency\": 241, \"value\": 2691}, \"2692\": {\"frequency\": 134, \"value\": 2692}, \"2693\": {\"frequency\": 136, \"value\": 2693}, \"2694\": {\"frequency\": 72, \"value\": 2694}, \"2695\": {\"frequency\": 63, \"value\": 2695}, \"2696\": {\"frequency\": 20, \"value\": 2696}, \"2697\": {\"frequency\": 34, \"value\": 2697}, \"2698\": {\"frequency\": 43, \"value\": 2698}, \"2699\": {\"frequency\": 100, \"value\": 2699}, \"2700\": {\"frequency\": 294, \"value\": 2700}, \"2701\": {\"frequency\": 114, \"value\": 2701}, \"2702\": {\"frequency\": 41, \"value\": 2702}, \"2703\": {\"frequency\": 92, \"value\": 2703}, \"2704\": {\"frequency\": 48, \"value\": 2704}, \"2705\": {\"frequency\": 22, \"value\": 2705}, \"2706\": {\"frequency\": 25, \"value\": 2706}, \"2707\": {\"frequency\": 23, \"value\": 2707}, \"2708\": {\"frequency\": 37, \"value\": 2708}, \"2709\": {\"frequency\": 32, \"value\": 2709}, \"2710\": {\"frequency\": 30, \"value\": 2710}, \"2711\": {\"frequency\": 38, \"value\": 2711}, \"2712\": {\"frequency\": 68, \"value\": 2712}, \"2713\": {\"frequency\": 25, \"value\": 2713}, \"2714\": {\"frequency\": 20, \"value\": 2714}, \"2715\": {\"frequency\": 78, \"value\": 2715}, \"2716\": {\"frequency\": 24, \"value\": 2716}, \"2717\": {\"frequency\": 25, \"value\": 2717}, \"2718\": {\"frequency\": 117, \"value\": 2718}, \"2719\": {\"frequency\": 117, \"value\": 2719}, \"2720\": {\"frequency\": 38, \"value\": 2720}, \"2721\": {\"frequency\": 34, \"value\": 2721}, \"2722\": {\"frequency\": 23, \"value\": 2722}, \"2723\": {\"frequency\": 84, \"value\": 2723}, \"2724\": {\"frequency\": 205, \"value\": 2724}, \"2725\": {\"frequency\": 35, \"value\": 2725}, \"2726\": {\"frequency\": 84, \"value\": 2726}, \"2727\": {\"frequency\": 88, \"value\": 2727}, \"2728\": {\"frequency\": 67, \"value\": 2728}, \"2729\": {\"frequency\": 23, \"value\": 2729}, \"2730\": {\"frequency\": 157, \"value\": 2730}, \"2731\": {\"frequency\": 280, \"value\": 2731}, \"2732\": {\"frequency\": 45, \"value\": 2732}, \"2733\": {\"frequency\": 99, \"value\": 2733}, \"2734\": {\"frequency\": 121, \"value\": 2734}, \"2735\": {\"frequency\": 24, \"value\": 2735}, \"2736\": {\"frequency\": 101, \"value\": 2736}, \"2737\": {\"frequency\": 399, \"value\": 2737}, \"2738\": {\"frequency\": 105, \"value\": 2738}, \"2739\": {\"frequency\": 32, \"value\": 2739}, \"2740\": {\"frequency\": 145, \"value\": 2740}, \"2741\": {\"frequency\": 35, \"value\": 2741}, \"2742\": {\"frequency\": 108, \"value\": 2742}, \"2743\": {\"frequency\": 439, \"value\": 2743}, \"2744\": {\"frequency\": 138, \"value\": 2744}, \"2745\": {\"frequency\": 197, \"value\": 2745}, \"2746\": {\"frequency\": 57, \"value\": 2746}, \"2747\": {\"frequency\": 139, \"value\": 2747}, \"2748\": {\"frequency\": 326, \"value\": 2748}, \"2749\": {\"frequency\": 90, \"value\": 2749}, \"2750\": {\"frequency\": 200, \"value\": 2750}, \"2751\": {\"frequency\": 178, \"value\": 2751}, \"2752\": {\"frequency\": 378, \"value\": 2752}, \"2753\": {\"frequency\": 505, \"value\": 2753}, \"2754\": {\"frequency\": 100, \"value\": 2754}, \"2755\": {\"frequency\": 23, \"value\": 2755}, \"2756\": {\"frequency\": 239, \"value\": 2756}, \"2757\": {\"frequency\": 129, \"value\": 2757}, \"2758\": {\"frequency\": 29, \"value\": 2758}, \"2759\": {\"frequency\": 20, \"value\": 2759}, \"2760\": {\"frequency\": 68, \"value\": 2760}, \"2761\": {\"frequency\": 483, \"value\": 2761}, \"2762\": {\"frequency\": 47, \"value\": 2762}, \"2763\": {\"frequency\": 25, \"value\": 2763}, \"2764\": {\"frequency\": 354, \"value\": 2764}, \"2765\": {\"frequency\": 211, \"value\": 2765}, \"2766\": {\"frequency\": 102, \"value\": 2766}, \"2767\": {\"frequency\": 26, \"value\": 2767}, \"2768\": {\"frequency\": 80, \"value\": 2768}, \"2769\": {\"frequency\": 146, \"value\": 2769}, \"2770\": {\"frequency\": 47, \"value\": 2770}, \"2771\": {\"frequency\": 287, \"value\": 2771}, \"2772\": {\"frequency\": 178, \"value\": 2772}, \"2773\": {\"frequency\": 83, \"value\": 2773}, \"2774\": {\"frequency\": 277, \"value\": 2774}, \"2775\": {\"frequency\": 29, \"value\": 2775}, \"2776\": {\"frequency\": 350, \"value\": 2776}, \"2777\": {\"frequency\": 875, \"value\": 2777}, \"2778\": {\"frequency\": 106, \"value\": 2778}, \"2779\": {\"frequency\": 171, \"value\": 2779}, \"2780\": {\"frequency\": 40, \"value\": 2780}, \"2781\": {\"frequency\": 284, \"value\": 2781}, \"2782\": {\"frequency\": 60, \"value\": 2782}, \"2783\": {\"frequency\": 54, \"value\": 2783}, \"2784\": {\"frequency\": 158, \"value\": 2784}, \"2785\": {\"frequency\": 163, \"value\": 2785}, \"2786\": {\"frequency\": 298, \"value\": 2786}, \"2787\": {\"frequency\": 138, \"value\": 2787}, \"2788\": {\"frequency\": 124, \"value\": 2788}, \"2789\": {\"frequency\": 94, \"value\": 2789}, \"2790\": {\"frequency\": 122, \"value\": 2790}, \"2791\": {\"frequency\": 48, \"value\": 2791}, \"2792\": {\"frequency\": 191, \"value\": 2792}, \"2793\": {\"frequency\": 789, \"value\": 2793}, \"2794\": {\"frequency\": 143, \"value\": 2794}, \"2795\": {\"frequency\": 100, \"value\": 2795}, \"2796\": {\"frequency\": 404, \"value\": 2796}, \"2797\": {\"frequency\": 48, \"value\": 2797}, \"2798\": {\"frequency\": 77, \"value\": 2798}, \"2799\": {\"frequency\": 23, \"value\": 2799}, \"2800\": {\"frequency\": 91, \"value\": 2800}, \"2801\": {\"frequency\": 101, \"value\": 2801}, \"2802\": {\"frequency\": 80, \"value\": 2802}, \"2803\": {\"frequency\": 111, \"value\": 2803}, \"2804\": {\"frequency\": 171, \"value\": 2804}, \"2805\": {\"frequency\": 88, \"value\": 2805}, \"2806\": {\"frequency\": 79, \"value\": 2806}, \"2807\": {\"frequency\": 335, \"value\": 2807}, \"2808\": {\"frequency\": 139, \"value\": 2808}, \"2809\": {\"frequency\": 109, \"value\": 2809}, \"2810\": {\"frequency\": 401, \"value\": 2810}, \"2811\": {\"frequency\": 81, \"value\": 2811}, \"2812\": {\"frequency\": 121, \"value\": 2812}, \"2813\": {\"frequency\": 23, \"value\": 2813}, \"2814\": {\"frequency\": 170, \"value\": 2814}, \"2815\": {\"frequency\": 55, \"value\": 2815}, \"2816\": {\"frequency\": 22, \"value\": 2816}, \"2817\": {\"frequency\": 82, \"value\": 2817}, \"2818\": {\"frequency\": 293, \"value\": 2818}, \"2819\": {\"frequency\": 20, \"value\": 2819}, \"2820\": {\"frequency\": 894, \"value\": 2820}, \"2821\": {\"frequency\": 30, \"value\": 2821}, \"2822\": {\"frequency\": 62, \"value\": 2822}, \"2823\": {\"frequency\": 47, \"value\": 2823}, \"2824\": {\"frequency\": 248, \"value\": 2824}, \"2825\": {\"frequency\": 221, \"value\": 2825}, \"2826\": {\"frequency\": 264, \"value\": 2826}, \"2827\": {\"frequency\": 33, \"value\": 2827}, \"2828\": {\"frequency\": 58, \"value\": 2828}, \"2829\": {\"frequency\": 38, \"value\": 2829}, \"2830\": {\"frequency\": 85, \"value\": 2830}, \"2831\": {\"frequency\": 36, \"value\": 2831}, \"2832\": {\"frequency\": 157, \"value\": 2832}, \"2833\": {\"frequency\": 53, \"value\": 2833}, \"2834\": {\"frequency\": 22, \"value\": 2834}, \"2835\": {\"frequency\": 38, \"value\": 2835}, \"2836\": {\"frequency\": 22, \"value\": 2836}, \"2837\": {\"frequency\": 235, \"value\": 2837}, \"2838\": {\"frequency\": 39, \"value\": 2838}, \"2839\": {\"frequency\": 35, \"value\": 2839}, \"2840\": {\"frequency\": 350, \"value\": 2840}, \"2841\": {\"frequency\": 445, \"value\": 2841}, \"2842\": {\"frequency\": 89, \"value\": 2842}, \"2843\": {\"frequency\": 39, \"value\": 2843}, \"2844\": {\"frequency\": 108, \"value\": 2844}, \"2845\": {\"frequency\": 54, \"value\": 2845}, \"2846\": {\"frequency\": 102, \"value\": 2846}, \"2847\": {\"frequency\": 396, \"value\": 2847}, \"2848\": {\"frequency\": 220, \"value\": 2848}, \"2849\": {\"frequency\": 155, \"value\": 2849}, \"2850\": {\"frequency\": 43, \"value\": 2850}, \"2851\": {\"frequency\": 33, \"value\": 2851}, \"2852\": {\"frequency\": 135, \"value\": 2852}, \"2853\": {\"frequency\": 89, \"value\": 2853}, \"2854\": {\"frequency\": 414, \"value\": 2854}, \"2855\": {\"frequency\": 73, \"value\": 2855}, \"2856\": {\"frequency\": 52, \"value\": 2856}, \"2857\": {\"frequency\": 795, \"value\": 2857}, \"2858\": {\"frequency\": 73, \"value\": 2858}, \"2859\": {\"frequency\": 133, \"value\": 2859}, \"2860\": {\"frequency\": 508, \"value\": 2860}, \"2861\": {\"frequency\": 46, \"value\": 2861}, \"2862\": {\"frequency\": 86, \"value\": 2862}, \"2863\": {\"frequency\": 117, \"value\": 2863}, \"2864\": {\"frequency\": 52, \"value\": 2864}, \"2865\": {\"frequency\": 92, \"value\": 2865}, \"2866\": {\"frequency\": 205, \"value\": 2866}, \"2867\": {\"frequency\": 28, \"value\": 2867}, \"2868\": {\"frequency\": 191, \"value\": 2868}, \"2869\": {\"frequency\": 33, \"value\": 2869}, \"2870\": {\"frequency\": 143, \"value\": 2870}, \"2871\": {\"frequency\": 28, \"value\": 2871}, \"2872\": {\"frequency\": 423, \"value\": 2872}, \"2873\": {\"frequency\": 233, \"value\": 2873}, \"2874\": {\"frequency\": 103, \"value\": 2874}, \"2875\": {\"frequency\": 35, \"value\": 2875}, \"2876\": {\"frequency\": 190, \"value\": 2876}, \"2877\": {\"frequency\": 46, \"value\": 2877}, \"2878\": {\"frequency\": 695, \"value\": 2878}, \"2879\": {\"frequency\": 25, \"value\": 2879}, \"2880\": {\"frequency\": 273, \"value\": 2880}, \"2881\": {\"frequency\": 87, \"value\": 2881}, \"2882\": {\"frequency\": 123, \"value\": 2882}, \"2883\": {\"frequency\": 149, \"value\": 2883}, \"2884\": {\"frequency\": 20, \"value\": 2884}, \"2885\": {\"frequency\": 192, \"value\": 2885}, \"2886\": {\"frequency\": 87, \"value\": 2886}, \"2887\": {\"frequency\": 592, \"value\": 2887}, \"2888\": {\"frequency\": 376, \"value\": 2888}, \"2889\": {\"frequency\": 195, \"value\": 2889}, \"2890\": {\"frequency\": 141, \"value\": 2890}, \"2891\": {\"frequency\": 58, \"value\": 2891}, \"2892\": {\"frequency\": 93, \"value\": 2892}, \"2893\": {\"frequency\": 21, \"value\": 2893}, \"2894\": {\"frequency\": 113, \"value\": 2894}, \"2895\": {\"frequency\": 513, \"value\": 2895}, \"2896\": {\"frequency\": 320, \"value\": 2896}, \"2897\": {\"frequency\": 117, \"value\": 2897}, \"2898\": {\"frequency\": 109, \"value\": 2898}, \"2899\": {\"frequency\": 425, \"value\": 2899}, \"2900\": {\"frequency\": 298, \"value\": 2900}, \"2901\": {\"frequency\": 249, \"value\": 2901}, \"2902\": {\"frequency\": 22, \"value\": 2902}, \"2903\": {\"frequency\": 146, \"value\": 2903}, \"2904\": {\"frequency\": 51, \"value\": 2904}, \"2905\": {\"frequency\": 126, \"value\": 2905}, \"2906\": {\"frequency\": 55, \"value\": 2906}, \"2907\": {\"frequency\": 849, \"value\": 2907}, \"2908\": {\"frequency\": 21, \"value\": 2908}, \"2909\": {\"frequency\": 1258, \"value\": 2909}, \"2910\": {\"frequency\": 143, \"value\": 2910}, \"2911\": {\"frequency\": 63, \"value\": 2911}, \"2912\": {\"frequency\": 44, \"value\": 2912}, \"2913\": {\"frequency\": 330, \"value\": 2913}, \"2914\": {\"frequency\": 72, \"value\": 2914}, \"2915\": {\"frequency\": 72, \"value\": 2915}, \"2916\": {\"frequency\": 233, \"value\": 2916}, \"2917\": {\"frequency\": 70, \"value\": 2917}, \"2918\": {\"frequency\": 387, \"value\": 2918}, \"2919\": {\"frequency\": 156, \"value\": 2919}, \"2920\": {\"frequency\": 24, \"value\": 2920}, \"2921\": {\"frequency\": 127, \"value\": 2921}, \"2922\": {\"frequency\": 71, \"value\": 2922}, \"2923\": {\"frequency\": 21, \"value\": 2923}, \"2924\": {\"frequency\": 46, \"value\": 2924}, \"2925\": {\"frequency\": 25, \"value\": 2925}, \"2926\": {\"frequency\": 342, \"value\": 2926}, \"2927\": {\"frequency\": 62, \"value\": 2927}, \"2928\": {\"frequency\": 420, \"value\": 2928}, \"2929\": {\"frequency\": 362, \"value\": 2929}, \"2930\": {\"frequency\": 20, \"value\": 2930}, \"2931\": {\"frequency\": 224, \"value\": 2931}, \"2932\": {\"frequency\": 28, \"value\": 2932}, \"2933\": {\"frequency\": 124, \"value\": 2933}, \"2934\": {\"frequency\": 622, \"value\": 2934}, \"2935\": {\"frequency\": 144, \"value\": 2935}, \"2936\": {\"frequency\": 55, \"value\": 2936}, \"2937\": {\"frequency\": 104, \"value\": 2937}, \"2938\": {\"frequency\": 201, \"value\": 2938}, \"2939\": {\"frequency\": 148, \"value\": 2939}, \"2940\": {\"frequency\": 31, \"value\": 2940}, \"2941\": {\"frequency\": 359, \"value\": 2941}, \"2942\": {\"frequency\": 129, \"value\": 2942}, \"2943\": {\"frequency\": 124, \"value\": 2943}, \"2944\": {\"frequency\": 174, \"value\": 2944}, \"2945\": {\"frequency\": 68, \"value\": 2945}, \"2946\": {\"frequency\": 461, \"value\": 2946}, \"2947\": {\"frequency\": 136, \"value\": 2947}, \"2948\": {\"frequency\": 53, \"value\": 2948}, \"2949\": {\"frequency\": 48, \"value\": 2949}, \"2950\": {\"frequency\": 67, \"value\": 2950}, \"2951\": {\"frequency\": 65, \"value\": 2951}, \"2952\": {\"frequency\": 168, \"value\": 2952}, \"2953\": {\"frequency\": 90, \"value\": 2953}, \"2954\": {\"frequency\": 36, \"value\": 2954}, \"2955\": {\"frequency\": 191, \"value\": 2955}, \"2956\": {\"frequency\": 27, \"value\": 2956}, \"2957\": {\"frequency\": 64, \"value\": 2957}, \"2958\": {\"frequency\": 43, \"value\": 2958}, \"2959\": {\"frequency\": 73, \"value\": 2959}, \"2960\": {\"frequency\": 31, \"value\": 2960}, \"2961\": {\"frequency\": 44, \"value\": 2961}, \"2962\": {\"frequency\": 625, \"value\": 2962}, \"2963\": {\"frequency\": 39, \"value\": 2963}, \"2964\": {\"frequency\": 48, \"value\": 2964}, \"2965\": {\"frequency\": 27, \"value\": 2965}, \"2966\": {\"frequency\": 208, \"value\": 2966}, \"2967\": {\"frequency\": 527, \"value\": 2967}, \"2968\": {\"frequency\": 170, \"value\": 2968}, \"2969\": {\"frequency\": 174, \"value\": 2969}, \"2970\": {\"frequency\": 48, \"value\": 2970}, \"2971\": {\"frequency\": 36, \"value\": 2971}, \"2972\": {\"frequency\": 169, \"value\": 2972}, \"2973\": {\"frequency\": 62, \"value\": 2973}, \"2974\": {\"frequency\": 124, \"value\": 2974}, \"2975\": {\"frequency\": 100, \"value\": 2975}, \"2976\": {\"frequency\": 143, \"value\": 2976}, \"2977\": {\"frequency\": 21, \"value\": 2977}, \"2978\": {\"frequency\": 173, \"value\": 2978}, \"2979\": {\"frequency\": 44, \"value\": 2979}, \"2980\": {\"frequency\": 136, \"value\": 2980}, \"2981\": {\"frequency\": 30, \"value\": 2981}, \"2982\": {\"frequency\": 22, \"value\": 2982}, \"2983\": {\"frequency\": 55, \"value\": 2983}, \"2984\": {\"frequency\": 24, \"value\": 2984}, \"2985\": {\"frequency\": 184, \"value\": 2985}, \"2986\": {\"frequency\": 720, \"value\": 2986}, \"2987\": {\"frequency\": 54, \"value\": 2987}, \"2988\": {\"frequency\": 63, \"value\": 2988}, \"2989\": {\"frequency\": 105, \"value\": 2989}, \"2990\": {\"frequency\": 261, \"value\": 2990}, \"2991\": {\"frequency\": 58, \"value\": 2991}, \"2992\": {\"frequency\": 43, \"value\": 2992}, \"2993\": {\"frequency\": 83, \"value\": 2993}, \"2994\": {\"frequency\": 377, \"value\": 2994}, \"2995\": {\"frequency\": 341, \"value\": 2995}, \"2996\": {\"frequency\": 477, \"value\": 2996}, \"2997\": {\"frequency\": 167, \"value\": 2997}, \"2998\": {\"frequency\": 54, \"value\": 2998}, \"2999\": {\"frequency\": 135, \"value\": 2999}, \"3000\": {\"frequency\": 106, \"value\": 3000}, \"3001\": {\"frequency\": 309, \"value\": 3001}, \"3002\": {\"frequency\": 147, \"value\": 3002}, \"3003\": {\"frequency\": 79, \"value\": 3003}, \"3004\": {\"frequency\": 120, \"value\": 3004}, \"3005\": {\"frequency\": 111, \"value\": 3005}, \"3006\": {\"frequency\": 52, \"value\": 3006}, \"3007\": {\"frequency\": 239, \"value\": 3007}, \"3008\": {\"frequency\": 34, \"value\": 3008}, \"3009\": {\"frequency\": 26, \"value\": 3009}, \"3010\": {\"frequency\": 105, \"value\": 3010}, \"3011\": {\"frequency\": 92, \"value\": 3011}, \"3012\": {\"frequency\": 322, \"value\": 3012}, \"3013\": {\"frequency\": 467, \"value\": 3013}, \"3014\": {\"frequency\": 170, \"value\": 3014}, \"3015\": {\"frequency\": 42, \"value\": 3015}, \"3016\": {\"frequency\": 41, \"value\": 3016}, \"3017\": {\"frequency\": 362, \"value\": 3017}, \"3018\": {\"frequency\": 610, \"value\": 3018}, \"3019\": {\"frequency\": 27, \"value\": 3019}, \"3020\": {\"frequency\": 170, \"value\": 3020}, \"3021\": {\"frequency\": 20, \"value\": 3021}, \"3022\": {\"frequency\": 150, \"value\": 3022}, \"3023\": {\"frequency\": 62, \"value\": 3023}, \"3024\": {\"frequency\": 218, \"value\": 3024}, \"3025\": {\"frequency\": 148, \"value\": 3025}, \"3026\": {\"frequency\": 357, \"value\": 3026}, \"3027\": {\"frequency\": 23, \"value\": 3027}, \"3028\": {\"frequency\": 113, \"value\": 3028}, \"3029\": {\"frequency\": 761, \"value\": 3029}, \"3030\": {\"frequency\": 26, \"value\": 3030}, \"3031\": {\"frequency\": 500, \"value\": 3031}, \"3032\": {\"frequency\": 1019, \"value\": 3032}, \"3033\": {\"frequency\": 133, \"value\": 3033}, \"3034\": {\"frequency\": 28, \"value\": 3034}, \"3035\": {\"frequency\": 80, \"value\": 3035}, \"3036\": {\"frequency\": 116, \"value\": 3036}, \"3037\": {\"frequency\": 64, \"value\": 3037}, \"3038\": {\"frequency\": 118, \"value\": 3038}, \"3039\": {\"frequency\": 61, \"value\": 3039}, \"3040\": {\"frequency\": 24, \"value\": 3040}, \"3041\": {\"frequency\": 106, \"value\": 3041}, \"3042\": {\"frequency\": 73, \"value\": 3042}, \"3043\": {\"frequency\": 27, \"value\": 3043}, \"3044\": {\"frequency\": 304, \"value\": 3044}, \"3045\": {\"frequency\": 148, \"value\": 3045}, \"3046\": {\"frequency\": 77, \"value\": 3046}, \"3047\": {\"frequency\": 70, \"value\": 3047}, \"3048\": {\"frequency\": 70, \"value\": 3048}, \"3049\": {\"frequency\": 71, \"value\": 3049}, \"3050\": {\"frequency\": 64, \"value\": 3050}, \"3051\": {\"frequency\": 408, \"value\": 3051}, \"3052\": {\"frequency\": 81, \"value\": 3052}, \"3053\": {\"frequency\": 184, \"value\": 3053}, \"3054\": {\"frequency\": 526, \"value\": 3054}, \"3055\": {\"frequency\": 287, \"value\": 3055}, \"3056\": {\"frequency\": 263, \"value\": 3056}, \"3057\": {\"frequency\": 161, \"value\": 3057}, \"3058\": {\"frequency\": 145, \"value\": 3058}, \"3059\": {\"frequency\": 44, \"value\": 3059}, \"3060\": {\"frequency\": 37, \"value\": 3060}, \"3061\": {\"frequency\": 32, \"value\": 3061}, \"3062\": {\"frequency\": 64, \"value\": 3062}, \"3063\": {\"frequency\": 64, \"value\": 3063}, \"3064\": {\"frequency\": 44, \"value\": 3064}, \"3065\": {\"frequency\": 282, \"value\": 3065}, \"3066\": {\"frequency\": 90, \"value\": 3066}, \"3067\": {\"frequency\": 826, \"value\": 3067}, \"3068\": {\"frequency\": 21, \"value\": 3068}, \"3069\": {\"frequency\": 215, \"value\": 3069}, \"3070\": {\"frequency\": 39, \"value\": 3070}, \"3071\": {\"frequency\": 26, \"value\": 3071}, \"3072\": {\"frequency\": 210, \"value\": 3072}, \"3073\": {\"frequency\": 57, \"value\": 3073}, \"3074\": {\"frequency\": 142, \"value\": 3074}, \"3075\": {\"frequency\": 265, \"value\": 3075}, \"3076\": {\"frequency\": 22, \"value\": 3076}, \"3077\": {\"frequency\": 78, \"value\": 3077}, \"3078\": {\"frequency\": 32, \"value\": 3078}, \"3079\": {\"frequency\": 86, \"value\": 3079}, \"3080\": {\"frequency\": 551, \"value\": 3080}, \"3081\": {\"frequency\": 384, \"value\": 3081}, \"3082\": {\"frequency\": 370, \"value\": 3082}, \"3083\": {\"frequency\": 99, \"value\": 3083}, \"3084\": {\"frequency\": 78, \"value\": 3084}, \"3085\": {\"frequency\": 123, \"value\": 3085}, \"3086\": {\"frequency\": 113, \"value\": 3086}, \"3087\": {\"frequency\": 297, \"value\": 3087}, \"3088\": {\"frequency\": 50, \"value\": 3088}, \"3089\": {\"frequency\": 53, \"value\": 3089}, \"3090\": {\"frequency\": 62, \"value\": 3090}, \"3091\": {\"frequency\": 64, \"value\": 3091}, \"3092\": {\"frequency\": 53, \"value\": 3092}, \"3093\": {\"frequency\": 179, \"value\": 3093}, \"3094\": {\"frequency\": 41, \"value\": 3094}, \"3095\": {\"frequency\": 174, \"value\": 3095}, \"3096\": {\"frequency\": 197, \"value\": 3096}, \"3097\": {\"frequency\": 63, \"value\": 3097}, \"3098\": {\"frequency\": 92, \"value\": 3098}, \"3099\": {\"frequency\": 159, \"value\": 3099}, \"3100\": {\"frequency\": 55, \"value\": 3100}, \"3101\": {\"frequency\": 270, \"value\": 3101}, \"3102\": {\"frequency\": 34, \"value\": 3102}, \"3103\": {\"frequency\": 39, \"value\": 3103}, \"3104\": {\"frequency\": 29, \"value\": 3104}, \"3105\": {\"frequency\": 120, \"value\": 3105}, \"3106\": {\"frequency\": 68, \"value\": 3106}, \"3107\": {\"frequency\": 72, \"value\": 3107}, \"3108\": {\"frequency\": 484, \"value\": 3108}, \"3109\": {\"frequency\": 57, \"value\": 3109}, \"3110\": {\"frequency\": 300, \"value\": 3110}, \"3111\": {\"frequency\": 124, \"value\": 3111}, \"3112\": {\"frequency\": 213, \"value\": 3112}, \"3113\": {\"frequency\": 50, \"value\": 3113}, \"3114\": {\"frequency\": 105, \"value\": 3114}, \"3115\": {\"frequency\": 36, \"value\": 3115}, \"3116\": {\"frequency\": 85, \"value\": 3116}, \"3117\": {\"frequency\": 37, \"value\": 3117}, \"3118\": {\"frequency\": 570, \"value\": 3118}, \"3119\": {\"frequency\": 90, \"value\": 3119}, \"3120\": {\"frequency\": 37, \"value\": 3120}, \"3121\": {\"frequency\": 271, \"value\": 3121}, \"3122\": {\"frequency\": 27, \"value\": 3122}, \"3123\": {\"frequency\": 155, \"value\": 3123}, \"3124\": {\"frequency\": 26, \"value\": 3124}, \"3125\": {\"frequency\": 354, \"value\": 3125}, \"3126\": {\"frequency\": 81, \"value\": 3126}, \"3127\": {\"frequency\": 41, \"value\": 3127}, \"3128\": {\"frequency\": 317, \"value\": 3128}, \"3129\": {\"frequency\": 503, \"value\": 3129}, \"3130\": {\"frequency\": 67, \"value\": 3130}, \"3131\": {\"frequency\": 77, \"value\": 3131}, \"3132\": {\"frequency\": 28, \"value\": 3132}, \"3133\": {\"frequency\": 21, \"value\": 3133}, \"3134\": {\"frequency\": 101, \"value\": 3134}, \"3135\": {\"frequency\": 123, \"value\": 3135}, \"3136\": {\"frequency\": 40, \"value\": 3136}, \"3137\": {\"frequency\": 51, \"value\": 3137}, \"3138\": {\"frequency\": 212, \"value\": 3138}, \"3139\": {\"frequency\": 59, \"value\": 3139}, \"3140\": {\"frequency\": 323, \"value\": 3140}, \"3141\": {\"frequency\": 61, \"value\": 3141}, \"3142\": {\"frequency\": 94, \"value\": 3142}, \"3143\": {\"frequency\": 212, \"value\": 3143}, \"3144\": {\"frequency\": 35, \"value\": 3144}, \"3145\": {\"frequency\": 111, \"value\": 3145}, \"3146\": {\"frequency\": 62, \"value\": 3146}, \"3147\": {\"frequency\": 211, \"value\": 3147}, \"3148\": {\"frequency\": 102, \"value\": 3148}, \"3149\": {\"frequency\": 27, \"value\": 3149}, \"3150\": {\"frequency\": 77, \"value\": 3150}, \"3151\": {\"frequency\": 172, \"value\": 3151}, \"3152\": {\"frequency\": 31, \"value\": 3152}, \"3153\": {\"frequency\": 44, \"value\": 3153}, \"3154\": {\"frequency\": 189, \"value\": 3154}, \"3155\": {\"frequency\": 85, \"value\": 3155}, \"3156\": {\"frequency\": 64, \"value\": 3156}, \"3157\": {\"frequency\": 159, \"value\": 3157}, \"3158\": {\"frequency\": 296, \"value\": 3158}, \"3159\": {\"frequency\": 238, \"value\": 3159}, \"3160\": {\"frequency\": 25, \"value\": 3160}, \"3161\": {\"frequency\": 71, \"value\": 3161}, \"3162\": {\"frequency\": 82, \"value\": 3162}, \"3163\": {\"frequency\": 858, \"value\": 3163}, \"3164\": {\"frequency\": 30, \"value\": 3164}, \"3165\": {\"frequency\": 30, \"value\": 3165}, \"3166\": {\"frequency\": 40, \"value\": 3166}, \"3167\": {\"frequency\": 220, \"value\": 3167}, \"3168\": {\"frequency\": 30, \"value\": 3168}, \"3169\": {\"frequency\": 129, \"value\": 3169}, \"3170\": {\"frequency\": 73, \"value\": 3170}, \"3171\": {\"frequency\": 132, \"value\": 3171}, \"3172\": {\"frequency\": 108, \"value\": 3172}, \"3173\": {\"frequency\": 95, \"value\": 3173}, \"3174\": {\"frequency\": 87, \"value\": 3174}, \"3175\": {\"frequency\": 87, \"value\": 3175}, \"3176\": {\"frequency\": 21, \"value\": 3176}, \"3177\": {\"frequency\": 61, \"value\": 3177}, \"3178\": {\"frequency\": 212, \"value\": 3178}, \"3179\": {\"frequency\": 25, \"value\": 3179}, \"3180\": {\"frequency\": 490, \"value\": 3180}, \"3181\": {\"frequency\": 25, \"value\": 3181}, \"3182\": {\"frequency\": 626, \"value\": 3182}, \"3183\": {\"frequency\": 111, \"value\": 3183}, \"3184\": {\"frequency\": 105, \"value\": 3184}, \"3185\": {\"frequency\": 90, \"value\": 3185}, \"3186\": {\"frequency\": 37, \"value\": 3186}, \"3187\": {\"frequency\": 27, \"value\": 3187}, \"3188\": {\"frequency\": 21, \"value\": 3188}, \"3189\": {\"frequency\": 525, \"value\": 3189}, \"3190\": {\"frequency\": 36, \"value\": 3190}, \"3191\": {\"frequency\": 406, \"value\": 3191}, \"3192\": {\"frequency\": 150, \"value\": 3192}, \"3193\": {\"frequency\": 190, \"value\": 3193}, \"3194\": {\"frequency\": 34, \"value\": 3194}, \"3195\": {\"frequency\": 192, \"value\": 3195}, \"3196\": {\"frequency\": 305, \"value\": 3196}, \"3197\": {\"frequency\": 136, \"value\": 3197}, \"3198\": {\"frequency\": 105, \"value\": 3198}, \"3199\": {\"frequency\": 100, \"value\": 3199}, \"3200\": {\"frequency\": 159, \"value\": 3200}, \"3201\": {\"frequency\": 446, \"value\": 3201}, \"3202\": {\"frequency\": 143, \"value\": 3202}, \"3203\": {\"frequency\": 162, \"value\": 3203}, \"3204\": {\"frequency\": 48, \"value\": 3204}, \"3205\": {\"frequency\": 305, \"value\": 3205}, \"3206\": {\"frequency\": 100, \"value\": 3206}, \"3207\": {\"frequency\": 99, \"value\": 3207}, \"3208\": {\"frequency\": 384, \"value\": 3208}, \"3209\": {\"frequency\": 230, \"value\": 3209}, \"3210\": {\"frequency\": 149, \"value\": 3210}, \"3211\": {\"frequency\": 97, \"value\": 3211}, \"3212\": {\"frequency\": 26, \"value\": 3212}, \"3213\": {\"frequency\": 137, \"value\": 3213}, \"3214\": {\"frequency\": 36, \"value\": 3214}, \"3215\": {\"frequency\": 36, \"value\": 3215}, \"3216\": {\"frequency\": 324, \"value\": 3216}, \"3217\": {\"frequency\": 350, \"value\": 3217}, \"3218\": {\"frequency\": 62, \"value\": 3218}, \"3219\": {\"frequency\": 142, \"value\": 3219}, \"3220\": {\"frequency\": 72, \"value\": 3220}, \"3221\": {\"frequency\": 41, \"value\": 3221}, \"3222\": {\"frequency\": 20, \"value\": 3222}, \"3223\": {\"frequency\": 61, \"value\": 3223}, \"3224\": {\"frequency\": 1115, \"value\": 3224}, \"3225\": {\"frequency\": 21, \"value\": 3225}, \"3226\": {\"frequency\": 124, \"value\": 3226}, \"3227\": {\"frequency\": 342, \"value\": 3227}, \"3228\": {\"frequency\": 156, \"value\": 3228}, \"3229\": {\"frequency\": 196, \"value\": 3229}, \"3230\": {\"frequency\": 149, \"value\": 3230}, \"3231\": {\"frequency\": 153, \"value\": 3231}, \"3232\": {\"frequency\": 64, \"value\": 3232}, \"3233\": {\"frequency\": 161, \"value\": 3233}, \"3234\": {\"frequency\": 21, \"value\": 3234}, \"3235\": {\"frequency\": 37, \"value\": 3235}, \"3236\": {\"frequency\": 23, \"value\": 3236}, \"3237\": {\"frequency\": 78, \"value\": 3237}, \"3238\": {\"frequency\": 32, \"value\": 3238}, \"3239\": {\"frequency\": 74, \"value\": 3239}, \"3240\": {\"frequency\": 154, \"value\": 3240}, \"3241\": {\"frequency\": 55, \"value\": 3241}, \"3242\": {\"frequency\": 210, \"value\": 3242}, \"3243\": {\"frequency\": 229, \"value\": 3243}, \"3244\": {\"frequency\": 24, \"value\": 3244}, \"3245\": {\"frequency\": 79, \"value\": 3245}, \"3246\": {\"frequency\": 232, \"value\": 3246}, \"3247\": {\"frequency\": 29, \"value\": 3247}, \"3248\": {\"frequency\": 84, \"value\": 3248}, \"3249\": {\"frequency\": 65, \"value\": 3249}, \"3250\": {\"frequency\": 124, \"value\": 3250}, \"3251\": {\"frequency\": 56, \"value\": 3251}, \"3252\": {\"frequency\": 35, \"value\": 3252}, \"3253\": {\"frequency\": 167, \"value\": 3253}, \"3254\": {\"frequency\": 23, \"value\": 3254}, \"3255\": {\"frequency\": 45, \"value\": 3255}, \"3256\": {\"frequency\": 58, \"value\": 3256}, \"3257\": {\"frequency\": 81, \"value\": 3257}, \"3258\": {\"frequency\": 40, \"value\": 3258}, \"3259\": {\"frequency\": 395, \"value\": 3259}, \"3260\": {\"frequency\": 228, \"value\": 3260}, \"3261\": {\"frequency\": 539, \"value\": 3261}, \"3262\": {\"frequency\": 91, \"value\": 3262}, \"3263\": {\"frequency\": 113, \"value\": 3263}, \"3264\": {\"frequency\": 28, \"value\": 3264}, \"3265\": {\"frequency\": 508, \"value\": 3265}, \"3266\": {\"frequency\": 151, \"value\": 3266}, \"3267\": {\"frequency\": 98, \"value\": 3267}, \"3268\": {\"frequency\": 67, \"value\": 3268}, \"3269\": {\"frequency\": 83, \"value\": 3269}, \"3270\": {\"frequency\": 122, \"value\": 3270}, \"3271\": {\"frequency\": 336, \"value\": 3271}, \"3272\": {\"frequency\": 836, \"value\": 3272}, \"3273\": {\"frequency\": 20, \"value\": 3273}, \"3274\": {\"frequency\": 198, \"value\": 3274}, \"3275\": {\"frequency\": 21, \"value\": 3275}, \"3276\": {\"frequency\": 29, \"value\": 3276}, \"3277\": {\"frequency\": 150, \"value\": 3277}, \"3278\": {\"frequency\": 46, \"value\": 3278}, \"3279\": {\"frequency\": 105, \"value\": 3279}, \"3280\": {\"frequency\": 649, \"value\": 3280}, \"3281\": {\"frequency\": 190, \"value\": 3281}, \"3282\": {\"frequency\": 24, \"value\": 3282}, \"3283\": {\"frequency\": 246, \"value\": 3283}, \"3284\": {\"frequency\": 41, \"value\": 3284}, \"3285\": {\"frequency\": 627, \"value\": 3285}, \"3286\": {\"frequency\": 28, \"value\": 3286}, \"3287\": {\"frequency\": 24, \"value\": 3287}, \"3288\": {\"frequency\": 26, \"value\": 3288}, \"3289\": {\"frequency\": 75, \"value\": 3289}, \"3290\": {\"frequency\": 176, \"value\": 3290}, \"3291\": {\"frequency\": 20, \"value\": 3291}, \"3292\": {\"frequency\": 939, \"value\": 3292}, \"3293\": {\"frequency\": 45, \"value\": 3293}, \"3294\": {\"frequency\": 97, \"value\": 3294}, \"3295\": {\"frequency\": 74, \"value\": 3295}, \"3296\": {\"frequency\": 72, \"value\": 3296}, \"3297\": {\"frequency\": 126, \"value\": 3297}, \"3298\": {\"frequency\": 32, \"value\": 3298}, \"3299\": {\"frequency\": 302, \"value\": 3299}, \"3300\": {\"frequency\": 362, \"value\": 3300}, \"3301\": {\"frequency\": 310, \"value\": 3301}, \"3302\": {\"frequency\": 86, \"value\": 3302}, \"3303\": {\"frequency\": 25, \"value\": 3303}, \"3304\": {\"frequency\": 170, \"value\": 3304}, \"3305\": {\"frequency\": 104, \"value\": 3305}, \"3306\": {\"frequency\": 51, \"value\": 3306}, \"3307\": {\"frequency\": 26, \"value\": 3307}, \"3308\": {\"frequency\": 708, \"value\": 3308}, \"3309\": {\"frequency\": 271, \"value\": 3309}, \"3310\": {\"frequency\": 66, \"value\": 3310}, \"3311\": {\"frequency\": 920, \"value\": 3311}, \"3312\": {\"frequency\": 665, \"value\": 3312}, \"3313\": {\"frequency\": 473, \"value\": 3313}, \"3314\": {\"frequency\": 334, \"value\": 3314}, \"3315\": {\"frequency\": 182, \"value\": 3315}, \"3316\": {\"frequency\": 42, \"value\": 3316}, \"3317\": {\"frequency\": 110, \"value\": 3317}, \"3318\": {\"frequency\": 70, \"value\": 3318}, \"3319\": {\"frequency\": 123, \"value\": 3319}, \"3320\": {\"frequency\": 559, \"value\": 3320}, \"3321\": {\"frequency\": 84, \"value\": 3321}, \"3322\": {\"frequency\": 48, \"value\": 3322}, \"3323\": {\"frequency\": 126, \"value\": 3323}, \"3324\": {\"frequency\": 21, \"value\": 3324}, \"3325\": {\"frequency\": 26, \"value\": 3325}, \"3326\": {\"frequency\": 38, \"value\": 3326}, \"3327\": {\"frequency\": 358, \"value\": 3327}, \"3328\": {\"frequency\": 273, \"value\": 3328}, \"3329\": {\"frequency\": 138, \"value\": 3329}, \"3330\": {\"frequency\": 24, \"value\": 3330}, \"3331\": {\"frequency\": 140, \"value\": 3331}, \"3332\": {\"frequency\": 102, \"value\": 3332}, \"3333\": {\"frequency\": 192, \"value\": 3333}, \"3334\": {\"frequency\": 100, \"value\": 3334}, \"3335\": {\"frequency\": 27, \"value\": 3335}, \"3336\": {\"frequency\": 667, \"value\": 3336}, \"3337\": {\"frequency\": 81, \"value\": 3337}, \"3338\": {\"frequency\": 40, \"value\": 3338}, \"3339\": {\"frequency\": 83, \"value\": 3339}, \"3340\": {\"frequency\": 119, \"value\": 3340}, \"3341\": {\"frequency\": 151, \"value\": 3341}, \"3342\": {\"frequency\": 58, \"value\": 3342}, \"3343\": {\"frequency\": 49, \"value\": 3343}, \"3344\": {\"frequency\": 56, \"value\": 3344}, \"3345\": {\"frequency\": 141, \"value\": 3345}, \"3346\": {\"frequency\": 229, \"value\": 3346}, \"3347\": {\"frequency\": 45, \"value\": 3347}, \"3348\": {\"frequency\": 48, \"value\": 3348}, \"3349\": {\"frequency\": 143, \"value\": 3349}, \"3350\": {\"frequency\": 46, \"value\": 3350}, \"3351\": {\"frequency\": 29, \"value\": 3351}, \"3352\": {\"frequency\": 96, \"value\": 3352}, \"3353\": {\"frequency\": 235, \"value\": 3353}, \"3354\": {\"frequency\": 33, \"value\": 3354}, \"3355\": {\"frequency\": 33, \"value\": 3355}, \"3356\": {\"frequency\": 239, \"value\": 3356}, \"3357\": {\"frequency\": 69, \"value\": 3357}, \"3358\": {\"frequency\": 232, \"value\": 3358}, \"3359\": {\"frequency\": 86, \"value\": 3359}, \"3360\": {\"frequency\": 58, \"value\": 3360}, \"3361\": {\"frequency\": 161, \"value\": 3361}, \"3362\": {\"frequency\": 77, \"value\": 3362}, \"3363\": {\"frequency\": 242, \"value\": 3363}, \"3364\": {\"frequency\": 112, \"value\": 3364}, \"3365\": {\"frequency\": 345, \"value\": 3365}, \"3366\": {\"frequency\": 27, \"value\": 3366}, \"3367\": {\"frequency\": 355, \"value\": 3367}, \"3368\": {\"frequency\": 97, \"value\": 3368}, \"3369\": {\"frequency\": 32, \"value\": 3369}, \"3370\": {\"frequency\": 198, \"value\": 3370}, \"3371\": {\"frequency\": 483, \"value\": 3371}, \"3372\": {\"frequency\": 31, \"value\": 3372}, \"3373\": {\"frequency\": 32, \"value\": 3373}, \"3374\": {\"frequency\": 104, \"value\": 3374}, \"3375\": {\"frequency\": 27, \"value\": 3375}, \"3376\": {\"frequency\": 20, \"value\": 3376}, \"3377\": {\"frequency\": 168, \"value\": 3377}, \"3378\": {\"frequency\": 235, \"value\": 3378}, \"3379\": {\"frequency\": 39, \"value\": 3379}, \"3380\": {\"frequency\": 453, \"value\": 3380}, \"3381\": {\"frequency\": 29, \"value\": 3381}, \"3382\": {\"frequency\": 56, \"value\": 3382}, \"3383\": {\"frequency\": 51, \"value\": 3383}, \"3384\": {\"frequency\": 126, \"value\": 3384}, \"3385\": {\"frequency\": 36, \"value\": 3385}, \"3386\": {\"frequency\": 148, \"value\": 3386}, \"3387\": {\"frequency\": 137, \"value\": 3387}, \"3388\": {\"frequency\": 21, \"value\": 3388}, \"3389\": {\"frequency\": 572, \"value\": 3389}, \"3390\": {\"frequency\": 203, \"value\": 3390}, \"3391\": {\"frequency\": 1216, \"value\": 3391}, \"3392\": {\"frequency\": 30, \"value\": 3392}, \"3393\": {\"frequency\": 267, \"value\": 3393}, \"3394\": {\"frequency\": 326, \"value\": 3394}, \"3395\": {\"frequency\": 56, \"value\": 3395}, \"3396\": {\"frequency\": 23, \"value\": 3396}, \"3397\": {\"frequency\": 29, \"value\": 3397}, \"3398\": {\"frequency\": 55, \"value\": 3398}, \"3399\": {\"frequency\": 154, \"value\": 3399}, \"3400\": {\"frequency\": 218, \"value\": 3400}, \"3401\": {\"frequency\": 837, \"value\": 3401}, \"3402\": {\"frequency\": 330, \"value\": 3402}, \"3403\": {\"frequency\": 205, \"value\": 3403}, \"3404\": {\"frequency\": 26, \"value\": 3404}, \"3405\": {\"frequency\": 41, \"value\": 3405}, \"3406\": {\"frequency\": 41, \"value\": 3406}, \"3407\": {\"frequency\": 20, \"value\": 3407}, \"3408\": {\"frequency\": 116, \"value\": 3408}, \"3409\": {\"frequency\": 44, \"value\": 3409}, \"3410\": {\"frequency\": 731, \"value\": 3410}, \"3411\": {\"frequency\": 351, \"value\": 3411}, \"3412\": {\"frequency\": 293, \"value\": 3412}, \"3413\": {\"frequency\": 127, \"value\": 3413}, \"3414\": {\"frequency\": 297, \"value\": 3414}, \"3415\": {\"frequency\": 166, \"value\": 3415}, \"3416\": {\"frequency\": 470, \"value\": 3416}, \"3417\": {\"frequency\": 92, \"value\": 3417}, \"3418\": {\"frequency\": 211, \"value\": 3418}, \"3419\": {\"frequency\": 120, \"value\": 3419}, \"3420\": {\"frequency\": 220, \"value\": 3420}, \"3421\": {\"frequency\": 24, \"value\": 3421}, \"3422\": {\"frequency\": 383, \"value\": 3422}, \"3423\": {\"frequency\": 317, \"value\": 3423}, \"3424\": {\"frequency\": 71, \"value\": 3424}, \"3425\": {\"frequency\": 492, \"value\": 3425}, \"3426\": {\"frequency\": 120, \"value\": 3426}, \"3427\": {\"frequency\": 38, \"value\": 3427}, \"3428\": {\"frequency\": 183, \"value\": 3428}, \"3429\": {\"frequency\": 35, \"value\": 3429}, \"3430\": {\"frequency\": 406, \"value\": 3430}, \"3431\": {\"frequency\": 62, \"value\": 3431}, \"3432\": {\"frequency\": 116, \"value\": 3432}, \"3433\": {\"frequency\": 88, \"value\": 3433}, \"3434\": {\"frequency\": 174, \"value\": 3434}, \"3435\": {\"frequency\": 126, \"value\": 3435}, \"3436\": {\"frequency\": 204, \"value\": 3436}, \"3437\": {\"frequency\": 50, \"value\": 3437}, \"3438\": {\"frequency\": 80, \"value\": 3438}, \"3439\": {\"frequency\": 89, \"value\": 3439}, \"3440\": {\"frequency\": 27, \"value\": 3440}, \"3441\": {\"frequency\": 320, \"value\": 3441}, \"3442\": {\"frequency\": 186, \"value\": 3442}, \"3443\": {\"frequency\": 25, \"value\": 3443}, \"3444\": {\"frequency\": 110, \"value\": 3444}, \"3445\": {\"frequency\": 144, \"value\": 3445}, \"3446\": {\"frequency\": 36, \"value\": 3446}, \"3447\": {\"frequency\": 85, \"value\": 3447}, \"3448\": {\"frequency\": 26, \"value\": 3448}, \"3449\": {\"frequency\": 64, \"value\": 3449}, \"3450\": {\"frequency\": 189, \"value\": 3450}, \"3451\": {\"frequency\": 62, \"value\": 3451}, \"3452\": {\"frequency\": 85, \"value\": 3452}, \"3453\": {\"frequency\": 299, \"value\": 3453}, \"3454\": {\"frequency\": 362, \"value\": 3454}, \"3455\": {\"frequency\": 23, \"value\": 3455}, \"3456\": {\"frequency\": 55, \"value\": 3456}, \"3457\": {\"frequency\": 160, \"value\": 3457}, \"3458\": {\"frequency\": 164, \"value\": 3458}, \"3459\": {\"frequency\": 29, \"value\": 3459}, \"3460\": {\"frequency\": 84, \"value\": 3460}, \"3461\": {\"frequency\": 37, \"value\": 3461}, \"3462\": {\"frequency\": 559, \"value\": 3462}, \"3463\": {\"frequency\": 37, \"value\": 3463}, \"3464\": {\"frequency\": 371, \"value\": 3464}, \"3465\": {\"frequency\": 59, \"value\": 3465}, \"3466\": {\"frequency\": 37, \"value\": 3466}, \"3467\": {\"frequency\": 59, \"value\": 3467}, \"3468\": {\"frequency\": 66, \"value\": 3468}, \"3469\": {\"frequency\": 459, \"value\": 3469}, \"3470\": {\"frequency\": 84, \"value\": 3470}, \"3471\": {\"frequency\": 824, \"value\": 3471}, \"3472\": {\"frequency\": 50, \"value\": 3472}, \"3473\": {\"frequency\": 159, \"value\": 3473}, \"3474\": {\"frequency\": 200, \"value\": 3474}, \"3475\": {\"frequency\": 622, \"value\": 3475}, \"3476\": {\"frequency\": 705, \"value\": 3476}, \"3477\": {\"frequency\": 138, \"value\": 3477}, \"3478\": {\"frequency\": 74, \"value\": 3478}, \"3479\": {\"frequency\": 90, \"value\": 3479}, \"3480\": {\"frequency\": 47, \"value\": 3480}, \"3481\": {\"frequency\": 140, \"value\": 3481}, \"3482\": {\"frequency\": 71, \"value\": 3482}, \"3483\": {\"frequency\": 661, \"value\": 3483}, \"3484\": {\"frequency\": 206, \"value\": 3484}, \"3485\": {\"frequency\": 48, \"value\": 3485}, \"3486\": {\"frequency\": 97, \"value\": 3486}, \"3487\": {\"frequency\": 318, \"value\": 3487}, \"3488\": {\"frequency\": 21, \"value\": 3488}, \"3489\": {\"frequency\": 105, \"value\": 3489}, \"3490\": {\"frequency\": 244, \"value\": 3490}, \"3491\": {\"frequency\": 727, \"value\": 3491}, \"3492\": {\"frequency\": 63, \"value\": 3492}, \"3493\": {\"frequency\": 163, \"value\": 3493}, \"3494\": {\"frequency\": 35, \"value\": 3494}, \"3495\": {\"frequency\": 21, \"value\": 3495}, \"3496\": {\"frequency\": 25, \"value\": 3496}, \"3497\": {\"frequency\": 92, \"value\": 3497}, \"3498\": {\"frequency\": 117, \"value\": 3498}, \"3499\": {\"frequency\": 437, \"value\": 3499}, \"3500\": {\"frequency\": 62, \"value\": 3500}, \"3501\": {\"frequency\": 197, \"value\": 3501}, \"3502\": {\"frequency\": 33, \"value\": 3502}, \"3503\": {\"frequency\": 490, \"value\": 3503}, \"3504\": {\"frequency\": 214, \"value\": 3504}, \"3505\": {\"frequency\": 100, \"value\": 3505}, \"3506\": {\"frequency\": 68, \"value\": 3506}, \"3507\": {\"frequency\": 923, \"value\": 3507}, \"3508\": {\"frequency\": 36, \"value\": 3508}, \"3509\": {\"frequency\": 404, \"value\": 3509}, \"3510\": {\"frequency\": 67, \"value\": 3510}, \"3511\": {\"frequency\": 206, \"value\": 3511}, \"3512\": {\"frequency\": 409, \"value\": 3512}, \"3513\": {\"frequency\": 311, \"value\": 3513}, \"3514\": {\"frequency\": 76, \"value\": 3514}, \"3515\": {\"frequency\": 100, \"value\": 3515}, \"3516\": {\"frequency\": 157, \"value\": 3516}, \"3517\": {\"frequency\": 122, \"value\": 3517}, \"3518\": {\"frequency\": 502, \"value\": 3518}, \"3519\": {\"frequency\": 666, \"value\": 3519}, \"3520\": {\"frequency\": 289, \"value\": 3520}, \"3521\": {\"frequency\": 387, \"value\": 3521}, \"3522\": {\"frequency\": 62, \"value\": 3522}, \"3523\": {\"frequency\": 39, \"value\": 3523}, \"3524\": {\"frequency\": 153, \"value\": 3524}, \"3525\": {\"frequency\": 90, \"value\": 3525}, \"3526\": {\"frequency\": 962, \"value\": 3526}, \"3527\": {\"frequency\": 39, \"value\": 3527}, \"3528\": {\"frequency\": 112, \"value\": 3528}, \"3529\": {\"frequency\": 227, \"value\": 3529}, \"3530\": {\"frequency\": 20, \"value\": 3530}, \"3531\": {\"frequency\": 77, \"value\": 3531}, \"3532\": {\"frequency\": 114, \"value\": 3532}, \"3533\": {\"frequency\": 92, \"value\": 3533}, \"3534\": {\"frequency\": 55, \"value\": 3534}, \"3535\": {\"frequency\": 29, \"value\": 3535}, \"3536\": {\"frequency\": 165, \"value\": 3536}, \"3537\": {\"frequency\": 57, \"value\": 3537}, \"3538\": {\"frequency\": 163, \"value\": 3538}, \"3539\": {\"frequency\": 1078, \"value\": 3539}, \"3540\": {\"frequency\": 208, \"value\": 3540}, \"3541\": {\"frequency\": 35, \"value\": 3541}, \"3542\": {\"frequency\": 22, \"value\": 3542}, \"3543\": {\"frequency\": 104, \"value\": 3543}, \"3544\": {\"frequency\": 29, \"value\": 3544}, \"3545\": {\"frequency\": 28, \"value\": 3545}, \"3546\": {\"frequency\": 410, \"value\": 3546}, \"3547\": {\"frequency\": 362, \"value\": 3547}, \"3548\": {\"frequency\": 26, \"value\": 3548}, \"3549\": {\"frequency\": 37, \"value\": 3549}, \"3550\": {\"frequency\": 357, \"value\": 3550}, \"3551\": {\"frequency\": 87, \"value\": 3551}, \"3552\": {\"frequency\": 20, \"value\": 3552}, \"3553\": {\"frequency\": 47, \"value\": 3553}, \"3554\": {\"frequency\": 33, \"value\": 3554}, \"3555\": {\"frequency\": 129, \"value\": 3555}, \"3556\": {\"frequency\": 112, \"value\": 3556}, \"3557\": {\"frequency\": 392, \"value\": 3557}, \"3558\": {\"frequency\": 300, \"value\": 3558}, \"3559\": {\"frequency\": 74, \"value\": 3559}, \"3560\": {\"frequency\": 137, \"value\": 3560}, \"3561\": {\"frequency\": 259, \"value\": 3561}, \"3562\": {\"frequency\": 683, \"value\": 3562}, \"3563\": {\"frequency\": 211, \"value\": 3563}, \"3564\": {\"frequency\": 152, \"value\": 3564}, \"3565\": {\"frequency\": 140, \"value\": 3565}, \"3566\": {\"frequency\": 31, \"value\": 3566}, \"3567\": {\"frequency\": 69, \"value\": 3567}, \"3568\": {\"frequency\": 102, \"value\": 3568}, \"3569\": {\"frequency\": 437, \"value\": 3569}, \"3570\": {\"frequency\": 22, \"value\": 3570}, \"3571\": {\"frequency\": 104, \"value\": 3571}, \"3572\": {\"frequency\": 111, \"value\": 3572}, \"3573\": {\"frequency\": 36, \"value\": 3573}, \"3574\": {\"frequency\": 179, \"value\": 3574}, \"3575\": {\"frequency\": 38, \"value\": 3575}, \"3576\": {\"frequency\": 541, \"value\": 3576}, \"3577\": {\"frequency\": 78, \"value\": 3577}, \"3578\": {\"frequency\": 271, \"value\": 3578}, \"3579\": {\"frequency\": 269, \"value\": 3579}, \"3580\": {\"frequency\": 72, \"value\": 3580}, \"3581\": {\"frequency\": 34, \"value\": 3581}, \"3582\": {\"frequency\": 97, \"value\": 3582}, \"3583\": {\"frequency\": 30, \"value\": 3583}, \"3584\": {\"frequency\": 67, \"value\": 3584}, \"3585\": {\"frequency\": 262, \"value\": 3585}, \"3586\": {\"frequency\": 163, \"value\": 3586}, \"3587\": {\"frequency\": 43, \"value\": 3587}, \"3588\": {\"frequency\": 225, \"value\": 3588}, \"3589\": {\"frequency\": 688, \"value\": 3589}, \"3590\": {\"frequency\": 462, \"value\": 3590}, \"3591\": {\"frequency\": 202, \"value\": 3591}, \"3592\": {\"frequency\": 357, \"value\": 3592}, \"3593\": {\"frequency\": 64, \"value\": 3593}, \"3594\": {\"frequency\": 157, \"value\": 3594}, \"3595\": {\"frequency\": 31, \"value\": 3595}, \"3596\": {\"frequency\": 128, \"value\": 3596}, \"3597\": {\"frequency\": 76, \"value\": 3597}, \"3598\": {\"frequency\": 65, \"value\": 3598}, \"3599\": {\"frequency\": 176, \"value\": 3599}, \"3600\": {\"frequency\": 371, \"value\": 3600}, \"3601\": {\"frequency\": 158, \"value\": 3601}, \"3602\": {\"frequency\": 86, \"value\": 3602}, \"3603\": {\"frequency\": 328, \"value\": 3603}, \"3604\": {\"frequency\": 27, \"value\": 3604}, \"3605\": {\"frequency\": 115, \"value\": 3605}, \"3606\": {\"frequency\": 35, \"value\": 3606}, \"3607\": {\"frequency\": 260, \"value\": 3607}, \"3608\": {\"frequency\": 102, \"value\": 3608}, \"3609\": {\"frequency\": 145, \"value\": 3609}, \"3610\": {\"frequency\": 696, \"value\": 3610}, \"3611\": {\"frequency\": 205, \"value\": 3611}, \"3612\": {\"frequency\": 215, \"value\": 3612}, \"3613\": {\"frequency\": 70, \"value\": 3613}, \"3614\": {\"frequency\": 157, \"value\": 3614}, \"3615\": {\"frequency\": 174, \"value\": 3615}, \"3616\": {\"frequency\": 21, \"value\": 3616}, \"3617\": {\"frequency\": 47, \"value\": 3617}, \"3618\": {\"frequency\": 1344, \"value\": 3618}, \"3619\": {\"frequency\": 101, \"value\": 3619}, \"3620\": {\"frequency\": 431, \"value\": 3620}, \"3621\": {\"frequency\": 379, \"value\": 3621}, \"3622\": {\"frequency\": 159, \"value\": 3622}, \"3623\": {\"frequency\": 22, \"value\": 3623}, \"3624\": {\"frequency\": 354, \"value\": 3624}, \"3625\": {\"frequency\": 202, \"value\": 3625}, \"3626\": {\"frequency\": 855, \"value\": 3626}, \"3627\": {\"frequency\": 36, \"value\": 3627}, \"3628\": {\"frequency\": 31, \"value\": 3628}, \"3629\": {\"frequency\": 62, \"value\": 3629}, \"3630\": {\"frequency\": 181, \"value\": 3630}, \"3631\": {\"frequency\": 40, \"value\": 3631}, \"3632\": {\"frequency\": 29, \"value\": 3632}, \"3633\": {\"frequency\": 20, \"value\": 3633}, \"3634\": {\"frequency\": 23, \"value\": 3634}, \"3635\": {\"frequency\": 163, \"value\": 3635}, \"3636\": {\"frequency\": 23, \"value\": 3636}, \"3637\": {\"frequency\": 66, \"value\": 3637}, \"3638\": {\"frequency\": 125, \"value\": 3638}, \"3639\": {\"frequency\": 86, \"value\": 3639}, \"3640\": {\"frequency\": 73, \"value\": 3640}, \"3641\": {\"frequency\": 485, \"value\": 3641}, \"3642\": {\"frequency\": 21, \"value\": 3642}, \"3643\": {\"frequency\": 220, \"value\": 3643}, \"3644\": {\"frequency\": 41, \"value\": 3644}, \"3645\": {\"frequency\": 69, \"value\": 3645}, \"3646\": {\"frequency\": 93, \"value\": 3646}, \"3647\": {\"frequency\": 33, \"value\": 3647}, \"3648\": {\"frequency\": 627, \"value\": 3648}, \"3649\": {\"frequency\": 51, \"value\": 3649}, \"3650\": {\"frequency\": 785, \"value\": 3650}, \"3651\": {\"frequency\": 251, \"value\": 3651}, \"3652\": {\"frequency\": 289, \"value\": 3652}, \"3653\": {\"frequency\": 111, \"value\": 3653}, \"3654\": {\"frequency\": 282, \"value\": 3654}, \"3655\": {\"frequency\": 32, \"value\": 3655}, \"3656\": {\"frequency\": 79, \"value\": 3656}, \"3657\": {\"frequency\": 38, \"value\": 3657}, \"3658\": {\"frequency\": 266, \"value\": 3658}, \"3659\": {\"frequency\": 96, \"value\": 3659}, \"3660\": {\"frequency\": 58, \"value\": 3660}, \"3661\": {\"frequency\": 125, \"value\": 3661}, \"3662\": {\"frequency\": 88, \"value\": 3662}, \"3663\": {\"frequency\": 91, \"value\": 3663}, \"3664\": {\"frequency\": 134, \"value\": 3664}, \"3665\": {\"frequency\": 216, \"value\": 3665}, \"3666\": {\"frequency\": 42, \"value\": 3666}, \"3667\": {\"frequency\": 55, \"value\": 3667}, \"3668\": {\"frequency\": 38, \"value\": 3668}, \"3669\": {\"frequency\": 436, \"value\": 3669}, \"3670\": {\"frequency\": 68, \"value\": 3670}, \"3671\": {\"frequency\": 104, \"value\": 3671}, \"3672\": {\"frequency\": 203, \"value\": 3672}, \"3673\": {\"frequency\": 212, \"value\": 3673}, \"3674\": {\"frequency\": 91, \"value\": 3674}, \"3675\": {\"frequency\": 849, \"value\": 3675}, \"3676\": {\"frequency\": 101, \"value\": 3676}, \"3677\": {\"frequency\": 141, \"value\": 3677}, \"3678\": {\"frequency\": 139, \"value\": 3678}, \"3679\": {\"frequency\": 384, \"value\": 3679}, \"3680\": {\"frequency\": 56, \"value\": 3680}, \"3681\": {\"frequency\": 668, \"value\": 3681}, \"3682\": {\"frequency\": 91, \"value\": 3682}, \"3683\": {\"frequency\": 589, \"value\": 3683}, \"3684\": {\"frequency\": 139, \"value\": 3684}, \"3685\": {\"frequency\": 307, \"value\": 3685}, \"3686\": {\"frequency\": 75, \"value\": 3686}, \"3687\": {\"frequency\": 191, \"value\": 3687}, \"3688\": {\"frequency\": 304, \"value\": 3688}, \"3689\": {\"frequency\": 226, \"value\": 3689}, \"3690\": {\"frequency\": 401, \"value\": 3690}, \"3691\": {\"frequency\": 302, \"value\": 3691}, \"3692\": {\"frequency\": 71, \"value\": 3692}, \"3693\": {\"frequency\": 596, \"value\": 3693}, \"3694\": {\"frequency\": 53, \"value\": 3694}, \"3695\": {\"frequency\": 302, \"value\": 3695}, \"3696\": {\"frequency\": 150, \"value\": 3696}, \"3697\": {\"frequency\": 136, \"value\": 3697}, \"3698\": {\"frequency\": 115, \"value\": 3698}, \"3699\": {\"frequency\": 61, \"value\": 3699}, \"3700\": {\"frequency\": 66, \"value\": 3700}, \"3701\": {\"frequency\": 84, \"value\": 3701}, \"3702\": {\"frequency\": 47, \"value\": 3702}, \"3703\": {\"frequency\": 50, \"value\": 3703}, \"3704\": {\"frequency\": 219, \"value\": 3704}, \"3705\": {\"frequency\": 792, \"value\": 3705}, \"3706\": {\"frequency\": 78, \"value\": 3706}, \"3707\": {\"frequency\": 51, \"value\": 3707}, \"3708\": {\"frequency\": 35, \"value\": 3708}, \"3709\": {\"frequency\": 331, \"value\": 3709}, \"3710\": {\"frequency\": 69, \"value\": 3710}, \"3711\": {\"frequency\": 88, \"value\": 3711}, \"3712\": {\"frequency\": 140, \"value\": 3712}, \"3713\": {\"frequency\": 408, \"value\": 3713}, \"3714\": {\"frequency\": 40, \"value\": 3714}, \"3715\": {\"frequency\": 316, \"value\": 3715}, \"3716\": {\"frequency\": 392, \"value\": 3716}, \"3717\": {\"frequency\": 299, \"value\": 3717}, \"3718\": {\"frequency\": 269, \"value\": 3718}, \"3719\": {\"frequency\": 36, \"value\": 3719}, \"3720\": {\"frequency\": 207, \"value\": 3720}, \"3721\": {\"frequency\": 129, \"value\": 3721}, \"3722\": {\"frequency\": 31, \"value\": 3722}, \"3723\": {\"frequency\": 39, \"value\": 3723}, \"3724\": {\"frequency\": 583, \"value\": 3724}, \"3725\": {\"frequency\": 26, \"value\": 3725}, \"3726\": {\"frequency\": 340, \"value\": 3726}, \"3727\": {\"frequency\": 460, \"value\": 3727}, \"3728\": {\"frequency\": 64, \"value\": 3728}, \"3729\": {\"frequency\": 443, \"value\": 3729}, \"3730\": {\"frequency\": 29, \"value\": 3730}, \"3731\": {\"frequency\": 125, \"value\": 3731}, \"3732\": {\"frequency\": 208, \"value\": 3732}, \"3733\": {\"frequency\": 119, \"value\": 3733}, \"3734\": {\"frequency\": 50, \"value\": 3734}, \"3735\": {\"frequency\": 301, \"value\": 3735}, \"3736\": {\"frequency\": 125, \"value\": 3736}, \"3737\": {\"frequency\": 150, \"value\": 3737}, \"3738\": {\"frequency\": 32, \"value\": 3738}, \"3739\": {\"frequency\": 22, \"value\": 3739}, \"3740\": {\"frequency\": 47, \"value\": 3740}, \"3741\": {\"frequency\": 134, \"value\": 3741}, \"3742\": {\"frequency\": 125, \"value\": 3742}, \"3743\": {\"frequency\": 32, \"value\": 3743}, \"3744\": {\"frequency\": 36, \"value\": 3744}, \"3745\": {\"frequency\": 202, \"value\": 3745}, \"3746\": {\"frequency\": 348, \"value\": 3746}, \"3747\": {\"frequency\": 64, \"value\": 3747}, \"3748\": {\"frequency\": 32, \"value\": 3748}, \"3749\": {\"frequency\": 118, \"value\": 3749}, \"3750\": {\"frequency\": 39, \"value\": 3750}, \"3751\": {\"frequency\": 407, \"value\": 3751}, \"3752\": {\"frequency\": 185, \"value\": 3752}, \"3753\": {\"frequency\": 49, \"value\": 3753}, \"3754\": {\"frequency\": 304, \"value\": 3754}, \"3755\": {\"frequency\": 72, \"value\": 3755}, \"3756\": {\"frequency\": 414, \"value\": 3756}, \"3757\": {\"frequency\": 201, \"value\": 3757}, \"3758\": {\"frequency\": 50, \"value\": 3758}, \"3759\": {\"frequency\": 103, \"value\": 3759}, \"3760\": {\"frequency\": 316, \"value\": 3760}, \"3761\": {\"frequency\": 171, \"value\": 3761}, \"3762\": {\"frequency\": 413, \"value\": 3762}, \"3763\": {\"frequency\": 140, \"value\": 3763}, \"3764\": {\"frequency\": 27, \"value\": 3764}, \"3765\": {\"frequency\": 27, \"value\": 3765}, \"3766\": {\"frequency\": 124, \"value\": 3766}, \"3767\": {\"frequency\": 41, \"value\": 3767}, \"3768\": {\"frequency\": 710, \"value\": 3768}, \"3769\": {\"frequency\": 410, \"value\": 3769}, \"3770\": {\"frequency\": 266, \"value\": 3770}, \"3771\": {\"frequency\": 469, \"value\": 3771}, \"3772\": {\"frequency\": 48, \"value\": 3772}, \"3773\": {\"frequency\": 361, \"value\": 3773}, \"3774\": {\"frequency\": 56, \"value\": 3774}, \"3775\": {\"frequency\": 93, \"value\": 3775}, \"3776\": {\"frequency\": 42, \"value\": 3776}, \"3777\": {\"frequency\": 116, \"value\": 3777}, \"3778\": {\"frequency\": 941, \"value\": 3778}, \"3779\": {\"frequency\": 56, \"value\": 3779}, \"3780\": {\"frequency\": 300, \"value\": 3780}, \"3781\": {\"frequency\": 62, \"value\": 3781}, \"3782\": {\"frequency\": 65, \"value\": 3782}, \"3783\": {\"frequency\": 24, \"value\": 3783}, \"3784\": {\"frequency\": 41, \"value\": 3784}, \"3785\": {\"frequency\": 35, \"value\": 3785}, \"3786\": {\"frequency\": 63, \"value\": 3786}, \"3787\": {\"frequency\": 20, \"value\": 3787}, \"3788\": {\"frequency\": 24, \"value\": 3788}, \"3789\": {\"frequency\": 151, \"value\": 3789}, \"3790\": {\"frequency\": 125, \"value\": 3790}, \"3791\": {\"frequency\": 126, \"value\": 3791}, \"3792\": {\"frequency\": 821, \"value\": 3792}, \"3793\": {\"frequency\": 133, \"value\": 3793}, \"3794\": {\"frequency\": 44, \"value\": 3794}, \"3795\": {\"frequency\": 29, \"value\": 3795}, \"3796\": {\"frequency\": 202, \"value\": 3796}, \"3797\": {\"frequency\": 27, \"value\": 3797}, \"3798\": {\"frequency\": 30, \"value\": 3798}, \"3799\": {\"frequency\": 128, \"value\": 3799}, \"3800\": {\"frequency\": 71, \"value\": 3800}, \"3801\": {\"frequency\": 140, \"value\": 3801}, \"3802\": {\"frequency\": 22, \"value\": 3802}, \"3803\": {\"frequency\": 22, \"value\": 3803}, \"3804\": {\"frequency\": 187, \"value\": 3804}, \"3805\": {\"frequency\": 37, \"value\": 3805}, \"3806\": {\"frequency\": 167, \"value\": 3806}, \"3807\": {\"frequency\": 478, \"value\": 3807}, \"3808\": {\"frequency\": 1158, \"value\": 3808}, \"3809\": {\"frequency\": 47, \"value\": 3809}, \"3810\": {\"frequency\": 67, \"value\": 3810}, \"3811\": {\"frequency\": 105, \"value\": 3811}, \"3812\": {\"frequency\": 114, \"value\": 3812}, \"3813\": {\"frequency\": 67, \"value\": 3813}, \"3814\": {\"frequency\": 36, \"value\": 3814}, \"3815\": {\"frequency\": 120, \"value\": 3815}, \"3816\": {\"frequency\": 318, \"value\": 3816}, \"3817\": {\"frequency\": 53, \"value\": 3817}, \"3818\": {\"frequency\": 47, \"value\": 3818}, \"3819\": {\"frequency\": 118, \"value\": 3819}, \"3820\": {\"frequency\": 45, \"value\": 3820}, \"3821\": {\"frequency\": 729, \"value\": 3821}, \"3822\": {\"frequency\": 184, \"value\": 3822}, \"3823\": {\"frequency\": 633, \"value\": 3823}, \"3824\": {\"frequency\": 1018, \"value\": 3824}, \"3825\": {\"frequency\": 491, \"value\": 3825}, \"3826\": {\"frequency\": 28, \"value\": 3826}, \"3827\": {\"frequency\": 186, \"value\": 3827}, \"3828\": {\"frequency\": 42, \"value\": 3828}, \"3829\": {\"frequency\": 822, \"value\": 3829}, \"3830\": {\"frequency\": 136, \"value\": 3830}, \"3831\": {\"frequency\": 122, \"value\": 3831}, \"3832\": {\"frequency\": 108, \"value\": 3832}, \"3833\": {\"frequency\": 312, \"value\": 3833}, \"3834\": {\"frequency\": 562, \"value\": 3834}, \"3835\": {\"frequency\": 91, \"value\": 3835}, \"3836\": {\"frequency\": 510, \"value\": 3836}, \"3837\": {\"frequency\": 196, \"value\": 3837}, \"3838\": {\"frequency\": 24, \"value\": 3838}, \"3839\": {\"frequency\": 88, \"value\": 3839}, \"3840\": {\"frequency\": 68, \"value\": 3840}, \"3841\": {\"frequency\": 1216, \"value\": 3841}, \"3842\": {\"frequency\": 669, \"value\": 3842}, \"3843\": {\"frequency\": 66, \"value\": 3843}, \"3844\": {\"frequency\": 134, \"value\": 3844}, \"3845\": {\"frequency\": 74, \"value\": 3845}, \"3846\": {\"frequency\": 70, \"value\": 3846}, \"3847\": {\"frequency\": 429, \"value\": 3847}, \"3848\": {\"frequency\": 78, \"value\": 3848}, \"3849\": {\"frequency\": 67, \"value\": 3849}, \"3850\": {\"frequency\": 384, \"value\": 3850}, \"3851\": {\"frequency\": 86, \"value\": 3851}, \"3852\": {\"frequency\": 57, \"value\": 3852}, \"3853\": {\"frequency\": 314, \"value\": 3853}, \"3854\": {\"frequency\": 82, \"value\": 3854}, \"3855\": {\"frequency\": 101, \"value\": 3855}, \"3856\": {\"frequency\": 47, \"value\": 3856}, \"3857\": {\"frequency\": 54, \"value\": 3857}, \"3858\": {\"frequency\": 162, \"value\": 3858}, \"3859\": {\"frequency\": 309, \"value\": 3859}, \"3860\": {\"frequency\": 171, \"value\": 3860}, \"3861\": {\"frequency\": 41, \"value\": 3861}, \"3862\": {\"frequency\": 33, \"value\": 3862}, \"3863\": {\"frequency\": 25, \"value\": 3863}, \"3864\": {\"frequency\": 202, \"value\": 3864}, \"3865\": {\"frequency\": 57, \"value\": 3865}, \"3866\": {\"frequency\": 85, \"value\": 3866}, \"3867\": {\"frequency\": 42, \"value\": 3867}, \"3868\": {\"frequency\": 275, \"value\": 3868}, \"3869\": {\"frequency\": 50, \"value\": 3869}, \"3870\": {\"frequency\": 26, \"value\": 3870}, \"3871\": {\"frequency\": 114, \"value\": 3871}, \"3872\": {\"frequency\": 48, \"value\": 3872}, \"3873\": {\"frequency\": 77, \"value\": 3873}, \"3874\": {\"frequency\": 115, \"value\": 3874}, \"3875\": {\"frequency\": 39, \"value\": 3875}, \"3876\": {\"frequency\": 44, \"value\": 3876}, \"3877\": {\"frequency\": 22, \"value\": 3877}, \"3878\": {\"frequency\": 484, \"value\": 3878}, \"3879\": {\"frequency\": 46, \"value\": 3879}, \"3880\": {\"frequency\": 57, \"value\": 3880}, \"3881\": {\"frequency\": 81, \"value\": 3881}, \"3882\": {\"frequency\": 203, \"value\": 3882}, \"3883\": {\"frequency\": 20, \"value\": 3883}, \"3884\": {\"frequency\": 651, \"value\": 3884}, \"3885\": {\"frequency\": 590, \"value\": 3885}, \"3886\": {\"frequency\": 91, \"value\": 3886}, \"3887\": {\"frequency\": 319, \"value\": 3887}, \"3888\": {\"frequency\": 151, \"value\": 3888}, \"3889\": {\"frequency\": 133, \"value\": 3889}, \"3890\": {\"frequency\": 71, \"value\": 3890}, \"3891\": {\"frequency\": 100, \"value\": 3891}, \"3892\": {\"frequency\": 477, \"value\": 3892}, \"3893\": {\"frequency\": 50, \"value\": 3893}, \"3894\": {\"frequency\": 159, \"value\": 3894}, \"3895\": {\"frequency\": 71, \"value\": 3895}, \"3896\": {\"frequency\": 148, \"value\": 3896}, \"3897\": {\"frequency\": 21, \"value\": 3897}, \"3898\": {\"frequency\": 101, \"value\": 3898}, \"3899\": {\"frequency\": 52, \"value\": 3899}, \"3900\": {\"frequency\": 409, \"value\": 3900}, \"3901\": {\"frequency\": 75, \"value\": 3901}, \"3902\": {\"frequency\": 165, \"value\": 3902}, \"3903\": {\"frequency\": 168, \"value\": 3903}, \"3904\": {\"frequency\": 103, \"value\": 3904}, \"3905\": {\"frequency\": 81, \"value\": 3905}, \"3906\": {\"frequency\": 64, \"value\": 3906}, \"3907\": {\"frequency\": 52, \"value\": 3907}, \"3908\": {\"frequency\": 160, \"value\": 3908}, \"3909\": {\"frequency\": 78, \"value\": 3909}, \"3910\": {\"frequency\": 261, \"value\": 3910}, \"3911\": {\"frequency\": 25, \"value\": 3911}, \"3912\": {\"frequency\": 101, \"value\": 3912}, \"3913\": {\"frequency\": 167, \"value\": 3913}, \"3914\": {\"frequency\": 113, \"value\": 3914}, \"3915\": {\"frequency\": 23, \"value\": 3915}, \"3916\": {\"frequency\": 530, \"value\": 3916}, \"3917\": {\"frequency\": 98, \"value\": 3917}, \"3918\": {\"frequency\": 26, \"value\": 3918}, \"3919\": {\"frequency\": 69, \"value\": 3919}, \"3920\": {\"frequency\": 60, \"value\": 3920}, \"3921\": {\"frequency\": 72, \"value\": 3921}, \"3922\": {\"frequency\": 178, \"value\": 3922}, \"3923\": {\"frequency\": 103, \"value\": 3923}, \"3924\": {\"frequency\": 77, \"value\": 3924}, \"3925\": {\"frequency\": 108, \"value\": 3925}, \"3926\": {\"frequency\": 65, \"value\": 3926}, \"3927\": {\"frequency\": 156, \"value\": 3927}, \"3928\": {\"frequency\": 28, \"value\": 3928}, \"3929\": {\"frequency\": 612, \"value\": 3929}, \"3930\": {\"frequency\": 194, \"value\": 3930}, \"3931\": {\"frequency\": 233, \"value\": 3931}, \"3932\": {\"frequency\": 32, \"value\": 3932}, \"3933\": {\"frequency\": 24, \"value\": 3933}, \"3934\": {\"frequency\": 703, \"value\": 3934}, \"3935\": {\"frequency\": 168, \"value\": 3935}, \"3936\": {\"frequency\": 34, \"value\": 3936}, \"3937\": {\"frequency\": 73, \"value\": 3937}, \"3938\": {\"frequency\": 94, \"value\": 3938}, \"3939\": {\"frequency\": 24, \"value\": 3939}, \"3940\": {\"frequency\": 492, \"value\": 3940}, \"3941\": {\"frequency\": 50, \"value\": 3941}, \"3942\": {\"frequency\": 606, \"value\": 3942}, \"3943\": {\"frequency\": 65, \"value\": 3943}, \"3944\": {\"frequency\": 50, \"value\": 3944}, \"3945\": {\"frequency\": 531, \"value\": 3945}, \"3946\": {\"frequency\": 264, \"value\": 3946}, \"3947\": {\"frequency\": 102, \"value\": 3947}, \"3948\": {\"frequency\": 102, \"value\": 3948}, \"3949\": {\"frequency\": 74, \"value\": 3949}, \"3950\": {\"frequency\": 70, \"value\": 3950}, \"3951\": {\"frequency\": 196, \"value\": 3951}, \"3952\": {\"frequency\": 58, \"value\": 3952}, \"3953\": {\"frequency\": 234, \"value\": 3953}, \"3954\": {\"frequency\": 43, \"value\": 3954}, \"3955\": {\"frequency\": 152, \"value\": 3955}, \"3956\": {\"frequency\": 33, \"value\": 3956}, \"3957\": {\"frequency\": 351, \"value\": 3957}, \"3958\": {\"frequency\": 164, \"value\": 3958}, \"3959\": {\"frequency\": 25, \"value\": 3959}, \"3960\": {\"frequency\": 28, \"value\": 3960}, \"3961\": {\"frequency\": 230, \"value\": 3961}, \"3962\": {\"frequency\": 70, \"value\": 3962}, \"3963\": {\"frequency\": 457, \"value\": 3963}, \"3964\": {\"frequency\": 64, \"value\": 3964}, \"3965\": {\"frequency\": 290, \"value\": 3965}, \"3966\": {\"frequency\": 53, \"value\": 3966}, \"3967\": {\"frequency\": 446, \"value\": 3967}, \"3968\": {\"frequency\": 85, \"value\": 3968}, \"3969\": {\"frequency\": 20, \"value\": 3969}, \"3970\": {\"frequency\": 253, \"value\": 3970}, \"3971\": {\"frequency\": 368, \"value\": 3971}, \"3972\": {\"frequency\": 25, \"value\": 3972}, \"3973\": {\"frequency\": 91, \"value\": 3973}, \"3974\": {\"frequency\": 123, \"value\": 3974}, \"3975\": {\"frequency\": 92, \"value\": 3975}, \"3976\": {\"frequency\": 299, \"value\": 3976}, \"3977\": {\"frequency\": 30, \"value\": 3977}, \"3978\": {\"frequency\": 132, \"value\": 3978}, \"3979\": {\"frequency\": 97, \"value\": 3979}, \"3980\": {\"frequency\": 40, \"value\": 3980}, \"3981\": {\"frequency\": 217, \"value\": 3981}, \"3982\": {\"frequency\": 82, \"value\": 3982}, \"3983\": {\"frequency\": 130, \"value\": 3983}, \"3984\": {\"frequency\": 65, \"value\": 3984}, \"3985\": {\"frequency\": 331, \"value\": 3985}, \"3986\": {\"frequency\": 50, \"value\": 3986}, \"3987\": {\"frequency\": 46, \"value\": 3987}, \"3988\": {\"frequency\": 204, \"value\": 3988}, \"3989\": {\"frequency\": 226, \"value\": 3989}, \"3990\": {\"frequency\": 85, \"value\": 3990}, \"3991\": {\"frequency\": 47, \"value\": 3991}, \"3992\": {\"frequency\": 449, \"value\": 3992}, \"3993\": {\"frequency\": 351, \"value\": 3993}, \"3994\": {\"frequency\": 187, \"value\": 3994}, \"3995\": {\"frequency\": 163, \"value\": 3995}, \"3996\": {\"frequency\": 112, \"value\": 3996}, \"3997\": {\"frequency\": 315, \"value\": 3997}, \"3998\": {\"frequency\": 324, \"value\": 3998}, \"3999\": {\"frequency\": 742, \"value\": 3999}, \"4000\": {\"frequency\": 65, \"value\": 4000}, \"4001\": {\"frequency\": 434, \"value\": 4001}, \"4002\": {\"frequency\": 59, \"value\": 4002}, \"4003\": {\"frequency\": 42, \"value\": 4003}, \"4004\": {\"frequency\": 128, \"value\": 4004}, \"4005\": {\"frequency\": 240, \"value\": 4005}, \"4006\": {\"frequency\": 210, \"value\": 4006}, \"4007\": {\"frequency\": 544, \"value\": 4007}, \"4008\": {\"frequency\": 24, \"value\": 4008}, \"4009\": {\"frequency\": 309, \"value\": 4009}, \"4010\": {\"frequency\": 24, \"value\": 4010}, \"4011\": {\"frequency\": 51, \"value\": 4011}, \"4012\": {\"frequency\": 47, \"value\": 4012}, \"4013\": {\"frequency\": 224, \"value\": 4013}, \"4014\": {\"frequency\": 225, \"value\": 4014}, \"4015\": {\"frequency\": 104, \"value\": 4015}, \"4016\": {\"frequency\": 678, \"value\": 4016}, \"4017\": {\"frequency\": 39, \"value\": 4017}, \"4018\": {\"frequency\": 145, \"value\": 4018}, \"4019\": {\"frequency\": 25, \"value\": 4019}, \"4020\": {\"frequency\": 84, \"value\": 4020}, \"4021\": {\"frequency\": 765, \"value\": 4021}, \"4022\": {\"frequency\": 416, \"value\": 4022}, \"4023\": {\"frequency\": 87, \"value\": 4023}, \"4024\": {\"frequency\": 252, \"value\": 4024}, \"4025\": {\"frequency\": 28, \"value\": 4025}, \"4026\": {\"frequency\": 300, \"value\": 4026}, \"4027\": {\"frequency\": 51, \"value\": 4027}, \"4028\": {\"frequency\": 537, \"value\": 4028}, \"4029\": {\"frequency\": 77, \"value\": 4029}, \"4030\": {\"frequency\": 124, \"value\": 4030}, \"4031\": {\"frequency\": 51, \"value\": 4031}, \"4032\": {\"frequency\": 153, \"value\": 4032}, \"4033\": {\"frequency\": 662, \"value\": 4033}, \"4034\": {\"frequency\": 108, \"value\": 4034}, \"4035\": {\"frequency\": 57, \"value\": 4035}, \"4036\": {\"frequency\": 126, \"value\": 4036}, \"4037\": {\"frequency\": 53, \"value\": 4037}, \"4038\": {\"frequency\": 23, \"value\": 4038}, \"4039\": {\"frequency\": 53, \"value\": 4039}, \"4040\": {\"frequency\": 186, \"value\": 4040}, \"4041\": {\"frequency\": 844, \"value\": 4041}, \"4042\": {\"frequency\": 446, \"value\": 4042}, \"4043\": {\"frequency\": 133, \"value\": 4043}, \"4044\": {\"frequency\": 62, \"value\": 4044}, \"4046\": {\"frequency\": 37, \"value\": 4046}, \"4047\": {\"frequency\": 45, \"value\": 4047}, \"4048\": {\"frequency\": 729, \"value\": 4048}, \"4049\": {\"frequency\": 375, \"value\": 4049}, \"4050\": {\"frequency\": 168, \"value\": 4050}, \"4051\": {\"frequency\": 100, \"value\": 4051}, \"4052\": {\"frequency\": 34, \"value\": 4052}, \"4053\": {\"frequency\": 500, \"value\": 4053}, \"4054\": {\"frequency\": 616, \"value\": 4054}, \"4055\": {\"frequency\": 407, \"value\": 4055}, \"4056\": {\"frequency\": 22, \"value\": 4056}, \"4057\": {\"frequency\": 38, \"value\": 4057}, \"4058\": {\"frequency\": 503, \"value\": 4058}, \"4059\": {\"frequency\": 45, \"value\": 4059}, \"4060\": {\"frequency\": 256, \"value\": 4060}, \"4061\": {\"frequency\": 38, \"value\": 4061}, \"4062\": {\"frequency\": 322, \"value\": 4062}, \"4063\": {\"frequency\": 59, \"value\": 4063}, \"4064\": {\"frequency\": 1009, \"value\": 4064}, \"4065\": {\"frequency\": 21, \"value\": 4065}, \"4066\": {\"frequency\": 95, \"value\": 4066}, \"4067\": {\"frequency\": 80, \"value\": 4067}, \"4068\": {\"frequency\": 20, \"value\": 4068}, \"4069\": {\"frequency\": 31, \"value\": 4069}, \"4070\": {\"frequency\": 135, \"value\": 4070}, \"4071\": {\"frequency\": 111, \"value\": 4071}, \"4072\": {\"frequency\": 254, \"value\": 4072}, \"4073\": {\"frequency\": 24, \"value\": 4073}, \"4074\": {\"frequency\": 26, \"value\": 4074}, \"4075\": {\"frequency\": 54, \"value\": 4075}, \"4076\": {\"frequency\": 48, \"value\": 4076}, \"4077\": {\"frequency\": 227, \"value\": 4077}, \"4078\": {\"frequency\": 266, \"value\": 4078}, \"4079\": {\"frequency\": 433, \"value\": 4079}, \"4080\": {\"frequency\": 83, \"value\": 4080}, \"4081\": {\"frequency\": 51, \"value\": 4081}, \"4082\": {\"frequency\": 123, \"value\": 4082}, \"4083\": {\"frequency\": 766, \"value\": 4083}, \"4084\": {\"frequency\": 168, \"value\": 4084}, \"4085\": {\"frequency\": 829, \"value\": 4085}, \"4086\": {\"frequency\": 318, \"value\": 4086}, \"4087\": {\"frequency\": 60, \"value\": 4087}, \"4088\": {\"frequency\": 403, \"value\": 4088}, \"4089\": {\"frequency\": 702, \"value\": 4089}, \"4090\": {\"frequency\": 203, \"value\": 4090}, \"4091\": {\"frequency\": 104, \"value\": 4091}, \"4092\": {\"frequency\": 72, \"value\": 4092}, \"4093\": {\"frequency\": 157, \"value\": 4093}, \"4094\": {\"frequency\": 270, \"value\": 4094}, \"4095\": {\"frequency\": 62, \"value\": 4095}, \"4096\": {\"frequency\": 239, \"value\": 4096}, \"4097\": {\"frequency\": 30, \"value\": 4097}, \"4098\": {\"frequency\": 114, \"value\": 4098}, \"4099\": {\"frequency\": 129, \"value\": 4099}, \"4100\": {\"frequency\": 28, \"value\": 4100}, \"4101\": {\"frequency\": 95, \"value\": 4101}, \"4102\": {\"frequency\": 89, \"value\": 4102}, \"4103\": {\"frequency\": 146, \"value\": 4103}, \"4104\": {\"frequency\": 154, \"value\": 4104}, \"4105\": {\"frequency\": 64, \"value\": 4105}, \"4106\": {\"frequency\": 28, \"value\": 4106}, \"4107\": {\"frequency\": 350, \"value\": 4107}, \"4108\": {\"frequency\": 32, \"value\": 4108}, \"4109\": {\"frequency\": 25, \"value\": 4109}, \"4110\": {\"frequency\": 21, \"value\": 4110}, \"4111\": {\"frequency\": 53, \"value\": 4111}, \"4112\": {\"frequency\": 324, \"value\": 4112}, \"4113\": {\"frequency\": 33, \"value\": 4113}, \"4114\": {\"frequency\": 200, \"value\": 4114}, \"4115\": {\"frequency\": 517, \"value\": 4115}, \"4116\": {\"frequency\": 363, \"value\": 4116}, \"4117\": {\"frequency\": 204, \"value\": 4117}, \"4118\": {\"frequency\": 207, \"value\": 4118}, \"4119\": {\"frequency\": 54, \"value\": 4119}, \"4120\": {\"frequency\": 48, \"value\": 4120}, \"4121\": {\"frequency\": 127, \"value\": 4121}, \"4122\": {\"frequency\": 315, \"value\": 4122}, \"4123\": {\"frequency\": 106, \"value\": 4123}, \"4124\": {\"frequency\": 310, \"value\": 4124}, \"4125\": {\"frequency\": 45, \"value\": 4125}, \"4126\": {\"frequency\": 358, \"value\": 4126}, \"4127\": {\"frequency\": 89, \"value\": 4127}, \"4128\": {\"frequency\": 50, \"value\": 4128}, \"4129\": {\"frequency\": 29, \"value\": 4129}, \"4130\": {\"frequency\": 172, \"value\": 4130}, \"4131\": {\"frequency\": 123, \"value\": 4131}, \"4132\": {\"frequency\": 132, \"value\": 4132}, \"4133\": {\"frequency\": 118, \"value\": 4133}, \"4134\": {\"frequency\": 118, \"value\": 4134}, \"4135\": {\"frequency\": 66, \"value\": 4135}, \"4136\": {\"frequency\": 39, \"value\": 4136}, \"4137\": {\"frequency\": 85, \"value\": 4137}, \"4138\": {\"frequency\": 64, \"value\": 4138}, \"4139\": {\"frequency\": 351, \"value\": 4139}, \"4140\": {\"frequency\": 735, \"value\": 4140}, \"4141\": {\"frequency\": 226, \"value\": 4141}, \"4142\": {\"frequency\": 24, \"value\": 4142}, \"4143\": {\"frequency\": 24, \"value\": 4143}, \"4144\": {\"frequency\": 140, \"value\": 4144}, \"4145\": {\"frequency\": 25, \"value\": 4145}, \"4146\": {\"frequency\": 25, \"value\": 4146}, \"4147\": {\"frequency\": 61, \"value\": 4147}, \"4148\": {\"frequency\": 94, \"value\": 4148}, \"4149\": {\"frequency\": 52, \"value\": 4149}, \"4150\": {\"frequency\": 403, \"value\": 4150}, \"4151\": {\"frequency\": 36, \"value\": 4151}, \"4152\": {\"frequency\": 158, \"value\": 4152}, \"4153\": {\"frequency\": 169, \"value\": 4153}, \"4154\": {\"frequency\": 23, \"value\": 4154}, \"4155\": {\"frequency\": 62, \"value\": 4155}, \"4156\": {\"frequency\": 392, \"value\": 4156}, \"4157\": {\"frequency\": 56, \"value\": 4157}, \"4158\": {\"frequency\": 23, \"value\": 4158}, \"4159\": {\"frequency\": 22, \"value\": 4159}, \"4160\": {\"frequency\": 120, \"value\": 4160}, \"4161\": {\"frequency\": 459, \"value\": 4161}, \"4162\": {\"frequency\": 126, \"value\": 4162}, \"4163\": {\"frequency\": 26, \"value\": 4163}, \"4164\": {\"frequency\": 36, \"value\": 4164}, \"4165\": {\"frequency\": 51, \"value\": 4165}, \"4166\": {\"frequency\": 24, \"value\": 4166}, \"4167\": {\"frequency\": 465, \"value\": 4167}, \"4168\": {\"frequency\": 100, \"value\": 4168}, \"4169\": {\"frequency\": 2314, \"value\": 4169}, \"4170\": {\"frequency\": 83, \"value\": 4170}, \"4171\": {\"frequency\": 147, \"value\": 4171}, \"4172\": {\"frequency\": 70, \"value\": 4172}, \"4173\": {\"frequency\": 56, \"value\": 4173}, \"4174\": {\"frequency\": 40, \"value\": 4174}, \"4175\": {\"frequency\": 92, \"value\": 4175}, \"4176\": {\"frequency\": 22, \"value\": 4176}, \"4177\": {\"frequency\": 152, \"value\": 4177}, \"4178\": {\"frequency\": 20, \"value\": 4178}, \"4179\": {\"frequency\": 161, \"value\": 4179}, \"4180\": {\"frequency\": 82, \"value\": 4180}, \"4181\": {\"frequency\": 129, \"value\": 4181}, \"4182\": {\"frequency\": 46, \"value\": 4182}, \"4183\": {\"frequency\": 366, \"value\": 4183}, \"4184\": {\"frequency\": 26, \"value\": 4184}, \"4185\": {\"frequency\": 52, \"value\": 4185}, \"4186\": {\"frequency\": 640, \"value\": 4186}, \"4187\": {\"frequency\": 67, \"value\": 4187}, \"4188\": {\"frequency\": 44, \"value\": 4188}, \"4189\": {\"frequency\": 33, \"value\": 4189}, \"4190\": {\"frequency\": 99, \"value\": 4190}, \"4191\": {\"frequency\": 26, \"value\": 4191}, \"4192\": {\"frequency\": 20, \"value\": 4192}, \"4193\": {\"frequency\": 261, \"value\": 4193}, \"4194\": {\"frequency\": 174, \"value\": 4194}, \"4195\": {\"frequency\": 101, \"value\": 4195}, \"4196\": {\"frequency\": 29, \"value\": 4196}, \"4197\": {\"frequency\": 23, \"value\": 4197}, \"4198\": {\"frequency\": 50, \"value\": 4198}, \"4199\": {\"frequency\": 47, \"value\": 4199}, \"4200\": {\"frequency\": 49, \"value\": 4200}, \"4201\": {\"frequency\": 24, \"value\": 4201}, \"4202\": {\"frequency\": 23, \"value\": 4202}, \"4203\": {\"frequency\": 145, \"value\": 4203}, \"4204\": {\"frequency\": 240, \"value\": 4204}, \"4205\": {\"frequency\": 46, \"value\": 4205}, \"4206\": {\"frequency\": 47, \"value\": 4206}, \"4207\": {\"frequency\": 247, \"value\": 4207}, \"4208\": {\"frequency\": 48, \"value\": 4208}, \"4209\": {\"frequency\": 23, \"value\": 4209}, \"4210\": {\"frequency\": 131, \"value\": 4210}, \"4211\": {\"frequency\": 24, \"value\": 4211}, \"4212\": {\"frequency\": 155, \"value\": 4212}, \"4213\": {\"frequency\": 395, \"value\": 4213}, \"4214\": {\"frequency\": 39, \"value\": 4214}, \"4215\": {\"frequency\": 289, \"value\": 4215}, \"4216\": {\"frequency\": 27, \"value\": 4216}, \"4217\": {\"frequency\": 385, \"value\": 4217}, \"4218\": {\"frequency\": 101, \"value\": 4218}, \"4219\": {\"frequency\": 111, \"value\": 4219}, \"4220\": {\"frequency\": 248, \"value\": 4220}, \"4221\": {\"frequency\": 89, \"value\": 4221}, \"4222\": {\"frequency\": 122, \"value\": 4222}, \"4223\": {\"frequency\": 163, \"value\": 4223}, \"4224\": {\"frequency\": 337, \"value\": 4224}, \"4225\": {\"frequency\": 129, \"value\": 4225}, \"4226\": {\"frequency\": 37, \"value\": 4226}, \"4227\": {\"frequency\": 1222, \"value\": 4227}, \"4228\": {\"frequency\": 23, \"value\": 4228}, \"4229\": {\"frequency\": 63, \"value\": 4229}, \"4230\": {\"frequency\": 21, \"value\": 4230}, \"4231\": {\"frequency\": 50, \"value\": 4231}, \"4232\": {\"frequency\": 52, \"value\": 4232}, \"4233\": {\"frequency\": 134, \"value\": 4233}, \"4234\": {\"frequency\": 159, \"value\": 4234}, \"4235\": {\"frequency\": 126, \"value\": 4235}, \"4236\": {\"frequency\": 51, \"value\": 4236}, \"4237\": {\"frequency\": 123, \"value\": 4237}, \"4238\": {\"frequency\": 819, \"value\": 4238}, \"4239\": {\"frequency\": 68, \"value\": 4239}, \"4240\": {\"frequency\": 66, \"value\": 4240}, \"4241\": {\"frequency\": 98, \"value\": 4241}, \"4242\": {\"frequency\": 131, \"value\": 4242}, \"4243\": {\"frequency\": 142, \"value\": 4243}, \"4244\": {\"frequency\": 20, \"value\": 4244}, \"4245\": {\"frequency\": 92, \"value\": 4245}, \"4246\": {\"frequency\": 36, \"value\": 4246}, \"4247\": {\"frequency\": 76, \"value\": 4247}, \"4248\": {\"frequency\": 85, \"value\": 4248}, \"4249\": {\"frequency\": 103, \"value\": 4249}, \"4250\": {\"frequency\": 327, \"value\": 4250}, \"4251\": {\"frequency\": 97, \"value\": 4251}, \"4252\": {\"frequency\": 105, \"value\": 4252}, \"4253\": {\"frequency\": 338, \"value\": 4253}, \"4254\": {\"frequency\": 24, \"value\": 4254}, \"4255\": {\"frequency\": 41, \"value\": 4255}, \"4256\": {\"frequency\": 27, \"value\": 4256}, \"4257\": {\"frequency\": 139, \"value\": 4257}, \"4258\": {\"frequency\": 400, \"value\": 4258}, \"4259\": {\"frequency\": 21, \"value\": 4259}, \"4260\": {\"frequency\": 324, \"value\": 4260}, \"4261\": {\"frequency\": 277, \"value\": 4261}, \"4262\": {\"frequency\": 38, \"value\": 4262}, \"4263\": {\"frequency\": 38, \"value\": 4263}, \"4264\": {\"frequency\": 21, \"value\": 4264}, \"4265\": {\"frequency\": 209, \"value\": 4265}, \"4266\": {\"frequency\": 69, \"value\": 4266}, \"4267\": {\"frequency\": 37, \"value\": 4267}, \"4268\": {\"frequency\": 310, \"value\": 4268}, \"4269\": {\"frequency\": 227, \"value\": 4269}, \"4270\": {\"frequency\": 24, \"value\": 4270}, \"4271\": {\"frequency\": 526, \"value\": 4271}, \"4272\": {\"frequency\": 113, \"value\": 4272}, \"4273\": {\"frequency\": 33, \"value\": 4273}, \"4274\": {\"frequency\": 153, \"value\": 4274}, \"4275\": {\"frequency\": 31, \"value\": 4275}, \"4276\": {\"frequency\": 82, \"value\": 4276}, \"4277\": {\"frequency\": 1743, \"value\": 4277}, \"4278\": {\"frequency\": 36, \"value\": 4278}, \"4279\": {\"frequency\": 490, \"value\": 4279}, \"4280\": {\"frequency\": 88, \"value\": 4280}, \"4281\": {\"frequency\": 204, \"value\": 4281}, \"4282\": {\"frequency\": 29, \"value\": 4282}, \"4283\": {\"frequency\": 61, \"value\": 4283}, \"4284\": {\"frequency\": 156, \"value\": 4284}, \"4285\": {\"frequency\": 516, \"value\": 4285}, \"4286\": {\"frequency\": 200, \"value\": 4286}, \"4287\": {\"frequency\": 293, \"value\": 4287}, \"4288\": {\"frequency\": 27, \"value\": 4288}, \"4289\": {\"frequency\": 154, \"value\": 4289}, \"4290\": {\"frequency\": 57, \"value\": 4290}, \"4291\": {\"frequency\": 211, \"value\": 4291}, \"4292\": {\"frequency\": 96, \"value\": 4292}, \"4293\": {\"frequency\": 42, \"value\": 4293}, \"4294\": {\"frequency\": 157, \"value\": 4294}, \"4295\": {\"frequency\": 40, \"value\": 4295}, \"4296\": {\"frequency\": 62, \"value\": 4296}, \"4297\": {\"frequency\": 47, \"value\": 4297}, \"4298\": {\"frequency\": 285, \"value\": 4298}, \"4299\": {\"frequency\": 100, \"value\": 4299}, \"4300\": {\"frequency\": 40, \"value\": 4300}, \"4301\": {\"frequency\": 41, \"value\": 4301}, \"4302\": {\"frequency\": 246, \"value\": 4302}, \"4303\": {\"frequency\": 374, \"value\": 4303}, \"4304\": {\"frequency\": 25, \"value\": 4304}, \"4305\": {\"frequency\": 686, \"value\": 4305}, \"4306\": {\"frequency\": 91, \"value\": 4306}, \"4307\": {\"frequency\": 34, \"value\": 4307}, \"4308\": {\"frequency\": 104, \"value\": 4308}, \"4309\": {\"frequency\": 132, \"value\": 4309}, \"4310\": {\"frequency\": 297, \"value\": 4310}, \"4311\": {\"frequency\": 94, \"value\": 4311}, \"4312\": {\"frequency\": 883, \"value\": 4312}, \"4313\": {\"frequency\": 96, \"value\": 4313}, \"4314\": {\"frequency\": 33, \"value\": 4314}, \"4315\": {\"frequency\": 155, \"value\": 4315}, \"4316\": {\"frequency\": 39, \"value\": 4316}, \"4317\": {\"frequency\": 51, \"value\": 4317}, \"4318\": {\"frequency\": 480, \"value\": 4318}, \"4319\": {\"frequency\": 51, \"value\": 4319}, \"4320\": {\"frequency\": 81, \"value\": 4320}, \"4321\": {\"frequency\": 57, \"value\": 4321}, \"4322\": {\"frequency\": 395, \"value\": 4322}, \"4323\": {\"frequency\": 137, \"value\": 4323}, \"4324\": {\"frequency\": 33, \"value\": 4324}, \"4325\": {\"frequency\": 24, \"value\": 4325}, \"4326\": {\"frequency\": 127, \"value\": 4326}, \"4327\": {\"frequency\": 162, \"value\": 4327}, \"4328\": {\"frequency\": 303, \"value\": 4328}, \"4329\": {\"frequency\": 172, \"value\": 4329}, \"4330\": {\"frequency\": 41, \"value\": 4330}, \"4331\": {\"frequency\": 36, \"value\": 4331}, \"4332\": {\"frequency\": 20, \"value\": 4332}, \"4333\": {\"frequency\": 170, \"value\": 4333}, \"4334\": {\"frequency\": 157, \"value\": 4334}, \"4335\": {\"frequency\": 484, \"value\": 4335}, \"4336\": {\"frequency\": 122, \"value\": 4336}, \"4337\": {\"frequency\": 259, \"value\": 4337}, \"4338\": {\"frequency\": 32, \"value\": 4338}, \"4339\": {\"frequency\": 66, \"value\": 4339}, \"4340\": {\"frequency\": 25, \"value\": 4340}, \"4341\": {\"frequency\": 33, \"value\": 4341}, \"4342\": {\"frequency\": 229, \"value\": 4342}, \"4343\": {\"frequency\": 215, \"value\": 4343}, \"4344\": {\"frequency\": 1271, \"value\": 4344}, \"4345\": {\"frequency\": 592, \"value\": 4345}, \"4346\": {\"frequency\": 74, \"value\": 4346}, \"4347\": {\"frequency\": 138, \"value\": 4347}, \"4348\": {\"frequency\": 24, \"value\": 4348}, \"4349\": {\"frequency\": 27, \"value\": 4349}, \"4350\": {\"frequency\": 71, \"value\": 4350}, \"4351\": {\"frequency\": 169, \"value\": 4351}, \"4352\": {\"frequency\": 472, \"value\": 4352}, \"4353\": {\"frequency\": 132, \"value\": 4353}, \"4354\": {\"frequency\": 635, \"value\": 4354}, \"4355\": {\"frequency\": 51, \"value\": 4355}, \"4356\": {\"frequency\": 256, \"value\": 4356}, \"4357\": {\"frequency\": 43, \"value\": 4357}, \"4358\": {\"frequency\": 31, \"value\": 4358}, \"4359\": {\"frequency\": 81, \"value\": 4359}, \"4360\": {\"frequency\": 248, \"value\": 4360}, \"4361\": {\"frequency\": 132, \"value\": 4361}, \"4362\": {\"frequency\": 260, \"value\": 4362}, \"4363\": {\"frequency\": 192, \"value\": 4363}, \"4364\": {\"frequency\": 199, \"value\": 4364}, \"4365\": {\"frequency\": 20, \"value\": 4365}, \"4366\": {\"frequency\": 35, \"value\": 4366}, \"4367\": {\"frequency\": 119, \"value\": 4367}, \"4368\": {\"frequency\": 131, \"value\": 4368}, \"4369\": {\"frequency\": 44, \"value\": 4369}, \"4370\": {\"frequency\": 60, \"value\": 4370}, \"4371\": {\"frequency\": 141, \"value\": 4371}, \"4372\": {\"frequency\": 25, \"value\": 4372}, \"4373\": {\"frequency\": 303, \"value\": 4373}, \"4374\": {\"frequency\": 127, \"value\": 4374}, \"4375\": {\"frequency\": 325, \"value\": 4375}, \"4376\": {\"frequency\": 58, \"value\": 4376}, \"4377\": {\"frequency\": 187, \"value\": 4377}, \"4378\": {\"frequency\": 124, \"value\": 4378}, \"4379\": {\"frequency\": 384, \"value\": 4379}, \"4380\": {\"frequency\": 151, \"value\": 4380}, \"4381\": {\"frequency\": 443, \"value\": 4381}, \"4382\": {\"frequency\": 104, \"value\": 4382}, \"4383\": {\"frequency\": 20, \"value\": 4383}, \"4384\": {\"frequency\": 290, \"value\": 4384}, \"4385\": {\"frequency\": 27, \"value\": 4385}, \"4386\": {\"frequency\": 873, \"value\": 4386}, \"4387\": {\"frequency\": 743, \"value\": 4387}, \"4388\": {\"frequency\": 459, \"value\": 4388}, \"4389\": {\"frequency\": 125, \"value\": 4389}, \"4390\": {\"frequency\": 278, \"value\": 4390}, \"4391\": {\"frequency\": 37, \"value\": 4391}, \"4392\": {\"frequency\": 25, \"value\": 4392}, \"4393\": {\"frequency\": 20, \"value\": 4393}, \"4394\": {\"frequency\": 33, \"value\": 4394}, \"4395\": {\"frequency\": 30, \"value\": 4395}, \"4396\": {\"frequency\": 25, \"value\": 4396}, \"4397\": {\"frequency\": 67, \"value\": 4397}, \"4398\": {\"frequency\": 20, \"value\": 4398}, \"4399\": {\"frequency\": 34, \"value\": 4399}, \"4400\": {\"frequency\": 26, \"value\": 4400}, \"4401\": {\"frequency\": 201, \"value\": 4401}, \"4402\": {\"frequency\": 31, \"value\": 4402}, \"4403\": {\"frequency\": 87, \"value\": 4403}, \"4404\": {\"frequency\": 372, \"value\": 4404}, \"4405\": {\"frequency\": 45, \"value\": 4405}, \"4406\": {\"frequency\": 322, \"value\": 4406}, \"4407\": {\"frequency\": 231, \"value\": 4407}, \"4408\": {\"frequency\": 543, \"value\": 4408}, \"4409\": {\"frequency\": 109, \"value\": 4409}, \"4410\": {\"frequency\": 27, \"value\": 4410}, \"4411\": {\"frequency\": 610, \"value\": 4411}, \"4412\": {\"frequency\": 102, \"value\": 4412}, \"4413\": {\"frequency\": 23, \"value\": 4413}, \"4414\": {\"frequency\": 182, \"value\": 4414}, \"4415\": {\"frequency\": 138, \"value\": 4415}, \"4416\": {\"frequency\": 165, \"value\": 4416}, \"4417\": {\"frequency\": 110, \"value\": 4417}, \"4418\": {\"frequency\": 318, \"value\": 4418}, \"4419\": {\"frequency\": 20, \"value\": 4419}, \"4420\": {\"frequency\": 50, \"value\": 4420}, \"4421\": {\"frequency\": 24, \"value\": 4421}, \"4422\": {\"frequency\": 449, \"value\": 4422}, \"4423\": {\"frequency\": 42, \"value\": 4423}, \"4424\": {\"frequency\": 33, \"value\": 4424}, \"4425\": {\"frequency\": 934, \"value\": 4425}, \"4426\": {\"frequency\": 75, \"value\": 4426}, \"4427\": {\"frequency\": 23, \"value\": 4427}, \"4428\": {\"frequency\": 70, \"value\": 4428}, \"4429\": {\"frequency\": 45, \"value\": 4429}, \"4430\": {\"frequency\": 295, \"value\": 4430}, \"4431\": {\"frequency\": 44, \"value\": 4431}, \"4432\": {\"frequency\": 68, \"value\": 4432}, \"4433\": {\"frequency\": 165, \"value\": 4433}, \"4434\": {\"frequency\": 48, \"value\": 4434}, \"4435\": {\"frequency\": 53, \"value\": 4435}, \"4436\": {\"frequency\": 227, \"value\": 4436}, \"4437\": {\"frequency\": 241, \"value\": 4437}, \"4438\": {\"frequency\": 170, \"value\": 4438}, \"4439\": {\"frequency\": 41, \"value\": 4439}, \"4440\": {\"frequency\": 85, \"value\": 4440}, \"4441\": {\"frequency\": 30, \"value\": 4441}, \"4442\": {\"frequency\": 52, \"value\": 4442}, \"4443\": {\"frequency\": 80, \"value\": 4443}, \"4444\": {\"frequency\": 80, \"value\": 4444}, \"4445\": {\"frequency\": 125, \"value\": 4445}, \"4446\": {\"frequency\": 422, \"value\": 4446}, \"4447\": {\"frequency\": 982, \"value\": 4447}, \"4448\": {\"frequency\": 1014, \"value\": 4448}, \"4449\": {\"frequency\": 194, \"value\": 4449}, \"4450\": {\"frequency\": 81, \"value\": 4450}, \"4451\": {\"frequency\": 277, \"value\": 4451}, \"4452\": {\"frequency\": 195, \"value\": 4452}, \"4453\": {\"frequency\": 55, \"value\": 4453}, \"4454\": {\"frequency\": 160, \"value\": 4454}, \"4455\": {\"frequency\": 50, \"value\": 4455}, \"4456\": {\"frequency\": 163, \"value\": 4456}, \"4457\": {\"frequency\": 212, \"value\": 4457}, \"4458\": {\"frequency\": 411, \"value\": 4458}, \"4459\": {\"frequency\": 187, \"value\": 4459}, \"4460\": {\"frequency\": 145, \"value\": 4460}, \"4461\": {\"frequency\": 156, \"value\": 4461}, \"4462\": {\"frequency\": 34, \"value\": 4462}, \"4463\": {\"frequency\": 20, \"value\": 4463}, \"4464\": {\"frequency\": 21, \"value\": 4464}, \"4465\": {\"frequency\": 86, \"value\": 4465}, \"4466\": {\"frequency\": 122, \"value\": 4466}, \"4467\": {\"frequency\": 180, \"value\": 4467}, \"4468\": {\"frequency\": 85, \"value\": 4468}, \"4469\": {\"frequency\": 33, \"value\": 4469}, \"4470\": {\"frequency\": 305, \"value\": 4470}, \"4471\": {\"frequency\": 173, \"value\": 4471}, \"4472\": {\"frequency\": 493, \"value\": 4472}, \"4473\": {\"frequency\": 423, \"value\": 4473}, \"4474\": {\"frequency\": 36, \"value\": 4474}, \"4475\": {\"frequency\": 45, \"value\": 4475}, \"4476\": {\"frequency\": 203, \"value\": 4476}, \"4477\": {\"frequency\": 146, \"value\": 4477}, \"4478\": {\"frequency\": 446, \"value\": 4478}, \"4479\": {\"frequency\": 59, \"value\": 4479}, \"4480\": {\"frequency\": 467, \"value\": 4480}, \"4481\": {\"frequency\": 62, \"value\": 4481}, \"4482\": {\"frequency\": 782, \"value\": 4482}, \"4483\": {\"frequency\": 188, \"value\": 4483}, \"4484\": {\"frequency\": 272, \"value\": 4484}, \"4485\": {\"frequency\": 143, \"value\": 4485}, \"4486\": {\"frequency\": 51, \"value\": 4486}, \"4487\": {\"frequency\": 60, \"value\": 4487}, \"4488\": {\"frequency\": 346, \"value\": 4488}, \"4489\": {\"frequency\": 424, \"value\": 4489}, \"4490\": {\"frequency\": 382, \"value\": 4490}, \"4491\": {\"frequency\": 185, \"value\": 4491}, \"4492\": {\"frequency\": 23, \"value\": 4492}, \"4493\": {\"frequency\": 50, \"value\": 4493}, \"4494\": {\"frequency\": 74, \"value\": 4494}, \"4495\": {\"frequency\": 36, \"value\": 4495}, \"4496\": {\"frequency\": 186, \"value\": 4496}, \"4497\": {\"frequency\": 500, \"value\": 4497}, \"4498\": {\"frequency\": 154, \"value\": 4498}, \"4499\": {\"frequency\": 98, \"value\": 4499}, \"4500\": {\"frequency\": 28, \"value\": 4500}, \"4501\": {\"frequency\": 72, \"value\": 4501}, \"4502\": {\"frequency\": 324, \"value\": 4502}, \"4503\": {\"frequency\": 38, \"value\": 4503}, \"4504\": {\"frequency\": 25, \"value\": 4504}, \"4505\": {\"frequency\": 279, \"value\": 4505}, \"4506\": {\"frequency\": 536, \"value\": 4506}, \"4507\": {\"frequency\": 232, \"value\": 4507}, \"4508\": {\"frequency\": 1211, \"value\": 4508}, \"4509\": {\"frequency\": 210, \"value\": 4509}, \"4510\": {\"frequency\": 1240, \"value\": 4510}, \"4511\": {\"frequency\": 147, \"value\": 4511}, \"4512\": {\"frequency\": 159, \"value\": 4512}, \"4513\": {\"frequency\": 35, \"value\": 4513}, \"4514\": {\"frequency\": 147, \"value\": 4514}, \"4515\": {\"frequency\": 22, \"value\": 4515}, \"4516\": {\"frequency\": 55, \"value\": 4516}, \"4517\": {\"frequency\": 413, \"value\": 4517}, \"4518\": {\"frequency\": 84, \"value\": 4518}, \"4519\": {\"frequency\": 42, \"value\": 4519}, \"4520\": {\"frequency\": 285, \"value\": 4520}, \"4521\": {\"frequency\": 229, \"value\": 4521}, \"4522\": {\"frequency\": 189, \"value\": 4522}, \"4523\": {\"frequency\": 394, \"value\": 4523}, \"4524\": {\"frequency\": 289, \"value\": 4524}, \"4525\": {\"frequency\": 20, \"value\": 4525}, \"4526\": {\"frequency\": 170, \"value\": 4526}, \"4527\": {\"frequency\": 20, \"value\": 4527}, \"4528\": {\"frequency\": 62, \"value\": 4528}, \"4529\": {\"frequency\": 47, \"value\": 4529}, \"4530\": {\"frequency\": 56, \"value\": 4530}, \"4531\": {\"frequency\": 243, \"value\": 4531}, \"4532\": {\"frequency\": 129, \"value\": 4532}, \"4533\": {\"frequency\": 57, \"value\": 4533}, \"4534\": {\"frequency\": 77, \"value\": 4534}, \"4535\": {\"frequency\": 368, \"value\": 4535}, \"4536\": {\"frequency\": 34, \"value\": 4536}, \"4537\": {\"frequency\": 25, \"value\": 4537}, \"4538\": {\"frequency\": 40, \"value\": 4538}, \"4539\": {\"frequency\": 119, \"value\": 4539}, \"4540\": {\"frequency\": 69, \"value\": 4540}, \"4541\": {\"frequency\": 148, \"value\": 4541}, \"4542\": {\"frequency\": 28, \"value\": 4542}, \"4543\": {\"frequency\": 1050, \"value\": 4543}, \"4544\": {\"frequency\": 48, \"value\": 4544}, \"4545\": {\"frequency\": 30, \"value\": 4545}, \"4546\": {\"frequency\": 50, \"value\": 4546}, \"4547\": {\"frequency\": 20, \"value\": 4547}, \"4548\": {\"frequency\": 21, \"value\": 4548}, \"4549\": {\"frequency\": 25, \"value\": 4549}, \"4550\": {\"frequency\": 28, \"value\": 4550}, \"4551\": {\"frequency\": 82, \"value\": 4551}, \"4552\": {\"frequency\": 115, \"value\": 4552}, \"4553\": {\"frequency\": 55, \"value\": 4553}, \"4554\": {\"frequency\": 21, \"value\": 4554}, \"4555\": {\"frequency\": 89, \"value\": 4555}, \"4556\": {\"frequency\": 221, \"value\": 4556}, \"4557\": {\"frequency\": 86, \"value\": 4557}, \"4558\": {\"frequency\": 21, \"value\": 4558}, \"4559\": {\"frequency\": 43, \"value\": 4559}, \"4560\": {\"frequency\": 294, \"value\": 4560}, \"4561\": {\"frequency\": 110, \"value\": 4561}, \"4562\": {\"frequency\": 302, \"value\": 4562}, \"4563\": {\"frequency\": 40, \"value\": 4563}, \"4564\": {\"frequency\": 26, \"value\": 4564}, \"4565\": {\"frequency\": 36, \"value\": 4565}, \"4566\": {\"frequency\": 154, \"value\": 4566}, \"4567\": {\"frequency\": 88, \"value\": 4567}, \"4568\": {\"frequency\": 305, \"value\": 4568}, \"4569\": {\"frequency\": 86, \"value\": 4569}, \"4570\": {\"frequency\": 38, \"value\": 4570}, \"4571\": {\"frequency\": 102, \"value\": 4571}, \"4572\": {\"frequency\": 145, \"value\": 4572}, \"4573\": {\"frequency\": 154, \"value\": 4573}, \"4574\": {\"frequency\": 50, \"value\": 4574}, \"4575\": {\"frequency\": 125, \"value\": 4575}, \"4576\": {\"frequency\": 24, \"value\": 4576}, \"4577\": {\"frequency\": 172, \"value\": 4577}, \"4578\": {\"frequency\": 560, \"value\": 4578}, \"4579\": {\"frequency\": 689, \"value\": 4579}, \"4580\": {\"frequency\": 137, \"value\": 4580}, \"4581\": {\"frequency\": 83, \"value\": 4581}, \"4582\": {\"frequency\": 46, \"value\": 4582}, \"4583\": {\"frequency\": 27, \"value\": 4583}, \"4584\": {\"frequency\": 62, \"value\": 4584}, \"4585\": {\"frequency\": 321, \"value\": 4585}, \"4586\": {\"frequency\": 52, \"value\": 4586}, \"4587\": {\"frequency\": 44, \"value\": 4587}, \"4588\": {\"frequency\": 47, \"value\": 4588}, \"4589\": {\"frequency\": 108, \"value\": 4589}, \"4590\": {\"frequency\": 50, \"value\": 4590}, \"4591\": {\"frequency\": 480, \"value\": 4591}, \"4592\": {\"frequency\": 224, \"value\": 4592}, \"4593\": {\"frequency\": 300, \"value\": 4593}, \"4594\": {\"frequency\": 36, \"value\": 4594}, \"4595\": {\"frequency\": 76, \"value\": 4595}, \"4596\": {\"frequency\": 206, \"value\": 4596}, \"4597\": {\"frequency\": 22, \"value\": 4597}, \"4598\": {\"frequency\": 106, \"value\": 4598}, \"4599\": {\"frequency\": 47, \"value\": 4599}, \"4600\": {\"frequency\": 260, \"value\": 4600}, \"4601\": {\"frequency\": 129, \"value\": 4601}, \"4602\": {\"frequency\": 76, \"value\": 4602}, \"4603\": {\"frequency\": 37, \"value\": 4603}, \"4604\": {\"frequency\": 76, \"value\": 4604}, \"4605\": {\"frequency\": 203, \"value\": 4605}, \"4606\": {\"frequency\": 106, \"value\": 4606}, \"4607\": {\"frequency\": 504, \"value\": 4607}, \"4608\": {\"frequency\": 76, \"value\": 4608}, \"4609\": {\"frequency\": 264, \"value\": 4609}, \"4610\": {\"frequency\": 160, \"value\": 4610}, \"4611\": {\"frequency\": 370, \"value\": 4611}, \"4612\": {\"frequency\": 40, \"value\": 4612}, \"4613\": {\"frequency\": 82, \"value\": 4613}, \"4614\": {\"frequency\": 21, \"value\": 4614}, \"4615\": {\"frequency\": 148, \"value\": 4615}, \"4616\": {\"frequency\": 34, \"value\": 4616}, \"4617\": {\"frequency\": 73, \"value\": 4617}, \"4618\": {\"frequency\": 76, \"value\": 4618}, \"4619\": {\"frequency\": 153, \"value\": 4619}, \"4620\": {\"frequency\": 132, \"value\": 4620}, \"4621\": {\"frequency\": 189, \"value\": 4621}, \"4622\": {\"frequency\": 23, \"value\": 4622}, \"4623\": {\"frequency\": 38, \"value\": 4623}, \"4624\": {\"frequency\": 61, \"value\": 4624}, \"4625\": {\"frequency\": 81, \"value\": 4625}, \"4626\": {\"frequency\": 386, \"value\": 4626}, \"4627\": {\"frequency\": 103, \"value\": 4627}, \"4628\": {\"frequency\": 20, \"value\": 4628}, \"4629\": {\"frequency\": 32, \"value\": 4629}, \"4630\": {\"frequency\": 29, \"value\": 4630}, \"4631\": {\"frequency\": 129, \"value\": 4631}, \"4632\": {\"frequency\": 56, \"value\": 4632}, \"4633\": {\"frequency\": 81, \"value\": 4633}, \"4634\": {\"frequency\": 102, \"value\": 4634}, \"4635\": {\"frequency\": 314, \"value\": 4635}, \"4636\": {\"frequency\": 25, \"value\": 4636}, \"4637\": {\"frequency\": 378, \"value\": 4637}, \"4638\": {\"frequency\": 37, \"value\": 4638}, \"4639\": {\"frequency\": 52, \"value\": 4639}, \"4640\": {\"frequency\": 152, \"value\": 4640}, \"4641\": {\"frequency\": 40, \"value\": 4641}, \"4642\": {\"frequency\": 33, \"value\": 4642}, \"4643\": {\"frequency\": 201, \"value\": 4643}, \"4644\": {\"frequency\": 143, \"value\": 4644}, \"4645\": {\"frequency\": 126, \"value\": 4645}, \"4646\": {\"frequency\": 39, \"value\": 4646}, \"4647\": {\"frequency\": 893, \"value\": 4647}, \"4648\": {\"frequency\": 37, \"value\": 4648}, \"4649\": {\"frequency\": 33, \"value\": 4649}, \"4650\": {\"frequency\": 144, \"value\": 4650}, \"4651\": {\"frequency\": 42, \"value\": 4651}, \"4652\": {\"frequency\": 50, \"value\": 4652}, \"4653\": {\"frequency\": 404, \"value\": 4653}, \"4654\": {\"frequency\": 80, \"value\": 4654}, \"4655\": {\"frequency\": 342, \"value\": 4655}, \"4656\": {\"frequency\": 219, \"value\": 4656}, \"4657\": {\"frequency\": 32, \"value\": 4657}, \"4658\": {\"frequency\": 556, \"value\": 4658}, \"4659\": {\"frequency\": 204, \"value\": 4659}, \"4660\": {\"frequency\": 41, \"value\": 4660}, \"4661\": {\"frequency\": 204, \"value\": 4661}, \"4662\": {\"frequency\": 175, \"value\": 4662}, \"4663\": {\"frequency\": 393, \"value\": 4663}, \"4664\": {\"frequency\": 38, \"value\": 4664}, \"4665\": {\"frequency\": 22, \"value\": 4665}, \"4666\": {\"frequency\": 354, \"value\": 4666}, \"4667\": {\"frequency\": 37, \"value\": 4667}, \"4668\": {\"frequency\": 32, \"value\": 4668}, \"4669\": {\"frequency\": 45, \"value\": 4669}, \"4670\": {\"frequency\": 103, \"value\": 4670}, \"4671\": {\"frequency\": 167, \"value\": 4671}, \"4672\": {\"frequency\": 23, \"value\": 4672}, \"4673\": {\"frequency\": 528, \"value\": 4673}, \"4674\": {\"frequency\": 95, \"value\": 4674}, \"4675\": {\"frequency\": 333, \"value\": 4675}, \"4676\": {\"frequency\": 33, \"value\": 4676}, \"4677\": {\"frequency\": 22, \"value\": 4677}, \"4678\": {\"frequency\": 86, \"value\": 4678}, \"4679\": {\"frequency\": 62, \"value\": 4679}, \"4680\": {\"frequency\": 322, \"value\": 4680}, \"4681\": {\"frequency\": 162, \"value\": 4681}, \"4682\": {\"frequency\": 784, \"value\": 4682}, \"4683\": {\"frequency\": 66, \"value\": 4683}, \"4684\": {\"frequency\": 64, \"value\": 4684}, \"4685\": {\"frequency\": 169, \"value\": 4685}, \"4686\": {\"frequency\": 91, \"value\": 4686}, \"4687\": {\"frequency\": 116, \"value\": 4687}, \"4688\": {\"frequency\": 132, \"value\": 4688}, \"4689\": {\"frequency\": 72, \"value\": 4689}, \"4690\": {\"frequency\": 74, \"value\": 4690}, \"4691\": {\"frequency\": 76, \"value\": 4691}, \"4692\": {\"frequency\": 33, \"value\": 4692}, \"4693\": {\"frequency\": 49, \"value\": 4693}, \"4694\": {\"frequency\": 70, \"value\": 4694}, \"4695\": {\"frequency\": 30, \"value\": 4695}, \"4696\": {\"frequency\": 27, \"value\": 4696}, \"4697\": {\"frequency\": 148, \"value\": 4697}, \"4698\": {\"frequency\": 27, \"value\": 4698}, \"4699\": {\"frequency\": 169, \"value\": 4699}, \"4700\": {\"frequency\": 162, \"value\": 4700}, \"4701\": {\"frequency\": 63, \"value\": 4701}, \"4702\": {\"frequency\": 44, \"value\": 4702}, \"4703\": {\"frequency\": 23, \"value\": 4703}, \"4704\": {\"frequency\": 328, \"value\": 4704}, \"4705\": {\"frequency\": 224, \"value\": 4705}, \"4706\": {\"frequency\": 108, \"value\": 4706}, \"4707\": {\"frequency\": 41, \"value\": 4707}, \"4708\": {\"frequency\": 406, \"value\": 4708}, \"4709\": {\"frequency\": 56, \"value\": 4709}, \"4710\": {\"frequency\": 35, \"value\": 4710}, \"4711\": {\"frequency\": 124, \"value\": 4711}, \"4712\": {\"frequency\": 37, \"value\": 4712}, \"4713\": {\"frequency\": 66, \"value\": 4713}, \"4714\": {\"frequency\": 62, \"value\": 4714}, \"4715\": {\"frequency\": 509, \"value\": 4715}, \"4716\": {\"frequency\": 68, \"value\": 4716}, \"4717\": {\"frequency\": 81, \"value\": 4717}, \"4718\": {\"frequency\": 138, \"value\": 4718}, \"4719\": {\"frequency\": 32, \"value\": 4719}, \"4720\": {\"frequency\": 47, \"value\": 4720}, \"4721\": {\"frequency\": 71, \"value\": 4721}, \"4722\": {\"frequency\": 31, \"value\": 4722}, \"4723\": {\"frequency\": 33, \"value\": 4723}, \"4724\": {\"frequency\": 33, \"value\": 4724}, \"4725\": {\"frequency\": 1006, \"value\": 4725}, \"4726\": {\"frequency\": 283, \"value\": 4726}, \"4727\": {\"frequency\": 55, \"value\": 4727}, \"4728\": {\"frequency\": 698, \"value\": 4728}, \"4729\": {\"frequency\": 235, \"value\": 4729}, \"4730\": {\"frequency\": 27, \"value\": 4730}, \"4731\": {\"frequency\": 55, \"value\": 4731}, \"4732\": {\"frequency\": 685, \"value\": 4732}, \"4733\": {\"frequency\": 104, \"value\": 4733}, \"4734\": {\"frequency\": 171, \"value\": 4734}, \"4735\": {\"frequency\": 106, \"value\": 4735}, \"4736\": {\"frequency\": 318, \"value\": 4736}, \"4737\": {\"frequency\": 109, \"value\": 4737}, \"4738\": {\"frequency\": 195, \"value\": 4738}, \"4739\": {\"frequency\": 107, \"value\": 4739}, \"4740\": {\"frequency\": 51, \"value\": 4740}, \"4741\": {\"frequency\": 22, \"value\": 4741}, \"4742\": {\"frequency\": 249, \"value\": 4742}, \"4743\": {\"frequency\": 30, \"value\": 4743}, \"4744\": {\"frequency\": 66, \"value\": 4744}, \"4745\": {\"frequency\": 103, \"value\": 4745}, \"4746\": {\"frequency\": 96, \"value\": 4746}, \"4747\": {\"frequency\": 240, \"value\": 4747}, \"4748\": {\"frequency\": 363, \"value\": 4748}, \"4749\": {\"frequency\": 20, \"value\": 4749}, \"4750\": {\"frequency\": 254, \"value\": 4750}, \"4751\": {\"frequency\": 29, \"value\": 4751}, \"4752\": {\"frequency\": 24, \"value\": 4752}, \"4753\": {\"frequency\": 63, \"value\": 4753}, \"4754\": {\"frequency\": 248, \"value\": 4754}, \"4755\": {\"frequency\": 25, \"value\": 4755}, \"4756\": {\"frequency\": 27, \"value\": 4756}, \"4757\": {\"frequency\": 97, \"value\": 4757}, \"4758\": {\"frequency\": 25, \"value\": 4758}, \"4759\": {\"frequency\": 49, \"value\": 4759}, \"4760\": {\"frequency\": 57, \"value\": 4760}, \"4761\": {\"frequency\": 39, \"value\": 4761}, \"4762\": {\"frequency\": 73, \"value\": 4762}, \"4763\": {\"frequency\": 57, \"value\": 4763}, \"4764\": {\"frequency\": 40, \"value\": 4764}, \"4765\": {\"frequency\": 267, \"value\": 4765}, \"4766\": {\"frequency\": 42, \"value\": 4766}, \"4767\": {\"frequency\": 47, \"value\": 4767}, \"4768\": {\"frequency\": 72, \"value\": 4768}, \"4769\": {\"frequency\": 65, \"value\": 4769}, \"4770\": {\"frequency\": 33, \"value\": 4770}, \"4771\": {\"frequency\": 513, \"value\": 4771}, \"4772\": {\"frequency\": 100, \"value\": 4772}, \"4773\": {\"frequency\": 103, \"value\": 4773}, \"4774\": {\"frequency\": 194, \"value\": 4774}, \"4775\": {\"frequency\": 20, \"value\": 4775}, \"4776\": {\"frequency\": 25, \"value\": 4776}, \"4777\": {\"frequency\": 37, \"value\": 4777}, \"4778\": {\"frequency\": 36, \"value\": 4778}, \"4779\": {\"frequency\": 213, \"value\": 4779}, \"4780\": {\"frequency\": 110, \"value\": 4780}, \"4781\": {\"frequency\": 43, \"value\": 4781}, \"4782\": {\"frequency\": 117, \"value\": 4782}, \"4783\": {\"frequency\": 55, \"value\": 4783}, \"4784\": {\"frequency\": 409, \"value\": 4784}, \"4785\": {\"frequency\": 271, \"value\": 4785}, \"4786\": {\"frequency\": 390, \"value\": 4786}, \"4787\": {\"frequency\": 30, \"value\": 4787}, \"4788\": {\"frequency\": 303, \"value\": 4788}, \"4789\": {\"frequency\": 270, \"value\": 4789}, \"4790\": {\"frequency\": 378, \"value\": 4790}, \"4791\": {\"frequency\": 250, \"value\": 4791}, \"4792\": {\"frequency\": 25, \"value\": 4792}, \"4793\": {\"frequency\": 173, \"value\": 4793}, \"4794\": {\"frequency\": 102, \"value\": 4794}, \"4795\": {\"frequency\": 116, \"value\": 4795}, \"4796\": {\"frequency\": 341, \"value\": 4796}, \"4797\": {\"frequency\": 57, \"value\": 4797}, \"4798\": {\"frequency\": 119, \"value\": 4798}, \"4799\": {\"frequency\": 58, \"value\": 4799}, \"4800\": {\"frequency\": 253, \"value\": 4800}, \"4801\": {\"frequency\": 196, \"value\": 4801}, \"4802\": {\"frequency\": 640, \"value\": 4802}, \"4803\": {\"frequency\": 37, \"value\": 4803}, \"4804\": {\"frequency\": 47, \"value\": 4804}, \"4805\": {\"frequency\": 35, \"value\": 4805}, \"4806\": {\"frequency\": 159, \"value\": 4806}, \"4807\": {\"frequency\": 92, \"value\": 4807}, \"4808\": {\"frequency\": 939, \"value\": 4808}, \"4809\": {\"frequency\": 178, \"value\": 4809}, \"4810\": {\"frequency\": 197, \"value\": 4810}, \"4811\": {\"frequency\": 42, \"value\": 4811}, \"4812\": {\"frequency\": 127, \"value\": 4812}, \"4813\": {\"frequency\": 104, \"value\": 4813}, \"4814\": {\"frequency\": 165, \"value\": 4814}, \"4815\": {\"frequency\": 222, \"value\": 4815}, \"4816\": {\"frequency\": 372, \"value\": 4816}, \"4817\": {\"frequency\": 92, \"value\": 4817}, \"4818\": {\"frequency\": 50, \"value\": 4818}, \"4819\": {\"frequency\": 546, \"value\": 4819}, \"4820\": {\"frequency\": 36, \"value\": 4820}, \"4821\": {\"frequency\": 234, \"value\": 4821}, \"4822\": {\"frequency\": 28, \"value\": 4822}, \"4823\": {\"frequency\": 470, \"value\": 4823}, \"4824\": {\"frequency\": 227, \"value\": 4824}, \"4825\": {\"frequency\": 49, \"value\": 4825}, \"4826\": {\"frequency\": 163, \"value\": 4826}, \"4827\": {\"frequency\": 72, \"value\": 4827}, \"4828\": {\"frequency\": 100, \"value\": 4828}, \"4829\": {\"frequency\": 323, \"value\": 4829}, \"4830\": {\"frequency\": 114, \"value\": 4830}, \"4831\": {\"frequency\": 237, \"value\": 4831}, \"4832\": {\"frequency\": 131, \"value\": 4832}, \"4833\": {\"frequency\": 81, \"value\": 4833}, \"4834\": {\"frequency\": 280, \"value\": 4834}, \"4835\": {\"frequency\": 83, \"value\": 4835}, \"4836\": {\"frequency\": 65, \"value\": 4836}, \"4837\": {\"frequency\": 328, \"value\": 4837}, \"4838\": {\"frequency\": 39, \"value\": 4838}, \"4839\": {\"frequency\": 23, \"value\": 4839}, \"4840\": {\"frequency\": 72, \"value\": 4840}, \"4841\": {\"frequency\": 92, \"value\": 4841}, \"4842\": {\"frequency\": 69, \"value\": 4842}, \"4843\": {\"frequency\": 116, \"value\": 4843}, \"4844\": {\"frequency\": 29, \"value\": 4844}, \"4845\": {\"frequency\": 153, \"value\": 4845}, \"4846\": {\"frequency\": 30, \"value\": 4846}, \"4847\": {\"frequency\": 72, \"value\": 4847}, \"4848\": {\"frequency\": 54, \"value\": 4848}, \"4849\": {\"frequency\": 157, \"value\": 4849}, \"4850\": {\"frequency\": 37, \"value\": 4850}, \"4851\": {\"frequency\": 24, \"value\": 4851}, \"4852\": {\"frequency\": 243, \"value\": 4852}, \"4853\": {\"frequency\": 38, \"value\": 4853}, \"4854\": {\"frequency\": 164, \"value\": 4854}, \"4855\": {\"frequency\": 219, \"value\": 4855}, \"4856\": {\"frequency\": 79, \"value\": 4856}, \"4857\": {\"frequency\": 61, \"value\": 4857}, \"4858\": {\"frequency\": 113, \"value\": 4858}, \"4859\": {\"frequency\": 43, \"value\": 4859}, \"4860\": {\"frequency\": 48, \"value\": 4860}, \"4861\": {\"frequency\": 197, \"value\": 4861}, \"4862\": {\"frequency\": 94, \"value\": 4862}, \"4863\": {\"frequency\": 31, \"value\": 4863}, \"4864\": {\"frequency\": 33, \"value\": 4864}, \"4865\": {\"frequency\": 246, \"value\": 4865}, \"4866\": {\"frequency\": 75, \"value\": 4866}, \"4867\": {\"frequency\": 622, \"value\": 4867}, \"4868\": {\"frequency\": 179, \"value\": 4868}, \"4869\": {\"frequency\": 285, \"value\": 4869}, \"4870\": {\"frequency\": 116, \"value\": 4870}, \"4871\": {\"frequency\": 21, \"value\": 4871}, \"4872\": {\"frequency\": 41, \"value\": 4872}, \"4873\": {\"frequency\": 28, \"value\": 4873}, \"4874\": {\"frequency\": 31, \"value\": 4874}, \"4875\": {\"frequency\": 100, \"value\": 4875}, \"4876\": {\"frequency\": 36, \"value\": 4876}, \"4877\": {\"frequency\": 95, \"value\": 4877}, \"4878\": {\"frequency\": 43, \"value\": 4878}, \"4879\": {\"frequency\": 467, \"value\": 4879}, \"4880\": {\"frequency\": 21, \"value\": 4880}, \"4881\": {\"frequency\": 22, \"value\": 4881}, \"4882\": {\"frequency\": 203, \"value\": 4882}, \"4883\": {\"frequency\": 50, \"value\": 4883}, \"4884\": {\"frequency\": 388, \"value\": 4884}, \"4885\": {\"frequency\": 30, \"value\": 4885}, \"4886\": {\"frequency\": 102, \"value\": 4886}, \"4887\": {\"frequency\": 420, \"value\": 4887}, \"4888\": {\"frequency\": 299, \"value\": 4888}, \"4889\": {\"frequency\": 262, \"value\": 4889}, \"4890\": {\"frequency\": 171, \"value\": 4890}, \"4891\": {\"frequency\": 28, \"value\": 4891}, \"4892\": {\"frequency\": 120, \"value\": 4892}, \"4893\": {\"frequency\": 90, \"value\": 4893}, \"4894\": {\"frequency\": 41, \"value\": 4894}, \"4895\": {\"frequency\": 68, \"value\": 4895}, \"4896\": {\"frequency\": 41, \"value\": 4896}, \"4897\": {\"frequency\": 400, \"value\": 4897}, \"4898\": {\"frequency\": 239, \"value\": 4898}, \"4899\": {\"frequency\": 245, \"value\": 4899}, \"4900\": {\"frequency\": 23, \"value\": 4900}, \"4901\": {\"frequency\": 191, \"value\": 4901}, \"4902\": {\"frequency\": 135, \"value\": 4902}, \"4903\": {\"frequency\": 55, \"value\": 4903}, \"4904\": {\"frequency\": 404, \"value\": 4904}, \"4905\": {\"frequency\": 100, \"value\": 4905}, \"4906\": {\"frequency\": 241, \"value\": 4906}, \"4907\": {\"frequency\": 184, \"value\": 4907}, \"4908\": {\"frequency\": 114, \"value\": 4908}, \"4909\": {\"frequency\": 138, \"value\": 4909}, \"4910\": {\"frequency\": 50, \"value\": 4910}, \"4911\": {\"frequency\": 81, \"value\": 4911}, \"4912\": {\"frequency\": 22, \"value\": 4912}, \"4913\": {\"frequency\": 45, \"value\": 4913}, \"4914\": {\"frequency\": 52, \"value\": 4914}, \"4915\": {\"frequency\": 107, \"value\": 4915}, \"4916\": {\"frequency\": 170, \"value\": 4916}, \"4917\": {\"frequency\": 238, \"value\": 4917}, \"4918\": {\"frequency\": 301, \"value\": 4918}, \"4919\": {\"frequency\": 37, \"value\": 4919}, \"4920\": {\"frequency\": 50, \"value\": 4920}, \"4921\": {\"frequency\": 207, \"value\": 4921}, \"4922\": {\"frequency\": 191, \"value\": 4922}, \"4923\": {\"frequency\": 32, \"value\": 4923}, \"4924\": {\"frequency\": 41, \"value\": 4924}, \"4925\": {\"frequency\": 42, \"value\": 4925}, \"4926\": {\"frequency\": 23, \"value\": 4926}, \"4927\": {\"frequency\": 126, \"value\": 4927}, \"4928\": {\"frequency\": 329, \"value\": 4928}, \"4929\": {\"frequency\": 42, \"value\": 4929}, \"4930\": {\"frequency\": 96, \"value\": 4930}, \"4931\": {\"frequency\": 80, \"value\": 4931}, \"4932\": {\"frequency\": 332, \"value\": 4932}, \"4933\": {\"frequency\": 302, \"value\": 4933}, \"4934\": {\"frequency\": 179, \"value\": 4934}, \"4935\": {\"frequency\": 22, \"value\": 4935}, \"4936\": {\"frequency\": 40, \"value\": 4936}, \"4937\": {\"frequency\": 214, \"value\": 4937}, \"4938\": {\"frequency\": 37, \"value\": 4938}, \"4939\": {\"frequency\": 174, \"value\": 4939}, \"4940\": {\"frequency\": 284, \"value\": 4940}, \"4941\": {\"frequency\": 34, \"value\": 4941}, \"4942\": {\"frequency\": 276, \"value\": 4942}, \"4943\": {\"frequency\": 21, \"value\": 4943}, \"4944\": {\"frequency\": 22, \"value\": 4944}, \"4945\": {\"frequency\": 144, \"value\": 4945}, \"4946\": {\"frequency\": 257, \"value\": 4946}, \"4947\": {\"frequency\": 100, \"value\": 4947}, \"4948\": {\"frequency\": 507, \"value\": 4948}, \"4949\": {\"frequency\": 38, \"value\": 4949}, \"4950\": {\"frequency\": 474, \"value\": 4950}, \"4951\": {\"frequency\": 312, \"value\": 4951}, \"4952\": {\"frequency\": 100, \"value\": 4952}, \"4953\": {\"frequency\": 217, \"value\": 4953}, \"4954\": {\"frequency\": 122, \"value\": 4954}, \"4955\": {\"frequency\": 28, \"value\": 4955}, \"4956\": {\"frequency\": 253, \"value\": 4956}, \"4957\": {\"frequency\": 744, \"value\": 4957}, \"4958\": {\"frequency\": 451, \"value\": 4958}, \"4959\": {\"frequency\": 188, \"value\": 4959}, \"4960\": {\"frequency\": 75, \"value\": 4960}, \"4961\": {\"frequency\": 177, \"value\": 4961}, \"4962\": {\"frequency\": 217, \"value\": 4962}, \"4963\": {\"frequency\": 114, \"value\": 4963}, \"4964\": {\"frequency\": 403, \"value\": 4964}, \"4965\": {\"frequency\": 144, \"value\": 4965}, \"4966\": {\"frequency\": 48, \"value\": 4966}, \"4967\": {\"frequency\": 104, \"value\": 4967}, \"4968\": {\"frequency\": 28, \"value\": 4968}, \"4969\": {\"frequency\": 29, \"value\": 4969}, \"4970\": {\"frequency\": 29, \"value\": 4970}, \"4971\": {\"frequency\": 28, \"value\": 4971}, \"4972\": {\"frequency\": 329, \"value\": 4972}, \"4973\": {\"frequency\": 149, \"value\": 4973}, \"4974\": {\"frequency\": 28, \"value\": 4974}, \"4975\": {\"frequency\": 175, \"value\": 4975}, \"4976\": {\"frequency\": 58, \"value\": 4976}, \"4977\": {\"frequency\": 183, \"value\": 4977}, \"4978\": {\"frequency\": 72, \"value\": 4978}, \"4979\": {\"frequency\": 882, \"value\": 4979}, \"4980\": {\"frequency\": 213, \"value\": 4980}, \"4981\": {\"frequency\": 307, \"value\": 4981}, \"4982\": {\"frequency\": 37, \"value\": 4982}, \"4983\": {\"frequency\": 143, \"value\": 4983}, \"4984\": {\"frequency\": 205, \"value\": 4984}, \"4985\": {\"frequency\": 152, \"value\": 4985}, \"4986\": {\"frequency\": 27, \"value\": 4986}, \"4987\": {\"frequency\": 52, \"value\": 4987}, \"4988\": {\"frequency\": 26, \"value\": 4988}, \"4989\": {\"frequency\": 77, \"value\": 4989}, \"4990\": {\"frequency\": 61, \"value\": 4990}, \"4991\": {\"frequency\": 20, \"value\": 4991}, \"4992\": {\"frequency\": 21, \"value\": 4992}, \"4993\": {\"frequency\": 47, \"value\": 4993}, \"4994\": {\"frequency\": 135, \"value\": 4994}, \"4995\": {\"frequency\": 356, \"value\": 4995}, \"4996\": {\"frequency\": 28, \"value\": 4996}, \"4997\": {\"frequency\": 56, \"value\": 4997}, \"4998\": {\"frequency\": 79, \"value\": 4998}, \"4999\": {\"frequency\": 68, \"value\": 4999}, \"5000\": {\"frequency\": 401, \"value\": 5000}, \"5001\": {\"frequency\": 225, \"value\": 5001}, \"5002\": {\"frequency\": 265, \"value\": 5002}, \"5003\": {\"frequency\": 33, \"value\": 5003}, \"5004\": {\"frequency\": 41, \"value\": 5004}, \"5005\": {\"frequency\": 429, \"value\": 5005}, \"5006\": {\"frequency\": 45, \"value\": 5006}, \"5007\": {\"frequency\": 23, \"value\": 5007}, \"5008\": {\"frequency\": 209, \"value\": 5008}, \"5009\": {\"frequency\": 63, \"value\": 5009}, \"5010\": {\"frequency\": 52, \"value\": 5010}, \"5011\": {\"frequency\": 559, \"value\": 5011}, \"5012\": {\"frequency\": 20, \"value\": 5012}, \"5013\": {\"frequency\": 70, \"value\": 5013}, \"5014\": {\"frequency\": 144, \"value\": 5014}, \"5015\": {\"frequency\": 644, \"value\": 5015}, \"5016\": {\"frequency\": 96, \"value\": 5016}, \"5017\": {\"frequency\": 39, \"value\": 5017}, \"5018\": {\"frequency\": 247, \"value\": 5018}, \"5019\": {\"frequency\": 177, \"value\": 5019}, \"5020\": {\"frequency\": 109, \"value\": 5020}, \"5021\": {\"frequency\": 185, \"value\": 5021}, \"5022\": {\"frequency\": 35, \"value\": 5022}, \"5023\": {\"frequency\": 120, \"value\": 5023}, \"5024\": {\"frequency\": 77, \"value\": 5024}, \"5025\": {\"frequency\": 125, \"value\": 5025}, \"5026\": {\"frequency\": 874, \"value\": 5026}, \"5027\": {\"frequency\": 20, \"value\": 5027}, \"5028\": {\"frequency\": 23, \"value\": 5028}, \"5029\": {\"frequency\": 160, \"value\": 5029}, \"5030\": {\"frequency\": 28, \"value\": 5030}, \"5031\": {\"frequency\": 61, \"value\": 5031}, \"5032\": {\"frequency\": 103, \"value\": 5032}, \"5033\": {\"frequency\": 48, \"value\": 5033}, \"5034\": {\"frequency\": 141, \"value\": 5034}, \"5035\": {\"frequency\": 249, \"value\": 5035}, \"5036\": {\"frequency\": 48, \"value\": 5036}, \"5037\": {\"frequency\": 105, \"value\": 5037}, \"5038\": {\"frequency\": 210, \"value\": 5038}, \"5039\": {\"frequency\": 360, \"value\": 5039}, \"5040\": {\"frequency\": 111, \"value\": 5040}, \"5041\": {\"frequency\": 114, \"value\": 5041}, \"5042\": {\"frequency\": 368, \"value\": 5042}, \"5043\": {\"frequency\": 25, \"value\": 5043}, \"5044\": {\"frequency\": 137, \"value\": 5044}, \"5045\": {\"frequency\": 34, \"value\": 5045}, \"5046\": {\"frequency\": 868, \"value\": 5046}, \"5047\": {\"frequency\": 319, \"value\": 5047}, \"5048\": {\"frequency\": 89, \"value\": 5048}, \"5049\": {\"frequency\": 192, \"value\": 5049}, \"5050\": {\"frequency\": 85, \"value\": 5050}, \"5051\": {\"frequency\": 30, \"value\": 5051}, \"5052\": {\"frequency\": 21, \"value\": 5052}, \"5053\": {\"frequency\": 231, \"value\": 5053}, \"5054\": {\"frequency\": 715, \"value\": 5054}, \"5055\": {\"frequency\": 42, \"value\": 5055}, \"5056\": {\"frequency\": 194, \"value\": 5056}, \"5057\": {\"frequency\": 74, \"value\": 5057}, \"5058\": {\"frequency\": 47, \"value\": 5058}, \"5059\": {\"frequency\": 136, \"value\": 5059}, \"5060\": {\"frequency\": 81, \"value\": 5060}, \"5061\": {\"frequency\": 211, \"value\": 5061}, \"5062\": {\"frequency\": 24, \"value\": 5062}, \"5063\": {\"frequency\": 113, \"value\": 5063}, \"5064\": {\"frequency\": 99, \"value\": 5064}, \"5065\": {\"frequency\": 265, \"value\": 5065}, \"5066\": {\"frequency\": 33, \"value\": 5066}, \"5067\": {\"frequency\": 35, \"value\": 5067}, \"5068\": {\"frequency\": 55, \"value\": 5068}, \"5069\": {\"frequency\": 25, \"value\": 5069}, \"5070\": {\"frequency\": 488, \"value\": 5070}, \"5071\": {\"frequency\": 81, \"value\": 5071}, \"5072\": {\"frequency\": 59, \"value\": 5072}, \"5073\": {\"frequency\": 25, \"value\": 5073}, \"5074\": {\"frequency\": 761, \"value\": 5074}, \"5075\": {\"frequency\": 58, \"value\": 5075}, \"5076\": {\"frequency\": 109, \"value\": 5076}, \"5077\": {\"frequency\": 424, \"value\": 5077}, \"5078\": {\"frequency\": 60, \"value\": 5078}, \"5079\": {\"frequency\": 63, \"value\": 5079}, \"5080\": {\"frequency\": 69, \"value\": 5080}, \"5081\": {\"frequency\": 101, \"value\": 5081}, \"5082\": {\"frequency\": 232, \"value\": 5082}, \"5083\": {\"frequency\": 285, \"value\": 5083}, \"5084\": {\"frequency\": 266, \"value\": 5084}, \"5085\": {\"frequency\": 221, \"value\": 5085}, \"5086\": {\"frequency\": 161, \"value\": 5086}, \"5087\": {\"frequency\": 296, \"value\": 5087}, \"5088\": {\"frequency\": 31, \"value\": 5088}, \"5089\": {\"frequency\": 33, \"value\": 5089}, \"5090\": {\"frequency\": 420, \"value\": 5090}, \"5091\": {\"frequency\": 304, \"value\": 5091}, \"5092\": {\"frequency\": 71, \"value\": 5092}, \"5093\": {\"frequency\": 49, \"value\": 5093}, \"5094\": {\"frequency\": 59, \"value\": 5094}, \"5095\": {\"frequency\": 43, \"value\": 5095}, \"5096\": {\"frequency\": 268, \"value\": 5096}, \"5097\": {\"frequency\": 133, \"value\": 5097}, \"5098\": {\"frequency\": 197, \"value\": 5098}, \"5099\": {\"frequency\": 203, \"value\": 5099}, \"5100\": {\"frequency\": 853, \"value\": 5100}, \"5101\": {\"frequency\": 49, \"value\": 5101}, \"5102\": {\"frequency\": 144, \"value\": 5102}, \"5103\": {\"frequency\": 305, \"value\": 5103}, \"5104\": {\"frequency\": 54, \"value\": 5104}, \"5105\": {\"frequency\": 98, \"value\": 5105}, \"5106\": {\"frequency\": 74, \"value\": 5106}, \"5107\": {\"frequency\": 606, \"value\": 5107}, \"5108\": {\"frequency\": 371, \"value\": 5108}, \"5109\": {\"frequency\": 131, \"value\": 5109}, \"5110\": {\"frequency\": 25, \"value\": 5110}, \"5111\": {\"frequency\": 800, \"value\": 5111}, \"5112\": {\"frequency\": 317, \"value\": 5112}, \"5113\": {\"frequency\": 546, \"value\": 5113}, \"5114\": {\"frequency\": 149, \"value\": 5114}, \"5115\": {\"frequency\": 40, \"value\": 5115}, \"5116\": {\"frequency\": 21, \"value\": 5116}, \"5117\": {\"frequency\": 21, \"value\": 5117}, \"5118\": {\"frequency\": 120, \"value\": 5118}, \"5119\": {\"frequency\": 24, \"value\": 5119}, \"5120\": {\"frequency\": 193, \"value\": 5120}, \"5121\": {\"frequency\": 162, \"value\": 5121}, \"5122\": {\"frequency\": 23, \"value\": 5122}, \"5123\": {\"frequency\": 102, \"value\": 5123}, \"5124\": {\"frequency\": 268, \"value\": 5124}, \"5125\": {\"frequency\": 34, \"value\": 5125}, \"5126\": {\"frequency\": 142, \"value\": 5126}, \"5127\": {\"frequency\": 51, \"value\": 5127}, \"5128\": {\"frequency\": 95, \"value\": 5128}, \"5129\": {\"frequency\": 110, \"value\": 5129}, \"5130\": {\"frequency\": 28, \"value\": 5130}, \"5131\": {\"frequency\": 394, \"value\": 5131}, \"5132\": {\"frequency\": 58, \"value\": 5132}, \"5133\": {\"frequency\": 65, \"value\": 5133}, \"5134\": {\"frequency\": 95, \"value\": 5134}, \"5135\": {\"frequency\": 77, \"value\": 5135}, \"5136\": {\"frequency\": 214, \"value\": 5136}, \"5137\": {\"frequency\": 116, \"value\": 5137}, \"5138\": {\"frequency\": 162, \"value\": 5138}, \"5139\": {\"frequency\": 126, \"value\": 5139}, \"5140\": {\"frequency\": 373, \"value\": 5140}, \"5141\": {\"frequency\": 43, \"value\": 5141}, \"5142\": {\"frequency\": 327, \"value\": 5142}, \"5143\": {\"frequency\": 119, \"value\": 5143}, \"5144\": {\"frequency\": 32, \"value\": 5144}, \"5145\": {\"frequency\": 20, \"value\": 5145}, \"5146\": {\"frequency\": 30, \"value\": 5146}, \"5147\": {\"frequency\": 37, \"value\": 5147}, \"5148\": {\"frequency\": 103, \"value\": 5148}, \"5149\": {\"frequency\": 30, \"value\": 5149}, \"5150\": {\"frequency\": 36, \"value\": 5150}, \"5151\": {\"frequency\": 159, \"value\": 5151}, \"5152\": {\"frequency\": 27, \"value\": 5152}, \"5153\": {\"frequency\": 460, \"value\": 5153}, \"5154\": {\"frequency\": 33, \"value\": 5154}, \"5155\": {\"frequency\": 26, \"value\": 5155}, \"5156\": {\"frequency\": 320, \"value\": 5156}, \"5157\": {\"frequency\": 90, \"value\": 5157}, \"5158\": {\"frequency\": 204, \"value\": 5158}, \"5159\": {\"frequency\": 20, \"value\": 5159}, \"5160\": {\"frequency\": 29, \"value\": 5160}, \"5161\": {\"frequency\": 315, \"value\": 5161}, \"5162\": {\"frequency\": 36, \"value\": 5162}, \"5163\": {\"frequency\": 501, \"value\": 5163}, \"5164\": {\"frequency\": 75, \"value\": 5164}, \"5165\": {\"frequency\": 99, \"value\": 5165}, \"5166\": {\"frequency\": 116, \"value\": 5166}, \"5167\": {\"frequency\": 150, \"value\": 5167}, \"5168\": {\"frequency\": 20, \"value\": 5168}, \"5169\": {\"frequency\": 119, \"value\": 5169}, \"5170\": {\"frequency\": 74, \"value\": 5170}, \"5171\": {\"frequency\": 28, \"value\": 5171}, \"5172\": {\"frequency\": 456, \"value\": 5172}, \"5173\": {\"frequency\": 138, \"value\": 5173}, \"5174\": {\"frequency\": 21, \"value\": 5174}, \"5175\": {\"frequency\": 33, \"value\": 5175}, \"5176\": {\"frequency\": 46, \"value\": 5176}, \"5177\": {\"frequency\": 100, \"value\": 5177}, \"5178\": {\"frequency\": 272, \"value\": 5178}, \"5179\": {\"frequency\": 39, \"value\": 5179}, \"5180\": {\"frequency\": 117, \"value\": 5180}, \"5181\": {\"frequency\": 52, \"value\": 5181}, \"5182\": {\"frequency\": 304, \"value\": 5182}, \"5183\": {\"frequency\": 101, \"value\": 5183}, \"5184\": {\"frequency\": 301, \"value\": 5184}, \"5185\": {\"frequency\": 281, \"value\": 5185}, \"5186\": {\"frequency\": 73, \"value\": 5186}, \"5187\": {\"frequency\": 118, \"value\": 5187}, \"5188\": {\"frequency\": 89, \"value\": 5188}, \"5189\": {\"frequency\": 42, \"value\": 5189}, \"5190\": {\"frequency\": 43, \"value\": 5190}, \"5191\": {\"frequency\": 36, \"value\": 5191}, \"5192\": {\"frequency\": 22, \"value\": 5192}, \"5193\": {\"frequency\": 204, \"value\": 5193}, \"5194\": {\"frequency\": 69, \"value\": 5194}, \"5195\": {\"frequency\": 67, \"value\": 5195}, \"5196\": {\"frequency\": 80, \"value\": 5196}, \"5197\": {\"frequency\": 124, \"value\": 5197}, \"5198\": {\"frequency\": 283, \"value\": 5198}, \"5199\": {\"frequency\": 35, \"value\": 5199}, \"5200\": {\"frequency\": 62, \"value\": 5200}, \"5201\": {\"frequency\": 109, \"value\": 5201}, \"5202\": {\"frequency\": 32, \"value\": 5202}, \"5203\": {\"frequency\": 36, \"value\": 5203}, \"5204\": {\"frequency\": 47, \"value\": 5204}, \"5205\": {\"frequency\": 356, \"value\": 5205}, \"5206\": {\"frequency\": 29, \"value\": 5206}, \"5207\": {\"frequency\": 22, \"value\": 5207}, \"5208\": {\"frequency\": 120, \"value\": 5208}, \"5209\": {\"frequency\": 134, \"value\": 5209}, \"5210\": {\"frequency\": 65, \"value\": 5210}, \"5211\": {\"frequency\": 103, \"value\": 5211}, \"5212\": {\"frequency\": 40, \"value\": 5212}, \"5213\": {\"frequency\": 35, \"value\": 5213}, \"5214\": {\"frequency\": 31, \"value\": 5214}, \"5215\": {\"frequency\": 20, \"value\": 5215}, \"5216\": {\"frequency\": 20, \"value\": 5216}, \"5217\": {\"frequency\": 132, \"value\": 5217}, \"5218\": {\"frequency\": 44, \"value\": 5218}, \"5219\": {\"frequency\": 124, \"value\": 5219}, \"5220\": {\"frequency\": 720, \"value\": 5220}, \"5221\": {\"frequency\": 30, \"value\": 5221}, \"5222\": {\"frequency\": 307, \"value\": 5222}, \"5223\": {\"frequency\": 204, \"value\": 5223}, \"5224\": {\"frequency\": 33, \"value\": 5224}, \"5225\": {\"frequency\": 212, \"value\": 5225}, \"5226\": {\"frequency\": 83, \"value\": 5226}, \"5227\": {\"frequency\": 157, \"value\": 5227}, \"5228\": {\"frequency\": 24, \"value\": 5228}, \"5229\": {\"frequency\": 69, \"value\": 5229}, \"5230\": {\"frequency\": 130, \"value\": 5230}, \"5231\": {\"frequency\": 28, \"value\": 5231}, \"5232\": {\"frequency\": 131, \"value\": 5232}, \"5233\": {\"frequency\": 112, \"value\": 5233}, \"5234\": {\"frequency\": 212, \"value\": 5234}, \"5235\": {\"frequency\": 35, \"value\": 5235}, \"5236\": {\"frequency\": 128, \"value\": 5236}, \"5237\": {\"frequency\": 55, \"value\": 5237}, \"5238\": {\"frequency\": 22, \"value\": 5238}, \"5239\": {\"frequency\": 285, \"value\": 5239}, \"5240\": {\"frequency\": 35, \"value\": 5240}, \"5241\": {\"frequency\": 94, \"value\": 5241}, \"5242\": {\"frequency\": 113, \"value\": 5242}, \"5243\": {\"frequency\": 26, \"value\": 5243}, \"5244\": {\"frequency\": 35, \"value\": 5244}, \"5245\": {\"frequency\": 30, \"value\": 5245}, \"5246\": {\"frequency\": 130, \"value\": 5246}, \"5247\": {\"frequency\": 31, \"value\": 5247}, \"5248\": {\"frequency\": 101, \"value\": 5248}, \"5249\": {\"frequency\": 338, \"value\": 5249}, \"5250\": {\"frequency\": 289, \"value\": 5250}, \"5251\": {\"frequency\": 168, \"value\": 5251}, \"5252\": {\"frequency\": 65, \"value\": 5252}, \"5253\": {\"frequency\": 148, \"value\": 5253}, \"5254\": {\"frequency\": 81, \"value\": 5254}, \"5255\": {\"frequency\": 149, \"value\": 5255}, \"5256\": {\"frequency\": 825, \"value\": 5256}, \"5257\": {\"frequency\": 97, \"value\": 5257}, \"5258\": {\"frequency\": 20, \"value\": 5258}, \"5259\": {\"frequency\": 34, \"value\": 5259}, \"5260\": {\"frequency\": 209, \"value\": 5260}, \"5261\": {\"frequency\": 103, \"value\": 5261}, \"5262\": {\"frequency\": 64, \"value\": 5262}, \"5263\": {\"frequency\": 126, \"value\": 5263}, \"5264\": {\"frequency\": 159, \"value\": 5264}, \"5265\": {\"frequency\": 283, \"value\": 5265}, \"5266\": {\"frequency\": 29, \"value\": 5266}, \"5267\": {\"frequency\": 95, \"value\": 5267}, \"5268\": {\"frequency\": 484, \"value\": 5268}, \"5269\": {\"frequency\": 324, \"value\": 5269}, \"5270\": {\"frequency\": 102, \"value\": 5270}, \"5271\": {\"frequency\": 427, \"value\": 5271}, \"5272\": {\"frequency\": 106, \"value\": 5272}, \"5273\": {\"frequency\": 304, \"value\": 5273}, \"5274\": {\"frequency\": 25, \"value\": 5274}, \"5275\": {\"frequency\": 95, \"value\": 5275}, \"5276\": {\"frequency\": 77, \"value\": 5276}, \"5277\": {\"frequency\": 308, \"value\": 5277}, \"5278\": {\"frequency\": 181, \"value\": 5278}, \"5279\": {\"frequency\": 51, \"value\": 5279}, \"5280\": {\"frequency\": 26, \"value\": 5280}, \"5281\": {\"frequency\": 260, \"value\": 5281}, \"5282\": {\"frequency\": 300, \"value\": 5282}, \"5283\": {\"frequency\": 291, \"value\": 5283}, \"5284\": {\"frequency\": 73, \"value\": 5284}, \"5285\": {\"frequency\": 45, \"value\": 5285}, \"5286\": {\"frequency\": 182, \"value\": 5286}, \"5287\": {\"frequency\": 212, \"value\": 5287}, \"5288\": {\"frequency\": 43, \"value\": 5288}, \"5289\": {\"frequency\": 470, \"value\": 5289}, \"5290\": {\"frequency\": 37, \"value\": 5290}, \"5291\": {\"frequency\": 66, \"value\": 5291}, \"5292\": {\"frequency\": 31, \"value\": 5292}, \"5293\": {\"frequency\": 75, \"value\": 5293}, \"5294\": {\"frequency\": 156, \"value\": 5294}, \"5295\": {\"frequency\": 22, \"value\": 5295}, \"5296\": {\"frequency\": 70, \"value\": 5296}, \"5297\": {\"frequency\": 30, \"value\": 5297}, \"5298\": {\"frequency\": 59, \"value\": 5298}, \"5299\": {\"frequency\": 56, \"value\": 5299}, \"5300\": {\"frequency\": 282, \"value\": 5300}, \"5301\": {\"frequency\": 139, \"value\": 5301}, \"5302\": {\"frequency\": 238, \"value\": 5302}, \"5303\": {\"frequency\": 45, \"value\": 5303}, \"5304\": {\"frequency\": 35, \"value\": 5304}, \"5305\": {\"frequency\": 270, \"value\": 5305}, \"5306\": {\"frequency\": 630, \"value\": 5306}, \"5307\": {\"frequency\": 57, \"value\": 5307}, \"5308\": {\"frequency\": 40, \"value\": 5308}, \"5309\": {\"frequency\": 20, \"value\": 5309}, \"5310\": {\"frequency\": 97, \"value\": 5310}, \"5311\": {\"frequency\": 46, \"value\": 5311}, \"5312\": {\"frequency\": 720, \"value\": 5312}, \"5313\": {\"frequency\": 88, \"value\": 5313}, \"5314\": {\"frequency\": 20, \"value\": 5314}, \"5315\": {\"frequency\": 35, \"value\": 5315}, \"5316\": {\"frequency\": 39, \"value\": 5316}, \"5317\": {\"frequency\": 543, \"value\": 5317}, \"5318\": {\"frequency\": 99, \"value\": 5318}, \"5319\": {\"frequency\": 388, \"value\": 5319}, \"5320\": {\"frequency\": 23, \"value\": 5320}, \"5321\": {\"frequency\": 288, \"value\": 5321}, \"5322\": {\"frequency\": 102, \"value\": 5322}, \"5323\": {\"frequency\": 246, \"value\": 5323}, \"5324\": {\"frequency\": 173, \"value\": 5324}, \"5325\": {\"frequency\": 48, \"value\": 5325}, \"5326\": {\"frequency\": 128, \"value\": 5326}, \"5327\": {\"frequency\": 163, \"value\": 5327}, \"5328\": {\"frequency\": 53, \"value\": 5328}, \"5329\": {\"frequency\": 544, \"value\": 5329}, \"5330\": {\"frequency\": 62, \"value\": 5330}, \"5331\": {\"frequency\": 80, \"value\": 5331}, \"5332\": {\"frequency\": 73, \"value\": 5332}, \"5333\": {\"frequency\": 839, \"value\": 5333}, \"5334\": {\"frequency\": 55, \"value\": 5334}, \"5335\": {\"frequency\": 158, \"value\": 5335}, \"5336\": {\"frequency\": 47, \"value\": 5336}, \"5337\": {\"frequency\": 177, \"value\": 5337}, \"5338\": {\"frequency\": 104, \"value\": 5338}, \"5339\": {\"frequency\": 108, \"value\": 5339}, \"5340\": {\"frequency\": 214, \"value\": 5340}, \"5341\": {\"frequency\": 126, \"value\": 5341}, \"5342\": {\"frequency\": 112, \"value\": 5342}, \"5343\": {\"frequency\": 36, \"value\": 5343}, \"5344\": {\"frequency\": 197, \"value\": 5344}, \"5345\": {\"frequency\": 333, \"value\": 5345}, \"5346\": {\"frequency\": 54, \"value\": 5346}, \"5347\": {\"frequency\": 263, \"value\": 5347}, \"5348\": {\"frequency\": 50, \"value\": 5348}, \"5349\": {\"frequency\": 241, \"value\": 5349}, \"5350\": {\"frequency\": 219, \"value\": 5350}, \"5351\": {\"frequency\": 26, \"value\": 5351}, \"5352\": {\"frequency\": 206, \"value\": 5352}, \"5353\": {\"frequency\": 118, \"value\": 5353}, \"5354\": {\"frequency\": 46, \"value\": 5354}, \"5355\": {\"frequency\": 181, \"value\": 5355}, \"5356\": {\"frequency\": 41, \"value\": 5356}, \"5357\": {\"frequency\": 48, \"value\": 5357}, \"5358\": {\"frequency\": 25, \"value\": 5358}, \"5359\": {\"frequency\": 510, \"value\": 5359}, \"5360\": {\"frequency\": 38, \"value\": 5360}, \"5361\": {\"frequency\": 187, \"value\": 5361}, \"5362\": {\"frequency\": 92, \"value\": 5362}, \"5363\": {\"frequency\": 61, \"value\": 5363}, \"5364\": {\"frequency\": 354, \"value\": 5364}, \"5365\": {\"frequency\": 300, \"value\": 5365}, \"5366\": {\"frequency\": 125, \"value\": 5366}, \"5367\": {\"frequency\": 1169, \"value\": 5367}, \"5368\": {\"frequency\": 98, \"value\": 5368}, \"5369\": {\"frequency\": 245, \"value\": 5369}, \"5370\": {\"frequency\": 27, \"value\": 5370}, \"5371\": {\"frequency\": 324, \"value\": 5371}, \"5372\": {\"frequency\": 36, \"value\": 5372}, \"5373\": {\"frequency\": 32, \"value\": 5373}, \"5374\": {\"frequency\": 48, \"value\": 5374}, \"5375\": {\"frequency\": 29, \"value\": 5375}, \"5376\": {\"frequency\": 256, \"value\": 5376}, \"5377\": {\"frequency\": 43, \"value\": 5377}, \"5378\": {\"frequency\": 181, \"value\": 5378}, \"5379\": {\"frequency\": 37, \"value\": 5379}, \"5380\": {\"frequency\": 20, \"value\": 5380}, \"5381\": {\"frequency\": 24, \"value\": 5381}, \"5382\": {\"frequency\": 67, \"value\": 5382}, \"5383\": {\"frequency\": 28, \"value\": 5383}, \"5384\": {\"frequency\": 46, \"value\": 5384}, \"5385\": {\"frequency\": 46, \"value\": 5385}, \"5386\": {\"frequency\": 161, \"value\": 5386}, \"5387\": {\"frequency\": 731, \"value\": 5387}, \"5388\": {\"frequency\": 24, \"value\": 5388}, \"5389\": {\"frequency\": 154, \"value\": 5389}, \"5390\": {\"frequency\": 219, \"value\": 5390}, \"5391\": {\"frequency\": 23, \"value\": 5391}, \"5392\": {\"frequency\": 22, \"value\": 5392}, \"5393\": {\"frequency\": 210, \"value\": 5393}, \"5394\": {\"frequency\": 849, \"value\": 5394}, \"5395\": {\"frequency\": 121, \"value\": 5395}, \"5396\": {\"frequency\": 81, \"value\": 5396}, \"5397\": {\"frequency\": 388, \"value\": 5397}, \"5398\": {\"frequency\": 28, \"value\": 5398}, \"5399\": {\"frequency\": 60, \"value\": 5399}, \"5400\": {\"frequency\": 24, \"value\": 5400}, \"5401\": {\"frequency\": 146, \"value\": 5401}, \"5402\": {\"frequency\": 92, \"value\": 5402}, \"5403\": {\"frequency\": 162, \"value\": 5403}, \"5404\": {\"frequency\": 210, \"value\": 5404}, \"5405\": {\"frequency\": 116, \"value\": 5405}, \"5406\": {\"frequency\": 122, \"value\": 5406}, \"5407\": {\"frequency\": 27, \"value\": 5407}, \"5408\": {\"frequency\": 102, \"value\": 5408}, \"5409\": {\"frequency\": 21, \"value\": 5409}, \"5410\": {\"frequency\": 46, \"value\": 5410}, \"5411\": {\"frequency\": 24, \"value\": 5411}, \"5412\": {\"frequency\": 278, \"value\": 5412}, \"5413\": {\"frequency\": 220, \"value\": 5413}, \"5414\": {\"frequency\": 79, \"value\": 5414}, \"5415\": {\"frequency\": 55, \"value\": 5415}, \"5416\": {\"frequency\": 48, \"value\": 5416}, \"5417\": {\"frequency\": 45, \"value\": 5417}, \"5418\": {\"frequency\": 250, \"value\": 5418}, \"5419\": {\"frequency\": 89, \"value\": 5419}, \"5420\": {\"frequency\": 175, \"value\": 5420}, \"5421\": {\"frequency\": 80, \"value\": 5421}, \"5422\": {\"frequency\": 175, \"value\": 5422}, \"5423\": {\"frequency\": 98, \"value\": 5423}, \"5424\": {\"frequency\": 135, \"value\": 5424}, \"5425\": {\"frequency\": 46, \"value\": 5425}, \"5426\": {\"frequency\": 296, \"value\": 5426}, \"5427\": {\"frequency\": 81, \"value\": 5427}, \"5428\": {\"frequency\": 388, \"value\": 5428}, \"5429\": {\"frequency\": 128, \"value\": 5429}, \"5430\": {\"frequency\": 140, \"value\": 5430}, \"5431\": {\"frequency\": 88, \"value\": 5431}, \"5432\": {\"frequency\": 183, \"value\": 5432}, \"5433\": {\"frequency\": 725, \"value\": 5433}, \"5434\": {\"frequency\": 244, \"value\": 5434}, \"5435\": {\"frequency\": 46, \"value\": 5435}, \"5436\": {\"frequency\": 33, \"value\": 5436}, \"5437\": {\"frequency\": 156, \"value\": 5437}, \"5438\": {\"frequency\": 91, \"value\": 5438}, \"5439\": {\"frequency\": 22, \"value\": 5439}, \"5440\": {\"frequency\": 35, \"value\": 5440}, \"5441\": {\"frequency\": 196, \"value\": 5441}, \"5442\": {\"frequency\": 64, \"value\": 5442}, \"5443\": {\"frequency\": 399, \"value\": 5443}, \"5444\": {\"frequency\": 39, \"value\": 5444}, \"5445\": {\"frequency\": 149, \"value\": 5445}, \"5446\": {\"frequency\": 126, \"value\": 5446}, \"5447\": {\"frequency\": 131, \"value\": 5447}, \"5448\": {\"frequency\": 351, \"value\": 5448}, \"5449\": {\"frequency\": 111, \"value\": 5449}, \"5450\": {\"frequency\": 321, \"value\": 5450}, \"5451\": {\"frequency\": 94, \"value\": 5451}, \"5452\": {\"frequency\": 284, \"value\": 5452}, \"5453\": {\"frequency\": 247, \"value\": 5453}, \"5454\": {\"frequency\": 64, \"value\": 5454}, \"5455\": {\"frequency\": 135, \"value\": 5455}, \"5456\": {\"frequency\": 42, \"value\": 5456}, \"5457\": {\"frequency\": 173, \"value\": 5457}, \"5458\": {\"frequency\": 392, \"value\": 5458}, \"5459\": {\"frequency\": 178, \"value\": 5459}, \"5460\": {\"frequency\": 85, \"value\": 5460}, \"5461\": {\"frequency\": 48, \"value\": 5461}, \"5462\": {\"frequency\": 36, \"value\": 5462}, \"5463\": {\"frequency\": 280, \"value\": 5463}, \"5464\": {\"frequency\": 113, \"value\": 5464}, \"5465\": {\"frequency\": 22, \"value\": 5465}, \"5466\": {\"frequency\": 228, \"value\": 5466}, \"5467\": {\"frequency\": 27, \"value\": 5467}, \"5468\": {\"frequency\": 385, \"value\": 5468}, \"5469\": {\"frequency\": 115, \"value\": 5469}, \"5470\": {\"frequency\": 104, \"value\": 5470}, \"5471\": {\"frequency\": 25, \"value\": 5471}, \"5472\": {\"frequency\": 317, \"value\": 5472}, \"5473\": {\"frequency\": 120, \"value\": 5473}, \"5474\": {\"frequency\": 47, \"value\": 5474}, \"5475\": {\"frequency\": 377, \"value\": 5475}, \"5476\": {\"frequency\": 34, \"value\": 5476}, \"5477\": {\"frequency\": 25, \"value\": 5477}, \"5478\": {\"frequency\": 34, \"value\": 5478}, \"5479\": {\"frequency\": 105, \"value\": 5479}, \"5480\": {\"frequency\": 150, \"value\": 5480}, \"5481\": {\"frequency\": 54, \"value\": 5481}, \"5482\": {\"frequency\": 375, \"value\": 5482}, \"5483\": {\"frequency\": 221, \"value\": 5483}, \"5484\": {\"frequency\": 79, \"value\": 5484}, \"5485\": {\"frequency\": 114, \"value\": 5485}, \"5486\": {\"frequency\": 43, \"value\": 5486}, \"5487\": {\"frequency\": 47, \"value\": 5487}, \"5488\": {\"frequency\": 253, \"value\": 5488}, \"5489\": {\"frequency\": 70, \"value\": 5489}, \"5490\": {\"frequency\": 124, \"value\": 5490}, \"5491\": {\"frequency\": 204, \"value\": 5491}, \"5492\": {\"frequency\": 380, \"value\": 5492}, \"5493\": {\"frequency\": 573, \"value\": 5493}, \"5494\": {\"frequency\": 80, \"value\": 5494}, \"5495\": {\"frequency\": 31, \"value\": 5495}, \"5496\": {\"frequency\": 84, \"value\": 5496}, \"5497\": {\"frequency\": 145, \"value\": 5497}, \"5498\": {\"frequency\": 59, \"value\": 5498}, \"5499\": {\"frequency\": 69, \"value\": 5499}, \"5500\": {\"frequency\": 59, \"value\": 5500}, \"5501\": {\"frequency\": 561, \"value\": 5501}, \"5502\": {\"frequency\": 120, \"value\": 5502}, \"5503\": {\"frequency\": 45, \"value\": 5503}, \"5504\": {\"frequency\": 587, \"value\": 5504}, \"5505\": {\"frequency\": 92, \"value\": 5505}, \"5506\": {\"frequency\": 57, \"value\": 5506}, \"5507\": {\"frequency\": 44, \"value\": 5507}, \"5508\": {\"frequency\": 75, \"value\": 5508}, \"5509\": {\"frequency\": 103, \"value\": 5509}, \"5510\": {\"frequency\": 62, \"value\": 5510}, \"5511\": {\"frequency\": 724, \"value\": 5511}, \"5512\": {\"frequency\": 241, \"value\": 5512}, \"5513\": {\"frequency\": 66, \"value\": 5513}, \"5514\": {\"frequency\": 40, \"value\": 5514}, \"5515\": {\"frequency\": 45, \"value\": 5515}, \"5516\": {\"frequency\": 137, \"value\": 5516}, \"5517\": {\"frequency\": 312, \"value\": 5517}, \"5518\": {\"frequency\": 113, \"value\": 5518}, \"5519\": {\"frequency\": 340, \"value\": 5519}, \"5520\": {\"frequency\": 166, \"value\": 5520}, \"5521\": {\"frequency\": 52, \"value\": 5521}, \"5522\": {\"frequency\": 520, \"value\": 5522}, \"5523\": {\"frequency\": 376, \"value\": 5523}, \"5524\": {\"frequency\": 166, \"value\": 5524}, \"5525\": {\"frequency\": 20, \"value\": 5525}, \"5526\": {\"frequency\": 284, \"value\": 5526}, \"5527\": {\"frequency\": 29, \"value\": 5527}, \"5528\": {\"frequency\": 75, \"value\": 5528}, \"5529\": {\"frequency\": 21, \"value\": 5529}, \"5530\": {\"frequency\": 652, \"value\": 5530}, \"5531\": {\"frequency\": 148, \"value\": 5531}, \"5532\": {\"frequency\": 102, \"value\": 5532}, \"5533\": {\"frequency\": 20, \"value\": 5533}, \"5534\": {\"frequency\": 65, \"value\": 5534}, \"5535\": {\"frequency\": 187, \"value\": 5535}, \"5536\": {\"frequency\": 634, \"value\": 5536}, \"5537\": {\"frequency\": 64, \"value\": 5537}, \"5538\": {\"frequency\": 174, \"value\": 5538}, \"5539\": {\"frequency\": 480, \"value\": 5539}, \"5540\": {\"frequency\": 78, \"value\": 5540}, \"5541\": {\"frequency\": 27, \"value\": 5541}, \"5542\": {\"frequency\": 71, \"value\": 5542}, \"5543\": {\"frequency\": 341, \"value\": 5543}, \"5544\": {\"frequency\": 47, \"value\": 5544}, \"5545\": {\"frequency\": 152, \"value\": 5545}, \"5546\": {\"frequency\": 34, \"value\": 5546}, \"5547\": {\"frequency\": 152, \"value\": 5547}, \"5548\": {\"frequency\": 168, \"value\": 5548}, \"5549\": {\"frequency\": 33, \"value\": 5549}, \"5550\": {\"frequency\": 633, \"value\": 5550}, \"5551\": {\"frequency\": 64, \"value\": 5551}, \"5552\": {\"frequency\": 54, \"value\": 5552}, \"5553\": {\"frequency\": 263, \"value\": 5553}, \"5554\": {\"frequency\": 104, \"value\": 5554}, \"5555\": {\"frequency\": 548, \"value\": 5555}, \"5556\": {\"frequency\": 278, \"value\": 5556}, \"5557\": {\"frequency\": 190, \"value\": 5557}, \"5558\": {\"frequency\": 247, \"value\": 5558}, \"5559\": {\"frequency\": 39, \"value\": 5559}, \"5560\": {\"frequency\": 82, \"value\": 5560}, \"5561\": {\"frequency\": 219, \"value\": 5561}, \"5562\": {\"frequency\": 75, \"value\": 5562}, \"5563\": {\"frequency\": 38, \"value\": 5563}, \"5564\": {\"frequency\": 45, \"value\": 5564}, \"5565\": {\"frequency\": 184, \"value\": 5565}, \"5566\": {\"frequency\": 127, \"value\": 5566}, \"5567\": {\"frequency\": 403, \"value\": 5567}, \"5568\": {\"frequency\": 341, \"value\": 5568}, \"5569\": {\"frequency\": 242, \"value\": 5569}, \"5570\": {\"frequency\": 302, \"value\": 5570}, \"5571\": {\"frequency\": 113, \"value\": 5571}, \"5572\": {\"frequency\": 70, \"value\": 5572}, \"5573\": {\"frequency\": 172, \"value\": 5573}, \"5574\": {\"frequency\": 178, \"value\": 5574}, \"5575\": {\"frequency\": 272, \"value\": 5575}, \"5576\": {\"frequency\": 290, \"value\": 5576}, \"5577\": {\"frequency\": 29, \"value\": 5577}, \"5578\": {\"frequency\": 84, \"value\": 5578}, \"5579\": {\"frequency\": 24, \"value\": 5579}, \"5580\": {\"frequency\": 413, \"value\": 5580}, \"5581\": {\"frequency\": 37, \"value\": 5581}, \"5582\": {\"frequency\": 136, \"value\": 5582}, \"5583\": {\"frequency\": 120, \"value\": 5583}, \"5584\": {\"frequency\": 76, \"value\": 5584}, \"5585\": {\"frequency\": 245, \"value\": 5585}, \"5586\": {\"frequency\": 28, \"value\": 5586}, \"5587\": {\"frequency\": 55, \"value\": 5587}, \"5588\": {\"frequency\": 37, \"value\": 5588}, \"5589\": {\"frequency\": 36, \"value\": 5589}, \"5590\": {\"frequency\": 33, \"value\": 5590}, \"5591\": {\"frequency\": 46, \"value\": 5591}, \"5592\": {\"frequency\": 127, \"value\": 5592}, \"5593\": {\"frequency\": 160, \"value\": 5593}, \"5594\": {\"frequency\": 130, \"value\": 5594}, \"5595\": {\"frequency\": 206, \"value\": 5595}, \"5596\": {\"frequency\": 189, \"value\": 5596}, \"5597\": {\"frequency\": 208, \"value\": 5597}, \"5598\": {\"frequency\": 144, \"value\": 5598}, \"5599\": {\"frequency\": 231, \"value\": 5599}, \"5600\": {\"frequency\": 266, \"value\": 5600}, \"5601\": {\"frequency\": 97, \"value\": 5601}, \"5602\": {\"frequency\": 76, \"value\": 5602}, \"5603\": {\"frequency\": 183, \"value\": 5603}, \"5604\": {\"frequency\": 254, \"value\": 5604}, \"5605\": {\"frequency\": 736, \"value\": 5605}, \"5606\": {\"frequency\": 24, \"value\": 5606}, \"5607\": {\"frequency\": 148, \"value\": 5607}, \"5608\": {\"frequency\": 24, \"value\": 5608}, \"5609\": {\"frequency\": 40, \"value\": 5609}, \"5610\": {\"frequency\": 40, \"value\": 5610}, \"5611\": {\"frequency\": 31, \"value\": 5611}, \"5612\": {\"frequency\": 36, \"value\": 5612}, \"5613\": {\"frequency\": 86, \"value\": 5613}, \"5614\": {\"frequency\": 837, \"value\": 5614}, \"5615\": {\"frequency\": 302, \"value\": 5615}, \"5616\": {\"frequency\": 130, \"value\": 5616}, \"5617\": {\"frequency\": 74, \"value\": 5617}, \"5618\": {\"frequency\": 98, \"value\": 5618}, \"5619\": {\"frequency\": 92, \"value\": 5619}, \"5620\": {\"frequency\": 219, \"value\": 5620}, \"5621\": {\"frequency\": 477, \"value\": 5621}, \"5622\": {\"frequency\": 86, \"value\": 5622}, \"5623\": {\"frequency\": 264, \"value\": 5623}, \"5624\": {\"frequency\": 119, \"value\": 5624}, \"5625\": {\"frequency\": 152, \"value\": 5625}, \"5626\": {\"frequency\": 173, \"value\": 5626}, \"5627\": {\"frequency\": 815, \"value\": 5627}, \"5628\": {\"frequency\": 23, \"value\": 5628}, \"5629\": {\"frequency\": 101, \"value\": 5629}, \"5630\": {\"frequency\": 263, \"value\": 5630}, \"5631\": {\"frequency\": 79, \"value\": 5631}, \"5632\": {\"frequency\": 60, \"value\": 5632}, \"5633\": {\"frequency\": 39, \"value\": 5633}, \"5634\": {\"frequency\": 300, \"value\": 5634}, \"5635\": {\"frequency\": 24, \"value\": 5635}, \"5636\": {\"frequency\": 848, \"value\": 5636}, \"5637\": {\"frequency\": 46, \"value\": 5637}, \"5638\": {\"frequency\": 102, \"value\": 5638}, \"5639\": {\"frequency\": 43, \"value\": 5639}, \"5640\": {\"frequency\": 34, \"value\": 5640}, \"5641\": {\"frequency\": 132, \"value\": 5641}, \"5642\": {\"frequency\": 50, \"value\": 5642}, \"5643\": {\"frequency\": 1047, \"value\": 5643}, \"5644\": {\"frequency\": 73, \"value\": 5644}, \"5645\": {\"frequency\": 270, \"value\": 5645}, \"5646\": {\"frequency\": 104, \"value\": 5646}, \"5647\": {\"frequency\": 152, \"value\": 5647}, \"5648\": {\"frequency\": 117, \"value\": 5648}, \"5649\": {\"frequency\": 200, \"value\": 5649}, \"5650\": {\"frequency\": 314, \"value\": 5650}, \"5651\": {\"frequency\": 39, \"value\": 5651}, \"5652\": {\"frequency\": 106, \"value\": 5652}, \"5653\": {\"frequency\": 228, \"value\": 5653}, \"5654\": {\"frequency\": 298, \"value\": 5654}, \"5655\": {\"frequency\": 117, \"value\": 5655}, \"5656\": {\"frequency\": 28, \"value\": 5656}, \"5657\": {\"frequency\": 198, \"value\": 5657}, \"5658\": {\"frequency\": 125, \"value\": 5658}, \"5659\": {\"frequency\": 209, \"value\": 5659}, \"5660\": {\"frequency\": 34, \"value\": 5660}, \"5661\": {\"frequency\": 125, \"value\": 5661}, \"5662\": {\"frequency\": 73, \"value\": 5662}, \"5663\": {\"frequency\": 268, \"value\": 5663}, \"5664\": {\"frequency\": 287, \"value\": 5664}, \"5665\": {\"frequency\": 46, \"value\": 5665}, \"5666\": {\"frequency\": 32, \"value\": 5666}, \"5667\": {\"frequency\": 328, \"value\": 5667}, \"5668\": {\"frequency\": 89, \"value\": 5668}, \"5669\": {\"frequency\": 48, \"value\": 5669}, \"5670\": {\"frequency\": 72, \"value\": 5670}, \"5671\": {\"frequency\": 109, \"value\": 5671}, \"5672\": {\"frequency\": 28, \"value\": 5672}, \"5673\": {\"frequency\": 68, \"value\": 5673}, \"5674\": {\"frequency\": 41, \"value\": 5674}, \"5675\": {\"frequency\": 586, \"value\": 5675}, \"5676\": {\"frequency\": 146, \"value\": 5676}, \"5677\": {\"frequency\": 246, \"value\": 5677}, \"5678\": {\"frequency\": 138, \"value\": 5678}, \"5679\": {\"frequency\": 182, \"value\": 5679}, \"5680\": {\"frequency\": 159, \"value\": 5680}, \"5681\": {\"frequency\": 33, \"value\": 5681}, \"5682\": {\"frequency\": 608, \"value\": 5682}, \"5683\": {\"frequency\": 122, \"value\": 5683}, \"5684\": {\"frequency\": 489, \"value\": 5684}, \"5685\": {\"frequency\": 40, \"value\": 5685}, \"5686\": {\"frequency\": 530, \"value\": 5686}, \"5687\": {\"frequency\": 85, \"value\": 5687}, \"5688\": {\"frequency\": 100, \"value\": 5688}, \"5689\": {\"frequency\": 488, \"value\": 5689}, \"5690\": {\"frequency\": 24, \"value\": 5690}, \"5691\": {\"frequency\": 130, \"value\": 5691}, \"5692\": {\"frequency\": 61, \"value\": 5692}, \"5693\": {\"frequency\": 46, \"value\": 5693}, \"5694\": {\"frequency\": 25, \"value\": 5694}, \"5695\": {\"frequency\": 31, \"value\": 5695}, \"5696\": {\"frequency\": 24, \"value\": 5696}, \"5697\": {\"frequency\": 26, \"value\": 5697}, \"5698\": {\"frequency\": 315, \"value\": 5698}, \"5699\": {\"frequency\": 299, \"value\": 5699}, \"5700\": {\"frequency\": 38, \"value\": 5700}, \"5701\": {\"frequency\": 119, \"value\": 5701}, \"5702\": {\"frequency\": 117, \"value\": 5702}, \"5703\": {\"frequency\": 74, \"value\": 5703}, \"5704\": {\"frequency\": 93, \"value\": 5704}, \"5705\": {\"frequency\": 173, \"value\": 5705}, \"5706\": {\"frequency\": 165, \"value\": 5706}, \"5707\": {\"frequency\": 100, \"value\": 5707}, \"5708\": {\"frequency\": 100, \"value\": 5708}, \"5709\": {\"frequency\": 124, \"value\": 5709}, \"5710\": {\"frequency\": 77, \"value\": 5710}, \"5711\": {\"frequency\": 60, \"value\": 5711}, \"5712\": {\"frequency\": 83, \"value\": 5712}, \"5713\": {\"frequency\": 31, \"value\": 5713}, \"5714\": {\"frequency\": 99, \"value\": 5714}, \"5715\": {\"frequency\": 84, \"value\": 5715}, \"5716\": {\"frequency\": 212, \"value\": 5716}, \"5717\": {\"frequency\": 384, \"value\": 5717}, \"5718\": {\"frequency\": 193, \"value\": 5718}, \"5719\": {\"frequency\": 26, \"value\": 5719}, \"5720\": {\"frequency\": 354, \"value\": 5720}, \"5721\": {\"frequency\": 48, \"value\": 5721}, \"5722\": {\"frequency\": 367, \"value\": 5722}, \"5723\": {\"frequency\": 202, \"value\": 5723}, \"5724\": {\"frequency\": 97, \"value\": 5724}, \"5725\": {\"frequency\": 20, \"value\": 5725}, \"5726\": {\"frequency\": 148, \"value\": 5726}, \"5727\": {\"frequency\": 51, \"value\": 5727}, \"5728\": {\"frequency\": 323, \"value\": 5728}, \"5729\": {\"frequency\": 62, \"value\": 5729}, \"5730\": {\"frequency\": 91, \"value\": 5730}, \"5731\": {\"frequency\": 60, \"value\": 5731}, \"5732\": {\"frequency\": 42, \"value\": 5732}, \"5733\": {\"frequency\": 200, \"value\": 5733}, \"5734\": {\"frequency\": 208, \"value\": 5734}, \"5735\": {\"frequency\": 23, \"value\": 5735}, \"5736\": {\"frequency\": 105, \"value\": 5736}, \"5737\": {\"frequency\": 85, \"value\": 5737}, \"5738\": {\"frequency\": 526, \"value\": 5738}, \"5739\": {\"frequency\": 51, \"value\": 5739}, \"5740\": {\"frequency\": 76, \"value\": 5740}, \"5741\": {\"frequency\": 47, \"value\": 5741}, \"5742\": {\"frequency\": 47, \"value\": 5742}, \"5743\": {\"frequency\": 30, \"value\": 5743}, \"5744\": {\"frequency\": 440, \"value\": 5744}, \"5745\": {\"frequency\": 72, \"value\": 5745}, \"5746\": {\"frequency\": 82, \"value\": 5746}, \"5747\": {\"frequency\": 564, \"value\": 5747}, \"5748\": {\"frequency\": 54, \"value\": 5748}, \"5749\": {\"frequency\": 407, \"value\": 5749}, \"5750\": {\"frequency\": 119, \"value\": 5750}, \"5751\": {\"frequency\": 90, \"value\": 5751}, \"5752\": {\"frequency\": 155, \"value\": 5752}, \"5753\": {\"frequency\": 83, \"value\": 5753}, \"5754\": {\"frequency\": 353, \"value\": 5754}, \"5755\": {\"frequency\": 515, \"value\": 5755}, \"5756\": {\"frequency\": 38, \"value\": 5756}, \"5757\": {\"frequency\": 116, \"value\": 5757}, \"5758\": {\"frequency\": 147, \"value\": 5758}, \"5759\": {\"frequency\": 576, \"value\": 5759}, \"5760\": {\"frequency\": 32, \"value\": 5760}, \"5761\": {\"frequency\": 223, \"value\": 5761}, \"5762\": {\"frequency\": 288, \"value\": 5762}, \"5763\": {\"frequency\": 677, \"value\": 5763}, \"5764\": {\"frequency\": 55, \"value\": 5764}, \"5765\": {\"frequency\": 229, \"value\": 5765}, \"5766\": {\"frequency\": 94, \"value\": 5766}, \"5767\": {\"frequency\": 349, \"value\": 5767}, \"5768\": {\"frequency\": 74, \"value\": 5768}, \"5769\": {\"frequency\": 154, \"value\": 5769}, \"5770\": {\"frequency\": 139, \"value\": 5770}, \"5771\": {\"frequency\": 266, \"value\": 5771}, \"5772\": {\"frequency\": 22, \"value\": 5772}, \"5773\": {\"frequency\": 30, \"value\": 5773}, \"5774\": {\"frequency\": 55, \"value\": 5774}, \"5775\": {\"frequency\": 195, \"value\": 5775}, \"5776\": {\"frequency\": 183, \"value\": 5776}, \"5777\": {\"frequency\": 125, \"value\": 5777}, \"5778\": {\"frequency\": 66, \"value\": 5778}, \"5779\": {\"frequency\": 394, \"value\": 5779}, \"5780\": {\"frequency\": 259, \"value\": 5780}, \"5781\": {\"frequency\": 27, \"value\": 5781}, \"5782\": {\"frequency\": 114, \"value\": 5782}, \"5783\": {\"frequency\": 39, \"value\": 5783}, \"5784\": {\"frequency\": 27, \"value\": 5784}, \"5785\": {\"frequency\": 130, \"value\": 5785}, \"5786\": {\"frequency\": 331, \"value\": 5786}, \"5787\": {\"frequency\": 442, \"value\": 5787}, \"5788\": {\"frequency\": 825, \"value\": 5788}, \"5789\": {\"frequency\": 46, \"value\": 5789}, \"5790\": {\"frequency\": 93, \"value\": 5790}, \"5791\": {\"frequency\": 101, \"value\": 5791}, \"5792\": {\"frequency\": 269, \"value\": 5792}, \"5793\": {\"frequency\": 30, \"value\": 5793}, \"5794\": {\"frequency\": 294, \"value\": 5794}, \"5795\": {\"frequency\": 1277, \"value\": 5795}, \"5796\": {\"frequency\": 24, \"value\": 5796}, \"5797\": {\"frequency\": 122, \"value\": 5797}, \"5798\": {\"frequency\": 117, \"value\": 5798}, \"5799\": {\"frequency\": 36, \"value\": 5799}, \"5800\": {\"frequency\": 23, \"value\": 5800}, \"5801\": {\"frequency\": 172, \"value\": 5801}, \"5802\": {\"frequency\": 40, \"value\": 5802}, \"5803\": {\"frequency\": 66, \"value\": 5803}, \"5804\": {\"frequency\": 21, \"value\": 5804}, \"5805\": {\"frequency\": 151, \"value\": 5805}, \"5806\": {\"frequency\": 221, \"value\": 5806}, \"5807\": {\"frequency\": 55, \"value\": 5807}, \"5808\": {\"frequency\": 67, \"value\": 5808}, \"5809\": {\"frequency\": 248, \"value\": 5809}, \"5810\": {\"frequency\": 21, \"value\": 5810}, \"5811\": {\"frequency\": 308, \"value\": 5811}, \"5812\": {\"frequency\": 893, \"value\": 5812}, \"5813\": {\"frequency\": 87, \"value\": 5813}, \"5814\": {\"frequency\": 29, \"value\": 5814}, \"5815\": {\"frequency\": 78, \"value\": 5815}, \"5816\": {\"frequency\": 32, \"value\": 5816}, \"5817\": {\"frequency\": 26, \"value\": 5817}, \"5818\": {\"frequency\": 32, \"value\": 5818}, \"5819\": {\"frequency\": 30, \"value\": 5819}, \"5820\": {\"frequency\": 48, \"value\": 5820}, \"5821\": {\"frequency\": 63, \"value\": 5821}, \"5822\": {\"frequency\": 75, \"value\": 5822}, \"5823\": {\"frequency\": 105, \"value\": 5823}, \"5824\": {\"frequency\": 550, \"value\": 5824}, \"5825\": {\"frequency\": 118, \"value\": 5825}, \"5826\": {\"frequency\": 237, \"value\": 5826}, \"5827\": {\"frequency\": 109, \"value\": 5827}, \"5828\": {\"frequency\": 20, \"value\": 5828}, \"5829\": {\"frequency\": 73, \"value\": 5829}, \"5830\": {\"frequency\": 52, \"value\": 5830}, \"5831\": {\"frequency\": 1220, \"value\": 5831}, \"5832\": {\"frequency\": 78, \"value\": 5832}, \"5833\": {\"frequency\": 88, \"value\": 5833}, \"5834\": {\"frequency\": 30, \"value\": 5834}, \"5835\": {\"frequency\": 31, \"value\": 5835}, \"5836\": {\"frequency\": 50, \"value\": 5836}, \"5837\": {\"frequency\": 534, \"value\": 5837}, \"5838\": {\"frequency\": 223, \"value\": 5838}, \"5839\": {\"frequency\": 31, \"value\": 5839}, \"5840\": {\"frequency\": 235, \"value\": 5840}, \"5841\": {\"frequency\": 334, \"value\": 5841}, \"5842\": {\"frequency\": 52, \"value\": 5842}, \"5843\": {\"frequency\": 221, \"value\": 5843}, \"5844\": {\"frequency\": 86, \"value\": 5844}, \"5845\": {\"frequency\": 225, \"value\": 5845}, \"5846\": {\"frequency\": 62, \"value\": 5846}, \"5847\": {\"frequency\": 356, \"value\": 5847}, \"5848\": {\"frequency\": 409, \"value\": 5848}, \"5849\": {\"frequency\": 45, \"value\": 5849}, \"5850\": {\"frequency\": 58, \"value\": 5850}, \"5851\": {\"frequency\": 162, \"value\": 5851}, \"5852\": {\"frequency\": 332, \"value\": 5852}, \"5853\": {\"frequency\": 153, \"value\": 5853}, \"5854\": {\"frequency\": 410, \"value\": 5854}, \"5855\": {\"frequency\": 51, \"value\": 5855}, \"5856\": {\"frequency\": 64, \"value\": 5856}, \"5857\": {\"frequency\": 200, \"value\": 5857}, \"5858\": {\"frequency\": 200, \"value\": 5858}, \"5859\": {\"frequency\": 35, \"value\": 5859}, \"5860\": {\"frequency\": 79, \"value\": 5860}, \"5861\": {\"frequency\": 187, \"value\": 5861}, \"5862\": {\"frequency\": 200, \"value\": 5862}, \"5863\": {\"frequency\": 21, \"value\": 5863}, \"5864\": {\"frequency\": 39, \"value\": 5864}, \"5865\": {\"frequency\": 103, \"value\": 5865}, \"5866\": {\"frequency\": 32, \"value\": 5866}, \"5867\": {\"frequency\": 32, \"value\": 5867}, \"5868\": {\"frequency\": 67, \"value\": 5868}, \"5869\": {\"frequency\": 76, \"value\": 5869}, \"5870\": {\"frequency\": 39, \"value\": 5870}, \"5871\": {\"frequency\": 100, \"value\": 5871}, \"5872\": {\"frequency\": 263, \"value\": 5872}, \"5873\": {\"frequency\": 33, \"value\": 5873}, \"5874\": {\"frequency\": 299, \"value\": 5874}, \"5875\": {\"frequency\": 138, \"value\": 5875}, \"5876\": {\"frequency\": 23, \"value\": 5876}, \"5877\": {\"frequency\": 22, \"value\": 5877}, \"5878\": {\"frequency\": 601, \"value\": 5878}, \"5879\": {\"frequency\": 55, \"value\": 5879}, \"5880\": {\"frequency\": 748, \"value\": 5880}, \"5881\": {\"frequency\": 280, \"value\": 5881}, \"5882\": {\"frequency\": 40, \"value\": 5882}, \"5883\": {\"frequency\": 26, \"value\": 5883}, \"5884\": {\"frequency\": 78, \"value\": 5884}, \"5885\": {\"frequency\": 121, \"value\": 5885}, \"5886\": {\"frequency\": 491, \"value\": 5886}, \"5887\": {\"frequency\": 82, \"value\": 5887}, \"5888\": {\"frequency\": 617, \"value\": 5888}, \"5889\": {\"frequency\": 100, \"value\": 5889}, \"5890\": {\"frequency\": 329, \"value\": 5890}, \"5891\": {\"frequency\": 78, \"value\": 5891}, \"5892\": {\"frequency\": 114, \"value\": 5892}, \"5893\": {\"frequency\": 148, \"value\": 5893}, \"5894\": {\"frequency\": 115, \"value\": 5894}, \"5895\": {\"frequency\": 58, \"value\": 5895}, \"5896\": {\"frequency\": 208, \"value\": 5896}, \"5897\": {\"frequency\": 53, \"value\": 5897}, \"5898\": {\"frequency\": 29, \"value\": 5898}, \"5899\": {\"frequency\": 21, \"value\": 5899}, \"5900\": {\"frequency\": 125, \"value\": 5900}, \"5901\": {\"frequency\": 30, \"value\": 5901}, \"5902\": {\"frequency\": 87, \"value\": 5902}, \"5903\": {\"frequency\": 77, \"value\": 5903}, \"5904\": {\"frequency\": 20, \"value\": 5904}, \"5905\": {\"frequency\": 152, \"value\": 5905}, \"5906\": {\"frequency\": 124, \"value\": 5906}, \"5907\": {\"frequency\": 48, \"value\": 5907}, \"5908\": {\"frequency\": 206, \"value\": 5908}, \"5909\": {\"frequency\": 29, \"value\": 5909}, \"5910\": {\"frequency\": 130, \"value\": 5910}, \"5911\": {\"frequency\": 171, \"value\": 5911}, \"5912\": {\"frequency\": 125, \"value\": 5912}, \"5913\": {\"frequency\": 77, \"value\": 5913}, \"5914\": {\"frequency\": 35, \"value\": 5914}, \"5915\": {\"frequency\": 286, \"value\": 5915}, \"5916\": {\"frequency\": 704, \"value\": 5916}, \"5917\": {\"frequency\": 230, \"value\": 5917}, \"5918\": {\"frequency\": 23, \"value\": 5918}, \"5919\": {\"frequency\": 32, \"value\": 5919}, \"5920\": {\"frequency\": 143, \"value\": 5920}, \"5921\": {\"frequency\": 46, \"value\": 5921}, \"5922\": {\"frequency\": 231, \"value\": 5922}, \"5923\": {\"frequency\": 35, \"value\": 5923}, \"5924\": {\"frequency\": 154, \"value\": 5924}, \"5925\": {\"frequency\": 197, \"value\": 5925}, \"5926\": {\"frequency\": 63, \"value\": 5926}, \"5927\": {\"frequency\": 216, \"value\": 5927}, \"5928\": {\"frequency\": 48, \"value\": 5928}, \"5929\": {\"frequency\": 108, \"value\": 5929}, \"5930\": {\"frequency\": 94, \"value\": 5930}, \"5931\": {\"frequency\": 77, \"value\": 5931}, \"5932\": {\"frequency\": 24, \"value\": 5932}, \"5933\": {\"frequency\": 41, \"value\": 5933}, \"5934\": {\"frequency\": 30, \"value\": 5934}, \"5935\": {\"frequency\": 36, \"value\": 5935}, \"5936\": {\"frequency\": 36, \"value\": 5936}, \"5937\": {\"frequency\": 102, \"value\": 5937}, \"5938\": {\"frequency\": 190, \"value\": 5938}, \"5939\": {\"frequency\": 111, \"value\": 5939}, \"5940\": {\"frequency\": 46, \"value\": 5940}, \"5941\": {\"frequency\": 32, \"value\": 5941}, \"5942\": {\"frequency\": 174, \"value\": 5942}, \"5943\": {\"frequency\": 65, \"value\": 5943}, \"5944\": {\"frequency\": 30, \"value\": 5944}, \"5945\": {\"frequency\": 34, \"value\": 5945}, \"5946\": {\"frequency\": 93, \"value\": 5946}, \"5947\": {\"frequency\": 142, \"value\": 5947}, \"5948\": {\"frequency\": 398, \"value\": 5948}, \"5949\": {\"frequency\": 181, \"value\": 5949}, \"5950\": {\"frequency\": 435, \"value\": 5950}, \"5951\": {\"frequency\": 53, \"value\": 5951}, \"5952\": {\"frequency\": 129, \"value\": 5952}, \"5953\": {\"frequency\": 91, \"value\": 5953}, \"5954\": {\"frequency\": 1000, \"value\": 5954}, \"5955\": {\"frequency\": 378, \"value\": 5955}, \"5956\": {\"frequency\": 293, \"value\": 5956}, \"5957\": {\"frequency\": 239, \"value\": 5957}, \"5958\": {\"frequency\": 112, \"value\": 5958}, \"5959\": {\"frequency\": 70, \"value\": 5959}, \"5960\": {\"frequency\": 190, \"value\": 5960}, \"5961\": {\"frequency\": 308, \"value\": 5961}, \"5962\": {\"frequency\": 25, \"value\": 5962}, \"5963\": {\"frequency\": 187, \"value\": 5963}, \"5964\": {\"frequency\": 549, \"value\": 5964}, \"5965\": {\"frequency\": 38, \"value\": 5965}, \"5966\": {\"frequency\": 65, \"value\": 5966}, \"5967\": {\"frequency\": 22, \"value\": 5967}, \"5968\": {\"frequency\": 33, \"value\": 5968}, \"5969\": {\"frequency\": 91, \"value\": 5969}, \"5970\": {\"frequency\": 45, \"value\": 5970}, \"5971\": {\"frequency\": 163, \"value\": 5971}, \"5972\": {\"frequency\": 437, \"value\": 5972}, \"5973\": {\"frequency\": 36, \"value\": 5973}, \"5974\": {\"frequency\": 233, \"value\": 5974}, \"5975\": {\"frequency\": 54, \"value\": 5975}, \"5976\": {\"frequency\": 126, \"value\": 5976}, \"5977\": {\"frequency\": 51, \"value\": 5977}, \"5978\": {\"frequency\": 399, \"value\": 5978}, \"5979\": {\"frequency\": 33, \"value\": 5979}, \"5980\": {\"frequency\": 212, \"value\": 5980}, \"5981\": {\"frequency\": 280, \"value\": 5981}, \"5982\": {\"frequency\": 127, \"value\": 5982}, \"5983\": {\"frequency\": 28, \"value\": 5983}, \"5984\": {\"frequency\": 30, \"value\": 5984}, \"5985\": {\"frequency\": 99, \"value\": 5985}, \"5986\": {\"frequency\": 120, \"value\": 5986}, \"5987\": {\"frequency\": 59, \"value\": 5987}, \"5988\": {\"frequency\": 79, \"value\": 5988}, \"5989\": {\"frequency\": 77, \"value\": 5989}, \"5990\": {\"frequency\": 286, \"value\": 5990}, \"5991\": {\"frequency\": 85, \"value\": 5991}, \"5992\": {\"frequency\": 67, \"value\": 5992}, \"5993\": {\"frequency\": 30, \"value\": 5993}, \"5994\": {\"frequency\": 78, \"value\": 5994}, \"5995\": {\"frequency\": 186, \"value\": 5995}, \"5996\": {\"frequency\": 591, \"value\": 5996}, \"5997\": {\"frequency\": 57, \"value\": 5997}, \"5998\": {\"frequency\": 158, \"value\": 5998}, \"5999\": {\"frequency\": 27, \"value\": 5999}, \"6000\": {\"frequency\": 506, \"value\": 6000}, \"6001\": {\"frequency\": 234, \"value\": 6001}, \"6002\": {\"frequency\": 335, \"value\": 6002}, \"6003\": {\"frequency\": 254, \"value\": 6003}, \"6004\": {\"frequency\": 57, \"value\": 6004}, \"6005\": {\"frequency\": 88, \"value\": 6005}, \"6006\": {\"frequency\": 124, \"value\": 6006}, \"6007\": {\"frequency\": 326, \"value\": 6007}, \"6008\": {\"frequency\": 35, \"value\": 6008}, \"6009\": {\"frequency\": 64, \"value\": 6009}, \"6010\": {\"frequency\": 317, \"value\": 6010}, \"6011\": {\"frequency\": 197, \"value\": 6011}, \"6012\": {\"frequency\": 23, \"value\": 6012}, \"6013\": {\"frequency\": 124, \"value\": 6013}, \"6014\": {\"frequency\": 106, \"value\": 6014}, \"6015\": {\"frequency\": 57, \"value\": 6015}, \"6016\": {\"frequency\": 909, \"value\": 6016}, \"6017\": {\"frequency\": 33, \"value\": 6017}, \"6018\": {\"frequency\": 159, \"value\": 6018}, \"6019\": {\"frequency\": 89, \"value\": 6019}, \"6020\": {\"frequency\": 43, \"value\": 6020}, \"6021\": {\"frequency\": 132, \"value\": 6021}, \"6022\": {\"frequency\": 48, \"value\": 6022}, \"6023\": {\"frequency\": 147, \"value\": 6023}, \"6024\": {\"frequency\": 95, \"value\": 6024}, \"6025\": {\"frequency\": 271, \"value\": 6025}, \"6026\": {\"frequency\": 81, \"value\": 6026}, \"6027\": {\"frequency\": 36, \"value\": 6027}, \"6028\": {\"frequency\": 47, \"value\": 6028}, \"6029\": {\"frequency\": 31, \"value\": 6029}, \"6030\": {\"frequency\": 115, \"value\": 6030}, \"6031\": {\"frequency\": 51, \"value\": 6031}, \"6032\": {\"frequency\": 104, \"value\": 6032}, \"6033\": {\"frequency\": 60, \"value\": 6033}, \"6034\": {\"frequency\": 21, \"value\": 6034}, \"6035\": {\"frequency\": 280, \"value\": 6035}, \"6036\": {\"frequency\": 888, \"value\": 6036}, \"6037\": {\"frequency\": 202, \"value\": 6037}, \"6038\": {\"frequency\": 20, \"value\": 6038}, \"6039\": {\"frequency\": 123, \"value\": 6039}, \"6040\": {\"frequency\": 341, \"value\": 6040}}, \"mean\": 3024.5123479192853}, \"movie_id\": {\"std\": 1096.0401415512847, \"complete\": true, \"min\": 1.0, \"max\": 3952.0, \"quantile\": [1.0, 21.0, 41.0, 85.0, 141.0, 173.0, 224.0, 261.0, 300.0, 338.0, 358.0, 382.0, 442.0, 480.0, 520.0, 543.0, 589.0, 597.0, 662.0, 745.0, 800.0, 879.0, 912.0, 924.0, 973.0, 1029.0, 1073.0, 1092.0, 1125.0, 1179.0, 1197.0, 1207.0, 1215.0, 1228.0, 1245.0, 1259.0, 1270.0, 1286.0, 1302.0, 1345.0, 1374.0, 1391.0, 1422.0, 1500.0, 1566.0, 1597.0, 1627.0, 1673.0, 1704.0, 1753.0, 1835.0, 1911.0, 1948.0, 1965.0, 2000.0, 2018.0, 2052.0, 2082.0, 2112.0, 2143.0, 2175.0, 2259.0, 2300.0, 2335.0, 2369.0, 2396.0, 2420.0, 2455.0, 2504.0, 2553.0, 2600.0, 2642.0, 2688.0, 2710.0, 2731.0, 2772.0, 2804.0, 2861.0, 2912.0, 2947.0, 2986.0, 3016.0, 3061.0, 3098.0, 3145.0, 3176.0, 3243.0, 3262.0, 3330.0, 3386.0, 3431.0, 3477.0, 3514.0, 3552.0, 3617.0, 3679.0, 3704.0, 3753.0, 3801.0, 3871.0, 3952.0], \"median\": 1835.0, \"numeric\": true, \"num_unique\": 3704, \"num_undefined\": 0, \"var\": 1201303.9918917601, \"progress\": 1.0, \"size\": 1000209, \"frequent_items\": {\"1\": {\"frequency\": 2077, \"value\": 1}, \"2\": {\"frequency\": 701, \"value\": 2}, \"3\": {\"frequency\": 478, \"value\": 3}, \"4\": {\"frequency\": 170, \"value\": 4}, \"5\": {\"frequency\": 296, \"value\": 5}, \"6\": {\"frequency\": 940, \"value\": 6}, \"7\": {\"frequency\": 458, \"value\": 7}, \"8\": {\"frequency\": 68, \"value\": 8}, \"9\": {\"frequency\": 102, \"value\": 9}, \"10\": {\"frequency\": 888, \"value\": 10}, \"11\": {\"frequency\": 1033, \"value\": 11}, \"12\": {\"frequency\": 160, \"value\": 12}, \"13\": {\"frequency\": 99, \"value\": 13}, \"14\": {\"frequency\": 153, \"value\": 14}, \"15\": {\"frequency\": 146, \"value\": 15}, \"16\": {\"frequency\": 682, \"value\": 16}, \"17\": {\"frequency\": 835, \"value\": 17}, \"18\": {\"frequency\": 157, \"value\": 18}, \"19\": {\"frequency\": 389, \"value\": 19}, \"20\": {\"frequency\": 160, \"value\": 20}, \"21\": {\"frequency\": 1356, \"value\": 21}, \"22\": {\"frequency\": 378, \"value\": 22}, \"23\": {\"frequency\": 126, \"value\": 23}, \"24\": {\"frequency\": 624, \"value\": 24}, \"25\": {\"frequency\": 980, \"value\": 25}, \"26\": {\"frequency\": 100, \"value\": 26}, \"27\": {\"frequency\": 61, \"value\": 27}, \"28\": {\"frequency\": 179, \"value\": 28}, \"29\": {\"frequency\": 403, \"value\": 29}, \"30\": {\"frequency\": 74, \"value\": 30}, \"31\": {\"frequency\": 141, \"value\": 31}, \"32\": {\"frequency\": 1511, \"value\": 32}, \"33\": {\"frequency\": 4, \"value\": 33}, \"34\": {\"frequency\": 1751, \"value\": 34}, \"35\": {\"frequency\": 70, \"value\": 35}, \"36\": {\"frequency\": 928, \"value\": 36}, \"37\": {\"frequency\": 8, \"value\": 37}, \"38\": {\"frequency\": 28, \"value\": 38}, \"39\": {\"frequency\": 1362, \"value\": 39}, \"40\": {\"frequency\": 30, \"value\": 40}, \"41\": {\"frequency\": 242, \"value\": 41}, \"42\": {\"frequency\": 221, \"value\": 42}, \"43\": {\"frequency\": 166, \"value\": 43}, \"44\": {\"frequency\": 311, \"value\": 44}, \"45\": {\"frequency\": 544, \"value\": 45}, \"46\": {\"frequency\": 166, \"value\": 46}, \"47\": {\"frequency\": 1137, \"value\": 47}, \"48\": {\"frequency\": 382, \"value\": 48}, \"49\": {\"frequency\": 27, \"value\": 49}, \"50\": {\"frequency\": 1783, \"value\": 50}, \"52\": {\"frequency\": 431, \"value\": 52}, \"53\": {\"frequency\": 8, \"value\": 53}, \"54\": {\"frequency\": 41, \"value\": 54}, \"55\": {\"frequency\": 45, \"value\": 55}, \"56\": {\"frequency\": 9, \"value\": 56}, \"57\": {\"frequency\": 99, \"value\": 57}, \"58\": {\"frequency\": 501, \"value\": 58}, \"59\": {\"frequency\": 8, \"value\": 59}, \"60\": {\"frequency\": 357, \"value\": 60}, \"61\": {\"frequency\": 67, \"value\": 61}, \"62\": {\"frequency\": 541, \"value\": 62}, \"63\": {\"frequency\": 111, \"value\": 63}, \"64\": {\"frequency\": 79, \"value\": 64}, \"65\": {\"frequency\": 143, \"value\": 65}, \"66\": {\"frequency\": 97, \"value\": 66}, \"67\": {\"frequency\": 4, \"value\": 67}, \"68\": {\"frequency\": 60, \"value\": 68}, \"69\": {\"frequency\": 319, \"value\": 69}, \"70\": {\"frequency\": 914, \"value\": 70}, \"71\": {\"frequency\": 96, \"value\": 71}, \"72\": {\"frequency\": 93, \"value\": 72}, \"73\": {\"frequency\": 224, \"value\": 73}, \"74\": {\"frequency\": 120, \"value\": 74}, \"75\": {\"frequency\": 12, \"value\": 75}, \"76\": {\"frequency\": 178, \"value\": 76}, \"77\": {\"frequency\": 34, \"value\": 77}, \"78\": {\"frequency\": 50, \"value\": 78}, \"79\": {\"frequency\": 114, \"value\": 79}, \"80\": {\"frequency\": 52, \"value\": 80}, \"81\": {\"frequency\": 166, \"value\": 81}, \"82\": {\"frequency\": 89, \"value\": 82}, \"83\": {\"frequency\": 33, \"value\": 83}, \"84\": {\"frequency\": 21, \"value\": 84}, \"85\": {\"frequency\": 194, \"value\": 85}, \"86\": {\"frequency\": 236, \"value\": 86}, \"87\": {\"frequency\": 76, \"value\": 87}, \"88\": {\"frequency\": 192, \"value\": 88}, \"89\": {\"frequency\": 229, \"value\": 89}, \"90\": {\"frequency\": 6, \"value\": 90}, \"92\": {\"frequency\": 88, \"value\": 92}, \"93\": {\"frequency\": 89, \"value\": 93}, \"94\": {\"frequency\": 182, \"value\": 94}, \"95\": {\"frequency\": 638, \"value\": 95}, \"96\": {\"frequency\": 13, \"value\": 96}, \"97\": {\"frequency\": 44, \"value\": 97}, \"98\": {\"frequency\": 6, \"value\": 98}, \"99\": {\"frequency\": 50, \"value\": 99}, \"100\": {\"frequency\": 128, \"value\": 100}, \"101\": {\"frequency\": 253, \"value\": 101}, \"102\": {\"frequency\": 60, \"value\": 102}, \"103\": {\"frequency\": 33, \"value\": 103}, \"104\": {\"frequency\": 682, \"value\": 104}, \"105\": {\"frequency\": 387, \"value\": 105}, \"106\": {\"frequency\": 12, \"value\": 106}, \"107\": {\"frequency\": 256, \"value\": 107}, \"108\": {\"frequency\": 7, \"value\": 108}, \"110\": {\"frequency\": 2443, \"value\": 110}, \"111\": {\"frequency\": 1240, \"value\": 111}, \"112\": {\"frequency\": 570, \"value\": 112}, \"113\": {\"frequency\": 53, \"value\": 113}, \"114\": {\"frequency\": 11, \"value\": 114}, \"116\": {\"frequency\": 41, \"value\": 116}, \"117\": {\"frequency\": 79, \"value\": 117}, \"118\": {\"frequency\": 68, \"value\": 118}, \"119\": {\"frequency\": 13, \"value\": 119}, \"120\": {\"frequency\": 3, \"value\": 120}, \"121\": {\"frequency\": 37, \"value\": 121}, \"122\": {\"frequency\": 194, \"value\": 122}, \"123\": {\"frequency\": 115, \"value\": 123}, \"124\": {\"frequency\": 14, \"value\": 124}, \"125\": {\"frequency\": 318, \"value\": 125}, \"126\": {\"frequency\": 99, \"value\": 126}, \"127\": {\"frequency\": 1, \"value\": 127}, \"128\": {\"frequency\": 12, \"value\": 128}, \"129\": {\"frequency\": 13, \"value\": 129}, \"130\": {\"frequency\": 2, \"value\": 130}, \"131\": {\"frequency\": 16, \"value\": 131}, \"132\": {\"frequency\": 91, \"value\": 132}, \"133\": {\"frequency\": 1, \"value\": 133}, \"134\": {\"frequency\": 2, \"value\": 134}, \"135\": {\"frequency\": 133, \"value\": 135}, \"136\": {\"frequency\": 8, \"value\": 136}, \"137\": {\"frequency\": 13, \"value\": 137}, \"138\": {\"frequency\": 2, \"value\": 138}, \"139\": {\"frequency\": 1, \"value\": 139}, \"140\": {\"frequency\": 139, \"value\": 140}, \"141\": {\"frequency\": 682, \"value\": 141}, \"142\": {\"frequency\": 1, \"value\": 142}, \"144\": {\"frequency\": 433, \"value\": 144}, \"145\": {\"frequency\": 362, \"value\": 145}, \"146\": {\"frequency\": 18, \"value\": 146}, \"147\": {\"frequency\": 181, \"value\": 147}, \"148\": {\"frequency\": 23, \"value\": 148}, \"149\": {\"frequency\": 47, \"value\": 149}, \"150\": {\"frequency\": 1251, \"value\": 150}, \"151\": {\"frequency\": 554, \"value\": 151}, \"152\": {\"frequency\": 69, \"value\": 152}, \"153\": {\"frequency\": 777, \"value\": 153}, \"154\": {\"frequency\": 168, \"value\": 154}, \"155\": {\"frequency\": 87, \"value\": 155}, \"156\": {\"frequency\": 66, \"value\": 156}, \"157\": {\"frequency\": 187, \"value\": 157}, \"158\": {\"frequency\": 259, \"value\": 158}, \"159\": {\"frequency\": 116, \"value\": 159}, \"160\": {\"frequency\": 565, \"value\": 160}, \"161\": {\"frequency\": 760, \"value\": 161}, \"162\": {\"frequency\": 491, \"value\": 162}, \"163\": {\"frequency\": 540, \"value\": 163}, \"164\": {\"frequency\": 379, \"value\": 164}, \"165\": {\"frequency\": 825, \"value\": 165}, \"166\": {\"frequency\": 61, \"value\": 166}, \"167\": {\"frequency\": 5, \"value\": 167}, \"168\": {\"frequency\": 362, \"value\": 168}, \"169\": {\"frequency\": 113, \"value\": 169}, \"170\": {\"frequency\": 321, \"value\": 170}, \"171\": {\"frequency\": 93, \"value\": 171}, \"172\": {\"frequency\": 458, \"value\": 172}, \"173\": {\"frequency\": 564, \"value\": 173}, \"174\": {\"frequency\": 81, \"value\": 174}, \"175\": {\"frequency\": 220, \"value\": 175}, \"176\": {\"frequency\": 205, \"value\": 176}, \"177\": {\"frequency\": 139, \"value\": 177}, \"178\": {\"frequency\": 19, \"value\": 178}, \"179\": {\"frequency\": 48, \"value\": 179}, \"180\": {\"frequency\": 451, \"value\": 180}, \"181\": {\"frequency\": 93, \"value\": 181}, \"182\": {\"frequency\": 49, \"value\": 182}, \"183\": {\"frequency\": 29, \"value\": 183}, \"184\": {\"frequency\": 26, \"value\": 184}, \"185\": {\"frequency\": 569, \"value\": 185}, \"186\": {\"frequency\": 211, \"value\": 186}, \"187\": {\"frequency\": 105, \"value\": 187}, \"188\": {\"frequency\": 190, \"value\": 188}, \"189\": {\"frequency\": 15, \"value\": 189}, \"190\": {\"frequency\": 100, \"value\": 190}, \"191\": {\"frequency\": 75, \"value\": 191}, \"192\": {\"frequency\": 2, \"value\": 192}, \"193\": {\"frequency\": 217, \"value\": 193}, \"194\": {\"frequency\": 213, \"value\": 194}, \"195\": {\"frequency\": 164, \"value\": 195}, \"196\": {\"frequency\": 550, \"value\": 196}, \"197\": {\"frequency\": 17, \"value\": 197}, \"198\": {\"frequency\": 605, \"value\": 198}, \"199\": {\"frequency\": 117, \"value\": 199}, \"200\": {\"frequency\": 12, \"value\": 200}, \"201\": {\"frequency\": 33, \"value\": 201}, \"202\": {\"frequency\": 30, \"value\": 202}, \"203\": {\"frequency\": 203, \"value\": 203}, \"204\": {\"frequency\": 203, \"value\": 204}, \"205\": {\"frequency\": 85, \"value\": 205}, \"206\": {\"frequency\": 82, \"value\": 206}, \"207\": {\"frequency\": 219, \"value\": 207}, \"208\": {\"frequency\": 651, \"value\": 208}, \"209\": {\"frequency\": 52, \"value\": 209}, \"210\": {\"frequency\": 41, \"value\": 210}, \"211\": {\"frequency\": 34, \"value\": 211}, \"212\": {\"frequency\": 14, \"value\": 212}, \"213\": {\"frequency\": 123, \"value\": 213}, \"214\": {\"frequency\": 28, \"value\": 214}, \"215\": {\"frequency\": 160, \"value\": 215}, \"216\": {\"frequency\": 355, \"value\": 216}, \"217\": {\"frequency\": 64, \"value\": 217}, \"218\": {\"frequency\": 195, \"value\": 218}, \"219\": {\"frequency\": 22, \"value\": 219}, \"220\": {\"frequency\": 28, \"value\": 220}, \"222\": {\"frequency\": 329, \"value\": 222}, \"223\": {\"frequency\": 1412, \"value\": 223}, \"224\": {\"frequency\": 386, \"value\": 224}, \"225\": {\"frequency\": 254, \"value\": 225}, \"226\": {\"frequency\": 1, \"value\": 226}, \"227\": {\"frequency\": 129, \"value\": 227}, \"228\": {\"frequency\": 13, \"value\": 228}, \"229\": {\"frequency\": 108, \"value\": 229}, \"230\": {\"frequency\": 349, \"value\": 230}, \"231\": {\"frequency\": 660, \"value\": 231}, \"232\": {\"frequency\": 346, \"value\": 232}, \"233\": {\"frequency\": 235, \"value\": 233}, \"234\": {\"frequency\": 147, \"value\": 234}, \"235\": {\"frequency\": 927, \"value\": 235}, \"236\": {\"frequency\": 326, \"value\": 236}, \"237\": {\"frequency\": 257, \"value\": 237}, \"238\": {\"frequency\": 32, \"value\": 238}, \"239\": {\"frequency\": 168, \"value\": 239}, \"240\": {\"frequency\": 45, \"value\": 240}, \"241\": {\"frequency\": 29, \"value\": 241}, \"242\": {\"frequency\": 80, \"value\": 242}, \"243\": {\"frequency\": 10, \"value\": 243}, \"244\": {\"frequency\": 10, \"value\": 244}, \"245\": {\"frequency\": 11, \"value\": 245}, \"246\": {\"frequency\": 716, \"value\": 246}, \"247\": {\"frequency\": 477, \"value\": 247}, \"248\": {\"frequency\": 138, \"value\": 248}, \"249\": {\"frequency\": 261, \"value\": 249}, \"250\": {\"frequency\": 30, \"value\": 250}, \"251\": {\"frequency\": 18, \"value\": 251}, \"252\": {\"frequency\": 367, \"value\": 252}, \"253\": {\"frequency\": 738, \"value\": 253}, \"254\": {\"frequency\": 38, \"value\": 254}, \"255\": {\"frequency\": 66, \"value\": 255}, \"256\": {\"frequency\": 218, \"value\": 256}, \"257\": {\"frequency\": 114, \"value\": 257}, \"258\": {\"frequency\": 144, \"value\": 258}, \"259\": {\"frequency\": 102, \"value\": 259}, \"260\": {\"frequency\": 2991, \"value\": 260}, \"261\": {\"frequency\": 285, \"value\": 261}, \"262\": {\"frequency\": 172, \"value\": 262}, \"263\": {\"frequency\": 28, \"value\": 263}, \"264\": {\"frequency\": 5, \"value\": 264}, \"265\": {\"frequency\": 772, \"value\": 265}, \"266\": {\"frequency\": 705, \"value\": 266}, \"267\": {\"frequency\": 140, \"value\": 267}, \"268\": {\"frequency\": 54, \"value\": 268}, \"269\": {\"frequency\": 55, \"value\": 269}, \"270\": {\"frequency\": 79, \"value\": 270}, \"271\": {\"frequency\": 63, \"value\": 271}, \"272\": {\"frequency\": 383, \"value\": 272}, \"273\": {\"frequency\": 244, \"value\": 273}, \"274\": {\"frequency\": 24, \"value\": 274}, \"275\": {\"frequency\": 80, \"value\": 275}, \"276\": {\"frequency\": 228, \"value\": 276}, \"277\": {\"frequency\": 170, \"value\": 277}, \"278\": {\"frequency\": 40, \"value\": 278}, \"279\": {\"frequency\": 46, \"value\": 279}, \"280\": {\"frequency\": 212, \"value\": 280}, \"281\": {\"frequency\": 233, \"value\": 281}, \"282\": {\"frequency\": 215, \"value\": 282}, \"283\": {\"frequency\": 18, \"value\": 283}, \"286\": {\"frequency\": 1, \"value\": 286}, \"287\": {\"frequency\": 21, \"value\": 287}, \"288\": {\"frequency\": 700, \"value\": 288}, \"289\": {\"frequency\": 158, \"value\": 289}, \"290\": {\"frequency\": 168, \"value\": 290}, \"291\": {\"frequency\": 48, \"value\": 291}, \"292\": {\"frequency\": 733, \"value\": 292}, \"293\": {\"frequency\": 923, \"value\": 293}, \"294\": {\"frequency\": 42, \"value\": 294}, \"295\": {\"frequency\": 29, \"value\": 295}, \"296\": {\"frequency\": 2171, \"value\": 296}, \"297\": {\"frequency\": 28, \"value\": 297}, \"298\": {\"frequency\": 23, \"value\": 298}, \"299\": {\"frequency\": 143, \"value\": 299}, \"300\": {\"frequency\": 705, \"value\": 300}, \"301\": {\"frequency\": 43, \"value\": 301}, \"302\": {\"frequency\": 86, \"value\": 302}, \"303\": {\"frequency\": 418, \"value\": 303}, \"304\": {\"frequency\": 35, \"value\": 304}, \"305\": {\"frequency\": 127, \"value\": 305}, \"306\": {\"frequency\": 334, \"value\": 306}, \"307\": {\"frequency\": 243, \"value\": 307}, \"308\": {\"frequency\": 202, \"value\": 308}, \"309\": {\"frequency\": 48, \"value\": 309}, \"310\": {\"frequency\": 6, \"value\": 310}, \"311\": {\"frequency\": 1, \"value\": 311}, \"312\": {\"frequency\": 112, \"value\": 312}, \"313\": {\"frequency\": 54, \"value\": 313}, \"314\": {\"frequency\": 300, \"value\": 314}, \"315\": {\"frequency\": 153, \"value\": 315}, \"316\": {\"frequency\": 1116, \"value\": 316}, \"317\": {\"frequency\": 641, \"value\": 317}, \"318\": {\"frequency\": 2227, \"value\": 318}, \"319\": {\"frequency\": 273, \"value\": 319}, \"320\": {\"frequency\": 32, \"value\": 320}, \"321\": {\"frequency\": 61, \"value\": 321}, \"322\": {\"frequency\": 209, \"value\": 322}, \"324\": {\"frequency\": 33, \"value\": 324}, \"325\": {\"frequency\": 49, \"value\": 325}, \"326\": {\"frequency\": 61, \"value\": 326}, \"327\": {\"frequency\": 358, \"value\": 327}, \"328\": {\"frequency\": 144, \"value\": 328}, \"329\": {\"frequency\": 990, \"value\": 329}, \"330\": {\"frequency\": 149, \"value\": 330}, \"331\": {\"frequency\": 21, \"value\": 331}, \"332\": {\"frequency\": 161, \"value\": 332}, \"333\": {\"frequency\": 410, \"value\": 333}, \"334\": {\"frequency\": 114, \"value\": 334}, \"335\": {\"frequency\": 41, \"value\": 335}, \"336\": {\"frequency\": 19, \"value\": 336}, \"337\": {\"frequency\": 693, \"value\": 337}, \"338\": {\"frequency\": 221, \"value\": 338}, \"339\": {\"frequency\": 673, \"value\": 339}, \"340\": {\"frequency\": 84, \"value\": 340}, \"341\": {\"frequency\": 31, \"value\": 341}, \"342\": {\"frequency\": 518, \"value\": 342}, \"343\": {\"frequency\": 42, \"value\": 343}, \"344\": {\"frequency\": 766, \"value\": 344}, \"345\": {\"frequency\": 469, \"value\": 345}, \"346\": {\"frequency\": 120, \"value\": 346}, \"347\": {\"frequency\": 46, \"value\": 347}, \"348\": {\"frequency\": 455, \"value\": 348}, \"349\": {\"frequency\": 1059, \"value\": 349}, \"350\": {\"frequency\": 515, \"value\": 350}, \"351\": {\"frequency\": 257, \"value\": 351}, \"352\": {\"frequency\": 119, \"value\": 352}, \"353\": {\"frequency\": 734, \"value\": 353}, \"354\": {\"frequency\": 67, \"value\": 354}, \"355\": {\"frequency\": 267, \"value\": 355}, \"356\": {\"frequency\": 2194, \"value\": 356}, \"357\": {\"frequency\": 1233, \"value\": 357}, \"358\": {\"frequency\": 141, \"value\": 358}, \"359\": {\"frequency\": 19, \"value\": 359}, \"360\": {\"frequency\": 127, \"value\": 360}, \"361\": {\"frequency\": 268, \"value\": 361}, \"362\": {\"frequency\": 239, \"value\": 362}, \"363\": {\"frequency\": 62, \"value\": 363}, \"364\": {\"frequency\": 1121, \"value\": 364}, \"365\": {\"frequency\": 71, \"value\": 365}, \"366\": {\"frequency\": 251, \"value\": 366}, \"367\": {\"frequency\": 1179, \"value\": 367}, \"368\": {\"frequency\": 802, \"value\": 368}, \"369\": {\"frequency\": 58, \"value\": 369}, \"370\": {\"frequency\": 412, \"value\": 370}, \"371\": {\"frequency\": 212, \"value\": 371}, \"372\": {\"frequency\": 428, \"value\": 372}, \"373\": {\"frequency\": 258, \"value\": 373}, \"374\": {\"frequency\": 183, \"value\": 374}, \"375\": {\"frequency\": 17, \"value\": 375}, \"376\": {\"frequency\": 350, \"value\": 376}, \"377\": {\"frequency\": 1650, \"value\": 377}, \"378\": {\"frequency\": 140, \"value\": 378}, \"379\": {\"frequency\": 436, \"value\": 379}, \"380\": {\"frequency\": 1400, \"value\": 380}, \"381\": {\"frequency\": 211, \"value\": 381}, \"382\": {\"frequency\": 272, \"value\": 382}, \"383\": {\"frequency\": 270, \"value\": 383}, \"384\": {\"frequency\": 40, \"value\": 384}, \"385\": {\"frequency\": 10, \"value\": 385}, \"386\": {\"frequency\": 30, \"value\": 386}, \"387\": {\"frequency\": 102, \"value\": 387}, \"388\": {\"frequency\": 97, \"value\": 388}, \"389\": {\"frequency\": 20, \"value\": 389}, \"390\": {\"frequency\": 59, \"value\": 390}, \"391\": {\"frequency\": 40, \"value\": 391}, \"392\": {\"frequency\": 25, \"value\": 392}, \"393\": {\"frequency\": 105, \"value\": 393}, \"394\": {\"frequency\": 18, \"value\": 394}, \"396\": {\"frequency\": 1, \"value\": 396}, \"397\": {\"frequency\": 12, \"value\": 397}, \"398\": {\"frequency\": 1, \"value\": 398}, \"401\": {\"frequency\": 2, \"value\": 401}, \"402\": {\"frequency\": 1, \"value\": 402}, \"404\": {\"frequency\": 4, \"value\": 404}, \"405\": {\"frequency\": 203, \"value\": 405}, \"406\": {\"frequency\": 8, \"value\": 406}, \"407\": {\"frequency\": 193, \"value\": 407}, \"408\": {\"frequency\": 72, \"value\": 408}, \"409\": {\"frequency\": 49, \"value\": 409}, \"410\": {\"frequency\": 463, \"value\": 410}, \"411\": {\"frequency\": 13, \"value\": 411}, \"412\": {\"frequency\": 295, \"value\": 412}, \"413\": {\"frequency\": 245, \"value\": 413}, \"414\": {\"frequency\": 90, \"value\": 414}, \"415\": {\"frequency\": 179, \"value\": 415}, \"416\": {\"frequency\": 89, \"value\": 416}, \"417\": {\"frequency\": 208, \"value\": 417}, \"418\": {\"frequency\": 29, \"value\": 418}, \"419\": {\"frequency\": 156, \"value\": 419}, \"420\": {\"frequency\": 352, \"value\": 420}, \"421\": {\"frequency\": 94, \"value\": 421}, \"422\": {\"frequency\": 57, \"value\": 422}, \"423\": {\"frequency\": 221, \"value\": 423}, \"424\": {\"frequency\": 75, \"value\": 424}, \"425\": {\"frequency\": 105, \"value\": 425}, \"426\": {\"frequency\": 269, \"value\": 426}, \"427\": {\"frequency\": 166, \"value\": 427}, \"428\": {\"frequency\": 263, \"value\": 428}, \"429\": {\"frequency\": 187, \"value\": 429}, \"430\": {\"frequency\": 24, \"value\": 430}, \"431\": {\"frequency\": 369, \"value\": 431}, \"432\": {\"frequency\": 392, \"value\": 432}, \"433\": {\"frequency\": 48, \"value\": 433}, \"434\": {\"frequency\": 686, \"value\": 434}, \"435\": {\"frequency\": 533, \"value\": 435}, \"436\": {\"frequency\": 141, \"value\": 436}, \"437\": {\"frequency\": 64, \"value\": 437}, \"438\": {\"frequency\": 152, \"value\": 438}, \"439\": {\"frequency\": 2, \"value\": 439}, \"440\": {\"frequency\": 948, \"value\": 440}, \"441\": {\"frequency\": 643, \"value\": 441}, \"442\": {\"frequency\": 640, \"value\": 442}, \"443\": {\"frequency\": 31, \"value\": 443}, \"444\": {\"frequency\": 81, \"value\": 444}, \"445\": {\"frequency\": 100, \"value\": 445}, \"446\": {\"frequency\": 254, \"value\": 446}, \"447\": {\"frequency\": 31, \"value\": 447}, \"448\": {\"frequency\": 228, \"value\": 448}, \"449\": {\"frequency\": 71, \"value\": 449}, \"450\": {\"frequency\": 228, \"value\": 450}, \"451\": {\"frequency\": 106, \"value\": 451}, \"452\": {\"frequency\": 38, \"value\": 452}, \"453\": {\"frequency\": 67, \"value\": 453}, \"454\": {\"frequency\": 824, \"value\": 454}, \"455\": {\"frequency\": 285, \"value\": 455}, \"456\": {\"frequency\": 93, \"value\": 456}, \"457\": {\"frequency\": 1995, \"value\": 457}, \"458\": {\"frequency\": 87, \"value\": 458}, \"459\": {\"frequency\": 143, \"value\": 459}, \"460\": {\"frequency\": 38, \"value\": 460}, \"461\": {\"frequency\": 86, \"value\": 461}, \"462\": {\"frequency\": 28, \"value\": 462}, \"463\": {\"frequency\": 47, \"value\": 463}, \"464\": {\"frequency\": 216, \"value\": 464}, \"465\": {\"frequency\": 105, \"value\": 465}, \"466\": {\"frequency\": 573, \"value\": 466}, \"467\": {\"frequency\": 54, \"value\": 467}, \"468\": {\"frequency\": 350, \"value\": 468}, \"469\": {\"frequency\": 69, \"value\": 469}, \"470\": {\"frequency\": 38, \"value\": 470}, \"471\": {\"frequency\": 599, \"value\": 471}, \"472\": {\"frequency\": 44, \"value\": 472}, \"473\": {\"frequency\": 151, \"value\": 473}, \"474\": {\"frequency\": 972, \"value\": 474}, \"475\": {\"frequency\": 312, \"value\": 475}, \"476\": {\"frequency\": 35, \"value\": 476}, \"477\": {\"frequency\": 195, \"value\": 477}, \"478\": {\"frequency\": 24, \"value\": 478}, \"479\": {\"frequency\": 133, \"value\": 479}, \"480\": {\"frequency\": 2672, \"value\": 480}, \"481\": {\"frequency\": 294, \"value\": 481}, \"482\": {\"frequency\": 176, \"value\": 482}, \"483\": {\"frequency\": 74, \"value\": 483}, \"484\": {\"frequency\": 29, \"value\": 484}, \"485\": {\"frequency\": 500, \"value\": 485}, \"486\": {\"frequency\": 64, \"value\": 486}, \"487\": {\"frequency\": 62, \"value\": 487}, \"488\": {\"frequency\": 39, \"value\": 488}, \"489\": {\"frequency\": 97, \"value\": 489}, \"490\": {\"frequency\": 185, \"value\": 490}, \"491\": {\"frequency\": 212, \"value\": 491}, \"492\": {\"frequency\": 335, \"value\": 492}, \"493\": {\"frequency\": 298, \"value\": 493}, \"494\": {\"frequency\": 416, \"value\": 494}, \"495\": {\"frequency\": 42, \"value\": 495}, \"496\": {\"frequency\": 37, \"value\": 496}, \"497\": {\"frequency\": 667, \"value\": 497}, \"498\": {\"frequency\": 47, \"value\": 498}, \"499\": {\"frequency\": 49, \"value\": 499}, \"500\": {\"frequency\": 838, \"value\": 500}, \"501\": {\"frequency\": 94, \"value\": 501}, \"502\": {\"frequency\": 155, \"value\": 502}, \"503\": {\"frequency\": 13, \"value\": 503}, \"504\": {\"frequency\": 178, \"value\": 504}, \"505\": {\"frequency\": 69, \"value\": 505}, \"506\": {\"frequency\": 114, \"value\": 506}, \"507\": {\"frequency\": 308, \"value\": 507}, \"508\": {\"frequency\": 561, \"value\": 508}, \"509\": {\"frequency\": 608, \"value\": 509}, \"510\": {\"frequency\": 42, \"value\": 510}, \"511\": {\"frequency\": 152, \"value\": 511}, \"512\": {\"frequency\": 179, \"value\": 512}, \"513\": {\"frequency\": 67, \"value\": 513}, \"514\": {\"frequency\": 346, \"value\": 514}, \"515\": {\"frequency\": 450, \"value\": 515}, \"516\": {\"frequency\": 248, \"value\": 516}, \"517\": {\"frequency\": 382, \"value\": 517}, \"518\": {\"frequency\": 149, \"value\": 518}, \"519\": {\"frequency\": 202, \"value\": 519}, \"520\": {\"frequency\": 374, \"value\": 520}, \"521\": {\"frequency\": 117, \"value\": 521}, \"522\": {\"frequency\": 83, \"value\": 522}, \"523\": {\"frequency\": 117, \"value\": 523}, \"524\": {\"frequency\": 476, \"value\": 524}, \"525\": {\"frequency\": 21, \"value\": 525}, \"526\": {\"frequency\": 8, \"value\": 526}, \"527\": {\"frequency\": 2304, \"value\": 527}, \"528\": {\"frequency\": 68, \"value\": 528}, \"529\": {\"frequency\": 720, \"value\": 529}, \"530\": {\"frequency\": 2, \"value\": 530}, \"531\": {\"frequency\": 338, \"value\": 531}, \"532\": {\"frequency\": 389, \"value\": 532}, \"533\": {\"frequency\": 203, \"value\": 533}, \"534\": {\"frequency\": 286, \"value\": 534}, \"535\": {\"frequency\": 301, \"value\": 535}, \"536\": {\"frequency\": 55, \"value\": 536}, \"537\": {\"frequency\": 207, \"value\": 537}, \"538\": {\"frequency\": 315, \"value\": 538}, \"539\": {\"frequency\": 986, \"value\": 539}, \"540\": {\"frequency\": 169, \"value\": 540}, \"541\": {\"frequency\": 1800, \"value\": 541}, \"542\": {\"frequency\": 206, \"value\": 542}, \"543\": {\"frequency\": 682, \"value\": 543}, \"544\": {\"frequency\": 129, \"value\": 544}, \"545\": {\"frequency\": 1, \"value\": 545}, \"546\": {\"frequency\": 350, \"value\": 546}, \"547\": {\"frequency\": 124, \"value\": 547}, \"548\": {\"frequency\": 137, \"value\": 548}, \"549\": {\"frequency\": 157, \"value\": 549}, \"550\": {\"frequency\": 178, \"value\": 550}, \"551\": {\"frequency\": 996, \"value\": 551}, \"552\": {\"frequency\": 529, \"value\": 552}, \"553\": {\"frequency\": 553, \"value\": 553}, \"554\": {\"frequency\": 26, \"value\": 554}, \"555\": {\"frequency\": 658, \"value\": 555}, \"556\": {\"frequency\": 132, \"value\": 556}, \"557\": {\"frequency\": 2, \"value\": 557}, \"558\": {\"frequency\": 135, \"value\": 558}, \"559\": {\"frequency\": 5, \"value\": 559}, \"560\": {\"frequency\": 8, \"value\": 560}, \"561\": {\"frequency\": 13, \"value\": 561}, \"562\": {\"frequency\": 478, \"value\": 562}, \"563\": {\"frequency\": 17, \"value\": 563}, \"564\": {\"frequency\": 45, \"value\": 564}, \"565\": {\"frequency\": 61, \"value\": 565}, \"566\": {\"frequency\": 13, \"value\": 566}, \"567\": {\"frequency\": 14, \"value\": 567}, \"568\": {\"frequency\": 35, \"value\": 568}, \"569\": {\"frequency\": 100, \"value\": 569}, \"570\": {\"frequency\": 23, \"value\": 570}, \"571\": {\"frequency\": 34, \"value\": 571}, \"572\": {\"frequency\": 2, \"value\": 572}, \"573\": {\"frequency\": 21, \"value\": 573}, \"574\": {\"frequency\": 175, \"value\": 574}, \"575\": {\"frequency\": 107, \"value\": 575}, \"576\": {\"frequency\": 1, \"value\": 576}, \"577\": {\"frequency\": 55, \"value\": 577}, \"578\": {\"frequency\": 2, \"value\": 578}, \"579\": {\"frequency\": 1, \"value\": 579}, \"580\": {\"frequency\": 62, \"value\": 580}, \"581\": {\"frequency\": 141, \"value\": 581}, \"582\": {\"frequency\": 2, \"value\": 582}, \"583\": {\"frequency\": 28, \"value\": 583}, \"584\": {\"frequency\": 1, \"value\": 584}, \"585\": {\"frequency\": 418, \"value\": 585}, \"586\": {\"frequency\": 675, \"value\": 586}, \"587\": {\"frequency\": 1124, \"value\": 587}, \"588\": {\"frequency\": 1351, \"value\": 588}, \"589\": {\"frequency\": 2649, \"value\": 589}, \"590\": {\"frequency\": 1451, \"value\": 590}, \"591\": {\"frequency\": 2, \"value\": 591}, \"592\": {\"frequency\": 1431, \"value\": 592}, \"593\": {\"frequency\": 2578, \"value\": 593}, \"594\": {\"frequency\": 763, \"value\": 594}, \"595\": {\"frequency\": 1060, \"value\": 595}, \"596\": {\"frequency\": 498, \"value\": 596}, \"597\": {\"frequency\": 1046, \"value\": 597}, \"598\": {\"frequency\": 8, \"value\": 598}, \"599\": {\"frequency\": 264, \"value\": 599}, \"600\": {\"frequency\": 30, \"value\": 600}, \"601\": {\"frequency\": 1, \"value\": 601}, \"602\": {\"frequency\": 41, \"value\": 602}, \"603\": {\"frequency\": 58, \"value\": 603}, \"605\": {\"frequency\": 226, \"value\": 605}, \"606\": {\"frequency\": 93, \"value\": 606}, \"607\": {\"frequency\": 2, \"value\": 607}, \"608\": {\"frequency\": 2513, \"value\": 608}, \"609\": {\"frequency\": 67, \"value\": 609}, \"610\": {\"frequency\": 618, \"value\": 610}, \"611\": {\"frequency\": 216, \"value\": 611}, \"612\": {\"frequency\": 79, \"value\": 612}, \"613\": {\"frequency\": 82, \"value\": 613}, \"614\": {\"frequency\": 9, \"value\": 614}, \"615\": {\"frequency\": 67, \"value\": 615}, \"616\": {\"frequency\": 278, \"value\": 616}, \"617\": {\"frequency\": 17, \"value\": 617}, \"618\": {\"frequency\": 9, \"value\": 618}, \"619\": {\"frequency\": 32, \"value\": 619}, \"621\": {\"frequency\": 42, \"value\": 621}, \"623\": {\"frequency\": 3, \"value\": 623}, \"624\": {\"frequency\": 1, \"value\": 624}, \"626\": {\"frequency\": 19, \"value\": 626}, \"627\": {\"frequency\": 121, \"value\": 627}, \"628\": {\"frequency\": 485, \"value\": 628}, \"630\": {\"frequency\": 7, \"value\": 630}, \"631\": {\"frequency\": 75, \"value\": 631}, \"632\": {\"frequency\": 13, \"value\": 632}, \"633\": {\"frequency\": 20, \"value\": 633}, \"634\": {\"frequency\": 3, \"value\": 634}, \"635\": {\"frequency\": 77, \"value\": 635}, \"637\": {\"frequency\": 140, \"value\": 637}, \"638\": {\"frequency\": 19, \"value\": 638}, \"639\": {\"frequency\": 78, \"value\": 639}, \"640\": {\"frequency\": 71, \"value\": 640}, \"641\": {\"frequency\": 1, \"value\": 641}, \"642\": {\"frequency\": 1, \"value\": 642}, \"643\": {\"frequency\": 3, \"value\": 643}, \"644\": {\"frequency\": 1, \"value\": 644}, \"645\": {\"frequency\": 20, \"value\": 645}, \"647\": {\"frequency\": 441, \"value\": 647}, \"648\": {\"frequency\": 1527, \"value\": 648}, \"649\": {\"frequency\": 16, \"value\": 649}, \"650\": {\"frequency\": 89, \"value\": 650}, \"651\": {\"frequency\": 1, \"value\": 651}, \"652\": {\"frequency\": 9, \"value\": 652}, \"653\": {\"frequency\": 612, \"value\": 653}, \"655\": {\"frequency\": 1, \"value\": 655}, \"656\": {\"frequency\": 39, \"value\": 656}, \"657\": {\"frequency\": 2, \"value\": 657}, \"658\": {\"frequency\": 1, \"value\": 658}, \"659\": {\"frequency\": 25, \"value\": 659}, \"660\": {\"frequency\": 2, \"value\": 660}, \"661\": {\"frequency\": 525, \"value\": 661}, \"662\": {\"frequency\": 128, \"value\": 662}, \"663\": {\"frequency\": 264, \"value\": 663}, \"664\": {\"frequency\": 8, \"value\": 664}, \"665\": {\"frequency\": 35, \"value\": 665}, \"666\": {\"frequency\": 3, \"value\": 666}, \"667\": {\"frequency\": 47, \"value\": 667}, \"668\": {\"frequency\": 47, \"value\": 668}, \"669\": {\"frequency\": 23, \"value\": 669}, \"670\": {\"frequency\": 56, \"value\": 670}, \"671\": {\"frequency\": 456, \"value\": 671}, \"672\": {\"frequency\": 2, \"value\": 672}, \"673\": {\"frequency\": 563, \"value\": 673}, \"674\": {\"frequency\": 386, \"value\": 674}, \"678\": {\"frequency\": 306, \"value\": 678}, \"679\": {\"frequency\": 2, \"value\": 679}, \"680\": {\"frequency\": 64, \"value\": 680}, \"681\": {\"frequency\": 15, \"value\": 681}, \"682\": {\"frequency\": 4, \"value\": 682}, \"684\": {\"frequency\": 1, \"value\": 684}, \"685\": {\"frequency\": 30, \"value\": 685}, \"687\": {\"frequency\": 3, \"value\": 687}, \"688\": {\"frequency\": 213, \"value\": 688}, \"690\": {\"frequency\": 2, \"value\": 690}, \"691\": {\"frequency\": 121, \"value\": 691}, \"692\": {\"frequency\": 106, \"value\": 692}, \"694\": {\"frequency\": 141, \"value\": 694}, \"695\": {\"frequency\": 135, \"value\": 695}, \"696\": {\"frequency\": 4, \"value\": 696}, \"697\": {\"frequency\": 85, \"value\": 697}, \"698\": {\"frequency\": 5, \"value\": 698}, \"700\": {\"frequency\": 145, \"value\": 700}, \"701\": {\"frequency\": 1, \"value\": 701}, \"702\": {\"frequency\": 27, \"value\": 702}, \"703\": {\"frequency\": 10, \"value\": 703}, \"704\": {\"frequency\": 42, \"value\": 704}, \"705\": {\"frequency\": 36, \"value\": 705}, \"706\": {\"frequency\": 2, \"value\": 706}, \"707\": {\"frequency\": 275, \"value\": 707}, \"708\": {\"frequency\": 679, \"value\": 708}, \"709\": {\"frequency\": 144, \"value\": 709}, \"710\": {\"frequency\": 51, \"value\": 710}, \"711\": {\"frequency\": 62, \"value\": 711}, \"712\": {\"frequency\": 2, \"value\": 712}, \"714\": {\"frequency\": 153, \"value\": 714}, \"715\": {\"frequency\": 52, \"value\": 715}, \"716\": {\"frequency\": 28, \"value\": 716}, \"717\": {\"frequency\": 1, \"value\": 717}, \"718\": {\"frequency\": 33, \"value\": 718}, \"719\": {\"frequency\": 239, \"value\": 719}, \"720\": {\"frequency\": 438, \"value\": 720}, \"722\": {\"frequency\": 27, \"value\": 722}, \"724\": {\"frequency\": 416, \"value\": 724}, \"725\": {\"frequency\": 91, \"value\": 725}, \"726\": {\"frequency\": 9, \"value\": 726}, \"728\": {\"frequency\": 217, \"value\": 728}, \"729\": {\"frequency\": 3, \"value\": 729}, \"730\": {\"frequency\": 1, \"value\": 730}, \"731\": {\"frequency\": 47, \"value\": 731}, \"732\": {\"frequency\": 6, \"value\": 732}, \"733\": {\"frequency\": 1340, \"value\": 733}, \"734\": {\"frequency\": 3, \"value\": 734}, \"735\": {\"frequency\": 101, \"value\": 735}, \"736\": {\"frequency\": 1110, \"value\": 736}, \"737\": {\"frequency\": 300, \"value\": 737}, \"741\": {\"frequency\": 314, \"value\": 741}, \"742\": {\"frequency\": 174, \"value\": 742}, \"743\": {\"frequency\": 107, \"value\": 743}, \"744\": {\"frequency\": 3, \"value\": 744}, \"745\": {\"frequency\": 657, \"value\": 745}, \"746\": {\"frequency\": 31, \"value\": 746}, \"747\": {\"frequency\": 55, \"value\": 747}, \"748\": {\"frequency\": 417, \"value\": 748}, \"749\": {\"frequency\": 4, \"value\": 749}, \"750\": {\"frequency\": 1367, \"value\": 750}, \"751\": {\"frequency\": 15, \"value\": 751}, \"753\": {\"frequency\": 32, \"value\": 753}, \"754\": {\"frequency\": 13, \"value\": 754}, \"755\": {\"frequency\": 9, \"value\": 755}, \"756\": {\"frequency\": 4, \"value\": 756}, \"757\": {\"frequency\": 4, \"value\": 757}, \"758\": {\"frequency\": 1, \"value\": 758}, \"759\": {\"frequency\": 59, \"value\": 759}, \"760\": {\"frequency\": 33, \"value\": 760}, \"761\": {\"frequency\": 123, \"value\": 761}, \"762\": {\"frequency\": 298, \"value\": 762}, \"763\": {\"frequency\": 1, \"value\": 763}, \"764\": {\"frequency\": 74, \"value\": 764}, \"765\": {\"frequency\": 171, \"value\": 765}, \"766\": {\"frequency\": 100, \"value\": 766}, \"767\": {\"frequency\": 24, \"value\": 767}, \"769\": {\"frequency\": 12, \"value\": 769}, \"771\": {\"frequency\": 18, \"value\": 771}, \"774\": {\"frequency\": 1, \"value\": 774}, \"775\": {\"frequency\": 9, \"value\": 775}, \"776\": {\"frequency\": 4, \"value\": 776}, \"778\": {\"frequency\": 751, \"value\": 778}, \"779\": {\"frequency\": 52, \"value\": 779}, \"780\": {\"frequency\": 1730, \"value\": 780}, \"781\": {\"frequency\": 103, \"value\": 781}, \"782\": {\"frequency\": 145, \"value\": 782}, \"783\": {\"frequency\": 390, \"value\": 783}, \"784\": {\"frequency\": 385, \"value\": 784}, \"785\": {\"frequency\": 765, \"value\": 785}, \"786\": {\"frequency\": 460, \"value\": 786}, \"787\": {\"frequency\": 3, \"value\": 787}, \"788\": {\"frequency\": 948, \"value\": 788}, \"789\": {\"frequency\": 2, \"value\": 789}, \"790\": {\"frequency\": 1, \"value\": 790}, \"791\": {\"frequency\": 2, \"value\": 791}, \"792\": {\"frequency\": 1, \"value\": 792}, \"793\": {\"frequency\": 10, \"value\": 793}, \"796\": {\"frequency\": 3, \"value\": 796}, \"798\": {\"frequency\": 204, \"value\": 798}, \"799\": {\"frequency\": 338, \"value\": 799}, \"800\": {\"frequency\": 630, \"value\": 800}, \"801\": {\"frequency\": 121, \"value\": 801}, \"802\": {\"frequency\": 427, \"value\": 802}, \"803\": {\"frequency\": 57, \"value\": 803}, \"804\": {\"frequency\": 233, \"value\": 804}, \"805\": {\"frequency\": 344, \"value\": 805}, \"806\": {\"frequency\": 60, \"value\": 806}, \"807\": {\"frequency\": 14, \"value\": 807}, \"808\": {\"frequency\": 43, \"value\": 808}, \"809\": {\"frequency\": 105, \"value\": 809}, \"810\": {\"frequency\": 120, \"value\": 810}, \"811\": {\"frequency\": 9, \"value\": 811}, \"813\": {\"frequency\": 47, \"value\": 813}, \"814\": {\"frequency\": 1, \"value\": 814}, \"815\": {\"frequency\": 6, \"value\": 815}, \"818\": {\"frequency\": 189, \"value\": 818}, \"820\": {\"frequency\": 4, \"value\": 820}, \"821\": {\"frequency\": 2, \"value\": 821}, \"823\": {\"frequency\": 4, \"value\": 823}, \"824\": {\"frequency\": 28, \"value\": 824}, \"826\": {\"frequency\": 1, \"value\": 826}, \"827\": {\"frequency\": 2, \"value\": 827}, \"828\": {\"frequency\": 54, \"value\": 828}, \"829\": {\"frequency\": 131, \"value\": 829}, \"830\": {\"frequency\": 295, \"value\": 830}, \"831\": {\"frequency\": 20, \"value\": 831}, \"832\": {\"frequency\": 564, \"value\": 832}, \"833\": {\"frequency\": 78, \"value\": 833}, \"834\": {\"frequency\": 4, \"value\": 834}, \"835\": {\"frequency\": 103, \"value\": 835}, \"836\": {\"frequency\": 237, \"value\": 836}, \"837\": {\"frequency\": 218, \"value\": 837}, \"838\": {\"frequency\": 501, \"value\": 838}, \"839\": {\"frequency\": 135, \"value\": 839}, \"840\": {\"frequency\": 50, \"value\": 840}, \"841\": {\"frequency\": 25, \"value\": 841}, \"842\": {\"frequency\": 151, \"value\": 842}, \"843\": {\"frequency\": 1, \"value\": 843}, \"844\": {\"frequency\": 7, \"value\": 844}, \"846\": {\"frequency\": 38, \"value\": 846}, \"847\": {\"frequency\": 7, \"value\": 847}, \"848\": {\"frequency\": 156, \"value\": 848}, \"849\": {\"frequency\": 511, \"value\": 849}, \"850\": {\"frequency\": 30, \"value\": 850}, \"851\": {\"frequency\": 127, \"value\": 851}, \"852\": {\"frequency\": 615, \"value\": 852}, \"853\": {\"frequency\": 3, \"value\": 853}, \"854\": {\"frequency\": 8, \"value\": 854}, \"858\": {\"frequency\": 2223, \"value\": 858}, \"859\": {\"frequency\": 1, \"value\": 859}, \"860\": {\"frequency\": 10, \"value\": 860}, \"861\": {\"frequency\": 273, \"value\": 861}, \"862\": {\"frequency\": 31, \"value\": 862}, \"863\": {\"frequency\": 10, \"value\": 863}, \"864\": {\"frequency\": 12, \"value\": 864}, \"865\": {\"frequency\": 1, \"value\": 865}, \"866\": {\"frequency\": 572, \"value\": 866}, \"867\": {\"frequency\": 24, \"value\": 867}, \"868\": {\"frequency\": 1, \"value\": 868}, \"869\": {\"frequency\": 42, \"value\": 869}, \"870\": {\"frequency\": 49, \"value\": 870}, \"872\": {\"frequency\": 1, \"value\": 872}, \"874\": {\"frequency\": 8, \"value\": 874}, \"875\": {\"frequency\": 44, \"value\": 875}, \"876\": {\"frequency\": 21, \"value\": 876}, \"877\": {\"frequency\": 24, \"value\": 877}, \"878\": {\"frequency\": 1, \"value\": 878}, \"879\": {\"frequency\": 237, \"value\": 879}, \"880\": {\"frequency\": 324, \"value\": 880}, \"881\": {\"frequency\": 77, \"value\": 881}, \"882\": {\"frequency\": 59, \"value\": 882}, \"884\": {\"frequency\": 2, \"value\": 884}, \"885\": {\"frequency\": 43, \"value\": 885}, \"886\": {\"frequency\": 104, \"value\": 886}, \"887\": {\"frequency\": 2, \"value\": 887}, \"888\": {\"frequency\": 48, \"value\": 888}, \"889\": {\"frequency\": 2, \"value\": 889}, \"891\": {\"frequency\": 183, \"value\": 891}, \"892\": {\"frequency\": 152, \"value\": 892}, \"893\": {\"frequency\": 69, \"value\": 893}, \"895\": {\"frequency\": 2, \"value\": 895}, \"896\": {\"frequency\": 51, \"value\": 896}, \"897\": {\"frequency\": 98, \"value\": 897}, \"898\": {\"frequency\": 582, \"value\": 898}, \"899\": {\"frequency\": 751, \"value\": 899}, \"900\": {\"frequency\": 343, \"value\": 900}, \"901\": {\"frequency\": 174, \"value\": 901}, \"902\": {\"frequency\": 676, \"value\": 902}, \"903\": {\"frequency\": 905, \"value\": 903}, \"904\": {\"frequency\": 1050, \"value\": 904}, \"905\": {\"frequency\": 374, \"value\": 905}, \"906\": {\"frequency\": 187, \"value\": 906}, \"907\": {\"frequency\": 105, \"value\": 907}, \"908\": {\"frequency\": 1315, \"value\": 908}, \"909\": {\"frequency\": 417, \"value\": 909}, \"910\": {\"frequency\": 832, \"value\": 910}, \"911\": {\"frequency\": 306, \"value\": 911}, \"912\": {\"frequency\": 1669, \"value\": 912}, \"913\": {\"frequency\": 1043, \"value\": 913}, \"914\": {\"frequency\": 636, \"value\": 914}, \"915\": {\"frequency\": 365, \"value\": 915}, \"916\": {\"frequency\": 425, \"value\": 916}, \"917\": {\"frequency\": 77, \"value\": 917}, \"918\": {\"frequency\": 189, \"value\": 918}, \"919\": {\"frequency\": 1718, \"value\": 919}, \"920\": {\"frequency\": 1156, \"value\": 920}, \"921\": {\"frequency\": 302, \"value\": 921}, \"922\": {\"frequency\": 470, \"value\": 922}, \"923\": {\"frequency\": 1116, \"value\": 923}, \"924\": {\"frequency\": 1716, \"value\": 924}, \"925\": {\"frequency\": 12, \"value\": 925}, \"926\": {\"frequency\": 403, \"value\": 926}, \"927\": {\"frequency\": 84, \"value\": 927}, \"928\": {\"frequency\": 386, \"value\": 928}, \"929\": {\"frequency\": 93, \"value\": 929}, \"930\": {\"frequency\": 445, \"value\": 930}, \"931\": {\"frequency\": 206, \"value\": 931}, \"932\": {\"frequency\": 189, \"value\": 932}, \"933\": {\"frequency\": 443, \"value\": 933}, \"934\": {\"frequency\": 304, \"value\": 934}, \"935\": {\"frequency\": 71, \"value\": 935}, \"936\": {\"frequency\": 132, \"value\": 936}, \"937\": {\"frequency\": 44, \"value\": 937}, \"938\": {\"frequency\": 187, \"value\": 938}, \"939\": {\"frequency\": 11, \"value\": 939}, \"940\": {\"frequency\": 378, \"value\": 940}, \"941\": {\"frequency\": 105, \"value\": 941}, \"942\": {\"frequency\": 292, \"value\": 942}, \"943\": {\"frequency\": 171, \"value\": 943}, \"944\": {\"frequency\": 97, \"value\": 944}, \"945\": {\"frequency\": 251, \"value\": 945}, \"946\": {\"frequency\": 161, \"value\": 946}, \"947\": {\"frequency\": 188, \"value\": 947}, \"948\": {\"frequency\": 130, \"value\": 948}, \"949\": {\"frequency\": 215, \"value\": 949}, \"950\": {\"frequency\": 292, \"value\": 950}, \"951\": {\"frequency\": 397, \"value\": 951}, \"952\": {\"frequency\": 269, \"value\": 952}, \"953\": {\"frequency\": 729, \"value\": 953}, \"954\": {\"frequency\": 383, \"value\": 954}, \"955\": {\"frequency\": 413, \"value\": 955}, \"956\": {\"frequency\": 40, \"value\": 956}, \"957\": {\"frequency\": 37, \"value\": 957}, \"958\": {\"frequency\": 13, \"value\": 958}, \"959\": {\"frequency\": 58, \"value\": 959}, \"960\": {\"frequency\": 20, \"value\": 960}, \"961\": {\"frequency\": 23, \"value\": 961}, \"962\": {\"frequency\": 11, \"value\": 962}, \"963\": {\"frequency\": 54, \"value\": 963}, \"964\": {\"frequency\": 51, \"value\": 964}, \"965\": {\"frequency\": 253, \"value\": 965}, \"966\": {\"frequency\": 6, \"value\": 966}, \"967\": {\"frequency\": 23, \"value\": 967}, \"968\": {\"frequency\": 715, \"value\": 968}, \"969\": {\"frequency\": 1057, \"value\": 969}, \"970\": {\"frequency\": 37, \"value\": 970}, \"971\": {\"frequency\": 271, \"value\": 971}, \"972\": {\"frequency\": 6, \"value\": 972}, \"973\": {\"frequency\": 82, \"value\": 973}, \"974\": {\"frequency\": 16, \"value\": 974}, \"975\": {\"frequency\": 2, \"value\": 975}, \"976\": {\"frequency\": 56, \"value\": 976}, \"977\": {\"frequency\": 2, \"value\": 977}, \"978\": {\"frequency\": 100, \"value\": 978}, \"980\": {\"frequency\": 5, \"value\": 980}, \"981\": {\"frequency\": 4, \"value\": 981}, \"982\": {\"frequency\": 81, \"value\": 982}, \"984\": {\"frequency\": 33, \"value\": 984}, \"985\": {\"frequency\": 4, \"value\": 985}, \"986\": {\"frequency\": 232, \"value\": 986}, \"987\": {\"frequency\": 40, \"value\": 987}, \"988\": {\"frequency\": 69, \"value\": 988}, \"989\": {\"frequency\": 1, \"value\": 989}, \"990\": {\"frequency\": 54, \"value\": 990}, \"991\": {\"frequency\": 170, \"value\": 991}, \"992\": {\"frequency\": 20, \"value\": 992}, \"993\": {\"frequency\": 9, \"value\": 993}, \"994\": {\"frequency\": 450, \"value\": 994}, \"996\": {\"frequency\": 256, \"value\": 996}, \"997\": {\"frequency\": 28, \"value\": 997}, \"998\": {\"frequency\": 93, \"value\": 998}, \"999\": {\"frequency\": 286, \"value\": 999}, \"1000\": {\"frequency\": 20, \"value\": 1000}, \"1002\": {\"frequency\": 8, \"value\": 1002}, \"1003\": {\"frequency\": 121, \"value\": 1003}, \"1004\": {\"frequency\": 101, \"value\": 1004}, \"1005\": {\"frequency\": 142, \"value\": 1005}, \"1006\": {\"frequency\": 78, \"value\": 1006}, \"1007\": {\"frequency\": 232, \"value\": 1007}, \"1008\": {\"frequency\": 97, \"value\": 1008}, \"1009\": {\"frequency\": 291, \"value\": 1009}, \"1010\": {\"frequency\": 242, \"value\": 1010}, \"1011\": {\"frequency\": 135, \"value\": 1011}, \"1012\": {\"frequency\": 301, \"value\": 1012}, \"1013\": {\"frequency\": 258, \"value\": 1013}, \"1014\": {\"frequency\": 136, \"value\": 1014}, \"1015\": {\"frequency\": 234, \"value\": 1015}, \"1016\": {\"frequency\": 156, \"value\": 1016}, \"1017\": {\"frequency\": 276, \"value\": 1017}, \"1018\": {\"frequency\": 123, \"value\": 1018}, \"1019\": {\"frequency\": 575, \"value\": 1019}, \"1020\": {\"frequency\": 392, \"value\": 1020}, \"1021\": {\"frequency\": 247, \"value\": 1021}, \"1022\": {\"frequency\": 577, \"value\": 1022}, \"1023\": {\"frequency\": 221, \"value\": 1023}, \"1024\": {\"frequency\": 126, \"value\": 1024}, \"1025\": {\"frequency\": 293, \"value\": 1025}, \"1026\": {\"frequency\": 8, \"value\": 1026}, \"1027\": {\"frequency\": 344, \"value\": 1027}, \"1028\": {\"frequency\": 1011, \"value\": 1028}, \"1029\": {\"frequency\": 568, \"value\": 1029}, \"1030\": {\"frequency\": 323, \"value\": 1030}, \"1031\": {\"frequency\": 319, \"value\": 1031}, \"1032\": {\"frequency\": 525, \"value\": 1032}, \"1033\": {\"frequency\": 287, \"value\": 1033}, \"1034\": {\"frequency\": 169, \"value\": 1034}, \"1035\": {\"frequency\": 882, \"value\": 1035}, \"1036\": {\"frequency\": 1666, \"value\": 1036}, \"1037\": {\"frequency\": 615, \"value\": 1037}, \"1038\": {\"frequency\": 11, \"value\": 1038}, \"1039\": {\"frequency\": 3, \"value\": 1039}, \"1040\": {\"frequency\": 5, \"value\": 1040}, \"1041\": {\"frequency\": 474, \"value\": 1041}, \"1042\": {\"frequency\": 528, \"value\": 1042}, \"1043\": {\"frequency\": 108, \"value\": 1043}, \"1044\": {\"frequency\": 35, \"value\": 1044}, \"1046\": {\"frequency\": 90, \"value\": 1046}, \"1047\": {\"frequency\": 434, \"value\": 1047}, \"1049\": {\"frequency\": 451, \"value\": 1049}, \"1050\": {\"frequency\": 146, \"value\": 1050}, \"1051\": {\"frequency\": 98, \"value\": 1051}, \"1053\": {\"frequency\": 35, \"value\": 1053}, \"1054\": {\"frequency\": 81, \"value\": 1054}, \"1055\": {\"frequency\": 19, \"value\": 1055}, \"1056\": {\"frequency\": 50, \"value\": 1056}, \"1057\": {\"frequency\": 274, \"value\": 1057}, \"1058\": {\"frequency\": 11, \"value\": 1058}, \"1059\": {\"frequency\": 479, \"value\": 1059}, \"1060\": {\"frequency\": 786, \"value\": 1060}, \"1061\": {\"frequency\": 374, \"value\": 1061}, \"1062\": {\"frequency\": 2, \"value\": 1062}, \"1063\": {\"frequency\": 26, \"value\": 1063}, \"1064\": {\"frequency\": 209, \"value\": 1064}, \"1066\": {\"frequency\": 175, \"value\": 1066}, \"1067\": {\"frequency\": 23, \"value\": 1067}, \"1068\": {\"frequency\": 35, \"value\": 1068}, \"1069\": {\"frequency\": 110, \"value\": 1069}, \"1070\": {\"frequency\": 2, \"value\": 1070}, \"1071\": {\"frequency\": 5, \"value\": 1071}, \"1073\": {\"frequency\": 1313, \"value\": 1073}, \"1076\": {\"frequency\": 23, \"value\": 1076}, \"1077\": {\"frequency\": 744, \"value\": 1077}, \"1078\": {\"frequency\": 372, \"value\": 1078}, \"1079\": {\"frequency\": 1326, \"value\": 1079}, \"1080\": {\"frequency\": 926, \"value\": 1080}, \"1081\": {\"frequency\": 434, \"value\": 1081}, \"1082\": {\"frequency\": 154, \"value\": 1082}, \"1083\": {\"frequency\": 164, \"value\": 1083}, \"1084\": {\"frequency\": 686, \"value\": 1084}, \"1085\": {\"frequency\": 131, \"value\": 1085}, \"1086\": {\"frequency\": 379, \"value\": 1086}, \"1087\": {\"frequency\": 18, \"value\": 1087}, \"1088\": {\"frequency\": 687, \"value\": 1088}, \"1089\": {\"frequency\": 1259, \"value\": 1089}, \"1090\": {\"frequency\": 1143, \"value\": 1090}, \"1091\": {\"frequency\": 373, \"value\": 1091}, \"1092\": {\"frequency\": 751, \"value\": 1092}, \"1093\": {\"frequency\": 680, \"value\": 1093}, \"1094\": {\"frequency\": 1229, \"value\": 1094}, \"1095\": {\"frequency\": 571, \"value\": 1095}, \"1096\": {\"frequency\": 344, \"value\": 1096}, \"1097\": {\"frequency\": 2269, \"value\": 1097}, \"1098\": {\"frequency\": 5, \"value\": 1098}, \"1099\": {\"frequency\": 194, \"value\": 1099}, \"1100\": {\"frequency\": 420, \"value\": 1100}, \"1101\": {\"frequency\": 1010, \"value\": 1101}, \"1102\": {\"frequency\": 4, \"value\": 1102}, \"1103\": {\"frequency\": 402, \"value\": 1103}, \"1104\": {\"frequency\": 483, \"value\": 1104}, \"1105\": {\"frequency\": 42, \"value\": 1105}, \"1107\": {\"frequency\": 3, \"value\": 1107}, \"1111\": {\"frequency\": 94, \"value\": 1111}, \"1112\": {\"frequency\": 35, \"value\": 1112}, \"1113\": {\"frequency\": 50, \"value\": 1113}, \"1114\": {\"frequency\": 31, \"value\": 1114}, \"1115\": {\"frequency\": 1, \"value\": 1115}, \"1116\": {\"frequency\": 17, \"value\": 1116}, \"1117\": {\"frequency\": 12, \"value\": 1117}, \"1118\": {\"frequency\": 1, \"value\": 1118}, \"1119\": {\"frequency\": 34, \"value\": 1119}, \"1120\": {\"frequency\": 456, \"value\": 1120}, \"1121\": {\"frequency\": 13, \"value\": 1121}, \"1123\": {\"frequency\": 33, \"value\": 1123}, \"1124\": {\"frequency\": 405, \"value\": 1124}, \"1125\": {\"frequency\": 385, \"value\": 1125}, \"1126\": {\"frequency\": 317, \"value\": 1126}, \"1127\": {\"frequency\": 1715, \"value\": 1127}, \"1128\": {\"frequency\": 170, \"value\": 1128}, \"1129\": {\"frequency\": 884, \"value\": 1129}, \"1130\": {\"frequency\": 231, \"value\": 1130}, \"1131\": {\"frequency\": 216, \"value\": 1131}, \"1132\": {\"frequency\": 220, \"value\": 1132}, \"1133\": {\"frequency\": 2, \"value\": 1133}, \"1134\": {\"frequency\": 2, \"value\": 1134}, \"1135\": {\"frequency\": 407, \"value\": 1135}, \"1136\": {\"frequency\": 1599, \"value\": 1136}, \"1138\": {\"frequency\": 7, \"value\": 1138}, \"1139\": {\"frequency\": 2, \"value\": 1139}, \"1142\": {\"frequency\": 2, \"value\": 1142}, \"1144\": {\"frequency\": 16, \"value\": 1144}, \"1145\": {\"frequency\": 2, \"value\": 1145}, \"1147\": {\"frequency\": 277, \"value\": 1147}, \"1148\": {\"frequency\": 882, \"value\": 1148}, \"1149\": {\"frequency\": 4, \"value\": 1149}, \"1150\": {\"frequency\": 158, \"value\": 1150}, \"1151\": {\"frequency\": 31, \"value\": 1151}, \"1152\": {\"frequency\": 29, \"value\": 1152}, \"1153\": {\"frequency\": 14, \"value\": 1153}, \"1154\": {\"frequency\": 15, \"value\": 1154}, \"1160\": {\"frequency\": 6, \"value\": 1160}, \"1161\": {\"frequency\": 94, \"value\": 1161}, \"1162\": {\"frequency\": 96, \"value\": 1162}, \"1163\": {\"frequency\": 19, \"value\": 1163}, \"1164\": {\"frequency\": 5, \"value\": 1164}, \"1165\": {\"frequency\": 1, \"value\": 1165}, \"1167\": {\"frequency\": 94, \"value\": 1167}, \"1168\": {\"frequency\": 18, \"value\": 1168}, \"1169\": {\"frequency\": 36, \"value\": 1169}, \"1170\": {\"frequency\": 17, \"value\": 1170}, \"1171\": {\"frequency\": 415, \"value\": 1171}, \"1172\": {\"frequency\": 615, \"value\": 1172}, \"1173\": {\"frequency\": 198, \"value\": 1173}, \"1174\": {\"frequency\": 5, \"value\": 1174}, \"1175\": {\"frequency\": 368, \"value\": 1175}, \"1176\": {\"frequency\": 129, \"value\": 1176}, \"1177\": {\"frequency\": 147, \"value\": 1177}, \"1178\": {\"frequency\": 230, \"value\": 1178}, \"1179\": {\"frequency\": 885, \"value\": 1179}, \"1180\": {\"frequency\": 50, \"value\": 1180}, \"1181\": {\"frequency\": 10, \"value\": 1181}, \"1183\": {\"frequency\": 989, \"value\": 1183}, \"1184\": {\"frequency\": 91, \"value\": 1184}, \"1185\": {\"frequency\": 453, \"value\": 1185}, \"1186\": {\"frequency\": 562, \"value\": 1186}, \"1187\": {\"frequency\": 147, \"value\": 1187}, \"1188\": {\"frequency\": 676, \"value\": 1188}, \"1189\": {\"frequency\": 269, \"value\": 1189}, \"1190\": {\"frequency\": 132, \"value\": 1190}, \"1191\": {\"frequency\": 209, \"value\": 1191}, \"1192\": {\"frequency\": 105, \"value\": 1192}, \"1193\": {\"frequency\": 1725, \"value\": 1193}, \"1194\": {\"frequency\": 212, \"value\": 1194}, \"1196\": {\"frequency\": 2990, \"value\": 1196}, \"1197\": {\"frequency\": 2318, \"value\": 1197}, \"1198\": {\"frequency\": 2514, \"value\": 1198}, \"1199\": {\"frequency\": 913, \"value\": 1199}, \"1200\": {\"frequency\": 1820, \"value\": 1200}, \"1201\": {\"frequency\": 822, \"value\": 1201}, \"1202\": {\"frequency\": 72, \"value\": 1202}, \"1203\": {\"frequency\": 616, \"value\": 1203}, \"1204\": {\"frequency\": 831, \"value\": 1204}, \"1205\": {\"frequency\": 231, \"value\": 1205}, \"1206\": {\"frequency\": 1229, \"value\": 1206}, \"1207\": {\"frequency\": 928, \"value\": 1207}, \"1208\": {\"frequency\": 1176, \"value\": 1208}, \"1209\": {\"frequency\": 173, \"value\": 1209}, \"1210\": {\"frequency\": 2883, \"value\": 1210}, \"1211\": {\"frequency\": 242, \"value\": 1211}, \"1212\": {\"frequency\": 480, \"value\": 1212}, \"1213\": {\"frequency\": 1657, \"value\": 1213}, \"1214\": {\"frequency\": 2024, \"value\": 1214}, \"1215\": {\"frequency\": 945, \"value\": 1215}, \"1216\": {\"frequency\": 87, \"value\": 1216}, \"1217\": {\"frequency\": 357, \"value\": 1217}, \"1218\": {\"frequency\": 244, \"value\": 1218}, \"1219\": {\"frequency\": 1263, \"value\": 1219}, \"1220\": {\"frequency\": 1341, \"value\": 1220}, \"1221\": {\"frequency\": 1692, \"value\": 1221}, \"1222\": {\"frequency\": 1254, \"value\": 1222}, \"1223\": {\"frequency\": 473, \"value\": 1223}, \"1224\": {\"frequency\": 426, \"value\": 1224}, \"1225\": {\"frequency\": 1382, \"value\": 1225}, \"1226\": {\"frequency\": 226, \"value\": 1226}, \"1227\": {\"frequency\": 241, \"value\": 1227}, \"1228\": {\"frequency\": 677, \"value\": 1228}, \"1230\": {\"frequency\": 1334, \"value\": 1230}, \"1231\": {\"frequency\": 750, \"value\": 1231}, \"1232\": {\"frequency\": 52, \"value\": 1232}, \"1233\": {\"frequency\": 1001, \"value\": 1233}, \"1234\": {\"frequency\": 1049, \"value\": 1234}, \"1235\": {\"frequency\": 697, \"value\": 1235}, \"1236\": {\"frequency\": 90, \"value\": 1236}, \"1237\": {\"frequency\": 299, \"value\": 1237}, \"1238\": {\"frequency\": 351, \"value\": 1238}, \"1240\": {\"frequency\": 2098, \"value\": 1240}, \"1241\": {\"frequency\": 70, \"value\": 1241}, \"1242\": {\"frequency\": 1112, \"value\": 1242}, \"1243\": {\"frequency\": 325, \"value\": 1243}, \"1244\": {\"frequency\": 718, \"value\": 1244}, \"1245\": {\"frequency\": 358, \"value\": 1245}, \"1246\": {\"frequency\": 855, \"value\": 1246}, \"1247\": {\"frequency\": 1261, \"value\": 1247}, \"1248\": {\"frequency\": 514, \"value\": 1248}, \"1249\": {\"frequency\": 733, \"value\": 1249}, \"1250\": {\"frequency\": 938, \"value\": 1250}, \"1251\": {\"frequency\": 228, \"value\": 1251}, \"1252\": {\"frequency\": 1185, \"value\": 1252}, \"1253\": {\"frequency\": 559, \"value\": 1253}, \"1254\": {\"frequency\": 453, \"value\": 1254}, \"1255\": {\"frequency\": 54, \"value\": 1255}, \"1256\": {\"frequency\": 594, \"value\": 1256}, \"1257\": {\"frequency\": 472, \"value\": 1257}, \"1258\": {\"frequency\": 1087, \"value\": 1258}, \"1259\": {\"frequency\": 1785, \"value\": 1259}, \"1260\": {\"frequency\": 308, \"value\": 1260}, \"1261\": {\"frequency\": 548, \"value\": 1261}, \"1262\": {\"frequency\": 696, \"value\": 1262}, \"1263\": {\"frequency\": 700, \"value\": 1263}, \"1264\": {\"frequency\": 257, \"value\": 1264}, \"1265\": {\"frequency\": 2278, \"value\": 1265}, \"1266\": {\"frequency\": 997, \"value\": 1266}, \"1267\": {\"frequency\": 765, \"value\": 1267}, \"1268\": {\"frequency\": 317, \"value\": 1268}, \"1269\": {\"frequency\": 672, \"value\": 1269}, \"1270\": {\"frequency\": 2583, \"value\": 1270}, \"1271\": {\"frequency\": 593, \"value\": 1271}, \"1272\": {\"frequency\": 645, \"value\": 1272}, \"1273\": {\"frequency\": 146, \"value\": 1273}, \"1274\": {\"frequency\": 452, \"value\": 1274}, \"1275\": {\"frequency\": 741, \"value\": 1275}, \"1276\": {\"frequency\": 930, \"value\": 1276}, \"1277\": {\"frequency\": 363, \"value\": 1277}, \"1278\": {\"frequency\": 1193, \"value\": 1278}, \"1279\": {\"frequency\": 194, \"value\": 1279}, \"1280\": {\"frequency\": 277, \"value\": 1280}, \"1281\": {\"frequency\": 216, \"value\": 1281}, \"1282\": {\"frequency\": 943, \"value\": 1282}, \"1283\": {\"frequency\": 403, \"value\": 1283}, \"1284\": {\"frequency\": 541, \"value\": 1284}, \"1285\": {\"frequency\": 803, \"value\": 1285}, \"1286\": {\"frequency\": 285, \"value\": 1286}, \"1287\": {\"frequency\": 704, \"value\": 1287}, \"1288\": {\"frequency\": 1118, \"value\": 1288}, \"1289\": {\"frequency\": 182, \"value\": 1289}, \"1290\": {\"frequency\": 230, \"value\": 1290}, \"1291\": {\"frequency\": 1628, \"value\": 1291}, \"1292\": {\"frequency\": 591, \"value\": 1292}, \"1293\": {\"frequency\": 671, \"value\": 1293}, \"1294\": {\"frequency\": 1099, \"value\": 1294}, \"1295\": {\"frequency\": 266, \"value\": 1295}, \"1296\": {\"frequency\": 560, \"value\": 1296}, \"1297\": {\"frequency\": 442, \"value\": 1297}, \"1298\": {\"frequency\": 387, \"value\": 1298}, \"1299\": {\"frequency\": 732, \"value\": 1299}, \"1300\": {\"frequency\": 330, \"value\": 1300}, \"1301\": {\"frequency\": 373, \"value\": 1301}, \"1302\": {\"frequency\": 768, \"value\": 1302}, \"1303\": {\"frequency\": 310, \"value\": 1303}, \"1304\": {\"frequency\": 1419, \"value\": 1304}, \"1305\": {\"frequency\": 121, \"value\": 1305}, \"1306\": {\"frequency\": 136, \"value\": 1306}, \"1307\": {\"frequency\": 1568, \"value\": 1307}, \"1310\": {\"frequency\": 43, \"value\": 1310}, \"1311\": {\"frequency\": 7, \"value\": 1311}, \"1312\": {\"frequency\": 29, \"value\": 1312}, \"1313\": {\"frequency\": 13, \"value\": 1313}, \"1315\": {\"frequency\": 3, \"value\": 1315}, \"1316\": {\"frequency\": 1, \"value\": 1316}, \"1317\": {\"frequency\": 40, \"value\": 1317}, \"1320\": {\"frequency\": 925, \"value\": 1320}, \"1321\": {\"frequency\": 549, \"value\": 1321}, \"1322\": {\"frequency\": 32, \"value\": 1322}, \"1323\": {\"frequency\": 43, \"value\": 1323}, \"1324\": {\"frequency\": 22, \"value\": 1324}, \"1325\": {\"frequency\": 23, \"value\": 1325}, \"1326\": {\"frequency\": 56, \"value\": 1326}, \"1327\": {\"frequency\": 355, \"value\": 1327}, \"1328\": {\"frequency\": 25, \"value\": 1328}, \"1329\": {\"frequency\": 36, \"value\": 1329}, \"1330\": {\"frequency\": 116, \"value\": 1330}, \"1331\": {\"frequency\": 50, \"value\": 1331}, \"1332\": {\"frequency\": 102, \"value\": 1332}, \"1333\": {\"frequency\": 733, \"value\": 1333}, \"1334\": {\"frequency\": 338, \"value\": 1334}, \"1335\": {\"frequency\": 21, \"value\": 1335}, \"1336\": {\"frequency\": 55, \"value\": 1336}, \"1337\": {\"frequency\": 64, \"value\": 1337}, \"1339\": {\"frequency\": 672, \"value\": 1339}, \"1340\": {\"frequency\": 216, \"value\": 1340}, \"1341\": {\"frequency\": 53, \"value\": 1341}, \"1342\": {\"frequency\": 262, \"value\": 1342}, \"1343\": {\"frequency\": 687, \"value\": 1343}, \"1344\": {\"frequency\": 361, \"value\": 1344}, \"1345\": {\"frequency\": 567, \"value\": 1345}, \"1346\": {\"frequency\": 174, \"value\": 1346}, \"1347\": {\"frequency\": 451, \"value\": 1347}, \"1348\": {\"frequency\": 238, \"value\": 1348}, \"1349\": {\"frequency\": 14, \"value\": 1349}, \"1350\": {\"frequency\": 409, \"value\": 1350}, \"1351\": {\"frequency\": 35, \"value\": 1351}, \"1352\": {\"frequency\": 94, \"value\": 1352}, \"1353\": {\"frequency\": 188, \"value\": 1353}, \"1354\": {\"frequency\": 267, \"value\": 1354}, \"1355\": {\"frequency\": 77, \"value\": 1355}, \"1356\": {\"frequency\": 1310, \"value\": 1356}, \"1357\": {\"frequency\": 548, \"value\": 1357}, \"1358\": {\"frequency\": 1177, \"value\": 1358}, \"1359\": {\"frequency\": 222, \"value\": 1359}, \"1360\": {\"frequency\": 2, \"value\": 1360}, \"1361\": {\"frequency\": 159, \"value\": 1361}, \"1362\": {\"frequency\": 100, \"value\": 1362}, \"1363\": {\"frequency\": 112, \"value\": 1363}, \"1364\": {\"frequency\": 2, \"value\": 1364}, \"1365\": {\"frequency\": 58, \"value\": 1365}, \"1366\": {\"frequency\": 108, \"value\": 1366}, \"1367\": {\"frequency\": 364, \"value\": 1367}, \"1369\": {\"frequency\": 5, \"value\": 1369}, \"1370\": {\"frequency\": 1135, \"value\": 1370}, \"1371\": {\"frequency\": 792, \"value\": 1371}, \"1372\": {\"frequency\": 1001, \"value\": 1372}, \"1373\": {\"frequency\": 613, \"value\": 1373}, \"1374\": {\"frequency\": 1448, \"value\": 1374}, \"1375\": {\"frequency\": 927, \"value\": 1375}, \"1376\": {\"frequency\": 1126, \"value\": 1376}, \"1377\": {\"frequency\": 1031, \"value\": 1377}, \"1378\": {\"frequency\": 562, \"value\": 1378}, \"1379\": {\"frequency\": 369, \"value\": 1379}, \"1380\": {\"frequency\": 817, \"value\": 1380}, \"1381\": {\"frequency\": 303, \"value\": 1381}, \"1382\": {\"frequency\": 127, \"value\": 1382}, \"1383\": {\"frequency\": 11, \"value\": 1383}, \"1384\": {\"frequency\": 6, \"value\": 1384}, \"1385\": {\"frequency\": 461, \"value\": 1385}, \"1386\": {\"frequency\": 1, \"value\": 1386}, \"1387\": {\"frequency\": 1697, \"value\": 1387}, \"1388\": {\"frequency\": 370, \"value\": 1388}, \"1389\": {\"frequency\": 210, \"value\": 1389}, \"1390\": {\"frequency\": 121, \"value\": 1390}, \"1391\": {\"frequency\": 1074, \"value\": 1391}, \"1392\": {\"frequency\": 219, \"value\": 1392}, \"1393\": {\"frequency\": 1353, \"value\": 1393}, \"1394\": {\"frequency\": 1434, \"value\": 1394}, \"1395\": {\"frequency\": 295, \"value\": 1395}, \"1396\": {\"frequency\": 1091, \"value\": 1396}, \"1397\": {\"frequency\": 63, \"value\": 1397}, \"1398\": {\"frequency\": 63, \"value\": 1398}, \"1399\": {\"frequency\": 104, \"value\": 1399}, \"1401\": {\"frequency\": 162, \"value\": 1401}, \"1404\": {\"frequency\": 76, \"value\": 1404}, \"1405\": {\"frequency\": 475, \"value\": 1405}, \"1406\": {\"frequency\": 24, \"value\": 1406}, \"1407\": {\"frequency\": 886, \"value\": 1407}, \"1408\": {\"frequency\": 975, \"value\": 1408}, \"1409\": {\"frequency\": 392, \"value\": 1409}, \"1410\": {\"frequency\": 90, \"value\": 1410}, \"1411\": {\"frequency\": 382, \"value\": 1411}, \"1412\": {\"frequency\": 20, \"value\": 1412}, \"1413\": {\"frequency\": 50, \"value\": 1413}, \"1414\": {\"frequency\": 168, \"value\": 1414}, \"1415\": {\"frequency\": 36, \"value\": 1415}, \"1416\": {\"frequency\": 282, \"value\": 1416}, \"1417\": {\"frequency\": 43, \"value\": 1417}, \"1419\": {\"frequency\": 136, \"value\": 1419}, \"1420\": {\"frequency\": 7, \"value\": 1420}, \"1421\": {\"frequency\": 22, \"value\": 1421}, \"1422\": {\"frequency\": 281, \"value\": 1422}, \"1423\": {\"frequency\": 14, \"value\": 1423}, \"1425\": {\"frequency\": 168, \"value\": 1425}, \"1426\": {\"frequency\": 23, \"value\": 1426}, \"1427\": {\"frequency\": 51, \"value\": 1427}, \"1428\": {\"frequency\": 52, \"value\": 1428}, \"1429\": {\"frequency\": 297, \"value\": 1429}, \"1430\": {\"frequency\": 1, \"value\": 1430}, \"1431\": {\"frequency\": 232, \"value\": 1431}, \"1432\": {\"frequency\": 100, \"value\": 1432}, \"1433\": {\"frequency\": 5, \"value\": 1433}, \"1434\": {\"frequency\": 2, \"value\": 1434}, \"1436\": {\"frequency\": 9, \"value\": 1436}, \"1437\": {\"frequency\": 21, \"value\": 1437}, \"1438\": {\"frequency\": 321, \"value\": 1438}, \"1439\": {\"frequency\": 46, \"value\": 1439}, \"1440\": {\"frequency\": 81, \"value\": 1440}, \"1441\": {\"frequency\": 481, \"value\": 1441}, \"1442\": {\"frequency\": 71, \"value\": 1442}, \"1444\": {\"frequency\": 8, \"value\": 1444}, \"1445\": {\"frequency\": 156, \"value\": 1445}, \"1446\": {\"frequency\": 189, \"value\": 1446}, \"1447\": {\"frequency\": 49, \"value\": 1447}, \"1449\": {\"frequency\": 462, \"value\": 1449}, \"1450\": {\"frequency\": 14, \"value\": 1450}, \"1453\": {\"frequency\": 148, \"value\": 1453}, \"1454\": {\"frequency\": 82, \"value\": 1454}, \"1455\": {\"frequency\": 22, \"value\": 1455}, \"1456\": {\"frequency\": 64, \"value\": 1456}, \"1457\": {\"frequency\": 266, \"value\": 1457}, \"1458\": {\"frequency\": 24, \"value\": 1458}, \"1459\": {\"frequency\": 380, \"value\": 1459}, \"1460\": {\"frequency\": 94, \"value\": 1460}, \"1461\": {\"frequency\": 216, \"value\": 1461}, \"1463\": {\"frequency\": 34, \"value\": 1463}, \"1464\": {\"frequency\": 145, \"value\": 1464}, \"1465\": {\"frequency\": 126, \"value\": 1465}, \"1466\": {\"frequency\": 719, \"value\": 1466}, \"1468\": {\"frequency\": 144, \"value\": 1468}, \"1470\": {\"frequency\": 1, \"value\": 1470}, \"1471\": {\"frequency\": 5, \"value\": 1471}, \"1472\": {\"frequency\": 48, \"value\": 1472}, \"1473\": {\"frequency\": 40, \"value\": 1473}, \"1474\": {\"frequency\": 146, \"value\": 1474}, \"1475\": {\"frequency\": 81, \"value\": 1475}, \"1476\": {\"frequency\": 499, \"value\": 1476}, \"1477\": {\"frequency\": 27, \"value\": 1477}, \"1479\": {\"frequency\": 563, \"value\": 1479}, \"1480\": {\"frequency\": 265, \"value\": 1480}, \"1482\": {\"frequency\": 63, \"value\": 1482}, \"1483\": {\"frequency\": 141, \"value\": 1483}, \"1484\": {\"frequency\": 124, \"value\": 1484}, \"1485\": {\"frequency\": 666, \"value\": 1485}, \"1486\": {\"frequency\": 7, \"value\": 1486}, \"1487\": {\"frequency\": 162, \"value\": 1487}, \"1488\": {\"frequency\": 288, \"value\": 1488}, \"1489\": {\"frequency\": 37, \"value\": 1489}, \"1490\": {\"frequency\": 26, \"value\": 1490}, \"1493\": {\"frequency\": 17, \"value\": 1493}, \"1494\": {\"frequency\": 19, \"value\": 1494}, \"1495\": {\"frequency\": 44, \"value\": 1495}, \"1496\": {\"frequency\": 25, \"value\": 1496}, \"1497\": {\"frequency\": 48, \"value\": 1497}, \"1498\": {\"frequency\": 131, \"value\": 1498}, \"1499\": {\"frequency\": 399, \"value\": 1499}, \"1500\": {\"frequency\": 1136, \"value\": 1500}, \"1501\": {\"frequency\": 18, \"value\": 1501}, \"1502\": {\"frequency\": 13, \"value\": 1502}, \"1503\": {\"frequency\": 145, \"value\": 1503}, \"1504\": {\"frequency\": 16, \"value\": 1504}, \"1507\": {\"frequency\": 42, \"value\": 1507}, \"1508\": {\"frequency\": 36, \"value\": 1508}, \"1509\": {\"frequency\": 21, \"value\": 1509}, \"1510\": {\"frequency\": 2, \"value\": 1510}, \"1511\": {\"frequency\": 24, \"value\": 1511}, \"1513\": {\"frequency\": 755, \"value\": 1513}, \"1514\": {\"frequency\": 7, \"value\": 1514}, \"1515\": {\"frequency\": 181, \"value\": 1515}, \"1516\": {\"frequency\": 52, \"value\": 1516}, \"1517\": {\"frequency\": 1205, \"value\": 1517}, \"1518\": {\"frequency\": 354, \"value\": 1518}, \"1519\": {\"frequency\": 6, \"value\": 1519}, \"1520\": {\"frequency\": 15, \"value\": 1520}, \"1522\": {\"frequency\": 7, \"value\": 1522}, \"1523\": {\"frequency\": 57, \"value\": 1523}, \"1525\": {\"frequency\": 44, \"value\": 1525}, \"1526\": {\"frequency\": 88, \"value\": 1526}, \"1527\": {\"frequency\": 1377, \"value\": 1527}, \"1528\": {\"frequency\": 2, \"value\": 1528}, \"1529\": {\"frequency\": 31, \"value\": 1529}, \"1531\": {\"frequency\": 11, \"value\": 1531}, \"1532\": {\"frequency\": 6, \"value\": 1532}, \"1533\": {\"frequency\": 24, \"value\": 1533}, \"1534\": {\"frequency\": 6, \"value\": 1534}, \"1535\": {\"frequency\": 103, \"value\": 1535}, \"1537\": {\"frequency\": 350, \"value\": 1537}, \"1538\": {\"frequency\": 6, \"value\": 1538}, \"1539\": {\"frequency\": 11, \"value\": 1539}, \"1541\": {\"frequency\": 240, \"value\": 1541}, \"1542\": {\"frequency\": 238, \"value\": 1542}, \"1543\": {\"frequency\": 7, \"value\": 1543}, \"1544\": {\"frequency\": 1255, \"value\": 1544}, \"1545\": {\"frequency\": 73, \"value\": 1545}, \"1546\": {\"frequency\": 49, \"value\": 1546}, \"1547\": {\"frequency\": 37, \"value\": 1547}, \"1548\": {\"frequency\": 2, \"value\": 1548}, \"1549\": {\"frequency\": 19, \"value\": 1549}, \"1550\": {\"frequency\": 71, \"value\": 1550}, \"1551\": {\"frequency\": 36, \"value\": 1551}, \"1552\": {\"frequency\": 954, \"value\": 1552}, \"1553\": {\"frequency\": 4, \"value\": 1553}, \"1554\": {\"frequency\": 138, \"value\": 1554}, \"1555\": {\"frequency\": 2, \"value\": 1555}, \"1556\": {\"frequency\": 367, \"value\": 1556}, \"1558\": {\"frequency\": 2, \"value\": 1558}, \"1561\": {\"frequency\": 4, \"value\": 1561}, \"1562\": {\"frequency\": 606, \"value\": 1562}, \"1563\": {\"frequency\": 40, \"value\": 1563}, \"1564\": {\"frequency\": 36, \"value\": 1564}, \"1565\": {\"frequency\": 17, \"value\": 1565}, \"1566\": {\"frequency\": 469, \"value\": 1566}, \"1567\": {\"frequency\": 9, \"value\": 1567}, \"1569\": {\"frequency\": 820, \"value\": 1569}, \"1570\": {\"frequency\": 23, \"value\": 1570}, \"1571\": {\"frequency\": 45, \"value\": 1571}, \"1572\": {\"frequency\": 26, \"value\": 1572}, \"1573\": {\"frequency\": 1421, \"value\": 1573}, \"1574\": {\"frequency\": 15, \"value\": 1574}, \"1575\": {\"frequency\": 14, \"value\": 1575}, \"1579\": {\"frequency\": 1, \"value\": 1579}, \"1580\": {\"frequency\": 2538, \"value\": 1580}, \"1581\": {\"frequency\": 59, \"value\": 1581}, \"1582\": {\"frequency\": 60, \"value\": 1582}, \"1583\": {\"frequency\": 27, \"value\": 1583}, \"1584\": {\"frequency\": 1382, \"value\": 1584}, \"1585\": {\"frequency\": 28, \"value\": 1585}, \"1586\": {\"frequency\": 557, \"value\": 1586}, \"1587\": {\"frequency\": 572, \"value\": 1587}, \"1588\": {\"frequency\": 289, \"value\": 1588}, \"1589\": {\"frequency\": 492, \"value\": 1589}, \"1590\": {\"frequency\": 498, \"value\": 1590}, \"1591\": {\"frequency\": 475, \"value\": 1591}, \"1592\": {\"frequency\": 112, \"value\": 1592}, \"1593\": {\"frequency\": 162, \"value\": 1593}, \"1594\": {\"frequency\": 307, \"value\": 1594}, \"1595\": {\"frequency\": 65, \"value\": 1595}, \"1596\": {\"frequency\": 32, \"value\": 1596}, \"1597\": {\"frequency\": 811, \"value\": 1597}, \"1598\": {\"frequency\": 111, \"value\": 1598}, \"1599\": {\"frequency\": 67, \"value\": 1599}, \"1600\": {\"frequency\": 84, \"value\": 1600}, \"1601\": {\"frequency\": 75, \"value\": 1601}, \"1602\": {\"frequency\": 43, \"value\": 1602}, \"1603\": {\"frequency\": 348, \"value\": 1603}, \"1604\": {\"frequency\": 65, \"value\": 1604}, \"1605\": {\"frequency\": 88, \"value\": 1605}, \"1606\": {\"frequency\": 109, \"value\": 1606}, \"1608\": {\"frequency\": 1076, \"value\": 1608}, \"1609\": {\"frequency\": 55, \"value\": 1609}, \"1610\": {\"frequency\": 1652, \"value\": 1610}, \"1611\": {\"frequency\": 236, \"value\": 1611}, \"1612\": {\"frequency\": 55, \"value\": 1612}, \"1613\": {\"frequency\": 30, \"value\": 1613}, \"1614\": {\"frequency\": 428, \"value\": 1614}, \"1615\": {\"frequency\": 227, \"value\": 1615}, \"1616\": {\"frequency\": 395, \"value\": 1616}, \"1617\": {\"frequency\": 2288, \"value\": 1617}, \"1619\": {\"frequency\": 362, \"value\": 1619}, \"1620\": {\"frequency\": 395, \"value\": 1620}, \"1621\": {\"frequency\": 85, \"value\": 1621}, \"1622\": {\"frequency\": 5, \"value\": 1622}, \"1623\": {\"frequency\": 128, \"value\": 1623}, \"1624\": {\"frequency\": 50, \"value\": 1624}, \"1625\": {\"frequency\": 882, \"value\": 1625}, \"1626\": {\"frequency\": 81, \"value\": 1626}, \"1627\": {\"frequency\": 250, \"value\": 1627}, \"1629\": {\"frequency\": 109, \"value\": 1629}, \"1630\": {\"frequency\": 1, \"value\": 1630}, \"1631\": {\"frequency\": 49, \"value\": 1631}, \"1632\": {\"frequency\": 20, \"value\": 1632}, \"1633\": {\"frequency\": 266, \"value\": 1633}, \"1635\": {\"frequency\": 507, \"value\": 1635}, \"1636\": {\"frequency\": 5, \"value\": 1636}, \"1639\": {\"frequency\": 966, \"value\": 1639}, \"1640\": {\"frequency\": 84, \"value\": 1640}, \"1641\": {\"frequency\": 1199, \"value\": 1641}, \"1642\": {\"frequency\": 74, \"value\": 1642}, \"1643\": {\"frequency\": 265, \"value\": 1643}, \"1644\": {\"frequency\": 475, \"value\": 1644}, \"1645\": {\"frequency\": 826, \"value\": 1645}, \"1646\": {\"frequency\": 88, \"value\": 1646}, \"1647\": {\"frequency\": 90, \"value\": 1647}, \"1648\": {\"frequency\": 194, \"value\": 1648}, \"1649\": {\"frequency\": 189, \"value\": 1649}, \"1650\": {\"frequency\": 50, \"value\": 1650}, \"1651\": {\"frequency\": 17, \"value\": 1651}, \"1652\": {\"frequency\": 4, \"value\": 1652}, \"1653\": {\"frequency\": 1077, \"value\": 1653}, \"1654\": {\"frequency\": 87, \"value\": 1654}, \"1655\": {\"frequency\": 77, \"value\": 1655}, \"1656\": {\"frequency\": 14, \"value\": 1656}, \"1657\": {\"frequency\": 20, \"value\": 1657}, \"1658\": {\"frequency\": 116, \"value\": 1658}, \"1659\": {\"frequency\": 7, \"value\": 1659}, \"1660\": {\"frequency\": 179, \"value\": 1660}, \"1661\": {\"frequency\": 88, \"value\": 1661}, \"1662\": {\"frequency\": 20, \"value\": 1662}, \"1663\": {\"frequency\": 740, \"value\": 1663}, \"1664\": {\"frequency\": 5, \"value\": 1664}, \"1665\": {\"frequency\": 200, \"value\": 1665}, \"1666\": {\"frequency\": 20, \"value\": 1666}, \"1667\": {\"frequency\": 113, \"value\": 1667}, \"1668\": {\"frequency\": 39, \"value\": 1668}, \"1669\": {\"frequency\": 37, \"value\": 1669}, \"1670\": {\"frequency\": 82, \"value\": 1670}, \"1671\": {\"frequency\": 22, \"value\": 1671}, \"1672\": {\"frequency\": 321, \"value\": 1672}, \"1673\": {\"frequency\": 1128, \"value\": 1673}, \"1674\": {\"frequency\": 1046, \"value\": 1674}, \"1675\": {\"frequency\": 11, \"value\": 1675}, \"1676\": {\"frequency\": 1163, \"value\": 1676}, \"1677\": {\"frequency\": 37, \"value\": 1677}, \"1678\": {\"frequency\": 474, \"value\": 1678}, \"1679\": {\"frequency\": 24, \"value\": 1679}, \"1680\": {\"frequency\": 464, \"value\": 1680}, \"1681\": {\"frequency\": 134, \"value\": 1681}, \"1682\": {\"frequency\": 1005, \"value\": 1682}, \"1683\": {\"frequency\": 218, \"value\": 1683}, \"1684\": {\"frequency\": 58, \"value\": 1684}, \"1685\": {\"frequency\": 6, \"value\": 1685}, \"1686\": {\"frequency\": 109, \"value\": 1686}, \"1687\": {\"frequency\": 337, \"value\": 1687}, \"1688\": {\"frequency\": 304, \"value\": 1688}, \"1689\": {\"frequency\": 252, \"value\": 1689}, \"1690\": {\"frequency\": 779, \"value\": 1690}, \"1692\": {\"frequency\": 20, \"value\": 1692}, \"1693\": {\"frequency\": 351, \"value\": 1693}, \"1694\": {\"frequency\": 471, \"value\": 1694}, \"1695\": {\"frequency\": 32, \"value\": 1695}, \"1696\": {\"frequency\": 28, \"value\": 1696}, \"1699\": {\"frequency\": 155, \"value\": 1699}, \"1701\": {\"frequency\": 284, \"value\": 1701}, \"1702\": {\"frequency\": 302, \"value\": 1702}, \"1703\": {\"frequency\": 62, \"value\": 1703}, \"1704\": {\"frequency\": 1548, \"value\": 1704}, \"1707\": {\"frequency\": 154, \"value\": 1707}, \"1709\": {\"frequency\": 1, \"value\": 1709}, \"1711\": {\"frequency\": 628, \"value\": 1711}, \"1713\": {\"frequency\": 231, \"value\": 1713}, \"1714\": {\"frequency\": 1, \"value\": 1714}, \"1715\": {\"frequency\": 13, \"value\": 1715}, \"1717\": {\"frequency\": 455, \"value\": 1717}, \"1718\": {\"frequency\": 7, \"value\": 1718}, \"1719\": {\"frequency\": 381, \"value\": 1719}, \"1720\": {\"frequency\": 7, \"value\": 1720}, \"1721\": {\"frequency\": 1546, \"value\": 1721}, \"1722\": {\"frequency\": 862, \"value\": 1722}, \"1724\": {\"frequency\": 1, \"value\": 1724}, \"1725\": {\"frequency\": 23, \"value\": 1725}, \"1726\": {\"frequency\": 137, \"value\": 1726}, \"1727\": {\"frequency\": 210, \"value\": 1727}, \"1728\": {\"frequency\": 22, \"value\": 1728}, \"1729\": {\"frequency\": 724, \"value\": 1729}, \"1730\": {\"frequency\": 176, \"value\": 1730}, \"1731\": {\"frequency\": 64, \"value\": 1731}, \"1732\": {\"frequency\": 1097, \"value\": 1732}, \"1733\": {\"frequency\": 82, \"value\": 1733}, \"1734\": {\"frequency\": 201, \"value\": 1734}, \"1735\": {\"frequency\": 263, \"value\": 1735}, \"1739\": {\"frequency\": 47, \"value\": 1739}, \"1741\": {\"frequency\": 5, \"value\": 1741}, \"1743\": {\"frequency\": 11, \"value\": 1743}, \"1744\": {\"frequency\": 77, \"value\": 1744}, \"1746\": {\"frequency\": 55, \"value\": 1746}, \"1747\": {\"frequency\": 907, \"value\": 1747}, \"1748\": {\"frequency\": 874, \"value\": 1748}, \"1749\": {\"frequency\": 10, \"value\": 1749}, \"1750\": {\"frequency\": 63, \"value\": 1750}, \"1752\": {\"frequency\": 206, \"value\": 1752}, \"1753\": {\"frequency\": 198, \"value\": 1753}, \"1754\": {\"frequency\": 388, \"value\": 1754}, \"1755\": {\"frequency\": 30, \"value\": 1755}, \"1756\": {\"frequency\": 51, \"value\": 1756}, \"1758\": {\"frequency\": 100, \"value\": 1758}, \"1759\": {\"frequency\": 51, \"value\": 1759}, \"1760\": {\"frequency\": 190, \"value\": 1760}, \"1762\": {\"frequency\": 227, \"value\": 1762}, \"1764\": {\"frequency\": 1, \"value\": 1764}, \"1767\": {\"frequency\": 26, \"value\": 1767}, \"1769\": {\"frequency\": 319, \"value\": 1769}, \"1770\": {\"frequency\": 19, \"value\": 1770}, \"1771\": {\"frequency\": 47, \"value\": 1771}, \"1772\": {\"frequency\": 230, \"value\": 1772}, \"1773\": {\"frequency\": 2, \"value\": 1773}, \"1777\": {\"frequency\": 909, \"value\": 1777}, \"1779\": {\"frequency\": 541, \"value\": 1779}, \"1780\": {\"frequency\": 8, \"value\": 1780}, \"1782\": {\"frequency\": 8, \"value\": 1782}, \"1783\": {\"frequency\": 220, \"value\": 1783}, \"1784\": {\"frequency\": 1424, \"value\": 1784}, \"1785\": {\"frequency\": 180, \"value\": 1785}, \"1787\": {\"frequency\": 2, \"value\": 1787}, \"1788\": {\"frequency\": 91, \"value\": 1788}, \"1791\": {\"frequency\": 53, \"value\": 1791}, \"1792\": {\"frequency\": 448, \"value\": 1792}, \"1793\": {\"frequency\": 13, \"value\": 1793}, \"1794\": {\"frequency\": 151, \"value\": 1794}, \"1795\": {\"frequency\": 2, \"value\": 1795}, \"1796\": {\"frequency\": 5, \"value\": 1796}, \"1797\": {\"frequency\": 167, \"value\": 1797}, \"1798\": {\"frequency\": 42, \"value\": 1798}, \"1799\": {\"frequency\": 213, \"value\": 1799}, \"1801\": {\"frequency\": 391, \"value\": 1801}, \"1804\": {\"frequency\": 119, \"value\": 1804}, \"1805\": {\"frequency\": 626, \"value\": 1805}, \"1806\": {\"frequency\": 168, \"value\": 1806}, \"1807\": {\"frequency\": 17, \"value\": 1807}, \"1809\": {\"frequency\": 36, \"value\": 1809}, \"1810\": {\"frequency\": 353, \"value\": 1810}, \"1811\": {\"frequency\": 13, \"value\": 1811}, \"1812\": {\"frequency\": 44, \"value\": 1812}, \"1814\": {\"frequency\": 25, \"value\": 1814}, \"1815\": {\"frequency\": 1, \"value\": 1815}, \"1816\": {\"frequency\": 101, \"value\": 1816}, \"1817\": {\"frequency\": 12, \"value\": 1817}, \"1820\": {\"frequency\": 1, \"value\": 1820}, \"1821\": {\"frequency\": 211, \"value\": 1821}, \"1822\": {\"frequency\": 21, \"value\": 1822}, \"1824\": {\"frequency\": 104, \"value\": 1824}, \"1825\": {\"frequency\": 33, \"value\": 1825}, \"1826\": {\"frequency\": 40, \"value\": 1826}, \"1827\": {\"frequency\": 102, \"value\": 1827}, \"1829\": {\"frequency\": 37, \"value\": 1829}, \"1830\": {\"frequency\": 1, \"value\": 1830}, \"1831\": {\"frequency\": 667, \"value\": 1831}, \"1832\": {\"frequency\": 1, \"value\": 1832}, \"1833\": {\"frequency\": 264, \"value\": 1833}, \"1834\": {\"frequency\": 493, \"value\": 1834}, \"1835\": {\"frequency\": 366, \"value\": 1835}, \"1836\": {\"frequency\": 135, \"value\": 1836}, \"1837\": {\"frequency\": 64, \"value\": 1837}, \"1839\": {\"frequency\": 69, \"value\": 1839}, \"1840\": {\"frequency\": 160, \"value\": 1840}, \"1841\": {\"frequency\": 95, \"value\": 1841}, \"1842\": {\"frequency\": 2, \"value\": 1842}, \"1843\": {\"frequency\": 1, \"value\": 1843}, \"1844\": {\"frequency\": 29, \"value\": 1844}, \"1845\": {\"frequency\": 301, \"value\": 1845}, \"1846\": {\"frequency\": 20, \"value\": 1846}, \"1848\": {\"frequency\": 177, \"value\": 1848}, \"1849\": {\"frequency\": 7, \"value\": 1849}, \"1850\": {\"frequency\": 13, \"value\": 1850}, \"1851\": {\"frequency\": 2, \"value\": 1851}, \"1852\": {\"frequency\": 1, \"value\": 1852}, \"1853\": {\"frequency\": 17, \"value\": 1853}, \"1854\": {\"frequency\": 48, \"value\": 1854}, \"1855\": {\"frequency\": 108, \"value\": 1855}, \"1856\": {\"frequency\": 72, \"value\": 1856}, \"1857\": {\"frequency\": 24, \"value\": 1857}, \"1858\": {\"frequency\": 172, \"value\": 1858}, \"1859\": {\"frequency\": 32, \"value\": 1859}, \"1860\": {\"frequency\": 44, \"value\": 1860}, \"1861\": {\"frequency\": 3, \"value\": 1861}, \"1862\": {\"frequency\": 198, \"value\": 1862}, \"1863\": {\"frequency\": 142, \"value\": 1863}, \"1864\": {\"frequency\": 11, \"value\": 1864}, \"1865\": {\"frequency\": 54, \"value\": 1865}, \"1866\": {\"frequency\": 189, \"value\": 1866}, \"1867\": {\"frequency\": 38, \"value\": 1867}, \"1868\": {\"frequency\": 2, \"value\": 1868}, \"1869\": {\"frequency\": 51, \"value\": 1869}, \"1870\": {\"frequency\": 72, \"value\": 1870}, \"1871\": {\"frequency\": 4, \"value\": 1871}, \"1872\": {\"frequency\": 10, \"value\": 1872}, \"1873\": {\"frequency\": 259, \"value\": 1873}, \"1874\": {\"frequency\": 27, \"value\": 1874}, \"1875\": {\"frequency\": 164, \"value\": 1875}, \"1876\": {\"frequency\": 895, \"value\": 1876}, \"1877\": {\"frequency\": 4, \"value\": 1877}, \"1878\": {\"frequency\": 11, \"value\": 1878}, \"1879\": {\"frequency\": 22, \"value\": 1879}, \"1880\": {\"frequency\": 26, \"value\": 1880}, \"1881\": {\"frequency\": 68, \"value\": 1881}, \"1882\": {\"frequency\": 499, \"value\": 1882}, \"1883\": {\"frequency\": 664, \"value\": 1883}, \"1884\": {\"frequency\": 298, \"value\": 1884}, \"1885\": {\"frequency\": 608, \"value\": 1885}, \"1886\": {\"frequency\": 4, \"value\": 1886}, \"1887\": {\"frequency\": 60, \"value\": 1887}, \"1888\": {\"frequency\": 387, \"value\": 1888}, \"1889\": {\"frequency\": 49, \"value\": 1889}, \"1890\": {\"frequency\": 7, \"value\": 1890}, \"1891\": {\"frequency\": 9, \"value\": 1891}, \"1892\": {\"frequency\": 401, \"value\": 1892}, \"1893\": {\"frequency\": 21, \"value\": 1893}, \"1894\": {\"frequency\": 471, \"value\": 1894}, \"1895\": {\"frequency\": 306, \"value\": 1895}, \"1896\": {\"frequency\": 47, \"value\": 1896}, \"1897\": {\"frequency\": 133, \"value\": 1897}, \"1898\": {\"frequency\": 14, \"value\": 1898}, \"1899\": {\"frequency\": 10, \"value\": 1899}, \"1900\": {\"frequency\": 61, \"value\": 1900}, \"1901\": {\"frequency\": 5, \"value\": 1901}, \"1902\": {\"frequency\": 30, \"value\": 1902}, \"1903\": {\"frequency\": 6, \"value\": 1903}, \"1904\": {\"frequency\": 113, \"value\": 1904}, \"1905\": {\"frequency\": 2, \"value\": 1905}, \"1906\": {\"frequency\": 32, \"value\": 1906}, \"1907\": {\"frequency\": 490, \"value\": 1907}, \"1908\": {\"frequency\": 1, \"value\": 1908}, \"1909\": {\"frequency\": 996, \"value\": 1909}, \"1910\": {\"frequency\": 41, \"value\": 1910}, \"1911\": {\"frequency\": 527, \"value\": 1911}, \"1912\": {\"frequency\": 908, \"value\": 1912}, \"1913\": {\"frequency\": 167, \"value\": 1913}, \"1914\": {\"frequency\": 372, \"value\": 1914}, \"1915\": {\"frequency\": 1, \"value\": 1915}, \"1916\": {\"frequency\": 354, \"value\": 1916}, \"1917\": {\"frequency\": 1110, \"value\": 1917}, \"1918\": {\"frequency\": 669, \"value\": 1918}, \"1919\": {\"frequency\": 116, \"value\": 1919}, \"1920\": {\"frequency\": 364, \"value\": 1920}, \"1921\": {\"frequency\": 613, \"value\": 1921}, \"1922\": {\"frequency\": 52, \"value\": 1922}, \"1923\": {\"frequency\": 1371, \"value\": 1923}, \"1924\": {\"frequency\": 249, \"value\": 1924}, \"1925\": {\"frequency\": 45, \"value\": 1925}, \"1926\": {\"frequency\": 32, \"value\": 1926}, \"1927\": {\"frequency\": 268, \"value\": 1927}, \"1928\": {\"frequency\": 29, \"value\": 1928}, \"1929\": {\"frequency\": 84, \"value\": 1929}, \"1930\": {\"frequency\": 5, \"value\": 1930}, \"1931\": {\"frequency\": 225, \"value\": 1931}, \"1932\": {\"frequency\": 36, \"value\": 1932}, \"1933\": {\"frequency\": 21, \"value\": 1933}, \"1934\": {\"frequency\": 77, \"value\": 1934}, \"1935\": {\"frequency\": 107, \"value\": 1935}, \"1936\": {\"frequency\": 82, \"value\": 1936}, \"1937\": {\"frequency\": 63, \"value\": 1937}, \"1938\": {\"frequency\": 122, \"value\": 1938}, \"1939\": {\"frequency\": 236, \"value\": 1939}, \"1940\": {\"frequency\": 91, \"value\": 1940}, \"1941\": {\"frequency\": 113, \"value\": 1941}, \"1942\": {\"frequency\": 119, \"value\": 1942}, \"1943\": {\"frequency\": 61, \"value\": 1943}, \"1944\": {\"frequency\": 364, \"value\": 1944}, \"1945\": {\"frequency\": 519, \"value\": 1945}, \"1946\": {\"frequency\": 205, \"value\": 1946}, \"1947\": {\"frequency\": 761, \"value\": 1947}, \"1948\": {\"frequency\": 198, \"value\": 1948}, \"1949\": {\"frequency\": 219, \"value\": 1949}, \"1950\": {\"frequency\": 348, \"value\": 1950}, \"1951\": {\"frequency\": 213, \"value\": 1951}, \"1952\": {\"frequency\": 663, \"value\": 1952}, \"1953\": {\"frequency\": 861, \"value\": 1953}, \"1954\": {\"frequency\": 1129, \"value\": 1954}, \"1955\": {\"frequency\": 452, \"value\": 1955}, \"1956\": {\"frequency\": 507, \"value\": 1956}, \"1957\": {\"frequency\": 634, \"value\": 1957}, \"1958\": {\"frequency\": 530, \"value\": 1958}, \"1959\": {\"frequency\": 626, \"value\": 1959}, \"1960\": {\"frequency\": 636, \"value\": 1960}, \"1961\": {\"frequency\": 1330, \"value\": 1961}, \"1962\": {\"frequency\": 652, \"value\": 1962}, \"1963\": {\"frequency\": 252, \"value\": 1963}, \"1964\": {\"frequency\": 302, \"value\": 1964}, \"1965\": {\"frequency\": 751, \"value\": 1965}, \"1966\": {\"frequency\": 198, \"value\": 1966}, \"1967\": {\"frequency\": 554, \"value\": 1967}, \"1968\": {\"frequency\": 1539, \"value\": 1968}, \"1969\": {\"frequency\": 274, \"value\": 1969}, \"1970\": {\"frequency\": 268, \"value\": 1970}, \"1971\": {\"frequency\": 242, \"value\": 1971}, \"1972\": {\"frequency\": 200, \"value\": 1972}, \"1973\": {\"frequency\": 215, \"value\": 1973}, \"1974\": {\"frequency\": 317, \"value\": 1974}, \"1975\": {\"frequency\": 171, \"value\": 1975}, \"1976\": {\"frequency\": 199, \"value\": 1976}, \"1977\": {\"frequency\": 169, \"value\": 1977}, \"1978\": {\"frequency\": 114, \"value\": 1978}, \"1979\": {\"frequency\": 112, \"value\": 1979}, \"1980\": {\"frequency\": 91, \"value\": 1980}, \"1981\": {\"frequency\": 99, \"value\": 1981}, \"1982\": {\"frequency\": 506, \"value\": 1982}, \"1983\": {\"frequency\": 195, \"value\": 1983}, \"1984\": {\"frequency\": 105, \"value\": 1984}, \"1985\": {\"frequency\": 129, \"value\": 1985}, \"1986\": {\"frequency\": 127, \"value\": 1986}, \"1987\": {\"frequency\": 91, \"value\": 1987}, \"1988\": {\"frequency\": 51, \"value\": 1988}, \"1989\": {\"frequency\": 15, \"value\": 1989}, \"1990\": {\"frequency\": 16, \"value\": 1990}, \"1991\": {\"frequency\": 239, \"value\": 1991}, \"1992\": {\"frequency\": 133, \"value\": 1992}, \"1993\": {\"frequency\": 97, \"value\": 1993}, \"1994\": {\"frequency\": 795, \"value\": 1994}, \"1995\": {\"frequency\": 182, \"value\": 1995}, \"1996\": {\"frequency\": 112, \"value\": 1996}, \"1997\": {\"frequency\": 885, \"value\": 1997}, \"1998\": {\"frequency\": 113, \"value\": 1998}, \"1999\": {\"frequency\": 127, \"value\": 1999}, \"2000\": {\"frequency\": 1627, \"value\": 2000}, \"2001\": {\"frequency\": 1011, \"value\": 2001}, \"2002\": {\"frequency\": 802, \"value\": 2002}, \"2003\": {\"frequency\": 776, \"value\": 2003}, \"2004\": {\"frequency\": 372, \"value\": 2004}, \"2005\": {\"frequency\": 716, \"value\": 2005}, \"2006\": {\"frequency\": 983, \"value\": 2006}, \"2007\": {\"frequency\": 65, \"value\": 2007}, \"2008\": {\"frequency\": 15, \"value\": 2008}, \"2009\": {\"frequency\": 422, \"value\": 2009}, \"2010\": {\"frequency\": 388, \"value\": 2010}, \"2011\": {\"frequency\": 1158, \"value\": 2011}, \"2012\": {\"frequency\": 1148, \"value\": 2012}, \"2013\": {\"frequency\": 622, \"value\": 2013}, \"2014\": {\"frequency\": 180, \"value\": 2014}, \"2015\": {\"frequency\": 380, \"value\": 2015}, \"2016\": {\"frequency\": 109, \"value\": 2016}, \"2017\": {\"frequency\": 162, \"value\": 2017}, \"2018\": {\"frequency\": 589, \"value\": 2018}, \"2019\": {\"frequency\": 628, \"value\": 2019}, \"2020\": {\"frequency\": 773, \"value\": 2020}, \"2021\": {\"frequency\": 789, \"value\": 2021}, \"2022\": {\"frequency\": 254, \"value\": 2022}, \"2023\": {\"frequency\": 774, \"value\": 2023}, \"2024\": {\"frequency\": 148, \"value\": 2024}, \"2025\": {\"frequency\": 221, \"value\": 2025}, \"2026\": {\"frequency\": 161, \"value\": 2026}, \"2027\": {\"frequency\": 129, \"value\": 2027}, \"2028\": {\"frequency\": 2653, \"value\": 2028}, \"2029\": {\"frequency\": 76, \"value\": 2029}, \"2031\": {\"frequency\": 37, \"value\": 2031}, \"2032\": {\"frequency\": 40, \"value\": 2032}, \"2033\": {\"frequency\": 200, \"value\": 2033}, \"2034\": {\"frequency\": 295, \"value\": 2034}, \"2035\": {\"frequency\": 57, \"value\": 2035}, \"2036\": {\"frequency\": 96, \"value\": 2036}, \"2037\": {\"frequency\": 54, \"value\": 2037}, \"2038\": {\"frequency\": 198, \"value\": 2038}, \"2039\": {\"frequency\": 1, \"value\": 2039}, \"2040\": {\"frequency\": 128, \"value\": 2040}, \"2041\": {\"frequency\": 145, \"value\": 2041}, \"2042\": {\"frequency\": 193, \"value\": 2042}, \"2043\": {\"frequency\": 158, \"value\": 2043}, \"2044\": {\"frequency\": 52, \"value\": 2044}, \"2045\": {\"frequency\": 55, \"value\": 2045}, \"2046\": {\"frequency\": 536, \"value\": 2046}, \"2047\": {\"frequency\": 22, \"value\": 2047}, \"2048\": {\"frequency\": 131, \"value\": 2048}, \"2049\": {\"frequency\": 37, \"value\": 2049}, \"2050\": {\"frequency\": 104, \"value\": 2050}, \"2051\": {\"frequency\": 101, \"value\": 2051}, \"2052\": {\"frequency\": 183, \"value\": 2052}, \"2053\": {\"frequency\": 381, \"value\": 2053}, \"2054\": {\"frequency\": 1045, \"value\": 2054}, \"2055\": {\"frequency\": 42, \"value\": 2055}, \"2056\": {\"frequency\": 18, \"value\": 2056}, \"2057\": {\"frequency\": 91, \"value\": 2057}, \"2058\": {\"frequency\": 799, \"value\": 2058}, \"2059\": {\"frequency\": 268, \"value\": 2059}, \"2060\": {\"frequency\": 183, \"value\": 2060}, \"2061\": {\"frequency\": 7, \"value\": 2061}, \"2062\": {\"frequency\": 70, \"value\": 2062}, \"2063\": {\"frequency\": 8, \"value\": 2063}, \"2064\": {\"frequency\": 798, \"value\": 2064}, \"2065\": {\"frequency\": 479, \"value\": 2065}, \"2066\": {\"frequency\": 106, \"value\": 2066}, \"2067\": {\"frequency\": 564, \"value\": 2067}, \"2068\": {\"frequency\": 128, \"value\": 2068}, \"2069\": {\"frequency\": 140, \"value\": 2069}, \"2070\": {\"frequency\": 264, \"value\": 2070}, \"2071\": {\"frequency\": 171, \"value\": 2071}, \"2072\": {\"frequency\": 303, \"value\": 2072}, \"2073\": {\"frequency\": 66, \"value\": 2073}, \"2074\": {\"frequency\": 21, \"value\": 2074}, \"2075\": {\"frequency\": 81, \"value\": 2075}, \"2076\": {\"frequency\": 654, \"value\": 2076}, \"2077\": {\"frequency\": 154, \"value\": 2077}, \"2078\": {\"frequency\": 664, \"value\": 2078}, \"2079\": {\"frequency\": 14, \"value\": 2079}, \"2080\": {\"frequency\": 864, \"value\": 2080}, \"2081\": {\"frequency\": 1035, \"value\": 2081}, \"2082\": {\"frequency\": 361, \"value\": 2082}, \"2083\": {\"frequency\": 262, \"value\": 2083}, \"2084\": {\"frequency\": 93, \"value\": 2084}, \"2085\": {\"frequency\": 565, \"value\": 2085}, \"2086\": {\"frequency\": 29, \"value\": 2086}, \"2087\": {\"frequency\": 594, \"value\": 2087}, \"2088\": {\"frequency\": 471, \"value\": 2088}, \"2089\": {\"frequency\": 239, \"value\": 2089}, \"2090\": {\"frequency\": 249, \"value\": 2090}, \"2091\": {\"frequency\": 186, \"value\": 2091}, \"2092\": {\"frequency\": 163, \"value\": 2092}, \"2093\": {\"frequency\": 276, \"value\": 2093}, \"2094\": {\"frequency\": 736, \"value\": 2094}, \"2095\": {\"frequency\": 113, \"value\": 2095}, \"2096\": {\"frequency\": 511, \"value\": 2096}, \"2097\": {\"frequency\": 213, \"value\": 2097}, \"2098\": {\"frequency\": 76, \"value\": 2098}, \"2099\": {\"frequency\": 221, \"value\": 2099}, \"2100\": {\"frequency\": 1163, \"value\": 2100}, \"2101\": {\"frequency\": 15, \"value\": 2101}, \"2102\": {\"frequency\": 197, \"value\": 2102}, \"2103\": {\"frequency\": 37, \"value\": 2103}, \"2104\": {\"frequency\": 53, \"value\": 2104}, \"2105\": {\"frequency\": 970, \"value\": 2105}, \"2106\": {\"frequency\": 185, \"value\": 2106}, \"2107\": {\"frequency\": 199, \"value\": 2107}, \"2108\": {\"frequency\": 825, \"value\": 2108}, \"2109\": {\"frequency\": 573, \"value\": 2109}, \"2110\": {\"frequency\": 367, \"value\": 2110}, \"2111\": {\"frequency\": 312, \"value\": 2111}, \"2112\": {\"frequency\": 346, \"value\": 2112}, \"2113\": {\"frequency\": 79, \"value\": 2113}, \"2114\": {\"frequency\": 256, \"value\": 2114}, \"2115\": {\"frequency\": 1127, \"value\": 2115}, \"2116\": {\"frequency\": 438, \"value\": 2116}, \"2117\": {\"frequency\": 278, \"value\": 2117}, \"2118\": {\"frequency\": 363, \"value\": 2118}, \"2119\": {\"frequency\": 147, \"value\": 2119}, \"2120\": {\"frequency\": 242, \"value\": 2120}, \"2121\": {\"frequency\": 245, \"value\": 2121}, \"2122\": {\"frequency\": 233, \"value\": 2122}, \"2123\": {\"frequency\": 215, \"value\": 2123}, \"2124\": {\"frequency\": 714, \"value\": 2124}, \"2125\": {\"frequency\": 416, \"value\": 2125}, \"2126\": {\"frequency\": 495, \"value\": 2126}, \"2127\": {\"frequency\": 4, \"value\": 2127}, \"2128\": {\"frequency\": 25, \"value\": 2128}, \"2129\": {\"frequency\": 8, \"value\": 2129}, \"2130\": {\"frequency\": 304, \"value\": 2130}, \"2131\": {\"frequency\": 30, \"value\": 2131}, \"2132\": {\"frequency\": 297, \"value\": 2132}, \"2133\": {\"frequency\": 541, \"value\": 2133}, \"2134\": {\"frequency\": 510, \"value\": 2134}, \"2135\": {\"frequency\": 238, \"value\": 2135}, \"2136\": {\"frequency\": 222, \"value\": 2136}, \"2137\": {\"frequency\": 497, \"value\": 2137}, \"2138\": {\"frequency\": 305, \"value\": 2138}, \"2139\": {\"frequency\": 369, \"value\": 2139}, \"2140\": {\"frequency\": 710, \"value\": 2140}, \"2141\": {\"frequency\": 404, \"value\": 2141}, \"2142\": {\"frequency\": 201, \"value\": 2142}, \"2143\": {\"frequency\": 355, \"value\": 2143}, \"2144\": {\"frequency\": 719, \"value\": 2144}, \"2145\": {\"frequency\": 693, \"value\": 2145}, \"2146\": {\"frequency\": 352, \"value\": 2146}, \"2147\": {\"frequency\": 231, \"value\": 2147}, \"2148\": {\"frequency\": 166, \"value\": 2148}, \"2149\": {\"frequency\": 103, \"value\": 2149}, \"2150\": {\"frequency\": 695, \"value\": 2150}, \"2151\": {\"frequency\": 128, \"value\": 2151}, \"2152\": {\"frequency\": 69, \"value\": 2152}, \"2153\": {\"frequency\": 288, \"value\": 2153}, \"2154\": {\"frequency\": 140, \"value\": 2154}, \"2155\": {\"frequency\": 267, \"value\": 2155}, \"2156\": {\"frequency\": 9, \"value\": 2156}, \"2157\": {\"frequency\": 20, \"value\": 2157}, \"2158\": {\"frequency\": 20, \"value\": 2158}, \"2159\": {\"frequency\": 219, \"value\": 2159}, \"2160\": {\"frequency\": 712, \"value\": 2160}, \"2161\": {\"frequency\": 699, \"value\": 2161}, \"2162\": {\"frequency\": 177, \"value\": 2162}, \"2163\": {\"frequency\": 206, \"value\": 2163}, \"2164\": {\"frequency\": 20, \"value\": 2164}, \"2165\": {\"frequency\": 109, \"value\": 2165}, \"2166\": {\"frequency\": 144, \"value\": 2166}, \"2167\": {\"frequency\": 809, \"value\": 2167}, \"2168\": {\"frequency\": 79, \"value\": 2168}, \"2169\": {\"frequency\": 130, \"value\": 2169}, \"2170\": {\"frequency\": 123, \"value\": 2170}, \"2171\": {\"frequency\": 196, \"value\": 2171}, \"2172\": {\"frequency\": 4, \"value\": 2172}, \"2173\": {\"frequency\": 110, \"value\": 2173}, \"2174\": {\"frequency\": 1495, \"value\": 2174}, \"2175\": {\"frequency\": 18, \"value\": 2175}, \"2176\": {\"frequency\": 191, \"value\": 2176}, \"2177\": {\"frequency\": 83, \"value\": 2177}, \"2178\": {\"frequency\": 95, \"value\": 2178}, \"2179\": {\"frequency\": 39, \"value\": 2179}, \"2180\": {\"frequency\": 58, \"value\": 2180}, \"2181\": {\"frequency\": 118, \"value\": 2181}, \"2182\": {\"frequency\": 98, \"value\": 2182}, \"2183\": {\"frequency\": 179, \"value\": 2183}, \"2184\": {\"frequency\": 147, \"value\": 2184}, \"2185\": {\"frequency\": 17, \"value\": 2185}, \"2186\": {\"frequency\": 482, \"value\": 2186}, \"2187\": {\"frequency\": 26, \"value\": 2187}, \"2188\": {\"frequency\": 259, \"value\": 2188}, \"2189\": {\"frequency\": 21, \"value\": 2189}, \"2190\": {\"frequency\": 52, \"value\": 2190}, \"2191\": {\"frequency\": 10, \"value\": 2191}, \"2192\": {\"frequency\": 7, \"value\": 2192}, \"2193\": {\"frequency\": 802, \"value\": 2193}, \"2194\": {\"frequency\": 1127, \"value\": 2194}, \"2195\": {\"frequency\": 135, \"value\": 2195}, \"2196\": {\"frequency\": 27, \"value\": 2196}, \"2197\": {\"frequency\": 11, \"value\": 2197}, \"2198\": {\"frequency\": 2, \"value\": 2198}, \"2200\": {\"frequency\": 8, \"value\": 2200}, \"2201\": {\"frequency\": 20, \"value\": 2201}, \"2202\": {\"frequency\": 213, \"value\": 2202}, \"2203\": {\"frequency\": 233, \"value\": 2203}, \"2204\": {\"frequency\": 89, \"value\": 2204}, \"2205\": {\"frequency\": 33, \"value\": 2205}, \"2206\": {\"frequency\": 167, \"value\": 2206}, \"2207\": {\"frequency\": 8, \"value\": 2207}, \"2208\": {\"frequency\": 199, \"value\": 2208}, \"2209\": {\"frequency\": 10, \"value\": 2209}, \"2210\": {\"frequency\": 54, \"value\": 2210}, \"2211\": {\"frequency\": 19, \"value\": 2211}, \"2212\": {\"frequency\": 128, \"value\": 2212}, \"2213\": {\"frequency\": 1, \"value\": 2213}, \"2214\": {\"frequency\": 1, \"value\": 2214}, \"2215\": {\"frequency\": 12, \"value\": 2215}, \"2217\": {\"frequency\": 1, \"value\": 2217}, \"2218\": {\"frequency\": 1, \"value\": 2218}, \"2219\": {\"frequency\": 10, \"value\": 2219}, \"2221\": {\"frequency\": 11, \"value\": 2221}, \"2223\": {\"frequency\": 3, \"value\": 2223}, \"2226\": {\"frequency\": 1, \"value\": 2226}, \"2227\": {\"frequency\": 21, \"value\": 2227}, \"2231\": {\"frequency\": 345, \"value\": 2231}, \"2232\": {\"frequency\": 233, \"value\": 2232}, \"2233\": {\"frequency\": 5, \"value\": 2233}, \"2234\": {\"frequency\": 8, \"value\": 2234}, \"2235\": {\"frequency\": 1, \"value\": 2235}, \"2236\": {\"frequency\": 202, \"value\": 2236}, \"2237\": {\"frequency\": 44, \"value\": 2237}, \"2238\": {\"frequency\": 77, \"value\": 2238}, \"2239\": {\"frequency\": 97, \"value\": 2239}, \"2240\": {\"frequency\": 238, \"value\": 2240}, \"2241\": {\"frequency\": 129, \"value\": 2241}, \"2242\": {\"frequency\": 6, \"value\": 2242}, \"2243\": {\"frequency\": 789, \"value\": 2243}, \"2244\": {\"frequency\": 7, \"value\": 2244}, \"2245\": {\"frequency\": 514, \"value\": 2245}, \"2246\": {\"frequency\": 14, \"value\": 2246}, \"2247\": {\"frequency\": 365, \"value\": 2247}, \"2248\": {\"frequency\": 914, \"value\": 2248}, \"2249\": {\"frequency\": 239, \"value\": 2249}, \"2250\": {\"frequency\": 62, \"value\": 2250}, \"2251\": {\"frequency\": 2, \"value\": 2251}, \"2252\": {\"frequency\": 186, \"value\": 2252}, \"2253\": {\"frequency\": 440, \"value\": 2253}, \"2254\": {\"frequency\": 1, \"value\": 2254}, \"2255\": {\"frequency\": 79, \"value\": 2255}, \"2256\": {\"frequency\": 24, \"value\": 2256}, \"2257\": {\"frequency\": 17, \"value\": 2257}, \"2258\": {\"frequency\": 2, \"value\": 2258}, \"2259\": {\"frequency\": 201, \"value\": 2259}, \"2260\": {\"frequency\": 49, \"value\": 2260}, \"2261\": {\"frequency\": 161, \"value\": 2261}, \"2262\": {\"frequency\": 326, \"value\": 2262}, \"2263\": {\"frequency\": 175, \"value\": 2263}, \"2264\": {\"frequency\": 83, \"value\": 2264}, \"2265\": {\"frequency\": 83, \"value\": 2265}, \"2266\": {\"frequency\": 195, \"value\": 2266}, \"2267\": {\"frequency\": 74, \"value\": 2267}, \"2268\": {\"frequency\": 1061, \"value\": 2268}, \"2269\": {\"frequency\": 217, \"value\": 2269}, \"2271\": {\"frequency\": 76, \"value\": 2271}, \"2272\": {\"frequency\": 112, \"value\": 2272}, \"2273\": {\"frequency\": 627, \"value\": 2273}, \"2275\": {\"frequency\": 71, \"value\": 2275}, \"2276\": {\"frequency\": 70, \"value\": 2276}, \"2277\": {\"frequency\": 1, \"value\": 2277}, \"2278\": {\"frequency\": 806, \"value\": 2278}, \"2279\": {\"frequency\": 226, \"value\": 2279}, \"2280\": {\"frequency\": 125, \"value\": 2280}, \"2281\": {\"frequency\": 11, \"value\": 2281}, \"2282\": {\"frequency\": 316, \"value\": 2282}, \"2283\": {\"frequency\": 61, \"value\": 2283}, \"2284\": {\"frequency\": 43, \"value\": 2284}, \"2285\": {\"frequency\": 54, \"value\": 2285}, \"2286\": {\"frequency\": 43, \"value\": 2286}, \"2287\": {\"frequency\": 280, \"value\": 2287}, \"2288\": {\"frequency\": 741, \"value\": 2288}, \"2289\": {\"frequency\": 978, \"value\": 2289}, \"2290\": {\"frequency\": 121, \"value\": 2290}, \"2291\": {\"frequency\": 1473, \"value\": 2291}, \"2292\": {\"frequency\": 20, \"value\": 2292}, \"2293\": {\"frequency\": 25, \"value\": 2293}, \"2294\": {\"frequency\": 645, \"value\": 2294}, \"2295\": {\"frequency\": 74, \"value\": 2295}, \"2296\": {\"frequency\": 144, \"value\": 2296}, \"2297\": {\"frequency\": 355, \"value\": 2297}, \"2298\": {\"frequency\": 15, \"value\": 2298}, \"2299\": {\"frequency\": 4, \"value\": 2299}, \"2300\": {\"frequency\": 658, \"value\": 2300}, \"2301\": {\"frequency\": 371, \"value\": 2301}, \"2302\": {\"frequency\": 1086, \"value\": 2302}, \"2303\": {\"frequency\": 325, \"value\": 2303}, \"2304\": {\"frequency\": 7, \"value\": 2304}, \"2305\": {\"frequency\": 25, \"value\": 2305}, \"2306\": {\"frequency\": 90, \"value\": 2306}, \"2307\": {\"frequency\": 38, \"value\": 2307}, \"2308\": {\"frequency\": 1, \"value\": 2308}, \"2309\": {\"frequency\": 2, \"value\": 2309}, \"2310\": {\"frequency\": 134, \"value\": 2310}, \"2311\": {\"frequency\": 470, \"value\": 2311}, \"2312\": {\"frequency\": 331, \"value\": 2312}, \"2313\": {\"frequency\": 457, \"value\": 2313}, \"2314\": {\"frequency\": 104, \"value\": 2314}, \"2315\": {\"frequency\": 147, \"value\": 2315}, \"2316\": {\"frequency\": 236, \"value\": 2316}, \"2317\": {\"frequency\": 8, \"value\": 2317}, \"2318\": {\"frequency\": 320, \"value\": 2318}, \"2320\": {\"frequency\": 187, \"value\": 2320}, \"2321\": {\"frequency\": 1158, \"value\": 2321}, \"2322\": {\"frequency\": 290, \"value\": 2322}, \"2323\": {\"frequency\": 35, \"value\": 2323}, \"2324\": {\"frequency\": 1152, \"value\": 2324}, \"2325\": {\"frequency\": 119, \"value\": 2325}, \"2326\": {\"frequency\": 12, \"value\": 2326}, \"2327\": {\"frequency\": 100, \"value\": 2327}, \"2328\": {\"frequency\": 173, \"value\": 2328}, \"2329\": {\"frequency\": 640, \"value\": 2329}, \"2330\": {\"frequency\": 92, \"value\": 2330}, \"2331\": {\"frequency\": 179, \"value\": 2331}, \"2332\": {\"frequency\": 8, \"value\": 2332}, \"2333\": {\"frequency\": 578, \"value\": 2333}, \"2334\": {\"frequency\": 386, \"value\": 2334}, \"2335\": {\"frequency\": 420, \"value\": 2335}, \"2336\": {\"frequency\": 938, \"value\": 2336}, \"2337\": {\"frequency\": 126, \"value\": 2337}, \"2338\": {\"frequency\": 295, \"value\": 2338}, \"2339\": {\"frequency\": 27, \"value\": 2339}, \"2340\": {\"frequency\": 344, \"value\": 2340}, \"2341\": {\"frequency\": 44, \"value\": 2341}, \"2342\": {\"frequency\": 11, \"value\": 2342}, \"2343\": {\"frequency\": 2, \"value\": 2343}, \"2344\": {\"frequency\": 201, \"value\": 2344}, \"2345\": {\"frequency\": 43, \"value\": 2345}, \"2346\": {\"frequency\": 300, \"value\": 2346}, \"2347\": {\"frequency\": 95, \"value\": 2347}, \"2348\": {\"frequency\": 304, \"value\": 2348}, \"2349\": {\"frequency\": 167, \"value\": 2349}, \"2350\": {\"frequency\": 19, \"value\": 2350}, \"2351\": {\"frequency\": 111, \"value\": 2351}, \"2352\": {\"frequency\": 838, \"value\": 2352}, \"2353\": {\"frequency\": 988, \"value\": 2353}, \"2354\": {\"frequency\": 141, \"value\": 2354}, \"2355\": {\"frequency\": 1703, \"value\": 2355}, \"2356\": {\"frequency\": 96, \"value\": 2356}, \"2357\": {\"frequency\": 215, \"value\": 2357}, \"2358\": {\"frequency\": 4, \"value\": 2358}, \"2359\": {\"frequency\": 703, \"value\": 2359}, \"2360\": {\"frequency\": 117, \"value\": 2360}, \"2361\": {\"frequency\": 158, \"value\": 2361}, \"2362\": {\"frequency\": 53, \"value\": 2362}, \"2363\": {\"frequency\": 301, \"value\": 2363}, \"2364\": {\"frequency\": 121, \"value\": 2364}, \"2365\": {\"frequency\": 136, \"value\": 2365}, \"2366\": {\"frequency\": 756, \"value\": 2366}, \"2367\": {\"frequency\": 309, \"value\": 2367}, \"2368\": {\"frequency\": 58, \"value\": 2368}, \"2369\": {\"frequency\": 840, \"value\": 2369}, \"2370\": {\"frequency\": 142, \"value\": 2370}, \"2371\": {\"frequency\": 599, \"value\": 2371}, \"2372\": {\"frequency\": 238, \"value\": 2372}, \"2373\": {\"frequency\": 189, \"value\": 2373}, \"2374\": {\"frequency\": 244, \"value\": 2374}, \"2375\": {\"frequency\": 418, \"value\": 2375}, \"2376\": {\"frequency\": 325, \"value\": 2376}, \"2377\": {\"frequency\": 183, \"value\": 2377}, \"2378\": {\"frequency\": 413, \"value\": 2378}, \"2379\": {\"frequency\": 225, \"value\": 2379}, \"2380\": {\"frequency\": 196, \"value\": 2380}, \"2381\": {\"frequency\": 174, \"value\": 2381}, \"2382\": {\"frequency\": 150, \"value\": 2382}, \"2383\": {\"frequency\": 149, \"value\": 2383}, \"2384\": {\"frequency\": 523, \"value\": 2384}, \"2385\": {\"frequency\": 146, \"value\": 2385}, \"2386\": {\"frequency\": 59, \"value\": 2386}, \"2387\": {\"frequency\": 217, \"value\": 2387}, \"2388\": {\"frequency\": 15, \"value\": 2388}, \"2389\": {\"frequency\": 264, \"value\": 2389}, \"2390\": {\"frequency\": 330, \"value\": 2390}, \"2391\": {\"frequency\": 745, \"value\": 2391}, \"2392\": {\"frequency\": 205, \"value\": 2392}, \"2393\": {\"frequency\": 807, \"value\": 2393}, \"2394\": {\"frequency\": 579, \"value\": 2394}, \"2395\": {\"frequency\": 1220, \"value\": 2395}, \"2396\": {\"frequency\": 2369, \"value\": 2396}, \"2397\": {\"frequency\": 23, \"value\": 2397}, \"2398\": {\"frequency\": 380, \"value\": 2398}, \"2399\": {\"frequency\": 223, \"value\": 2399}, \"2400\": {\"frequency\": 43, \"value\": 2400}, \"2401\": {\"frequency\": 312, \"value\": 2401}, \"2402\": {\"frequency\": 401, \"value\": 2402}, \"2403\": {\"frequency\": 397, \"value\": 2403}, \"2404\": {\"frequency\": 301, \"value\": 2404}, \"2405\": {\"frequency\": 673, \"value\": 2405}, \"2406\": {\"frequency\": 1345, \"value\": 2406}, \"2407\": {\"frequency\": 1006, \"value\": 2407}, \"2408\": {\"frequency\": 259, \"value\": 2408}, \"2409\": {\"frequency\": 445, \"value\": 2409}, \"2410\": {\"frequency\": 401, \"value\": 2410}, \"2411\": {\"frequency\": 375, \"value\": 2411}, \"2412\": {\"frequency\": 274, \"value\": 2412}, \"2413\": {\"frequency\": 443, \"value\": 2413}, \"2414\": {\"frequency\": 379, \"value\": 2414}, \"2415\": {\"frequency\": 15, \"value\": 2415}, \"2416\": {\"frequency\": 354, \"value\": 2416}, \"2417\": {\"frequency\": 74, \"value\": 2417}, \"2418\": {\"frequency\": 110, \"value\": 2418}, \"2419\": {\"frequency\": 69, \"value\": 2419}, \"2420\": {\"frequency\": 493, \"value\": 2420}, \"2421\": {\"frequency\": 477, \"value\": 2421}, \"2422\": {\"frequency\": 286, \"value\": 2422}, \"2423\": {\"frequency\": 515, \"value\": 2423}, \"2424\": {\"frequency\": 838, \"value\": 2424}, \"2425\": {\"frequency\": 58, \"value\": 2425}, \"2426\": {\"frequency\": 27, \"value\": 2426}, \"2427\": {\"frequency\": 803, \"value\": 2427}, \"2428\": {\"frequency\": 513, \"value\": 2428}, \"2429\": {\"frequency\": 180, \"value\": 2429}, \"2430\": {\"frequency\": 144, \"value\": 2430}, \"2431\": {\"frequency\": 474, \"value\": 2431}, \"2432\": {\"frequency\": 146, \"value\": 2432}, \"2433\": {\"frequency\": 612, \"value\": 2433}, \"2434\": {\"frequency\": 60, \"value\": 2434}, \"2435\": {\"frequency\": 99, \"value\": 2435}, \"2436\": {\"frequency\": 122, \"value\": 2436}, \"2437\": {\"frequency\": 85, \"value\": 2437}, \"2438\": {\"frequency\": 1, \"value\": 2438}, \"2439\": {\"frequency\": 198, \"value\": 2439}, \"2440\": {\"frequency\": 47, \"value\": 2440}, \"2441\": {\"frequency\": 26, \"value\": 2441}, \"2442\": {\"frequency\": 160, \"value\": 2442}, \"2443\": {\"frequency\": 126, \"value\": 2443}, \"2444\": {\"frequency\": 5, \"value\": 2444}, \"2445\": {\"frequency\": 74, \"value\": 2445}, \"2446\": {\"frequency\": 63, \"value\": 2446}, \"2447\": {\"frequency\": 266, \"value\": 2447}, \"2448\": {\"frequency\": 189, \"value\": 2448}, \"2449\": {\"frequency\": 32, \"value\": 2449}, \"2450\": {\"frequency\": 434, \"value\": 2450}, \"2451\": {\"frequency\": 113, \"value\": 2451}, \"2452\": {\"frequency\": 19, \"value\": 2452}, \"2453\": {\"frequency\": 176, \"value\": 2453}, \"2454\": {\"frequency\": 480, \"value\": 2454}, \"2455\": {\"frequency\": 1071, \"value\": 2455}, \"2456\": {\"frequency\": 284, \"value\": 2456}, \"2457\": {\"frequency\": 259, \"value\": 2457}, \"2458\": {\"frequency\": 130, \"value\": 2458}, \"2459\": {\"frequency\": 247, \"value\": 2459}, \"2460\": {\"frequency\": 116, \"value\": 2460}, \"2461\": {\"frequency\": 62, \"value\": 2461}, \"2462\": {\"frequency\": 54, \"value\": 2462}, \"2463\": {\"frequency\": 475, \"value\": 2463}, \"2464\": {\"frequency\": 8, \"value\": 2464}, \"2465\": {\"frequency\": 42, \"value\": 2465}, \"2466\": {\"frequency\": 13, \"value\": 2466}, \"2467\": {\"frequency\": 324, \"value\": 2467}, \"2468\": {\"frequency\": 374, \"value\": 2468}, \"2469\": {\"frequency\": 506, \"value\": 2469}, \"2470\": {\"frequency\": 912, \"value\": 2470}, \"2471\": {\"frequency\": 414, \"value\": 2471}, \"2472\": {\"frequency\": 93, \"value\": 2472}, \"2473\": {\"frequency\": 193, \"value\": 2473}, \"2474\": {\"frequency\": 343, \"value\": 2474}, \"2475\": {\"frequency\": 140, \"value\": 2475}, \"2476\": {\"frequency\": 300, \"value\": 2476}, \"2477\": {\"frequency\": 42, \"value\": 2477}, \"2478\": {\"frequency\": 569, \"value\": 2478}, \"2479\": {\"frequency\": 44, \"value\": 2479}, \"2480\": {\"frequency\": 2, \"value\": 2480}, \"2481\": {\"frequency\": 35, \"value\": 2481}, \"2482\": {\"frequency\": 30, \"value\": 2482}, \"2483\": {\"frequency\": 25, \"value\": 2483}, \"2484\": {\"frequency\": 1, \"value\": 2484}, \"2485\": {\"frequency\": 410, \"value\": 2485}, \"2486\": {\"frequency\": 9, \"value\": 2486}, \"2487\": {\"frequency\": 7, \"value\": 2487}, \"2488\": {\"frequency\": 85, \"value\": 2488}, \"2490\": {\"frequency\": 773, \"value\": 2490}, \"2491\": {\"frequency\": 115, \"value\": 2491}, \"2492\": {\"frequency\": 139, \"value\": 2492}, \"2493\": {\"frequency\": 28, \"value\": 2493}, \"2494\": {\"frequency\": 27, \"value\": 2494}, \"2495\": {\"frequency\": 98, \"value\": 2495}, \"2496\": {\"frequency\": 360, \"value\": 2496}, \"2497\": {\"frequency\": 170, \"value\": 2497}, \"2498\": {\"frequency\": 123, \"value\": 2498}, \"2499\": {\"frequency\": 52, \"value\": 2499}, \"2500\": {\"frequency\": 119, \"value\": 2500}, \"2501\": {\"frequency\": 588, \"value\": 2501}, \"2502\": {\"frequency\": 872, \"value\": 2502}, \"2503\": {\"frequency\": 9, \"value\": 2503}, \"2504\": {\"frequency\": 181, \"value\": 2504}, \"2505\": {\"frequency\": 272, \"value\": 2505}, \"2506\": {\"frequency\": 163, \"value\": 2506}, \"2507\": {\"frequency\": 54, \"value\": 2507}, \"2509\": {\"frequency\": 18, \"value\": 2509}, \"2510\": {\"frequency\": 3, \"value\": 2510}, \"2511\": {\"frequency\": 82, \"value\": 2511}, \"2512\": {\"frequency\": 19, \"value\": 2512}, \"2513\": {\"frequency\": 305, \"value\": 2513}, \"2514\": {\"frequency\": 116, \"value\": 2514}, \"2515\": {\"frequency\": 52, \"value\": 2515}, \"2516\": {\"frequency\": 45, \"value\": 2516}, \"2517\": {\"frequency\": 273, \"value\": 2517}, \"2518\": {\"frequency\": 294, \"value\": 2518}, \"2519\": {\"frequency\": 96, \"value\": 2519}, \"2520\": {\"frequency\": 179, \"value\": 2520}, \"2521\": {\"frequency\": 84, \"value\": 2521}, \"2522\": {\"frequency\": 79, \"value\": 2522}, \"2523\": {\"frequency\": 42, \"value\": 2523}, \"2524\": {\"frequency\": 266, \"value\": 2524}, \"2525\": {\"frequency\": 153, \"value\": 2525}, \"2526\": {\"frequency\": 131, \"value\": 2526}, \"2527\": {\"frequency\": 636, \"value\": 2527}, \"2528\": {\"frequency\": 626, \"value\": 2528}, \"2529\": {\"frequency\": 1162, \"value\": 2529}, \"2530\": {\"frequency\": 365, \"value\": 2530}, \"2531\": {\"frequency\": 312, \"value\": 2531}, \"2532\": {\"frequency\": 358, \"value\": 2532}, \"2533\": {\"frequency\": 463, \"value\": 2533}, \"2534\": {\"frequency\": 17, \"value\": 2534}, \"2535\": {\"frequency\": 119, \"value\": 2535}, \"2536\": {\"frequency\": 37, \"value\": 2536}, \"2537\": {\"frequency\": 34, \"value\": 2537}, \"2538\": {\"frequency\": 5, \"value\": 2538}, \"2539\": {\"frequency\": 616, \"value\": 2539}, \"2540\": {\"frequency\": 156, \"value\": 2540}, \"2541\": {\"frequency\": 559, \"value\": 2541}, \"2542\": {\"frequency\": 625, \"value\": 2542}, \"2543\": {\"frequency\": 2, \"value\": 2543}, \"2544\": {\"frequency\": 18, \"value\": 2544}, \"2545\": {\"frequency\": 12, \"value\": 2545}, \"2546\": {\"frequency\": 169, \"value\": 2546}, \"2548\": {\"frequency\": 105, \"value\": 2548}, \"2549\": {\"frequency\": 175, \"value\": 2549}, \"2550\": {\"frequency\": 183, \"value\": 2550}, \"2551\": {\"frequency\": 189, \"value\": 2551}, \"2552\": {\"frequency\": 37, \"value\": 2552}, \"2553\": {\"frequency\": 219, \"value\": 2553}, \"2554\": {\"frequency\": 136, \"value\": 2554}, \"2555\": {\"frequency\": 164, \"value\": 2555}, \"2556\": {\"frequency\": 1, \"value\": 2556}, \"2557\": {\"frequency\": 5, \"value\": 2557}, \"2558\": {\"frequency\": 235, \"value\": 2558}, \"2559\": {\"frequency\": 27, \"value\": 2559}, \"2560\": {\"frequency\": 171, \"value\": 2560}, \"2561\": {\"frequency\": 131, \"value\": 2561}, \"2562\": {\"frequency\": 9, \"value\": 2562}, \"2563\": {\"frequency\": 1, \"value\": 2563}, \"2565\": {\"frequency\": 372, \"value\": 2565}, \"2566\": {\"frequency\": 40, \"value\": 2566}, \"2567\": {\"frequency\": 302, \"value\": 2567}, \"2568\": {\"frequency\": 214, \"value\": 2568}, \"2569\": {\"frequency\": 9, \"value\": 2569}, \"2570\": {\"frequency\": 102, \"value\": 2570}, \"2571\": {\"frequency\": 2590, \"value\": 2571}, \"2572\": {\"frequency\": 700, \"value\": 2572}, \"2573\": {\"frequency\": 48, \"value\": 2573}, \"2574\": {\"frequency\": 199, \"value\": 2574}, \"2575\": {\"frequency\": 141, \"value\": 2575}, \"2576\": {\"frequency\": 3, \"value\": 2576}, \"2577\": {\"frequency\": 28, \"value\": 2577}, \"2578\": {\"frequency\": 4, \"value\": 2578}, \"2579\": {\"frequency\": 29, \"value\": 2579}, \"2580\": {\"frequency\": 723, \"value\": 2580}, \"2581\": {\"frequency\": 624, \"value\": 2581}, \"2582\": {\"frequency\": 66, \"value\": 2582}, \"2583\": {\"frequency\": 235, \"value\": 2583}, \"2584\": {\"frequency\": 1, \"value\": 2584}, \"2585\": {\"frequency\": 48, \"value\": 2585}, \"2586\": {\"frequency\": 25, \"value\": 2586}, \"2587\": {\"frequency\": 102, \"value\": 2587}, \"2589\": {\"frequency\": 64, \"value\": 2589}, \"2590\": {\"frequency\": 48, \"value\": 2590}, \"2591\": {\"frequency\": 2, \"value\": 2591}, \"2592\": {\"frequency\": 1, \"value\": 2592}, \"2593\": {\"frequency\": 35, \"value\": 2593}, \"2594\": {\"frequency\": 62, \"value\": 2594}, \"2596\": {\"frequency\": 139, \"value\": 2596}, \"2597\": {\"frequency\": 64, \"value\": 2597}, \"2598\": {\"frequency\": 533, \"value\": 2598}, \"2599\": {\"frequency\": 1522, \"value\": 2599}, \"2600\": {\"frequency\": 410, \"value\": 2600}, \"2602\": {\"frequency\": 6, \"value\": 2602}, \"2605\": {\"frequency\": 777, \"value\": 2605}, \"2606\": {\"frequency\": 207, \"value\": 2606}, \"2607\": {\"frequency\": 68, \"value\": 2607}, \"2608\": {\"frequency\": 5, \"value\": 2608}, \"2609\": {\"frequency\": 67, \"value\": 2609}, \"2610\": {\"frequency\": 41, \"value\": 2610}, \"2611\": {\"frequency\": 146, \"value\": 2611}, \"2612\": {\"frequency\": 136, \"value\": 2612}, \"2613\": {\"frequency\": 281, \"value\": 2613}, \"2614\": {\"frequency\": 44, \"value\": 2614}, \"2615\": {\"frequency\": 189, \"value\": 2615}, \"2616\": {\"frequency\": 624, \"value\": 2616}, \"2617\": {\"frequency\": 1007, \"value\": 2617}, \"2618\": {\"frequency\": 46, \"value\": 2618}, \"2619\": {\"frequency\": 1, \"value\": 2619}, \"2620\": {\"frequency\": 36, \"value\": 2620}, \"2621\": {\"frequency\": 69, \"value\": 2621}, \"2622\": {\"frequency\": 415, \"value\": 2622}, \"2623\": {\"frequency\": 4, \"value\": 2623}, \"2624\": {\"frequency\": 102, \"value\": 2624}, \"2625\": {\"frequency\": 66, \"value\": 2625}, \"2626\": {\"frequency\": 35, \"value\": 2626}, \"2627\": {\"frequency\": 14, \"value\": 2627}, \"2628\": {\"frequency\": 2250, \"value\": 2628}, \"2629\": {\"frequency\": 144, \"value\": 2629}, \"2630\": {\"frequency\": 41, \"value\": 2630}, \"2631\": {\"frequency\": 5, \"value\": 2631}, \"2632\": {\"frequency\": 11, \"value\": 2632}, \"2633\": {\"frequency\": 162, \"value\": 2633}, \"2634\": {\"frequency\": 93, \"value\": 2634}, \"2635\": {\"frequency\": 31, \"value\": 2635}, \"2636\": {\"frequency\": 13, \"value\": 2636}, \"2637\": {\"frequency\": 33, \"value\": 2637}, \"2638\": {\"frequency\": 36, \"value\": 2638}, \"2639\": {\"frequency\": 163, \"value\": 2639}, \"2640\": {\"frequency\": 1222, \"value\": 2640}, \"2641\": {\"frequency\": 846, \"value\": 2641}, \"2642\": {\"frequency\": 511, \"value\": 2642}, \"2643\": {\"frequency\": 332, \"value\": 2643}, \"2644\": {\"frequency\": 238, \"value\": 2644}, \"2645\": {\"frequency\": 102, \"value\": 2645}, \"2646\": {\"frequency\": 39, \"value\": 2646}, \"2647\": {\"frequency\": 52, \"value\": 2647}, \"2648\": {\"frequency\": 406, \"value\": 2648}, \"2649\": {\"frequency\": 65, \"value\": 2649}, \"2650\": {\"frequency\": 33, \"value\": 2650}, \"2651\": {\"frequency\": 82, \"value\": 2651}, \"2652\": {\"frequency\": 51, \"value\": 2652}, \"2653\": {\"frequency\": 42, \"value\": 2653}, \"2654\": {\"frequency\": 134, \"value\": 2654}, \"2655\": {\"frequency\": 47, \"value\": 2655}, \"2656\": {\"frequency\": 62, \"value\": 2656}, \"2657\": {\"frequency\": 1233, \"value\": 2657}, \"2658\": {\"frequency\": 11, \"value\": 2658}, \"2659\": {\"frequency\": 46, \"value\": 2659}, \"2660\": {\"frequency\": 135, \"value\": 2660}, \"2661\": {\"frequency\": 94, \"value\": 2661}, \"2662\": {\"frequency\": 565, \"value\": 2662}, \"2663\": {\"frequency\": 53, \"value\": 2663}, \"2664\": {\"frequency\": 628, \"value\": 2664}, \"2665\": {\"frequency\": 71, \"value\": 2665}, \"2666\": {\"frequency\": 28, \"value\": 2666}, \"2667\": {\"frequency\": 58, \"value\": 2667}, \"2668\": {\"frequency\": 273, \"value\": 2668}, \"2669\": {\"frequency\": 107, \"value\": 2669}, \"2670\": {\"frequency\": 220, \"value\": 2670}, \"2671\": {\"frequency\": 780, \"value\": 2671}, \"2672\": {\"frequency\": 391, \"value\": 2672}, \"2673\": {\"frequency\": 7, \"value\": 2673}, \"2674\": {\"frequency\": 26, \"value\": 2674}, \"2675\": {\"frequency\": 10, \"value\": 2675}, \"2676\": {\"frequency\": 266, \"value\": 2676}, \"2677\": {\"frequency\": 230, \"value\": 2677}, \"2678\": {\"frequency\": 25, \"value\": 2678}, \"2679\": {\"frequency\": 5, \"value\": 2679}, \"2681\": {\"frequency\": 43, \"value\": 2681}, \"2682\": {\"frequency\": 88, \"value\": 2682}, \"2683\": {\"frequency\": 1434, \"value\": 2683}, \"2685\": {\"frequency\": 4, \"value\": 2685}, \"2686\": {\"frequency\": 583, \"value\": 2686}, \"2687\": {\"frequency\": 442, \"value\": 2687}, \"2688\": {\"frequency\": 691, \"value\": 2688}, \"2689\": {\"frequency\": 41, \"value\": 2689}, \"2690\": {\"frequency\": 390, \"value\": 2690}, \"2691\": {\"frequency\": 20, \"value\": 2691}, \"2692\": {\"frequency\": 1072, \"value\": 2692}, \"2693\": {\"frequency\": 224, \"value\": 2693}, \"2694\": {\"frequency\": 791, \"value\": 2694}, \"2695\": {\"frequency\": 11, \"value\": 2695}, \"2696\": {\"frequency\": 81, \"value\": 2696}, \"2697\": {\"frequency\": 48, \"value\": 2697}, \"2699\": {\"frequency\": 1367, \"value\": 2699}, \"2700\": {\"frequency\": 1269, \"value\": 2700}, \"2701\": {\"frequency\": 902, \"value\": 2701}, \"2702\": {\"frequency\": 395, \"value\": 2702}, \"2703\": {\"frequency\": 1, \"value\": 2703}, \"2704\": {\"frequency\": 41, \"value\": 2704}, \"2705\": {\"frequency\": 7, \"value\": 2705}, \"2706\": {\"frequency\": 1389, \"value\": 2706}, \"2707\": {\"frequency\": 634, \"value\": 2707}, \"2708\": {\"frequency\": 47, \"value\": 2708}, \"2709\": {\"frequency\": 232, \"value\": 2709}, \"2710\": {\"frequency\": 1237, \"value\": 2710}, \"2711\": {\"frequency\": 32, \"value\": 2711}, \"2712\": {\"frequency\": 945, \"value\": 2712}, \"2713\": {\"frequency\": 421, \"value\": 2713}, \"2714\": {\"frequency\": 87, \"value\": 2714}, \"2715\": {\"frequency\": 22, \"value\": 2715}, \"2716\": {\"frequency\": 2181, \"value\": 2716}, \"2717\": {\"frequency\": 565, \"value\": 2717}, \"2718\": {\"frequency\": 383, \"value\": 2718}, \"2719\": {\"frequency\": 476, \"value\": 2719}, \"2720\": {\"frequency\": 373, \"value\": 2720}, \"2721\": {\"frequency\": 85, \"value\": 2721}, \"2722\": {\"frequency\": 598, \"value\": 2722}, \"2723\": {\"frequency\": 853, \"value\": 2723}, \"2724\": {\"frequency\": 650, \"value\": 2724}, \"2725\": {\"frequency\": 95, \"value\": 2725}, \"2726\": {\"frequency\": 130, \"value\": 2726}, \"2727\": {\"frequency\": 32, \"value\": 2727}, \"2728\": {\"frequency\": 426, \"value\": 2728}, \"2729\": {\"frequency\": 201, \"value\": 2729}, \"2730\": {\"frequency\": 169, \"value\": 2730}, \"2731\": {\"frequency\": 187, \"value\": 2731}, \"2732\": {\"frequency\": 148, \"value\": 2732}, \"2733\": {\"frequency\": 50, \"value\": 2733}, \"2734\": {\"frequency\": 466, \"value\": 2734}, \"2735\": {\"frequency\": 459, \"value\": 2735}, \"2736\": {\"frequency\": 225, \"value\": 2736}, \"2737\": {\"frequency\": 23, \"value\": 2737}, \"2738\": {\"frequency\": 79, \"value\": 2738}, \"2739\": {\"frequency\": 450, \"value\": 2739}, \"2740\": {\"frequency\": 17, \"value\": 2740}, \"2741\": {\"frequency\": 61, \"value\": 2741}, \"2742\": {\"frequency\": 1, \"value\": 2742}, \"2743\": {\"frequency\": 24, \"value\": 2743}, \"2744\": {\"frequency\": 38, \"value\": 2744}, \"2745\": {\"frequency\": 229, \"value\": 2745}, \"2746\": {\"frequency\": 936, \"value\": 2746}, \"2747\": {\"frequency\": 356, \"value\": 2747}, \"2748\": {\"frequency\": 137, \"value\": 2748}, \"2749\": {\"frequency\": 87, \"value\": 2749}, \"2750\": {\"frequency\": 285, \"value\": 2750}, \"2751\": {\"frequency\": 54, \"value\": 2751}, \"2752\": {\"frequency\": 185, \"value\": 2752}, \"2753\": {\"frequency\": 57, \"value\": 2753}, \"2754\": {\"frequency\": 12, \"value\": 2754}, \"2755\": {\"frequency\": 31, \"value\": 2755}, \"2756\": {\"frequency\": 32, \"value\": 2756}, \"2757\": {\"frequency\": 135, \"value\": 2757}, \"2758\": {\"frequency\": 31, \"value\": 2758}, \"2759\": {\"frequency\": 430, \"value\": 2759}, \"2760\": {\"frequency\": 7, \"value\": 2760}, \"2761\": {\"frequency\": 674, \"value\": 2761}, \"2762\": {\"frequency\": 2459, \"value\": 2762}, \"2763\": {\"frequency\": 1089, \"value\": 2763}, \"2764\": {\"frequency\": 280, \"value\": 2764}, \"2765\": {\"frequency\": 7, \"value\": 2765}, \"2766\": {\"frequency\": 33, \"value\": 2766}, \"2767\": {\"frequency\": 25, \"value\": 2767}, \"2768\": {\"frequency\": 13, \"value\": 2768}, \"2769\": {\"frequency\": 77, \"value\": 2769}, \"2770\": {\"frequency\": 935, \"value\": 2770}, \"2771\": {\"frequency\": 171, \"value\": 2771}, \"2772\": {\"frequency\": 246, \"value\": 2772}, \"2773\": {\"frequency\": 14, \"value\": 2773}, \"2774\": {\"frequency\": 68, \"value\": 2774}, \"2775\": {\"frequency\": 14, \"value\": 2775}, \"2776\": {\"frequency\": 13, \"value\": 2776}, \"2777\": {\"frequency\": 5, \"value\": 2777}, \"2778\": {\"frequency\": 29, \"value\": 2778}, \"2779\": {\"frequency\": 345, \"value\": 2779}, \"2780\": {\"frequency\": 82, \"value\": 2780}, \"2781\": {\"frequency\": 63, \"value\": 2781}, \"2782\": {\"frequency\": 107, \"value\": 2782}, \"2783\": {\"frequency\": 10, \"value\": 2783}, \"2784\": {\"frequency\": 63, \"value\": 2784}, \"2785\": {\"frequency\": 25, \"value\": 2785}, \"2786\": {\"frequency\": 72, \"value\": 2786}, \"2787\": {\"frequency\": 162, \"value\": 2787}, \"2788\": {\"frequency\": 451, \"value\": 2788}, \"2789\": {\"frequency\": 165, \"value\": 2789}, \"2790\": {\"frequency\": 61, \"value\": 2790}, \"2791\": {\"frequency\": 1731, \"value\": 2791}, \"2792\": {\"frequency\": 558, \"value\": 2792}, \"2793\": {\"frequency\": 265, \"value\": 2793}, \"2794\": {\"frequency\": 385, \"value\": 2794}, \"2795\": {\"frequency\": 549, \"value\": 2795}, \"2796\": {\"frequency\": 240, \"value\": 2796}, \"2797\": {\"frequency\": 1491, \"value\": 2797}, \"2798\": {\"frequency\": 160, \"value\": 2798}, \"2799\": {\"frequency\": 99, \"value\": 2799}, \"2800\": {\"frequency\": 22, \"value\": 2800}, \"2801\": {\"frequency\": 91, \"value\": 2801}, \"2802\": {\"frequency\": 306, \"value\": 2802}, \"2803\": {\"frequency\": 346, \"value\": 2803}, \"2804\": {\"frequency\": 1352, \"value\": 2804}, \"2805\": {\"frequency\": 448, \"value\": 2805}, \"2806\": {\"frequency\": 199, \"value\": 2806}, \"2807\": {\"frequency\": 91, \"value\": 2807}, \"2808\": {\"frequency\": 375, \"value\": 2808}, \"2809\": {\"frequency\": 20, \"value\": 2809}, \"2810\": {\"frequency\": 41, \"value\": 2810}, \"2811\": {\"frequency\": 2, \"value\": 2811}, \"2812\": {\"frequency\": 46, \"value\": 2812}, \"2813\": {\"frequency\": 29, \"value\": 2813}, \"2814\": {\"frequency\": 8, \"value\": 2814}, \"2815\": {\"frequency\": 271, \"value\": 2815}, \"2816\": {\"frequency\": 148, \"value\": 2816}, \"2817\": {\"frequency\": 125, \"value\": 2817}, \"2818\": {\"frequency\": 58, \"value\": 2818}, \"2819\": {\"frequency\": 319, \"value\": 2819}, \"2820\": {\"frequency\": 53, \"value\": 2820}, \"2821\": {\"frequency\": 3, \"value\": 2821}, \"2822\": {\"frequency\": 263, \"value\": 2822}, \"2823\": {\"frequency\": 4, \"value\": 2823}, \"2824\": {\"frequency\": 14, \"value\": 2824}, \"2825\": {\"frequency\": 4, \"value\": 2825}, \"2826\": {\"frequency\": 750, \"value\": 2826}, \"2827\": {\"frequency\": 328, \"value\": 2827}, \"2828\": {\"frequency\": 121, \"value\": 2828}, \"2829\": {\"frequency\": 157, \"value\": 2829}, \"2830\": {\"frequency\": 11, \"value\": 2830}, \"2831\": {\"frequency\": 8, \"value\": 2831}, \"2833\": {\"frequency\": 6, \"value\": 2833}, \"2834\": {\"frequency\": 18, \"value\": 2834}, \"2835\": {\"frequency\": 56, \"value\": 2835}, \"2836\": {\"frequency\": 163, \"value\": 2836}, \"2837\": {\"frequency\": 21, \"value\": 2837}, \"2839\": {\"frequency\": 10, \"value\": 2839}, \"2840\": {\"frequency\": 419, \"value\": 2840}, \"2841\": {\"frequency\": 487, \"value\": 2841}, \"2842\": {\"frequency\": 42, \"value\": 2842}, \"2843\": {\"frequency\": 23, \"value\": 2843}, \"2844\": {\"frequency\": 83, \"value\": 2844}, \"2845\": {\"frequency\": 1, \"value\": 2845}, \"2846\": {\"frequency\": 166, \"value\": 2846}, \"2847\": {\"frequency\": 33, \"value\": 2847}, \"2848\": {\"frequency\": 41, \"value\": 2848}, \"2849\": {\"frequency\": 30, \"value\": 2849}, \"2850\": {\"frequency\": 7, \"value\": 2850}, \"2851\": {\"frequency\": 133, \"value\": 2851}, \"2852\": {\"frequency\": 164, \"value\": 2852}, \"2853\": {\"frequency\": 28, \"value\": 2853}, \"2854\": {\"frequency\": 11, \"value\": 2854}, \"2855\": {\"frequency\": 10, \"value\": 2855}, \"2856\": {\"frequency\": 90, \"value\": 2856}, \"2857\": {\"frequency\": 399, \"value\": 2857}, \"2858\": {\"frequency\": 3428, \"value\": 2858}, \"2859\": {\"frequency\": 239, \"value\": 2859}, \"2860\": {\"frequency\": 128, \"value\": 2860}, \"2861\": {\"frequency\": 354, \"value\": 2861}, \"2862\": {\"frequency\": 89, \"value\": 2862}, \"2863\": {\"frequency\": 518, \"value\": 2863}, \"2864\": {\"frequency\": 28, \"value\": 2864}, \"2865\": {\"frequency\": 20, \"value\": 2865}, \"2866\": {\"frequency\": 199, \"value\": 2866}, \"2867\": {\"frequency\": 306, \"value\": 2867}, \"2868\": {\"frequency\": 63, \"value\": 2868}, \"2869\": {\"frequency\": 3, \"value\": 2869}, \"2870\": {\"frequency\": 193, \"value\": 2870}, \"2871\": {\"frequency\": 729, \"value\": 2871}, \"2872\": {\"frequency\": 742, \"value\": 2872}, \"2873\": {\"frequency\": 22, \"value\": 2873}, \"2874\": {\"frequency\": 67, \"value\": 2874}, \"2875\": {\"frequency\": 291, \"value\": 2875}, \"2876\": {\"frequency\": 43, \"value\": 2876}, \"2877\": {\"frequency\": 211, \"value\": 2877}, \"2878\": {\"frequency\": 34, \"value\": 2878}, \"2879\": {\"frequency\": 164, \"value\": 2879}, \"2880\": {\"frequency\": 72, \"value\": 2880}, \"2881\": {\"frequency\": 786, \"value\": 2881}, \"2882\": {\"frequency\": 118, \"value\": 2882}, \"2883\": {\"frequency\": 277, \"value\": 2883}, \"2884\": {\"frequency\": 42, \"value\": 2884}, \"2885\": {\"frequency\": 61, \"value\": 2885}, \"2886\": {\"frequency\": 33, \"value\": 2886}, \"2887\": {\"frequency\": 4, \"value\": 2887}, \"2888\": {\"frequency\": 119, \"value\": 2888}, \"2889\": {\"frequency\": 287, \"value\": 2889}, \"2890\": {\"frequency\": 1021, \"value\": 2890}, \"2891\": {\"frequency\": 185, \"value\": 2891}, \"2892\": {\"frequency\": 12, \"value\": 2892}, \"2893\": {\"frequency\": 42, \"value\": 2893}, \"2894\": {\"frequency\": 32, \"value\": 2894}, \"2895\": {\"frequency\": 2, \"value\": 2895}, \"2896\": {\"frequency\": 28, \"value\": 2896}, \"2897\": {\"frequency\": 20, \"value\": 2897}, \"2898\": {\"frequency\": 102, \"value\": 2898}, \"2899\": {\"frequency\": 117, \"value\": 2899}, \"2900\": {\"frequency\": 161, \"value\": 2900}, \"2901\": {\"frequency\": 330, \"value\": 2901}, \"2902\": {\"frequency\": 164, \"value\": 2902}, \"2903\": {\"frequency\": 98, \"value\": 2903}, \"2904\": {\"frequency\": 17, \"value\": 2904}, \"2905\": {\"frequency\": 69, \"value\": 2905}, \"2906\": {\"frequency\": 250, \"value\": 2906}, \"2907\": {\"frequency\": 213, \"value\": 2907}, \"2908\": {\"frequency\": 850, \"value\": 2908}, \"2909\": {\"frequency\": 1, \"value\": 2909}, \"2911\": {\"frequency\": 7, \"value\": 2911}, \"2912\": {\"frequency\": 474, \"value\": 2912}, \"2913\": {\"frequency\": 17, \"value\": 2913}, \"2914\": {\"frequency\": 11, \"value\": 2914}, \"2915\": {\"frequency\": 852, \"value\": 2915}, \"2916\": {\"frequency\": 1996, \"value\": 2916}, \"2917\": {\"frequency\": 504, \"value\": 2917}, \"2918\": {\"frequency\": 1473, \"value\": 2918}, \"2919\": {\"frequency\": 391, \"value\": 2919}, \"2920\": {\"frequency\": 100, \"value\": 2920}, \"2921\": {\"frequency\": 317, \"value\": 2921}, \"2922\": {\"frequency\": 241, \"value\": 2922}, \"2923\": {\"frequency\": 17, \"value\": 2923}, \"2924\": {\"frequency\": 133, \"value\": 2924}, \"2925\": {\"frequency\": 57, \"value\": 2925}, \"2926\": {\"frequency\": 445, \"value\": 2926}, \"2927\": {\"frequency\": 99, \"value\": 2927}, \"2928\": {\"frequency\": 77, \"value\": 2928}, \"2929\": {\"frequency\": 215, \"value\": 2929}, \"2930\": {\"frequency\": 5, \"value\": 2930}, \"2931\": {\"frequency\": 10, \"value\": 2931}, \"2932\": {\"frequency\": 118, \"value\": 2932}, \"2933\": {\"frequency\": 9, \"value\": 2933}, \"2934\": {\"frequency\": 5, \"value\": 2934}, \"2935\": {\"frequency\": 145, \"value\": 2935}, \"2936\": {\"frequency\": 161, \"value\": 2936}, \"2937\": {\"frequency\": 104, \"value\": 2937}, \"2938\": {\"frequency\": 31, \"value\": 2938}, \"2939\": {\"frequency\": 52, \"value\": 2939}, \"2940\": {\"frequency\": 107, \"value\": 2940}, \"2941\": {\"frequency\": 280, \"value\": 2941}, \"2942\": {\"frequency\": 362, \"value\": 2942}, \"2943\": {\"frequency\": 160, \"value\": 2943}, \"2944\": {\"frequency\": 707, \"value\": 2944}, \"2945\": {\"frequency\": 28, \"value\": 2945}, \"2946\": {\"frequency\": 291, \"value\": 2946}, \"2947\": {\"frequency\": 897, \"value\": 2947}, \"2948\": {\"frequency\": 771, \"value\": 2948}, \"2949\": {\"frequency\": 646, \"value\": 2949}, \"2950\": {\"frequency\": 346, \"value\": 2950}, \"2951\": {\"frequency\": 522, \"value\": 2951}, \"2952\": {\"frequency\": 186, \"value\": 2952}, \"2953\": {\"frequency\": 341, \"value\": 2953}, \"2955\": {\"frequency\": 4, \"value\": 2955}, \"2956\": {\"frequency\": 141, \"value\": 2956}, \"2959\": {\"frequency\": 1451, \"value\": 2959}, \"2960\": {\"frequency\": 4, \"value\": 2960}, \"2961\": {\"frequency\": 280, \"value\": 2961}, \"2962\": {\"frequency\": 10, \"value\": 2962}, \"2963\": {\"frequency\": 17, \"value\": 2963}, \"2964\": {\"frequency\": 12, \"value\": 2964}, \"2965\": {\"frequency\": 72, \"value\": 2965}, \"2966\": {\"frequency\": 429, \"value\": 2966}, \"2967\": {\"frequency\": 127, \"value\": 2967}, \"2968\": {\"frequency\": 1010, \"value\": 2968}, \"2969\": {\"frequency\": 91, \"value\": 2969}, \"2970\": {\"frequency\": 98, \"value\": 2970}, \"2971\": {\"frequency\": 317, \"value\": 2971}, \"2972\": {\"frequency\": 65, \"value\": 2972}, \"2973\": {\"frequency\": 460, \"value\": 2973}, \"2974\": {\"frequency\": 67, \"value\": 2974}, \"2975\": {\"frequency\": 111, \"value\": 2975}, \"2976\": {\"frequency\": 557, \"value\": 2976}, \"2977\": {\"frequency\": 45, \"value\": 2977}, \"2978\": {\"frequency\": 103, \"value\": 2978}, \"2979\": {\"frequency\": 37, \"value\": 2979}, \"2981\": {\"frequency\": 15, \"value\": 2981}, \"2982\": {\"frequency\": 38, \"value\": 2982}, \"2983\": {\"frequency\": 81, \"value\": 2983}, \"2984\": {\"frequency\": 9, \"value\": 2984}, \"2985\": {\"frequency\": 1229, \"value\": 2985}, \"2986\": {\"frequency\": 493, \"value\": 2986}, \"2987\": {\"frequency\": 1799, \"value\": 2987}, \"2988\": {\"frequency\": 108, \"value\": 2988}, \"2989\": {\"frequency\": 425, \"value\": 2989}, \"2990\": {\"frequency\": 385, \"value\": 2990}, \"2991\": {\"frequency\": 422, \"value\": 2991}, \"2992\": {\"frequency\": 31, \"value\": 2992}, \"2993\": {\"frequency\": 404, \"value\": 2993}, \"2994\": {\"frequency\": 10, \"value\": 2994}, \"2995\": {\"frequency\": 341, \"value\": 2995}, \"2996\": {\"frequency\": 133, \"value\": 2996}, \"2997\": {\"frequency\": 2241, \"value\": 2997}, \"2998\": {\"frequency\": 13, \"value\": 2998}, \"2999\": {\"frequency\": 4, \"value\": 2999}, \"3000\": {\"frequency\": 345, \"value\": 3000}, \"3001\": {\"frequency\": 6, \"value\": 3001}, \"3002\": {\"frequency\": 35, \"value\": 3002}, \"3003\": {\"frequency\": 8, \"value\": 3003}, \"3004\": {\"frequency\": 252, \"value\": 3004}, \"3005\": {\"frequency\": 640, \"value\": 3005}, \"3006\": {\"frequency\": 884, \"value\": 3006}, \"3007\": {\"frequency\": 295, \"value\": 3007}, \"3008\": {\"frequency\": 51, \"value\": 3008}, \"3010\": {\"frequency\": 35, \"value\": 3010}, \"3011\": {\"frequency\": 149, \"value\": 3011}, \"3012\": {\"frequency\": 10, \"value\": 3012}, \"3013\": {\"frequency\": 65, \"value\": 3013}, \"3014\": {\"frequency\": 49, \"value\": 3014}, \"3015\": {\"frequency\": 144, \"value\": 3015}, \"3016\": {\"frequency\": 447, \"value\": 3016}, \"3017\": {\"frequency\": 104, \"value\": 3017}, \"3018\": {\"frequency\": 248, \"value\": 3018}, \"3019\": {\"frequency\": 416, \"value\": 3019}, \"3020\": {\"frequency\": 524, \"value\": 3020}, \"3021\": {\"frequency\": 36, \"value\": 3021}, \"3022\": {\"frequency\": 206, \"value\": 3022}, \"3024\": {\"frequency\": 161, \"value\": 3024}, \"3025\": {\"frequency\": 14, \"value\": 3025}, \"3026\": {\"frequency\": 8, \"value\": 3026}, \"3027\": {\"frequency\": 7, \"value\": 3027}, \"3028\": {\"frequency\": 139, \"value\": 3028}, \"3029\": {\"frequency\": 190, \"value\": 3029}, \"3030\": {\"frequency\": 215, \"value\": 3030}, \"3031\": {\"frequency\": 53, \"value\": 3031}, \"3032\": {\"frequency\": 224, \"value\": 3032}, \"3033\": {\"frequency\": 899, \"value\": 3033}, \"3034\": {\"frequency\": 343, \"value\": 3034}, \"3035\": {\"frequency\": 421, \"value\": 3035}, \"3036\": {\"frequency\": 174, \"value\": 3036}, \"3037\": {\"frequency\": 591, \"value\": 3037}, \"3038\": {\"frequency\": 74, \"value\": 3038}, \"3039\": {\"frequency\": 839, \"value\": 3039}, \"3040\": {\"frequency\": 315, \"value\": 3040}, \"3041\": {\"frequency\": 73, \"value\": 3041}, \"3042\": {\"frequency\": 65, \"value\": 3042}, \"3043\": {\"frequency\": 40, \"value\": 3043}, \"3044\": {\"frequency\": 583, \"value\": 3044}, \"3045\": {\"frequency\": 118, \"value\": 3045}, \"3046\": {\"frequency\": 85, \"value\": 3046}, \"3047\": {\"frequency\": 18, \"value\": 3047}, \"3048\": {\"frequency\": 71, \"value\": 3048}, \"3049\": {\"frequency\": 37, \"value\": 3049}, \"3050\": {\"frequency\": 16, \"value\": 3050}, \"3051\": {\"frequency\": 161, \"value\": 3051}, \"3052\": {\"frequency\": 989, \"value\": 3052}, \"3053\": {\"frequency\": 341, \"value\": 3053}, \"3054\": {\"frequency\": 136, \"value\": 3054}, \"3055\": {\"frequency\": 82, \"value\": 3055}, \"3056\": {\"frequency\": 6, \"value\": 3056}, \"3057\": {\"frequency\": 2, \"value\": 3057}, \"3058\": {\"frequency\": 12, \"value\": 3058}, \"3060\": {\"frequency\": 558, \"value\": 3060}, \"3061\": {\"frequency\": 275, \"value\": 3061}, \"3062\": {\"frequency\": 352, \"value\": 3062}, \"3063\": {\"frequency\": 139, \"value\": 3063}, \"3064\": {\"frequency\": 60, \"value\": 3064}, \"3065\": {\"frequency\": 1, \"value\": 3065}, \"3066\": {\"frequency\": 194, \"value\": 3066}, \"3067\": {\"frequency\": 353, \"value\": 3067}, \"3068\": {\"frequency\": 379, \"value\": 3068}, \"3069\": {\"frequency\": 55, \"value\": 3069}, \"3070\": {\"frequency\": 611, \"value\": 3070}, \"3071\": {\"frequency\": 327, \"value\": 3071}, \"3072\": {\"frequency\": 982, \"value\": 3072}, \"3073\": {\"frequency\": 33, \"value\": 3073}, \"3074\": {\"frequency\": 222, \"value\": 3074}, \"3075\": {\"frequency\": 69, \"value\": 3075}, \"3076\": {\"frequency\": 93, \"value\": 3076}, \"3077\": {\"frequency\": 88, \"value\": 3077}, \"3078\": {\"frequency\": 155, \"value\": 3078}, \"3079\": {\"frequency\": 145, \"value\": 3079}, \"3081\": {\"frequency\": 1066, \"value\": 3081}, \"3082\": {\"frequency\": 862, \"value\": 3082}, \"3083\": {\"frequency\": 394, \"value\": 3083}, \"3084\": {\"frequency\": 2, \"value\": 3084}, \"3085\": {\"frequency\": 2, \"value\": 3085}, \"3086\": {\"frequency\": 81, \"value\": 3086}, \"3087\": {\"frequency\": 516, \"value\": 3087}, \"3088\": {\"frequency\": 356, \"value\": 3088}, \"3089\": {\"frequency\": 252, \"value\": 3089}, \"3090\": {\"frequency\": 177, \"value\": 3090}, \"3091\": {\"frequency\": 141, \"value\": 3091}, \"3092\": {\"frequency\": 20, \"value\": 3092}, \"3093\": {\"frequency\": 208, \"value\": 3093}, \"3094\": {\"frequency\": 101, \"value\": 3094}, \"3095\": {\"frequency\": 521, \"value\": 3095}, \"3096\": {\"frequency\": 93, \"value\": 3096}, \"3097\": {\"frequency\": 206, \"value\": 3097}, \"3098\": {\"frequency\": 548, \"value\": 3098}, \"3099\": {\"frequency\": 273, \"value\": 3099}, \"3100\": {\"frequency\": 623, \"value\": 3100}, \"3101\": {\"frequency\": 802, \"value\": 3101}, \"3102\": {\"frequency\": 244, \"value\": 3102}, \"3103\": {\"frequency\": 68, \"value\": 3103}, \"3104\": {\"frequency\": 765, \"value\": 3104}, \"3105\": {\"frequency\": 680, \"value\": 3105}, \"3106\": {\"frequency\": 25, \"value\": 3106}, \"3107\": {\"frequency\": 869, \"value\": 3107}, \"3108\": {\"frequency\": 945, \"value\": 3108}, \"3109\": {\"frequency\": 64, \"value\": 3109}, \"3110\": {\"frequency\": 33, \"value\": 3110}, \"3111\": {\"frequency\": 213, \"value\": 3111}, \"3112\": {\"frequency\": 70, \"value\": 3112}, \"3113\": {\"frequency\": 564, \"value\": 3113}, \"3114\": {\"frequency\": 1585, \"value\": 3114}, \"3115\": {\"frequency\": 110, \"value\": 3115}, \"3116\": {\"frequency\": 11, \"value\": 3116}, \"3117\": {\"frequency\": 73, \"value\": 3117}, \"3118\": {\"frequency\": 66, \"value\": 3118}, \"3119\": {\"frequency\": 3, \"value\": 3119}, \"3120\": {\"frequency\": 130, \"value\": 3120}, \"3121\": {\"frequency\": 18, \"value\": 3121}, \"3122\": {\"frequency\": 29, \"value\": 3122}, \"3123\": {\"frequency\": 3, \"value\": 3123}, \"3124\": {\"frequency\": 34, \"value\": 3124}, \"3125\": {\"frequency\": 200, \"value\": 3125}, \"3126\": {\"frequency\": 3, \"value\": 3126}, \"3127\": {\"frequency\": 56, \"value\": 3127}, \"3128\": {\"frequency\": 51, \"value\": 3128}, \"3129\": {\"frequency\": 288, \"value\": 3129}, \"3130\": {\"frequency\": 118, \"value\": 3130}, \"3131\": {\"frequency\": 2, \"value\": 3131}, \"3132\": {\"frequency\": 38, \"value\": 3132}, \"3133\": {\"frequency\": 42, \"value\": 3133}, \"3134\": {\"frequency\": 165, \"value\": 3134}, \"3135\": {\"frequency\": 195, \"value\": 3135}, \"3136\": {\"frequency\": 3, \"value\": 3136}, \"3137\": {\"frequency\": 16, \"value\": 3137}, \"3138\": {\"frequency\": 66, \"value\": 3138}, \"3139\": {\"frequency\": 17, \"value\": 3139}, \"3140\": {\"frequency\": 9, \"value\": 3140}, \"3141\": {\"frequency\": 62, \"value\": 3141}, \"3142\": {\"frequency\": 130, \"value\": 3142}, \"3143\": {\"frequency\": 33, \"value\": 3143}, \"3144\": {\"frequency\": 49, \"value\": 3144}, \"3145\": {\"frequency\": 259, \"value\": 3145}, \"3146\": {\"frequency\": 308, \"value\": 3146}, \"3147\": {\"frequency\": 1222, \"value\": 3147}, \"3148\": {\"frequency\": 711, \"value\": 3148}, \"3149\": {\"frequency\": 9, \"value\": 3149}, \"3150\": {\"frequency\": 60, \"value\": 3150}, \"3151\": {\"frequency\": 1, \"value\": 3151}, \"3152\": {\"frequency\": 354, \"value\": 3152}, \"3153\": {\"frequency\": 258, \"value\": 3153}, \"3154\": {\"frequency\": 8, \"value\": 3154}, \"3155\": {\"frequency\": 333, \"value\": 3155}, \"3156\": {\"frequency\": 383, \"value\": 3156}, \"3157\": {\"frequency\": 520, \"value\": 3157}, \"3158\": {\"frequency\": 44, \"value\": 3158}, \"3159\": {\"frequency\": 453, \"value\": 3159}, \"3160\": {\"frequency\": 1113, \"value\": 3160}, \"3161\": {\"frequency\": 19, \"value\": 3161}, \"3162\": {\"frequency\": 21, \"value\": 3162}, \"3163\": {\"frequency\": 304, \"value\": 3163}, \"3164\": {\"frequency\": 1, \"value\": 3164}, \"3165\": {\"frequency\": 61, \"value\": 3165}, \"3166\": {\"frequency\": 6, \"value\": 3166}, \"3167\": {\"frequency\": 166, \"value\": 3167}, \"3168\": {\"frequency\": 485, \"value\": 3168}, \"3169\": {\"frequency\": 253, \"value\": 3169}, \"3171\": {\"frequency\": 25, \"value\": 3171}, \"3172\": {\"frequency\": 1, \"value\": 3172}, \"3173\": {\"frequency\": 483, \"value\": 3173}, \"3174\": {\"frequency\": 874, \"value\": 3174}, \"3175\": {\"frequency\": 1728, \"value\": 3175}, \"3176\": {\"frequency\": 1331, \"value\": 3176}, \"3177\": {\"frequency\": 168, \"value\": 3177}, \"3178\": {\"frequency\": 509, \"value\": 3178}, \"3179\": {\"frequency\": 225, \"value\": 3179}, \"3180\": {\"frequency\": 70, \"value\": 3180}, \"3181\": {\"frequency\": 163, \"value\": 3181}, \"3182\": {\"frequency\": 124, \"value\": 3182}, \"3183\": {\"frequency\": 45, \"value\": 3183}, \"3184\": {\"frequency\": 5, \"value\": 3184}, \"3185\": {\"frequency\": 398, \"value\": 3185}, \"3186\": {\"frequency\": 431, \"value\": 3186}, \"3187\": {\"frequency\": 3, \"value\": 3187}, \"3188\": {\"frequency\": 54, \"value\": 3188}, \"3189\": {\"frequency\": 300, \"value\": 3189}, \"3190\": {\"frequency\": 161, \"value\": 3190}, \"3192\": {\"frequency\": 24, \"value\": 3192}, \"3194\": {\"frequency\": 220, \"value\": 3194}, \"3196\": {\"frequency\": 394, \"value\": 3196}, \"3197\": {\"frequency\": 251, \"value\": 3197}, \"3198\": {\"frequency\": 325, \"value\": 3198}, \"3199\": {\"frequency\": 72, \"value\": 3199}, \"3200\": {\"frequency\": 172, \"value\": 3200}, \"3201\": {\"frequency\": 359, \"value\": 3201}, \"3202\": {\"frequency\": 1, \"value\": 3202}, \"3203\": {\"frequency\": 497, \"value\": 3203}, \"3204\": {\"frequency\": 204, \"value\": 3204}, \"3205\": {\"frequency\": 4, \"value\": 3205}, \"3206\": {\"frequency\": 133, \"value\": 3206}, \"3207\": {\"frequency\": 5, \"value\": 3207}, \"3208\": {\"frequency\": 264, \"value\": 3208}, \"3209\": {\"frequency\": 1, \"value\": 3209}, \"3210\": {\"frequency\": 886, \"value\": 3210}, \"3211\": {\"frequency\": 66, \"value\": 3211}, \"3212\": {\"frequency\": 2, \"value\": 3212}, \"3213\": {\"frequency\": 232, \"value\": 3213}, \"3214\": {\"frequency\": 97, \"value\": 3214}, \"3215\": {\"frequency\": 11, \"value\": 3215}, \"3216\": {\"frequency\": 3, \"value\": 3216}, \"3217\": {\"frequency\": 91, \"value\": 3217}, \"3218\": {\"frequency\": 32, \"value\": 3218}, \"3219\": {\"frequency\": 447, \"value\": 3219}, \"3220\": {\"frequency\": 1, \"value\": 3220}, \"3221\": {\"frequency\": 29, \"value\": 3221}, \"3222\": {\"frequency\": 30, \"value\": 3222}, \"3223\": {\"frequency\": 29, \"value\": 3223}, \"3224\": {\"frequency\": 77, \"value\": 3224}, \"3225\": {\"frequency\": 122, \"value\": 3225}, \"3228\": {\"frequency\": 2, \"value\": 3228}, \"3229\": {\"frequency\": 1, \"value\": 3229}, \"3230\": {\"frequency\": 78, \"value\": 3230}, \"3232\": {\"frequency\": 5, \"value\": 3232}, \"3233\": {\"frequency\": 2, \"value\": 3233}, \"3235\": {\"frequency\": 71, \"value\": 3235}, \"3236\": {\"frequency\": 2, \"value\": 3236}, \"3237\": {\"frequency\": 1, \"value\": 3237}, \"3238\": {\"frequency\": 267, \"value\": 3238}, \"3239\": {\"frequency\": 37, \"value\": 3239}, \"3240\": {\"frequency\": 33, \"value\": 3240}, \"3241\": {\"frequency\": 57, \"value\": 3241}, \"3242\": {\"frequency\": 3, \"value\": 3242}, \"3243\": {\"frequency\": 293, \"value\": 3243}, \"3244\": {\"frequency\": 322, \"value\": 3244}, \"3245\": {\"frequency\": 5, \"value\": 3245}, \"3246\": {\"frequency\": 475, \"value\": 3246}, \"3247\": {\"frequency\": 666, \"value\": 3247}, \"3248\": {\"frequency\": 202, \"value\": 3248}, \"3249\": {\"frequency\": 340, \"value\": 3249}, \"3250\": {\"frequency\": 366, \"value\": 3250}, \"3251\": {\"frequency\": 276, \"value\": 3251}, \"3252\": {\"frequency\": 555, \"value\": 3252}, \"3253\": {\"frequency\": 1120, \"value\": 3253}, \"3254\": {\"frequency\": 433, \"value\": 3254}, \"3255\": {\"frequency\": 1099, \"value\": 3255}, \"3256\": {\"frequency\": 1052, \"value\": 3256}, \"3257\": {\"frequency\": 626, \"value\": 3257}, \"3258\": {\"frequency\": 339, \"value\": 3258}, \"3259\": {\"frequency\": 403, \"value\": 3259}, \"3260\": {\"frequency\": 480, \"value\": 3260}, \"3261\": {\"frequency\": 429, \"value\": 3261}, \"3262\": {\"frequency\": 163, \"value\": 3262}, \"3263\": {\"frequency\": 667, \"value\": 3263}, \"3264\": {\"frequency\": 512, \"value\": 3264}, \"3265\": {\"frequency\": 327, \"value\": 3265}, \"3266\": {\"frequency\": 154, \"value\": 3266}, \"3267\": {\"frequency\": 483, \"value\": 3267}, \"3268\": {\"frequency\": 179, \"value\": 3268}, \"3269\": {\"frequency\": 477, \"value\": 3269}, \"3270\": {\"frequency\": 200, \"value\": 3270}, \"3271\": {\"frequency\": 328, \"value\": 3271}, \"3272\": {\"frequency\": 171, \"value\": 3272}, \"3273\": {\"frequency\": 577, \"value\": 3273}, \"3274\": {\"frequency\": 438, \"value\": 3274}, \"3275\": {\"frequency\": 92, \"value\": 3275}, \"3276\": {\"frequency\": 46, \"value\": 3276}, \"3277\": {\"frequency\": 1, \"value\": 3277}, \"3280\": {\"frequency\": 1, \"value\": 3280}, \"3281\": {\"frequency\": 49, \"value\": 3281}, \"3282\": {\"frequency\": 10, \"value\": 3282}, \"3283\": {\"frequency\": 15, \"value\": 3283}, \"3284\": {\"frequency\": 45, \"value\": 3284}, \"3285\": {\"frequency\": 423, \"value\": 3285}, \"3286\": {\"frequency\": 122, \"value\": 3286}, \"3287\": {\"frequency\": 129, \"value\": 3287}, \"3288\": {\"frequency\": 4, \"value\": 3288}, \"3289\": {\"frequency\": 52, \"value\": 3289}, \"3290\": {\"frequency\": 1, \"value\": 3290}, \"3291\": {\"frequency\": 1, \"value\": 3291}, \"3292\": {\"frequency\": 6, \"value\": 3292}, \"3293\": {\"frequency\": 5, \"value\": 3293}, \"3294\": {\"frequency\": 2, \"value\": 3294}, \"3295\": {\"frequency\": 2, \"value\": 3295}, \"3296\": {\"frequency\": 203, \"value\": 3296}, \"3297\": {\"frequency\": 1, \"value\": 3297}, \"3298\": {\"frequency\": 590, \"value\": 3298}, \"3299\": {\"frequency\": 176, \"value\": 3299}, \"3300\": {\"frequency\": 542, \"value\": 3300}, \"3301\": {\"frequency\": 602, \"value\": 3301}, \"3302\": {\"frequency\": 53, \"value\": 3302}, \"3303\": {\"frequency\": 6, \"value\": 3303}, \"3304\": {\"frequency\": 56, \"value\": 3304}, \"3305\": {\"frequency\": 2, \"value\": 3305}, \"3306\": {\"frequency\": 24, \"value\": 3306}, \"3307\": {\"frequency\": 271, \"value\": 3307}, \"3308\": {\"frequency\": 294, \"value\": 3308}, \"3309\": {\"frequency\": 24, \"value\": 3309}, \"3310\": {\"frequency\": 62, \"value\": 3310}, \"3311\": {\"frequency\": 33, \"value\": 3311}, \"3312\": {\"frequency\": 1, \"value\": 3312}, \"3313\": {\"frequency\": 20, \"value\": 3313}, \"3314\": {\"frequency\": 4, \"value\": 3314}, \"3315\": {\"frequency\": 1, \"value\": 3315}, \"3316\": {\"frequency\": 289, \"value\": 3316}, \"3317\": {\"frequency\": 496, \"value\": 3317}, \"3318\": {\"frequency\": 48, \"value\": 3318}, \"3319\": {\"frequency\": 28, \"value\": 3319}, \"3320\": {\"frequency\": 45, \"value\": 3320}, \"3321\": {\"frequency\": 1, \"value\": 3321}, \"3322\": {\"frequency\": 4, \"value\": 3322}, \"3323\": {\"frequency\": 1, \"value\": 3323}, \"3324\": {\"frequency\": 190, \"value\": 3324}, \"3325\": {\"frequency\": 160, \"value\": 3325}, \"3326\": {\"frequency\": 180, \"value\": 3326}, \"3327\": {\"frequency\": 134, \"value\": 3327}, \"3328\": {\"frequency\": 314, \"value\": 3328}, \"3329\": {\"frequency\": 27, \"value\": 3329}, \"3330\": {\"frequency\": 108, \"value\": 3330}, \"3331\": {\"frequency\": 35, \"value\": 3331}, \"3333\": {\"frequency\": 16, \"value\": 3333}, \"3334\": {\"frequency\": 461, \"value\": 3334}, \"3335\": {\"frequency\": 12, \"value\": 3335}, \"3336\": {\"frequency\": 2, \"value\": 3336}, \"3337\": {\"frequency\": 2, \"value\": 3337}, \"3338\": {\"frequency\": 27, \"value\": 3338}, \"3339\": {\"frequency\": 43, \"value\": 3339}, \"3340\": {\"frequency\": 71, \"value\": 3340}, \"3341\": {\"frequency\": 177, \"value\": 3341}, \"3342\": {\"frequency\": 223, \"value\": 3342}, \"3343\": {\"frequency\": 40, \"value\": 3343}, \"3344\": {\"frequency\": 20, \"value\": 3344}, \"3345\": {\"frequency\": 23, \"value\": 3345}, \"3346\": {\"frequency\": 5, \"value\": 3346}, \"3347\": {\"frequency\": 212, \"value\": 3347}, \"3349\": {\"frequency\": 25, \"value\": 3349}, \"3350\": {\"frequency\": 143, \"value\": 3350}, \"3351\": {\"frequency\": 15, \"value\": 3351}, \"3352\": {\"frequency\": 3, \"value\": 3352}, \"3353\": {\"frequency\": 2, \"value\": 3353}, \"3354\": {\"frequency\": 793, \"value\": 3354}, \"3355\": {\"frequency\": 298, \"value\": 3355}, \"3357\": {\"frequency\": 103, \"value\": 3357}, \"3358\": {\"frequency\": 446, \"value\": 3358}, \"3359\": {\"frequency\": 520, \"value\": 3359}, \"3360\": {\"frequency\": 590, \"value\": 3360}, \"3361\": {\"frequency\": 1095, \"value\": 3361}, \"3362\": {\"frequency\": 765, \"value\": 3362}, \"3363\": {\"frequency\": 990, \"value\": 3363}, \"3364\": {\"frequency\": 151, \"value\": 3364}, \"3365\": {\"frequency\": 245, \"value\": 3365}, \"3366\": {\"frequency\": 265, \"value\": 3366}, \"3367\": {\"frequency\": 43, \"value\": 3367}, \"3368\": {\"frequency\": 63, \"value\": 3368}, \"3370\": {\"frequency\": 86, \"value\": 3370}, \"3371\": {\"frequency\": 48, \"value\": 3371}, \"3372\": {\"frequency\": 56, \"value\": 3372}, \"3373\": {\"frequency\": 3, \"value\": 3373}, \"3374\": {\"frequency\": 15, \"value\": 3374}, \"3375\": {\"frequency\": 65, \"value\": 3375}, \"3376\": {\"frequency\": 1, \"value\": 3376}, \"3377\": {\"frequency\": 2, \"value\": 3377}, \"3378\": {\"frequency\": 4, \"value\": 3378}, \"3379\": {\"frequency\": 95, \"value\": 3379}, \"3380\": {\"frequency\": 3, \"value\": 3380}, \"3381\": {\"frequency\": 2, \"value\": 3381}, \"3382\": {\"frequency\": 1, \"value\": 3382}, \"3384\": {\"frequency\": 276, \"value\": 3384}, \"3385\": {\"frequency\": 141, \"value\": 3385}, \"3386\": {\"frequency\": 756, \"value\": 3386}, \"3387\": {\"frequency\": 173, \"value\": 3387}, \"3388\": {\"frequency\": 298, \"value\": 3388}, \"3389\": {\"frequency\": 38, \"value\": 3389}, \"3390\": {\"frequency\": 33, \"value\": 3390}, \"3391\": {\"frequency\": 96, \"value\": 3391}, \"3392\": {\"frequency\": 157, \"value\": 3392}, \"3393\": {\"frequency\": 51, \"value\": 3393}, \"3394\": {\"frequency\": 210, \"value\": 3394}, \"3395\": {\"frequency\": 55, \"value\": 3395}, \"3396\": {\"frequency\": 744, \"value\": 3396}, \"3397\": {\"frequency\": 358, \"value\": 3397}, \"3398\": {\"frequency\": 341, \"value\": 3398}, \"3399\": {\"frequency\": 87, \"value\": 3399}, \"3400\": {\"frequency\": 29, \"value\": 3400}, \"3401\": {\"frequency\": 113, \"value\": 3401}, \"3402\": {\"frequency\": 23, \"value\": 3402}, \"3403\": {\"frequency\": 32, \"value\": 3403}, \"3404\": {\"frequency\": 219, \"value\": 3404}, \"3405\": {\"frequency\": 144, \"value\": 3405}, \"3406\": {\"frequency\": 105, \"value\": 3406}, \"3407\": {\"frequency\": 3, \"value\": 3407}, \"3408\": {\"frequency\": 1315, \"value\": 3408}, \"3409\": {\"frequency\": 459, \"value\": 3409}, \"3410\": {\"frequency\": 9, \"value\": 3410}, \"3412\": {\"frequency\": 175, \"value\": 3412}, \"3413\": {\"frequency\": 2, \"value\": 3413}, \"3414\": {\"frequency\": 50, \"value\": 3414}, \"3415\": {\"frequency\": 23, \"value\": 3415}, \"3416\": {\"frequency\": 51, \"value\": 3416}, \"3417\": {\"frequency\": 73, \"value\": 3417}, \"3418\": {\"frequency\": 1417, \"value\": 3418}, \"3419\": {\"frequency\": 13, \"value\": 3419}, \"3420\": {\"frequency\": 199, \"value\": 3420}, \"3421\": {\"frequency\": 1207, \"value\": 3421}, \"3422\": {\"frequency\": 210, \"value\": 3422}, \"3423\": {\"frequency\": 74, \"value\": 3423}, \"3424\": {\"frequency\": 781, \"value\": 3424}, \"3425\": {\"frequency\": 79, \"value\": 3425}, \"3426\": {\"frequency\": 215, \"value\": 3426}, \"3427\": {\"frequency\": 74, \"value\": 3427}, \"3428\": {\"frequency\": 59, \"value\": 3428}, \"3429\": {\"frequency\": 274, \"value\": 3429}, \"3430\": {\"frequency\": 220, \"value\": 3430}, \"3431\": {\"frequency\": 85, \"value\": 3431}, \"3432\": {\"frequency\": 72, \"value\": 3432}, \"3433\": {\"frequency\": 48, \"value\": 3433}, \"3434\": {\"frequency\": 38, \"value\": 3434}, \"3435\": {\"frequency\": 551, \"value\": 3435}, \"3436\": {\"frequency\": 128, \"value\": 3436}, \"3437\": {\"frequency\": 12, \"value\": 3437}, \"3438\": {\"frequency\": 534, \"value\": 3438}, \"3439\": {\"frequency\": 251, \"value\": 3439}, \"3440\": {\"frequency\": 188, \"value\": 3440}, \"3441\": {\"frequency\": 475, \"value\": 3441}, \"3442\": {\"frequency\": 39, \"value\": 3442}, \"3443\": {\"frequency\": 5, \"value\": 3443}, \"3444\": {\"frequency\": 222, \"value\": 3444}, \"3445\": {\"frequency\": 139, \"value\": 3445}, \"3446\": {\"frequency\": 39, \"value\": 3446}, \"3447\": {\"frequency\": 72, \"value\": 3447}, \"3448\": {\"frequency\": 1082, \"value\": 3448}, \"3449\": {\"frequency\": 34, \"value\": 3449}, \"3450\": {\"frequency\": 809, \"value\": 3450}, \"3451\": {\"frequency\": 350, \"value\": 3451}, \"3452\": {\"frequency\": 331, \"value\": 3452}, \"3453\": {\"frequency\": 89, \"value\": 3453}, \"3454\": {\"frequency\": 43, \"value\": 3454}, \"3456\": {\"frequency\": 65, \"value\": 3456}, \"3457\": {\"frequency\": 141, \"value\": 3457}, \"3458\": {\"frequency\": 1, \"value\": 3458}, \"3459\": {\"frequency\": 62, \"value\": 3459}, \"3460\": {\"frequency\": 1, \"value\": 3460}, \"3461\": {\"frequency\": 353, \"value\": 3461}, \"3462\": {\"frequency\": 305, \"value\": 3462}, \"3463\": {\"frequency\": 10, \"value\": 3463}, \"3464\": {\"frequency\": 20, \"value\": 3464}, \"3465\": {\"frequency\": 18, \"value\": 3465}, \"3466\": {\"frequency\": 219, \"value\": 3466}, \"3467\": {\"frequency\": 279, \"value\": 3467}, \"3468\": {\"frequency\": 450, \"value\": 3468}, \"3469\": {\"frequency\": 268, \"value\": 3469}, \"3470\": {\"frequency\": 92, \"value\": 3470}, \"3471\": {\"frequency\": 1451, \"value\": 3471}, \"3472\": {\"frequency\": 4, \"value\": 3472}, \"3473\": {\"frequency\": 24, \"value\": 3473}, \"3474\": {\"frequency\": 16, \"value\": 3474}, \"3475\": {\"frequency\": 134, \"value\": 3475}, \"3476\": {\"frequency\": 667, \"value\": 3476}, \"3477\": {\"frequency\": 271, \"value\": 3477}, \"3478\": {\"frequency\": 266, \"value\": 3478}, \"3479\": {\"frequency\": 542, \"value\": 3479}, \"3480\": {\"frequency\": 155, \"value\": 3480}, \"3481\": {\"frequency\": 1373, \"value\": 3481}, \"3482\": {\"frequency\": 3, \"value\": 3482}, \"3483\": {\"frequency\": 168, \"value\": 3483}, \"3484\": {\"frequency\": 302, \"value\": 3484}, \"3485\": {\"frequency\": 2, \"value\": 3485}, \"3486\": {\"frequency\": 10, \"value\": 3486}, \"3487\": {\"frequency\": 68, \"value\": 3487}, \"3488\": {\"frequency\": 22, \"value\": 3488}, \"3489\": {\"frequency\": 722, \"value\": 3489}, \"3490\": {\"frequency\": 17, \"value\": 3490}, \"3491\": {\"frequency\": 66, \"value\": 3491}, \"3492\": {\"frequency\": 14, \"value\": 3492}, \"3493\": {\"frequency\": 2, \"value\": 3493}, \"3494\": {\"frequency\": 320, \"value\": 3494}, \"3495\": {\"frequency\": 12, \"value\": 3495}, \"3496\": {\"frequency\": 59, \"value\": 3496}, \"3497\": {\"frequency\": 96, \"value\": 3497}, \"3498\": {\"frequency\": 295, \"value\": 3498}, \"3499\": {\"frequency\": 884, \"value\": 3499}, \"3500\": {\"frequency\": 177, \"value\": 3500}, \"3501\": {\"frequency\": 269, \"value\": 3501}, \"3502\": {\"frequency\": 88, \"value\": 3502}, \"3503\": {\"frequency\": 143, \"value\": 3503}, \"3504\": {\"frequency\": 688, \"value\": 3504}, \"3505\": {\"frequency\": 355, \"value\": 3505}, \"3506\": {\"frequency\": 167, \"value\": 3506}, \"3507\": {\"frequency\": 389, \"value\": 3507}, \"3508\": {\"frequency\": 365, \"value\": 3508}, \"3509\": {\"frequency\": 92, \"value\": 3509}, \"3510\": {\"frequency\": 821, \"value\": 3510}, \"3511\": {\"frequency\": 66, \"value\": 3511}, \"3512\": {\"frequency\": 454, \"value\": 3512}, \"3513\": {\"frequency\": 420, \"value\": 3513}, \"3514\": {\"frequency\": 62, \"value\": 3514}, \"3515\": {\"frequency\": 192, \"value\": 3515}, \"3516\": {\"frequency\": 227, \"value\": 3516}, \"3517\": {\"frequency\": 2, \"value\": 3517}, \"3518\": {\"frequency\": 54, \"value\": 3518}, \"3519\": {\"frequency\": 199, \"value\": 3519}, \"3520\": {\"frequency\": 32, \"value\": 3520}, \"3521\": {\"frequency\": 188, \"value\": 3521}, \"3522\": {\"frequency\": 3, \"value\": 3522}, \"3523\": {\"frequency\": 8, \"value\": 3523}, \"3524\": {\"frequency\": 534, \"value\": 3524}, \"3525\": {\"frequency\": 360, \"value\": 3525}, \"3526\": {\"frequency\": 811, \"value\": 3526}, \"3527\": {\"frequency\": 1297, \"value\": 3527}, \"3528\": {\"frequency\": 321, \"value\": 3528}, \"3529\": {\"frequency\": 155, \"value\": 3529}, \"3530\": {\"frequency\": 1, \"value\": 3530}, \"3531\": {\"frequency\": 27, \"value\": 3531}, \"3532\": {\"frequency\": 21, \"value\": 3532}, \"3533\": {\"frequency\": 7, \"value\": 3533}, \"3534\": {\"frequency\": 505, \"value\": 3534}, \"3535\": {\"frequency\": 630, \"value\": 3535}, \"3536\": {\"frequency\": 489, \"value\": 3536}, \"3537\": {\"frequency\": 34, \"value\": 3537}, \"3538\": {\"frequency\": 176, \"value\": 3538}, \"3539\": {\"frequency\": 39, \"value\": 3539}, \"3540\": {\"frequency\": 28, \"value\": 3540}, \"3542\": {\"frequency\": 2, \"value\": 3542}, \"3543\": {\"frequency\": 839, \"value\": 3543}, \"3544\": {\"frequency\": 97, \"value\": 3544}, \"3545\": {\"frequency\": 443, \"value\": 3545}, \"3546\": {\"frequency\": 223, \"value\": 3546}, \"3547\": {\"frequency\": 77, \"value\": 3547}, \"3548\": {\"frequency\": 274, \"value\": 3548}, \"3549\": {\"frequency\": 260, \"value\": 3549}, \"3550\": {\"frequency\": 160, \"value\": 3550}, \"3551\": {\"frequency\": 400, \"value\": 3551}, \"3552\": {\"frequency\": 967, \"value\": 3552}, \"3553\": {\"frequency\": 82, \"value\": 3553}, \"3554\": {\"frequency\": 119, \"value\": 3554}, \"3555\": {\"frequency\": 908, \"value\": 3555}, \"3556\": {\"frequency\": 328, \"value\": 3556}, \"3557\": {\"frequency\": 116, \"value\": 3557}, \"3559\": {\"frequency\": 30, \"value\": 3559}, \"3562\": {\"frequency\": 26, \"value\": 3562}, \"3563\": {\"frequency\": 13, \"value\": 3563}, \"3564\": {\"frequency\": 128, \"value\": 3564}, \"3565\": {\"frequency\": 277, \"value\": 3565}, \"3566\": {\"frequency\": 304, \"value\": 3566}, \"3567\": {\"frequency\": 35, \"value\": 3567}, \"3568\": {\"frequency\": 26, \"value\": 3568}, \"3569\": {\"frequency\": 37, \"value\": 3569}, \"3570\": {\"frequency\": 10, \"value\": 3570}, \"3571\": {\"frequency\": 127, \"value\": 3571}, \"3572\": {\"frequency\": 77, \"value\": 3572}, \"3573\": {\"frequency\": 26, \"value\": 3573}, \"3574\": {\"frequency\": 17, \"value\": 3574}, \"3575\": {\"frequency\": 3, \"value\": 3575}, \"3576\": {\"frequency\": 284, \"value\": 3576}, \"3577\": {\"frequency\": 60, \"value\": 3577}, \"3578\": {\"frequency\": 1924, \"value\": 3578}, \"3579\": {\"frequency\": 68, \"value\": 3579}, \"3580\": {\"frequency\": 29, \"value\": 3580}, \"3581\": {\"frequency\": 14, \"value\": 3581}, \"3584\": {\"frequency\": 129, \"value\": 3584}, \"3585\": {\"frequency\": 19, \"value\": 3585}, \"3586\": {\"frequency\": 28, \"value\": 3586}, \"3587\": {\"frequency\": 30, \"value\": 3587}, \"3588\": {\"frequency\": 48, \"value\": 3588}, \"3590\": {\"frequency\": 85, \"value\": 3590}, \"3591\": {\"frequency\": 628, \"value\": 3591}, \"3592\": {\"frequency\": 8, \"value\": 3592}, \"3593\": {\"frequency\": 342, \"value\": 3593}, \"3594\": {\"frequency\": 182, \"value\": 3594}, \"3595\": {\"frequency\": 4, \"value\": 3595}, \"3596\": {\"frequency\": 60, \"value\": 3596}, \"3597\": {\"frequency\": 37, \"value\": 3597}, \"3598\": {\"frequency\": 179, \"value\": 3598}, \"3599\": {\"frequency\": 103, \"value\": 3599}, \"3600\": {\"frequency\": 121, \"value\": 3600}, \"3601\": {\"frequency\": 2, \"value\": 3601}, \"3602\": {\"frequency\": 49, \"value\": 3602}, \"3603\": {\"frequency\": 3, \"value\": 3603}, \"3604\": {\"frequency\": 122, \"value\": 3604}, \"3605\": {\"frequency\": 51, \"value\": 3605}, \"3606\": {\"frequency\": 169, \"value\": 3606}, \"3607\": {\"frequency\": 1, \"value\": 3607}, \"3608\": {\"frequency\": 861, \"value\": 3608}, \"3609\": {\"frequency\": 4, \"value\": 3609}, \"3610\": {\"frequency\": 34, \"value\": 3610}, \"3611\": {\"frequency\": 15, \"value\": 3611}, \"3612\": {\"frequency\": 30, \"value\": 3612}, \"3613\": {\"frequency\": 94, \"value\": 3613}, \"3614\": {\"frequency\": 542, \"value\": 3614}, \"3615\": {\"frequency\": 345, \"value\": 3615}, \"3616\": {\"frequency\": 138, \"value\": 3616}, \"3617\": {\"frequency\": 419, \"value\": 3617}, \"3618\": {\"frequency\": 369, \"value\": 3618}, \"3619\": {\"frequency\": 92, \"value\": 3619}, \"3620\": {\"frequency\": 50, \"value\": 3620}, \"3621\": {\"frequency\": 3, \"value\": 3621}, \"3622\": {\"frequency\": 84, \"value\": 3622}, \"3623\": {\"frequency\": 1313, \"value\": 3623}, \"3624\": {\"frequency\": 791, \"value\": 3624}, \"3625\": {\"frequency\": 16, \"value\": 3625}, \"3626\": {\"frequency\": 49, \"value\": 3626}, \"3627\": {\"frequency\": 107, \"value\": 3627}, \"3628\": {\"frequency\": 101, \"value\": 3628}, \"3629\": {\"frequency\": 275, \"value\": 3629}, \"3631\": {\"frequency\": 3, \"value\": 3631}, \"3632\": {\"frequency\": 40, \"value\": 3632}, \"3633\": {\"frequency\": 353, \"value\": 3633}, \"3634\": {\"frequency\": 165, \"value\": 3634}, \"3635\": {\"frequency\": 487, \"value\": 3635}, \"3636\": {\"frequency\": 9, \"value\": 3636}, \"3637\": {\"frequency\": 20, \"value\": 3637}, \"3638\": {\"frequency\": 652, \"value\": 3638}, \"3639\": {\"frequency\": 461, \"value\": 3639}, \"3640\": {\"frequency\": 12, \"value\": 3640}, \"3641\": {\"frequency\": 8, \"value\": 3641}, \"3642\": {\"frequency\": 13, \"value\": 3642}, \"3643\": {\"frequency\": 101, \"value\": 3643}, \"3644\": {\"frequency\": 17, \"value\": 3644}, \"3645\": {\"frequency\": 18, \"value\": 3645}, \"3646\": {\"frequency\": 180, \"value\": 3646}, \"3647\": {\"frequency\": 1, \"value\": 3647}, \"3648\": {\"frequency\": 9, \"value\": 3648}, \"3649\": {\"frequency\": 295, \"value\": 3649}, \"3651\": {\"frequency\": 2, \"value\": 3651}, \"3652\": {\"frequency\": 5, \"value\": 3652}, \"3653\": {\"frequency\": 149, \"value\": 3653}, \"3654\": {\"frequency\": 502, \"value\": 3654}, \"3655\": {\"frequency\": 50, \"value\": 3655}, \"3656\": {\"frequency\": 1, \"value\": 3656}, \"3657\": {\"frequency\": 6, \"value\": 3657}, \"3658\": {\"frequency\": 69, \"value\": 3658}, \"3659\": {\"frequency\": 38, \"value\": 3659}, \"3660\": {\"frequency\": 157, \"value\": 3660}, \"3661\": {\"frequency\": 82, \"value\": 3661}, \"3662\": {\"frequency\": 92, \"value\": 3662}, \"3663\": {\"frequency\": 58, \"value\": 3663}, \"3664\": {\"frequency\": 54, \"value\": 3664}, \"3665\": {\"frequency\": 26, \"value\": 3665}, \"3666\": {\"frequency\": 6, \"value\": 3666}, \"3667\": {\"frequency\": 35, \"value\": 3667}, \"3668\": {\"frequency\": 356, \"value\": 3668}, \"3669\": {\"frequency\": 71, \"value\": 3669}, \"3670\": {\"frequency\": 21, \"value\": 3670}, \"3671\": {\"frequency\": 1119, \"value\": 3671}, \"3672\": {\"frequency\": 156, \"value\": 3672}, \"3673\": {\"frequency\": 31, \"value\": 3673}, \"3674\": {\"frequency\": 47, \"value\": 3674}, \"3675\": {\"frequency\": 271, \"value\": 3675}, \"3676\": {\"frequency\": 199, \"value\": 3676}, \"3677\": {\"frequency\": 45, \"value\": 3677}, \"3678\": {\"frequency\": 90, \"value\": 3678}, \"3679\": {\"frequency\": 62, \"value\": 3679}, \"3680\": {\"frequency\": 47, \"value\": 3680}, \"3681\": {\"frequency\": 325, \"value\": 3681}, \"3682\": {\"frequency\": 210, \"value\": 3682}, \"3683\": {\"frequency\": 628, \"value\": 3683}, \"3684\": {\"frequency\": 358, \"value\": 3684}, \"3685\": {\"frequency\": 545, \"value\": 3685}, \"3686\": {\"frequency\": 413, \"value\": 3686}, \"3687\": {\"frequency\": 2, \"value\": 3687}, \"3688\": {\"frequency\": 339, \"value\": 3688}, \"3689\": {\"frequency\": 141, \"value\": 3689}, \"3690\": {\"frequency\": 122, \"value\": 3690}, \"3691\": {\"frequency\": 42, \"value\": 3691}, \"3692\": {\"frequency\": 58, \"value\": 3692}, \"3693\": {\"frequency\": 182, \"value\": 3693}, \"3694\": {\"frequency\": 62, \"value\": 3694}, \"3695\": {\"frequency\": 53, \"value\": 3695}, \"3696\": {\"frequency\": 65, \"value\": 3696}, \"3697\": {\"frequency\": 643, \"value\": 3697}, \"3698\": {\"frequency\": 730, \"value\": 3698}, \"3699\": {\"frequency\": 865, \"value\": 3699}, \"3700\": {\"frequency\": 246, \"value\": 3700}, \"3701\": {\"frequency\": 504, \"value\": 3701}, \"3702\": {\"frequency\": 1066, \"value\": 3702}, \"3703\": {\"frequency\": 1034, \"value\": 3703}, \"3704\": {\"frequency\": 722, \"value\": 3704}, \"3705\": {\"frequency\": 380, \"value\": 3705}, \"3706\": {\"frequency\": 448, \"value\": 3706}, \"3707\": {\"frequency\": 237, \"value\": 3707}, \"3708\": {\"frequency\": 267, \"value\": 3708}, \"3709\": {\"frequency\": 113, \"value\": 3709}, \"3710\": {\"frequency\": 185, \"value\": 3710}, \"3711\": {\"frequency\": 33, \"value\": 3711}, \"3712\": {\"frequency\": 365, \"value\": 3712}, \"3713\": {\"frequency\": 85, \"value\": 3713}, \"3714\": {\"frequency\": 66, \"value\": 3714}, \"3715\": {\"frequency\": 88, \"value\": 3715}, \"3716\": {\"frequency\": 67, \"value\": 3716}, \"3717\": {\"frequency\": 584, \"value\": 3717}, \"3718\": {\"frequency\": 61, \"value\": 3718}, \"3719\": {\"frequency\": 45, \"value\": 3719}, \"3720\": {\"frequency\": 87, \"value\": 3720}, \"3721\": {\"frequency\": 24, \"value\": 3721}, \"3722\": {\"frequency\": 1, \"value\": 3722}, \"3723\": {\"frequency\": 269, \"value\": 3723}, \"3724\": {\"frequency\": 195, \"value\": 3724}, \"3725\": {\"frequency\": 112, \"value\": 3725}, \"3726\": {\"frequency\": 98, \"value\": 3726}, \"3727\": {\"frequency\": 148, \"value\": 3727}, \"3728\": {\"frequency\": 148, \"value\": 3728}, \"3729\": {\"frequency\": 222, \"value\": 3729}, \"3730\": {\"frequency\": 453, \"value\": 3730}, \"3731\": {\"frequency\": 43, \"value\": 3731}, \"3732\": {\"frequency\": 71, \"value\": 3732}, \"3733\": {\"frequency\": 289, \"value\": 3733}, \"3734\": {\"frequency\": 57, \"value\": 3734}, \"3735\": {\"frequency\": 495, \"value\": 3735}, \"3736\": {\"frequency\": 39, \"value\": 3736}, \"3737\": {\"frequency\": 50, \"value\": 3737}, \"3738\": {\"frequency\": 77, \"value\": 3738}, \"3739\": {\"frequency\": 40, \"value\": 3739}, \"3740\": {\"frequency\": 584, \"value\": 3740}, \"3741\": {\"frequency\": 241, \"value\": 3741}, \"3742\": {\"frequency\": 234, \"value\": 3742}, \"3743\": {\"frequency\": 77, \"value\": 3743}, \"3744\": {\"frequency\": 421, \"value\": 3744}, \"3745\": {\"frequency\": 535, \"value\": 3745}, \"3746\": {\"frequency\": 69, \"value\": 3746}, \"3747\": {\"frequency\": 148, \"value\": 3747}, \"3748\": {\"frequency\": 2, \"value\": 3748}, \"3749\": {\"frequency\": 22, \"value\": 3749}, \"3751\": {\"frequency\": 1329, \"value\": 3751}, \"3752\": {\"frequency\": 560, \"value\": 3752}, \"3753\": {\"frequency\": 1240, \"value\": 3753}, \"3754\": {\"frequency\": 206, \"value\": 3754}, \"3755\": {\"frequency\": 1013, \"value\": 3755}, \"3756\": {\"frequency\": 24, \"value\": 3756}, \"3757\": {\"frequency\": 17, \"value\": 3757}, \"3758\": {\"frequency\": 120, \"value\": 3758}, \"3759\": {\"frequency\": 35, \"value\": 3759}, \"3760\": {\"frequency\": 305, \"value\": 3760}, \"3761\": {\"frequency\": 28, \"value\": 3761}, \"3762\": {\"frequency\": 3, \"value\": 3762}, \"3763\": {\"frequency\": 701, \"value\": 3763}, \"3764\": {\"frequency\": 245, \"value\": 3764}, \"3765\": {\"frequency\": 46, \"value\": 3765}, \"3766\": {\"frequency\": 191, \"value\": 3766}, \"3767\": {\"frequency\": 104, \"value\": 3767}, \"3768\": {\"frequency\": 81, \"value\": 3768}, \"3769\": {\"frequency\": 190, \"value\": 3769}, \"3770\": {\"frequency\": 338, \"value\": 3770}, \"3771\": {\"frequency\": 151, \"value\": 3771}, \"3772\": {\"frequency\": 3, \"value\": 3772}, \"3773\": {\"frequency\": 171, \"value\": 3773}, \"3774\": {\"frequency\": 64, \"value\": 3774}, \"3775\": {\"frequency\": 20, \"value\": 3775}, \"3776\": {\"frequency\": 24, \"value\": 3776}, \"3777\": {\"frequency\": 11, \"value\": 3777}, \"3778\": {\"frequency\": 6, \"value\": 3778}, \"3779\": {\"frequency\": 1, \"value\": 3779}, \"3780\": {\"frequency\": 41, \"value\": 3780}, \"3781\": {\"frequency\": 29, \"value\": 3781}, \"3782\": {\"frequency\": 44, \"value\": 3782}, \"3783\": {\"frequency\": 235, \"value\": 3783}, \"3784\": {\"frequency\": 165, \"value\": 3784}, \"3785\": {\"frequency\": 613, \"value\": 3785}, \"3786\": {\"frequency\": 184, \"value\": 3786}, \"3787\": {\"frequency\": 63, \"value\": 3787}, \"3788\": {\"frequency\": 246, \"value\": 3788}, \"3789\": {\"frequency\": 156, \"value\": 3789}, \"3790\": {\"frequency\": 51, \"value\": 3790}, \"3791\": {\"frequency\": 435, \"value\": 3791}, \"3792\": {\"frequency\": 72, \"value\": 3792}, \"3793\": {\"frequency\": 1511, \"value\": 3793}, \"3794\": {\"frequency\": 121, \"value\": 3794}, \"3795\": {\"frequency\": 66, \"value\": 3795}, \"3796\": {\"frequency\": 13, \"value\": 3796}, \"3797\": {\"frequency\": 29, \"value\": 3797}, \"3798\": {\"frequency\": 463, \"value\": 3798}, \"3799\": {\"frequency\": 100, \"value\": 3799}, \"3800\": {\"frequency\": 3, \"value\": 3800}, \"3801\": {\"frequency\": 199, \"value\": 3801}, \"3802\": {\"frequency\": 304, \"value\": 3802}, \"3803\": {\"frequency\": 9, \"value\": 3803}, \"3804\": {\"frequency\": 43, \"value\": 3804}, \"3805\": {\"frequency\": 34, \"value\": 3805}, \"3806\": {\"frequency\": 58, \"value\": 3806}, \"3807\": {\"frequency\": 106, \"value\": 3807}, \"3808\": {\"frequency\": 44, \"value\": 3808}, \"3809\": {\"frequency\": 817, \"value\": 3809}, \"3810\": {\"frequency\": 83, \"value\": 3810}, \"3811\": {\"frequency\": 360, \"value\": 3811}, \"3812\": {\"frequency\": 285, \"value\": 3812}, \"3813\": {\"frequency\": 83, \"value\": 3813}, \"3814\": {\"frequency\": 219, \"value\": 3814}, \"3816\": {\"frequency\": 38, \"value\": 3816}, \"3817\": {\"frequency\": 16, \"value\": 3817}, \"3818\": {\"frequency\": 7, \"value\": 3818}, \"3819\": {\"frequency\": 245, \"value\": 3819}, \"3820\": {\"frequency\": 37, \"value\": 3820}, \"3821\": {\"frequency\": 248, \"value\": 3821}, \"3822\": {\"frequency\": 70, \"value\": 3822}, \"3823\": {\"frequency\": 66, \"value\": 3823}, \"3824\": {\"frequency\": 117, \"value\": 3824}, \"3825\": {\"frequency\": 201, \"value\": 3825}, \"3826\": {\"frequency\": 405, \"value\": 3826}, \"3827\": {\"frequency\": 478, \"value\": 3827}, \"3828\": {\"frequency\": 2, \"value\": 3828}, \"3830\": {\"frequency\": 25, \"value\": 3830}, \"3831\": {\"frequency\": 186, \"value\": 3831}, \"3832\": {\"frequency\": 21, \"value\": 3832}, \"3833\": {\"frequency\": 56, \"value\": 3833}, \"3834\": {\"frequency\": 176, \"value\": 3834}, \"3835\": {\"frequency\": 178, \"value\": 3835}, \"3836\": {\"frequency\": 375, \"value\": 3836}, \"3837\": {\"frequency\": 89, \"value\": 3837}, \"3838\": {\"frequency\": 42, \"value\": 3838}, \"3839\": {\"frequency\": 47, \"value\": 3839}, \"3840\": {\"frequency\": 112, \"value\": 3840}, \"3841\": {\"frequency\": 306, \"value\": 3841}, \"3842\": {\"frequency\": 1, \"value\": 3842}, \"3843\": {\"frequency\": 30, \"value\": 3843}, \"3844\": {\"frequency\": 408, \"value\": 3844}, \"3845\": {\"frequency\": 28, \"value\": 3845}, \"3846\": {\"frequency\": 138, \"value\": 3846}, \"3847\": {\"frequency\": 25, \"value\": 3847}, \"3848\": {\"frequency\": 20, \"value\": 3848}, \"3849\": {\"frequency\": 43, \"value\": 3849}, \"3850\": {\"frequency\": 13, \"value\": 3850}, \"3851\": {\"frequency\": 40, \"value\": 3851}, \"3852\": {\"frequency\": 208, \"value\": 3852}, \"3853\": {\"frequency\": 13, \"value\": 3853}, \"3854\": {\"frequency\": 20, \"value\": 3854}, \"3855\": {\"frequency\": 39, \"value\": 3855}, \"3857\": {\"frequency\": 60, \"value\": 3857}, \"3858\": {\"frequency\": 69, \"value\": 3858}, \"3859\": {\"frequency\": 82, \"value\": 3859}, \"3860\": {\"frequency\": 16, \"value\": 3860}, \"3861\": {\"frequency\": 241, \"value\": 3861}, \"3862\": {\"frequency\": 20, \"value\": 3862}, \"3863\": {\"frequency\": 658, \"value\": 3863}, \"3864\": {\"frequency\": 143, \"value\": 3864}, \"3865\": {\"frequency\": 147, \"value\": 3865}, \"3866\": {\"frequency\": 6, \"value\": 3866}, \"3867\": {\"frequency\": 12, \"value\": 3867}, \"3868\": {\"frequency\": 692, \"value\": 3868}, \"3869\": {\"frequency\": 431, \"value\": 3869}, \"3870\": {\"frequency\": 49, \"value\": 3870}, \"3871\": {\"frequency\": 305, \"value\": 3871}, \"3872\": {\"frequency\": 102, \"value\": 3872}, \"3873\": {\"frequency\": 280, \"value\": 3873}, \"3874\": {\"frequency\": 24, \"value\": 3874}, \"3875\": {\"frequency\": 5, \"value\": 3875}, \"3876\": {\"frequency\": 4, \"value\": 3876}, \"3877\": {\"frequency\": 182, \"value\": 3877}, \"3878\": {\"frequency\": 12, \"value\": 3878}, \"3879\": {\"frequency\": 144, \"value\": 3879}, \"3880\": {\"frequency\": 18, \"value\": 3880}, \"3881\": {\"frequency\": 1, \"value\": 3881}, \"3882\": {\"frequency\": 234, \"value\": 3882}, \"3883\": {\"frequency\": 15, \"value\": 3883}, \"3884\": {\"frequency\": 40, \"value\": 3884}, \"3885\": {\"frequency\": 26, \"value\": 3885}, \"3886\": {\"frequency\": 40, \"value\": 3886}, \"3887\": {\"frequency\": 4, \"value\": 3887}, \"3888\": {\"frequency\": 2, \"value\": 3888}, \"3889\": {\"frequency\": 135, \"value\": 3889}, \"3890\": {\"frequency\": 1, \"value\": 3890}, \"3891\": {\"frequency\": 7, \"value\": 3891}, \"3892\": {\"frequency\": 10, \"value\": 3892}, \"3893\": {\"frequency\": 559, \"value\": 3893}, \"3894\": {\"frequency\": 21, \"value\": 3894}, \"3895\": {\"frequency\": 94, \"value\": 3895}, \"3896\": {\"frequency\": 179, \"value\": 3896}, \"3897\": {\"frequency\": 994, \"value\": 3897}, \"3898\": {\"frequency\": 45, \"value\": 3898}, \"3899\": {\"frequency\": 3, \"value\": 3899}, \"3900\": {\"frequency\": 33, \"value\": 3900}, \"3901\": {\"frequency\": 106, \"value\": 3901}, \"3902\": {\"frequency\": 24, \"value\": 3902}, \"3903\": {\"frequency\": 52, \"value\": 3903}, \"3904\": {\"frequency\": 1, \"value\": 3904}, \"3905\": {\"frequency\": 8, \"value\": 3905}, \"3906\": {\"frequency\": 32, \"value\": 3906}, \"3908\": {\"frequency\": 92, \"value\": 3908}, \"3909\": {\"frequency\": 69, \"value\": 3909}, \"3910\": {\"frequency\": 200, \"value\": 3910}, \"3911\": {\"frequency\": 657, \"value\": 3911}, \"3912\": {\"frequency\": 40, \"value\": 3912}, \"3913\": {\"frequency\": 32, \"value\": 3913}, \"3914\": {\"frequency\": 70, \"value\": 3914}, \"3915\": {\"frequency\": 127, \"value\": 3915}, \"3916\": {\"frequency\": 437, \"value\": 3916}, \"3917\": {\"frequency\": 279, \"value\": 3917}, \"3918\": {\"frequency\": 167, \"value\": 3918}, \"3919\": {\"frequency\": 87, \"value\": 3919}, \"3920\": {\"frequency\": 66, \"value\": 3920}, \"3921\": {\"frequency\": 47, \"value\": 3921}, \"3922\": {\"frequency\": 39, \"value\": 3922}, \"3923\": {\"frequency\": 104, \"value\": 3923}, \"3924\": {\"frequency\": 26, \"value\": 3924}, \"3925\": {\"frequency\": 124, \"value\": 3925}, \"3926\": {\"frequency\": 180, \"value\": 3926}, \"3927\": {\"frequency\": 348, \"value\": 3927}, \"3928\": {\"frequency\": 206, \"value\": 3928}, \"3929\": {\"frequency\": 147, \"value\": 3929}, \"3930\": {\"frequency\": 223, \"value\": 3930}, \"3931\": {\"frequency\": 27, \"value\": 3931}, \"3932\": {\"frequency\": 232, \"value\": 3932}, \"3933\": {\"frequency\": 16, \"value\": 3933}, \"3934\": {\"frequency\": 28, \"value\": 3934}, \"3935\": {\"frequency\": 23, \"value\": 3935}, \"3936\": {\"frequency\": 112, \"value\": 3936}, \"3937\": {\"frequency\": 135, \"value\": 3937}, \"3938\": {\"frequency\": 27, \"value\": 3938}, \"3939\": {\"frequency\": 26, \"value\": 3939}, \"3940\": {\"frequency\": 15, \"value\": 3940}, \"3941\": {\"frequency\": 22, \"value\": 3941}, \"3942\": {\"frequency\": 28, \"value\": 3942}, \"3943\": {\"frequency\": 96, \"value\": 3943}, \"3944\": {\"frequency\": 9, \"value\": 3944}, \"3945\": {\"frequency\": 43, \"value\": 3945}, \"3946\": {\"frequency\": 100, \"value\": 3946}, \"3947\": {\"frequency\": 55, \"value\": 3947}, \"3948\": {\"frequency\": 862, \"value\": 3948}, \"3949\": {\"frequency\": 304, \"value\": 3949}, \"3950\": {\"frequency\": 54, \"value\": 3950}, \"3951\": {\"frequency\": 40, \"value\": 3951}, \"3952\": {\"frequency\": 388, \"value\": 3952}}, \"mean\": 1865.5398981612764}, \"timestamp\": {\"std\": 12152552.864906725, \"complete\": true, \"min\": 956703932.0, \"max\": 1046454590.0, \"quantile\": [956703932.0, 957073533.0, 957546206.0, 957938041.0, 958272635.0, 958744141.0, 959177473.0, 959559810.0, 959817838.0, 960327332.0, 960784611.0, 961166332.0, 961727133.0, 962335384.0, 962557171.0, 962639093.0, 962741308.0, 962928265.0, 963269184.0, 963676980.0, 964153229.0, 964796894.0, 965054677.0, 965156581.0, 965229165.0, 965303142.0, 965327641.0, 965386818.0, 965491578.0, 965532785.0, 965668674.0, 965839433.0, 965956201.0, 966068686.0, 966275845.0, 966387278.0, 966609097.0, 966826869.0, 967049783.0, 967337831.0, 967586728.0, 967955261.0, 968253035.0, 968636934.0, 969057005.0, 969812469.0, 970470490.0, 971151387.0, 971885710.0, 972527955.0, 972967303.0, 973299544.0, 973629970.0, 974015073.0, 974232014.0, 974421329.0, 974583904.0, 974608238.0, 974653145.0, 974669478.0, 974687437.0, 974698361.0, 974706597.0, 974713101.0, 974737289.0, 974753151.0, 974765344.0, 974777370.0, 974815233.0, 974841515.0, 974863428.0, 974910918.0, 974948770.0, 975016867.0, 975127885.0, 975225823.0, 975348231.0, 975395376.0, 975511535.0, 975611195.0, 975767923.0, 975965974.0, 976138245.0, 976222752.0, 976298968.0, 976426069.0, 976654531.0, 976905273.0, 977221301.0, 977628069.0, 978126393.0, 978850058.0, 980490065.0, 982967252.0, 987656031.0, 993073852.0, 998323750.0, 1008122088.0, 1016590417.0, 1029632346.0, 1046454590.0], \"median\": 972967303.0, \"numeric\": true, \"num_unique\": 459015, \"num_undefined\": 0, \"var\": 147684541134352.62, \"progress\": 1.0, \"size\": 1000209, \"frequent_items\": {}, \"mean\": 972243695.404665}}, \"selected_variable\": {\"name\": [\"data\"], \"descriptives\": {\"rows\": 1000209, \"columns\": 4}, \"view_component\": \"Summary\", \"view_file\": \"sframe\", \"view_params\": {\"y\": null, \"x\": null, \"columns\": [\"user_id\", \"movie_id\", \"rating\", \"timestamp\"], \"view\": null}, \"view_components\": [\"Summary\", \"Table\", \"Bar Chart\", \"BoxWhisker Plot\", \"Line Chart\", \"Scatter Plot\", \"Heat Map\", \"Plots\"], \"type\": \"SFrame\", \"columns\": [{\"dtype\": \"int\", \"name\": \"user_id\"}, {\"dtype\": \"int\", \"name\": \"movie_id\"}, {\"dtype\": \"int\", \"name\": \"rating\"}, {\"dtype\": \"int\", \"name\": \"timestamp\"}], \"column_identifiers\": [\"rating\", \"user_id\", \"movie_id\", \"timestamp\"]}, \"columns\": [{\"dtype\": \"int\", \"name\": \"user_id\"}, {\"dtype\": \"int\", \"name\": \"movie_id\"}, {\"dtype\": \"int\", \"name\": \"rating\"}, {\"dtype\": \"int\", \"name\": \"timestamp\"}]}, e);\n",
       "                });\n",
       "            })();\n",
       "        "
      ]
     },
     "metadata": {},
     "output_type": "display_data"
    }
   ],
   "source": [
    "data.show()\n"
   ]
  },
  {
   "cell_type": "code",
   "execution_count": 61,
   "metadata": {
    "collapsed": false
   },
   "outputs": [
    {
     "data": {
      "text/html": [
       "<div style=\"max-height:1000px;max-width:1500px;overflow:auto;\"><table frame=\"box\" rules=\"cols\">\n",
       "    <tr>\n",
       "        <th style=\"padding-left: 1em; padding-right: 1em; text-align: center\">movie_id</th>\n",
       "        <th style=\"padding-left: 1em; padding-right: 1em; text-align: center\">title</th>\n",
       "        <th style=\"padding-left: 1em; padding-right: 1em; text-align: center\">genre</th>\n",
       "    </tr>\n",
       "    <tr>\n",
       "        <td style=\"padding-left: 1em; padding-right: 1em; text-align: center; vertical-align: top\">1</td>\n",
       "        <td style=\"padding-left: 1em; padding-right: 1em; text-align: center; vertical-align: top\">Toy Story (1995)</td>\n",
       "        <td style=\"padding-left: 1em; padding-right: 1em; text-align: center; vertical-align: top\">Animation|Children's|Come<br>dy ...</td>\n",
       "    </tr>\n",
       "    <tr>\n",
       "        <td style=\"padding-left: 1em; padding-right: 1em; text-align: center; vertical-align: top\">2</td>\n",
       "        <td style=\"padding-left: 1em; padding-right: 1em; text-align: center; vertical-align: top\">Jumanji (1995)</td>\n",
       "        <td style=\"padding-left: 1em; padding-right: 1em; text-align: center; vertical-align: top\">Adventure|Children's|Fant<br>asy ...</td>\n",
       "    </tr>\n",
       "    <tr>\n",
       "        <td style=\"padding-left: 1em; padding-right: 1em; text-align: center; vertical-align: top\">3</td>\n",
       "        <td style=\"padding-left: 1em; padding-right: 1em; text-align: center; vertical-align: top\">Grumpier Old Men (1995)</td>\n",
       "        <td style=\"padding-left: 1em; padding-right: 1em; text-align: center; vertical-align: top\">Comedy|Romance</td>\n",
       "    </tr>\n",
       "    <tr>\n",
       "        <td style=\"padding-left: 1em; padding-right: 1em; text-align: center; vertical-align: top\">4</td>\n",
       "        <td style=\"padding-left: 1em; padding-right: 1em; text-align: center; vertical-align: top\">Waiting to Exhale (1995)</td>\n",
       "        <td style=\"padding-left: 1em; padding-right: 1em; text-align: center; vertical-align: top\">Comedy|Drama</td>\n",
       "    </tr>\n",
       "    <tr>\n",
       "        <td style=\"padding-left: 1em; padding-right: 1em; text-align: center; vertical-align: top\">5</td>\n",
       "        <td style=\"padding-left: 1em; padding-right: 1em; text-align: center; vertical-align: top\">Father of the Bride Part<br>II (1995) ...</td>\n",
       "        <td style=\"padding-left: 1em; padding-right: 1em; text-align: center; vertical-align: top\">Comedy</td>\n",
       "    </tr>\n",
       "    <tr>\n",
       "        <td style=\"padding-left: 1em; padding-right: 1em; text-align: center; vertical-align: top\">6</td>\n",
       "        <td style=\"padding-left: 1em; padding-right: 1em; text-align: center; vertical-align: top\">Heat (1995)</td>\n",
       "        <td style=\"padding-left: 1em; padding-right: 1em; text-align: center; vertical-align: top\">Action|Crime|Thriller</td>\n",
       "    </tr>\n",
       "    <tr>\n",
       "        <td style=\"padding-left: 1em; padding-right: 1em; text-align: center; vertical-align: top\">7</td>\n",
       "        <td style=\"padding-left: 1em; padding-right: 1em; text-align: center; vertical-align: top\">Sabrina (1995)</td>\n",
       "        <td style=\"padding-left: 1em; padding-right: 1em; text-align: center; vertical-align: top\">Comedy|Romance</td>\n",
       "    </tr>\n",
       "    <tr>\n",
       "        <td style=\"padding-left: 1em; padding-right: 1em; text-align: center; vertical-align: top\">8</td>\n",
       "        <td style=\"padding-left: 1em; padding-right: 1em; text-align: center; vertical-align: top\">Tom and Huck (1995)</td>\n",
       "        <td style=\"padding-left: 1em; padding-right: 1em; text-align: center; vertical-align: top\">Adventure|Children's</td>\n",
       "    </tr>\n",
       "    <tr>\n",
       "        <td style=\"padding-left: 1em; padding-right: 1em; text-align: center; vertical-align: top\">9</td>\n",
       "        <td style=\"padding-left: 1em; padding-right: 1em; text-align: center; vertical-align: top\">Sudden Death (1995)</td>\n",
       "        <td style=\"padding-left: 1em; padding-right: 1em; text-align: center; vertical-align: top\">Action</td>\n",
       "    </tr>\n",
       "    <tr>\n",
       "        <td style=\"padding-left: 1em; padding-right: 1em; text-align: center; vertical-align: top\">10</td>\n",
       "        <td style=\"padding-left: 1em; padding-right: 1em; text-align: center; vertical-align: top\">GoldenEye (1995)</td>\n",
       "        <td style=\"padding-left: 1em; padding-right: 1em; text-align: center; vertical-align: top\">Action|Adventure|Thriller</td>\n",
       "    </tr>\n",
       "</table>\n",
       "[10 rows x 3 columns]<br/>\n",
       "</div>"
      ],
      "text/plain": [
       "Columns:\n",
       "\tmovie_id\tint\n",
       "\ttitle\tstr\n",
       "\tgenre\tstr\n",
       "\n",
       "Rows: 10\n",
       "\n",
       "Data:\n",
       "+----------+-------------------------------+------------------------------+\n",
       "| movie_id |             title             |            genre             |\n",
       "+----------+-------------------------------+------------------------------+\n",
       "|    1     |        Toy Story (1995)       | Animation|Children's|Comedy  |\n",
       "|    2     |         Jumanji (1995)        | Adventure|Children's|Fantasy |\n",
       "|    3     |    Grumpier Old Men (1995)    |        Comedy|Romance        |\n",
       "|    4     |    Waiting to Exhale (1995)   |         Comedy|Drama         |\n",
       "|    5     | Father of the Bride Part I... |            Comedy            |\n",
       "|    6     |          Heat (1995)          |    Action|Crime|Thriller     |\n",
       "|    7     |         Sabrina (1995)        |        Comedy|Romance        |\n",
       "|    8     |      Tom and Huck (1995)      |     Adventure|Children's     |\n",
       "|    9     |      Sudden Death (1995)      |            Action            |\n",
       "|    10    |        GoldenEye (1995)       |  Action|Adventure|Thriller   |\n",
       "+----------+-------------------------------+------------------------------+\n",
       "[10 rows x 3 columns]"
      ]
     },
     "execution_count": 61,
     "metadata": {},
     "output_type": "execute_result"
    }
   ],
   "source": [
    "items.head()"
   ]
  },
  {
   "cell_type": "code",
   "execution_count": 62,
   "metadata": {
    "collapsed": true
   },
   "outputs": [],
   "source": [
    "data = data.join(items, on='movie_id')"
   ]
  },
  {
   "cell_type": "code",
   "execution_count": 63,
   "metadata": {
    "collapsed": false
   },
   "outputs": [
    {
     "data": {
      "text/html": [
       "<div style=\"max-height:1000px;max-width:1500px;overflow:auto;\"><table frame=\"box\" rules=\"cols\">\n",
       "    <tr>\n",
       "        <th style=\"padding-left: 1em; padding-right: 1em; text-align: center\">user_id</th>\n",
       "        <th style=\"padding-left: 1em; padding-right: 1em; text-align: center\">movie_id</th>\n",
       "        <th style=\"padding-left: 1em; padding-right: 1em; text-align: center\">rating</th>\n",
       "        <th style=\"padding-left: 1em; padding-right: 1em; text-align: center\">timestamp</th>\n",
       "        <th style=\"padding-left: 1em; padding-right: 1em; text-align: center\">title</th>\n",
       "        <th style=\"padding-left: 1em; padding-right: 1em; text-align: center\">genre</th>\n",
       "    </tr>\n",
       "    <tr>\n",
       "        <td style=\"padding-left: 1em; padding-right: 1em; text-align: center; vertical-align: top\">1</td>\n",
       "        <td style=\"padding-left: 1em; padding-right: 1em; text-align: center; vertical-align: top\">1193</td>\n",
       "        <td style=\"padding-left: 1em; padding-right: 1em; text-align: center; vertical-align: top\">5</td>\n",
       "        <td style=\"padding-left: 1em; padding-right: 1em; text-align: center; vertical-align: top\">978300760</td>\n",
       "        <td style=\"padding-left: 1em; padding-right: 1em; text-align: center; vertical-align: top\">One Flew Over the<br>Cuckoo's Nest (1975) ...</td>\n",
       "        <td style=\"padding-left: 1em; padding-right: 1em; text-align: center; vertical-align: top\">Drama</td>\n",
       "    </tr>\n",
       "    <tr>\n",
       "        <td style=\"padding-left: 1em; padding-right: 1em; text-align: center; vertical-align: top\">1</td>\n",
       "        <td style=\"padding-left: 1em; padding-right: 1em; text-align: center; vertical-align: top\">661</td>\n",
       "        <td style=\"padding-left: 1em; padding-right: 1em; text-align: center; vertical-align: top\">3</td>\n",
       "        <td style=\"padding-left: 1em; padding-right: 1em; text-align: center; vertical-align: top\">978302109</td>\n",
       "        <td style=\"padding-left: 1em; padding-right: 1em; text-align: center; vertical-align: top\">James and the Giant Peach<br>(1996) ...</td>\n",
       "        <td style=\"padding-left: 1em; padding-right: 1em; text-align: center; vertical-align: top\">Animation|Children's|Musi<br>cal ...</td>\n",
       "    </tr>\n",
       "    <tr>\n",
       "        <td style=\"padding-left: 1em; padding-right: 1em; text-align: center; vertical-align: top\">1</td>\n",
       "        <td style=\"padding-left: 1em; padding-right: 1em; text-align: center; vertical-align: top\">914</td>\n",
       "        <td style=\"padding-left: 1em; padding-right: 1em; text-align: center; vertical-align: top\">3</td>\n",
       "        <td style=\"padding-left: 1em; padding-right: 1em; text-align: center; vertical-align: top\">978301968</td>\n",
       "        <td style=\"padding-left: 1em; padding-right: 1em; text-align: center; vertical-align: top\">My Fair Lady (1964)</td>\n",
       "        <td style=\"padding-left: 1em; padding-right: 1em; text-align: center; vertical-align: top\">Musical|Romance</td>\n",
       "    </tr>\n",
       "    <tr>\n",
       "        <td style=\"padding-left: 1em; padding-right: 1em; text-align: center; vertical-align: top\">1</td>\n",
       "        <td style=\"padding-left: 1em; padding-right: 1em; text-align: center; vertical-align: top\">3408</td>\n",
       "        <td style=\"padding-left: 1em; padding-right: 1em; text-align: center; vertical-align: top\">4</td>\n",
       "        <td style=\"padding-left: 1em; padding-right: 1em; text-align: center; vertical-align: top\">978300275</td>\n",
       "        <td style=\"padding-left: 1em; padding-right: 1em; text-align: center; vertical-align: top\">Erin Brockovich (2000)</td>\n",
       "        <td style=\"padding-left: 1em; padding-right: 1em; text-align: center; vertical-align: top\">Drama</td>\n",
       "    </tr>\n",
       "    <tr>\n",
       "        <td style=\"padding-left: 1em; padding-right: 1em; text-align: center; vertical-align: top\">1</td>\n",
       "        <td style=\"padding-left: 1em; padding-right: 1em; text-align: center; vertical-align: top\">2355</td>\n",
       "        <td style=\"padding-left: 1em; padding-right: 1em; text-align: center; vertical-align: top\">5</td>\n",
       "        <td style=\"padding-left: 1em; padding-right: 1em; text-align: center; vertical-align: top\">978824291</td>\n",
       "        <td style=\"padding-left: 1em; padding-right: 1em; text-align: center; vertical-align: top\">Bug's Life, A (1998)</td>\n",
       "        <td style=\"padding-left: 1em; padding-right: 1em; text-align: center; vertical-align: top\">Animation|Children's|Come<br>dy ...</td>\n",
       "    </tr>\n",
       "    <tr>\n",
       "        <td style=\"padding-left: 1em; padding-right: 1em; text-align: center; vertical-align: top\">1</td>\n",
       "        <td style=\"padding-left: 1em; padding-right: 1em; text-align: center; vertical-align: top\">1197</td>\n",
       "        <td style=\"padding-left: 1em; padding-right: 1em; text-align: center; vertical-align: top\">3</td>\n",
       "        <td style=\"padding-left: 1em; padding-right: 1em; text-align: center; vertical-align: top\">978302268</td>\n",
       "        <td style=\"padding-left: 1em; padding-right: 1em; text-align: center; vertical-align: top\">Princess Bride, The<br>(1987) ...</td>\n",
       "        <td style=\"padding-left: 1em; padding-right: 1em; text-align: center; vertical-align: top\">Action|Adventure|Comedy|R<br>omance ...</td>\n",
       "    </tr>\n",
       "    <tr>\n",
       "        <td style=\"padding-left: 1em; padding-right: 1em; text-align: center; vertical-align: top\">1</td>\n",
       "        <td style=\"padding-left: 1em; padding-right: 1em; text-align: center; vertical-align: top\">1287</td>\n",
       "        <td style=\"padding-left: 1em; padding-right: 1em; text-align: center; vertical-align: top\">5</td>\n",
       "        <td style=\"padding-left: 1em; padding-right: 1em; text-align: center; vertical-align: top\">978302039</td>\n",
       "        <td style=\"padding-left: 1em; padding-right: 1em; text-align: center; vertical-align: top\">Ben-Hur (1959)</td>\n",
       "        <td style=\"padding-left: 1em; padding-right: 1em; text-align: center; vertical-align: top\">Action|Adventure|Drama</td>\n",
       "    </tr>\n",
       "    <tr>\n",
       "        <td style=\"padding-left: 1em; padding-right: 1em; text-align: center; vertical-align: top\">1</td>\n",
       "        <td style=\"padding-left: 1em; padding-right: 1em; text-align: center; vertical-align: top\">2804</td>\n",
       "        <td style=\"padding-left: 1em; padding-right: 1em; text-align: center; vertical-align: top\">5</td>\n",
       "        <td style=\"padding-left: 1em; padding-right: 1em; text-align: center; vertical-align: top\">978300719</td>\n",
       "        <td style=\"padding-left: 1em; padding-right: 1em; text-align: center; vertical-align: top\">Christmas Story, A (1983)</td>\n",
       "        <td style=\"padding-left: 1em; padding-right: 1em; text-align: center; vertical-align: top\">Comedy|Drama</td>\n",
       "    </tr>\n",
       "    <tr>\n",
       "        <td style=\"padding-left: 1em; padding-right: 1em; text-align: center; vertical-align: top\">1</td>\n",
       "        <td style=\"padding-left: 1em; padding-right: 1em; text-align: center; vertical-align: top\">594</td>\n",
       "        <td style=\"padding-left: 1em; padding-right: 1em; text-align: center; vertical-align: top\">4</td>\n",
       "        <td style=\"padding-left: 1em; padding-right: 1em; text-align: center; vertical-align: top\">978302268</td>\n",
       "        <td style=\"padding-left: 1em; padding-right: 1em; text-align: center; vertical-align: top\">Snow White and the Seven<br>Dwarfs (1937) ...</td>\n",
       "        <td style=\"padding-left: 1em; padding-right: 1em; text-align: center; vertical-align: top\">Animation|Children's|Musi<br>cal ...</td>\n",
       "    </tr>\n",
       "    <tr>\n",
       "        <td style=\"padding-left: 1em; padding-right: 1em; text-align: center; vertical-align: top\">1</td>\n",
       "        <td style=\"padding-left: 1em; padding-right: 1em; text-align: center; vertical-align: top\">919</td>\n",
       "        <td style=\"padding-left: 1em; padding-right: 1em; text-align: center; vertical-align: top\">4</td>\n",
       "        <td style=\"padding-left: 1em; padding-right: 1em; text-align: center; vertical-align: top\">978301368</td>\n",
       "        <td style=\"padding-left: 1em; padding-right: 1em; text-align: center; vertical-align: top\">Wizard of Oz, The (1939)</td>\n",
       "        <td style=\"padding-left: 1em; padding-right: 1em; text-align: center; vertical-align: top\">Adventure|Children's|Dram<br>a|Musical ...</td>\n",
       "    </tr>\n",
       "</table>\n",
       "[1000209 rows x 6 columns]<br/>Note: Only the head of the SFrame is printed.<br/>You can use print_rows(num_rows=m, num_columns=n) to print more rows and columns.\n",
       "</div>"
      ],
      "text/plain": [
       "Columns:\n",
       "\tuser_id\tint\n",
       "\tmovie_id\tint\n",
       "\trating\tint\n",
       "\ttimestamp\tint\n",
       "\ttitle\tstr\n",
       "\tgenre\tstr\n",
       "\n",
       "Rows: 1000209\n",
       "\n",
       "Data:\n",
       "+---------+----------+--------+-----------+-------------------------------+\n",
       "| user_id | movie_id | rating | timestamp |             title             |\n",
       "+---------+----------+--------+-----------+-------------------------------+\n",
       "|    1    |   1193   |   5    | 978300760 | One Flew Over the Cuckoo's... |\n",
       "|    1    |   661    |   3    | 978302109 | James and the Giant Peach ... |\n",
       "|    1    |   914    |   3    | 978301968 |      My Fair Lady (1964)      |\n",
       "|    1    |   3408   |   4    | 978300275 |     Erin Brockovich (2000)    |\n",
       "|    1    |   2355   |   5    | 978824291 |      Bug's Life, A (1998)     |\n",
       "|    1    |   1197   |   3    | 978302268 |   Princess Bride, The (1987)  |\n",
       "|    1    |   1287   |   5    | 978302039 |         Ben-Hur (1959)        |\n",
       "|    1    |   2804   |   5    | 978300719 |   Christmas Story, A (1983)   |\n",
       "|    1    |   594    |   4    | 978302268 | Snow White and the Seven D... |\n",
       "|    1    |   919    |   4    | 978301368 |    Wizard of Oz, The (1939)   |\n",
       "+---------+----------+--------+-----------+-------------------------------+\n",
       "+-------------------------------+\n",
       "|             genre             |\n",
       "+-------------------------------+\n",
       "|             Drama             |\n",
       "|  Animation|Children's|Musical |\n",
       "|        Musical|Romance        |\n",
       "|             Drama             |\n",
       "|  Animation|Children's|Comedy  |\n",
       "| Action|Adventure|Comedy|Ro... |\n",
       "|     Action|Adventure|Drama    |\n",
       "|          Comedy|Drama         |\n",
       "|  Animation|Children's|Musical |\n",
       "| Adventure|Children's|Drama... |\n",
       "+-------------------------------+\n",
       "[1000209 rows x 6 columns]\n",
       "Note: Only the head of the SFrame is printed.\n",
       "You can use print_rows(num_rows=m, num_columns=n) to print more rows and columns."
      ]
     },
     "execution_count": 63,
     "metadata": {},
     "output_type": "execute_result"
    }
   ],
   "source": [
    "data"
   ]
  },
  {
   "cell_type": "code",
   "execution_count": 64,
   "metadata": {
    "collapsed": true
   },
   "outputs": [],
   "source": [
    "(train_set, test_set) = data.random_split(0.95, seed=1)"
   ]
  },
  {
   "cell_type": "code",
   "execution_count": 65,
   "metadata": {
    "collapsed": false
   },
   "outputs": [
    {
     "data": {
      "text/html": [
       "<pre>Recsys training: model = ranking_factorization_recommender</pre>"
      ],
      "text/plain": [
       "Recsys training: model = ranking_factorization_recommender"
      ]
     },
     "metadata": {},
     "output_type": "display_data"
    },
    {
     "data": {
      "text/html": [
       "<pre>Preparing data set.</pre>"
      ],
      "text/plain": [
       "Preparing data set."
      ]
     },
     "metadata": {},
     "output_type": "display_data"
    },
    {
     "data": {
      "text/html": [
       "<pre>    Data has 949852 observations with 6040 users and 3701 items.</pre>"
      ],
      "text/plain": [
       "    Data has 949852 observations with 6040 users and 3701 items."
      ]
     },
     "metadata": {},
     "output_type": "display_data"
    },
    {
     "data": {
      "text/html": [
       "<pre>    Data prepared in: 2.19181s</pre>"
      ],
      "text/plain": [
       "    Data prepared in: 2.19181s"
      ]
     },
     "metadata": {},
     "output_type": "display_data"
    },
    {
     "data": {
      "text/html": [
       "<pre>Training ranking_factorization_recommender for recommendations.</pre>"
      ],
      "text/plain": [
       "Training ranking_factorization_recommender for recommendations."
      ]
     },
     "metadata": {},
     "output_type": "display_data"
    },
    {
     "data": {
      "text/html": [
       "<pre>+--------------------------------+--------------------------------------------------+----------+</pre>"
      ],
      "text/plain": [
       "+--------------------------------+--------------------------------------------------+----------+"
      ]
     },
     "metadata": {},
     "output_type": "display_data"
    },
    {
     "data": {
      "text/html": [
       "<pre>| Parameter                      | Description                                      | Value    |</pre>"
      ],
      "text/plain": [
       "| Parameter                      | Description                                      | Value    |"
      ]
     },
     "metadata": {},
     "output_type": "display_data"
    },
    {
     "data": {
      "text/html": [
       "<pre>+--------------------------------+--------------------------------------------------+----------+</pre>"
      ],
      "text/plain": [
       "+--------------------------------+--------------------------------------------------+----------+"
      ]
     },
     "metadata": {},
     "output_type": "display_data"
    },
    {
     "data": {
      "text/html": [
       "<pre>| num_factors                    | Factor Dimension                                 | 32       |</pre>"
      ],
      "text/plain": [
       "| num_factors                    | Factor Dimension                                 | 32       |"
      ]
     },
     "metadata": {},
     "output_type": "display_data"
    },
    {
     "data": {
      "text/html": [
       "<pre>| regularization                 | L2 Regularization on Factors                     | 1e-09    |</pre>"
      ],
      "text/plain": [
       "| regularization                 | L2 Regularization on Factors                     | 1e-09    |"
      ]
     },
     "metadata": {},
     "output_type": "display_data"
    },
    {
     "data": {
      "text/html": [
       "<pre>| solver                         | Solver used for training                         | adagrad  |</pre>"
      ],
      "text/plain": [
       "| solver                         | Solver used for training                         | adagrad  |"
      ]
     },
     "metadata": {},
     "output_type": "display_data"
    },
    {
     "data": {
      "text/html": [
       "<pre>| linear_regularization          | L2 Regularization on Linear Coefficients         | 1e-09    |</pre>"
      ],
      "text/plain": [
       "| linear_regularization          | L2 Regularization on Linear Coefficients         | 1e-09    |"
      ]
     },
     "metadata": {},
     "output_type": "display_data"
    },
    {
     "data": {
      "text/html": [
       "<pre>| ranking_regularization         | Rank-based Regularization Weight                 | 0.25     |</pre>"
      ],
      "text/plain": [
       "| ranking_regularization         | Rank-based Regularization Weight                 | 0.25     |"
      ]
     },
     "metadata": {},
     "output_type": "display_data"
    },
    {
     "data": {
      "text/html": [
       "<pre>| max_iterations                 | Maximum Number of Iterations                     | 25       |</pre>"
      ],
      "text/plain": [
       "| max_iterations                 | Maximum Number of Iterations                     | 25       |"
      ]
     },
     "metadata": {},
     "output_type": "display_data"
    },
    {
     "data": {
      "text/html": [
       "<pre>+--------------------------------+--------------------------------------------------+----------+</pre>"
      ],
      "text/plain": [
       "+--------------------------------+--------------------------------------------------+----------+"
      ]
     },
     "metadata": {},
     "output_type": "display_data"
    },
    {
     "data": {
      "text/html": [
       "<pre>  Optimizing model using SGD; tuning step size.</pre>"
      ],
      "text/plain": [
       "  Optimizing model using SGD; tuning step size."
      ]
     },
     "metadata": {},
     "output_type": "display_data"
    },
    {
     "data": {
      "text/html": [
       "<pre>  Using 118731 / 949852 points for tuning the step size.</pre>"
      ],
      "text/plain": [
       "  Using 118731 / 949852 points for tuning the step size."
      ]
     },
     "metadata": {},
     "output_type": "display_data"
    },
    {
     "data": {
      "text/html": [
       "<pre>+---------+-------------------+------------------------------------------+</pre>"
      ],
      "text/plain": [
       "+---------+-------------------+------------------------------------------+"
      ]
     },
     "metadata": {},
     "output_type": "display_data"
    },
    {
     "data": {
      "text/html": [
       "<pre>| Attempt | Initial Step Size | Estimated Objective Value                |</pre>"
      ],
      "text/plain": [
       "| Attempt | Initial Step Size | Estimated Objective Value                |"
      ]
     },
     "metadata": {},
     "output_type": "display_data"
    },
    {
     "data": {
      "text/html": [
       "<pre>+---------+-------------------+------------------------------------------+</pre>"
      ],
      "text/plain": [
       "+---------+-------------------+------------------------------------------+"
      ]
     },
     "metadata": {},
     "output_type": "display_data"
    },
    {
     "data": {
      "text/html": [
       "<pre>| 0       | 10                | Not Viable                               |</pre>"
      ],
      "text/plain": [
       "| 0       | 10                | Not Viable                               |"
      ]
     },
     "metadata": {},
     "output_type": "display_data"
    },
    {
     "data": {
      "text/html": [
       "<pre>| 1       | 2.5               | Not Viable                               |</pre>"
      ],
      "text/plain": [
       "| 1       | 2.5               | Not Viable                               |"
      ]
     },
     "metadata": {},
     "output_type": "display_data"
    },
    {
     "data": {
      "text/html": [
       "<pre>| 2       | 0.625             | Not Viable                               |</pre>"
      ],
      "text/plain": [
       "| 2       | 0.625             | Not Viable                               |"
      ]
     },
     "metadata": {},
     "output_type": "display_data"
    },
    {
     "data": {
      "text/html": [
       "<pre>| 3       | 0.15625           | 0.237405                                 |</pre>"
      ],
      "text/plain": [
       "| 3       | 0.15625           | 0.237405                                 |"
      ]
     },
     "metadata": {},
     "output_type": "display_data"
    },
    {
     "data": {
      "text/html": [
       "<pre>| 4       | 0.078125          | 1.01866                                  |</pre>"
      ],
      "text/plain": [
       "| 4       | 0.078125          | 1.01866                                  |"
      ]
     },
     "metadata": {},
     "output_type": "display_data"
    },
    {
     "data": {
      "text/html": [
       "<pre>+---------+-------------------+------------------------------------------+</pre>"
      ],
      "text/plain": [
       "+---------+-------------------+------------------------------------------+"
      ]
     },
     "metadata": {},
     "output_type": "display_data"
    },
    {
     "data": {
      "text/html": [
       "<pre>| Final   | 0.15625           | 0.237405                                 |</pre>"
      ],
      "text/plain": [
       "| Final   | 0.15625           | 0.237405                                 |"
      ]
     },
     "metadata": {},
     "output_type": "display_data"
    },
    {
     "data": {
      "text/html": [
       "<pre>+---------+-------------------+------------------------------------------+</pre>"
      ],
      "text/plain": [
       "+---------+-------------------+------------------------------------------+"
      ]
     },
     "metadata": {},
     "output_type": "display_data"
    },
    {
     "data": {
      "text/html": [
       "<pre>Starting Optimization.</pre>"
      ],
      "text/plain": [
       "Starting Optimization."
      ]
     },
     "metadata": {},
     "output_type": "display_data"
    },
    {
     "data": {
      "text/html": [
       "<pre>+---------+--------------+-------------------+-----------------------+-------------+</pre>"
      ],
      "text/plain": [
       "+---------+--------------+-------------------+-----------------------+-------------+"
      ]
     },
     "metadata": {},
     "output_type": "display_data"
    },
    {
     "data": {
      "text/html": [
       "<pre>| Iter.   | Elapsed Time | Approx. Objective | Approx. Training RMSE | Step Size   |</pre>"
      ],
      "text/plain": [
       "| Iter.   | Elapsed Time | Approx. Objective | Approx. Training RMSE | Step Size   |"
      ]
     },
     "metadata": {},
     "output_type": "display_data"
    },
    {
     "data": {
      "text/html": [
       "<pre>+---------+--------------+-------------------+-----------------------+-------------+</pre>"
      ],
      "text/plain": [
       "+---------+--------------+-------------------+-----------------------+-------------+"
      ]
     },
     "metadata": {},
     "output_type": "display_data"
    },
    {
     "data": {
      "text/html": [
       "<pre>| Initial | 123us        | 2.44713           | 1.11719               |             |</pre>"
      ],
      "text/plain": [
       "| Initial | 123us        | 2.44713           | 1.11719               |             |"
      ]
     },
     "metadata": {},
     "output_type": "display_data"
    },
    {
     "data": {
      "text/html": [
       "<pre>+---------+--------------+-------------------+-----------------------+-------------+</pre>"
      ],
      "text/plain": [
       "+---------+--------------+-------------------+-----------------------+-------------+"
      ]
     },
     "metadata": {},
     "output_type": "display_data"
    },
    {
     "data": {
      "text/html": [
       "<pre>| 1       | 2.76s        | 1.34362           | 1.08086               | 0.15625     |</pre>"
      ],
      "text/plain": [
       "| 1       | 2.76s        | 1.34362           | 1.08086               | 0.15625     |"
      ]
     },
     "metadata": {},
     "output_type": "display_data"
    },
    {
     "data": {
      "text/html": [
       "<pre>| 2       | 5.27s        | 0.829953          | 0.872308              | 0.15625     |</pre>"
      ],
      "text/plain": [
       "| 2       | 5.27s        | 0.829953          | 0.872308              | 0.15625     |"
      ]
     },
     "metadata": {},
     "output_type": "display_data"
    },
    {
     "data": {
      "text/html": [
       "<pre>| 3       | 7.31s        | 0.69756           | 0.812362              | 0.15625     |</pre>"
      ],
      "text/plain": [
       "| 3       | 7.31s        | 0.69756           | 0.812362              | 0.15625     |"
      ]
     },
     "metadata": {},
     "output_type": "display_data"
    },
    {
     "data": {
      "text/html": [
       "<pre>| 4       | 9.35s        | 0.644801          | 0.785917              | 0.15625     |</pre>"
      ],
      "text/plain": [
       "| 4       | 9.35s        | 0.644801          | 0.785917              | 0.15625     |"
      ]
     },
     "metadata": {},
     "output_type": "display_data"
    },
    {
     "data": {
      "text/html": [
       "<pre>| 5       | 11.23s       | 0.615916          | 0.770737              | 0.15625     |</pre>"
      ],
      "text/plain": [
       "| 5       | 11.23s       | 0.615916          | 0.770737              | 0.15625     |"
      ]
     },
     "metadata": {},
     "output_type": "display_data"
    },
    {
     "data": {
      "text/html": [
       "<pre>| 6       | 13.17s       | 0.596774          | 0.760286              | 0.15625     |</pre>"
      ],
      "text/plain": [
       "| 6       | 13.17s       | 0.596774          | 0.760286              | 0.15625     |"
      ]
     },
     "metadata": {},
     "output_type": "display_data"
    },
    {
     "data": {
      "text/html": [
       "<pre>| 7       | 15.04s       | 0.579551          | 0.750432              | 0.15625     |</pre>"
      ],
      "text/plain": [
       "| 7       | 15.04s       | 0.579551          | 0.750432              | 0.15625     |"
      ]
     },
     "metadata": {},
     "output_type": "display_data"
    },
    {
     "data": {
      "text/html": [
       "<pre>| 8       | 16.91s       | 0.567622          | 0.743565              | 0.15625     |</pre>"
      ],
      "text/plain": [
       "| 8       | 16.91s       | 0.567622          | 0.743565              | 0.15625     |"
      ]
     },
     "metadata": {},
     "output_type": "display_data"
    },
    {
     "data": {
      "text/html": [
       "<pre>| 9       | 18.80s       | 0.557058          | 0.737209              | 0.15625     |</pre>"
      ],
      "text/plain": [
       "| 9       | 18.80s       | 0.557058          | 0.737209              | 0.15625     |"
      ]
     },
     "metadata": {},
     "output_type": "display_data"
    },
    {
     "data": {
      "text/html": [
       "<pre>| 10      | 20.73s       | 0.548745          | 0.732291              | 0.15625     |</pre>"
      ],
      "text/plain": [
       "| 10      | 20.73s       | 0.548745          | 0.732291              | 0.15625     |"
      ]
     },
     "metadata": {},
     "output_type": "display_data"
    },
    {
     "data": {
      "text/html": [
       "<pre>| 11      | 22.81s       | 0.542285          | 0.728375              | 0.15625     |</pre>"
      ],
      "text/plain": [
       "| 11      | 22.81s       | 0.542285          | 0.728375              | 0.15625     |"
      ]
     },
     "metadata": {},
     "output_type": "display_data"
    },
    {
     "data": {
      "text/html": [
       "<pre>| 12      | 25.93s       | 0.535094          | 0.723877              | 0.15625     |</pre>"
      ],
      "text/plain": [
       "| 12      | 25.93s       | 0.535094          | 0.723877              | 0.15625     |"
      ]
     },
     "metadata": {},
     "output_type": "display_data"
    },
    {
     "data": {
      "text/html": [
       "<pre>| 13      | 28.87s       | 0.528376          | 0.719656              | 0.15625     |</pre>"
      ],
      "text/plain": [
       "| 13      | 28.87s       | 0.528376          | 0.719656              | 0.15625     |"
      ]
     },
     "metadata": {},
     "output_type": "display_data"
    },
    {
     "data": {
      "text/html": [
       "<pre>| 14      | 32.05s       | 0.52332           | 0.716499              | 0.15625     |</pre>"
      ],
      "text/plain": [
       "| 14      | 32.05s       | 0.52332           | 0.716499              | 0.15625     |"
      ]
     },
     "metadata": {},
     "output_type": "display_data"
    },
    {
     "data": {
      "text/html": [
       "<pre>| 15      | 34.86s       | 0.519843          | 0.714371              | 0.15625     |</pre>"
      ],
      "text/plain": [
       "| 15      | 34.86s       | 0.519843          | 0.714371              | 0.15625     |"
      ]
     },
     "metadata": {},
     "output_type": "display_data"
    },
    {
     "data": {
      "text/html": [
       "<pre>| 16      | 37.54s       | 0.51626           | 0.712121              | 0.15625     |</pre>"
      ],
      "text/plain": [
       "| 16      | 37.54s       | 0.51626           | 0.712121              | 0.15625     |"
      ]
     },
     "metadata": {},
     "output_type": "display_data"
    },
    {
     "data": {
      "text/html": [
       "<pre>| 17      | 40.57s       | 0.512098          | 0.709455              | 0.15625     |</pre>"
      ],
      "text/plain": [
       "| 17      | 40.57s       | 0.512098          | 0.709455              | 0.15625     |"
      ]
     },
     "metadata": {},
     "output_type": "display_data"
    },
    {
     "data": {
      "text/html": [
       "<pre>| 18      | 43.68s       | 0.508631          | 0.707208              | 0.15625     |</pre>"
      ],
      "text/plain": [
       "| 18      | 43.68s       | 0.508631          | 0.707208              | 0.15625     |"
      ]
     },
     "metadata": {},
     "output_type": "display_data"
    },
    {
     "data": {
      "text/html": [
       "<pre>| 19      | 46.87s       | 0.505603          | 0.705251              | 0.15625     |</pre>"
      ],
      "text/plain": [
       "| 19      | 46.87s       | 0.505603          | 0.705251              | 0.15625     |"
      ]
     },
     "metadata": {},
     "output_type": "display_data"
    },
    {
     "data": {
      "text/html": [
       "<pre>| 20      | 49.96s       | 0.502683          | 0.703291              | 0.15625     |</pre>"
      ],
      "text/plain": [
       "| 20      | 49.96s       | 0.502683          | 0.703291              | 0.15625     |"
      ]
     },
     "metadata": {},
     "output_type": "display_data"
    },
    {
     "data": {
      "text/html": [
       "<pre>| 21      | 52.86s       | 0.500081          | 0.701561              | 0.15625     |</pre>"
      ],
      "text/plain": [
       "| 21      | 52.86s       | 0.500081          | 0.701561              | 0.15625     |"
      ]
     },
     "metadata": {},
     "output_type": "display_data"
    },
    {
     "data": {
      "text/html": [
       "<pre>| 22      | 56.31s       | 0.498165          | 0.700506              | 0.15625     |</pre>"
      ],
      "text/plain": [
       "| 22      | 56.31s       | 0.498165          | 0.700506              | 0.15625     |"
      ]
     },
     "metadata": {},
     "output_type": "display_data"
    },
    {
     "data": {
      "text/html": [
       "<pre>| 23      | 59.30s       | 0.495454          | 0.698638              | 0.15625     |</pre>"
      ],
      "text/plain": [
       "| 23      | 59.30s       | 0.495454          | 0.698638              | 0.15625     |"
      ]
     },
     "metadata": {},
     "output_type": "display_data"
    },
    {
     "data": {
      "text/html": [
       "<pre>| 24      | 1m 2s        | 0.492829          | 0.696889              | 0.15625     |</pre>"
      ],
      "text/plain": [
       "| 24      | 1m 2s        | 0.492829          | 0.696889              | 0.15625     |"
      ]
     },
     "metadata": {},
     "output_type": "display_data"
    },
    {
     "data": {
      "text/html": [
       "<pre>| 25      | 1m 5s        | 0.491503          | 0.696016              | 0.15625     |</pre>"
      ],
      "text/plain": [
       "| 25      | 1m 5s        | 0.491503          | 0.696016              | 0.15625     |"
      ]
     },
     "metadata": {},
     "output_type": "display_data"
    },
    {
     "data": {
      "text/html": [
       "<pre>+---------+--------------+-------------------+-----------------------+-------------+</pre>"
      ],
      "text/plain": [
       "+---------+--------------+-------------------+-----------------------+-------------+"
      ]
     },
     "metadata": {},
     "output_type": "display_data"
    },
    {
     "data": {
      "text/html": [
       "<pre>Optimization Complete: Maximum number of passes through the data reached.</pre>"
      ],
      "text/plain": [
       "Optimization Complete: Maximum number of passes through the data reached."
      ]
     },
     "metadata": {},
     "output_type": "display_data"
    },
    {
     "data": {
      "text/html": [
       "<pre>Computing final objective value and training RMSE.</pre>"
      ],
      "text/plain": [
       "Computing final objective value and training RMSE."
      ]
     },
     "metadata": {},
     "output_type": "display_data"
    },
    {
     "data": {
      "text/html": [
       "<pre>       Final objective value: 0.46392</pre>"
      ],
      "text/plain": [
       "       Final objective value: 0.46392"
      ]
     },
     "metadata": {},
     "output_type": "display_data"
    },
    {
     "data": {
      "text/html": [
       "<pre>       Final training RMSE: 0.675917</pre>"
      ],
      "text/plain": [
       "       Final training RMSE: 0.675917"
      ]
     },
     "metadata": {},
     "output_type": "display_data"
    }
   ],
   "source": [
    "m = graphlab.recommender.create(train_set, 'user_id', 'movie_id', 'rating')#不是基于人或者物，default是基于隐语义网络"
   ]
  },
  {
   "cell_type": "code",
   "execution_count": 66,
   "metadata": {
    "collapsed": true
   },
   "outputs": [],
   "source": [
    "# RMSE:是预测准确度，和用户评分的，均方根误差，所以RMSE这个值越小越好"
   ]
  },
  {
   "cell_type": "code",
   "execution_count": 67,
   "metadata": {
    "collapsed": false
   },
   "outputs": [
    {
     "data": {
      "text/plain": [
       "Class                           : RankingFactorizationRecommender\n",
       "\n",
       "Schema\n",
       "------\n",
       "User ID                         : user_id\n",
       "Item ID                         : movie_id\n",
       "Target                          : rating\n",
       "Additional observation features : 3\n",
       "Number of user side features    : 0\n",
       "Number of item side features    : 0\n",
       "\n",
       "Statistics\n",
       "----------\n",
       "Number of observations          : 949852\n",
       "Number of users                 : 6040\n",
       "Number of items                 : 3701\n",
       "\n",
       "Training summary\n",
       "----------------\n",
       "Training time                   : 73.9068\n",
       "\n",
       "Model Parameters\n",
       "----------------\n",
       "Model class                     : RankingFactorizationRecommender\n",
       "num_factors                     : 32\n",
       "binary_target                   : 0\n",
       "side_data_factorization         : 1\n",
       "solver                          : auto\n",
       "nmf                             : 0\n",
       "max_iterations                  : 25\n",
       "\n",
       "Regularization Settings\n",
       "-----------------------\n",
       "regularization                  : 0.0\n",
       "regularization_type             : normal\n",
       "linear_regularization           : 0.0\n",
       "ranking_regularization          : 0.25\n",
       "unobserved_rating_value         : -1.79769313486e+308\n",
       "num_sampled_negative_examples   : 4\n",
       "ials_confidence_scaling_type    : auto\n",
       "ials_confidence_scaling_factor  : 1\n",
       "\n",
       "Optimization Settings\n",
       "---------------------\n",
       "init_random_sigma               : 0.01\n",
       "sgd_convergence_interval        : 4\n",
       "sgd_convergence_threshold       : 0.0\n",
       "sgd_max_trial_iterations        : 5\n",
       "sgd_sampling_block_size         : 131072\n",
       "sgd_step_adjustment_interval    : 4\n",
       "sgd_step_size                   : 0.0\n",
       "sgd_trial_sample_minimum_size   : 10000\n",
       "sgd_trial_sample_proportion     : 0.125\n",
       "step_size_decrease_rate         : 0.75\n",
       "additional_iterations_if_unhealthy: 5\n",
       "adagrad_momentum_weighting      : 0.9\n",
       "num_tempering_iterations        : 4\n",
       "tempering_regularization_start_value: 0.0\n",
       "track_exact_loss                : 0"
      ]
     },
     "execution_count": 67,
     "metadata": {},
     "output_type": "execute_result"
    }
   ],
   "source": [
    "m"
   ]
  },
  {
   "cell_type": "code",
   "execution_count": 68,
   "metadata": {
    "collapsed": false
   },
   "outputs": [
    {
     "data": {
      "text/html": [
       "<pre>Recsys training: model = item_similarity</pre>"
      ],
      "text/plain": [
       "Recsys training: model = item_similarity"
      ]
     },
     "metadata": {},
     "output_type": "display_data"
    },
    {
     "data": {
      "text/html": [
       "<pre>Warning: Ignoring columns timestamp, title, genre;</pre>"
      ],
      "text/plain": [
       "Warning: Ignoring columns timestamp, title, genre;"
      ]
     },
     "metadata": {},
     "output_type": "display_data"
    },
    {
     "data": {
      "text/html": [
       "<pre>    To use these columns in scoring predictions, use a model that allows the use of additional features.</pre>"
      ],
      "text/plain": [
       "    To use these columns in scoring predictions, use a model that allows the use of additional features."
      ]
     },
     "metadata": {},
     "output_type": "display_data"
    },
    {
     "data": {
      "text/html": [
       "<pre>Preparing data set.</pre>"
      ],
      "text/plain": [
       "Preparing data set."
      ]
     },
     "metadata": {},
     "output_type": "display_data"
    },
    {
     "data": {
      "text/html": [
       "<pre>    Data has 949852 observations with 6040 users and 3701 items.</pre>"
      ],
      "text/plain": [
       "    Data has 949852 observations with 6040 users and 3701 items."
      ]
     },
     "metadata": {},
     "output_type": "display_data"
    },
    {
     "data": {
      "text/html": [
       "<pre>    Data prepared in: 1.04435s</pre>"
      ],
      "text/plain": [
       "    Data prepared in: 1.04435s"
      ]
     },
     "metadata": {},
     "output_type": "display_data"
    },
    {
     "data": {
      "text/html": [
       "<pre>Computing item similarity statistics:</pre>"
      ],
      "text/plain": [
       "Computing item similarity statistics:"
      ]
     },
     "metadata": {},
     "output_type": "display_data"
    },
    {
     "data": {
      "text/html": [
       "<pre>Computing most similar items for 3701 items:</pre>"
      ],
      "text/plain": [
       "Computing most similar items for 3701 items:"
      ]
     },
     "metadata": {},
     "output_type": "display_data"
    },
    {
     "data": {
      "text/html": [
       "<pre>+-----------------+-----------------+</pre>"
      ],
      "text/plain": [
       "+-----------------+-----------------+"
      ]
     },
     "metadata": {},
     "output_type": "display_data"
    },
    {
     "data": {
      "text/html": [
       "<pre>| Number of items | Elapsed Time    |</pre>"
      ],
      "text/plain": [
       "| Number of items | Elapsed Time    |"
      ]
     },
     "metadata": {},
     "output_type": "display_data"
    },
    {
     "data": {
      "text/html": [
       "<pre>+-----------------+-----------------+</pre>"
      ],
      "text/plain": [
       "+-----------------+-----------------+"
      ]
     },
     "metadata": {},
     "output_type": "display_data"
    },
    {
     "data": {
      "text/html": [
       "<pre>| 1000            | 1.8234          |</pre>"
      ],
      "text/plain": [
       "| 1000            | 1.8234          |"
      ]
     },
     "metadata": {},
     "output_type": "display_data"
    },
    {
     "data": {
      "text/html": [
       "<pre>| 2000            | 1.91873         |</pre>"
      ],
      "text/plain": [
       "| 2000            | 1.91873         |"
      ]
     },
     "metadata": {},
     "output_type": "display_data"
    },
    {
     "data": {
      "text/html": [
       "<pre>| 3000            | 2.01548         |</pre>"
      ],
      "text/plain": [
       "| 3000            | 2.01548         |"
      ]
     },
     "metadata": {},
     "output_type": "display_data"
    },
    {
     "data": {
      "text/html": [
       "<pre>+-----------------+-----------------+</pre>"
      ],
      "text/plain": [
       "+-----------------+-----------------+"
      ]
     },
     "metadata": {},
     "output_type": "display_data"
    },
    {
     "data": {
      "text/html": [
       "<pre>Finished training in 2.35203s</pre>"
      ],
      "text/plain": [
       "Finished training in 2.35203s"
      ]
     },
     "metadata": {},
     "output_type": "display_data"
    },
    {
     "data": {
      "text/html": [
       "<pre>Finished prediction in 1.6442s</pre>"
      ],
      "text/plain": [
       "Finished prediction in 1.6442s"
      ]
     },
     "metadata": {},
     "output_type": "display_data"
    }
   ],
   "source": [
    "m2 = graphlab.item_similarity_recommender.create(train_set, 'user_id', 'movie_id', 'rating',\n",
    "                                 similarity_type='pearson')\n",
    "#m2 是基于物品相似度，的推荐；m是基于graphlab默认的隐语义网络推荐"
   ]
  },
  {
   "cell_type": "code",
   "execution_count": 71,
   "metadata": {
    "collapsed": false
   },
   "outputs": [
    {
     "data": {
      "text/plain": [
       "Class                           : ItemSimilarityRecommender\n",
       "\n",
       "Schema\n",
       "------\n",
       "User ID                         : user_id\n",
       "Item ID                         : movie_id\n",
       "Target                          : rating\n",
       "Additional observation features : 0\n",
       "Number of user side features    : 0\n",
       "Number of item side features    : 0\n",
       "\n",
       "Statistics\n",
       "----------\n",
       "Number of observations          : 949852\n",
       "Number of users                 : 6040\n",
       "Number of items                 : 3701\n",
       "\n",
       "Training summary\n",
       "----------------\n",
       "Training time                   : 2.3529\n",
       "\n",
       "Model Parameters\n",
       "----------------\n",
       "Model class                     : ItemSimilarityRecommender\n",
       "only_top_k                      : 100\n",
       "threshold                       : 0.001\n",
       "similarity_type                 : pearson\n",
       "training_method                 : auto"
      ]
     },
     "execution_count": 71,
     "metadata": {},
     "output_type": "execute_result"
    }
   ],
   "source": [
    "m2"
   ]
  },
  {
   "cell_type": "code",
   "execution_count": 73,
   "metadata": {
    "collapsed": false
   },
   "outputs": [
    {
     "name": "stdout",
     "output_type": "stream",
     "text": [
      "compare_models: using 562 users to estimate model performance\n",
      "PROGRESS: Evaluate model M0\n",
      "\n",
      "Precision and recall summary statistics by cutoff\n",
      "+--------+-----------------+------------------+\n",
      "| cutoff |  mean_precision |   mean_recall    |\n",
      "+--------+-----------------+------------------+\n",
      "|   1    | 0.0782918149466 | 0.00575729157217 |\n",
      "|   2    | 0.0720640569395 | 0.0105311093398  |\n",
      "|   3    | 0.0699881376038 | 0.0179170036041  |\n",
      "|   4    | 0.0693950177936 | 0.0251115765608  |\n",
      "|   5    | 0.0672597864769 | 0.0296188242818  |\n",
      "|   6    | 0.0649466192171 | 0.0338761264731  |\n",
      "|   7    | 0.0645653279105 |  0.041352072745  |\n",
      "|   8    | 0.0609430604982 | 0.0437792398918  |\n",
      "|   9    | 0.0581257413998 | 0.0480299929916  |\n",
      "|   10   | 0.0564056939502 | 0.0518792269248  |\n",
      "+--------+-----------------+------------------+\n",
      "[10 rows x 3 columns]\n",
      "\n",
      "('\\nOverall RMSE: ', 0.9410350524913681)\n",
      "\n",
      "Per User RMSE (best)\n",
      "+---------+-------+-----------------+\n",
      "| user_id | count |       rmse      |\n",
      "+---------+-------+-----------------+\n",
      "|   2483  |   1   | 0.0439226333868 |\n",
      "+---------+-------+-----------------+\n",
      "[1 rows x 3 columns]\n",
      "\n",
      "\n",
      "Per User RMSE (worst)\n",
      "+---------+-------+---------------+\n",
      "| user_id | count |      rmse     |\n",
      "+---------+-------+---------------+\n",
      "|   200   |   1   | 4.08956106015 |\n",
      "+---------+-------+---------------+\n",
      "[1 rows x 3 columns]\n",
      "\n",
      "\n",
      "Per Item RMSE (best)\n",
      "+----------+-------+------------------+\n",
      "| movie_id | count |       rmse       |\n",
      "+----------+-------+------------------+\n",
      "|   1633   |   1   | 0.00199578814509 |\n",
      "+----------+-------+------------------+\n",
      "[1 rows x 3 columns]\n",
      "\n",
      "\n",
      "Per Item RMSE (worst)\n",
      "+----------+-------+---------------+\n",
      "| movie_id | count |      rmse     |\n",
      "+----------+-------+---------------+\n",
      "|   1842   |   1   | 7.80551480517 |\n",
      "+----------+-------+---------------+\n",
      "[1 rows x 3 columns]\n",
      "\n",
      "PROGRESS: Evaluate model M1\n",
      "\n",
      "Precision and recall summary statistics by cutoff\n",
      "+--------+------------------+------------------+\n",
      "| cutoff |  mean_precision  |   mean_recall    |\n",
      "+--------+------------------+------------------+\n",
      "|   1    | 0.00533807829181 | 0.00100830367734 |\n",
      "|   2    | 0.00355871886121 | 0.00130486358244 |\n",
      "|   3    | 0.00237247924081 | 0.00130486358244 |\n",
      "|   4    | 0.00222419928826 | 0.00166073546856 |\n",
      "|   5    | 0.0017793594306  | 0.00166073546856 |\n",
      "|   6    | 0.0017793594306  | 0.00188315539739 |\n",
      "|   7    | 0.00152516522623 | 0.00188315539739 |\n",
      "|   8    | 0.0017793594306  | 0.00198384783028 |\n",
      "|   9    | 0.0015816528272  | 0.00198384783028 |\n",
      "|   10   | 0.00195729537367 | 0.00234572152401 |\n",
      "+--------+------------------+------------------+\n",
      "[10 rows x 3 columns]\n",
      "\n"
     ]
    },
    {
     "data": {
      "text/html": [
       "<pre>Finished prediction in 0.125123s</pre>"
      ],
      "text/plain": [
       "Finished prediction in 0.125123s"
      ]
     },
     "metadata": {},
     "output_type": "display_data"
    },
    {
     "name": "stdout",
     "output_type": "stream",
     "text": [
      "('\\nOverall RMSE: ', 0.8434476804449265)\n",
      "\n",
      "Per User RMSE (best)\n",
      "+---------+-------+-------------------+\n",
      "| user_id | count |        rmse       |\n",
      "+---------+-------+-------------------+\n",
      "|   758   |   1   | 0.000898736484485 |\n",
      "+---------+-------+-------------------+\n",
      "[1 rows x 3 columns]\n",
      "\n",
      "\n",
      "Per User RMSE (worst)\n",
      "+---------+-------+---------------+\n",
      "| user_id | count |      rmse     |\n",
      "+---------+-------+---------------+\n",
      "|   200   |   1   | 3.72375859435 |\n",
      "+---------+-------+---------------+\n",
      "[1 rows x 3 columns]\n",
      "\n",
      "\n",
      "Per Item RMSE (best)\n",
      "+----------+-------+------+\n",
      "| movie_id | count | rmse |\n",
      "+----------+-------+------+\n",
      "|   1842   |   1   | 0.0  |\n",
      "+----------+-------+------+\n",
      "[1 rows x 3 columns]\n",
      "\n",
      "\n",
      "Per Item RMSE (worst)\n",
      "+----------+-------+---------------+\n",
      "| movie_id | count |      rmse     |\n",
      "+----------+-------+---------------+\n",
      "|   3051   |   1   | 3.72375859435 |\n",
      "+----------+-------+---------------+\n",
      "[1 rows x 3 columns]\n",
      "\n"
     ]
    }
   ],
   "source": [
    "result = graphlab.recommender.util.compare_models(test_set, [m, m2],\n",
    "                                            user_sample=.1, skip_set=train_set)"
   ]
  },
  {
   "cell_type": "markdown",
   "metadata": {},
   "source": [
    "# getting similar items"
   ]
  },
  {
   "cell_type": "code",
   "execution_count": 74,
   "metadata": {
    "collapsed": false
   },
   "outputs": [
    {
     "data": {
      "text/html": [
       "<pre>Getting similar items completed in 0.00143</pre>"
      ],
      "text/plain": [
       "Getting similar items completed in 0.00143"
      ]
     },
     "metadata": {},
     "output_type": "display_data"
    },
    {
     "data": {
      "text/html": [
       "<div style=\"max-height:1000px;max-width:1500px;overflow:auto;\"><table frame=\"box\" rules=\"cols\">\n",
       "    <tr>\n",
       "        <th style=\"padding-left: 1em; padding-right: 1em; text-align: center\">movie_id</th>\n",
       "        <th style=\"padding-left: 1em; padding-right: 1em; text-align: center\">similar</th>\n",
       "        <th style=\"padding-left: 1em; padding-right: 1em; text-align: center\">score</th>\n",
       "        <th style=\"padding-left: 1em; padding-right: 1em; text-align: center\">rank</th>\n",
       "    </tr>\n",
       "    <tr>\n",
       "        <td style=\"padding-left: 1em; padding-right: 1em; text-align: center; vertical-align: top\">1287</td>\n",
       "        <td style=\"padding-left: 1em; padding-right: 1em; text-align: center; vertical-align: top\">953</td>\n",
       "        <td style=\"padding-left: 1em; padding-right: 1em; text-align: center; vertical-align: top\">0.550211429596</td>\n",
       "        <td style=\"padding-left: 1em; padding-right: 1em; text-align: center; vertical-align: top\">1</td>\n",
       "    </tr>\n",
       "    <tr>\n",
       "        <td style=\"padding-left: 1em; padding-right: 1em; text-align: center; vertical-align: top\">1287</td>\n",
       "        <td style=\"padding-left: 1em; padding-right: 1em; text-align: center; vertical-align: top\">110</td>\n",
       "        <td style=\"padding-left: 1em; padding-right: 1em; text-align: center; vertical-align: top\">0.526422798634</td>\n",
       "        <td style=\"padding-left: 1em; padding-right: 1em; text-align: center; vertical-align: top\">2</td>\n",
       "    </tr>\n",
       "    <tr>\n",
       "        <td style=\"padding-left: 1em; padding-right: 1em; text-align: center; vertical-align: top\">1287</td>\n",
       "        <td style=\"padding-left: 1em; padding-right: 1em; text-align: center; vertical-align: top\">1304</td>\n",
       "        <td style=\"padding-left: 1em; padding-right: 1em; text-align: center; vertical-align: top\">0.517914295197</td>\n",
       "        <td style=\"padding-left: 1em; padding-right: 1em; text-align: center; vertical-align: top\">3</td>\n",
       "    </tr>\n",
       "    <tr>\n",
       "        <td style=\"padding-left: 1em; padding-right: 1em; text-align: center; vertical-align: top\">1287</td>\n",
       "        <td style=\"padding-left: 1em; padding-right: 1em; text-align: center; vertical-align: top\">3876</td>\n",
       "        <td style=\"padding-left: 1em; padding-right: 1em; text-align: center; vertical-align: top\">0.507396161556</td>\n",
       "        <td style=\"padding-left: 1em; padding-right: 1em; text-align: center; vertical-align: top\">4</td>\n",
       "    </tr>\n",
       "    <tr>\n",
       "        <td style=\"padding-left: 1em; padding-right: 1em; text-align: center; vertical-align: top\">1287</td>\n",
       "        <td style=\"padding-left: 1em; padding-right: 1em; text-align: center; vertical-align: top\">2948</td>\n",
       "        <td style=\"padding-left: 1em; padding-right: 1em; text-align: center; vertical-align: top\">0.499240607023</td>\n",
       "        <td style=\"padding-left: 1em; padding-right: 1em; text-align: center; vertical-align: top\">5</td>\n",
       "    </tr>\n",
       "    <tr>\n",
       "        <td style=\"padding-left: 1em; padding-right: 1em; text-align: center; vertical-align: top\">1287</td>\n",
       "        <td style=\"padding-left: 1em; padding-right: 1em; text-align: center; vertical-align: top\">2655</td>\n",
       "        <td style=\"padding-left: 1em; padding-right: 1em; text-align: center; vertical-align: top\">0.489075362682</td>\n",
       "        <td style=\"padding-left: 1em; padding-right: 1em; text-align: center; vertical-align: top\">6</td>\n",
       "    </tr>\n",
       "    <tr>\n",
       "        <td style=\"padding-left: 1em; padding-right: 1em; text-align: center; vertical-align: top\">1287</td>\n",
       "        <td style=\"padding-left: 1em; padding-right: 1em; text-align: center; vertical-align: top\">3585</td>\n",
       "        <td style=\"padding-left: 1em; padding-right: 1em; text-align: center; vertical-align: top\">0.487730115652</td>\n",
       "        <td style=\"padding-left: 1em; padding-right: 1em; text-align: center; vertical-align: top\">7</td>\n",
       "    </tr>\n",
       "    <tr>\n",
       "        <td style=\"padding-left: 1em; padding-right: 1em; text-align: center; vertical-align: top\">1287</td>\n",
       "        <td style=\"padding-left: 1em; padding-right: 1em; text-align: center; vertical-align: top\">3639</td>\n",
       "        <td style=\"padding-left: 1em; padding-right: 1em; text-align: center; vertical-align: top\">0.466367900372</td>\n",
       "        <td style=\"padding-left: 1em; padding-right: 1em; text-align: center; vertical-align: top\">8</td>\n",
       "    </tr>\n",
       "    <tr>\n",
       "        <td style=\"padding-left: 1em; padding-right: 1em; text-align: center; vertical-align: top\">1287</td>\n",
       "        <td style=\"padding-left: 1em; padding-right: 1em; text-align: center; vertical-align: top\">2947</td>\n",
       "        <td style=\"padding-left: 1em; padding-right: 1em; text-align: center; vertical-align: top\">0.457333534956</td>\n",
       "        <td style=\"padding-left: 1em; padding-right: 1em; text-align: center; vertical-align: top\">9</td>\n",
       "    </tr>\n",
       "    <tr>\n",
       "        <td style=\"padding-left: 1em; padding-right: 1em; text-align: center; vertical-align: top\">1287</td>\n",
       "        <td style=\"padding-left: 1em; padding-right: 1em; text-align: center; vertical-align: top\">943</td>\n",
       "        <td style=\"padding-left: 1em; padding-right: 1em; text-align: center; vertical-align: top\">0.451839417219</td>\n",
       "        <td style=\"padding-left: 1em; padding-right: 1em; text-align: center; vertical-align: top\">10</td>\n",
       "    </tr>\n",
       "</table>\n",
       "[10 rows x 4 columns]<br/>\n",
       "</div>"
      ],
      "text/plain": [
       "Columns:\n",
       "\tmovie_id\tint\n",
       "\tsimilar\tint\n",
       "\tscore\tfloat\n",
       "\trank\tint\n",
       "\n",
       "Rows: 10\n",
       "\n",
       "Data:\n",
       "+----------+---------+----------------+------+\n",
       "| movie_id | similar |     score      | rank |\n",
       "+----------+---------+----------------+------+\n",
       "|   1287   |   953   | 0.550211429596 |  1   |\n",
       "|   1287   |   110   | 0.526422798634 |  2   |\n",
       "|   1287   |   1304  | 0.517914295197 |  3   |\n",
       "|   1287   |   3876  | 0.507396161556 |  4   |\n",
       "|   1287   |   2948  | 0.499240607023 |  5   |\n",
       "|   1287   |   2655  | 0.489075362682 |  6   |\n",
       "|   1287   |   3585  | 0.487730115652 |  7   |\n",
       "|   1287   |   3639  | 0.466367900372 |  8   |\n",
       "|   1287   |   2947  | 0.457333534956 |  9   |\n",
       "|   1287   |   943   | 0.451839417219 |  10  |\n",
       "+----------+---------+----------------+------+\n",
       "[10 rows x 4 columns]"
      ]
     },
     "execution_count": 74,
     "metadata": {},
     "output_type": "execute_result"
    }
   ],
   "source": [
    "m.get_similar_items([1287])  # movie_id is Ben-Hur"
   ]
  },
  {
   "cell_type": "code",
   "execution_count": 75,
   "metadata": {
    "collapsed": false
   },
   "outputs": [
    {
     "data": {
      "text/html": [
       "<pre>Getting similar items completed in 0.000963</pre>"
      ],
      "text/plain": [
       "Getting similar items completed in 0.000963"
      ]
     },
     "metadata": {},
     "output_type": "display_data"
    },
    {
     "data": {
      "text/html": [
       "<div style=\"max-height:1000px;max-width:1500px;overflow:auto;\"><table frame=\"box\" rules=\"cols\">\n",
       "    <tr>\n",
       "        <th style=\"padding-left: 1em; padding-right: 1em; text-align: center\">movie_id</th>\n",
       "        <th style=\"padding-left: 1em; padding-right: 1em; text-align: center\">similar</th>\n",
       "        <th style=\"padding-left: 1em; padding-right: 1em; text-align: center\">score</th>\n",
       "        <th style=\"padding-left: 1em; padding-right: 1em; text-align: center\">rank</th>\n",
       "        <th style=\"padding-left: 1em; padding-right: 1em; text-align: center\">title</th>\n",
       "        <th style=\"padding-left: 1em; padding-right: 1em; text-align: center\">genre</th>\n",
       "    </tr>\n",
       "    <tr>\n",
       "        <td style=\"padding-left: 1em; padding-right: 1em; text-align: center; vertical-align: top\">1287</td>\n",
       "        <td style=\"padding-left: 1em; padding-right: 1em; text-align: center; vertical-align: top\">953</td>\n",
       "        <td style=\"padding-left: 1em; padding-right: 1em; text-align: center; vertical-align: top\">0.550211429596</td>\n",
       "        <td style=\"padding-left: 1em; padding-right: 1em; text-align: center; vertical-align: top\">1</td>\n",
       "        <td style=\"padding-left: 1em; padding-right: 1em; text-align: center; vertical-align: top\">It's a Wonderful Life<br>(1946) ...</td>\n",
       "        <td style=\"padding-left: 1em; padding-right: 1em; text-align: center; vertical-align: top\">Drama</td>\n",
       "    </tr>\n",
       "    <tr>\n",
       "        <td style=\"padding-left: 1em; padding-right: 1em; text-align: center; vertical-align: top\">1287</td>\n",
       "        <td style=\"padding-left: 1em; padding-right: 1em; text-align: center; vertical-align: top\">110</td>\n",
       "        <td style=\"padding-left: 1em; padding-right: 1em; text-align: center; vertical-align: top\">0.526422798634</td>\n",
       "        <td style=\"padding-left: 1em; padding-right: 1em; text-align: center; vertical-align: top\">2</td>\n",
       "        <td style=\"padding-left: 1em; padding-right: 1em; text-align: center; vertical-align: top\">Braveheart (1995)</td>\n",
       "        <td style=\"padding-left: 1em; padding-right: 1em; text-align: center; vertical-align: top\">Action|Drama|War</td>\n",
       "    </tr>\n",
       "    <tr>\n",
       "        <td style=\"padding-left: 1em; padding-right: 1em; text-align: center; vertical-align: top\">1287</td>\n",
       "        <td style=\"padding-left: 1em; padding-right: 1em; text-align: center; vertical-align: top\">1304</td>\n",
       "        <td style=\"padding-left: 1em; padding-right: 1em; text-align: center; vertical-align: top\">0.517914295197</td>\n",
       "        <td style=\"padding-left: 1em; padding-right: 1em; text-align: center; vertical-align: top\">3</td>\n",
       "        <td style=\"padding-left: 1em; padding-right: 1em; text-align: center; vertical-align: top\">Butch Cassidy and the<br>Sundance Kid (1969) ...</td>\n",
       "        <td style=\"padding-left: 1em; padding-right: 1em; text-align: center; vertical-align: top\">Action|Comedy|Western</td>\n",
       "    </tr>\n",
       "    <tr>\n",
       "        <td style=\"padding-left: 1em; padding-right: 1em; text-align: center; vertical-align: top\">1287</td>\n",
       "        <td style=\"padding-left: 1em; padding-right: 1em; text-align: center; vertical-align: top\">3876</td>\n",
       "        <td style=\"padding-left: 1em; padding-right: 1em; text-align: center; vertical-align: top\">0.507396161556</td>\n",
       "        <td style=\"padding-left: 1em; padding-right: 1em; text-align: center; vertical-align: top\">4</td>\n",
       "        <td style=\"padding-left: 1em; padding-right: 1em; text-align: center; vertical-align: top\">Jerry &amp; Tom (1998)</td>\n",
       "        <td style=\"padding-left: 1em; padding-right: 1em; text-align: center; vertical-align: top\">Drama</td>\n",
       "    </tr>\n",
       "    <tr>\n",
       "        <td style=\"padding-left: 1em; padding-right: 1em; text-align: center; vertical-align: top\">1287</td>\n",
       "        <td style=\"padding-left: 1em; padding-right: 1em; text-align: center; vertical-align: top\">2948</td>\n",
       "        <td style=\"padding-left: 1em; padding-right: 1em; text-align: center; vertical-align: top\">0.499240607023</td>\n",
       "        <td style=\"padding-left: 1em; padding-right: 1em; text-align: center; vertical-align: top\">5</td>\n",
       "        <td style=\"padding-left: 1em; padding-right: 1em; text-align: center; vertical-align: top\">From Russia with Love<br>(1963) ...</td>\n",
       "        <td style=\"padding-left: 1em; padding-right: 1em; text-align: center; vertical-align: top\">Action</td>\n",
       "    </tr>\n",
       "    <tr>\n",
       "        <td style=\"padding-left: 1em; padding-right: 1em; text-align: center; vertical-align: top\">1287</td>\n",
       "        <td style=\"padding-left: 1em; padding-right: 1em; text-align: center; vertical-align: top\">2655</td>\n",
       "        <td style=\"padding-left: 1em; padding-right: 1em; text-align: center; vertical-align: top\">0.489075362682</td>\n",
       "        <td style=\"padding-left: 1em; padding-right: 1em; text-align: center; vertical-align: top\">6</td>\n",
       "        <td style=\"padding-left: 1em; padding-right: 1em; text-align: center; vertical-align: top\">Howling II: Your Sister<br>Is a Werewolf (1985) ...</td>\n",
       "        <td style=\"padding-left: 1em; padding-right: 1em; text-align: center; vertical-align: top\">Horror</td>\n",
       "    </tr>\n",
       "    <tr>\n",
       "        <td style=\"padding-left: 1em; padding-right: 1em; text-align: center; vertical-align: top\">1287</td>\n",
       "        <td style=\"padding-left: 1em; padding-right: 1em; text-align: center; vertical-align: top\">3585</td>\n",
       "        <td style=\"padding-left: 1em; padding-right: 1em; text-align: center; vertical-align: top\">0.487730115652</td>\n",
       "        <td style=\"padding-left: 1em; padding-right: 1em; text-align: center; vertical-align: top\">7</td>\n",
       "        <td style=\"padding-left: 1em; padding-right: 1em; text-align: center; vertical-align: top\">Great Locomotive Chase,<br>The (1956) ...</td>\n",
       "        <td style=\"padding-left: 1em; padding-right: 1em; text-align: center; vertical-align: top\">Adventure|War</td>\n",
       "    </tr>\n",
       "    <tr>\n",
       "        <td style=\"padding-left: 1em; padding-right: 1em; text-align: center; vertical-align: top\">1287</td>\n",
       "        <td style=\"padding-left: 1em; padding-right: 1em; text-align: center; vertical-align: top\">3639</td>\n",
       "        <td style=\"padding-left: 1em; padding-right: 1em; text-align: center; vertical-align: top\">0.466367900372</td>\n",
       "        <td style=\"padding-left: 1em; padding-right: 1em; text-align: center; vertical-align: top\">8</td>\n",
       "        <td style=\"padding-left: 1em; padding-right: 1em; text-align: center; vertical-align: top\">Man with the Golden Gun,<br>The (1974) ...</td>\n",
       "        <td style=\"padding-left: 1em; padding-right: 1em; text-align: center; vertical-align: top\">Action</td>\n",
       "    </tr>\n",
       "    <tr>\n",
       "        <td style=\"padding-left: 1em; padding-right: 1em; text-align: center; vertical-align: top\">1287</td>\n",
       "        <td style=\"padding-left: 1em; padding-right: 1em; text-align: center; vertical-align: top\">2947</td>\n",
       "        <td style=\"padding-left: 1em; padding-right: 1em; text-align: center; vertical-align: top\">0.457333534956</td>\n",
       "        <td style=\"padding-left: 1em; padding-right: 1em; text-align: center; vertical-align: top\">9</td>\n",
       "        <td style=\"padding-left: 1em; padding-right: 1em; text-align: center; vertical-align: top\">Goldfinger (1964)</td>\n",
       "        <td style=\"padding-left: 1em; padding-right: 1em; text-align: center; vertical-align: top\">Action</td>\n",
       "    </tr>\n",
       "    <tr>\n",
       "        <td style=\"padding-left: 1em; padding-right: 1em; text-align: center; vertical-align: top\">1287</td>\n",
       "        <td style=\"padding-left: 1em; padding-right: 1em; text-align: center; vertical-align: top\">943</td>\n",
       "        <td style=\"padding-left: 1em; padding-right: 1em; text-align: center; vertical-align: top\">0.451839417219</td>\n",
       "        <td style=\"padding-left: 1em; padding-right: 1em; text-align: center; vertical-align: top\">10</td>\n",
       "        <td style=\"padding-left: 1em; padding-right: 1em; text-align: center; vertical-align: top\">Ghost and Mrs. Muir, The<br>(1947) ...</td>\n",
       "        <td style=\"padding-left: 1em; padding-right: 1em; text-align: center; vertical-align: top\">Drama|Romance</td>\n",
       "    </tr>\n",
       "</table>\n",
       "[10 rows x 6 columns]<br/>\n",
       "</div>"
      ],
      "text/plain": [
       "Columns:\n",
       "\tmovie_id\tint\n",
       "\tsimilar\tint\n",
       "\tscore\tfloat\n",
       "\trank\tint\n",
       "\ttitle\tstr\n",
       "\tgenre\tstr\n",
       "\n",
       "Rows: 10\n",
       "\n",
       "Data:\n",
       "+----------+---------+----------------+------+-------------------------------+\n",
       "| movie_id | similar |     score      | rank |             title             |\n",
       "+----------+---------+----------------+------+-------------------------------+\n",
       "|   1287   |   953   | 0.550211429596 |  1   |  It's a Wonderful Life (1946) |\n",
       "|   1287   |   110   | 0.526422798634 |  2   |       Braveheart (1995)       |\n",
       "|   1287   |   1304  | 0.517914295197 |  3   | Butch Cassidy and the Sund... |\n",
       "|   1287   |   3876  | 0.507396161556 |  4   |       Jerry & Tom (1998)      |\n",
       "|   1287   |   2948  | 0.499240607023 |  5   |  From Russia with Love (1963) |\n",
       "|   1287   |   2655  | 0.489075362682 |  6   | Howling II: Your Sister Is... |\n",
       "|   1287   |   3585  | 0.487730115652 |  7   | Great Locomotive Chase, Th... |\n",
       "|   1287   |   3639  | 0.466367900372 |  8   | Man with the Golden Gun, T... |\n",
       "|   1287   |   2947  | 0.457333534956 |  9   |       Goldfinger (1964)       |\n",
       "|   1287   |   943   | 0.451839417219 |  10  | Ghost and Mrs. Muir, The (... |\n",
       "+----------+---------+----------------+------+-------------------------------+\n",
       "+-----------------------+\n",
       "|         genre         |\n",
       "+-----------------------+\n",
       "|         Drama         |\n",
       "|    Action|Drama|War   |\n",
       "| Action|Comedy|Western |\n",
       "|         Drama         |\n",
       "|         Action        |\n",
       "|         Horror        |\n",
       "|     Adventure|War     |\n",
       "|         Action        |\n",
       "|         Action        |\n",
       "|     Drama|Romance     |\n",
       "+-----------------------+\n",
       "[10 rows x 6 columns]"
      ]
     },
     "execution_count": 75,
     "metadata": {},
     "output_type": "execute_result"
    }
   ],
   "source": [
    "m.get_similar_items([1287]).join(items, on={'similar': 'movie_id'}).sort('rank')"
   ]
  },
  {
   "cell_type": "markdown",
   "metadata": {},
   "source": [
    "## making recommendations"
   ]
  },
  {
   "cell_type": "code",
   "execution_count": 76,
   "metadata": {
    "collapsed": false
   },
   "outputs": [
    {
     "data": {
      "text/html": [
       "<pre>recommendations finished on 1000/6040 queries. users per second: 3038.31</pre>"
      ],
      "text/plain": [
       "recommendations finished on 1000/6040 queries. users per second: 3038.31"
      ]
     },
     "metadata": {},
     "output_type": "display_data"
    },
    {
     "data": {
      "text/html": [
       "<pre>recommendations finished on 2000/6040 queries. users per second: 3547.94</pre>"
      ],
      "text/plain": [
       "recommendations finished on 2000/6040 queries. users per second: 3547.94"
      ]
     },
     "metadata": {},
     "output_type": "display_data"
    },
    {
     "data": {
      "text/html": [
       "<pre>recommendations finished on 3000/6040 queries. users per second: 3629.74</pre>"
      ],
      "text/plain": [
       "recommendations finished on 3000/6040 queries. users per second: 3629.74"
      ]
     },
     "metadata": {},
     "output_type": "display_data"
    },
    {
     "data": {
      "text/html": [
       "<pre>recommendations finished on 4000/6040 queries. users per second: 3703.37</pre>"
      ],
      "text/plain": [
       "recommendations finished on 4000/6040 queries. users per second: 3703.37"
      ]
     },
     "metadata": {},
     "output_type": "display_data"
    },
    {
     "data": {
      "text/html": [
       "<pre>recommendations finished on 5000/6040 queries. users per second: 3736.06</pre>"
      ],
      "text/plain": [
       "recommendations finished on 5000/6040 queries. users per second: 3736.06"
      ]
     },
     "metadata": {},
     "output_type": "display_data"
    },
    {
     "data": {
      "text/html": [
       "<pre>recommendations finished on 6000/6040 queries. users per second: 3790.63</pre>"
      ],
      "text/plain": [
       "recommendations finished on 6000/6040 queries. users per second: 3790.63"
      ]
     },
     "metadata": {},
     "output_type": "display_data"
    }
   ],
   "source": [
    "recs = m.recommend()"
   ]
  },
  {
   "cell_type": "code",
   "execution_count": 87,
   "metadata": {
    "collapsed": false
   },
   "outputs": [
    {
     "data": {
      "text/html": [
       "<div style=\"max-height:1000px;max-width:1500px;overflow:auto;\"><table frame=\"box\" rules=\"cols\">\n",
       "    <tr>\n",
       "        <th style=\"padding-left: 1em; padding-right: 1em; text-align: center\">user_id</th>\n",
       "        <th style=\"padding-left: 1em; padding-right: 1em; text-align: center\">movie_id</th>\n",
       "        <th style=\"padding-left: 1em; padding-right: 1em; text-align: center\">score</th>\n",
       "        <th style=\"padding-left: 1em; padding-right: 1em; text-align: center\">rank</th>\n",
       "    </tr>\n",
       "    <tr>\n",
       "        <td style=\"padding-left: 1em; padding-right: 1em; text-align: center; vertical-align: top\">1</td>\n",
       "        <td style=\"padding-left: 1em; padding-right: 1em; text-align: center; vertical-align: top\">858</td>\n",
       "        <td style=\"padding-left: 1em; padding-right: 1em; text-align: center; vertical-align: top\">4.88081762827</td>\n",
       "        <td style=\"padding-left: 1em; padding-right: 1em; text-align: center; vertical-align: top\">1</td>\n",
       "    </tr>\n",
       "    <tr>\n",
       "        <td style=\"padding-left: 1em; padding-right: 1em; text-align: center; vertical-align: top\">1</td>\n",
       "        <td style=\"padding-left: 1em; padding-right: 1em; text-align: center; vertical-align: top\">2858</td>\n",
       "        <td style=\"padding-left: 1em; padding-right: 1em; text-align: center; vertical-align: top\">4.69082829989</td>\n",
       "        <td style=\"padding-left: 1em; padding-right: 1em; text-align: center; vertical-align: top\">2</td>\n",
       "    </tr>\n",
       "    <tr>\n",
       "        <td style=\"padding-left: 1em; padding-right: 1em; text-align: center; vertical-align: top\">1</td>\n",
       "        <td style=\"padding-left: 1em; padding-right: 1em; text-align: center; vertical-align: top\">1213</td>\n",
       "        <td style=\"padding-left: 1em; padding-right: 1em; text-align: center; vertical-align: top\">4.56876999773</td>\n",
       "        <td style=\"padding-left: 1em; padding-right: 1em; text-align: center; vertical-align: top\">3</td>\n",
       "    </tr>\n",
       "    <tr>\n",
       "        <td style=\"padding-left: 1em; padding-right: 1em; text-align: center; vertical-align: top\">1</td>\n",
       "        <td style=\"padding-left: 1em; padding-right: 1em; text-align: center; vertical-align: top\">296</td>\n",
       "        <td style=\"padding-left: 1em; padding-right: 1em; text-align: center; vertical-align: top\">4.50618979968</td>\n",
       "        <td style=\"padding-left: 1em; padding-right: 1em; text-align: center; vertical-align: top\">4</td>\n",
       "    </tr>\n",
       "    <tr>\n",
       "        <td style=\"padding-left: 1em; padding-right: 1em; text-align: center; vertical-align: top\">1</td>\n",
       "        <td style=\"padding-left: 1em; padding-right: 1em; text-align: center; vertical-align: top\">788</td>\n",
       "        <td style=\"padding-left: 1em; padding-right: 1em; text-align: center; vertical-align: top\">4.46558302901</td>\n",
       "        <td style=\"padding-left: 1em; padding-right: 1em; text-align: center; vertical-align: top\">5</td>\n",
       "    </tr>\n",
       "    <tr>\n",
       "        <td style=\"padding-left: 1em; padding-right: 1em; text-align: center; vertical-align: top\">1</td>\n",
       "        <td style=\"padding-left: 1em; padding-right: 1em; text-align: center; vertical-align: top\">593</td>\n",
       "        <td style=\"padding-left: 1em; padding-right: 1em; text-align: center; vertical-align: top\">4.41691503561</td>\n",
       "        <td style=\"padding-left: 1em; padding-right: 1em; text-align: center; vertical-align: top\">6</td>\n",
       "    </tr>\n",
       "    <tr>\n",
       "        <td style=\"padding-left: 1em; padding-right: 1em; text-align: center; vertical-align: top\">1</td>\n",
       "        <td style=\"padding-left: 1em; padding-right: 1em; text-align: center; vertical-align: top\">1259</td>\n",
       "        <td style=\"padding-left: 1em; padding-right: 1em; text-align: center; vertical-align: top\">4.404100186</td>\n",
       "        <td style=\"padding-left: 1em; padding-right: 1em; text-align: center; vertical-align: top\">7</td>\n",
       "    </tr>\n",
       "    <tr>\n",
       "        <td style=\"padding-left: 1em; padding-right: 1em; text-align: center; vertical-align: top\">1</td>\n",
       "        <td style=\"padding-left: 1em; padding-right: 1em; text-align: center; vertical-align: top\">1221</td>\n",
       "        <td style=\"padding-left: 1em; padding-right: 1em; text-align: center; vertical-align: top\">4.34598186127</td>\n",
       "        <td style=\"padding-left: 1em; padding-right: 1em; text-align: center; vertical-align: top\">8</td>\n",
       "    </tr>\n",
       "    <tr>\n",
       "        <td style=\"padding-left: 1em; padding-right: 1em; text-align: center; vertical-align: top\">1</td>\n",
       "        <td style=\"padding-left: 1em; padding-right: 1em; text-align: center; vertical-align: top\">1923</td>\n",
       "        <td style=\"padding-left: 1em; padding-right: 1em; text-align: center; vertical-align: top\">4.33906546868</td>\n",
       "        <td style=\"padding-left: 1em; padding-right: 1em; text-align: center; vertical-align: top\">9</td>\n",
       "    </tr>\n",
       "    <tr>\n",
       "        <td style=\"padding-left: 1em; padding-right: 1em; text-align: center; vertical-align: top\">1</td>\n",
       "        <td style=\"padding-left: 1em; padding-right: 1em; text-align: center; vertical-align: top\">356</td>\n",
       "        <td style=\"padding-left: 1em; padding-right: 1em; text-align: center; vertical-align: top\">4.33732641376</td>\n",
       "        <td style=\"padding-left: 1em; padding-right: 1em; text-align: center; vertical-align: top\">10</td>\n",
       "    </tr>\n",
       "</table>\n",
       "[60400 rows x 4 columns]<br/>Note: Only the head of the SFrame is printed.<br/>You can use print_rows(num_rows=m, num_columns=n) to print more rows and columns.\n",
       "</div>"
      ],
      "text/plain": [
       "Columns:\n",
       "\tuser_id\tint\n",
       "\tmovie_id\tint\n",
       "\tscore\tfloat\n",
       "\trank\tint\n",
       "\n",
       "Rows: 60400\n",
       "\n",
       "Data:\n",
       "+---------+----------+---------------+------+\n",
       "| user_id | movie_id |     score     | rank |\n",
       "+---------+----------+---------------+------+\n",
       "|    1    |   858    | 4.88081762827 |  1   |\n",
       "|    1    |   2858   | 4.69082829989 |  2   |\n",
       "|    1    |   1213   | 4.56876999773 |  3   |\n",
       "|    1    |   296    | 4.50618979968 |  4   |\n",
       "|    1    |   788    | 4.46558302901 |  5   |\n",
       "|    1    |   593    | 4.41691503561 |  6   |\n",
       "|    1    |   1259   |  4.404100186  |  7   |\n",
       "|    1    |   1221   | 4.34598186127 |  8   |\n",
       "|    1    |   1923   | 4.33906546868 |  9   |\n",
       "|    1    |   356    | 4.33732641376 |  10  |\n",
       "+---------+----------+---------------+------+\n",
       "[60400 rows x 4 columns]\n",
       "Note: Only the head of the SFrame is printed.\n",
       "You can use print_rows(num_rows=m, num_columns=n) to print more rows and columns."
      ]
     },
     "execution_count": 87,
     "metadata": {},
     "output_type": "execute_result"
    }
   ],
   "source": [
    "recs"
   ]
  },
  {
   "cell_type": "code",
   "execution_count": 78,
   "metadata": {
    "collapsed": false
   },
   "outputs": [
    {
     "data": {
      "text/html": [
       "<div style=\"max-height:1000px;max-width:1500px;overflow:auto;\"><table frame=\"box\" rules=\"cols\">\n",
       "    <tr>\n",
       "        <th style=\"padding-left: 1em; padding-right: 1em; text-align: center\">user_id</th>\n",
       "        <th style=\"padding-left: 1em; padding-right: 1em; text-align: center\">movie_id</th>\n",
       "        <th style=\"padding-left: 1em; padding-right: 1em; text-align: center\">rating</th>\n",
       "        <th style=\"padding-left: 1em; padding-right: 1em; text-align: center\">timestamp</th>\n",
       "        <th style=\"padding-left: 1em; padding-right: 1em; text-align: center\">title</th>\n",
       "        <th style=\"padding-left: 1em; padding-right: 1em; text-align: center\">genre</th>\n",
       "    </tr>\n",
       "    <tr>\n",
       "        <td style=\"padding-left: 1em; padding-right: 1em; text-align: center; vertical-align: top\">4</td>\n",
       "        <td style=\"padding-left: 1em; padding-right: 1em; text-align: center; vertical-align: top\">260</td>\n",
       "        <td style=\"padding-left: 1em; padding-right: 1em; text-align: center; vertical-align: top\">5</td>\n",
       "        <td style=\"padding-left: 1em; padding-right: 1em; text-align: center; vertical-align: top\">978294199</td>\n",
       "        <td style=\"padding-left: 1em; padding-right: 1em; text-align: center; vertical-align: top\">Star Wars: Episode IV - A<br>New Hope (1977) ...</td>\n",
       "        <td style=\"padding-left: 1em; padding-right: 1em; text-align: center; vertical-align: top\">Action|Adventure|Fantasy<br>|Sci-Fi ...</td>\n",
       "    </tr>\n",
       "    <tr>\n",
       "        <td style=\"padding-left: 1em; padding-right: 1em; text-align: center; vertical-align: top\">4</td>\n",
       "        <td style=\"padding-left: 1em; padding-right: 1em; text-align: center; vertical-align: top\">480</td>\n",
       "        <td style=\"padding-left: 1em; padding-right: 1em; text-align: center; vertical-align: top\">4</td>\n",
       "        <td style=\"padding-left: 1em; padding-right: 1em; text-align: center; vertical-align: top\">978294008</td>\n",
       "        <td style=\"padding-left: 1em; padding-right: 1em; text-align: center; vertical-align: top\">Jurassic Park (1993)</td>\n",
       "        <td style=\"padding-left: 1em; padding-right: 1em; text-align: center; vertical-align: top\">Action|Adventure|Sci-Fi</td>\n",
       "    </tr>\n",
       "    <tr>\n",
       "        <td style=\"padding-left: 1em; padding-right: 1em; text-align: center; vertical-align: top\">4</td>\n",
       "        <td style=\"padding-left: 1em; padding-right: 1em; text-align: center; vertical-align: top\">1036</td>\n",
       "        <td style=\"padding-left: 1em; padding-right: 1em; text-align: center; vertical-align: top\">4</td>\n",
       "        <td style=\"padding-left: 1em; padding-right: 1em; text-align: center; vertical-align: top\">978294282</td>\n",
       "        <td style=\"padding-left: 1em; padding-right: 1em; text-align: center; vertical-align: top\">Die Hard (1988)</td>\n",
       "        <td style=\"padding-left: 1em; padding-right: 1em; text-align: center; vertical-align: top\">Action|Thriller</td>\n",
       "    </tr>\n",
       "    <tr>\n",
       "        <td style=\"padding-left: 1em; padding-right: 1em; text-align: center; vertical-align: top\">4</td>\n",
       "        <td style=\"padding-left: 1em; padding-right: 1em; text-align: center; vertical-align: top\">1097</td>\n",
       "        <td style=\"padding-left: 1em; padding-right: 1em; text-align: center; vertical-align: top\">4</td>\n",
       "        <td style=\"padding-left: 1em; padding-right: 1em; text-align: center; vertical-align: top\">978293964</td>\n",
       "        <td style=\"padding-left: 1em; padding-right: 1em; text-align: center; vertical-align: top\">E.T. the Extra-<br>Terrestrial (1982) ...</td>\n",
       "        <td style=\"padding-left: 1em; padding-right: 1em; text-align: center; vertical-align: top\">Children's|Drama|Fantasy<br>|Sci-Fi ...</td>\n",
       "    </tr>\n",
       "    <tr>\n",
       "        <td style=\"padding-left: 1em; padding-right: 1em; text-align: center; vertical-align: top\">4</td>\n",
       "        <td style=\"padding-left: 1em; padding-right: 1em; text-align: center; vertical-align: top\">1196</td>\n",
       "        <td style=\"padding-left: 1em; padding-right: 1em; text-align: center; vertical-align: top\">2</td>\n",
       "        <td style=\"padding-left: 1em; padding-right: 1em; text-align: center; vertical-align: top\">978294199</td>\n",
       "        <td style=\"padding-left: 1em; padding-right: 1em; text-align: center; vertical-align: top\">Star Wars: Episode V -<br>The Empire Strikes Back ...</td>\n",
       "        <td style=\"padding-left: 1em; padding-right: 1em; text-align: center; vertical-align: top\">Action|Adventure|Drama<br>|Sci-Fi|War ...</td>\n",
       "    </tr>\n",
       "    <tr>\n",
       "        <td style=\"padding-left: 1em; padding-right: 1em; text-align: center; vertical-align: top\">4</td>\n",
       "        <td style=\"padding-left: 1em; padding-right: 1em; text-align: center; vertical-align: top\">1198</td>\n",
       "        <td style=\"padding-left: 1em; padding-right: 1em; text-align: center; vertical-align: top\">5</td>\n",
       "        <td style=\"padding-left: 1em; padding-right: 1em; text-align: center; vertical-align: top\">978294199</td>\n",
       "        <td style=\"padding-left: 1em; padding-right: 1em; text-align: center; vertical-align: top\">Raiders of the Lost Ark<br>(1981) ...</td>\n",
       "        <td style=\"padding-left: 1em; padding-right: 1em; text-align: center; vertical-align: top\">Action|Adventure</td>\n",
       "    </tr>\n",
       "    <tr>\n",
       "        <td style=\"padding-left: 1em; padding-right: 1em; text-align: center; vertical-align: top\">4</td>\n",
       "        <td style=\"padding-left: 1em; padding-right: 1em; text-align: center; vertical-align: top\">1201</td>\n",
       "        <td style=\"padding-left: 1em; padding-right: 1em; text-align: center; vertical-align: top\">5</td>\n",
       "        <td style=\"padding-left: 1em; padding-right: 1em; text-align: center; vertical-align: top\">978294230</td>\n",
       "        <td style=\"padding-left: 1em; padding-right: 1em; text-align: center; vertical-align: top\">Good, The Bad and The<br>Ugly, The (1966) ...</td>\n",
       "        <td style=\"padding-left: 1em; padding-right: 1em; text-align: center; vertical-align: top\">Action|Western</td>\n",
       "    </tr>\n",
       "    <tr>\n",
       "        <td style=\"padding-left: 1em; padding-right: 1em; text-align: center; vertical-align: top\">4</td>\n",
       "        <td style=\"padding-left: 1em; padding-right: 1em; text-align: center; vertical-align: top\">1210</td>\n",
       "        <td style=\"padding-left: 1em; padding-right: 1em; text-align: center; vertical-align: top\">3</td>\n",
       "        <td style=\"padding-left: 1em; padding-right: 1em; text-align: center; vertical-align: top\">978293924</td>\n",
       "        <td style=\"padding-left: 1em; padding-right: 1em; text-align: center; vertical-align: top\">Star Wars: Episode VI -<br>Return of the Jedi (1 ...</td>\n",
       "        <td style=\"padding-left: 1em; padding-right: 1em; text-align: center; vertical-align: top\">Action|Adventure|Romance<br>|Sci-Fi|War ...</td>\n",
       "    </tr>\n",
       "    <tr>\n",
       "        <td style=\"padding-left: 1em; padding-right: 1em; text-align: center; vertical-align: top\">4</td>\n",
       "        <td style=\"padding-left: 1em; padding-right: 1em; text-align: center; vertical-align: top\">1214</td>\n",
       "        <td style=\"padding-left: 1em; padding-right: 1em; text-align: center; vertical-align: top\">4</td>\n",
       "        <td style=\"padding-left: 1em; padding-right: 1em; text-align: center; vertical-align: top\">978294260</td>\n",
       "        <td style=\"padding-left: 1em; padding-right: 1em; text-align: center; vertical-align: top\">Alien (1979)</td>\n",
       "        <td style=\"padding-left: 1em; padding-right: 1em; text-align: center; vertical-align: top\">Action|Horror|Sci-<br>Fi|Thriller ...</td>\n",
       "    </tr>\n",
       "    <tr>\n",
       "        <td style=\"padding-left: 1em; padding-right: 1em; text-align: center; vertical-align: top\">4</td>\n",
       "        <td style=\"padding-left: 1em; padding-right: 1em; text-align: center; vertical-align: top\">1240</td>\n",
       "        <td style=\"padding-left: 1em; padding-right: 1em; text-align: center; vertical-align: top\">5</td>\n",
       "        <td style=\"padding-left: 1em; padding-right: 1em; text-align: center; vertical-align: top\">978294260</td>\n",
       "        <td style=\"padding-left: 1em; padding-right: 1em; text-align: center; vertical-align: top\">Terminator, The (1984)</td>\n",
       "        <td style=\"padding-left: 1em; padding-right: 1em; text-align: center; vertical-align: top\">Action|Sci-Fi|Thriller</td>\n",
       "    </tr>\n",
       "</table>\n",
       "<table frame=\"box\" rules=\"cols\">\n",
       "    <tr>\n",
       "        <th style=\"padding-left: 1em; padding-right: 1em; text-align: center\">title.1</th>\n",
       "        <th style=\"padding-left: 1em; padding-right: 1em; text-align: center\">genre.1</th>\n",
       "    </tr>\n",
       "    <tr>\n",
       "        <td style=\"padding-left: 1em; padding-right: 1em; text-align: center; vertical-align: top\">Star Wars: Episode IV - A<br>New Hope (1977) ...</td>\n",
       "        <td style=\"padding-left: 1em; padding-right: 1em; text-align: center; vertical-align: top\">Action|Adventure|Fantasy<br>|Sci-Fi ...</td>\n",
       "    </tr>\n",
       "    <tr>\n",
       "        <td style=\"padding-left: 1em; padding-right: 1em; text-align: center; vertical-align: top\">Jurassic Park (1993)</td>\n",
       "        <td style=\"padding-left: 1em; padding-right: 1em; text-align: center; vertical-align: top\">Action|Adventure|Sci-Fi</td>\n",
       "    </tr>\n",
       "    <tr>\n",
       "        <td style=\"padding-left: 1em; padding-right: 1em; text-align: center; vertical-align: top\">Die Hard (1988)</td>\n",
       "        <td style=\"padding-left: 1em; padding-right: 1em; text-align: center; vertical-align: top\">Action|Thriller</td>\n",
       "    </tr>\n",
       "    <tr>\n",
       "        <td style=\"padding-left: 1em; padding-right: 1em; text-align: center; vertical-align: top\">E.T. the Extra-<br>Terrestrial (1982) ...</td>\n",
       "        <td style=\"padding-left: 1em; padding-right: 1em; text-align: center; vertical-align: top\">Children's|Drama|Fantasy<br>|Sci-Fi ...</td>\n",
       "    </tr>\n",
       "    <tr>\n",
       "        <td style=\"padding-left: 1em; padding-right: 1em; text-align: center; vertical-align: top\">Star Wars: Episode V -<br>The Empire Strikes Back ...</td>\n",
       "        <td style=\"padding-left: 1em; padding-right: 1em; text-align: center; vertical-align: top\">Action|Adventure|Drama<br>|Sci-Fi|War ...</td>\n",
       "    </tr>\n",
       "    <tr>\n",
       "        <td style=\"padding-left: 1em; padding-right: 1em; text-align: center; vertical-align: top\">Raiders of the Lost Ark<br>(1981) ...</td>\n",
       "        <td style=\"padding-left: 1em; padding-right: 1em; text-align: center; vertical-align: top\">Action|Adventure</td>\n",
       "    </tr>\n",
       "    <tr>\n",
       "        <td style=\"padding-left: 1em; padding-right: 1em; text-align: center; vertical-align: top\">Good, The Bad and The<br>Ugly, The (1966) ...</td>\n",
       "        <td style=\"padding-left: 1em; padding-right: 1em; text-align: center; vertical-align: top\">Action|Western</td>\n",
       "    </tr>\n",
       "    <tr>\n",
       "        <td style=\"padding-left: 1em; padding-right: 1em; text-align: center; vertical-align: top\">Star Wars: Episode VI -<br>Return of the Jedi (1 ...</td>\n",
       "        <td style=\"padding-left: 1em; padding-right: 1em; text-align: center; vertical-align: top\">Action|Adventure|Romance<br>|Sci-Fi|War ...</td>\n",
       "    </tr>\n",
       "    <tr>\n",
       "        <td style=\"padding-left: 1em; padding-right: 1em; text-align: center; vertical-align: top\">Alien (1979)</td>\n",
       "        <td style=\"padding-left: 1em; padding-right: 1em; text-align: center; vertical-align: top\">Action|Horror|Sci-<br>Fi|Thriller ...</td>\n",
       "    </tr>\n",
       "    <tr>\n",
       "        <td style=\"padding-left: 1em; padding-right: 1em; text-align: center; vertical-align: top\">Terminator, The (1984)</td>\n",
       "        <td style=\"padding-left: 1em; padding-right: 1em; text-align: center; vertical-align: top\">Action|Sci-Fi|Thriller</td>\n",
       "    </tr>\n",
       "</table>\n",
       "[21 rows x 8 columns]<br/>Note: Only the head of the SFrame is printed.<br/>You can use print_rows(num_rows=m, num_columns=n) to print more rows and columns.\n",
       "</div>"
      ],
      "text/plain": [
       "Columns:\n",
       "\tuser_id\tint\n",
       "\tmovie_id\tint\n",
       "\trating\tint\n",
       "\ttimestamp\tint\n",
       "\ttitle\tstr\n",
       "\tgenre\tstr\n",
       "\ttitle.1\tstr\n",
       "\tgenre.1\tstr\n",
       "\n",
       "Rows: 21\n",
       "\n",
       "Data:\n",
       "+---------+----------+--------+-----------+--------------------------------+\n",
       "| user_id | movie_id | rating | timestamp |             title              |\n",
       "+---------+----------+--------+-----------+--------------------------------+\n",
       "|    4    |   260    |   5    | 978294199 | Star Wars: Episode IV - A ...  |\n",
       "|    4    |   480    |   4    | 978294008 |      Jurassic Park (1993)      |\n",
       "|    4    |   1036   |   4    | 978294282 |        Die Hard (1988)         |\n",
       "|    4    |   1097   |   4    | 978293964 | E.T. the Extra-Terrestrial...  |\n",
       "|    4    |   1196   |   2    | 978294199 | Star Wars: Episode V - The...  |\n",
       "|    4    |   1198   |   5    | 978294199 | Raiders of the Lost Ark (1981) |\n",
       "|    4    |   1201   |   5    | 978294230 | Good, The Bad and The Ugly...  |\n",
       "|    4    |   1210   |   3    | 978293924 | Star Wars: Episode VI - Re...  |\n",
       "|    4    |   1214   |   4    | 978294260 |          Alien (1979)          |\n",
       "|    4    |   1240   |   5    | 978294260 |     Terminator, The (1984)     |\n",
       "+---------+----------+--------+-----------+--------------------------------+\n",
       "+-------------------------------+--------------------------------+\n",
       "|             genre             |            title.1             |\n",
       "+-------------------------------+--------------------------------+\n",
       "| Action|Adventure|Fantasy|S... | Star Wars: Episode IV - A ...  |\n",
       "|    Action|Adventure|Sci-Fi    |      Jurassic Park (1993)      |\n",
       "|        Action|Thriller        |        Die Hard (1988)         |\n",
       "| Children's|Drama|Fantasy|S... | E.T. the Extra-Terrestrial...  |\n",
       "| Action|Adventure|Drama|Sci... | Star Wars: Episode V - The...  |\n",
       "|        Action|Adventure       | Raiders of the Lost Ark (1981) |\n",
       "|         Action|Western        | Good, The Bad and The Ugly...  |\n",
       "| Action|Adventure|Romance|S... | Star Wars: Episode VI - Re...  |\n",
       "| Action|Horror|Sci-Fi|Thriller |          Alien (1979)          |\n",
       "|     Action|Sci-Fi|Thriller    |     Terminator, The (1984)     |\n",
       "+-------------------------------+--------------------------------+\n",
       "+-------------------------------+\n",
       "|            genre.1            |\n",
       "+-------------------------------+\n",
       "| Action|Adventure|Fantasy|S... |\n",
       "|    Action|Adventure|Sci-Fi    |\n",
       "|        Action|Thriller        |\n",
       "| Children's|Drama|Fantasy|S... |\n",
       "| Action|Adventure|Drama|Sci... |\n",
       "|        Action|Adventure       |\n",
       "|         Action|Western        |\n",
       "| Action|Adventure|Romance|S... |\n",
       "| Action|Horror|Sci-Fi|Thriller |\n",
       "|     Action|Sci-Fi|Thriller    |\n",
       "+-------------------------------+\n",
       "[21 rows x 8 columns]\n",
       "Note: Only the head of the SFrame is printed.\n",
       "You can use print_rows(num_rows=m, num_columns=n) to print more rows and columns."
      ]
     },
     "execution_count": 78,
     "metadata": {},
     "output_type": "execute_result"
    }
   ],
   "source": [
    "data[data['user_id'] == 4].join(items, on='movie_id')"
   ]
  },
  {
   "cell_type": "code",
   "execution_count": 79,
   "metadata": {
    "collapsed": false,
    "scrolled": true
   },
   "outputs": [
    {
     "data": {
      "text/html": [
       "<div style=\"max-height:1000px;max-width:1500px;overflow:auto;\"><table frame=\"box\" rules=\"cols\">\n",
       "    <tr>\n",
       "        <th style=\"padding-left: 1em; padding-right: 1em; text-align: center\">user_id</th>\n",
       "        <th style=\"padding-left: 1em; padding-right: 1em; text-align: center\">movie_id</th>\n",
       "        <th style=\"padding-left: 1em; padding-right: 1em; text-align: center\">score</th>\n",
       "        <th style=\"padding-left: 1em; padding-right: 1em; text-align: center\">rank</th>\n",
       "        <th style=\"padding-left: 1em; padding-right: 1em; text-align: center\">title</th>\n",
       "        <th style=\"padding-left: 1em; padding-right: 1em; text-align: center\">genre</th>\n",
       "    </tr>\n",
       "    <tr>\n",
       "        <td style=\"padding-left: 1em; padding-right: 1em; text-align: center; vertical-align: top\">4</td>\n",
       "        <td style=\"padding-left: 1em; padding-right: 1em; text-align: center; vertical-align: top\">1</td>\n",
       "        <td style=\"padding-left: 1em; padding-right: 1em; text-align: center; vertical-align: top\">4.41114833094</td>\n",
       "        <td style=\"padding-left: 1em; padding-right: 1em; text-align: center; vertical-align: top\">5</td>\n",
       "        <td style=\"padding-left: 1em; padding-right: 1em; text-align: center; vertical-align: top\">Toy Story (1995)</td>\n",
       "        <td style=\"padding-left: 1em; padding-right: 1em; text-align: center; vertical-align: top\">Animation|Children's|Come<br>dy ...</td>\n",
       "    </tr>\n",
       "    <tr>\n",
       "        <td style=\"padding-left: 1em; padding-right: 1em; text-align: center; vertical-align: top\">4</td>\n",
       "        <td style=\"padding-left: 1em; padding-right: 1em; text-align: center; vertical-align: top\">318</td>\n",
       "        <td style=\"padding-left: 1em; padding-right: 1em; text-align: center; vertical-align: top\">4.35419570542</td>\n",
       "        <td style=\"padding-left: 1em; padding-right: 1em; text-align: center; vertical-align: top\">6</td>\n",
       "        <td style=\"padding-left: 1em; padding-right: 1em; text-align: center; vertical-align: top\">Shawshank Redemption, The<br>(1994) ...</td>\n",
       "        <td style=\"padding-left: 1em; padding-right: 1em; text-align: center; vertical-align: top\">Drama</td>\n",
       "    </tr>\n",
       "    <tr>\n",
       "        <td style=\"padding-left: 1em; padding-right: 1em; text-align: center; vertical-align: top\">4</td>\n",
       "        <td style=\"padding-left: 1em; padding-right: 1em; text-align: center; vertical-align: top\">357</td>\n",
       "        <td style=\"padding-left: 1em; padding-right: 1em; text-align: center; vertical-align: top\">4.16431414224</td>\n",
       "        <td style=\"padding-left: 1em; padding-right: 1em; text-align: center; vertical-align: top\">16</td>\n",
       "        <td style=\"padding-left: 1em; padding-right: 1em; text-align: center; vertical-align: top\">Four Weddings and a<br>Funeral (1994) ...</td>\n",
       "        <td style=\"padding-left: 1em; padding-right: 1em; text-align: center; vertical-align: top\">Comedy|Romance</td>\n",
       "    </tr>\n",
       "    <tr>\n",
       "        <td style=\"padding-left: 1em; padding-right: 1em; text-align: center; vertical-align: top\">4</td>\n",
       "        <td style=\"padding-left: 1em; padding-right: 1em; text-align: center; vertical-align: top\">457</td>\n",
       "        <td style=\"padding-left: 1em; padding-right: 1em; text-align: center; vertical-align: top\">4.35095976926</td>\n",
       "        <td style=\"padding-left: 1em; padding-right: 1em; text-align: center; vertical-align: top\">7</td>\n",
       "        <td style=\"padding-left: 1em; padding-right: 1em; text-align: center; vertical-align: top\">Fugitive, The (1993)</td>\n",
       "        <td style=\"padding-left: 1em; padding-right: 1em; text-align: center; vertical-align: top\">Action|Thriller</td>\n",
       "    </tr>\n",
       "    <tr>\n",
       "        <td style=\"padding-left: 1em; padding-right: 1em; text-align: center; vertical-align: top\">4</td>\n",
       "        <td style=\"padding-left: 1em; padding-right: 1em; text-align: center; vertical-align: top\">913</td>\n",
       "        <td style=\"padding-left: 1em; padding-right: 1em; text-align: center; vertical-align: top\">4.18459271178</td>\n",
       "        <td style=\"padding-left: 1em; padding-right: 1em; text-align: center; vertical-align: top\">15</td>\n",
       "        <td style=\"padding-left: 1em; padding-right: 1em; text-align: center; vertical-align: top\">Maltese Falcon, The<br>(1941) ...</td>\n",
       "        <td style=\"padding-left: 1em; padding-right: 1em; text-align: center; vertical-align: top\">Film-Noir|Mystery</td>\n",
       "    </tr>\n",
       "    <tr>\n",
       "        <td style=\"padding-left: 1em; padding-right: 1em; text-align: center; vertical-align: top\">4</td>\n",
       "        <td style=\"padding-left: 1em; padding-right: 1em; text-align: center; vertical-align: top\">919</td>\n",
       "        <td style=\"padding-left: 1em; padding-right: 1em; text-align: center; vertical-align: top\">4.56882541514</td>\n",
       "        <td style=\"padding-left: 1em; padding-right: 1em; text-align: center; vertical-align: top\">3</td>\n",
       "        <td style=\"padding-left: 1em; padding-right: 1em; text-align: center; vertical-align: top\">Wizard of Oz, The (1939)</td>\n",
       "        <td style=\"padding-left: 1em; padding-right: 1em; text-align: center; vertical-align: top\">Adventure|Children's|Dram<br>a|Musical ...</td>\n",
       "    </tr>\n",
       "    <tr>\n",
       "        <td style=\"padding-left: 1em; padding-right: 1em; text-align: center; vertical-align: top\">4</td>\n",
       "        <td style=\"padding-left: 1em; padding-right: 1em; text-align: center; vertical-align: top\">969</td>\n",
       "        <td style=\"padding-left: 1em; padding-right: 1em; text-align: center; vertical-align: top\">4.64023889861</td>\n",
       "        <td style=\"padding-left: 1em; padding-right: 1em; text-align: center; vertical-align: top\">2</td>\n",
       "        <td style=\"padding-left: 1em; padding-right: 1em; text-align: center; vertical-align: top\">African Queen, The (1951)</td>\n",
       "        <td style=\"padding-left: 1em; padding-right: 1em; text-align: center; vertical-align: top\">Action|Adventure|Romance|<br>War ...</td>\n",
       "    </tr>\n",
       "    <tr>\n",
       "        <td style=\"padding-left: 1em; padding-right: 1em; text-align: center; vertical-align: top\">4</td>\n",
       "        <td style=\"padding-left: 1em; padding-right: 1em; text-align: center; vertical-align: top\">1136</td>\n",
       "        <td style=\"padding-left: 1em; padding-right: 1em; text-align: center; vertical-align: top\">4.12968237027</td>\n",
       "        <td style=\"padding-left: 1em; padding-right: 1em; text-align: center; vertical-align: top\">19</td>\n",
       "        <td style=\"padding-left: 1em; padding-right: 1em; text-align: center; vertical-align: top\">Monty Python and the Holy<br>Grail (1974) ...</td>\n",
       "        <td style=\"padding-left: 1em; padding-right: 1em; text-align: center; vertical-align: top\">Comedy</td>\n",
       "    </tr>\n",
       "    <tr>\n",
       "        <td style=\"padding-left: 1em; padding-right: 1em; text-align: center; vertical-align: top\">4</td>\n",
       "        <td style=\"padding-left: 1em; padding-right: 1em; text-align: center; vertical-align: top\">1172</td>\n",
       "        <td style=\"padding-left: 1em; padding-right: 1em; text-align: center; vertical-align: top\">4.12496899701</td>\n",
       "        <td style=\"padding-left: 1em; padding-right: 1em; text-align: center; vertical-align: top\">20</td>\n",
       "        <td style=\"padding-left: 1em; padding-right: 1em; text-align: center; vertical-align: top\">Cinema Paradiso (1988)</td>\n",
       "        <td style=\"padding-left: 1em; padding-right: 1em; text-align: center; vertical-align: top\">Comedy|Drama|Romance</td>\n",
       "    </tr>\n",
       "    <tr>\n",
       "        <td style=\"padding-left: 1em; padding-right: 1em; text-align: center; vertical-align: top\">4</td>\n",
       "        <td style=\"padding-left: 1em; padding-right: 1em; text-align: center; vertical-align: top\">1197</td>\n",
       "        <td style=\"padding-left: 1em; padding-right: 1em; text-align: center; vertical-align: top\">4.31999694444</td>\n",
       "        <td style=\"padding-left: 1em; padding-right: 1em; text-align: center; vertical-align: top\">8</td>\n",
       "        <td style=\"padding-left: 1em; padding-right: 1em; text-align: center; vertical-align: top\">Princess Bride, The<br>(1987) ...</td>\n",
       "        <td style=\"padding-left: 1em; padding-right: 1em; text-align: center; vertical-align: top\">Action|Adventure|Comedy|R<br>omance ...</td>\n",
       "    </tr>\n",
       "</table>\n",
       "[20 rows x 6 columns]<br/>Note: Only the head of the SFrame is printed.<br/>You can use print_rows(num_rows=m, num_columns=n) to print more rows and columns.\n",
       "</div>"
      ],
      "text/plain": [
       "Columns:\n",
       "\tuser_id\tint\n",
       "\tmovie_id\tint\n",
       "\tscore\tfloat\n",
       "\trank\tint\n",
       "\ttitle\tstr\n",
       "\tgenre\tstr\n",
       "\n",
       "Rows: 20\n",
       "\n",
       "Data:\n",
       "+---------+----------+---------------+------+-------------------------------+\n",
       "| user_id | movie_id |     score     | rank |             title             |\n",
       "+---------+----------+---------------+------+-------------------------------+\n",
       "|    4    |    1     | 4.41114833094 |  5   |        Toy Story (1995)       |\n",
       "|    4    |   318    | 4.35419570542 |  6   | Shawshank Redemption, The ... |\n",
       "|    4    |   357    | 4.16431414224 |  16  | Four Weddings and a Funera... |\n",
       "|    4    |   457    | 4.35095976926 |  7   |      Fugitive, The (1993)     |\n",
       "|    4    |   913    | 4.18459271178 |  15  |   Maltese Falcon, The (1941)  |\n",
       "|    4    |   919    | 4.56882541514 |  3   |    Wizard of Oz, The (1939)   |\n",
       "|    4    |   969    | 4.64023889861 |  2   |   African Queen, The (1951)   |\n",
       "|    4    |   1136   | 4.12968237027 |  19  | Monty Python and the Holy ... |\n",
       "|    4    |   1172   | 4.12496899701 |  20  |     Cinema Paradiso (1988)    |\n",
       "|    4    |   1197   | 4.31999694444 |  8   |   Princess Bride, The (1987)  |\n",
       "+---------+----------+---------------+------+-------------------------------+\n",
       "+-------------------------------+\n",
       "|             genre             |\n",
       "+-------------------------------+\n",
       "|  Animation|Children's|Comedy  |\n",
       "|             Drama             |\n",
       "|         Comedy|Romance        |\n",
       "|        Action|Thriller        |\n",
       "|       Film-Noir|Mystery       |\n",
       "| Adventure|Children's|Drama... |\n",
       "|  Action|Adventure|Romance|War |\n",
       "|             Comedy            |\n",
       "|      Comedy|Drama|Romance     |\n",
       "| Action|Adventure|Comedy|Ro... |\n",
       "+-------------------------------+\n",
       "[20 rows x 6 columns]\n",
       "Note: Only the head of the SFrame is printed.\n",
       "You can use print_rows(num_rows=m, num_columns=n) to print more rows and columns."
      ]
     },
     "execution_count": 79,
     "metadata": {},
     "output_type": "execute_result"
    }
   ],
   "source": [
    "m.recommend(users=[4], k=20).join(items, on='movie_id')"
   ]
  },
  {
   "cell_type": "markdown",
   "metadata": {},
   "source": [
    "## recommendations for new users"
   ]
  },
  {
   "cell_type": "code",
   "execution_count": 81,
   "metadata": {
    "collapsed": true
   },
   "outputs": [],
   "source": [
    "recent_data = graphlab.SFrame()\n",
    "recent_data['movie_id'] = [1291] \n",
    "recent_data['user_id'] = 99999"
   ]
  },
  {
   "cell_type": "code",
   "execution_count": 82,
   "metadata": {
    "collapsed": false
   },
   "outputs": [
    {
     "data": {
      "text/html": [
       "<div style=\"max-height:1000px;max-width:1500px;overflow:auto;\"><table frame=\"box\" rules=\"cols\">\n",
       "    <tr>\n",
       "        <th style=\"padding-left: 1em; padding-right: 1em; text-align: center\">user_id</th>\n",
       "        <th style=\"padding-left: 1em; padding-right: 1em; text-align: center\">movie_id</th>\n",
       "        <th style=\"padding-left: 1em; padding-right: 1em; text-align: center\">score</th>\n",
       "        <th style=\"padding-left: 1em; padding-right: 1em; text-align: center\">rank</th>\n",
       "        <th style=\"padding-left: 1em; padding-right: 1em; text-align: center\">title</th>\n",
       "        <th style=\"padding-left: 1em; padding-right: 1em; text-align: center\">genre</th>\n",
       "    </tr>\n",
       "    <tr>\n",
       "        <td style=\"padding-left: 1em; padding-right: 1em; text-align: center; vertical-align: top\">99999</td>\n",
       "        <td style=\"padding-left: 1em; padding-right: 1em; text-align: center; vertical-align: top\">3607</td>\n",
       "        <td style=\"padding-left: 1em; padding-right: 1em; text-align: center; vertical-align: top\">5.0</td>\n",
       "        <td style=\"padding-left: 1em; padding-right: 1em; text-align: center; vertical-align: top\">1</td>\n",
       "        <td style=\"padding-left: 1em; padding-right: 1em; text-align: center; vertical-align: top\">One Little Indian (1973)</td>\n",
       "        <td style=\"padding-left: 1em; padding-right: 1em; text-align: center; vertical-align: top\">Comedy|Drama|Western</td>\n",
       "    </tr>\n",
       "    <tr>\n",
       "        <td style=\"padding-left: 1em; padding-right: 1em; text-align: center; vertical-align: top\">99999</td>\n",
       "        <td style=\"padding-left: 1em; padding-right: 1em; text-align: center; vertical-align: top\">1830</td>\n",
       "        <td style=\"padding-left: 1em; padding-right: 1em; text-align: center; vertical-align: top\">5.0</td>\n",
       "        <td style=\"padding-left: 1em; padding-right: 1em; text-align: center; vertical-align: top\">2</td>\n",
       "        <td style=\"padding-left: 1em; padding-right: 1em; text-align: center; vertical-align: top\">Follow the Bitch (1998)</td>\n",
       "        <td style=\"padding-left: 1em; padding-right: 1em; text-align: center; vertical-align: top\">Comedy</td>\n",
       "    </tr>\n",
       "    <tr>\n",
       "        <td style=\"padding-left: 1em; padding-right: 1em; text-align: center; vertical-align: top\">99999</td>\n",
       "        <td style=\"padding-left: 1em; padding-right: 1em; text-align: center; vertical-align: top\">3382</td>\n",
       "        <td style=\"padding-left: 1em; padding-right: 1em; text-align: center; vertical-align: top\">5.0</td>\n",
       "        <td style=\"padding-left: 1em; padding-right: 1em; text-align: center; vertical-align: top\">3</td>\n",
       "        <td style=\"padding-left: 1em; padding-right: 1em; text-align: center; vertical-align: top\">Song of Freedom (1936)</td>\n",
       "        <td style=\"padding-left: 1em; padding-right: 1em; text-align: center; vertical-align: top\">Drama</td>\n",
       "    </tr>\n",
       "    <tr>\n",
       "        <td style=\"padding-left: 1em; padding-right: 1em; text-align: center; vertical-align: top\">99999</td>\n",
       "        <td style=\"padding-left: 1em; padding-right: 1em; text-align: center; vertical-align: top\">3656</td>\n",
       "        <td style=\"padding-left: 1em; padding-right: 1em; text-align: center; vertical-align: top\">5.0</td>\n",
       "        <td style=\"padding-left: 1em; padding-right: 1em; text-align: center; vertical-align: top\">4</td>\n",
       "        <td style=\"padding-left: 1em; padding-right: 1em; text-align: center; vertical-align: top\">Lured (1947)</td>\n",
       "        <td style=\"padding-left: 1em; padding-right: 1em; text-align: center; vertical-align: top\">Crime</td>\n",
       "    </tr>\n",
       "    <tr>\n",
       "        <td style=\"padding-left: 1em; padding-right: 1em; text-align: center; vertical-align: top\">99999</td>\n",
       "        <td style=\"padding-left: 1em; padding-right: 1em; text-align: center; vertical-align: top\">572</td>\n",
       "        <td style=\"padding-left: 1em; padding-right: 1em; text-align: center; vertical-align: top\">5.0</td>\n",
       "        <td style=\"padding-left: 1em; padding-right: 1em; text-align: center; vertical-align: top\">5</td>\n",
       "        <td style=\"padding-left: 1em; padding-right: 1em; text-align: center; vertical-align: top\">Foreign Student (1994)</td>\n",
       "        <td style=\"padding-left: 1em; padding-right: 1em; text-align: center; vertical-align: top\">Drama</td>\n",
       "    </tr>\n",
       "    <tr>\n",
       "        <td style=\"padding-left: 1em; padding-right: 1em; text-align: center; vertical-align: top\">99999</td>\n",
       "        <td style=\"padding-left: 1em; padding-right: 1em; text-align: center; vertical-align: top\">989</td>\n",
       "        <td style=\"padding-left: 1em; padding-right: 1em; text-align: center; vertical-align: top\">5.0</td>\n",
       "        <td style=\"padding-left: 1em; padding-right: 1em; text-align: center; vertical-align: top\">6</td>\n",
       "        <td style=\"padding-left: 1em; padding-right: 1em; text-align: center; vertical-align: top\">Schlafes Bruder (Brother<br>of Sleep) (1995) ...</td>\n",
       "        <td style=\"padding-left: 1em; padding-right: 1em; text-align: center; vertical-align: top\">Drama</td>\n",
       "    </tr>\n",
       "    <tr>\n",
       "        <td style=\"padding-left: 1em; padding-right: 1em; text-align: center; vertical-align: top\">99999</td>\n",
       "        <td style=\"padding-left: 1em; padding-right: 1em; text-align: center; vertical-align: top\">3172</td>\n",
       "        <td style=\"padding-left: 1em; padding-right: 1em; text-align: center; vertical-align: top\">5.0</td>\n",
       "        <td style=\"padding-left: 1em; padding-right: 1em; text-align: center; vertical-align: top\">7</td>\n",
       "        <td style=\"padding-left: 1em; padding-right: 1em; text-align: center; vertical-align: top\">Ulysses (Ulisse) (1954)</td>\n",
       "        <td style=\"padding-left: 1em; padding-right: 1em; text-align: center; vertical-align: top\">Adventure</td>\n",
       "    </tr>\n",
       "    <tr>\n",
       "        <td style=\"padding-left: 1em; padding-right: 1em; text-align: center; vertical-align: top\">99999</td>\n",
       "        <td style=\"padding-left: 1em; padding-right: 1em; text-align: center; vertical-align: top\">3233</td>\n",
       "        <td style=\"padding-left: 1em; padding-right: 1em; text-align: center; vertical-align: top\">5.0</td>\n",
       "        <td style=\"padding-left: 1em; padding-right: 1em; text-align: center; vertical-align: top\">8</td>\n",
       "        <td style=\"padding-left: 1em; padding-right: 1em; text-align: center; vertical-align: top\">Smashing Time (1967)</td>\n",
       "        <td style=\"padding-left: 1em; padding-right: 1em; text-align: center; vertical-align: top\">Comedy</td>\n",
       "    </tr>\n",
       "    <tr>\n",
       "        <td style=\"padding-left: 1em; padding-right: 1em; text-align: center; vertical-align: top\">99999</td>\n",
       "        <td style=\"padding-left: 1em; padding-right: 1em; text-align: center; vertical-align: top\">787</td>\n",
       "        <td style=\"padding-left: 1em; padding-right: 1em; text-align: center; vertical-align: top\">5.0</td>\n",
       "        <td style=\"padding-left: 1em; padding-right: 1em; text-align: center; vertical-align: top\">9</td>\n",
       "        <td style=\"padding-left: 1em; padding-right: 1em; text-align: center; vertical-align: top\">Gate of Heavenly Peace,<br>The (1995) ...</td>\n",
       "        <td style=\"padding-left: 1em; padding-right: 1em; text-align: center; vertical-align: top\">Documentary</td>\n",
       "    </tr>\n",
       "    <tr>\n",
       "        <td style=\"padding-left: 1em; padding-right: 1em; text-align: center; vertical-align: top\">99999</td>\n",
       "        <td style=\"padding-left: 1em; padding-right: 1em; text-align: center; vertical-align: top\">3280</td>\n",
       "        <td style=\"padding-left: 1em; padding-right: 1em; text-align: center; vertical-align: top\">5.0</td>\n",
       "        <td style=\"padding-left: 1em; padding-right: 1em; text-align: center; vertical-align: top\">10</td>\n",
       "        <td style=\"padding-left: 1em; padding-right: 1em; text-align: center; vertical-align: top\">Baby, The (1973)</td>\n",
       "        <td style=\"padding-left: 1em; padding-right: 1em; text-align: center; vertical-align: top\">Horror</td>\n",
       "    </tr>\n",
       "</table>\n",
       "[10 rows x 6 columns]<br/>\n",
       "</div>"
      ],
      "text/plain": [
       "Columns:\n",
       "\tuser_id\tint\n",
       "\tmovie_id\tint\n",
       "\tscore\tfloat\n",
       "\trank\tint\n",
       "\ttitle\tstr\n",
       "\tgenre\tstr\n",
       "\n",
       "Rows: 10\n",
       "\n",
       "Data:\n",
       "+---------+----------+-------+------+-------------------------------+\n",
       "| user_id | movie_id | score | rank |             title             |\n",
       "+---------+----------+-------+------+-------------------------------+\n",
       "|  99999  |   3607   |  5.0  |  1   |    One Little Indian (1973)   |\n",
       "|  99999  |   1830   |  5.0  |  2   |    Follow the Bitch (1998)    |\n",
       "|  99999  |   3382   |  5.0  |  3   |     Song of Freedom (1936)    |\n",
       "|  99999  |   3656   |  5.0  |  4   |          Lured (1947)         |\n",
       "|  99999  |   572    |  5.0  |  5   |     Foreign Student (1994)    |\n",
       "|  99999  |   989    |  5.0  |  6   | Schlafes Bruder (Brother o... |\n",
       "|  99999  |   3172   |  5.0  |  7   |    Ulysses (Ulisse) (1954)    |\n",
       "|  99999  |   3233   |  5.0  |  8   |      Smashing Time (1967)     |\n",
       "|  99999  |   787    |  5.0  |  9   | Gate of Heavenly Peace, Th... |\n",
       "|  99999  |   3280   |  5.0  |  10  |        Baby, The (1973)       |\n",
       "+---------+----------+-------+------+-------------------------------+\n",
       "+----------------------+\n",
       "|        genre         |\n",
       "+----------------------+\n",
       "| Comedy|Drama|Western |\n",
       "|        Comedy        |\n",
       "|        Drama         |\n",
       "|        Crime         |\n",
       "|        Drama         |\n",
       "|        Drama         |\n",
       "|      Adventure       |\n",
       "|        Comedy        |\n",
       "|     Documentary      |\n",
       "|        Horror        |\n",
       "+----------------------+\n",
       "[10 rows x 6 columns]"
      ]
     },
     "execution_count": 82,
     "metadata": {},
     "output_type": "execute_result"
    }
   ],
   "source": [
    "m2.recommend(users=[99999], new_observation_data=recent_data).join(items, on='movie_id').sort('rank')"
   ]
  },
  {
   "cell_type": "markdown",
   "metadata": {},
   "source": [
    "### saving and loading models"
   ]
  },
  {
   "cell_type": "code",
   "execution_count": 83,
   "metadata": {
    "collapsed": true
   },
   "outputs": [],
   "source": [
    "m.save('my_model')"
   ]
  },
  {
   "cell_type": "code",
   "execution_count": 84,
   "metadata": {
    "collapsed": true
   },
   "outputs": [],
   "source": [
    "m_again = graphlab.load_model('my_model')"
   ]
  },
  {
   "cell_type": "code",
   "execution_count": 85,
   "metadata": {
    "collapsed": false
   },
   "outputs": [
    {
     "data": {
      "text/plain": [
       "Class                           : RankingFactorizationRecommender\n",
       "\n",
       "Schema\n",
       "------\n",
       "User ID                         : user_id\n",
       "Item ID                         : movie_id\n",
       "Target                          : rating\n",
       "Additional observation features : 3\n",
       "Number of user side features    : 0\n",
       "Number of item side features    : 0\n",
       "\n",
       "Statistics\n",
       "----------\n",
       "Number of observations          : 949852\n",
       "Number of users                 : 6040\n",
       "Number of items                 : 3701\n",
       "\n",
       "Training summary\n",
       "----------------\n",
       "Training time                   : 73.9068\n",
       "\n",
       "Model Parameters\n",
       "----------------\n",
       "Model class                     : RankingFactorizationRecommender\n",
       "num_factors                     : 32\n",
       "binary_target                   : 0\n",
       "side_data_factorization         : 1\n",
       "solver                          : auto\n",
       "nmf                             : 0\n",
       "max_iterations                  : 25\n",
       "\n",
       "Regularization Settings\n",
       "-----------------------\n",
       "regularization                  : 0.0\n",
       "regularization_type             : normal\n",
       "linear_regularization           : 0.0\n",
       "ranking_regularization          : 0.25\n",
       "unobserved_rating_value         : -1.79769313486e+308\n",
       "num_sampled_negative_examples   : 4\n",
       "ials_confidence_scaling_type    : auto\n",
       "ials_confidence_scaling_factor  : 1\n",
       "\n",
       "Optimization Settings\n",
       "---------------------\n",
       "init_random_sigma               : 0.01\n",
       "sgd_convergence_interval        : 4\n",
       "sgd_convergence_threshold       : 0.0\n",
       "sgd_max_trial_iterations        : 5\n",
       "sgd_sampling_block_size         : 131072\n",
       "sgd_step_adjustment_interval    : 4\n",
       "sgd_step_size                   : 0.0\n",
       "sgd_trial_sample_minimum_size   : 10000\n",
       "sgd_trial_sample_proportion     : 0.125\n",
       "step_size_decrease_rate         : 0.75\n",
       "additional_iterations_if_unhealthy: 5\n",
       "adagrad_momentum_weighting      : 0.9\n",
       "num_tempering_iterations        : 4\n",
       "tempering_regularization_start_value: 0.0\n",
       "track_exact_loss                : 0"
      ]
     },
     "execution_count": 85,
     "metadata": {},
     "output_type": "execute_result"
    }
   ],
   "source": [
    "m_again"
   ]
  },
  {
   "cell_type": "code",
   "execution_count": null,
   "metadata": {
    "collapsed": true
   },
   "outputs": [],
   "source": []
  }
 ],
 "metadata": {
  "kernelspec": {
   "display_name": "Python 2",
   "language": "python",
   "name": "python2"
  },
  "language_info": {
   "codemirror_mode": {
    "name": "ipython",
    "version": 2
   },
   "file_extension": ".py",
   "mimetype": "text/x-python",
   "name": "python",
   "nbconvert_exporter": "python",
   "pygments_lexer": "ipython2",
   "version": "2.7.11"
  }
 },
 "nbformat": 4,
 "nbformat_minor": 0
}
