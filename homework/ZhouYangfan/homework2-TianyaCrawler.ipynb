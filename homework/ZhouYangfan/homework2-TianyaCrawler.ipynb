{
 "cells": [
  {
   "cell_type": "markdown",
   "metadata": {},
   "source": [
    "# 1. 关键词为China的首页帖子信息抓取"
   ]
  },
  {
   "cell_type": "code",
   "execution_count": 19,
   "metadata": {
    "collapsed": true
   },
   "outputs": [],
   "source": [
    "import urllib2\n",
    "from bs4 import BeautifulSoup"
   ]
  },
  {
   "cell_type": "code",
   "execution_count": 20,
   "metadata": {
    "collapsed": false,
    "scrolled": true
   },
   "outputs": [
    {
     "data": {
      "text/html": [
       "<iframe src=http://bbs.tianya.cn/list.jsp?item=free&nextid=%d&order=8&k=C width=1000 height=500></iframe>"
      ],
      "text/plain": [
       "<IPython.core.display.HTML object>"
      ]
     },
     "execution_count": 20,
     "metadata": {},
     "output_type": "execute_result"
    }
   ],
   "source": [
    "from IPython.display import display_html, HTML\n",
    "HTML('<iframe src=http://bbs.tianya.cn/list.jsp?item=free&nextid=%d&order=8&k=C width=1000 height=500></iframe>')\n",
    "# the webpage we would like to crawl"
   ]
  },
  {
   "cell_type": "code",
   "execution_count": 26,
   "metadata": {
    "collapsed": true
   },
   "outputs": [],
   "source": [
    "page_num = 0\n",
    "url = \"http://bbs.tianya.cn/list.jsp?item=free&nextid=%d&order=8&k=China\" % page_num\n",
    "content = urllib2.urlopen(url).read() #获取网页的html文本\n",
    "soup = BeautifulSoup(content, \"lxml\") \n",
    "articles = soup.find_all('tr')"
   ]
  },
  {
   "cell_type": "code",
   "execution_count": 27,
   "metadata": {
    "collapsed": false
   },
   "outputs": [
    {
     "name": "stdout",
     "output_type": "stream",
     "text": [
      "<tr>\n",
      "<th scope=\"col\"> 标题</th>\n",
      "<th scope=\"col\">作者</th>\n",
      "<th scope=\"col\">点击</th>\n",
      "<th scope=\"col\">回复</th>\n",
      "<th scope=\"col\">发表时间</th>\n",
      "</tr>\n"
     ]
    }
   ],
   "source": [
    "print articles[0]"
   ]
  },
  {
   "cell_type": "code",
   "execution_count": 28,
   "metadata": {
    "collapsed": false
   },
   "outputs": [
    {
     "name": "stdout",
     "output_type": "stream",
     "text": [
      "<tr class=\"bg\">\n",
      "<td class=\"td-title \">\n",
      "<span class=\"face\" title=\"\">\n",
      "</span>\n",
      "<a href=\"/post-free-1628117-1.shtml\" target=\"_blank\">\r\n",
      "\t\t\t\t\t\t\t世界上命最苦的动物在哪里?right in China<span class=\"art-ico art-ico-3\" title=\"内有0张图片\"></span>\n",
      "</a>\n",
      "</td>\n",
      "<td><a class=\"author\" href=\"http://www.tianya.cn/25704344\" target=\"_blank\">红_土_地</a></td>\n",
      "<td>1033527</td>\n",
      "<td>39641</td>\n",
      "<td title=\"2009-07-20 15:40\">07-20 15:40</td>\n",
      "</tr>\n"
     ]
    }
   ],
   "source": [
    "print articles[1]"
   ]
  },
  {
   "cell_type": "code",
   "execution_count": 29,
   "metadata": {
    "collapsed": false
   },
   "outputs": [
    {
     "data": {
      "text/plain": [
       "50"
      ]
     },
     "execution_count": 29,
     "metadata": {},
     "output_type": "execute_result"
    }
   ],
   "source": [
    "len(articles[1:])"
   ]
  },
  {
   "cell_type": "code",
   "execution_count": 30,
   "metadata": {
    "collapsed": false
   },
   "outputs": [
    {
     "name": "stdout",
     "output_type": "stream",
     "text": [
      "红_土_地\n"
     ]
    }
   ],
   "source": [
    "td=articles[1].find_all('td')\n",
    "print td[1].text.strip()"
   ]
  },
  {
   "cell_type": "code",
   "execution_count": 31,
   "metadata": {
    "collapsed": false
   },
   "outputs": [
    {
     "name": "stdout",
     "output_type": "stream",
     "text": [
      "/post-free-1628117-1.shtml\n"
     ]
    }
   ],
   "source": [
    "print td[0].a['href']"
   ]
  },
  {
   "cell_type": "code",
   "execution_count": 32,
   "metadata": {
    "collapsed": false
   },
   "outputs": [],
   "source": [
    "records=[]\n",
    "for i in articles[1:]:\n",
    "    td=i.find_all('td')\n",
    "    title=td[0].text.strip()\n",
    "    title_url=td[0].a['href']\n",
    "    author=td[1].text\n",
    "    author_url=td[1].a['href']\n",
    "    views=td[2].text\n",
    "    replies=td[3].text\n",
    "    date=td[4]['title']\n",
    "    record=title+'\\t'+title_url+'\\t'+author+'\\t'+author_url+'\\t'+views+'\\t'+replies+'\\t'+date\n",
    "    records.append(record)"
   ]
  },
  {
   "cell_type": "code",
   "execution_count": 33,
   "metadata": {
    "collapsed": false
   },
   "outputs": [
    {
     "name": "stdout",
     "output_type": "stream",
     "text": [
      "有意思,存在感.Fishing Island of China,\t/post-free-3875742-1.shtml\t皮革马甲卡卡西\thttp://www.tianya.cn/85747745\t52276\t209\t2013-12-11 10:30\n"
     ]
    }
   ],
   "source": [
    "print records[3]"
   ]
  },
  {
   "cell_type": "code",
   "execution_count": 34,
   "metadata": {
    "collapsed": false
   },
   "outputs": [],
   "source": [
    "def crawler(page_num,file_name):\n",
    "    try:\n",
    "        #open the browser\n",
    "        url=\"http://bbs.tianya.cn/list.jsp?item=free&nextid=%d&order=8&k=China\" % page_num\n",
    "        content=urllib2.urlopen(url).read()\n",
    "        soup=BeautifulSoup(content,'lxml')\n",
    "        articles=soup.find_all('tr')\n",
    "        #write down info\n",
    "        for i in articles[1:]:\n",
    "            td=i.find_all('td')\n",
    "            title=td[0].text.strip()\n",
    "            title_url=td[0].a['href']\n",
    "            author=td[1].text\n",
    "            author_url=td[1].a['href']\n",
    "            views=td[2].text\n",
    "            replies=td[3].text\n",
    "            date=td[4]['title']\n",
    "            record = title + '\\t' + title_url+ '\\t' + author + '\\t'+ \\\n",
    "                        author_url + '\\t' + views+ '\\t'  + replies+ '\\t'+ date\n",
    "            with open(file_name,'a') as p: \n",
    "                        p.write(record.encode('utf-8')+\"\\n\") \n",
    "\n",
    "    except Exception, e:\n",
    "        print e\n",
    "        pass"
   ]
  },
  {
   "cell_type": "code",
   "execution_count": 36,
   "metadata": {
    "collapsed": false,
    "scrolled": true
   },
   "outputs": [
    {
     "name": "stdout",
     "output_type": "stream",
     "text": [
      "0\n",
      "1\n",
      "2\n",
      "3\n",
      "4\n",
      "5\n",
      "6\n",
      "7\n",
      "8\n",
      "9\n"
     ]
    }
   ],
   "source": [
    "for page_num in range(10):\n",
    "    print(page_num)\n",
    "    crawler(page_num, '/Users/apricot/Documents/github/cjc2016/data/China_tianya_bbs_threads_list.txt')"
   ]
  },
  {
   "cell_type": "code",
   "execution_count": 37,
   "metadata": {
    "collapsed": false,
    "scrolled": true
   },
   "outputs": [
    {
     "data": {
      "text/html": [
       "<div>\n",
       "<table border=\"1\" class=\"dataframe\">\n",
       "  <thead>\n",
       "    <tr style=\"text-align: right;\">\n",
       "      <th></th>\n",
       "      <th>0</th>\n",
       "      <th>1</th>\n",
       "      <th>2</th>\n",
       "      <th>3</th>\n",
       "      <th>4</th>\n",
       "      <th>5</th>\n",
       "      <th>6</th>\n",
       "    </tr>\n",
       "  </thead>\n",
       "  <tbody>\n",
       "    <tr>\n",
       "      <th>0</th>\n",
       "      <td>世界上命最苦的动物在哪里?right in China</td>\n",
       "      <td>/post-free-1628117-1.shtml</td>\n",
       "      <td>红_土_地</td>\n",
       "      <td>http://www.tianya.cn/25704344</td>\n",
       "      <td>1033527</td>\n",
       "      <td>39641</td>\n",
       "      <td>2009-07-20 15:40</td>\n",
       "    </tr>\n",
       "    <tr>\n",
       "      <th>1</th>\n",
       "      <td>Sorry, this is China</td>\n",
       "      <td>/post-free-2225344-1.shtml</td>\n",
       "      <td>愤怒的马马</td>\n",
       "      <td>http://www.tianya.cn/55030310</td>\n",
       "      <td>233673</td>\n",
       "      <td>1566</td>\n",
       "      <td>2011-07-27 05:56</td>\n",
       "    </tr>\n",
       "    <tr>\n",
       "      <th>2</th>\n",
       "      <td>中星九号升级,你还在用锅么?MD in china</td>\n",
       "      <td>/post-free-1778819-1.shtml</td>\n",
       "      <td>孤胆闯王</td>\n",
       "      <td>http://www.tianya.cn/18141673</td>\n",
       "      <td>88102</td>\n",
       "      <td>620</td>\n",
       "      <td>2010-01-04 14:47</td>\n",
       "    </tr>\n",
       "    <tr>\n",
       "      <th>3</th>\n",
       "      <td>有意思,存在感.Fishing Island of China,</td>\n",
       "      <td>/post-free-3875742-1.shtml</td>\n",
       "      <td>皮革马甲卡卡西</td>\n",
       "      <td>http://www.tianya.cn/85747745</td>\n",
       "      <td>52276</td>\n",
       "      <td>209</td>\n",
       "      <td>2013-12-11 10:30</td>\n",
       "    </tr>\n",
       "    <tr>\n",
       "      <th>4</th>\n",
       "      <td>再也受不了MSN上的桃心CHINA了,MSN疯了啊</td>\n",
       "      <td>/post-free-1194295-1.shtml</td>\n",
       "      <td>隐身兔子</td>\n",
       "      <td>http://www.tianya.cn/13211918</td>\n",
       "      <td>36723</td>\n",
       "      <td>545</td>\n",
       "      <td>2008-04-16 13:46</td>\n",
       "    </tr>\n",
       "    <tr>\n",
       "      <th>5</th>\n",
       "      <td>Created in China, 品牌也走原创风!(转载)</td>\n",
       "      <td>/post-free-2616637-1.shtml</td>\n",
       "      <td>早餐不能落下</td>\n",
       "      <td>http://www.tianya.cn/44681423</td>\n",
       "      <td>22961</td>\n",
       "      <td>57</td>\n",
       "      <td>2012-07-03 17:53</td>\n",
       "    </tr>\n",
       "    <tr>\n",
       "      <th>6</th>\n",
       "      <td>中国人境外嫖娼遭遇\"made in china \"之尴尬.</td>\n",
       "      <td>/post-free-281261-1.shtml</td>\n",
       "      <td>祸水-红颜</td>\n",
       "      <td>http://www.tianya.cn/2940596</td>\n",
       "      <td>10597</td>\n",
       "      <td>97</td>\n",
       "      <td>2005-05-02 08:22</td>\n",
       "    </tr>\n",
       "    <tr>\n",
       "      <th>7</th>\n",
       "      <td>法兰克福机场差点上错飞机,提醒:\"China airlines\"不是我们的...</td>\n",
       "      <td>/post-free-1709651-1.shtml</td>\n",
       "      <td>luckpig_</td>\n",
       "      <td>http://www.tianya.cn/1181442</td>\n",
       "      <td>9922</td>\n",
       "      <td>93</td>\n",
       "      <td>2009-10-13 19:57</td>\n",
       "    </tr>\n",
       "    <tr>\n",
       "      <th>8</th>\n",
       "      <td>农民第六次拯救CHINA</td>\n",
       "      <td>/post-free-1471952-1.shtml</td>\n",
       "      <td>tyyw</td>\n",
       "      <td>http://www.tianya.cn/7791433</td>\n",
       "      <td>8817</td>\n",
       "      <td>221</td>\n",
       "      <td>2008-12-06 14:51</td>\n",
       "    </tr>\n",
       "    <tr>\n",
       "      <th>9</th>\n",
       "      <td>怀念那些MADE IN CHINA的国货与潮人(转载)</td>\n",
       "      <td>/post-free-4128023-1.shtml</td>\n",
       "      <td>老苗辗</td>\n",
       "      <td>http://www.tianya.cn/73617372</td>\n",
       "      <td>8537</td>\n",
       "      <td>13</td>\n",
       "      <td>2014-02-14 20:30</td>\n",
       "    </tr>\n",
       "  </tbody>\n",
       "</table>\n",
       "</div>"
      ],
      "text/plain": [
       "                                          0                           1  \\\n",
       "0               世界上命最苦的动物在哪里?right in China  /post-free-1628117-1.shtml   \n",
       "1                      Sorry, this is China  /post-free-2225344-1.shtml   \n",
       "2                 中星九号升级,你还在用锅么?MD in china  /post-free-1778819-1.shtml   \n",
       "3          有意思,存在感.Fishing Island of China,  /post-free-3875742-1.shtml   \n",
       "4                 再也受不了MSN上的桃心CHINA了,MSN疯了啊  /post-free-1194295-1.shtml   \n",
       "5            Created in China, 品牌也走原创风!(转载)  /post-free-2616637-1.shtml   \n",
       "6             中国人境外嫖娼遭遇\"made in china \"之尴尬.   /post-free-281261-1.shtml   \n",
       "7  法兰克福机场差点上错飞机,提醒:\"China airlines\"不是我们的...  /post-free-1709651-1.shtml   \n",
       "8                              农民第六次拯救CHINA  /post-free-1471952-1.shtml   \n",
       "9               怀念那些MADE IN CHINA的国货与潮人(转载)  /post-free-4128023-1.shtml   \n",
       "\n",
       "          2                              3        4      5                 6  \n",
       "0     红_土_地  http://www.tianya.cn/25704344  1033527  39641  2009-07-20 15:40  \n",
       "1     愤怒的马马  http://www.tianya.cn/55030310   233673   1566  2011-07-27 05:56  \n",
       "2      孤胆闯王  http://www.tianya.cn/18141673    88102    620  2010-01-04 14:47  \n",
       "3   皮革马甲卡卡西  http://www.tianya.cn/85747745    52276    209  2013-12-11 10:30  \n",
       "4      隐身兔子  http://www.tianya.cn/13211918    36723    545  2008-04-16 13:46  \n",
       "5    早餐不能落下  http://www.tianya.cn/44681423    22961     57  2012-07-03 17:53  \n",
       "6     祸水-红颜   http://www.tianya.cn/2940596    10597     97  2005-05-02 08:22  \n",
       "7  luckpig_   http://www.tianya.cn/1181442     9922     93  2009-10-13 19:57  \n",
       "8      tyyw   http://www.tianya.cn/7791433     8817    221  2008-12-06 14:51  \n",
       "9       老苗辗  http://www.tianya.cn/73617372     8537     13  2014-02-14 20:30  "
      ]
     },
     "execution_count": 37,
     "metadata": {},
     "output_type": "execute_result"
    }
   ],
   "source": [
    "import pandas as pd\n",
    "\n",
    "df = pd.read_csv('/Users/apricot/Documents/github/cjc2016/data/China_tianya_bbs_threads_list.txt', sep = \"\\t\", header=None)\n",
    "df[:10]"
   ]
  },
  {
   "cell_type": "code",
   "execution_count": 38,
   "metadata": {
    "collapsed": false
   },
   "outputs": [
    {
     "data": {
      "text/plain": [
       "235"
      ]
     },
     "execution_count": 38,
     "metadata": {},
     "output_type": "execute_result"
    }
   ],
   "source": [
    "len(df)"
   ]
  },
  {
   "cell_type": "code",
   "execution_count": 39,
   "metadata": {
    "collapsed": false
   },
   "outputs": [
    {
     "data": {
      "text/html": [
       "<div>\n",
       "<table border=\"1\" class=\"dataframe\">\n",
       "  <thead>\n",
       "    <tr style=\"text-align: right;\">\n",
       "      <th></th>\n",
       "      <th>title</th>\n",
       "      <th>link</th>\n",
       "      <th>author</th>\n",
       "      <th>author_page</th>\n",
       "      <th>click</th>\n",
       "      <th>reply</th>\n",
       "      <th>time</th>\n",
       "    </tr>\n",
       "  </thead>\n",
       "  <tbody>\n",
       "    <tr>\n",
       "      <th>0</th>\n",
       "      <td>世界上命最苦的动物在哪里?right in China</td>\n",
       "      <td>/post-free-1628117-1.shtml</td>\n",
       "      <td>红_土_地</td>\n",
       "      <td>http://www.tianya.cn/25704344</td>\n",
       "      <td>1033527</td>\n",
       "      <td>39641</td>\n",
       "      <td>2009-07-20 15:40</td>\n",
       "    </tr>\n",
       "    <tr>\n",
       "      <th>1</th>\n",
       "      <td>Sorry, this is China</td>\n",
       "      <td>/post-free-2225344-1.shtml</td>\n",
       "      <td>愤怒的马马</td>\n",
       "      <td>http://www.tianya.cn/55030310</td>\n",
       "      <td>233673</td>\n",
       "      <td>1566</td>\n",
       "      <td>2011-07-27 05:56</td>\n",
       "    </tr>\n",
       "  </tbody>\n",
       "</table>\n",
       "</div>"
      ],
      "text/plain": [
       "                         title                        link author  \\\n",
       "0  世界上命最苦的动物在哪里?right in China  /post-free-1628117-1.shtml  红_土_地   \n",
       "1         Sorry, this is China  /post-free-2225344-1.shtml  愤怒的马马   \n",
       "\n",
       "                     author_page    click  reply              time  \n",
       "0  http://www.tianya.cn/25704344  1033527  39641  2009-07-20 15:40  \n",
       "1  http://www.tianya.cn/55030310   233673   1566  2011-07-27 05:56  "
      ]
     },
     "execution_count": 39,
     "metadata": {},
     "output_type": "execute_result"
    }
   ],
   "source": [
    "df=df.rename(columns = {0:'title', 1:'link', 2:'author',3:'author_page', 4:'click', 5:'reply', 6:'time'})\n",
    "df[:2]"
   ]
  },
  {
   "cell_type": "code",
   "execution_count": 40,
   "metadata": {
    "collapsed": false
   },
   "outputs": [
    {
     "data": {
      "text/plain": [
       "235"
      ]
     },
     "execution_count": 40,
     "metadata": {},
     "output_type": "execute_result"
    }
   ],
   "source": [
    "len(df.link)"
   ]
  },
  {
   "cell_type": "markdown",
   "metadata": {},
   "source": [
    "# 2.抓取作者信息"
   ]
  },
  {
   "cell_type": "code",
   "execution_count": 41,
   "metadata": {
    "collapsed": false
   },
   "outputs": [
    {
     "data": {
      "text/plain": [
       "0    http://www.tianya.cn/25704344\n",
       "1    http://www.tianya.cn/55030310\n",
       "2    http://www.tianya.cn/18141673\n",
       "3    http://www.tianya.cn/85747745\n",
       "4    http://www.tianya.cn/13211918\n",
       "Name: author_page, dtype: object"
      ]
     },
     "execution_count": 41,
     "metadata": {},
     "output_type": "execute_result"
    }
   ],
   "source": [
    "df.author_page[:5]"
   ]
  },
  {
   "cell_type": "code",
   "execution_count": 42,
   "metadata": {
    "collapsed": false
   },
   "outputs": [],
   "source": [
    "#user_info"
   ]
  },
  {
   "cell_type": "code",
   "execution_count": 43,
   "metadata": {
    "collapsed": false
   },
   "outputs": [],
   "source": [
    "def author_crawler(url, file_name):\n",
    "    try:\n",
    "        content = urllib2.urlopen(url).read() #获取网页的html文本\n",
    "        soup = BeautifulSoup(content, \"lxml\")\n",
    "        link_info = soup.find_all('div', {'class', 'link-box'})\n",
    "        followed_num, fans_num = [i.a.text for i in link_info]\n",
    "        try:\n",
    "            activity = soup.find_all('span', {'class', 'subtitle'})\n",
    "            post_num, reply_num = [j.text[2:] for i in activity[:1] for j in i('a')]\n",
    "        except:\n",
    "            post_num, reply_num = 1, 0\n",
    "        record =  '\\t'.join([url, followed_num, fans_num, post_num, reply_num])\n",
    "        with open(file_name,'a') as p: # '''Note'''：Ａppend mode, run only once!\n",
    "                    p.write(record.encode('utf-8')+\"\\n\") ##!!encode here to utf-8 to avoid encoding\n",
    "\n",
    "    except Exception, e:\n",
    "        print e, url\n",
    "        record =  '\\t'.join([url, 'na', 'na', 'na', 'na'])\n",
    "        with open(file_name,'a') as p: # '''Note'''：Ａppend mode, run only once!\n",
    "                    p.write(record.encode('utf-8')+\"\\n\") ##!!encode here to utf-8 to avoid encoding\n",
    "        pass"
   ]
  },
  {
   "cell_type": "code",
   "execution_count": 44,
   "metadata": {
    "collapsed": false
   },
   "outputs": [
    {
     "data": {
      "text/plain": [
       "[]"
      ]
     },
     "execution_count": 44,
     "metadata": {},
     "output_type": "execute_result"
    }
   ],
   "source": [
    "soup.find_all('span', {'class', 'subtitle'})"
   ]
  },
  {
   "cell_type": "code",
   "execution_count": 45,
   "metadata": {
    "collapsed": false
   },
   "outputs": [
    {
     "name": "stdout",
     "output_type": "stream",
     "text": [
      "0\n",
      "10\n",
      "20\n",
      "sequence item 3: expected string or Unicode, int found http://www.tianya.cn/17949496\n",
      "need more than 0 values to unpack http://www.tianya.cn/42119984\n",
      "30\n",
      "sequence item 3: expected string or Unicode, int found http://www.tianya.cn/15297017\n",
      "sequence item 3: expected string or Unicode, int found http://www.tianya.cn/12754916\n",
      "40\n",
      "sequence item 3: expected string or Unicode, int found http://www.tianya.cn/12754916\n",
      "50\n",
      "60\n",
      "70\n",
      "80\n",
      "need more than 0 values to unpack http://www.tianya.cn/105618297\n",
      "90\n",
      "sequence item 3: expected string or Unicode, int found http://www.tianya.cn/55256545\n",
      "100\n",
      "110\n",
      "120\n",
      "130\n",
      "140\n",
      "sequence item 3: expected string or Unicode, int found http://www.tianya.cn/3033951\n",
      "150\n",
      "160\n",
      "170\n",
      "sequence item 3: expected string or Unicode, int found http://www.tianya.cn/63571479\n",
      "sequence item 3: expected string or Unicode, int found http://www.tianya.cn/6205428\n",
      "180\n",
      "sequence item 3: expected string or Unicode, int found http://www.tianya.cn/14594494\n",
      "190\n",
      "200\n",
      "need more than 0 values to unpack http://www.tianya.cn/79804592\n",
      "need more than 0 values to unpack http://www.tianya.cn/82876722\n",
      "210\n",
      "sequence item 3: expected string or Unicode, int found http://www.tianya.cn/7118400\n",
      "220\n",
      "230\n"
     ]
    }
   ],
   "source": [
    "for k, url in enumerate(df.author_page):\n",
    "    if k % 10==0:\n",
    "        print k\n",
    "    author_crawler(url, '/Users/apricot/Documents/github/cjc2016/data/China_tianya_bbs_threads_list.txt') "
   ]
  },
  {
   "cell_type": "code",
   "execution_count": 46,
   "metadata": {
    "collapsed": true
   },
   "outputs": [],
   "source": [
    "url = df.author_page[1]\n",
    "content = urllib2.urlopen(url).read()\n",
    "soup1 = BeautifulSoup(content, \"lxml\") "
   ]
  },
  {
   "cell_type": "code",
   "execution_count": 47,
   "metadata": {
    "collapsed": false
   },
   "outputs": [
    {
     "ename": "TypeError",
     "evalue": "'NoneType' object is not callable",
     "output_type": "error",
     "traceback": [
      "\u001b[0;31m---------------------------------------------------------------------------\u001b[0m",
      "\u001b[0;31mTypeError\u001b[0m                                 Traceback (most recent call last)",
      "\u001b[0;32m<ipython-input-47-e1e0d25673b0>\u001b[0m in \u001b[0;36m<module>\u001b[0;34m()\u001b[0m\n\u001b[0;32m----> 1\u001b[0;31m \u001b[0muser_info\u001b[0m \u001b[0;34m=\u001b[0m \u001b[0msoup\u001b[0m\u001b[0;34m.\u001b[0m\u001b[0mfind\u001b[0m\u001b[0;34m(\u001b[0m\u001b[0;34m'div'\u001b[0m\u001b[0;34m,\u001b[0m  \u001b[0;34m{\u001b[0m\u001b[0;34m'class'\u001b[0m\u001b[0;34m,\u001b[0m \u001b[0;34m'userinfo'\u001b[0m\u001b[0;34m}\u001b[0m\u001b[0;34m)\u001b[0m\u001b[0;34m(\u001b[0m\u001b[0;34m'p'\u001b[0m\u001b[0;34m)\u001b[0m\u001b[0;34m\u001b[0m\u001b[0m\n\u001b[0m\u001b[1;32m      2\u001b[0m \u001b[0marea\u001b[0m\u001b[0;34m,\u001b[0m \u001b[0mnid\u001b[0m\u001b[0;34m,\u001b[0m \u001b[0mfreq_use\u001b[0m\u001b[0;34m,\u001b[0m \u001b[0mlast_login_time\u001b[0m\u001b[0;34m,\u001b[0m \u001b[0mreg_time\u001b[0m \u001b[0;34m=\u001b[0m \u001b[0;34m[\u001b[0m\u001b[0mi\u001b[0m\u001b[0;34m.\u001b[0m\u001b[0mget_text\u001b[0m\u001b[0;34m(\u001b[0m\u001b[0;34m)\u001b[0m\u001b[0;34m[\u001b[0m\u001b[0;36m4\u001b[0m\u001b[0;34m:\u001b[0m\u001b[0;34m]\u001b[0m \u001b[0;32mfor\u001b[0m \u001b[0mi\u001b[0m \u001b[0;32min\u001b[0m \u001b[0muser_info\u001b[0m\u001b[0;34m]\u001b[0m\u001b[0;34m\u001b[0m\u001b[0m\n\u001b[1;32m      3\u001b[0m \u001b[0;32mprint\u001b[0m \u001b[0marea\u001b[0m\u001b[0;34m,\u001b[0m \u001b[0mnid\u001b[0m\u001b[0;34m,\u001b[0m \u001b[0mfreq_use\u001b[0m\u001b[0;34m,\u001b[0m \u001b[0mlast_login_time\u001b[0m\u001b[0;34m,\u001b[0m \u001b[0mreg_time\u001b[0m\u001b[0;34m\u001b[0m\u001b[0m\n\u001b[1;32m      4\u001b[0m \u001b[0;34m\u001b[0m\u001b[0m\n\u001b[1;32m      5\u001b[0m \u001b[0mlink_info\u001b[0m \u001b[0;34m=\u001b[0m \u001b[0msoup1\u001b[0m\u001b[0;34m.\u001b[0m\u001b[0mfind_all\u001b[0m\u001b[0;34m(\u001b[0m\u001b[0;34m'div'\u001b[0m\u001b[0;34m,\u001b[0m \u001b[0;34m{\u001b[0m\u001b[0;34m'class'\u001b[0m\u001b[0;34m,\u001b[0m \u001b[0;34m'link-box'\u001b[0m\u001b[0;34m}\u001b[0m\u001b[0;34m)\u001b[0m\u001b[0;34m\u001b[0m\u001b[0m\n",
      "\u001b[0;31mTypeError\u001b[0m: 'NoneType' object is not callable"
     ]
    }
   ],
   "source": [
    "user_info = soup.find('div',  {'class', 'userinfo'})('p')\n",
    "area, nid, freq_use, last_login_time, reg_time = [i.get_text()[4:] for i in user_info]\n",
    "print area, nid, freq_use, last_login_time, reg_time \n",
    "\n",
    "link_info = soup1.find_all('div', {'class', 'link-box'})\n",
    "followed_num, fans_num = [i.a.text for i in link_info]\n",
    "print followed_num, fans_num"
   ]
  },
  {
   "cell_type": "code",
   "execution_count": 48,
   "metadata": {
    "collapsed": false
   },
   "outputs": [
    {
     "name": "stdout",
     "output_type": "stream",
     "text": [
      "4 7\n"
     ]
    }
   ],
   "source": [
    "activity = soup1.find_all('span', {'class', 'subtitle'})\n",
    "post_num, reply_num = [j.text[2:] for i in activity[:1] for j in i('a')]\n",
    "print post_num, reply_num"
   ]
  },
  {
   "cell_type": "code",
   "execution_count": 49,
   "metadata": {
    "collapsed": false
   },
   "outputs": [
    {
     "name": "stdout",
     "output_type": "stream",
     "text": [
      "<span class=\"subtitle\"><a href=\"http://www.tianya.cn/55030310/bbs?t=post\">主帖4</a>　<a href=\"http://www.tianya.cn/55030310/bbs?t=reply\">回帖7</a></span>\n"
     ]
    }
   ],
   "source": [
    "print activity[0]"
   ]
  },
  {
   "cell_type": "code",
   "execution_count": 50,
   "metadata": {
    "collapsed": false
   },
   "outputs": [
    {
     "ename": "ValueError",
     "evalue": "need more than 0 values to unpack",
     "output_type": "error",
     "traceback": [
      "\u001b[0;31m---------------------------------------------------------------------------\u001b[0m",
      "\u001b[0;31mValueError\u001b[0m                                Traceback (most recent call last)",
      "\u001b[0;32m<ipython-input-50-b411dbe13c30>\u001b[0m in \u001b[0;36m<module>\u001b[0;34m()\u001b[0m\n\u001b[1;32m      1\u001b[0m \u001b[0mlink_info\u001b[0m \u001b[0;34m=\u001b[0m \u001b[0msoup\u001b[0m\u001b[0;34m.\u001b[0m\u001b[0mfind_all\u001b[0m\u001b[0;34m(\u001b[0m\u001b[0;34m'div'\u001b[0m\u001b[0;34m,\u001b[0m \u001b[0;34m{\u001b[0m\u001b[0;34m'class'\u001b[0m\u001b[0;34m,\u001b[0m \u001b[0;34m'link-box'\u001b[0m\u001b[0;34m}\u001b[0m\u001b[0;34m)\u001b[0m\u001b[0;34m\u001b[0m\u001b[0m\n\u001b[0;32m----> 2\u001b[0;31m \u001b[0mfollowed_num\u001b[0m\u001b[0;34m,\u001b[0m \u001b[0mfans_num\u001b[0m \u001b[0;34m=\u001b[0m \u001b[0;34m[\u001b[0m\u001b[0mi\u001b[0m\u001b[0;34m.\u001b[0m\u001b[0ma\u001b[0m\u001b[0;34m.\u001b[0m\u001b[0mtext\u001b[0m \u001b[0;32mfor\u001b[0m \u001b[0mi\u001b[0m \u001b[0;32min\u001b[0m \u001b[0mlink_info\u001b[0m\u001b[0;34m]\u001b[0m\u001b[0;34m\u001b[0m\u001b[0m\n\u001b[0m\u001b[1;32m      3\u001b[0m \u001b[0;32mprint\u001b[0m \u001b[0mfollowed_num\u001b[0m\u001b[0;34m,\u001b[0m \u001b[0mfans_num\u001b[0m\u001b[0;34m\u001b[0m\u001b[0m\n",
      "\u001b[0;31mValueError\u001b[0m: need more than 0 values to unpack"
     ]
    }
   ],
   "source": [
    "link_info = soup.find_all('div', {'class', 'link-box'})\n",
    "followed_num, fans_num = [i.a.text for i in link_info]\n",
    "print followed_num, fans_num"
   ]
  },
  {
   "cell_type": "code",
   "execution_count": 51,
   "metadata": {
    "collapsed": false
   },
   "outputs": [
    {
     "ename": "IndexError",
     "evalue": "list index out of range",
     "output_type": "error",
     "traceback": [
      "\u001b[0;31m---------------------------------------------------------------------------\u001b[0m",
      "\u001b[0;31mIndexError\u001b[0m                                Traceback (most recent call last)",
      "\u001b[0;32m<ipython-input-51-c991d497ed0f>\u001b[0m in \u001b[0;36m<module>\u001b[0;34m()\u001b[0m\n\u001b[0;32m----> 1\u001b[0;31m \u001b[0mlink_info\u001b[0m\u001b[0;34m[\u001b[0m\u001b[0;36m5\u001b[0m\u001b[0;34m]\u001b[0m\u001b[0;34m.\u001b[0m\u001b[0ma\u001b[0m\u001b[0;34m.\u001b[0m\u001b[0mtext\u001b[0m\u001b[0;34m\u001b[0m\u001b[0m\n\u001b[0m",
      "\u001b[0;31mIndexError\u001b[0m: list index out of range"
     ]
    }
   ],
   "source": [
    "link_info[5].a.text"
   ]
  },
  {
   "cell_type": "code",
   "execution_count": 52,
   "metadata": {
    "collapsed": false
   },
   "outputs": [
    {
     "data": {
      "text/plain": [
       "'/post-free-1778819-1.shtml'"
      ]
     },
     "execution_count": 52,
     "metadata": {},
     "output_type": "execute_result"
    }
   ],
   "source": [
    "df.link[2]"
   ]
  },
  {
   "cell_type": "code",
   "execution_count": 53,
   "metadata": {
    "collapsed": false
   },
   "outputs": [
    {
     "data": {
      "text/plain": [
       "'http://bbs.tianya.cn/post-free-1778819-1.shtml'"
      ]
     },
     "execution_count": 53,
     "metadata": {},
     "output_type": "execute_result"
    }
   ],
   "source": [
    "url = 'http://bbs.tianya.cn' + df.link[2]\n",
    "url"
   ]
  },
  {
   "cell_type": "code",
   "execution_count": 54,
   "metadata": {
    "collapsed": false
   },
   "outputs": [
    {
     "data": {
      "text/html": [
       "<iframe src=http://bbs.tianya.cn/post-free-1778819-1.shtml width=1000 height=500></iframe>"
      ],
      "text/plain": [
       "<IPython.core.display.HTML object>"
      ]
     },
     "execution_count": 54,
     "metadata": {},
     "output_type": "execute_result"
    }
   ],
   "source": [
    "from IPython.display import display_html, HTML\n",
    "HTML('<iframe src=http://bbs.tianya.cn/post-free-1778819-1.shtml width=1000 height=500></iframe>')\n",
    "# the webpage we would like to crawl"
   ]
  },
  {
   "cell_type": "code",
   "execution_count": 57,
   "metadata": {
    "collapsed": true
   },
   "outputs": [],
   "source": [
    "post = urllib2.urlopen(url).read() #获取网页的html文本\n",
    "post_soup = BeautifulSoup(post, \"lxml\") \n",
    "#articles = soup.find_all('tr')"
   ]
  },
  {
   "cell_type": "code",
   "execution_count": 58,
   "metadata": {
    "collapsed": false
   },
   "outputs": [
    {
     "name": "stdout",
     "output_type": "stream",
     "text": [
      "<!DOCTYPE HTML>\n",
      "<html>\n",
      " <head>\n",
      "  <meta charset=\"utf-8\"/>\n",
      "  <title>\n",
      "   中星九号升级，你还在用锅么？MD in china_天涯杂谈_天涯论坛\n",
      "  </title>\n",
      "  <meta content=\"中星九号升级，你还在用锅么？MD in china记者昨天从主管部门得到证实，“中星9号”直播卫星终端将通过卫星传输方式，进行软件空中升级。届时，盗版直播卫星设备——即市场上购买的非法山寨“小锅盖”，将无法正常收看电视节目，直至完全黑屏。　　　　“中星9号”升级已经开始　　　　“中星9号”...\" name=\"description\"/>\n",
      "  <meta content=\"IE=EmulateIE9\" http-equiv=\"X-UA-Compatible\"/>\n",
      "  <meta content=\"孤胆闯王\" name=\"author\"/>\n",
      "  <meta content=\"format=xhtml; url=http://bbs.tianya.cn/m/post-free-1778819-1.shtml\" http-equiv=\"mobile-agent\"/>\n",
      "  <link href=\"http://static.tianyaui.com/global/ty/TY.css\" rel=\"stylesheet\" type=\"text/css\"/>\n",
      "  <link href=\"http://static.tianyaui.com/global/bbs/web/static/css/bbs_article_c55fffc.css\" rel=\"stylesheet\" type=\"text/css\"/>\n",
      "  <link href=\"http://static.tianyaui.com/favicon.ico\" rel=\"shortcut icon\" type=\"image/vnd.microsoft.icon\"/>\n",
      "  <link href=\"http://bbs.tianya.cn/post-free-1778819-2.shtml\" rel=\"next\"/>\n",
      "  <script type=\"text/javascript\">\n",
      "   var bbsGlobal = {\r\n",
      "\tisEhomeItem : false\n"
     ]
    }
   ],
   "source": [
    "print (post_soup.prettify())[:1000]"
   ]
  },
  {
   "cell_type": "code",
   "execution_count": 59,
   "metadata": {
    "collapsed": false
   },
   "outputs": [
    {
     "data": {
      "text/plain": [
       "99"
      ]
     },
     "execution_count": 59,
     "metadata": {},
     "output_type": "execute_result"
    }
   ],
   "source": [
    "pa = post_soup.find_all('div', {'class', 'atl-item'})\n",
    "len(pa)"
   ]
  },
  {
   "cell_type": "code",
   "execution_count": 60,
   "metadata": {
    "collapsed": false
   },
   "outputs": [
    {
     "name": "stdout",
     "output_type": "stream",
     "text": [
      "<div _host=\"%E5%AD%A4%E8%83%86%E9%97%AF%E7%8E%8B\" class=\"atl-item host-item\">\n",
      "<div class=\"atl-content\">\n",
      "<div class=\"atl-con-hd clearfix\">\n",
      "<div class=\"atl-con-hd-l\"></div>\n",
      "<div class=\"atl-con-hd-r\"></div>\n",
      "</div>\n",
      "<div class=\"atl-con-bd clearfix\">\n",
      "<div class=\"bbs-content clearfix\">\r\n",
      "\t\t\t\t\t\t\t记者昨天从主管部门得到证实，“中星9号”直播卫星终端将通过卫星传输方式，进行软件空中升级。届时，盗版直播卫星设备——即市场上购买的非法山寨“小锅盖”，将无法正常收看电视节目，直至完全黑屏。<br/>　　<br/>　　“中星9号”升级已经开始<br/>　　<br/>　　“中星9号”升级的消息已引起众网友热议。有网友反映，这两天已有升级迹象，从本月27日下午开始，正版机顶盒用户在开机后，电视屏幕陆续出现机顶盒自动升级的提示，升级过程大约历时3-10分钟。但是对于购买了山寨“小锅盖”的用户来说，由于没有正版序列号，无法完成自动升级工作。虽然目前山寨锅用户还能正常收看电视节目，但在明年元旦之后，山寨锅用户只能看到12套专为农牧民提供的节目，频道数量也会视情况逐渐减少，直至完全黑屏。记者注意到，有网友开始讨论如何为山寨“小锅盖”找到破译升级的方式。<br/>　　<br/>　　本人1号去买的锅，到目前为止用了四天，今天中午回去打开电视，发现只能收12个台了，以为是接收的问题，就打电话给卖锅的老板，老板说他那边也是这样，我还以为我被黑了，上班查了一下，才发现，我又被“和谐”了！<br/>　　<br/>　　TMD这啥玩意意思啊？我们这些外地人，没有户口又不让牵有线，你说好不容易买个锅装上吧！政府就来招了！还黑锅，难道买你们那玩意就不是黑锅啦！<br/>　　<br/>　　最后说一句：MD in china，又被和谐了···<br/>\n",
      "</div>\n",
      "<div class=\"clearfix\" id=\"alt_action\"></div>\n",
      "<div class=\"clearfix\">\n",
      "<div class=\"host-data\">\n",
      "<span>楼主发言：1次</span> <span>发图：0张</span>\n",
      "</div>\n",
      "<div class=\"atl-reply\" id=\"alt_reply\">\n",
      "<a author=\"孤胆闯王\" authorid=\"18141673\" class=\"reportme a-link\" href=\"javascript:void(0);\" replyid=\"0\" replytime=\"2010-01-04 14:47:00\"> 举报</a> | \r\n",
      "\t\t\t\t\t\t\t<a class=\"a-link acl-share\" href=\"javascript:void(0);\">分享</a> |  \r\n",
      "\t\t\t               \t<a class=\"a-link acl-more\" href=\"javascript:void(0);\">更多</a> |\r\n",
      "\t\t\t\t\t\t\t<span><a class=\"a-link\" name=\"0\">楼主</a></span>\n",
      "<a _name=\"孤胆闯王\" _time=\"2010-01-04 14:47:00\" class=\"a-link2 replytop\" href=\"#fabu_anchor\">回复</a>\n",
      "</div>\n",
      "</div>\n",
      "<div id=\"ds-quick-box\" style=\"display:none;\"></div>\n",
      "</div>\n",
      "<div class=\"atl-con-ft clearfix\">\n",
      "<div class=\"atl-con-ft-l\"></div>\n",
      "<div class=\"atl-con-ft-r\"></div>\n",
      "<div id=\"niuren_ifm\"></div>\n",
      "</div>\n",
      "</div>\n",
      "</div>\n"
     ]
    }
   ],
   "source": [
    "print pa[0]"
   ]
  },
  {
   "cell_type": "code",
   "execution_count": 61,
   "metadata": {
    "collapsed": false
   },
   "outputs": [
    {
     "name": "stdout",
     "output_type": "stream",
     "text": [
      "<div _host=\"qijiwode777\" class=\"atl-item\" id=\"1\" js_restime=\"2010-01-04 14:49:06\" js_username=\"qijiwode777\" replyid=\"62069882\">\n",
      "<div class=\"atl-head\" id=\"8f19e9b73ddcdd02c4769527afca6e9e\">\n",
      "<div class=\"atl-head-reply\"></div>\n",
      "<div class=\"atl-info\">\n",
      "<span>作者：<a class=\"js-vip-check\" href=\"http://www.tianya.cn/31940188\" target=\"_blank\" uid=\"31940188\" uname=\"qijiwode777\">qijiwode777</a> </span>\n",
      "<span>时间：2010-01-04 14:49:06</span>\n",
      "</div>\n",
      "</div>\n",
      "<div class=\"atl-content\">\n",
      "<div class=\"atl-con-hd clearfix\">\n",
      "<div class=\"atl-con-hd-l\"></div>\n",
      "<div class=\"atl-con-hd-r\"></div>\n",
      "</div>\n",
      "<div class=\"atl-con-bd clearfix\">\n",
      "<div class=\"bbs-content\">\r\n",
      "\t\t\t\t\t\t\t　　tongming a<br/>\n",
      "</div>\n",
      "<div class=\"atl-reply\">\n",
      "<a author=\"qijiwode777\" authorid=\"31940188\" class=\"reportme a-link\" href=\"javascript:void(0);\" replyid=\"62069882\" replytime=\"2010-01-04 14:49:06\">举报</a> |\r\n",
      "\t\t\t\t\t\t\t\t\t\t\t\t\t\t\r\n",
      "\t\t\t\t\t\t\t<span>1楼</span> |\r\n",
      "\t\t\t\t\t\t\t<a class=\"a-link-2 ir-shang\" floor=\"1\" href=\"javascript:void(0);\" title=\"打赏层主\">\r\n",
      "\t\t\t\t\t\t\t\t打赏\r\n",
      "\t\t\t\t\t\t\t</a> |\r\n",
      "\t\t\t\t\t\t\t<a class=\"a-link-2 reply\" href=\"#fabu_anchor\" title=\"引用回复\">回复</a> |\r\n",
      "\t\t\t\t\t\t\t<a _stat=\"/stat/bbs/post/评论\" class=\"a-link-2 ir-remark\" floor=\"1\" href=\"javascript:void(0);\" title=\"插入评论\">\r\n",
      "\t\t\t\t\t\t\t\t评论\r\n",
      "\t\t\t\t\t\t\t</a>\n",
      "</div>\n",
      "</div>\n",
      "<div class=\"atl-con-ft clearfix\">\n",
      "<div class=\"atl-con-ft-l\"></div>\n",
      "<div class=\"atl-con-ft-r\"></div>\n",
      "</div>\n",
      "</div>\n",
      "</div>\n"
     ]
    }
   ],
   "source": [
    "print pa[1]"
   ]
  },
  {
   "cell_type": "code",
   "execution_count": 62,
   "metadata": {
    "collapsed": false
   },
   "outputs": [
    {
     "name": "stdout",
     "output_type": "stream",
     "text": [
      "<div _host=\"%E5%8D%88_%E5%A4%9C_%E7%8B%82_%E5%A5%94\" class=\"atl-item\" id=\"100\" js_restime=\"2010-01-05 09:05:19\" js_username=\"%E5%8D%88_%E5%A4%9C_%E7%8B%82_%E5%A5%94\" replyid=\"62070233\">\n",
      "<div class=\"atl-head\" id=\"7ee8172f4ea625cd166bab648944666d\">\n",
      "<div class=\"atl-head-reply\"></div>\n",
      "<div class=\"atl-info\">\n",
      "<span>作者：<a class=\"js-vip-check\" href=\"http://www.tianya.cn/26731320\" target=\"_blank\" uid=\"26731320\" uname=\"午_夜_狂_奔\">午_夜_狂_奔</a> </span>\n",
      "<span>时间：2010-01-05 09:05:19</span>\n",
      "</div>\n",
      "</div>\n",
      "<div class=\"atl-content\">\n",
      "<div class=\"atl-con-hd clearfix\">\n",
      "<div class=\"atl-con-hd-l\"></div>\n",
      "<div class=\"atl-con-hd-r\"></div>\n",
      "</div>\n",
      "<div class=\"atl-con-bd clearfix\">\n",
      "<div class=\"bbs-content\">\r\n",
      "\t\t\t\t\t\t\t　　有没有高手能用非主流的方式给广电总局提提意见？？？？<br/>　　　　http://www.sarft.gov.cn/<br/>　　<br/>　　<br/>\n",
      "</div>\n",
      "<div class=\"atl-reply\">\n",
      "<a author=\"午_夜_狂_奔\" authorid=\"26731320\" class=\"reportme a-link\" href=\"javascript:void(0);\" replyid=\"62070233\" replytime=\"2010-01-05 09:05:19\">举报</a> |\r\n",
      "\t\t\t\t\t\t\t\t\t\t\t\t\t\t\r\n",
      "\t\t\t\t\t\t\t<span>100楼</span> |\r\n",
      "\t\t\t\t\t\t\t<a class=\"a-link-2 ir-shang\" floor=\"100\" href=\"javascript:void(0);\" title=\"打赏层主\">\r\n",
      "\t\t\t\t\t\t\t\t打赏\r\n",
      "\t\t\t\t\t\t\t</a> |\r\n",
      "\t\t\t\t\t\t\t<a class=\"a-link-2 reply\" href=\"#fabu_anchor\" title=\"引用回复\">回复</a> |\r\n",
      "\t\t\t\t\t\t\t<a _stat=\"/stat/bbs/post/评论\" class=\"a-link-2 ir-remark\" floor=\"100\" href=\"javascript:void(0);\" title=\"插入评论\">\r\n",
      "\t\t\t\t\t\t\t\t评论\r\n",
      "\t\t\t\t\t\t\t</a>\n",
      "</div>\n",
      "</div>\n",
      "<div class=\"atl-con-ft clearfix\">\n",
      "<div class=\"atl-con-ft-l\"></div>\n",
      "<div class=\"atl-con-ft-r\"></div>\n",
      "</div>\n",
      "</div>\n",
      "</div>\n"
     ]
    }
   ],
   "source": [
    "print pa[98]"
   ]
  },
  {
   "cell_type": "code",
   "execution_count": 63,
   "metadata": {
    "collapsed": false
   },
   "outputs": [
    {
     "name": "stdout",
     "output_type": "stream",
     "text": [
      "记者昨天从主管部门得到证实，“中星9号”直播卫星终端将通过卫星传输方式，进行软件空中升级。届时，盗版直播卫星设备——即市场上购买的非法山寨“小锅盖”，将无法正常收看电视节目，直至完全黑屏。　　　　“中星9号”升级已经开始　　　　“中星9号”升级的消息已引起众网友热议。有网友反映，这两天已有升级迹象，从本月27日下午开始，正版机顶盒用户在开机后，电视屏幕陆续出现机顶盒自动升级的提示，升级过程大约历时3-10分钟。但是对于购买了山寨“小锅盖”的用户来说，由于没有正版序列号，无法完成自动升级工作。虽然目前山寨锅用户还能正常收看电视节目，但在明年元旦之后，山寨锅用户只能看到12套专为农牧民提供的节目，频道数量也会视情况逐渐减少，直至完全黑屏。记者注意到，有网友开始讨论如何为山寨“小锅盖”找到破译升级的方式。　　　　本人1号去买的锅，到目前为止用了四天，今天中午回去打开电视，发现只能收12个台了，以为是接收的问题，就打电话给卖锅的老板，老板说他那边也是这样，我还以为我被黑了，上班查了一下，才发现，我又被“和谐”了！　　　　TMD这啥玩意意思啊？我们这些外地人，没有户口又不让牵有线，你说好不容易买个锅装上吧！政府就来招了！还黑锅，难道买你们那玩意就不是黑锅啦！　　　　最后说一句：MD in china，又被和谐了···\n"
     ]
    }
   ],
   "source": [
    "print pa[0].find('div', {'class', 'bbs-content'}).text.strip()"
   ]
  },
  {
   "cell_type": "code",
   "execution_count": 64,
   "metadata": {
    "collapsed": false
   },
   "outputs": [
    {
     "name": "stdout",
     "output_type": "stream",
     "text": [
      "有没有高手能用非主流的方式给广电总局提提意见？？？？　　　　http://www.sarft.gov.cn/\n"
     ]
    }
   ],
   "source": [
    "print pa[98].find('div', {'class', 'bbs-content'}).text.strip()"
   ]
  },
  {
   "cell_type": "code",
   "execution_count": 65,
   "metadata": {
    "collapsed": false
   },
   "outputs": [
    {
     "data": {
      "text/plain": [
       "<a class=\"js-vip-check\" href=\"http://www.tianya.cn/31940188\" target=\"_blank\" uid=\"31940188\" uname=\"qijiwode777\">qijiwode777</a>"
      ]
     },
     "execution_count": 65,
     "metadata": {},
     "output_type": "execute_result"
    }
   ],
   "source": [
    "pa[1].a"
   ]
  },
  {
   "cell_type": "code",
   "execution_count": 66,
   "metadata": {
    "collapsed": false
   },
   "outputs": [
    {
     "name": "stdout",
     "output_type": "stream",
     "text": [
      "<a author=\"孤胆闯王\" authorid=\"18141673\" class=\"reportme a-link\" href=\"javascript:void(0);\" replyid=\"0\" replytime=\"2010-01-04 14:47:00\"> 举报</a>\n"
     ]
    }
   ],
   "source": [
    "print pa[0].find('a', class_ = 'reportme a-link')"
   ]
  },
  {
   "cell_type": "code",
   "execution_count": 67,
   "metadata": {
    "collapsed": false
   },
   "outputs": [
    {
     "name": "stdout",
     "output_type": "stream",
     "text": [
      "2010-01-04 14:47:00\n"
     ]
    }
   ],
   "source": [
    "print pa[0].find('a', class_ = 'reportme a-link')['replytime']"
   ]
  },
  {
   "cell_type": "code",
   "execution_count": 68,
   "metadata": {
    "collapsed": false
   },
   "outputs": [
    {
     "name": "stdout",
     "output_type": "stream",
     "text": [
      "孤胆闯王\n"
     ]
    }
   ],
   "source": [
    "print pa[0].find('a', class_ = 'reportme a-link')['author']"
   ]
  },
  {
   "cell_type": "code",
   "execution_count": 69,
   "metadata": {
    "collapsed": false
   },
   "outputs": [
    {
     "name": "stdout",
     "output_type": "stream",
     "text": [
      "2010-01-04 14:47:00 ---> 18141673 ---> 孤胆闯王 ---> 记者昨天从主管部门得到证实，“中星9号”直播卫星终端将通过卫星传输方式，进行软件空中升级。届时，盗版直播卫星设备——即市场上购买的非法山寨“小锅盖”，将无法正常收看电视节目，直至完全黑屏。　　　　“中星9号”升级已经开始　　　　“中星9号”升级的消息已引起众网友热议。有网友反映，这两天已有升级迹象，从本月27日下午开始，正版机顶盒用户在开机后，电视屏幕陆续出现机顶盒自动升级的提示，升级过程大约历时3-10分钟。但是对于购买了山寨“小锅盖”的用户来说，由于没有正版序列号，无法完成自动升级工作。虽然目前山寨锅用户还能正常收看电视节目，但在明年元旦之后，山寨锅用户只能看到12套专为农牧民提供的节目，频道数量也会视情况逐渐减少，直至完全黑屏。记者注意到，有网友开始讨论如何为山寨“小锅盖”找到破译升级的方式。　　　　本人1号去买的锅，到目前为止用了四天，今天中午回去打开电视，发现只能收12个台了，以为是接收的问题，就打电话给卖锅的老板，老板说他那边也是这样，我还以为我被黑了，上班查了一下，才发现，我又被“和谐”了！　　　　TMD这啥玩意意思啊？我们这些外地人，没有户口又不让牵有线，你说好不容易买个锅装上吧！政府就来招了！还黑锅，难道买你们那玩意就不是黑锅啦！　　　　最后说一句：MD in china，又被和谐了··· \n",
      "\n",
      "2010-01-04 14:49:06 ---> 31940188 ---> qijiwode777 ---> tongming a \n",
      "\n",
      "2010-01-04 14:50:42 ---> 27286942 ---> 为人向善 ---> 苦啊！二百元一斤废铁！ \n",
      "\n",
      "2010-01-04 14:52:03 ---> 27286942 ---> 为人向善 ---> 苦啊！二百元一斤废铁！真不要脸！MD-in-china \n",
      "\n",
      "2010-01-04 15:28:29 ---> 13400928 ---> 中華一統 ---> 因为正腐是灰常关心每一个草头百姓的，不能让你们看反动的内容——包括中九上的。 \n",
      "\n",
      "2010-01-04 15:31:38 ---> 20371521 ---> 内像虎外像猫 ---> 今早起来打开锅盖发现只能收到央妖、央痴和几个蛮胡台了，真是晕！为什么总想着与民争利呢！可怜130元的锅盖变成了废片一块。 \n",
      "\n",
      "2010-01-04 15:32:50 ---> 26889845 ---> qiny123 ---> 广电局和强盗一样，与民争利， \n",
      "\n",
      "2010-01-04 15:35:51 ---> 30905254 ---> 比比谁的用户名长 ---> 和谐中国和谐百姓MD-in-china \n",
      "\n",
      "2010-01-04 15:43:43 ---> 25758633 ---> hlruziniu ---> 广大人民群众通过安装收看的仅仅是中央电视台和各省的卫视节目，不存在危及国家安全问题，特别是中星九号卫星，上面只能收看到咱们国家自己的节目，是一项实实在在、利国利民的大好事。 怎么也要禁止那。　　为了全国老百姓收看中国免费电视节目的权利，在此呼吁网友们坚决抵制有线电视，让我们团结起来讨回我们应有的权利。 \n",
      "\n",
      "2010-01-04 15:56:32 ---> 31754571 ---> 塑钢配件批发 ---> 中星6B   欢迎你 \n",
      "\n"
     ]
    }
   ],
   "source": [
    "for i in pa[:10]:\n",
    "    p_info = i.find('a', class_ = 'reportme a-link')\n",
    "    p_time = p_info['replytime']\n",
    "    p_author_id = p_info['authorid']\n",
    "    p_author_name = p_info['author']\n",
    "    p_content = i.find('div', {'class', 'bbs-content'}).text.strip()\n",
    "    p_content = p_content.replace('\\t', '')\n",
    "    print p_time, '--->', p_author_id, '--->', p_author_name,'--->', p_content, '\\n'"
   ]
  },
  {
   "cell_type": "code",
   "execution_count": 70,
   "metadata": {
    "collapsed": false
   },
   "outputs": [
    {
     "data": {
      "text/plain": [
       "<div class=\"atl-pages\"><form action=\"\" method=\"get\" onsubmit=\"return goPage(this,'free',1778819,7);\">\\n<span>\\u4e0a\\u9875</span>\\n<strong>1</strong>\\n<a href=\"/post-free-1778819-2.shtml\">2</a>\\n<a href=\"/post-free-1778819-3.shtml\">3</a>\\n<a href=\"/post-free-1778819-4.shtml\">4</a>\\n\\u2026\\n<a href=\"/post-free-1778819-7.shtml\">7</a>\\n<a class=\"js-keyboard-next\" href=\"/post-free-1778819-2.shtml\">\\u4e0b\\u9875</a>\\n\\xa0\\u5230<input class=\"pagetxt\" name=\"page\" type=\"text\"/>\\u9875\\xa0<input class=\"pagebtn\" maxlength=\"6\" name=\"gopage\" type=\"submit\" value=\"\\u786e\\u5b9a\"/></form></div>"
      ]
     },
     "execution_count": 70,
     "metadata": {},
     "output_type": "execute_result"
    }
   ],
   "source": [
    "post_soup.find('div', {'class', 'atl-pages'})#['onsubmit']"
   ]
  },
  {
   "cell_type": "code",
   "execution_count": 71,
   "metadata": {
    "collapsed": false
   },
   "outputs": [
    {
     "data": {
      "text/plain": [
       "'7'"
      ]
     },
     "execution_count": 71,
     "metadata": {},
     "output_type": "execute_result"
    }
   ],
   "source": [
    "post_pages = post_soup.find('div', {'class', 'atl-pages'})\n",
    "post_pages = post_pages.form['onsubmit'].split(',')[-1].split(')')[0]\n",
    "post_pages"
   ]
  },
  {
   "cell_type": "code",
   "execution_count": 72,
   "metadata": {
    "collapsed": false
   },
   "outputs": [
    {
     "data": {
      "text/plain": [
       "'http://bbs.tianya.cn/postfree1778819-%d.shtml'"
      ]
     },
     "execution_count": 72,
     "metadata": {},
     "output_type": "execute_result"
    }
   ],
   "source": [
    "url = 'http://bbs.tianya.cn' + df.link[2]\n",
    "url_base = ''.join(url.split('-')[:-1]) + '-%d.shtml'\n",
    "url_base"
   ]
  },
  {
   "cell_type": "code",
   "execution_count": 73,
   "metadata": {
    "collapsed": true
   },
   "outputs": [],
   "source": [
    "def parsePage(pa):\n",
    "    records = []\n",
    "    for i in pa:\n",
    "        p_info = i.find('a', class_ = 'reportme a-link')\n",
    "        p_time = p_info['replytime']\n",
    "        p_author_id = p_info['authorid']\n",
    "        p_author_name = p_info['author']\n",
    "        p_content = i.find('div', {'class', 'bbs-content'}).text.strip()\n",
    "        p_content = p_content.replace('\\t', '').replace('\\n', '')#.replace(' ', '')\n",
    "        record = p_time + '\\t' + p_author_id+ '\\t' + p_author_name + '\\t'+ p_content\n",
    "        records.append(record)\n",
    "    return records\n",
    "\n",
    "import sys\n",
    "def flushPrint(s):\n",
    "    sys.stdout.write('\\r')\n",
    "    sys.stdout.write('%s' % s)\n",
    "    sys.stdout.flush()"
   ]
  },
  {
   "cell_type": "code",
   "execution_count": 74,
   "metadata": {
    "collapsed": false
   },
   "outputs": [
    {
     "data": {
      "text/plain": [
       "<div class=\"atl-pages host-pages\"></div>"
      ]
     },
     "execution_count": 74,
     "metadata": {},
     "output_type": "execute_result"
    }
   ],
   "source": [
    "url_1 = 'http://bbs.tianya.cn' + df.link[10]\n",
    "content = urllib2.urlopen(url_1).read() #获取网页的html文本\n",
    "post_soup = BeautifulSoup(content, \"lxml\") \n",
    "pa = post_soup.find_all('div', {'class', 'atl-item'})\n",
    "b = post_soup.find('div', class_= 'atl-pages')\n",
    "b"
   ]
  },
  {
   "cell_type": "code",
   "execution_count": 75,
   "metadata": {
    "collapsed": false
   },
   "outputs": [
    {
     "data": {
      "text/plain": [
       "<div class=\"atl-pages\"><form action=\"\" method=\"get\" onsubmit=\"return goPage(this,'free',1628117,397);\">\\n<span>\\u4e0a\\u9875</span>\\n<strong>1</strong>\\n<a href=\"/post-free-1628117-2.shtml\">2</a>\\n<a href=\"/post-free-1628117-3.shtml\">3</a>\\n<a href=\"/post-free-1628117-4.shtml\">4</a>\\n\\u2026\\n<a href=\"/post-free-1628117-397.shtml\">397</a>\\n<a class=\"js-keyboard-next\" href=\"/post-free-1628117-2.shtml\">\\u4e0b\\u9875</a>\\n\\xa0\\u5230<input class=\"pagetxt\" name=\"page\" type=\"text\"/>\\u9875\\xa0<input class=\"pagebtn\" maxlength=\"6\" name=\"gopage\" type=\"submit\" value=\"\\u786e\\u5b9a\"/></form></div>"
      ]
     },
     "execution_count": 75,
     "metadata": {},
     "output_type": "execute_result"
    }
   ],
   "source": [
    "url_1 = 'http://bbs.tianya.cn' + df.link[0]\n",
    "content = urllib2.urlopen(url_1).read() #获取网页的html文本\n",
    "post_soup = BeautifulSoup(content, \"lxml\") \n",
    "pa = post_soup.find_all('div', {'class', 'atl-item'})\n",
    "a = post_soup.find('div', {'class', 'atl-pages'})\n",
    "a"
   ]
  },
  {
   "cell_type": "code",
   "execution_count": 76,
   "metadata": {
    "collapsed": false
   },
   "outputs": [
    {
     "data": {
      "text/plain": [
       "<form action=\"\" method=\"get\" onsubmit=\"return goPage(this,'free',1628117,397);\">\\n<span>\\u4e0a\\u9875</span>\\n<strong>1</strong>\\n<a href=\"/post-free-1628117-2.shtml\">2</a>\\n<a href=\"/post-free-1628117-3.shtml\">3</a>\\n<a href=\"/post-free-1628117-4.shtml\">4</a>\\n\\u2026\\n<a href=\"/post-free-1628117-397.shtml\">397</a>\\n<a class=\"js-keyboard-next\" href=\"/post-free-1628117-2.shtml\">\\u4e0b\\u9875</a>\\n\\xa0\\u5230<input class=\"pagetxt\" name=\"page\" type=\"text\"/>\\u9875\\xa0<input class=\"pagebtn\" maxlength=\"6\" name=\"gopage\" type=\"submit\" value=\"\\u786e\\u5b9a\"/></form>"
      ]
     },
     "execution_count": 76,
     "metadata": {},
     "output_type": "execute_result"
    }
   ],
   "source": [
    "a.form"
   ]
  },
  {
   "cell_type": "code",
   "execution_count": 77,
   "metadata": {
    "collapsed": false
   },
   "outputs": [
    {
     "name": "stdout",
     "output_type": "stream",
     "text": [
      "false\n"
     ]
    }
   ],
   "source": [
    "if b.form:\n",
    "    print 'true'\n",
    "else:\n",
    "    print 'false'"
   ]
  },
  {
   "cell_type": "code",
   "execution_count": 78,
   "metadata": {
    "collapsed": true
   },
   "outputs": [],
   "source": [
    "import random\n",
    "import time\n",
    "\n",
    "def crawler(url, file_name):\n",
    "    try:\n",
    "        # open the browser\n",
    "        url_1 = 'http://bbs.tianya.cn' + url\n",
    "        content = urllib2.urlopen(url_1).read() #获取网页的html文本\n",
    "        post_soup = BeautifulSoup(content, \"lxml\") \n",
    "        # how many pages in a post\n",
    "        post_form = post_soup.find('div', {'class', 'atl-pages'})\n",
    "        if post_form.form:\n",
    "            post_pages = post_form.form['onsubmit'].split(',')[-1].split(')')[0]\n",
    "            post_pages = int(post_pages)\n",
    "            url_base = '-'.join(url_1.split('-')[:-1]) + '-%d.shtml'\n",
    "        else:\n",
    "            post_pages = 1\n",
    "        # for the first page\n",
    "        pa = post_soup.find_all('div', {'class', 'atl-item'})\n",
    "        records = parsePage(pa)\n",
    "        with open(file_name,'a') as p: # '''Note'''：Ａppend mode, run only once!\n",
    "            for record in records:    \n",
    "                p.write('1'+ '\\t' + url + '\\t' + record.encode('utf-8')+\"\\n\") \n",
    "        # for the 2nd+ pages\n",
    "        if post_pages > 1:\n",
    "            for page_num in range(2, post_pages+1):\n",
    "                time.sleep(random.random())\n",
    "                flushPrint(page_num)\n",
    "                url2 =url_base  % page_num\n",
    "                content = urllib2.urlopen(url2).read() #获取网页的html文本\n",
    "                post_soup = BeautifulSoup(content, \"lxml\") \n",
    "                pa = post_soup.find_all('div', {'class', 'atl-item'})\n",
    "                records = parsePage(pa)\n",
    "                with open(file_name,'a') as p: # '''Note'''：Ａppend mode, run only once!\n",
    "                    for record in records:    \n",
    "                        p.write(str(page_num) + '\\t' +url + '\\t' + record.encode('utf-8')+\"\\n\") \n",
    "        else:\n",
    "            pass\n",
    "    except Exception, e:\n",
    "        print e\n",
    "        pass"
   ]
  },
  {
   "cell_type": "markdown",
   "metadata": {},
   "source": [
    "# 测试"
   ]
  },
  {
   "cell_type": "code",
   "execution_count": 83,
   "metadata": {
    "collapsed": false
   },
   "outputs": [
    {
     "name": "stdout",
     "output_type": "stream",
     "text": [
      "<urlopen error [Errno 8] nodename nor servname provided, or not known>\n"
     ]
    }
   ],
   "source": [
    "url = 'http://bbs.tianya.cn' + df.link[7]\n",
    "file_name = '/Users/apricot/documents/github/cjc2016/data/China_tianya_bbs_threads_test.txt'\n",
    "crawler(url, file_name)"
   ]
  },
  {
   "cell_type": "code",
   "execution_count": 84,
   "metadata": {
    "collapsed": false
   },
   "outputs": [
    {
     "name": "stdout",
     "output_type": "stream",
     "text": [
      "/post-free-1628117-1.shtmlThis it the post of : 0\n",
      "/post-free-724868-1.shtmlThis it the post of : 10\n",
      "/post-free-699295-1.shtmlThis it the post of : 20\n",
      "/post-free-320536-1.shtmlThis it the post of : 30\n",
      "/post-free-198786-1.shtmlThis it the post of : 40\n",
      "/post-free-1831103-1.shtmlThis it the post of : 50\n",
      "/post-free-333051-1.shtmlThis it the post of : 60\n",
      "/post-free-605321-1.shtmlThis it the post of : 70\n",
      "/post-free-1014598-1.shtmlThis it the post of : 80\n",
      "/post-free-1887153-1.shtmlThis it the post of : 90\n",
      "/post-free-2192293-1.shtmlThis it the post of : 100\n",
      "/post-free-891629-1.shtmlThis it the post of : 110\n",
      "/post-free-2227515-1.shtmlThis it the post of : 120\n",
      "/post-free-1224456-1.shtmlThis it the post of : 130\n",
      "/post-free-1601496-1.shtmlThis it the post of : 140\n",
      "/post-free-2321617-1.shtmlThis it the post of : 150\n",
      "/post-free-2678608-1.shtmlThis it the post of : 160\n",
      "/post-free-2381276-1.shtmlThis it the post of : 170\n",
      "/post-free-1063811-1.shtmlThis it the post of : 180\n",
      "/post-free-804951-1.shtmlThis it the post of : 190\n",
      "/post-free-3268455-1.shtmlThis it the post of : 200\n",
      "/post-free-5097109-1.shtmlThis it the post of : 210\n",
      "/post-free-4226399-1.shtmlThis it the post of : 220\n",
      "/post-free-4529762-1.shtmlThis it the post of : 230\n",
      "/post-free-350997-1.shtml"
     ]
    }
   ],
   "source": [
    "for k, link in enumerate(df.link):\n",
    "    flushPrint(link)\n",
    "    if k % 10== 0:\n",
    "        print 'This it the post of : ' + str(k)\n",
    "    file_name = '/Users/apricot/documents/github/cjc2016/data/China_tianya_bbs_threads_network.txt'\n",
    "    crawler(link, file_name)"
   ]
  },
  {
   "cell_type": "markdown",
   "metadata": {},
   "source": [
    "# 读取数据"
   ]
  },
  {
   "cell_type": "code",
   "execution_count": 85,
   "metadata": {
    "collapsed": false
   },
   "outputs": [
    {
     "data": {
      "text/plain": [
       "44749"
      ]
     },
     "execution_count": 85,
     "metadata": {},
     "output_type": "execute_result"
    }
   ],
   "source": [
    "dtt = []\n",
    "with open('/Users/apricot/documents/github/cjc2016/data/China_tianya_bbs_threads_network.txt', 'r') as f:\n",
    "    for line in f:\n",
    "        pnum, link, time, author_id, author, content = line.replace('\\n', '').split('\\t')\n",
    "        dtt.append([pnum, link, time, author_id, author, content])\n",
    "len(dtt)"
   ]
  },
  {
   "cell_type": "code",
   "execution_count": 86,
   "metadata": {
    "collapsed": false
   },
   "outputs": [
    {
     "data": {
      "text/html": [
       "<div>\n",
       "<table border=\"1\" class=\"dataframe\">\n",
       "  <thead>\n",
       "    <tr style=\"text-align: right;\">\n",
       "      <th></th>\n",
       "      <th>0</th>\n",
       "      <th>1</th>\n",
       "      <th>2</th>\n",
       "      <th>3</th>\n",
       "      <th>4</th>\n",
       "      <th>5</th>\n",
       "    </tr>\n",
       "  </thead>\n",
       "  <tbody>\n",
       "    <tr>\n",
       "      <th>0</th>\n",
       "      <td>1</td>\n",
       "      <td>/post-free-1628117-1.shtml</td>\n",
       "      <td>2009-07-20 15:40:00</td>\n",
       "      <td>25704344</td>\n",
       "      <td>红_土_地</td>\n",
       "      <td>中医理论的开山鼻祖《本草纲目》认为；“熊胆苦、寒、无毒。主治时气热盛、暑月久痢疳慝心痛；治一...</td>\n",
       "    </tr>\n",
       "    <tr>\n",
       "      <th>1</th>\n",
       "      <td>1</td>\n",
       "      <td>/post-free-1628117-1.shtml</td>\n",
       "      <td>2009-07-20 16:36:05</td>\n",
       "      <td>24540953</td>\n",
       "      <td>风流万户侯</td>\n",
       "      <td>熊的眼神...</td>\n",
       "    </tr>\n",
       "    <tr>\n",
       "      <th>2</th>\n",
       "      <td>1</td>\n",
       "      <td>/post-free-1628117-1.shtml</td>\n",
       "      <td>2009-07-20 16:42:12</td>\n",
       "      <td>19506250</td>\n",
       "      <td>缭绕的烟</td>\n",
       "      <td>可怜啊可怜啊，我忍不住想哭啊！　　　　求求放过可怜的黑熊吧！</td>\n",
       "    </tr>\n",
       "    <tr>\n",
       "      <th>3</th>\n",
       "      <td>1</td>\n",
       "      <td>/post-free-1628117-1.shtml</td>\n",
       "      <td>2009-07-20 16:56:35</td>\n",
       "      <td>19506250</td>\n",
       "      <td>缭绕的烟</td>\n",
       "      <td>我顶，我顶，我顶顶顶！</td>\n",
       "    </tr>\n",
       "    <tr>\n",
       "      <th>4</th>\n",
       "      <td>1</td>\n",
       "      <td>/post-free-1628117-1.shtml</td>\n",
       "      <td>2009-07-20 17:01:52</td>\n",
       "      <td>26138839</td>\n",
       "      <td>chenshuang0222</td>\n",
       "      <td>...............</td>\n",
       "    </tr>\n",
       "  </tbody>\n",
       "</table>\n",
       "</div>"
      ],
      "text/plain": [
       "   0                           1                    2         3  \\\n",
       "0  1  /post-free-1628117-1.shtml  2009-07-20 15:40:00  25704344   \n",
       "1  1  /post-free-1628117-1.shtml  2009-07-20 16:36:05  24540953   \n",
       "2  1  /post-free-1628117-1.shtml  2009-07-20 16:42:12  19506250   \n",
       "3  1  /post-free-1628117-1.shtml  2009-07-20 16:56:35  19506250   \n",
       "4  1  /post-free-1628117-1.shtml  2009-07-20 17:01:52  26138839   \n",
       "\n",
       "                4                                                  5  \n",
       "0           红_土_地  中医理论的开山鼻祖《本草纲目》认为；“熊胆苦、寒、无毒。主治时气热盛、暑月久痢疳慝心痛；治一...  \n",
       "1           风流万户侯                                            熊的眼神...  \n",
       "2            缭绕的烟                     可怜啊可怜啊，我忍不住想哭啊！　　　　求求放过可怜的黑熊吧！  \n",
       "3            缭绕的烟                                        我顶，我顶，我顶顶顶！  \n",
       "4  chenshuang0222                                    ...............  "
      ]
     },
     "execution_count": 86,
     "metadata": {},
     "output_type": "execute_result"
    }
   ],
   "source": [
    "dt = pd.DataFrame(dtt)\n",
    "dt[:5]"
   ]
  },
  {
   "cell_type": "code",
   "execution_count": 87,
   "metadata": {
    "collapsed": false
   },
   "outputs": [
    {
     "data": {
      "text/html": [
       "<div>\n",
       "<table border=\"1\" class=\"dataframe\">\n",
       "  <thead>\n",
       "    <tr style=\"text-align: right;\">\n",
       "      <th></th>\n",
       "      <th>page_num</th>\n",
       "      <th>link</th>\n",
       "      <th>time</th>\n",
       "      <th>author</th>\n",
       "      <th>author_name</th>\n",
       "      <th>reply</th>\n",
       "    </tr>\n",
       "  </thead>\n",
       "  <tbody>\n",
       "    <tr>\n",
       "      <th>0</th>\n",
       "      <td>1</td>\n",
       "      <td>/post-free-1628117-1.shtml</td>\n",
       "      <td>2009-07-20 15:40:00</td>\n",
       "      <td>25704344</td>\n",
       "      <td>红_土_地</td>\n",
       "      <td>中医理论的开山鼻祖《本草纲目》认为；“熊胆苦、寒、无毒。主治时气热盛、暑月久痢疳慝心痛；治一...</td>\n",
       "    </tr>\n",
       "    <tr>\n",
       "      <th>1</th>\n",
       "      <td>1</td>\n",
       "      <td>/post-free-1628117-1.shtml</td>\n",
       "      <td>2009-07-20 16:36:05</td>\n",
       "      <td>24540953</td>\n",
       "      <td>风流万户侯</td>\n",
       "      <td>熊的眼神...</td>\n",
       "    </tr>\n",
       "    <tr>\n",
       "      <th>2</th>\n",
       "      <td>1</td>\n",
       "      <td>/post-free-1628117-1.shtml</td>\n",
       "      <td>2009-07-20 16:42:12</td>\n",
       "      <td>19506250</td>\n",
       "      <td>缭绕的烟</td>\n",
       "      <td>可怜啊可怜啊，我忍不住想哭啊！　　　　求求放过可怜的黑熊吧！</td>\n",
       "    </tr>\n",
       "    <tr>\n",
       "      <th>3</th>\n",
       "      <td>1</td>\n",
       "      <td>/post-free-1628117-1.shtml</td>\n",
       "      <td>2009-07-20 16:56:35</td>\n",
       "      <td>19506250</td>\n",
       "      <td>缭绕的烟</td>\n",
       "      <td>我顶，我顶，我顶顶顶！</td>\n",
       "    </tr>\n",
       "    <tr>\n",
       "      <th>4</th>\n",
       "      <td>1</td>\n",
       "      <td>/post-free-1628117-1.shtml</td>\n",
       "      <td>2009-07-20 17:01:52</td>\n",
       "      <td>26138839</td>\n",
       "      <td>chenshuang0222</td>\n",
       "      <td>...............</td>\n",
       "    </tr>\n",
       "  </tbody>\n",
       "</table>\n",
       "</div>"
      ],
      "text/plain": [
       "  page_num                        link                 time    author  \\\n",
       "0        1  /post-free-1628117-1.shtml  2009-07-20 15:40:00  25704344   \n",
       "1        1  /post-free-1628117-1.shtml  2009-07-20 16:36:05  24540953   \n",
       "2        1  /post-free-1628117-1.shtml  2009-07-20 16:42:12  19506250   \n",
       "3        1  /post-free-1628117-1.shtml  2009-07-20 16:56:35  19506250   \n",
       "4        1  /post-free-1628117-1.shtml  2009-07-20 17:01:52  26138839   \n",
       "\n",
       "      author_name                                              reply  \n",
       "0           红_土_地  中医理论的开山鼻祖《本草纲目》认为；“熊胆苦、寒、无毒。主治时气热盛、暑月久痢疳慝心痛；治一...  \n",
       "1           风流万户侯                                            熊的眼神...  \n",
       "2            缭绕的烟                     可怜啊可怜啊，我忍不住想哭啊！　　　　求求放过可怜的黑熊吧！  \n",
       "3            缭绕的烟                                        我顶，我顶，我顶顶顶！  \n",
       "4  chenshuang0222                                    ...............  "
      ]
     },
     "execution_count": 87,
     "metadata": {},
     "output_type": "execute_result"
    }
   ],
   "source": [
    "dt=dt.rename(columns = {0:'page_num', 1:'link', 2:'time', 3:'author',4:'author_name', 5:'reply'})\n",
    "dt[:5]"
   ]
  },
  {
   "cell_type": "code",
   "execution_count": 88,
   "metadata": {
    "collapsed": false
   },
   "outputs": [
    {
     "data": {
      "text/plain": [
       "0     中医理论的开山鼻祖《本草纲目》认为；“熊胆苦、寒、无毒。主治时气热盛、暑月久痢疳慝心痛；治一...\n",
       "1                                               熊的眼神...\n",
       "2                        可怜啊可怜啊，我忍不住想哭啊！　　　　求求放过可怜的黑熊吧！\n",
       "3                                           我顶，我顶，我顶顶顶！\n",
       "4                                       ...............\n",
       "5                                                为中国人羞愧\n",
       "6     下面是国家林业局的局长信箱，请大家给他发电子邮件，呼吁取缔活熊取胆　　　　　　　　　　htt...\n",
       "7                        我以为你是指P民呢。。。　　不过来了还是顶下，可怜的动物。。\n",
       "8                                                     顶\n",
       "9                                      建议楼主多发点图片，用事实说话！\n",
       "10                                        个人觉得人得命比他还要苦！\n",
       "11                           顶一下，上次也看到这个事情了。社会现在很没人性。。。\n",
       "12                          大陆人残酷无情　　　　天下第一　　　　当然也不是所有人\n",
       "13    作者：samjill2008　回复日期：2009-07-20　17:11:32　   　　　...\n",
       "14                                             我为中国熊哭泣！\n",
       "15                                                    顶\n",
       "16    放弃熊胆　　　　　　一场期待三千年的救赎　　　　　　王培（北京动物保护者）　　　　　　11月...\n",
       "17    王培，曾是一家外企的白领，薪水丰厚。2003年辞职后在中国小动物保护协会从事动物救助工作。之...\n",
       "18    现在都流行杀人，杀动物算什么？　　　　人你不管，你却管动物来说明你有爱心　　　　可悲啊，人在...\n",
       "19                                                  人呢？\n",
       "20                      人还有法律保护,而这些可怜的动物呢,只有任人宰割,更加无助啊!\n",
       "21    现在，亚洲至少有 12,000 多头熊正遭受苦难。它们被囚禁在狭小铁笼里，生活条件极其恶劣。...\n",
       "22                                      楼主要多发点图片,用事实说话.\n",
       "23                顶上去　　　　　　　　至少我不会买熊胆制品　　　　　　然后再推广到周围的人\n",
       "24                                                 真的吗？\n",
       "25         一辈子的折磨和囚禁啊，直到死,就是因为觉得它们的担又用。　　人啊，你真残酷。。。。。。。\n",
       "26                          顶。　　　　中国政府为什么能容忍这种没人性的行业存在？\n",
       "27                                     那些病熊的胆液，对人没有害处吗？\n",
       "28    活取熊胆还有人关注　　但是普遍性更大更残忍的生扣鸭肠根本没人关注　　甚至于不少人还觉得“鲜”...\n",
       "29    作者：drakefir　回复日期：2009-07-20　19:15:09　   　　　　现在...\n",
       "                            ...                        \n",
       "70                                           为了苦难的月熊，再顶\n",
       "71                        对凌迟一种动物，中国人表现出的冷漠和麻木，真的让我很寒心。\n",
       "72                                     中国人做的这些事，自己都觉得可耻\n",
       "73               一个合法的企业，为什么没有任何统计数据？是不敢公布还是无法公布？无能的政府。\n",
       "74                                                  自己顶\n",
       "75                                                    顶\n",
       "76    作者：扩音器大喇叭　回复日期：2009-07-20　21:36:20　   　　　　　　　　...\n",
       "77    我们整天的埋怨世界对我们多么不公！回头看看自己的所做所为吧，中国人！！！只要还有一件这样的事...\n",
       "78    作者：离空启左一手合油　回复日期：2009-07-03　14:19:17　   　　　　有些...\n",
       "79    这些年来，为了所谓政府的颜面，林业部对外宣称我们会逐渐取缔“活熊取胆业”，对内实行鼓励政策，...\n",
       "80                                            可怜的黑熊啊。。。\n",
       "81                                         作为一个支那人，也愤怒了\n",
       "82                  林业局阴奉阳违，对外宣称逐步取缔，对内却大力发展，为什么不能敢作敢当？\n",
       "83    经中国砖家科学权威鉴定：楼上反对虐待动物的都Tama不是人养的，---即神仙（另名--神经病...\n",
       "84                                        我们能活在中国也就够苦的了\n",
       "85    这个帖子我决定一天至少顶一次　　这个帖子我决定一天至少顶一次　　这个帖子我决定一天至少顶一次...\n",
       "86                                          看了要哭的，好可怜啊！\n",
       "87                荤菜类，除了猪肉其他的我几乎都不吃，但现在我连猪肉也不想吃了.......\n",
       "88    熊胆真的有用吗?可能什么用都没有!　　　　　　人类真是自私!如果人类的健康是建立在熊的痛苦之...\n",
       "89                    小白鼠可是每个国家都有的，还有些国家把国民当小白鼠的，熊还不够班啊\n",
       "90          在这个国家做人苦，做动物也苦。动辄大规模的屠狗运动，除了中国，还有哪个国家有这等魄力？\n",
       "91              一帮神经，都TMD去吃素吧。　　那些鸡鸭鱼肉端上桌的时候没看你们说太残忍了嘛~\n",
       "92    作者：luxunde123　回复日期：2009-07-21　14:02:41　   　　　　...\n",
       "93                                     天道昭昭,逆天而行,必将受之惩罚\n",
       "94                                    跟别人过不去就是跟自己过不去。。。\n",
       "95    中医需要熊胆。　　不管中医是不是有效，是不是骗子。　　看着黑熊的可怜愤怒无奈的眼神，　　还是...\n",
       "96    作者：洞张喜望　回复日期：2009-07-21　13:41:10　   　　　　我们能活在中...\n",
       "97    作者：古崖风声　回复日期：2009-07-21　13:43:50　   　　　　这个帖子我决...\n",
       "98    作者：傻小子郭靖　回复日期：2009-07-21　14:01:55　   　　　　在这个国家...\n",
       "99                                                 ding\n",
       "Name: reply, dtype: object"
      ]
     },
     "execution_count": 88,
     "metadata": {},
     "output_type": "execute_result"
    }
   ],
   "source": [
    "dt.reply[:100]"
   ]
  },
  {
   "cell_type": "code",
   "execution_count": null,
   "metadata": {
    "collapsed": true
   },
   "outputs": [],
   "source": []
  }
 ],
 "metadata": {
  "kernelspec": {
   "display_name": "Python 2",
   "language": "python",
   "name": "python2"
  },
  "language_info": {
   "codemirror_mode": {
    "name": "ipython",
    "version": 2
   },
   "file_extension": ".py",
   "mimetype": "text/x-python",
   "name": "python",
   "nbconvert_exporter": "python",
   "pygments_lexer": "ipython2",
   "version": "2.7.11"
  }
 },
 "nbformat": 4,
 "nbformat_minor": 0
}
