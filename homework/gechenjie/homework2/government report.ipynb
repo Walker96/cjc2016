{
 "cells": [
  {
   "cell_type": "markdown",
   "metadata": {},
   "source": [
    "# 作业2\n",
    "# 抓取政府工作报告"
   ]
  },
  {
   "cell_type": "code",
   "execution_count": 1,
   "metadata": {
    "collapsed": true
   },
   "outputs": [],
   "source": [
    "import urllib2\n",
    "from bs4 import BeautifulSoup"
   ]
  },
  {
   "cell_type": "code",
   "execution_count": 2,
   "metadata": {
    "collapsed": false
   },
   "outputs": [
    {
     "data": {
      "text/html": [
       "<iframe src=http://www.hprc.org.cn/wxzl/wxysl/lczf/ width=1000 height=500></iframe>"
      ],
      "text/plain": [
       "<IPython.core.display.HTML object>"
      ]
     },
     "execution_count": 2,
     "metadata": {},
     "output_type": "execute_result"
    }
   ],
   "source": [
    "from IPython.display import display_html, HTML\n",
    "HTML('<iframe src=http://www.hprc.org.cn/wxzl/wxysl/lczf/ width=1000 height=500></iframe>')\n",
    "# the webpage we would like to crawl"
   ]
  },
  {
   "cell_type": "code",
   "execution_count": 3,
   "metadata": {
    "collapsed": false,
    "scrolled": true
   },
   "outputs": [
    {
     "data": {
      "text/plain": [
       "[<td class=\"bl\" width=\"274\">\\xb7\\xa0<a href=\"./d12qgrdzfbg/201603/t20160318_369509.html\" target=\"_blank\" title=\"2016\\u5e74\\u653f\\u5e9c\\u5de5\\u4f5c\\u62a5\\u544a\">2016\\u5e74\\u653f\\u5e9c\\u5de5\\u4f5c\\u62a5\\u544a</a></td>,\n",
       " <td class=\"bl\" width=\"274\">\\xb7\\xa0<a href=\"./d12qgrdzfbg/201503/t20150318_319434.html\" target=\"_blank\" title=\"2015\\u5e74\\u653f\\u5e9c\\u5de5\\u4f5c\\u62a5\\u544a\">2015\\u5e74\\u653f\\u5e9c\\u5de5\\u4f5c\\u62a5\\u544a</a></td>,\n",
       " <td class=\"bl\" width=\"274\">\\xb7\\xa0<a href=\"./d12qgrdzfbg/201403/t20140315_270863.html\" target=\"_blank\" title=\"2014\\u5e74\\u653f\\u5e9c\\u5de5\\u4f5c\\u62a5\\u544a\">2014\\u5e74\\u653f\\u5e9c\\u5de5\\u4f5c\\u62a5\\u544a</a></td>,\n",
       " <td class=\"bl\" width=\"274\">\\xb7\\xa0<a href=\"./d12qgrdzfbg/201402/t20140214_266528.html\" target=\"_blank\" title=\"2013\\u5e74\\u653f\\u5e9c\\u5de5\\u4f5c\\u62a5\\u544a\">2013\\u5e74\\u653f\\u5e9c\\u5de5\\u4f5c\\u62a5\\u544a</a></td>,\n",
       " <td class=\"bl\" width=\"274\">\\xb7\\xa0<a href=\"./dishiyijie/201402/t20140214_266527.html\" target=\"_blank\" title=\"2012\\u5e74\\u653f\\u5e9c\\u5de5\\u4f5c\\u62a5\\u544a\">2012\\u5e74\\u653f\\u5e9c\\u5de5\\u4f5c\\u62a5\\u544a</a></td>,\n",
       " <td class=\"bl\" width=\"274\">\\xb7\\xa0<a href=\"./dishiyijie/201103/t20110315_153641.html\" target=\"_blank\" title=\"2011\\u5e74\\u653f\\u5e9c\\u5de5\\u4f5c\\u62a5\\u544a\">2011\\u5e74\\u653f\\u5e9c\\u5de5\\u4f5c\\u62a5\\u544a</a></td>,\n",
       " <td class=\"bl\" width=\"274\">\\xb7\\xa0<a href=\"./dishiyijie/201003/t20100315_44772.html\" target=\"_blank\" title=\"2010\\u5e74\\u653f\\u5e9c\\u5de5\\u4f5c\\u62a5\\u544a\">2010\\u5e74\\u653f\\u5e9c\\u5de5\\u4f5c\\u62a5\\u544a</a></td>,\n",
       " <td class=\"bl\" width=\"274\">\\xb7\\xa0<a href=\"./dishiyijie/200908/t20090817_27504.html\" target=\"_blank\" title=\"2009\\u5e74\\u653f\\u5e9c\\u5de5\\u4f5c\\u62a5\\u544a\">2009\\u5e74\\u653f\\u5e9c\\u5de5\\u4f5c\\u62a5\\u544a</a></td>,\n",
       " <td class=\"bl\" width=\"274\">\\xb7\\xa0<a href=\"./dishiyijie/200908/t20090817_27495.html\" target=\"_blank\" title=\"2008\\u5e74\\u653f\\u5e9c\\u5de5\\u4f5c\\u62a5\\u544a\">2008\\u5e74\\u653f\\u5e9c\\u5de5\\u4f5c\\u62a5\\u544a</a></td>,\n",
       " <td class=\"bl\" width=\"274\">\\xb7\\xa0\\n                          <a href=\"./dishiyijie_1/200908/t20090818_27775.html\" target=\"_blank\" title=\"2007\\u653f\\u5e9c\\u5de5\\u4f5c\\u62a5\\u544a\">2007\\u653f\\u5e9c\\u5de5\\u4f5c\\u62a5\\u544a</a></td>,\n",
       " <td class=\"bl\" width=\"274\">\\xb7\\xa0\\n                          <a href=\"./dishiyijie_1/200908/t20090818_27765.html\" target=\"_blank\" title=\"2006\\u5e74\\u653f\\u5e9c\\u5de5\\u4f5c\\u62a5\\u544a\">2006\\u5e74\\u653f\\u5e9c\\u5de5\\u4f5c\\u62a5\\u544a</a></td>,\n",
       " <td class=\"bl\" width=\"274\">\\xb7\\xa0\\n                          <a href=\"./dishiyijie_1/200908/t20090818_27757.html\" target=\"_blank\" title=\"2005\\u5e74\\u653f\\u5e9c\\u5de5\\u4f5c\\u62a5\\u544a\">2005\\u5e74\\u653f\\u5e9c\\u5de5\\u4f5c\\u62a5\\u544a</a></td>,\n",
       " <td class=\"bl\" width=\"274\">\\xb7\\xa0\\n                          <a href=\"./dishiyijie_1/200908/t20090818_27756.html\" target=\"_blank\" title=\"2004\\u5e74\\u653f\\u5e9c\\u5de5\\u4f5c\\u62a5\\u544a\">2004\\u5e74\\u653f\\u5e9c\\u5de5\\u4f5c\\u62a5\\u544a</a></td>,\n",
       " <td class=\"bl\" width=\"274\">\\xb7\\xa0\\n                          <a href=\"./dishiyijie_1/200908/t20090818_27753.html\" target=\"_blank\" title=\"2003\\u5e74\\u653f\\u5e9c\\u5de5\\u4f5c\\u62a5\\u544a\">2003\\u5e74\\u653f\\u5e9c\\u5de5\\u4f5c\\u62a5\\u544a</a></td>,\n",
       " <td class=\"bl\" width=\"274\">\\xb7\\xa0\\n                          <a href=\"./dishiyijie_2/200908/t20090818_27744.html\" target=\"_blank\" title=\"2002\\u5e74\\u653f\\u5e9c\\u5de5\\u4f5c\\u62a5\\u544a\\u3000\\u3000\">2002\\u5e74\\u653f\\u5e9c\\u5de5\\u4f5c\\u62a5\\u544a\\u3000\\u3000</a></td>,\n",
       " <td class=\"bl\" width=\"274\">\\xb7\\xa0\\n                          <a href=\"./dishiyijie_2/200908/t20090818_27741.html\" target=\"_blank\" title=\"2001\\u5e74\\u653f\\u5e9c\\u5de5\\u4f5c\\u62a5\\u544a\">2001\\u5e74\\u653f\\u5e9c\\u5de5\\u4f5c\\u62a5\\u544a</a></td>,\n",
       " <td class=\"bl\" width=\"274\">\\xb7\\xa0\\n                          <a href=\"./dishiyijie_2/200908/t20090818_27738.html\" target=\"_blank\" title=\"2000\\u5e74\\u653f\\u5e9c\\u5de5\\u4f5c\\u62a5\\u544a\">2000\\u5e74\\u653f\\u5e9c\\u5de5\\u4f5c\\u62a5\\u544a</a></td>,\n",
       " <td class=\"bl\" width=\"274\">\\xb7\\xa0\\n                          <a href=\"./dishiyijie_2/200908/t20090818_27737.html\" target=\"_blank\" title=\"1999\\u5e74\\u653f\\u5e9c\\u5de5\\u4f5c\\u62a5\\u544a\">1999\\u5e74\\u653f\\u5e9c\\u5de5\\u4f5c\\u62a5\\u544a</a></td>,\n",
       " <td class=\"bl\" width=\"274\">\\xb7\\xa0\\n                          <a href=\"./dishiyijie_2/200908/t20090818_27736.html\" target=\"_blank\" title=\"1998\\u5e74\\u653f\\u5e9c\\u5de5\\u4f5c\\u62a5\\u544a\\u3000\">1998\\u5e74\\u653f\\u5e9c\\u5de5\\u4f5c\\u62a5\\u544a\\u3000</a></td>,\n",
       " <td class=\"bl\" width=\"274\">\\xb7\\xa0\\n                          <a href=\"./dishiyijie_3/200908/t20090818_27709.html\" target=\"_blank\" title=\"1997\\u5e74\\u653f\\u5e9c\\u5de5\\u4f5c\\u62a5\\u544a\">1997\\u5e74\\u653f\\u5e9c\\u5de5\\u4f5c\\u62a5\\u544a</a></td>,\n",
       " <td class=\"bl\" width=\"274\">\\xb7\\xa0\\n                          <a href=\"./dishiyijie_3/200908/t20090818_27708.html\" target=\"_blank\" title=\"1996\\u5e74\\u653f\\u5e9c\\u5de5\\u4f5c\\u62a5\\u544a\">1996\\u5e74\\u653f\\u5e9c\\u5de5\\u4f5c\\u62a5\\u544a</a></td>,\n",
       " <td class=\"bl\" width=\"274\">\\xb7\\xa0\\n                          <a href=\"./dishiyijie_3/200908/t20090818_27707.html\" target=\"_blank\" title=\"1995\\u5e74\\u653f\\u5e9c\\u5de5\\u4f5c\\u62a5\\u544a\">1995\\u5e74\\u653f\\u5e9c\\u5de5\\u4f5c\\u62a5\\u544a</a></td>,\n",
       " <td class=\"bl\" width=\"274\">\\xb7\\xa0\\n                          <a href=\"./dishiyijie_3/200908/t20090818_27706.html\" target=\"_blank\" title=\"1994\\u5e74\\u653f\\u5e9c\\u5de5\\u4f5c\\u62a5\\u544a\">1994\\u5e74\\u653f\\u5e9c\\u5de5\\u4f5c\\u62a5\\u544a</a></td>,\n",
       " <td class=\"bl\" width=\"274\">\\xb7\\xa0\\n                          <a href=\"./dishiyijie_3/200908/t20090818_27705.html\" target=\"_blank\" title=\"1993\\u5e74\\u653f\\u5e9c\\u5de5\\u4f5c\\u62a5\\u544a\">1993\\u5e74\\u653f\\u5e9c\\u5de5\\u4f5c\\u62a5\\u544a</a></td>,\n",
       " <td class=\"bl\" width=\"274\">\\xb7\\xa0\\n                          <a href=\"./dishiyijie_4/200908/t20090818_27702.html\" target=\"_blank\" title=\"1992\\u5e74\\u653f\\u5e9c\\u5de5\\u4f5c\\u62a5\\u544a\\u3000\\u3000\">1992\\u5e74\\u653f\\u5e9c\\u5de5\\u4f5c\\u62a5\\u544a\\u3000\\u3000</a></td>,\n",
       " <td class=\"bl\" width=\"274\">\\xb7\\xa0\\n                          <a href=\"./dishiyijie_4/200908/t20090818_27700.html\" target=\"_blank\" title=\"1991\\u5e74\\u653f\\u5e9c\\u5de5\\u4f5c\\u62a5\\u544a\">1991\\u5e74\\u653f\\u5e9c\\u5de5\\u4f5c\\u62a5\\u544a</a></td>,\n",
       " <td class=\"bl\" width=\"274\">\\xb7\\xa0\\n                          <a href=\"./dishiyijie_4/200908/t20090818_27699.html\" target=\"_blank\" title=\"1990\\u5e74\\u653f\\u5e9c\\u5de5\\u4f5c\\u62a5\\u544a\">1990\\u5e74\\u653f\\u5e9c\\u5de5\\u4f5c\\u62a5\\u544a</a></td>,\n",
       " <td class=\"bl\" width=\"274\">\\xb7\\xa0\\n                          <a href=\"./dishiyijie_4/200908/t20090818_27678.html\" target=\"_blank\" title=\"1989\\u5e74\\u653f\\u5e9c\\u5de5\\u4f5c\\u62a5\\u544a\">1989\\u5e74\\u653f\\u5e9c\\u5de5\\u4f5c\\u62a5\\u544a</a></td>,\n",
       " <td class=\"bl\" width=\"274\">\\xb7\\xa0\\n                          <a href=\"./dishiyijie_4/200908/t20090818_27644.html\" target=\"_blank\" title=\"1988\\u5e74\\u653f\\u5e9c\\u5de5\\u4f5c\\u62a5\\u544a\">1988\\u5e74\\u653f\\u5e9c\\u5de5\\u4f5c\\u62a5\\u544a</a></td>,\n",
       " <td class=\"bl\" width=\"274\">\\xb7\\xa0\\n                          <a href=\"./dishiyijie_5/200908/t20090818_27642.html\" target=\"_blank\" title=\"1987\\u5e74\\u653f\\u5e9c\\u5de5\\u4f5c\\u62a5\\u544a\">1987\\u5e74\\u653f\\u5e9c\\u5de5\\u4f5c\\u62a5\\u544a</a></td>,\n",
       " <td class=\"bl\" width=\"274\">\\xb7\\xa0\\n                          <a href=\"./dishiyijie_5/200908/t20090818_27640.html\" target=\"_blank\" title=\"1986\\u5e74\\u653f\\u5e9c\\u5de5\\u4f5c\\u62a5\\u544a\">1986\\u5e74\\u653f\\u5e9c\\u5de5\\u4f5c\\u62a5\\u544a</a></td>,\n",
       " <td class=\"bl\" width=\"274\">\\xb7\\xa0\\n                          <a href=\"./dishiyijie_5/200908/t20090818_27616.html\" target=\"_blank\" title=\"1985\\u5e74\\u653f\\u5e9c\\u5de5\\u4f5c\\u62a5\\u544a\">1985\\u5e74\\u653f\\u5e9c\\u5de5\\u4f5c\\u62a5\\u544a</a></td>,\n",
       " <td class=\"bl\" width=\"274\">\\xb7\\xa0\\n                          <a href=\"./dishiyijie_5/200908/t20090818_27615.html\" target=\"_blank\" title=\"1984\\u5e74\\u653f\\u5e9c\\u5de5\\u4f5c\\u62a5\\u544a\">1984\\u5e74\\u653f\\u5e9c\\u5de5\\u4f5c\\u62a5\\u544a</a></td>,\n",
       " <td class=\"bl\" width=\"274\">\\xb7\\xa0\\n                          <a href=\"./dishiyijie_5/200908/t20090818_27614.html\" target=\"_blank\" title=\"1983\\u5e74\\u653f\\u5e9c\\u5de5\\u4f5c\\u62a5\\u544a\">1983\\u5e74\\u653f\\u5e9c\\u5de5\\u4f5c\\u62a5\\u544a</a></td>,\n",
       " <td class=\"bl\" width=\"274\">\\xb7\\xa0\\n                          <a href=\"./dishiyijie_6/200908/t20090818_27613.html\" target=\"_blank\" title=\"1982\\u5e74\\u653f\\u5e9c\\u5de5\\u4f5c\\u62a5\\u544a\">1982\\u5e74\\u653f\\u5e9c\\u5de5\\u4f5c\\u62a5\\u544a</a></td>,\n",
       " <td class=\"bl\" width=\"274\">\\xb7\\xa0\\n                          <a href=\"./dishiyijie_6/200908/t20090818_27612.html\" target=\"_blank\" title=\"1981\\u5e74\\u653f\\u5e9c\\u5de5\\u4f5c\\u62a5\\u544a\">1981\\u5e74\\u653f\\u5e9c\\u5de5\\u4f5c\\u62a5\\u544a</a></td>,\n",
       " <td class=\"bl\" width=\"274\">\\xb7\\xa0\\n                          <a href=\"./dishiyijie_6/200908/t20090818_27611.html\" target=\"_blank\" title=\"1980\\u5e74\\u653f\\u5e9c\\u5de5\\u4f5c\\u62a5\\u544a\">1980\\u5e74\\u653f\\u5e9c\\u5de5\\u4f5c\\u62a5\\u544a</a></td>,\n",
       " <td class=\"bl\" width=\"274\">\\xb7\\xa0\\n                          <a href=\"./dishiyijie_6/200908/t20090818_27567.html\" target=\"_blank\" title=\"1979\\u5e74\\u653f\\u5e9c\\u5de5\\u4f5c\\u62a5\\u544a\">1979\\u5e74\\u653f\\u5e9c\\u5de5\\u4f5c\\u62a5\\u544a</a></td>,\n",
       " <td class=\"bl\" width=\"274\">\\xb7\\xa0\\n                          <a href=\"./dishiyijie_6/200908/t20090818_27566.html\" target=\"_blank\" title=\"1978\\u5e74\\u653f\\u5e9c\\u5de5\\u4f5c\\u62a5\\u544a\">1978\\u5e74\\u653f\\u5e9c\\u5de5\\u4f5c\\u62a5\\u544a</a></td>,\n",
       " <td class=\"bl\" width=\"274\">\\xb7\\xa0\\n                          <a href=\"./dishiyijie_7/200908/t20090818_27565.html\" target=\"_blank\" title=\"1975\\u5e74\\u653f\\u5e9c\\u5de5\\u4f5c\\u62a5\\u544a\">1975\\u5e74\\u653f\\u5e9c\\u5de5\\u4f5c\\u62a5\\u544a</a></td>,\n",
       " <td class=\"bl\" width=\"274\">\\xb7\\xa0\\n                          <a href=\"./dishiyijie_8/200908/t20090818_27564.html\" target=\"_blank\" title=\"1964\\u5e74\\u653f\\u5e9c\\u5de5\\u4f5c\\u62a5\\u544a\\uff08\\u6458\\u8981\\uff09\">1964\\u5e74\\u653f\\u5e9c\\u5de5\\u4f5c\\u62a5\\u544a\\uff08\\u6458\\u8981\\uff09</a></td>,\n",
       " <td class=\"bl\" width=\"274\">\\xb7\\xa0\\n                          <a href=\"./dishiyijie_9/200908/t20090818_27562.html\" target=\"_blank\" title=\"1959\\u5e74\\u653f\\u5e9c\\u5de5\\u4f5c\\u62a5\\u544a\">1959\\u5e74\\u653f\\u5e9c\\u5de5\\u4f5c\\u62a5\\u544a</a></td>,\n",
       " <td class=\"bl\" width=\"274\">\\xb7\\xa0\\n                          <a href=\"./dishiyijie_9/200908/t20090818_27563.html\" target=\"_blank\" title=\"1960\\u5e74\\u653f\\u5e9c\\u5de5\\u4f5c\\u62a5\\u544a\">1960\\u5e74\\u653f\\u5e9c\\u5de5\\u4f5c\\u62a5\\u544a</a></td>,\n",
       " <td class=\"bl\" width=\"274\">\\xb7\\xa0\\n                          <a href=\"./dishiyijie_10/200908/t20090818_27561.html\" target=\"_blank\" title=\"1957\\u5e74\\u653f\\u5e9c\\u5de5\\u4f5c\\u62a5\\u544a\">1957\\u5e74\\u653f\\u5e9c\\u5de5\\u4f5c\\u62a5\\u544a</a></td>,\n",
       " <td class=\"bl\" width=\"274\">\\xb7\\xa0\\n                          <a href=\"./dishiyijie_10/200908/t20090818_27560.html\" target=\"_blank\" title=\"1956\\u5e74\\u653f\\u5e9c\\u5de5\\u4f5c\\u62a5\\u544a\">1956\\u5e74\\u653f\\u5e9c\\u5de5\\u4f5c\\u62a5\\u544a</a></td>,\n",
       " <td class=\"bl\" width=\"274\">\\xb7\\xa0\\n                          <a href=\"./dishiyijie_10/200908/t20090818_27559.html\" target=\"_blank\" title=\"1955\\u5e74\\u653f\\u5e9c\\u5de5\\u4f5c\\u62a5\\u544a\">1955\\u5e74\\u653f\\u5e9c\\u5de5\\u4f5c\\u62a5\\u544a</a></td>,\n",
       " <td class=\"bl\" width=\"274\">\\xb7\\xa0\\n                          <a href=\"./dishiyijie_10/200908/t20090818_27558.html\" target=\"_blank\" title=\"1954\\u5e74\\u653f\\u5e9c\\u5de5\\u4f5c\\u62a5\\u544a\">1954\\u5e74\\u653f\\u5e9c\\u5de5\\u4f5c\\u62a5\\u544a</a></td>]"
      ]
     },
     "execution_count": 3,
     "metadata": {},
     "output_type": "execute_result"
    }
   ],
   "source": [
    "# get the link for each year\n",
    "url = \"http://www.hprc.org.cn/wxzl/wxysl/lczf/\" \n",
    "content = urllib2.urlopen(url).read().decode('gb18030') \n",
    "soup = BeautifulSoup(content, 'html.parser') \n",
    "links = soup.select('.bl')\n",
    "#links = soup.find_all('td', {'class', 'bl'})\n",
    "links"
   ]
  },
  {
   "cell_type": "code",
   "execution_count": 4,
   "metadata": {
    "collapsed": false
   },
   "outputs": [
    {
     "name": "stdout",
     "output_type": "stream",
     "text": [
      "47\n"
     ]
    }
   ],
   "source": [
    "print len(links)"
   ]
  },
  {
   "cell_type": "code",
   "execution_count": 5,
   "metadata": {
    "collapsed": false
   },
   "outputs": [
    {
     "name": "stdout",
     "output_type": "stream",
     "text": [
      "<td class=\"bl\" width=\"274\">· <a href=\"./d12qgrdzfbg/201603/t20160318_369509.html\" target=\"_blank\" title=\"2016年政府工作报告\">2016年政府工作报告</a></td>\n"
     ]
    }
   ],
   "source": [
    "print links[0]"
   ]
  },
  {
   "cell_type": "code",
   "execution_count": 6,
   "metadata": {
    "collapsed": false
   },
   "outputs": [
    {
     "name": "stdout",
     "output_type": "stream",
     "text": [
      "<a href=\"./d12qgrdzfbg/201603/t20160318_369509.html\" target=\"_blank\" title=\"2016年政府工作报告\">2016年政府工作报告</a>\n"
     ]
    }
   ],
   "source": [
    "print links[0].a"
   ]
  },
  {
   "cell_type": "code",
   "execution_count": 7,
   "metadata": {
    "collapsed": false
   },
   "outputs": [
    {
     "name": "stdout",
     "output_type": "stream",
     "text": [
      "./d12qgrdzfbg/201603/t20160318_369509.html\n"
     ]
    }
   ],
   "source": [
    "print links[0].a['href']"
   ]
  },
  {
   "cell_type": "code",
   "execution_count": 8,
   "metadata": {
    "collapsed": false
   },
   "outputs": [
    {
     "name": "stdout",
     "output_type": "stream",
     "text": [
      "[u'', u'd12qgrdzfbg/201603/t20160318_369509.html']\n"
     ]
    }
   ],
   "source": [
    "print links[0].a['href'].split('./')"
   ]
  },
  {
   "cell_type": "code",
   "execution_count": 9,
   "metadata": {
    "collapsed": false
   },
   "outputs": [
    {
     "name": "stdout",
     "output_type": "stream",
     "text": [
      "d12qgrdzfbg/201603/t20160318_369509.html\n"
     ]
    }
   ],
   "source": [
    "print links[0].a['href'].split('./')[1]"
   ]
  },
  {
   "cell_type": "code",
   "execution_count": 10,
   "metadata": {
    "collapsed": false
   },
   "outputs": [
    {
     "name": "stdout",
     "output_type": "stream",
     "text": [
      "http://www.hprc.org.cn/wxzl/wxysl/lczf/d12qgrdzfbg/201603/t20160318_369509.html\n"
     ]
    }
   ],
   "source": [
    "print url + links[0].a['href'].split('./')[1]   #得到第一个link的完整网址"
   ]
  },
  {
   "cell_type": "code",
   "execution_count": 11,
   "metadata": {
    "collapsed": false
   },
   "outputs": [
    {
     "data": {
      "text/plain": [
       "[u'http://www.hprc.org.cn/wxzl/wxysl/lczf/d12qgrdzfbg/201603/t20160318_369509.html',\n",
       " u'http://www.hprc.org.cn/wxzl/wxysl/lczf/d12qgrdzfbg/201503/t20150318_319434.html',\n",
       " u'http://www.hprc.org.cn/wxzl/wxysl/lczf/d12qgrdzfbg/201403/t20140315_270863.html',\n",
       " u'http://www.hprc.org.cn/wxzl/wxysl/lczf/d12qgrdzfbg/201402/t20140214_266528.html',\n",
       " u'http://www.hprc.org.cn/wxzl/wxysl/lczf/dishiyijie/201402/t20140214_266527.html',\n",
       " u'http://www.hprc.org.cn/wxzl/wxysl/lczf/dishiyijie/201103/t20110315_153641.html',\n",
       " u'http://www.hprc.org.cn/wxzl/wxysl/lczf/dishiyijie/201003/t20100315_44772.html',\n",
       " u'http://www.hprc.org.cn/wxzl/wxysl/lczf/dishiyijie/200908/t20090817_27504.html',\n",
       " u'http://www.hprc.org.cn/wxzl/wxysl/lczf/dishiyijie/200908/t20090817_27495.html',\n",
       " u'http://www.hprc.org.cn/wxzl/wxysl/lczf/dishiyijie_1/200908/t20090818_27775.html',\n",
       " u'http://www.hprc.org.cn/wxzl/wxysl/lczf/dishiyijie_1/200908/t20090818_27765.html',\n",
       " u'http://www.hprc.org.cn/wxzl/wxysl/lczf/dishiyijie_1/200908/t20090818_27757.html',\n",
       " u'http://www.hprc.org.cn/wxzl/wxysl/lczf/dishiyijie_1/200908/t20090818_27756.html',\n",
       " u'http://www.hprc.org.cn/wxzl/wxysl/lczf/dishiyijie_1/200908/t20090818_27753.html',\n",
       " u'http://www.hprc.org.cn/wxzl/wxysl/lczf/dishiyijie_2/200908/t20090818_27744.html',\n",
       " u'http://www.hprc.org.cn/wxzl/wxysl/lczf/dishiyijie_2/200908/t20090818_27741.html',\n",
       " u'http://www.hprc.org.cn/wxzl/wxysl/lczf/dishiyijie_2/200908/t20090818_27738.html',\n",
       " u'http://www.hprc.org.cn/wxzl/wxysl/lczf/dishiyijie_2/200908/t20090818_27737.html',\n",
       " u'http://www.hprc.org.cn/wxzl/wxysl/lczf/dishiyijie_2/200908/t20090818_27736.html',\n",
       " u'http://www.hprc.org.cn/wxzl/wxysl/lczf/dishiyijie_3/200908/t20090818_27709.html',\n",
       " u'http://www.hprc.org.cn/wxzl/wxysl/lczf/dishiyijie_3/200908/t20090818_27708.html',\n",
       " u'http://www.hprc.org.cn/wxzl/wxysl/lczf/dishiyijie_3/200908/t20090818_27707.html',\n",
       " u'http://www.hprc.org.cn/wxzl/wxysl/lczf/dishiyijie_3/200908/t20090818_27706.html',\n",
       " u'http://www.hprc.org.cn/wxzl/wxysl/lczf/dishiyijie_3/200908/t20090818_27705.html',\n",
       " u'http://www.hprc.org.cn/wxzl/wxysl/lczf/dishiyijie_4/200908/t20090818_27702.html',\n",
       " u'http://www.hprc.org.cn/wxzl/wxysl/lczf/dishiyijie_4/200908/t20090818_27700.html',\n",
       " u'http://www.hprc.org.cn/wxzl/wxysl/lczf/dishiyijie_4/200908/t20090818_27699.html',\n",
       " u'http://www.hprc.org.cn/wxzl/wxysl/lczf/dishiyijie_4/200908/t20090818_27678.html',\n",
       " u'http://www.hprc.org.cn/wxzl/wxysl/lczf/dishiyijie_4/200908/t20090818_27644.html',\n",
       " u'http://www.hprc.org.cn/wxzl/wxysl/lczf/dishiyijie_5/200908/t20090818_27642.html',\n",
       " u'http://www.hprc.org.cn/wxzl/wxysl/lczf/dishiyijie_5/200908/t20090818_27640.html',\n",
       " u'http://www.hprc.org.cn/wxzl/wxysl/lczf/dishiyijie_5/200908/t20090818_27616.html',\n",
       " u'http://www.hprc.org.cn/wxzl/wxysl/lczf/dishiyijie_5/200908/t20090818_27615.html',\n",
       " u'http://www.hprc.org.cn/wxzl/wxysl/lczf/dishiyijie_5/200908/t20090818_27614.html',\n",
       " u'http://www.hprc.org.cn/wxzl/wxysl/lczf/dishiyijie_6/200908/t20090818_27613.html',\n",
       " u'http://www.hprc.org.cn/wxzl/wxysl/lczf/dishiyijie_6/200908/t20090818_27612.html',\n",
       " u'http://www.hprc.org.cn/wxzl/wxysl/lczf/dishiyijie_6/200908/t20090818_27611.html',\n",
       " u'http://www.hprc.org.cn/wxzl/wxysl/lczf/dishiyijie_6/200908/t20090818_27567.html',\n",
       " u'http://www.hprc.org.cn/wxzl/wxysl/lczf/dishiyijie_6/200908/t20090818_27566.html',\n",
       " u'http://www.hprc.org.cn/wxzl/wxysl/lczf/dishiyijie_7/200908/t20090818_27565.html',\n",
       " u'http://www.hprc.org.cn/wxzl/wxysl/lczf/dishiyijie_8/200908/t20090818_27564.html',\n",
       " u'http://www.hprc.org.cn/wxzl/wxysl/lczf/dishiyijie_9/200908/t20090818_27562.html',\n",
       " u'http://www.hprc.org.cn/wxzl/wxysl/lczf/dishiyijie_9/200908/t20090818_27563.html',\n",
       " u'http://www.hprc.org.cn/wxzl/wxysl/lczf/dishiyijie_10/200908/t20090818_27561.html',\n",
       " u'http://www.hprc.org.cn/wxzl/wxysl/lczf/dishiyijie_10/200908/t20090818_27560.html',\n",
       " u'http://www.hprc.org.cn/wxzl/wxysl/lczf/dishiyijie_10/200908/t20090818_27559.html',\n",
       " u'http://www.hprc.org.cn/wxzl/wxysl/lczf/dishiyijie_10/200908/t20090818_27558.html']"
      ]
     },
     "execution_count": 11,
     "metadata": {},
     "output_type": "execute_result"
    }
   ],
   "source": [
    "#所有的link的完整网址\n",
    "hyperlinks = [url + i.a['href'].split('./')[1] for i in links]\n",
    "hyperlinks"
   ]
  },
  {
   "cell_type": "code",
   "execution_count": 12,
   "metadata": {
    "collapsed": false
   },
   "outputs": [
    {
     "data": {
      "text/plain": [
       "u'http://www.hprc.org.cn/wxzl/wxysl/lczf/dishiyijie_1/200908/t20090818_27775.html'"
      ]
     },
     "execution_count": 12,
     "metadata": {},
     "output_type": "execute_result"
    }
   ],
   "source": [
    "hyperlinks[9] # 2007年有分页"
   ]
  },
  {
   "cell_type": "code",
   "execution_count": 13,
   "metadata": {
    "collapsed": false
   },
   "outputs": [
    {
     "data": {
      "text/html": [
       "<iframe src=http://www.hprc.org.cn/wxzl/wxysl/lczf/dishiyijie_1/200908/t20090818_27775.html width=1000 height=500></iframe>"
      ],
      "text/plain": [
       "<IPython.core.display.HTML object>"
      ]
     },
     "execution_count": 13,
     "metadata": {},
     "output_type": "execute_result"
    }
   ],
   "source": [
    "from IPython.display import display_html, HTML\n",
    "HTML('<iframe src=http://www.hprc.org.cn/wxzl/wxysl/lczf/dishiyijie_1/200908/t20090818_27775.html \\\n",
    "width=1000 height=500></iframe>')\n",
    "# 2007年有分页"
   ]
  },
  {
   "cell_type": "code",
   "execution_count": 14,
   "metadata": {
    "collapsed": false
   },
   "outputs": [
    {
     "data": {
      "text/plain": [
       "<script>\\n\\nfunction add(){\\nwindow.external.AddFavorite(\"\\u4f60\\u7684\\u7f51\\u5740\",\"\\u6807\\u9898\");\\n}\\n\\n\\nfunction setHome(obj){\\nvar tmp = new Object();\\ntmp = obj;\\ntmp.style.behavior=\"url(#default#homepage)\";\\ntmp.setHomePage(\"\\u4f60\\u7684\\u7f51\\u5740\");\\n}\\n\\n</script>"
      ]
     },
     "execution_count": 14,
     "metadata": {},
     "output_type": "execute_result"
    }
   ],
   "source": [
    "url_i = 'http://www.hprc.org.cn/wxzl/wxysl/lczf/dishiyijie_1/200908/t20090818_27775.html'\n",
    "content = urllib2.urlopen(url_i).read().decode('gb18030')  \n",
    "soup = BeautifulSoup(content, 'html.parser') \n",
    "#scripts = soup.find_all('script')\n",
    "scripts=soup.select('script')\n",
    "scripts[0]"
   ]
  },
  {
   "cell_type": "code",
   "execution_count": 15,
   "metadata": {
    "collapsed": false
   },
   "outputs": [
    {
     "name": "stdout",
     "output_type": "stream",
     "text": [
      "\n",
      "\tvar currentPage = 0;//所在页从0开始\n",
      "\tvar prevPage = currentPage-1//上一页\n",
      "\tvar 下一页Page = currentPage+1//下一页\n",
      "\tvar countPage = 4//共多少页\n",
      "\t//document.write(\"共\"+countPage+\"页&nbsp;&nbsp;\");\n",
      "\t\n",
      "\t//循环\n",
      "\tvar num = 17;\n",
      "\tfor(var i=0+(currentPage-1-(currentPage-1)%num) ; i<=(num+(currentPage-1-(currentPage-1)%num))&&(i<countPage) ; i++){\n",
      "\t\tif(countPage >1){\n",
      "\t\t\tif(currentPage==i)\n",
      "\t\t\t\tdocument.write(\"【<span style=\\\"color:#FF0000;\\\" class=\\\"hui14_30_h\\\">\"+(i+1)+\"</span>】&nbsp;\");\n",
      "\t\t\telse if(i==0)\n",
      "\t\t\t\tdocument.write(\"<a href=\\\"t20090818_27775.html\\\" class=\\\"hui14_30_h\\\">【\"+(i+1)+\"】</a>&nbsp;\");\n",
      "\t\t\telse\n",
      "\t\t\t\tdocument.write(\"<a href=\\\"t20090818_27775\"+\"_\" + i + \".\"+\"html\\\" class=\\\"hui14_30_h\\\">【\"+(i+1)+\"】</a>&nbsp;\");\n",
      "\t\t}\t\n",
      "\t}\n",
      "\t\n",
      "\tdocument.write(\"<br><br>\");\n",
      "\t//设置上一页代码\n",
      "\tif(countPage>1&&currentPage!=0&&currentPage!=1)\n",
      "\t\tdocument.write(\"<a href=\\\"t20090818_27775\"+\"_\" + prevPage + \".\"+\"html\\\"><span style=\\\"color:#0033FF;font-weight:bold\\\">上一页</span></a>&nbsp;\");\n",
      "\telse if(countPage>1&&currentPage!=0&&currentPage==1)\n",
      "\t\tdocument.write(\"<a href=\\\"t20090818_27775.html\\\"><span style=\\\"color:#0033FF;font-weight:bold\\\">上一页</span></a>&nbsp;\");\n",
      "\t//else\n",
      "\t//\tdocument.write(\"上一页 &nbsp;\");\n",
      "\t\n",
      "\t\n",
      "\t//设置下一页代码 \n",
      "\tif(countPage>1&&currentPage!=(countPage-1))\n",
      "\t\tdocument.write(\"<a href=\\\"t20090818_27775\"+\"_\" + 下一页Page + \".\"+\"html\\\" ><span style=\\\"color:#0033FF;font-weight:bold\\\">下一页</span></a> &nbsp;\");\n",
      "\t//else\n",
      "\t//\tdocument.write(\"下一页 &nbsp;\");\n",
      "\t\t\t\t\t \n",
      "\t\n"
     ]
    }
   ],
   "source": [
    "print scripts[1].text"
   ]
  },
  {
   "cell_type": "code",
   "execution_count": 16,
   "metadata": {
    "collapsed": false
   },
   "outputs": [
    {
     "data": {
      "text/plain": [
       "4"
      ]
     },
     "execution_count": 16,
     "metadata": {},
     "output_type": "execute_result"
    }
   ],
   "source": [
    "countPage = int(''.join(scripts[1]).split('countPage = ')[1].split('//')[0])\n",
    "countPage"
   ]
  },
  {
   "cell_type": "code",
   "execution_count": 17,
   "metadata": {
    "collapsed": false
   },
   "outputs": [
    {
     "name": "stdout",
     "output_type": "stream",
     "text": [
      "2007\n"
     ]
    }
   ],
   "source": [
    "#year = soup.find('span', {'class', 'huang16c'}).text[:4]\n",
    "year=soup.select('.huang16c')\n",
    "print year[0].text[:4]"
   ]
  },
  {
   "cell_type": "code",
   "execution_count": 18,
   "metadata": {
    "collapsed": false,
    "scrolled": true
   },
   "outputs": [
    {
     "name": "stdout",
     "output_type": "stream",
     "text": [
      "国务院总理　温家宝\n"
     ]
    }
   ],
   "source": [
    "print soup('p')[2].text     #打印soup中元素为p的内容"
   ]
  },
  {
   "cell_type": "code",
   "execution_count": 19,
   "metadata": {
    "collapsed": true
   },
   "outputs": [],
   "source": [
    "def crawler(url_i):\n",
    "    content = urllib2.urlopen(url_i).read().decode('gb18030')  \n",
    "    soup = BeautifulSoup(content, 'html.parser') \n",
    "    year = soup.find('span', {'class', 'huang16c'}).text[:4]\n",
    "    year = int(year)\n",
    "    report = ''.join(s.text for s in soup('p'))\n",
    "    # 找到分页信息\n",
    "    scripts = soup.find_all('script')\n",
    "    countPage = int(''.join(scripts[1]).split('countPage = ')[1].split('//')[0])\n",
    "    if countPage == 1:\n",
    "        pass\n",
    "    else:\n",
    "        for i in range(1, countPage):\n",
    "            url_child = url_i.split('.html')[0] +'_'+str(i)+'.html'\n",
    "            content = urllib2.urlopen(url_child).read().decode('gb18030') \n",
    "            soup = BeautifulSoup(content) \n",
    "            report_child = ''.join(s.text for s in soup('p'))\n",
    "            report = report + report_child\n",
    "    return year, report"
   ]
  },
  {
   "cell_type": "code",
   "execution_count": 20,
   "metadata": {
    "collapsed": false
   },
   "outputs": [
    {
     "name": "stdout",
     "output_type": "stream",
     "text": [
      "2016\n",
      "2015\n",
      "2014\n",
      "2013\n",
      "2012\n"
     ]
    },
    {
     "name": "stderr",
     "output_type": "stream",
     "text": [
      "D:\\Program Files\\Anaconda\\lib\\site-packages\\bs4\\__init__.py:166: UserWarning: No parser was explicitly specified, so I'm using the best available HTML parser for this system (\"lxml\"). This usually isn't a problem, but if you run this code on another system, or in a different virtual environment, it may use a different parser and behave differently.\n",
      "\n",
      "To get rid of this warning, change this:\n",
      "\n",
      " BeautifulSoup([your markup])\n",
      "\n",
      "to this:\n",
      "\n",
      " BeautifulSoup([your markup], \"lxml\")\n",
      "\n",
      "  markup_type=markup_type))\n"
     ]
    },
    {
     "name": "stdout",
     "output_type": "stream",
     "text": [
      "2011\n",
      "2010\n",
      "2009\n",
      "2008\n",
      "2007\n",
      "2006\n",
      "2005\n",
      "2004\n",
      "2003\n",
      "2002\n",
      "2001\n",
      "2000\n",
      "1999\n",
      "1998\n",
      "1997\n",
      "1996\n",
      "1995\n",
      "1994\n",
      "1993\n",
      "1992\n",
      "1991\n",
      "1990\n",
      "1989\n",
      "1988\n",
      "1987\n",
      "1986\n",
      "1985\n",
      "1984\n",
      "1983\n",
      "1982\n",
      "1981\n",
      "1980\n",
      "1979\n",
      "1978\n",
      "1975\n",
      "1964\n",
      "1959\n",
      "1960\n",
      "1957\n",
      "1956\n",
      "1955\n",
      "1954\n"
     ]
    }
   ],
   "source": [
    "# 抓取47年政府工作报告内容\n",
    "reports = {}  #创建一个字典\n",
    "for link in hyperlinks:\n",
    "    year, report = crawler(link)\n",
    "    print year\n",
    "    reports[year] = report "
   ]
  },
  {
   "cell_type": "code",
   "execution_count": 23,
   "metadata": {
    "collapsed": false
   },
   "outputs": [],
   "source": [
    "with open('D:/program/cjc2016/homework/techwindge/homework2/gov_reports1954-2016.txt', 'wb') as f:\n",
    "    for r in reports:\n",
    "        line = str(r)+'\\t'+reports[r].replace('\\n', '\\t') +'\\n'\n",
    "        f.write(line.encode('utf-8'))"
   ]
  }
 ],
 "metadata": {
  "kernelspec": {
   "display_name": "Python 2",
   "language": "python",
   "name": "python2"
  },
  "language_info": {
   "codemirror_mode": {
    "name": "ipython",
    "version": 2
   },
   "file_extension": ".py",
   "mimetype": "text/x-python",
   "name": "python",
   "nbconvert_exporter": "python",
   "pygments_lexer": "ipython2",
   "version": "2.7.11"
  }
 },
 "nbformat": 4,
 "nbformat_minor": 0
}
