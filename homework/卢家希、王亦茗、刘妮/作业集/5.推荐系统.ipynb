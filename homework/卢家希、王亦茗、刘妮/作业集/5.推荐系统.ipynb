{
 "cells": [
  {
   "cell_type": "code",
   "execution_count": 5,
   "metadata": {
    "collapsed": true
   },
   "outputs": [],
   "source": [
    "#!/usr/bin/env python\n",
    "# coding=utf-8\n",
    "\n",
    "import codecs\n",
    "import csv\n",
    "import sys\n",
    "reload(sys)\n",
    "sys.setdefaultencoding('utf-8')\n",
    "\n",
    "class Item():\n",
    "    def __init__(self):\n",
    "        self.number = 0\n",
    "        self.link = \"\"\n",
    "        self.time = \"\"\n",
    "        self.author_id = \"\"\n",
    "        self.reply = \"\"\n",
    "        self.author = \"\""
   ]
  },
  {
   "cell_type": "code",
   "execution_count": 6,
   "metadata": {
    "collapsed": false
   },
   "outputs": [],
   "source": [
    "content = {}\n",
    "#输入路径 就是文件的路径\n",
    "csvfile = file('/Users/Oran/Desktop/finalproject/tianya_bbs_threads_network.txt', 'rb')\n",
    "reader = csv.reader(csvfile,delimiter='\\t')\n",
    "for line in reader:\n",
    "    item = Item()\n",
    "    item.number = int(line[0])\n",
    "    item.link = line[1]\n",
    "    item.time = line[2] \n",
    "    item.author_id = line[3]\n",
    "    item.author = unicode(line[4])\n",
    "    item.reply = unicode(line[5:])\n",
    "    if content.has_key(line[1]):\n",
    "      (content[line[1]].number) += int(line[0])\n",
    "    else:\n",
    "        content[line[1]] = item"
   ]
  },
  {
   "cell_type": "code",
   "execution_count": 7,
   "metadata": {
    "collapsed": false
   },
   "outputs": [],
   "source": [
    "s = 0\n",
    "for key in content:\n",
    "    s+=1\n",
    "print s\n",
    "data = []\n",
    "headers = ['number','link','time','author_id','author','reply']\n",
    "for key in content:\n",
    "    data.append((content[key].number,content[key].link,content[key].time,content[key].author_id,content[key].author.encode('utf-8'),content[key].reply.encode('utf-8')))\n",
    "\n",
    "#设置输出路径\n",
    "output =codecs.open(\"/Users/Oran/Desktop/finalproject/out.csv\",\"w\",encoding=\"utf-8\")\n",
    "f_csv = csv.writer(output)\n",
    "f_csv.writerow(headers)\n",
    "f_csv.writerows(data)"
   ]
  },
  {
   "cell_type": "code",
   "execution_count": 8,
   "metadata": {
    "collapsed": true
   },
   "outputs": [],
   "source": [
    "import graphlab\n",
    "graphlab.canvas.set_target(\"ipynb\")\n",
    "# set canvas to show sframes and sgraphs in ipython notebook\n",
    "import matplotlib.pyplot as plt\n",
    "%matplotlib inline"
   ]
  },
  {
   "cell_type": "code",
   "execution_count": 9,
   "metadata": {
    "collapsed": false
   },
   "outputs": [
    {
     "data": {
      "text/html": [
       "<pre>Finished parsing file /Users/Oran/Desktop/finalproject/out.csv</pre>"
      ],
      "text/plain": [
       "Finished parsing file /Users/Oran/Desktop/finalproject/out.csv"
      ]
     },
     "metadata": {},
     "output_type": "display_data"
    },
    {
     "data": {
      "text/html": [
       "<pre>Parsing completed. Parsed 100 lines in 0.237521 secs.</pre>"
      ],
      "text/plain": [
       "Parsing completed. Parsed 100 lines in 0.237521 secs."
      ]
     },
     "metadata": {},
     "output_type": "display_data"
    },
    {
     "data": {
      "text/html": [
       "<pre>Unable to parse line \"6,/post-develop-1417937-1.shtml,2013-08-12 11:52:00,32194432,清岚美涧,\"['\\xe5\\x9b\\x9b\\xe5\\xad\\xa3\\xe5\\xba\\xa6GDP\\xe5\\xa2\\x9e\\xe9\\x80\\x9f\\xe6\\x88\\x96\\xe7\\xa0\\xb4\"\"\\xe4\\xb8\\x83\"\" \\xe7\\x9b\\x98\\xe6\\xb4\\xbb\\xe5\\xad\\x98\\xe9\\x87\\x8f\\xe9\\x9a\\xbe\\xe8\\xa7\\xa3\\xe...\"</pre>"
      ],
      "text/plain": [
       "Unable to parse line \"6,/post-develop-1417937-1.shtml,2013-08-12 11:52:00,32194432,清岚美涧,\"['\\xe5\\x9b\\x9b\\xe5\\xad\\xa3\\xe5\\xba\\xa6GDP\\xe5\\xa2\\x9e\\xe9\\x80\\x9f\\xe6\\x88\\x96\\xe7\\xa0\\xb4\"\"\\xe4\\xb8\\x83\"\" \\xe7\\x9b\\x98\\xe6\\xb4\\xbb\\xe5\\xad\\x98\\xe9\\x87\\x8f\\xe9\\x9a\\xbe\\xe8\\xa7\\xa3\\xe...\""
      ]
     },
     "metadata": {},
     "output_type": "display_data"
    },
    {
     "data": {
      "text/html": [
       "<pre>1 lines failed to parse correctly</pre>"
      ],
      "text/plain": [
       "1 lines failed to parse correctly"
      ]
     },
     "metadata": {},
     "output_type": "display_data"
    },
    {
     "data": {
      "text/html": [
       "<pre>Finished parsing file /Users/Oran/Desktop/finalproject/out.csv</pre>"
      ],
      "text/plain": [
       "Finished parsing file /Users/Oran/Desktop/finalproject/out.csv"
      ]
     },
     "metadata": {},
     "output_type": "display_data"
    },
    {
     "data": {
      "text/html": [
       "<pre>Parsing completed. Parsed 1045 lines in 0.443128 secs.</pre>"
      ],
      "text/plain": [
       "Parsing completed. Parsed 1045 lines in 0.443128 secs."
      ]
     },
     "metadata": {},
     "output_type": "display_data"
    }
   ],
   "source": [
    "data = graphlab.SFrame.read_csv('/Users/Oran/Desktop/finalproject/out.csv', delimiter=',')"
   ]
  },
  {
   "cell_type": "code",
   "execution_count": 10,
   "metadata": {
    "collapsed": false
   },
   "outputs": [
    {
     "data": {
      "text/html": [
       "<div style=\"max-height:1000px;max-width:1500px;overflow:auto;\"><table frame=\"box\" rules=\"cols\">\n",
       "    <tr>\n",
       "        <th style=\"padding-left: 1em; padding-right: 1em; text-align: center\">number</th>\n",
       "        <th style=\"padding-left: 1em; padding-right: 1em; text-align: center\">link</th>\n",
       "        <th style=\"padding-left: 1em; padding-right: 1em; text-align: center\">time</th>\n",
       "        <th style=\"padding-left: 1em; padding-right: 1em; text-align: center\">author_id</th>\n",
       "        <th style=\"padding-left: 1em; padding-right: 1em; text-align: center\">author</th>\n",
       "        <th style=\"padding-left: 1em; padding-right: 1em; text-align: center\">reply</th>\n",
       "    </tr>\n",
       "    <tr>\n",
       "        <td style=\"padding-left: 1em; padding-right: 1em; text-align: center; vertical-align: top\">14</td>\n",
       "        <td style=\"padding-left: 1em; padding-right: 1em; text-align: center; vertical-align: top\">/post-<br>develop-1213202-1.shtml ...</td>\n",
       "        <td style=\"padding-left: 1em; padding-right: 1em; text-align: center; vertical-align: top\">2013-02-12 18:11:00</td>\n",
       "        <td style=\"padding-left: 1em; padding-right: 1em; text-align: center; vertical-align: top\">76225095</td>\n",
       "        <td style=\"padding-left: 1em; padding-right: 1em; text-align: center; vertical-align: top\">请叫我小先森ok</td>\n",
       "        <td style=\"padding-left: 1em; padding-right: 1em; text-align: center; vertical-align: top\">[\\xe5\\x9c\\xa8\\xe5\\x88\\x97<br>\\xe8\\xa1\\xa8\\xe4\\xb9\\ ...</td>\n",
       "    </tr>\n",
       "    <tr>\n",
       "        <td style=\"padding-left: 1em; padding-right: 1em; text-align: center; vertical-align: top\">1</td>\n",
       "        <td style=\"padding-left: 1em; padding-right: 1em; text-align: center; vertical-align: top\">/post-<br>develop-1509029-1.shtml ...</td>\n",
       "        <td style=\"padding-left: 1em; padding-right: 1em; text-align: center; vertical-align: top\">2014-02-17 22:43:00</td>\n",
       "        <td style=\"padding-left: 1em; padding-right: 1em; text-align: center; vertical-align: top\">87257674</td>\n",
       "        <td style=\"padding-left: 1em; padding-right: 1em; text-align: center; vertical-align: top\">ww1114</td>\n",
       "        <td style=\"padding-left: 1em; padding-right: 1em; text-align: center; vertical-align: top\">[\\xe3\\x80\\x8a2012\\xe5\\xb9<br>\\xb4\\xe5\\x9b\\xbd\\xe6\\ ...</td>\n",
       "    </tr>\n",
       "    <tr>\n",
       "        <td style=\"padding-left: 1em; padding-right: 1em; text-align: center; vertical-align: top\">329</td>\n",
       "        <td style=\"padding-left: 1em; padding-right: 1em; text-align: center; vertical-align: top\">/post-<br>develop-1659521-1.shtml ...</td>\n",
       "        <td style=\"padding-left: 1em; padding-right: 1em; text-align: center; vertical-align: top\">2014-06-26 18:52:00</td>\n",
       "        <td style=\"padding-left: 1em; padding-right: 1em; text-align: center; vertical-align: top\">65934146</td>\n",
       "        <td style=\"padding-left: 1em; padding-right: 1em; text-align: center; vertical-align: top\">7etl</td>\n",
       "        <td style=\"padding-left: 1em; padding-right: 1em; text-align: center; vertical-align: top\">[\\xe8\\x8b\\xb1\\xe5\\x9b\\xbd<br>\\xe8\\xb7\\xaf\\xe9\\x80\\ ...</td>\n",
       "    </tr>\n",
       "    <tr>\n",
       "        <td style=\"padding-left: 1em; padding-right: 1em; text-align: center; vertical-align: top\">1</td>\n",
       "        <td style=\"padding-left: 1em; padding-right: 1em; text-align: center; vertical-align: top\">/post-<br>develop-1428335-1.shtml ...</td>\n",
       "        <td style=\"padding-left: 1em; padding-right: 1em; text-align: center; vertical-align: top\">2013-09-02 11:29:00</td>\n",
       "        <td style=\"padding-left: 1em; padding-right: 1em; text-align: center; vertical-align: top\">82879555</td>\n",
       "        <td style=\"padding-left: 1em; padding-right: 1em; text-align: center; vertical-align: top\">深度唤醒coco</td>\n",
       "        <td style=\"padding-left: 1em; padding-right: 1em; text-align: center; vertical-align: top\">[\\xe9\\x87\\x8e\\xe6\\x9d\\x91<br>\\xe8\\xaf\\x81\\xe5\\x88\\ ...</td>\n",
       "    </tr>\n",
       "    <tr>\n",
       "        <td style=\"padding-left: 1em; padding-right: 1em; text-align: center; vertical-align: top\">1</td>\n",
       "        <td style=\"padding-left: 1em; padding-right: 1em; text-align: center; vertical-align: top\">/post-<br>develop-1762818-1.shtml ...</td>\n",
       "        <td style=\"padding-left: 1em; padding-right: 1em; text-align: center; vertical-align: top\">2014-08-15 14:06:00</td>\n",
       "        <td style=\"padding-left: 1em; padding-right: 1em; text-align: center; vertical-align: top\">93176219</td>\n",
       "        <td style=\"padding-left: 1em; padding-right: 1em; text-align: center; vertical-align: top\">金融八卦女</td>\n",
       "        <td style=\"padding-left: 1em; padding-right: 1em; text-align: center; vertical-align: top\">[\\xe5\\x85\\xac\\xe5\\xbc\\x80<br>\\xe8\\xb5\\x84\\xe6\\x96\\ ...</td>\n",
       "    </tr>\n",
       "    <tr>\n",
       "        <td style=\"padding-left: 1em; padding-right: 1em; text-align: center; vertical-align: top\">1</td>\n",
       "        <td style=\"padding-left: 1em; padding-right: 1em; text-align: center; vertical-align: top\">/post-<br>develop-1862843-1.shtml ...</td>\n",
       "        <td style=\"padding-left: 1em; padding-right: 1em; text-align: center; vertical-align: top\">2014-10-14 08:27:00</td>\n",
       "        <td style=\"padding-left: 1em; padding-right: 1em; text-align: center; vertical-align: top\">83228115</td>\n",
       "        <td style=\"padding-left: 1em; padding-right: 1em; text-align: center; vertical-align: top\">两针见血账号</td>\n",
       "        <td style=\"padding-left: 1em; padding-right: 1em; text-align: center; vertical-align: top\">[\\xe5\\x88\\xab\\xe6\\x8a\\x8a<br>\\xe6\\xac\\xa7\\xe7\\xbe\\ ...</td>\n",
       "    </tr>\n",
       "    <tr>\n",
       "        <td style=\"padding-left: 1em; padding-right: 1em; text-align: center; vertical-align: top\">1</td>\n",
       "        <td style=\"padding-left: 1em; padding-right: 1em; text-align: center; vertical-align: top\">/post-<br>develop-1198853-1.shtml ...</td>\n",
       "        <td style=\"padding-left: 1em; padding-right: 1em; text-align: center; vertical-align: top\">2013-01-18 16:49:00</td>\n",
       "        <td style=\"padding-left: 1em; padding-right: 1em; text-align: center; vertical-align: top\">76002565</td>\n",
       "        <td style=\"padding-left: 1em; padding-right: 1em; text-align: center; vertical-align: top\">空白点点008</td>\n",
       "        <td style=\"padding-left: 1em; padding-right: 1em; text-align: center; vertical-align: top\">[\\xe5\\x91\\xa8\\xe4\\xba\\x94<br>(1\\xe6\\x9c\\x8818\\xe6\\ ...</td>\n",
       "    </tr>\n",
       "    <tr>\n",
       "        <td style=\"padding-left: 1em; padding-right: 1em; text-align: center; vertical-align: top\">5</td>\n",
       "        <td style=\"padding-left: 1em; padding-right: 1em; text-align: center; vertical-align: top\">/post-<br>develop-2116291-1.shtml ...</td>\n",
       "        <td style=\"padding-left: 1em; padding-right: 1em; text-align: center; vertical-align: top\">2016-02-04 08:28:00</td>\n",
       "        <td style=\"padding-left: 1em; padding-right: 1em; text-align: center; vertical-align: top\">87157096</td>\n",
       "        <td style=\"padding-left: 1em; padding-right: 1em; text-align: center; vertical-align: top\">文明启迪未来</td>\n",
       "        <td style=\"padding-left: 1em; padding-right: 1em; text-align: center; vertical-align: top\">[\\xe4\\xbf\\x84\\xe7\\xbd\\x97<br>\\xe6\\x96\\xaf\\xe8\\x81\\ ...</td>\n",
       "    </tr>\n",
       "    <tr>\n",
       "        <td style=\"padding-left: 1em; padding-right: 1em; text-align: center; vertical-align: top\">4</td>\n",
       "        <td style=\"padding-left: 1em; padding-right: 1em; text-align: center; vertical-align: top\">/post-<br>develop-1291482-1.shtml ...</td>\n",
       "        <td style=\"padding-left: 1em; padding-right: 1em; text-align: center; vertical-align: top\">2013-04-25 00:04:00</td>\n",
       "        <td style=\"padding-left: 1em; padding-right: 1em; text-align: center; vertical-align: top\">78688397</td>\n",
       "        <td style=\"padding-left: 1em; padding-right: 1em; text-align: center; vertical-align: top\">大地的谎言3</td>\n",
       "        <td style=\"padding-left: 1em; padding-right: 1em; text-align: center; vertical-align: top\">[\\xe8\\xbf\\x99\\xe5\\x87\\xa0<br>\\xe5\\xa4\\xa9\\xe5\\x9b\\ ...</td>\n",
       "    </tr>\n",
       "    <tr>\n",
       "        <td style=\"padding-left: 1em; padding-right: 1em; text-align: center; vertical-align: top\">1</td>\n",
       "        <td style=\"padding-left: 1em; padding-right: 1em; text-align: center; vertical-align: top\">/post-<br>develop-1185667-1.shtml ...</td>\n",
       "        <td style=\"padding-left: 1em; padding-right: 1em; text-align: center; vertical-align: top\">2013-01-04 15:26:00</td>\n",
       "        <td style=\"padding-left: 1em; padding-right: 1em; text-align: center; vertical-align: top\">76304896</td>\n",
       "        <td style=\"padding-left: 1em; padding-right: 1em; text-align: center; vertical-align: top\">myseo168</td>\n",
       "        <td style=\"padding-left: 1em; padding-right: 1em; text-align: center; vertical-align: top\">[GDP\\xe5\\xa2\\x9e\\xe9\\x95\\<br>xbf\\xe6\\x98\\xaf\\xe4\\x ...</td>\n",
       "    </tr>\n",
       "</table>\n",
       "[10 rows x 6 columns]<br/>\n",
       "</div>"
      ],
      "text/plain": [
       "Columns:\n",
       "\tnumber\tint\n",
       "\tlink\tstr\n",
       "\ttime\tstr\n",
       "\tauthor_id\tint\n",
       "\tauthor\tstr\n",
       "\treply\tlist\n",
       "\n",
       "Rows: 10\n",
       "\n",
       "Data:\n",
       "+--------+-------------------------------+---------------------+-----------+\n",
       "| number |              link             |         time        | author_id |\n",
       "+--------+-------------------------------+---------------------+-----------+\n",
       "|   14   | /post-develop-1213202-1.shtml | 2013-02-12 18:11:00 |  76225095 |\n",
       "|   1    | /post-develop-1509029-1.shtml | 2014-02-17 22:43:00 |  87257674 |\n",
       "|  329   | /post-develop-1659521-1.shtml | 2014-06-26 18:52:00 |  65934146 |\n",
       "|   1    | /post-develop-1428335-1.shtml | 2013-09-02 11:29:00 |  82879555 |\n",
       "|   1    | /post-develop-1762818-1.shtml | 2014-08-15 14:06:00 |  93176219 |\n",
       "|   1    | /post-develop-1862843-1.shtml | 2014-10-14 08:27:00 |  83228115 |\n",
       "|   1    | /post-develop-1198853-1.shtml | 2013-01-18 16:49:00 |  76002565 |\n",
       "|   5    | /post-develop-2116291-1.shtml | 2016-02-04 08:28:00 |  87157096 |\n",
       "|   4    | /post-develop-1291482-1.shtml | 2013-04-25 00:04:00 |  78688397 |\n",
       "|   1    | /post-develop-1185667-1.shtml | 2013-01-04 15:26:00 |  76304896 |\n",
       "+--------+-------------------------------+---------------------+-----------+\n",
       "+----------------+-------------------------------+\n",
       "|     author     |             reply             |\n",
       "+----------------+-------------------------------+\n",
       "| 请叫我小先森ok | [\\xe5\\x9c\\xa8\\xe5\\x88\\x97\\... |\n",
       "|     ww1114     | [\\xe3\\x80\\x8a2012\\xe5\\xb9\\... |\n",
       "|      7etl      | [\\xe8\\x8b\\xb1\\xe5\\x9b\\xbd\\... |\n",
       "|  深度唤醒coco  | [\\xe9\\x87\\x8e\\xe6\\x9d\\x91\\... |\n",
       "|   金融八卦女   | [\\xe5\\x85\\xac\\xe5\\xbc\\x80\\... |\n",
       "|  两针见血账号  | [\\xe5\\x88\\xab\\xe6\\x8a\\x8a\\... |\n",
       "|  空白点点008   | [\\xe5\\x91\\xa8\\xe4\\xba\\x94(... |\n",
       "|  文明启迪未来  | [\\xe4\\xbf\\x84\\xe7\\xbd\\x97\\... |\n",
       "|  大地的谎言3   | [\\xe8\\xbf\\x99\\xe5\\x87\\xa0\\... |\n",
       "|    myseo168    | [GDP\\xe5\\xa2\\x9e\\xe9\\x95\\x... |\n",
       "+----------------+-------------------------------+\n",
       "[10 rows x 6 columns]"
      ]
     },
     "execution_count": 10,
     "metadata": {},
     "output_type": "execute_result"
    }
   ],
   "source": [
    "data.head()"
   ]
  },
  {
   "cell_type": "code",
   "execution_count": 11,
   "metadata": {
    "collapsed": false
   },
   "outputs": [
    {
     "data": {
      "text/plain": [
       "graphlab.data_structures.sframe.SFrame"
      ]
     },
     "execution_count": 11,
     "metadata": {},
     "output_type": "execute_result"
    }
   ],
   "source": [
    "type(data)"
   ]
  },
  {
   "cell_type": "code",
   "execution_count": 12,
   "metadata": {
    "collapsed": true
   },
   "outputs": [],
   "source": [
    "(train_set, test_set) = data.random_split(0.95, seed=1)\n"
   ]
  },
  {
   "cell_type": "code",
   "execution_count": 13,
   "metadata": {
    "collapsed": false
   },
   "outputs": [
    {
     "data": {
      "text/html": [
       "<pre>Recsys training: model = item_similarity</pre>"
      ],
      "text/plain": [
       "Recsys training: model = item_similarity"
      ]
     },
     "metadata": {},
     "output_type": "display_data"
    },
    {
     "data": {
      "text/html": [
       "<pre>Warning: Ignoring columns time, author_id, reply;</pre>"
      ],
      "text/plain": [
       "Warning: Ignoring columns time, author_id, reply;"
      ]
     },
     "metadata": {},
     "output_type": "display_data"
    },
    {
     "data": {
      "text/html": [
       "<pre>    To use these columns in scoring predictions, use a model that allows the use of additional features.</pre>"
      ],
      "text/plain": [
       "    To use these columns in scoring predictions, use a model that allows the use of additional features."
      ]
     },
     "metadata": {},
     "output_type": "display_data"
    },
    {
     "data": {
      "text/html": [
       "<pre>Preparing data set.</pre>"
      ],
      "text/plain": [
       "Preparing data set."
      ]
     },
     "metadata": {},
     "output_type": "display_data"
    },
    {
     "data": {
      "text/html": [
       "<pre>    Data has 994 observations with 766 users and 994 items.</pre>"
      ],
      "text/plain": [
       "    Data has 994 observations with 766 users and 994 items."
      ]
     },
     "metadata": {},
     "output_type": "display_data"
    },
    {
     "data": {
      "text/html": [
       "<pre>    Data prepared in: 0.018782s</pre>"
      ],
      "text/plain": [
       "    Data prepared in: 0.018782s"
      ]
     },
     "metadata": {},
     "output_type": "display_data"
    },
    {
     "data": {
      "text/html": [
       "<pre>Computing item similarity statistics:</pre>"
      ],
      "text/plain": [
       "Computing item similarity statistics:"
      ]
     },
     "metadata": {},
     "output_type": "display_data"
    },
    {
     "data": {
      "text/html": [
       "<pre>Computing most similar items for 994 items:</pre>"
      ],
      "text/plain": [
       "Computing most similar items for 994 items:"
      ]
     },
     "metadata": {},
     "output_type": "display_data"
    },
    {
     "data": {
      "text/html": [
       "<pre>Finished training in 1.01955s</pre>"
      ],
      "text/plain": [
       "Finished training in 1.01955s"
      ]
     },
     "metadata": {},
     "output_type": "display_data"
    },
    {
     "data": {
      "text/html": [
       "<pre>Finished prediction in 0.002944s</pre>"
      ],
      "text/plain": [
       "Finished prediction in 0.002944s"
      ]
     },
     "metadata": {},
     "output_type": "display_data"
    }
   ],
   "source": [
    "m = graphlab.item_similarity_recommender.create(train_set, 'author', 'link', 'number',similarity_type='pearson')"
   ]
  },
  {
   "cell_type": "code",
   "execution_count": 14,
   "metadata": {
    "collapsed": false
   },
   "outputs": [
    {
     "data": {
      "text/plain": [
       "Class                           : ItemSimilarityRecommender\n",
       "\n",
       "Schema\n",
       "------\n",
       "User ID                         : author\n",
       "Item ID                         : link\n",
       "Target                          : number\n",
       "Additional observation features : 0\n",
       "Number of user side features    : 0\n",
       "Number of item side features    : 0\n",
       "\n",
       "Statistics\n",
       "----------\n",
       "Number of observations          : 994\n",
       "Number of users                 : 766\n",
       "Number of items                 : 994\n",
       "\n",
       "Training summary\n",
       "----------------\n",
       "Training time                   : 1.0205\n",
       "\n",
       "Model Parameters\n",
       "----------------\n",
       "Model class                     : ItemSimilarityRecommender\n",
       "only_top_k                      : 100\n",
       "threshold                       : 0.001\n",
       "similarity_type                 : pearson\n",
       "training_method                 : auto"
      ]
     },
     "execution_count": 14,
     "metadata": {},
     "output_type": "execute_result"
    }
   ],
   "source": [
    "m #建立好基于物的相似性的推荐模型"
   ]
  },
  {
   "cell_type": "code",
   "execution_count": 16,
   "metadata": {
    "collapsed": false
   },
   "outputs": [
    {
     "data": {
      "text/html": [
       "<div style=\"max-height:1000px;max-width:1500px;overflow:auto;\"><table frame=\"box\" rules=\"cols\">\n",
       "    <tr>\n",
       "        <th style=\"padding-left: 1em; padding-right: 1em; text-align: center\">author</th>\n",
       "        <th style=\"padding-left: 1em; padding-right: 1em; text-align: center\">link</th>\n",
       "        <th style=\"padding-left: 1em; padding-right: 1em; text-align: center\">score</th>\n",
       "        <th style=\"padding-left: 1em; padding-right: 1em; text-align: center\">rank</th>\n",
       "    </tr>\n",
       "    <tr>\n",
       "        <td style=\"padding-left: 1em; padding-right: 1em; text-align: center; vertical-align: top\">请叫我小先森ok</td>\n",
       "        <td style=\"padding-left: 1em; padding-right: 1em; text-align: center; vertical-align: top\">/post-<br>develop-1923322-1.shtml ...</td>\n",
       "        <td style=\"padding-left: 1em; padding-right: 1em; text-align: center; vertical-align: top\">128035.0</td>\n",
       "        <td style=\"padding-left: 1em; padding-right: 1em; text-align: center; vertical-align: top\">1</td>\n",
       "    </tr>\n",
       "    <tr>\n",
       "        <td style=\"padding-left: 1em; padding-right: 1em; text-align: center; vertical-align: top\">请叫我小先森ok</td>\n",
       "        <td style=\"padding-left: 1em; padding-right: 1em; text-align: center; vertical-align: top\">/post-<br>develop-1639936-1.shtml ...</td>\n",
       "        <td style=\"padding-left: 1em; padding-right: 1em; text-align: center; vertical-align: top\">6439.0</td>\n",
       "        <td style=\"padding-left: 1em; padding-right: 1em; text-align: center; vertical-align: top\">2</td>\n",
       "    </tr>\n",
       "    <tr>\n",
       "        <td style=\"padding-left: 1em; padding-right: 1em; text-align: center; vertical-align: top\">请叫我小先森ok</td>\n",
       "        <td style=\"padding-left: 1em; padding-right: 1em; text-align: center; vertical-align: top\">/post-<br>develop-1983718-1.shtml ...</td>\n",
       "        <td style=\"padding-left: 1em; padding-right: 1em; text-align: center; vertical-align: top\">5052.0</td>\n",
       "        <td style=\"padding-left: 1em; padding-right: 1em; text-align: center; vertical-align: top\">3</td>\n",
       "    </tr>\n",
       "    <tr>\n",
       "        <td style=\"padding-left: 1em; padding-right: 1em; text-align: center; vertical-align: top\">请叫我小先森ok</td>\n",
       "        <td style=\"padding-left: 1em; padding-right: 1em; text-align: center; vertical-align: top\">/post-<br>develop-1088940-1.shtml ...</td>\n",
       "        <td style=\"padding-left: 1em; padding-right: 1em; text-align: center; vertical-align: top\">2093.0</td>\n",
       "        <td style=\"padding-left: 1em; padding-right: 1em; text-align: center; vertical-align: top\">4</td>\n",
       "    </tr>\n",
       "    <tr>\n",
       "        <td style=\"padding-left: 1em; padding-right: 1em; text-align: center; vertical-align: top\">请叫我小先森ok</td>\n",
       "        <td style=\"padding-left: 1em; padding-right: 1em; text-align: center; vertical-align: top\">/post-<br>develop-2061944-1.shtml ...</td>\n",
       "        <td style=\"padding-left: 1em; padding-right: 1em; text-align: center; vertical-align: top\">1971.0</td>\n",
       "        <td style=\"padding-left: 1em; padding-right: 1em; text-align: center; vertical-align: top\">5</td>\n",
       "    </tr>\n",
       "    <tr>\n",
       "        <td style=\"padding-left: 1em; padding-right: 1em; text-align: center; vertical-align: top\">请叫我小先森ok</td>\n",
       "        <td style=\"padding-left: 1em; padding-right: 1em; text-align: center; vertical-align: top\">/post-<br>develop-1492471-1.shtml ...</td>\n",
       "        <td style=\"padding-left: 1em; padding-right: 1em; text-align: center; vertical-align: top\">1409.0</td>\n",
       "        <td style=\"padding-left: 1em; padding-right: 1em; text-align: center; vertical-align: top\">6</td>\n",
       "    </tr>\n",
       "    <tr>\n",
       "        <td style=\"padding-left: 1em; padding-right: 1em; text-align: center; vertical-align: top\">请叫我小先森ok</td>\n",
       "        <td style=\"padding-left: 1em; padding-right: 1em; text-align: center; vertical-align: top\">/post-<br>develop-1684254-1.shtml ...</td>\n",
       "        <td style=\"padding-left: 1em; padding-right: 1em; text-align: center; vertical-align: top\">1362.0</td>\n",
       "        <td style=\"padding-left: 1em; padding-right: 1em; text-align: center; vertical-align: top\">7</td>\n",
       "    </tr>\n",
       "    <tr>\n",
       "        <td style=\"padding-left: 1em; padding-right: 1em; text-align: center; vertical-align: top\">请叫我小先森ok</td>\n",
       "        <td style=\"padding-left: 1em; padding-right: 1em; text-align: center; vertical-align: top\">/post-<br>develop-1415891-1.shtml ...</td>\n",
       "        <td style=\"padding-left: 1em; padding-right: 1em; text-align: center; vertical-align: top\">476.0</td>\n",
       "        <td style=\"padding-left: 1em; padding-right: 1em; text-align: center; vertical-align: top\">8</td>\n",
       "    </tr>\n",
       "    <tr>\n",
       "        <td style=\"padding-left: 1em; padding-right: 1em; text-align: center; vertical-align: top\">请叫我小先森ok</td>\n",
       "        <td style=\"padding-left: 1em; padding-right: 1em; text-align: center; vertical-align: top\">/post-<br>develop-2094568-1.shtml ...</td>\n",
       "        <td style=\"padding-left: 1em; padding-right: 1em; text-align: center; vertical-align: top\">394.0</td>\n",
       "        <td style=\"padding-left: 1em; padding-right: 1em; text-align: center; vertical-align: top\">9</td>\n",
       "    </tr>\n",
       "    <tr>\n",
       "        <td style=\"padding-left: 1em; padding-right: 1em; text-align: center; vertical-align: top\">请叫我小先森ok</td>\n",
       "        <td style=\"padding-left: 1em; padding-right: 1em; text-align: center; vertical-align: top\">/post-<br>develop-1659521-1.shtml ...</td>\n",
       "        <td style=\"padding-left: 1em; padding-right: 1em; text-align: center; vertical-align: top\">329.0</td>\n",
       "        <td style=\"padding-left: 1em; padding-right: 1em; text-align: center; vertical-align: top\">10</td>\n",
       "    </tr>\n",
       "</table>\n",
       "[20 rows x 4 columns]<br/>Note: Only the head of the SFrame is printed.<br/>You can use print_rows(num_rows=m, num_columns=n) to print more rows and columns.\n",
       "</div>"
      ],
      "text/plain": [
       "Columns:\n",
       "\tauthor\tstr\n",
       "\tlink\tstr\n",
       "\tscore\tfloat\n",
       "\trank\tint\n",
       "\n",
       "Rows: 20\n",
       "\n",
       "Data:\n",
       "+----------------+-------------------------------+----------+------+\n",
       "|     author     |              link             |  score   | rank |\n",
       "+----------------+-------------------------------+----------+------+\n",
       "| 请叫我小先森ok | /post-develop-1923322-1.shtml | 128035.0 |  1   |\n",
       "| 请叫我小先森ok | /post-develop-1639936-1.shtml |  6439.0  |  2   |\n",
       "| 请叫我小先森ok | /post-develop-1983718-1.shtml |  5052.0  |  3   |\n",
       "| 请叫我小先森ok | /post-develop-1088940-1.shtml |  2093.0  |  4   |\n",
       "| 请叫我小先森ok | /post-develop-2061944-1.shtml |  1971.0  |  5   |\n",
       "| 请叫我小先森ok | /post-develop-1492471-1.shtml |  1409.0  |  6   |\n",
       "| 请叫我小先森ok | /post-develop-1684254-1.shtml |  1362.0  |  7   |\n",
       "| 请叫我小先森ok | /post-develop-1415891-1.shtml |  476.0   |  8   |\n",
       "| 请叫我小先森ok | /post-develop-2094568-1.shtml |  394.0   |  9   |\n",
       "| 请叫我小先森ok | /post-develop-1659521-1.shtml |  329.0   |  10  |\n",
       "+----------------+-------------------------------+----------+------+\n",
       "[20 rows x 4 columns]\n",
       "Note: Only the head of the SFrame is printed.\n",
       "You can use print_rows(num_rows=m, num_columns=n) to print more rows and columns."
      ]
     },
     "execution_count": 16,
     "metadata": {},
     "output_type": "execute_result"
    }
   ],
   "source": [
    "m.recommend(users=['请叫我小先森ok'], k=20)   #给“请叫我小先森ok”用户推荐打分前20的帖子"
   ]
  },
  {
   "cell_type": "code",
   "execution_count": null,
   "metadata": {
    "collapsed": true
   },
   "outputs": [],
   "source": []
  }
 ],
 "metadata": {
  "kernelspec": {
   "display_name": "Python 2",
   "language": "python",
   "name": "python2"
  },
  "language_info": {
   "codemirror_mode": {
    "name": "ipython",
    "version": 2
   },
   "file_extension": ".py",
   "mimetype": "text/x-python",
   "name": "python",
   "nbconvert_exporter": "python",
   "pygments_lexer": "ipython2",
   "version": "2.7.11"
  }
 },
 "nbformat": 4,
 "nbformat_minor": 0
}
