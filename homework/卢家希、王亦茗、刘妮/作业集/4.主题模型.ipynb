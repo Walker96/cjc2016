{
 "cells": [
  {
   "cell_type": "markdown",
   "metadata": {},
   "source": [
    "# 对天涯论坛“GDP”相关帖子的标题建立主题模型"
   ]
  },
  {
   "cell_type": "markdown",
   "metadata": {},
   "source": [
    "## 1.加载相关数据包"
   ]
  },
  {
   "cell_type": "code",
   "execution_count": 49,
   "metadata": {
    "collapsed": true
   },
   "outputs": [],
   "source": [
    "import sys\n",
    "import jieba.analyse"
   ]
  },
  {
   "cell_type": "markdown",
   "metadata": {},
   "source": [
    "## 2.按行读取数据"
   ]
  },
  {
   "cell_type": "code",
   "execution_count": 29,
   "metadata": {
    "collapsed": true
   },
   "outputs": [],
   "source": [
    "with open('C:/Users/admin/Desktop/finalproject/tianya_bbs_threads_list_gdp_title1.txt', 'r') as f:\n",
    "    reports1 = f.readlines()"
   ]
  },
  {
   "cell_type": "markdown",
   "metadata": {},
   "source": [
    "## 3.清洗数据"
   ]
  },
  {
   "cell_type": "code",
   "execution_count": 30,
   "metadata": {
    "collapsed": false
   },
   "outputs": [],
   "source": [
    "def clean_txt(txt):\n",
    "    for i in [u'、', u'，', u'—', u'！', u'。', u'《', u'》', u'（', u'）']:\n",
    "        txt = txt.replace(i, ' ')\n",
    "    return txt"
   ]
  },
  {
   "cell_type": "markdown",
   "metadata": {},
   "source": [
    "## 4.添加停用词"
   ]
  },
  {
   "cell_type": "code",
   "execution_count": 31,
   "metadata": {
    "collapsed": false
   },
   "outputs": [],
   "source": [
    "filename = 'C:/Users/admin/Desktop/finalproject/stopwords.txt'\n",
    "stopwords = {}\n",
    "f = open(filename, 'r')\n",
    "line = f.readline().rstrip()\n",
    "while line:\n",
    "    stopwords.setdefault(line, 0)\n",
    "    stopwords[line.decode('utf-8')] = 1\n",
    "    line = f.readline().rstrip()\n",
    "f.close()"
   ]
  },
  {
   "cell_type": "code",
   "execution_count": 32,
   "metadata": {
    "collapsed": true
   },
   "outputs": [],
   "source": [
    "def cleancntxt(txt, stopwords):\n",
    "    tfidf1000= jieba.analyse.extract_tags(txt, topK=1000, withWeight=False)\n",
    "    seg_generator = jieba.cut(txt, cut_all=False)\n",
    "    seg_list = [i for i in seg_generator if i not in stopwords]\n",
    "    seg_list = [i for i in seg_list if i != u' ']\n",
    "    seg_list = [i for i in seg_list if i in tfidf1000]\n",
    "    return(seg_list)"
   ]
  },
  {
   "cell_type": "markdown",
   "metadata": {},
   "source": [
    "## 5.主题模型预处理，词频分析"
   ]
  },
  {
   "cell_type": "code",
   "execution_count": 33,
   "metadata": {
    "collapsed": true
   },
   "outputs": [],
   "source": [
    "import gensim\n",
    "from gensim import corpora, models, similarities"
   ]
  },
  {
   "cell_type": "code",
   "execution_count": 34,
   "metadata": {
    "collapsed": false
   },
   "outputs": [
    {
     "name": "stdout",
     "output_type": "stream",
     "text": [
      "In the corpus there are 3692 unique tokens\n"
     ]
    }
   ],
   "source": [
    "processed_docs = [cleancntxt(doc, stopwords) for doc in reports1]\n",
    "word_count_dict = gensim.corpora.Dictionary(processed_docs)\n",
    "print \"In the corpus there are\", len(word_count_dict), \"unique tokens\"\n",
    "bag_of_words_corpus = [word_count_dict.doc2bow(pdoc) for pdoc in processed_docs]"
   ]
  },
  {
   "cell_type": "code",
   "execution_count": 35,
   "metadata": {
    "collapsed": false
   },
   "outputs": [],
   "source": [
    "tfidf = models.TfidfModel(bag_of_words_corpus )\n",
    "corpus_tfidf = tfidf[bag_of_words_corpus ]\n",
    "lda_model = gensim.models.LdaModel(corpus_tfidf, num_topics=20, id2word=word_count_dict, passes=10)"
   ]
  },
  {
   "cell_type": "code",
   "execution_count": 36,
   "metadata": {
    "collapsed": true
   },
   "outputs": [],
   "source": [
    "def inferTopicNumber(bag_of_words_corpus, num, word_count_dict):\n",
    "    lda_model = gensim.models.LdaModel(bag_of_words_corpus, num_topics=num, id2word=word_count_dict, passes=10)\n",
    "    _ = lda_model.print_topics(-1) #use _ for throwaway variables.\n",
    "    logperplexity = lda_model.log_perplexity(bag_of_words_corpus)\n",
    "    return logperplexity"
   ]
  },
  {
   "cell_type": "code",
   "execution_count": 37,
   "metadata": {
    "collapsed": false
   },
   "outputs": [],
   "source": [
    "perplexity_list = [inferTopicNumber(bag_of_words_corpus, num, word_count_dict) for num in [5, 15, 20, 25, 30, 35, 40 ]]"
   ]
  },
  {
   "cell_type": "code",
   "execution_count": 52,
   "metadata": {
    "collapsed": true
   },
   "outputs": [],
   "source": [
    "import matplotlib.pyplot as plt\n",
    "%matplotlib inline"
   ]
  },
  {
   "cell_type": "code",
   "execution_count": 53,
   "metadata": {
    "collapsed": false
   },
   "outputs": [
    {
     "data": {
      "text/plain": [
       "[<matplotlib.lines.Line2D at 0x10f35fd0>]"
      ]
     },
     "execution_count": 53,
     "metadata": {},
     "output_type": "execute_result"
    },
    {
     "data": {
      "image/png": "[encoded data removed]",
      "text/plain": [
       "<matplotlib.figure.Figure at 0x15d47eb8>"
      ]
     },
     "metadata": {},
     "output_type": "display_data"
    }
   ],
   "source": [
    "plt.plot([5, 15, 20, 25, 30, 35, 40], perplexity_list)"
   ]
  },
  {
   "cell_type": "code",
   "execution_count": 54,
   "metadata": {
    "collapsed": false
   },
   "outputs": [
    {
     "data": {
      "text/plain": [
       "[(0,\n",
       "  u'0.006*\\u589e\\u957f + 0.004*\\u4e2d\\u56fd + 0.004*2013 + 0.004*\\u8f6c\\u8f7d + 0.003*2014 + 0.003*\\u5e94\\u8be5 + 0.003*\\u4eba\\u7c7b + 0.003*\\u7ecf\\u6d4e + 0.003*\\u8fd8\\u662f + 0.003*\\u5e73\\u7a33'),\n",
       " (1,\n",
       "  u'0.009*\\u4ebf\\u7f8e\\u5143 + 0.008*\\u4e09\\u5341\\u516d\\u4e07 + 0.007*\\u6211\\u56fd + 0.007*\\u603b\\u91cf + 0.006*\\u4eba\\u5747 + 0.005*\\u8fbe\\u5230 + 0.004*\\u8ba1\\u7b97 + 0.003*\\u4e2d\\u56fd + 0.003*\\u8f6c\\u8f7d + 0.003*\\u5168\\u56fd'),\n",
       " (2,\n",
       "  u'0.005*\\u4e2d\\u56fd + 0.005*\\u8f6c\\u8f7d + 0.004*\\u7ecf\\u6d4e + 0.004*\\u6570\\u636e + 0.004*\\u589e\\u957f + 0.004*2013 + 0.004*\\u9884\\u6d4b + 0.004*\\u4e16\\u754c + 0.003*\\u4f4e\\u4f30 + 0.003*\\u4ec0\\u4e48'),\n",
       " (3,\n",
       "  u'0.005*\\u4e2d\\u56fd + 0.004*\\u8f6c\\u8f7d + 0.004*\\u660e\\u5e74 + 0.004*\\u5de5\\u4f5c + 0.004*\\u589e\\u901f + 0.004*gdp + 0.003*\\u65e5\\u672c + 0.003*7.5 + 0.003*\\u4f1a\\u8bae + 0.003*\\u4e2d\\u592e'),\n",
       " (4,\n",
       "  u'0.004*\\u4e2d\\u56fd + 0.004*\\u589e\\u901f + 0.003*... + 0.003*\\u7701\\u4efd + 0.003*\\u62a5\\u544a + 0.003*147 + 0.003*\\u56fd\\u5bb6 + 0.003*\\u589e\\u957f + 0.003*\\u4e0b\\u9650 + 0.003*\\u5173\\u952e'),\n",
       " (5,\n",
       "  u'0.005*\\u8f6c\\u8f7d + 0.004*\\u4e0a\\u534a\\u5e74 + 0.004*\\u589e\\u901f + 0.004*\\u7f8e\\u56fd + 0.004*\\u589e\\u957f + 0.003*\\u4e00\\u5b63\\u5ea6 + 0.003*\\u4e3a\\u4f55 + 0.003*30 + 0.003*7.4 + 0.003*\\u540c\\u6bd4'),\n",
       " (6,\n",
       "  u'0.005*\\u8f6c\\u8f7d + 0.004*\\u6211\\u56fd + 0.004*\\u7f8e\\u56fd + 0.004*\\u4eba\\u5747 + 0.003*... + 0.003*\\u4e07\\u4ebf + 0.003*\\u4e2d\\u56fd + 0.003*\\u589e\\u957f + 0.003*\\u53ef\\u80fd + 0.003*\\u7edf\\u8ba1'),\n",
       " (7,\n",
       "  u'0.005*\\u6700\\u540e + 0.005*\\u4e2d\\u56fd + 0.005*\\u589e\\u957f + 0.004*\\u5723\\u8bde\\u8282 + 0.004*\\u6f6e\\u6765 + 0.004*\\u4e00\\u640f + 0.004*\\u9886\\u8854 + 0.004*\\u8f6c\\u8f7d + 0.004*\\u5e02\\u573a + 0.004*\\u82f1\\u7f8e'),\n",
       " (8,\n",
       "  u'0.004*gdp + 0.004*\\u4e2d\\u56fd + 0.003*\\u4e07\\u4ebf + 0.003*\\u771f\\u5b9e + 0.003*\\u8f6c\\u8f7d + 0.003*\\u57ce\\u5e02 + 0.003*\\u4ee3\\u4ef7 + 0.003*\\u62a5\\u544a + 0.003*500 + 0.003*10'),\n",
       " (9,\n",
       "  u'0.006*\\u4e2d\\u56fd + 0.005*\\u8f6c\\u8f7d + 0.004*\\u7f8e\\u56fd + 0.004*... + 0.004*\\u589e\\u901f + 0.003*\\u4e8c\\u5b63\\u5ea6 + 0.003*\\u589e\\u957f + 0.003*gdp + 0.003*\\u4e3a\\u4ec0\\u4e48 + 0.003*\\u7ecf\\u6d4e'),\n",
       " (10,\n",
       "  u'0.004*... + 0.004*\\u4f4e\\u4e8e + 0.003*\\u4eca\\u5e74 + 0.003*\\u4e2d\\u56fd + 0.003*\\u589e\\u901f + 0.003*215 + 0.003*\\u4ec0\\u4e48 + 0.003*\\u7279\\u8272 + 0.003*\\u589e\\u957f + 0.003*8.5'),\n",
       " (11,\n",
       "  u'0.007*\\u8f6c\\u8f7d + 0.005*\\u4e2d\\u56fd + 0.004*\\u4eba\\u5747 + 0.004*\\u7ecf\\u6d4e\\u4f53 + 0.004*\\u4e16\\u754c + 0.003*\\u7701\\u4efd + 0.003*\\u4e3a\\u4ec0\\u4e48 + 0.003*24 + 0.003*\\u660e\\u5e74 + 0.003*2020'),\n",
       " (12,\n",
       "  u'0.005*\\u516c\\u5e03 + 0.005*\\u8f6c\\u8f7d + 0.005*\\u589e\\u901f + 0.005*\\u4eca\\u65e5 + 0.004*\\u4e16\\u754c + 0.004*\\u6570\\u636e + 0.004*\\u4e09\\u5b63\\u5ea6 + 0.004*\\u4e2d\\u56fd + 0.004*\\u7b2c\\u4e00 + 0.004*\\u603b\\u91cf'),\n",
       " (13,\n",
       "  u'0.005*\\u8f6c\\u8f7d + 0.005*\\u7ecf\\u6d4e + 0.004*\\u4eba\\u5747 + 0.004*\\u4e2d\\u56fd + 0.004*\\u589e\\u901f + 0.003*\\u6570\\u636e + 0.003*\\u8d21\\u732e + 0.003*\\u76ee\\u6807 + 0.003*\\u4e3a\\u4f55 + 0.003*\\u5b9e\\u73b0'),\n",
       " (14,\n",
       "  u'0.005*\\u4e2d\\u56fd + 0.004*\\u6295\\u8d44 + 0.004*\\u65b0\\u4f4e + 0.004*Masterforex + 0.004*\\u7f8e\\u56fd + 0.004*\\u589e\\u957f + 0.003*20 + 0.003*... + 0.003*2015 + 0.003*2012'),\n",
       " (15,\n",
       "  u'0.005*\\u589e\\u957f + 0.004*\\u4eba\\u5747 + 0.004*\\u8f6c\\u8f7d + 0.004*\\u4e2d\\u56fd + 0.004*\\u7f8e\\u56fd + 0.003*\\u7ecf\\u6d4e + 0.003*\\u5173\\u6ce8 + 0.003*\\u5b9e\\u9645 + 0.003*......... + 0.003*\\u56fd\\u5bb6'),\n",
       " (16,\n",
       "  u'0.004*\\u66b4\\u5931 + 0.004*\\u89e3\\u7801 + 0.004*\\u65e5\\u672c + 0.004*\\u4e09\\u5b63\\u5ea6 + 0.004*\\u4e07\\u4ebf\\u7f8e\\u5143 + 0.003*\\u8fd8\\u662f + 0.003*... + 0.003*\\u6838\\u7b97 + 0.003*2013 + 0.003*\\u4e2d\\u56fd'),\n",
       " (17,\n",
       "  u'0.006*\\u589e\\u901f + 0.005*\\u8f6c\\u8f7d + 0.005*\\u6570\\u636e + 0.005*\\u4e2d\\u56fd + 0.005*... + 0.004*7.7 + 0.004*\\u4e00\\u5b63\\u5ea6 + 0.004*\\u589e\\u957f + 0.004*\\u5404\\u5730 + 0.004*\\u6ce8\\u6c34'),\n",
       " (18,\n",
       "  u'0.004*\\u63d0\\u632f + 0.004*\\u589e\\u957f + 0.003*\\u8f6c\\u8f7d + 0.003*\\u5916\\u6c47 + 0.003*\\u600e\\u4e48 + 0.003*267 + 0.003*\\u9884\\u793a + 0.003*224 + 0.003*102 + 0.003*\\u80a1\\u5e02'),\n",
       " (19,\n",
       "  u'0.006*\\u589e\\u901f + 0.005*\\u4e2d\\u56fd + 0.005*\\u8f6c\\u8f7d + 0.004*\\u589e\\u957f + 0.004*\\u7ecf\\u6d4e + 0.004*\\u4e09\\u5b63\\u5ea6 + 0.004*\\u653e\\u7f13 + 0.003*\\u7f8e\\u5143 + 0.003*... + 0.003*\\u53cd\\u5f39')]"
      ]
     },
     "execution_count": 54,
     "metadata": {},
     "output_type": "execute_result"
    }
   ],
   "source": [
    "topictermlist = lda_model.print_topics(-1)\n",
    "topictermlist"
   ]
  },
  {
   "cell_type": "code",
   "execution_count": 55,
   "metadata": {
    "collapsed": false
   },
   "outputs": [],
   "source": [
    "topictermlist = lda_model.print_topics(-1)\n",
    "topictermlist1 = list(topictermlist)"
   ]
  },
  {
   "cell_type": "code",
   "execution_count": 56,
   "metadata": {
    "collapsed": false
   },
   "outputs": [
    {
     "data": {
      "text/plain": [
       "[1,\n",
       " u'0.009*\\u4ebf\\u7f8e\\u5143 + 0.008*\\u4e09\\u5341\\u516d\\u4e07 + 0.007*\\u6211\\u56fd + 0.007*\\u603b\\u91cf + 0.006*\\u4eba\\u5747 + 0.005*\\u8fbe\\u5230 + 0.004*\\u8ba1\\u7b97 + 0.003*\\u4e2d\\u56fd + 0.003*\\u8f6c\\u8f7d + 0.003*\\u5168\\u56fd']"
      ]
     },
     "execution_count": 56,
     "metadata": {},
     "output_type": "execute_result"
    }
   ],
   "source": [
    "top2=[list(i) for i in topictermlist1]\n",
    "top2[1]"
   ]
  },
  {
   "cell_type": "code",
   "execution_count": 57,
   "metadata": {
    "collapsed": true
   },
   "outputs": [],
   "source": [
    "top3=[str(i) for i in topictermlist1]"
   ]
  },
  {
   "cell_type": "code",
   "execution_count": 18,
   "metadata": {
    "collapsed": false
   },
   "outputs": [
    {
     "name": "stdout",
     "output_type": "stream",
     "text": [
      "2015 \\u7f8e\\u56fd 6.9 \\u8f6c\\u8f7d \\u589e\\u901f \\u624d\\u80fd 25 \\u5c45\\u5b89\\u601d\\u5371 \\u8749\\u8054 \\u51a0\\u519b')\n",
      "\n",
      "\\u589e\\u957f \\u4e2d\\u56fd \\u8f6c\\u8f7d \\u4e09\\u5b63\\u5ea6 7.7 \\u8fd8\\u662f \\u6570\\u636e \\u5173\\u6ce8 \\u7f8e\\u56fd \\u8d85\\u8fc7')\n",
      "\n",
      "... \\u4e00\\u5b63\\u5ea6 \\u589e\\u901f \\u4e2d\\u56fd \\u8f6c\\u8f7d CPI \\u5de6\\u53f3 \\u7ecf\\u6d4e 14 \\u4eca\\u5e74')\n",
      "\n",
      "\\u8f6c\\u8f7d \\u4e2d\\u56fd \\u6570\\u636e \\u589e\\u901f \\u9886\\u8854 \\u6f6e\\u6765 \\u4e00\\u640f \\u5723\\u8bde\\u8282 2013 \\u5168\\u56fd')\n",
      "\n",
      "\\u4e2d\\u56fd \\u76ee\\u6807 \\u8f6c\\u8f7d \\u4eba\\u5747 \\u82f1\\u56fd \\u9ec4\\u91d1 2013 \\u589e\\u957f \\u8d85\\u8fc7 829')\n",
      "\n",
      "\\u7ecf\\u6d4e \\u4e2d\\u56fd 2012 \\u6570\\u636e \\u8f6c\\u8f7d ... \\u589e\\u957f \\u4ec0\\u4e48 \\u56fd\\u5bb6 gdp')\n",
      "\n",
      "\\u589e\\u957f \\u8f6c\\u8f7d \\u4e3a\\u4ec0\\u4e48 \\u4eba\\u5747 \\u7ecf\\u6d4e \\u4eba\\u7c7b \\u4e2d\\u56fd \\u9ec4\\u91d1 \\u5e7f\\u4e1c 1017')\n",
      "\n",
      "\\u589e\\u901f \\u8f6c\\u8f7d \\u4e2d\\u56fd \\u805a\\u7126 \\u7ecf\\u6d4e \\u4ee5\\u4e0a \\u4e0d\\u80fd \\u589e\\u957f 6.8 \\u8fc7\\u5269')\n",
      "\n",
      "\\u4eba\\u5747 \\u4e2d\\u56fd \\u6392\\u540d ... \\u9884\\u671f 31 \\u57ce\\u5e02 \\u623f\\u4ef7 \\u516c\\u5e03 Q1')\n",
      "\n",
      "\\u8f6c\\u8f7d \\u4e2d\\u56fd \\u5404\\u7701 \\u4e00\\u4e2a \\u7f8e\\u56fd \\u540c\\u6bd4 \\u4ec0\\u4e48 \\u4e00\\u5b63\\u5ea6 \\u9020\\u5047 \\u5f88\\u5927')\n",
      "\n",
      "\\u8f6c\\u8f7d \\u7f8e\\u56fd \\u6570\\u636e \\u4e2d\\u56fd ... \\u589e\\u957f \\u589e\\u901f \\u7f8e\\u5143 \\u5173\\u6ce8 \\u6307\\u5f15')\n",
      "\n",
      "\\u5730\\u65b9 \\u623f\\u4ef7 \\u5168\\u56fd \\u6ce8\\u6c34 \\u6253\\u67b6 \\u6570\\u636e \\u4eba\\u5747 \\u8f6c\\u8f7d \\u5440\\u5440 \\u95ee\\u9898')\n",
      "\n",
      "\\u8f6c\\u8f7d 2014 \\u7f8e\\u5143 \\u4e2d\\u56fd \\u589e\\u957f \\u7f8e\\u56fd \\u5206\\u6790 \\u589e\\u901f \\u7ecf\\u6d4e \\u4eba\\u5747')\n",
      "\n",
      "\\u4e2d\\u56fd \\u589e\\u901f \\u7ecf\\u6d4e \\u4e16\\u754c gdp \\u8f6c\\u8f7d \\u4f4e\\u4f30 7.5 \\u6c34\\u5206 \\u7f8e\\u56fd')\n",
      "\n",
      "\\u8f6c\\u8f7d \\u6392\\u540d \\u589e\\u901f \\u4eba\\u5747 \\u7701\\u4efd \\u7f8e\\u56fd \\u4e2d\\u56fd \\u660e\\u5e74 \\u6765\\u8bf4 24')\n",
      "\n",
      "\\u4e2d\\u56fd \\u589e\\u957f ... \\u7ecf\\u6d4e 7.5 \\u4e3a\\u4ec0\\u4e48 \\u8f6c\\u8f7d \\u6570\\u5b57 \\u672a\\u6765 2025')\n",
      "\n",
      "\\u4e2d\\u56fd \\u589e\\u901f \\u8f6c\\u8f7d \\u9886\\u8dd1 \\u7f18\\u4f55 \\u9ed4\\u5357\\u5dde \\u8d35\\u5dde \\u5168\\u56fd \\u6211\\u56fd \\u5927\\u57ce\\u5e02')\n",
      "\n",
      "\\u6211\\u56fd \\u8fbe\\u5230 \\u603b\\u91cf \\u4ebf\\u7f8e\\u5143 \\u4e09\\u5341\\u516d\\u4e07 \\u589e\\u957f gdp \\u8f6c\\u8f7d \\u4e16\\u754c \\u7b2c\\u4e00')\n",
      "\n",
      "\\u589e\\u957f ... \\u8f6c\\u8f7d \\u5168\\u7403 \\u7b2c\\u4e00 \\u5de5\\u4f5c \\u4e3a\\u4ec0\\u4e48 \\u56fd\\u5bb6 \\u7f8e\\u56fd 609')\n",
      "\n",
      "\\u4eba\\u5747 \\u8f6c\\u8f7d \\u4e2d\\u56fd \\u7ecf\\u6d4e \\u589e\\u957f 1990 \\u53bb\\u5e74 \\u9c9c\\u6709 \\u706b\\u7bad\\u5f0f \\u611f\\u53d7')\n",
      "\n"
     ]
    }
   ],
   "source": [
    "top_words = [[j.split('*')[1] for j in i.split(' + ')] for i in top3]\n",
    "for i in top_words: print \" \".join(i) + '\\n'"
   ]
  },
  {
   "cell_type": "code",
   "execution_count": 58,
   "metadata": {
    "collapsed": false
   },
   "outputs": [],
   "source": [
    "import numpy as np\n",
    "\n",
    "top_words_shares = [map(float, i) for i in top_words_shares]\n",
    "def weightvalue(x):\n",
    "    return (x - np.min(top_words_shares))*40/(np.max(top_words_shares) -np.min(top_words_shares)) + 10\n",
    " \n",
    "top_words_shares = [map(weightvalue, i) for i in top_words_shares]  \n",
    "\n",
    "def plotTopics(mintopics, maxtopics):\n",
    "    num_top_words = 10\n",
    "    plt.rcParams['figure.figsize'] = (10.0, 4.0)  \n",
    "    n = 0\n",
    "    for t in range(mintopics , maxtopics):\n",
    "        plt.subplot(2, 15, n + 1)  # plot numbering starts with 1\n",
    "        plt.ylim(0, num_top_words)  # stretch the y-axis to accommodate the words\n",
    "        plt.xticks([])  # remove x-axis markings ('ticks')\n",
    "        plt.yticks([]) # remove y-axis markings ('ticks')\n",
    "        plt.title(u'主题 #{}'.format(t+1), size = 5)\n",
    "        words = top_words[t][0:num_top_words ]\n",
    "        words_shares = top_words_shares[t][0:num_top_words ]\n",
    "        for i, (word, share) in enumerate(zip(words, words_shares)):\n",
    "            plt.text(0.05, num_top_words-i-0.9, word, fontsize= np.log(share*10))\n",
    "        n += 1"
   ]
  },
  {
   "cell_type": "code",
   "execution_count": 24,
   "metadata": {
    "collapsed": false,
    "scrolled": false
   },
   "outputs": [
    {
     "name": "stdout",
     "output_type": "stream",
     "text": [
      "(0, u'0.008*2015\n",
      "0.007*美国\n",
      "0.006*6.9\n",
      "0.006*转载\n",
      "0.005*增速\n",
      "0.005*才能\n",
      "0.005*25\n",
      "0.005*居安思危\n",
      "0.005*蝉联\n",
      "0.005*冠军')\n",
      "(1, u'0.006*增长\n",
      "0.005*中国\n",
      "0.004*转载\n",
      "0.003*三季度\n",
      "0.003*7.7\n",
      "0.003*还是\n",
      "0.003*数据\n",
      "0.003*关注\n",
      "0.003*美国\n",
      "0.003*超过')\n",
      "(2, u'0.005*...\n",
      "0.004*一季度\n",
      "0.004*增速\n",
      "0.004*中国\n",
      "0.004*转载\n",
      "0.004*CPI\n",
      "0.004*左右\n",
      "0.003*经济\n",
      "0.003*14\n",
      "0.003*今年')\n",
      "(3, u'0.005*转载\n",
      "0.004*中国\n",
      "0.004*数据\n",
      "0.004*增速\n",
      "0.004*领衔\n",
      "0.004*潮来\n",
      "0.004*一搏\n",
      "0.004*圣诞节\n",
      "0.004*2013\n",
      "0.004*全国')\n",
      "(4, u'0.004*中国\n",
      "0.003*目标\n",
      "0.003*转载\n",
      "0.003*人均\n",
      "0.003*英国\n",
      "0.003*黄金\n",
      "0.003*2013\n",
      "0.003*增长\n",
      "0.003*超过\n",
      "0.003*829')\n",
      "(5, u'0.007*经济\n",
      "0.006*中国\n",
      "0.005*2012\n",
      "0.004*数据\n",
      "0.004*转载\n",
      "0.004*...\n",
      "0.003*增长\n",
      "0.003*什么\n",
      "0.003*国家\n",
      "0.003*gdp')\n",
      "(6, u'0.004*增长\n",
      "0.004*转载\n",
      "0.004*为什么\n",
      "0.003*人均\n",
      "0.003*经济\n",
      "0.003*人类\n",
      "0.003*中国\n",
      "0.003*黄金\n",
      "0.002*广东\n",
      "0.002*1017')\n",
      "(7, u'0.005*增速\n",
      "0.004*转载\n",
      "0.003*中国\n",
      "0.003*聚焦\n",
      "0.003*经济\n",
      "0.003*以上\n",
      "0.003*不能\n",
      "0.003*增长\n",
      "0.003*6.8\n",
      "0.003*过剩')\n",
      "(8, u'0.004*人均\n",
      "0.004*中国\n",
      "0.003*排名\n",
      "0.003*...\n",
      "0.003*预期\n",
      "0.003*31\n",
      "0.003*城市\n",
      "0.003*房价\n",
      "0.003*公布\n",
      "0.003*Q1')\n",
      "(9, u'0.005*转载\n",
      "0.004*中国\n",
      "0.003*各省\n",
      "0.003*一个\n",
      "0.003*美国\n",
      "0.003*同比\n",
      "0.003*什么\n",
      "0.003*一季度\n",
      "0.003*造假\n",
      "0.003*很大')\n",
      "(10, u'0.005*转载\n",
      "0.005*美国\n",
      "0.004*数据\n",
      "0.004*中国\n",
      "0.003*...\n",
      "0.003*增长\n",
      "0.003*增速\n",
      "0.003*美元\n",
      "0.003*关注\n",
      "0.003*指引')\n",
      "(11, u'0.005*地方\n",
      "0.004*房价\n",
      "0.004*全国\n",
      "0.004*注水\n",
      "0.003*打架\n",
      "0.003*数据\n",
      "0.003*人均\n",
      "0.003*转载\n",
      "0.003*呀呀\n",
      "0.002*问题')\n",
      "(12, u'0.006*转载\n",
      "0.005*2014\n",
      "0.004*美元\n",
      "0.004*中国\n",
      "0.004*增长\n",
      "0.004*美国\n",
      "0.004*分析\n",
      "0.004*增速\n",
      "0.004*经济\n",
      "0.003*人均')\n",
      "(13, u'0.006*中国\n",
      "0.004*增速\n",
      "0.004*经济\n",
      "0.004*世界\n",
      "0.004*gdp\n",
      "0.003*转载\n",
      "0.003*低估\n",
      "0.003*7.5\n",
      "0.003*水分\n",
      "0.003*美国')\n",
      "(14, u'0.004*转载\n",
      "0.004*排名\n",
      "0.004*增速\n",
      "0.004*人均\n",
      "0.004*省份\n",
      "0.004*美国\n",
      "0.004*中国\n",
      "0.003*明年\n",
      "0.003*来说\n",
      "0.003*24')\n",
      "(15, u'0.006*中国\n",
      "0.005*增长\n",
      "0.004*...\n",
      "0.004*经济\n",
      "0.003*7.5\n",
      "0.003*为什么\n",
      "0.003*转载\n",
      "0.003*数字\n",
      "0.003*未来\n",
      "0.003*2025')\n",
      "(16, u'0.007*中国\n",
      "0.006*增速\n",
      "0.005*转载\n",
      "0.004*领跑\n",
      "0.004*缘何\n",
      "0.004*黔南州\n",
      "0.004*贵州\n",
      "0.003*全国\n",
      "0.003*我国\n",
      "0.003*大城市')\n",
      "(17, u'0.009*我国\n",
      "0.009*达到\n",
      "0.008*总量\n",
      "0.007*亿美元\n",
      "0.007*三十六万\n",
      "0.005*增长\n",
      "0.004*gdp\n",
      "0.004*转载\n",
      "0.004*世界\n",
      "0.003*第一')\n",
      "(18, u'0.004*增长\n",
      "0.004*...\n",
      "0.004*转载\n",
      "0.004*全球\n",
      "0.004*第一\n",
      "0.003*工作\n",
      "0.003*为什么\n",
      "0.003*国家\n",
      "0.003*美国\n",
      "0.003*609')\n",
      "(19, u'0.004*人均\n",
      "0.004*转载\n",
      "0.004*中国\n",
      "0.004*经济\n",
      "0.003*增长\n",
      "0.003*1990\n",
      "0.003*去年\n",
      "0.003*鲜有\n",
      "0.003*火箭式\n",
      "0.003*感受')\n"
     ]
    }
   ],
   "source": [
    "for i in top3:   \n",
    "    y=str(i).split(' + ')\n",
    "    for i in y:\n",
    "        a=i.decode('unicode_escape')\n",
    "        print a"
   ]
  },
  {
   "cell_type": "markdown",
   "metadata": {},
   "source": [
    "### 由词频统计可以看出与“GDP”有关的天涯帖子中，2015年相关的帖子最多，再是“增长”、“地方”等词语。"
   ]
  },
  {
   "cell_type": "markdown",
   "metadata": {},
   "source": [
    "# 6.建立主题模型"
   ]
  },
  {
   "cell_type": "code",
   "execution_count": 59,
   "metadata": {
    "collapsed": true
   },
   "outputs": [],
   "source": [
    "import numpy as np"
   ]
  },
  {
   "cell_type": "code",
   "execution_count": 60,
   "metadata": {
    "collapsed": false
   },
   "outputs": [
    {
     "name": "stdout",
     "output_type": "stream",
     "text": [
      "[[0.0, 0.002, 0.002, 0.001, 0.001, 0.001, 0.001, 0.001, 0.001, 0.001, 0.001], [1.0, 0.0, 0.0, 0.0, 0.0, 0.0, 0.0, 0.0, 0.0, 0.0, 0.0], [2.0, 0.0, 0.0, 0.0, 0.0, 0.0, 0.0, 0.0, 0.0, 0.0, 0.0], [3.0, 0.0, 0.0, 0.0, 0.0, 0.0, 0.0, 0.0, 0.0, 0.0, 0.0], [4.0, 0.0, 0.0, 0.0, 0.0, 0.0, 0.0, 0.0, 0.0, 0.0, 0.0], [5.0, 0.0, 0.0, 0.0, 0.0, 0.0, 0.0, 0.0, 0.0, 0.0, 0.0], [6.0, 0.003, 0.001, 0.001, 0.001, 0.001, 0.001, 0.001, 0.001, 0.001, 0.001], [7.0, 0.0, 0.0, 0.0, 0.0, 0.0, 0.0, 0.0, 0.0, 0.0, 0.0], [8.0, 0.0, 0.0, 0.0, 0.0, 0.0, 0.0, 0.0, 0.0, 0.0, 0.0], [9.0, 0.0, 0.0, 0.0, 0.0, 0.0, 0.0, 0.0, 0.0, 0.0, 0.0], [10.0, 0.0, 0.0, 0.0, 0.0, 0.0, 0.0, 0.0, 0.0, 0.0, 0.0], [11.0, 0.0, 0.0, 0.0, 0.0, 0.0, 0.0, 0.0, 0.0, 0.0, 0.0], [12.0, 0.0, 0.0, 0.0, 0.0, 0.0, 0.0, 0.0, 0.0, 0.0, 0.0], [13.0, 0.0, 0.0, 0.0, 0.0, 0.0, 0.0, 0.0, 0.0, 0.0, 0.0], [14.0, 0.001, 0.001, 0.001, 0.001, 0.001, 0.001, 0.001, 0.001, 0.001, 0.001], [15.0, 0.0, 0.0, 0.0, 0.0, 0.0, 0.0, 0.0, 0.0, 0.0, 0.0], [16.0, 0.002, 0.002, 0.001, 0.001, 0.001, 0.001, 0.001, 0.001, 0.001, 0.001], [17.0, 0.0, 0.0, 0.0, 0.0, 0.0, 0.0, 0.0, 0.0, 0.0, 0.0], [18.0, 0.0, 0.0, 0.0, 0.0, 0.0, 0.0, 0.0, 0.0, 0.0, 0.0], [19.0, 0.002, 0.002, 0.002, 0.001, 0.001, 0.001, 0.001, 0.001, 0.001, 0.001]]\n"
     ]
    }
   ],
   "source": [
    "x=[]\n",
    "j=[(0, '0.002', '0.002', '0.001', '0.001', '0.001', '0.001', '0.001', '0.001', '0.001', '0.001'),\n",
    "   (1, '0.000', '0.000', '0.000', '0.000', '0.000', '0.000', '0.000', '0.000', '0.000', '0.000'),\n",
    "   (2, '0.000', '0.000', '0.000', '0.000', '0.000', '0.000', '0.000', '0.000', '0.000', '0.000'),\n",
    "   (3, '0.000', '0.000', '0.000', '0.000', '0.000', '0.000', '0.000', '0.000', '0.000', '0.000'),\n",
    "   (4, '0.000', '0.000', '0.000', '0.000', '0.000', '0.000', '0.000', '0.000', '0.000', '0.000'),\n",
    "   (5, '0.000', '0.000', '0.000', '0.000', '0.000', '0.000', '0.000', '0.000', '0.000', '0.000'),\n",
    "   (6, '0.003', '0.001', '0.001', '0.001', '0.001', '0.001', '0.001', '0.001', '0.001', '0.001'),\n",
    "   (7, '0.000', '0.000', '0.000', '0.000', '0.000', '0.000', '0.000', '0.000', '0.000', '0.000'),\n",
    "   (8, '0.000', '0.000', '0.000', '0.000', '0.000', '0.000', '0.000', '0.000', '0.000', '0.000'),\n",
    "   (9, '0.000', '0.000', '0.000', '0.000', '0.000', '0.000', '0.000', '0.000', '0.000', '0.000'),\n",
    "   (10,'0.000', '0.000', '0.000', '0.000', '0.000', '0.000', '0.000', '0.000', '0.000', '0.000'),\n",
    "   (11, '0.000', '0.000', '0.000', '0.000', '0.000', '0.000', '0.000', '0.000', '0.000', '0.000'),\n",
    "   (12, '0.000', '0.000', '0.000', '0.000', '0.000', '0.000', '0.000', '0.000', '0.000', '0.000'),\n",
    "   (13, '0.000', '0.000', '0.000', '0.000', '0.000', '0.000', '0.000', '0.000', '0.000', '0.000'),\n",
    "   (14, '0.001', '0.001', '0.001', '0.001', '0.001', '0.001', '0.001', '0.001', '0.001', '0.001'),\n",
    "   (15, '0.000', '0.000', '0.000', '0.000', '0.000', '0.000', '0.000', '0.000', '0.000', '0.000'),\n",
    "   (16, '0.002', '0.002', '0.001', '0.001', '0.001', '0.001', '0.001', '0.001', '0.001', '0.001'),\n",
    "   (17, '0.000', '0.000', '0.000', '0.000', '0.000', '0.000', '0.000', '0.000', '0.000', '0.000'),\n",
    "   (18, '0.000', '0.000', '0.000', '0.000', '0.000', '0.000', '0.000', '0.000', '0.000', '0.000'),\n",
    "   (19, '0.002', '0.002', '0.002', '0.001', '0.001', '0.001', '0.001', '0.001', '0.001', '0.001')]\n",
    "for i in j:\n",
    "    top_words_shares = map(float, i)\n",
    "    x.append(top_words_shares)\n",
    "    top_words_shares=x\n",
    "print top_words_shares\n",
    "def weightvalue(x):\n",
    "    return (x - np.min(top_words_shares))*40/(np.max(top_words_shares) -np.min(top_words_shares)) + 10\n",
    " \n",
    "top_words_shares = [map(weightvalue, i) for i in top_words_shares]  \n",
    "\n",
    "def plotTopics(mintopics, maxtopics):\n",
    "    num_top_words = 10\n",
    "    plt.rcParams['figure.figsize'] = (10.0, 4.0)  \n",
    "    n = 0\n",
    "    for t in range(mintopics , maxtopics):\n",
    "        plt.subplot(2, 15, n + 1)  # plot numbering starts with 1\n",
    "        plt.ylim(0, num_top_words)  # stretch the y-axis to accommodate the words\n",
    "        plt.xticks([])  # remove x-axis markings ('ticks')\n",
    "        plt.yticks([]) # remove y-axis markings ('ticks')\n",
    "        plt.title(u'主题 #{}'.format(t+1), size = 5)\n",
    "        words = top_words[t][0:num_top_words ]\n",
    "        words_shares = top_words_shares[t][0:num_top_words ]\n",
    "        for i, (word, share) in enumerate(zip(words, words_shares)):\n",
    "            plt.text(0.05, num_top_words-i-0.9, word, fontsize= np.log(share*10))\n",
    "        n += 1"
   ]
  },
  {
   "cell_type": "markdown",
   "metadata": {},
   "source": [
    "# 7.将主题模型显示转化为中文显示"
   ]
  },
  {
   "cell_type": "code",
   "execution_count": 67,
   "metadata": {
    "collapsed": false
   },
   "outputs": [],
   "source": [
    "import matplotlib.pyplot as plt\n",
    "import matplotlib\n",
    "zhfont1 = matplotlib.font_manager.FontProperties(fname='C:/users/admin/Desktop/finalproject/msyh.ttc')\n",
    "\n",
    "def plotTopics(mintopics, maxtopics):\n",
    "    num_top_words = 10\n",
    "    plt.rcParams['figure.figsize'] = (10.0, 4.0)  \n",
    "    n = 0\n",
    "    for t in range(mintopics , maxtopics):\n",
    "        plt.subplot(2, 15, n + 1)  \n",
    "        plt.ylim(0, num_top_words)  \n",
    "        plt.xticks([])  \n",
    "        plt.yticks([]) \n",
    "        plt.title(u'主题#%i'%t,size=10,fontproperties=zhfont1)\n",
    "        words = top_words[t][0:num_top_words ]\n",
    "        words_shares = top_words_shares[t][0:num_top_words ]\n",
    "        for i, (word, share) in enumerate(zip(words, words_shares)):\n",
    "            plt.text(0.05, num_top_words-i-0.9, word.decode('unicode_escape'), fontsize= np.log(share*10)*2,fontproperties=zhfont1)\n",
    "        n += 1"
   ]
  },
  {
   "cell_type": "code",
   "execution_count": 68,
   "metadata": {
    "collapsed": false
   },
   "outputs": [
    {
     "data": {
      "image/png": "[encoded data removed]",
      "text/plain": [
       "<matplotlib.figure.Figure at 0x14d106d8>"
      ]
     },
     "metadata": {},
     "output_type": "display_data"
    }
   ],
   "source": [
    "plotTopics(0, 10)"
   ]
  },
  {
   "cell_type": "code",
   "execution_count": 69,
   "metadata": {
    "collapsed": false
   },
   "outputs": [
    {
     "data": {
      "image/png": "[encoded data removed]",
      "text/plain": [
       "<matplotlib.figure.Figure at 0x14d1fcf8>"
      ]
     },
     "metadata": {},
     "output_type": "display_data"
    }
   ],
   "source": [
    "plotTopics(10, 20)"
   ]
  },
  {
   "cell_type": "markdown",
   "metadata": {},
   "source": [
    "### 从建立主题模型的结果上来看，关于中国、增长和地方的主题比较明显。还可以发现，一些文章在很多主题下都有更高的权重，因为他们比较长并且包含的关键词出现在不同主题里，其他一些文章在大多主题下权重都很低。"
   ]
  }
 ],
 "metadata": {
  "kernelspec": {
   "display_name": "Python 2",
   "language": "python",
   "name": "python2"
  },
  "language_info": {
   "codemirror_mode": {
    "name": "ipython",
    "version": 2
   },
   "file_extension": ".py",
   "mimetype": "text/x-python",
   "name": "python",
   "nbconvert_exporter": "python",
   "pygments_lexer": "ipython2",
   "version": "2.7.11"
  }
 },
 "nbformat": 4,
 "nbformat_minor": 0
}
